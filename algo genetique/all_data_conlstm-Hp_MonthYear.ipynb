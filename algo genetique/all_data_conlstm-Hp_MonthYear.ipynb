{
 "cells": [
  {
   "cell_type": "markdown",
   "id": "f9b6ac3c-b5e9-40e4-ae0e-0676d5a3cf85",
   "metadata": {},
   "source": [
    "## Loading the dataset"
   ]
  },
  {
   "cell_type": "code",
   "execution_count": 1,
   "id": "4c19492b-0921-44f0-ba50-faa3b7ce5bb0",
   "metadata": {},
   "outputs": [
    {
     "data": {
      "text/html": [
       "<div>\n",
       "<style scoped>\n",
       "    .dataframe tbody tr th:only-of-type {\n",
       "        vertical-align: middle;\n",
       "    }\n",
       "\n",
       "    .dataframe tbody tr th {\n",
       "        vertical-align: top;\n",
       "    }\n",
       "\n",
       "    .dataframe thead th {\n",
       "        text-align: right;\n",
       "    }\n",
       "</style>\n",
       "<table border=\"1\" class=\"dataframe\">\n",
       "  <thead>\n",
       "    <tr style=\"text-align: right;\">\n",
       "      <th></th>\n",
       "      <th>production</th>\n",
       "      <th>p_per_m2</th>\n",
       "      <th>p_max</th>\n",
       "      <th>panel_area</th>\n",
       "      <th>facade_area</th>\n",
       "      <th>total_panel_area</th>\n",
       "      <th>exploitation_ratio</th>\n",
       "      <th>air_temp_mean</th>\n",
       "      <th>air_temp_max</th>\n",
       "      <th>clearsky_ghi_mean</th>\n",
       "      <th>...</th>\n",
       "      <th>surface_pressure_mean</th>\n",
       "      <th>surface_pressure_min</th>\n",
       "      <th>surface_pressure_max</th>\n",
       "      <th>wind_direction_100m_mean</th>\n",
       "      <th>wind_direction_100m_min</th>\n",
       "      <th>wind_direction_100m_max</th>\n",
       "      <th>wind_speed_100m_mean</th>\n",
       "      <th>wind_speed_100m_min</th>\n",
       "      <th>wind_speed_100m_max</th>\n",
       "      <th>building_id</th>\n",
       "    </tr>\n",
       "  </thead>\n",
       "  <tbody>\n",
       "    <tr>\n",
       "      <th>0</th>\n",
       "      <td>0.8</td>\n",
       "      <td>143.0</td>\n",
       "      <td>210</td>\n",
       "      <td>1.72</td>\n",
       "      <td>218.0</td>\n",
       "      <td>94.6</td>\n",
       "      <td>0.434</td>\n",
       "      <td>6.255319</td>\n",
       "      <td>7</td>\n",
       "      <td>61.340426</td>\n",
       "      <td>...</td>\n",
       "      <td>1031.902128</td>\n",
       "      <td>1030.8</td>\n",
       "      <td>1034.5</td>\n",
       "      <td>256.340426</td>\n",
       "      <td>227</td>\n",
       "      <td>312</td>\n",
       "      <td>5.036170</td>\n",
       "      <td>2.2</td>\n",
       "      <td>7.4</td>\n",
       "      <td>1</td>\n",
       "    </tr>\n",
       "    <tr>\n",
       "      <th>1</th>\n",
       "      <td>16.9</td>\n",
       "      <td>143.0</td>\n",
       "      <td>210</td>\n",
       "      <td>1.72</td>\n",
       "      <td>218.0</td>\n",
       "      <td>94.6</td>\n",
       "      <td>0.434</td>\n",
       "      <td>3.375000</td>\n",
       "      <td>5</td>\n",
       "      <td>59.520833</td>\n",
       "      <td>...</td>\n",
       "      <td>1034.843750</td>\n",
       "      <td>1031.6</td>\n",
       "      <td>1038.1</td>\n",
       "      <td>317.437500</td>\n",
       "      <td>294</td>\n",
       "      <td>339</td>\n",
       "      <td>6.245833</td>\n",
       "      <td>2.0</td>\n",
       "      <td>7.6</td>\n",
       "      <td>1</td>\n",
       "    </tr>\n",
       "    <tr>\n",
       "      <th>2</th>\n",
       "      <td>1.4</td>\n",
       "      <td>143.0</td>\n",
       "      <td>210</td>\n",
       "      <td>1.72</td>\n",
       "      <td>218.0</td>\n",
       "      <td>94.6</td>\n",
       "      <td>0.434</td>\n",
       "      <td>-0.666667</td>\n",
       "      <td>2</td>\n",
       "      <td>59.916667</td>\n",
       "      <td>...</td>\n",
       "      <td>1038.256250</td>\n",
       "      <td>1037.5</td>\n",
       "      <td>1039.3</td>\n",
       "      <td>290.979167</td>\n",
       "      <td>211</td>\n",
       "      <td>345</td>\n",
       "      <td>2.154167</td>\n",
       "      <td>1.1</td>\n",
       "      <td>3.5</td>\n",
       "      <td>1</td>\n",
       "    </tr>\n",
       "    <tr>\n",
       "      <th>3</th>\n",
       "      <td>6.6</td>\n",
       "      <td>143.0</td>\n",
       "      <td>210</td>\n",
       "      <td>1.72</td>\n",
       "      <td>218.0</td>\n",
       "      <td>94.6</td>\n",
       "      <td>0.434</td>\n",
       "      <td>1.083333</td>\n",
       "      <td>3</td>\n",
       "      <td>63.166667</td>\n",
       "      <td>...</td>\n",
       "      <td>1037.075000</td>\n",
       "      <td>1035.6</td>\n",
       "      <td>1038.6</td>\n",
       "      <td>227.041667</td>\n",
       "      <td>2</td>\n",
       "      <td>359</td>\n",
       "      <td>2.637500</td>\n",
       "      <td>0.6</td>\n",
       "      <td>4.6</td>\n",
       "      <td>1</td>\n",
       "    </tr>\n",
       "    <tr>\n",
       "      <th>4</th>\n",
       "      <td>0.3</td>\n",
       "      <td>143.0</td>\n",
       "      <td>210</td>\n",
       "      <td>1.72</td>\n",
       "      <td>218.0</td>\n",
       "      <td>94.6</td>\n",
       "      <td>0.434</td>\n",
       "      <td>2.479167</td>\n",
       "      <td>4</td>\n",
       "      <td>60.812500</td>\n",
       "      <td>...</td>\n",
       "      <td>1032.722917</td>\n",
       "      <td>1031.7</td>\n",
       "      <td>1035.6</td>\n",
       "      <td>259.770833</td>\n",
       "      <td>236</td>\n",
       "      <td>287</td>\n",
       "      <td>5.212500</td>\n",
       "      <td>3.7</td>\n",
       "      <td>6.2</td>\n",
       "      <td>1</td>\n",
       "    </tr>\n",
       "  </tbody>\n",
       "</table>\n",
       "<p>5 rows × 35 columns</p>\n",
       "</div>"
      ],
      "text/plain": [
       "   production  p_per_m2  p_max  panel_area  facade_area  total_panel_area  \\\n",
       "0         0.8     143.0    210        1.72        218.0              94.6   \n",
       "1        16.9     143.0    210        1.72        218.0              94.6   \n",
       "2         1.4     143.0    210        1.72        218.0              94.6   \n",
       "3         6.6     143.0    210        1.72        218.0              94.6   \n",
       "4         0.3     143.0    210        1.72        218.0              94.6   \n",
       "\n",
       "   exploitation_ratio  air_temp_mean  air_temp_max  clearsky_ghi_mean  ...  \\\n",
       "0               0.434       6.255319             7          61.340426  ...   \n",
       "1               0.434       3.375000             5          59.520833  ...   \n",
       "2               0.434      -0.666667             2          59.916667  ...   \n",
       "3               0.434       1.083333             3          63.166667  ...   \n",
       "4               0.434       2.479167             4          60.812500  ...   \n",
       "\n",
       "   surface_pressure_mean  surface_pressure_min  surface_pressure_max  \\\n",
       "0            1031.902128                1030.8                1034.5   \n",
       "1            1034.843750                1031.6                1038.1   \n",
       "2            1038.256250                1037.5                1039.3   \n",
       "3            1037.075000                1035.6                1038.6   \n",
       "4            1032.722917                1031.7                1035.6   \n",
       "\n",
       "   wind_direction_100m_mean  wind_direction_100m_min  wind_direction_100m_max  \\\n",
       "0                256.340426                      227                      312   \n",
       "1                317.437500                      294                      339   \n",
       "2                290.979167                      211                      345   \n",
       "3                227.041667                        2                      359   \n",
       "4                259.770833                      236                      287   \n",
       "\n",
       "   wind_speed_100m_mean  wind_speed_100m_min  wind_speed_100m_max  building_id  \n",
       "0              5.036170                  2.2                  7.4            1  \n",
       "1              6.245833                  2.0                  7.6            1  \n",
       "2              2.154167                  1.1                  3.5            1  \n",
       "3              2.637500                  0.6                  4.6            1  \n",
       "4              5.212500                  3.7                  6.2            1  \n",
       "\n",
       "[5 rows x 35 columns]"
      ]
     },
     "execution_count": 1,
     "metadata": {},
     "output_type": "execute_result"
    }
   ],
   "source": [
    "import pandas as pd\n",
    "df = pd.read_csv(\"./scaled_dataset.csv\")\n",
    "df.head()"
   ]
  },
  {
   "cell_type": "markdown",
   "id": "4884091d-d900-4304-bd85-494bca99d696",
   "metadata": {},
   "source": [
    "## Preoaring the (x,y) pairs"
   ]
  },
  {
   "cell_type": "markdown",
   "id": "c92e315f-50db-4459-9b4e-48b207193796",
   "metadata": {},
   "source": [
    "### Scaling the data"
   ]
  },
  {
   "cell_type": "code",
   "execution_count": 2,
   "id": "5614cf96-d036-4107-8fec-1fb22af9a4fd",
   "metadata": {},
   "outputs": [],
   "source": [
    "from sklearn.preprocessing import MinMaxScaler\n",
    "\n",
    "\n",
    "scaler = MinMaxScaler(feature_range=(0, 1))\n",
    "data_scaled = scaler.fit_transform(df.values)"
   ]
  },
  {
   "cell_type": "markdown",
   "id": "3d1e5543-f09d-41a0-bbab-974a3d0dd1a2",
   "metadata": {},
   "source": [
    "### Creating windows"
   ]
  },
  {
   "cell_type": "code",
   "execution_count": 3,
   "id": "828b7f15-0f3d-400a-a3f2-bd986c2680d8",
   "metadata": {},
   "outputs": [],
   "source": [
    "production_column = 'production'\n",
    "\n",
    "def get_target_column_index(df, target_column):\n",
    "    for i, column in enumerate(df.columns):\n",
    "        if column == target_column:\n",
    "            return i\n",
    "\n",
    "    return -1"
   ]
  },
  {
   "cell_type": "code",
   "execution_count": 4,
   "id": "c822e6f8-d837-453f-b70c-bbf367ac8581",
   "metadata": {},
   "outputs": [],
   "source": [
    "import numpy as np\n",
    "\n",
    "def get_windows(data, window_size=10):\n",
    "    x = []\n",
    "    y = []\n",
    "\n",
    "    for i in range(window_size, len(data)):\n",
    "        x.append(data[i-window_size:i])\n",
    "        y.append(data[i][get_target_column_index(df, production_column)])\n",
    "\n",
    "    return np.array(x), np.array(y)"
   ]
  },
  {
   "cell_type": "code",
   "execution_count": 5,
   "id": "3543cb8c-621f-41cd-9017-f8fc0356ee2f",
   "metadata": {},
   "outputs": [
    {
     "data": {
      "text/plain": [
       "((10847, 24, 35), (10847,))"
      ]
     },
     "execution_count": 5,
     "metadata": {},
     "output_type": "execute_result"
    }
   ],
   "source": [
    "window_size = 2*12  # 2*1h window\n",
    "x, y = get_windows(data_scaled, window_size=window_size)\n",
    "\n",
    "x.shape, y.shape"
   ]
  },
  {
   "cell_type": "markdown",
   "id": "799e0794-8c1e-4b66-8dbd-3e2534af076a",
   "metadata": {},
   "source": [
    "### Splitting the data"
   ]
  },
  {
   "cell_type": "code",
   "execution_count": 6,
   "id": "8ce26028-3567-4237-a04a-b7ed4c0403da",
   "metadata": {},
   "outputs": [
    {
     "data": {
      "text/plain": [
       "((8696, 24, 35), (8696,), (1087, 24, 35), (1087,), (1064, 24, 35), (1064,))"
      ]
     },
     "execution_count": 6,
     "metadata": {},
     "output_type": "execute_result"
    }
   ],
   "source": [
    "train_split_index = int(0.8 * len(df))\n",
    "test_split_index = int(0.9 * len(df))\n",
    "\n",
    "x_train, y_train = x[:train_split_index], y[:train_split_index]\n",
    "x_test, y_test = x[train_split_index:test_split_index], y[train_split_index:test_split_index]\n",
    "x_val, y_val = x[test_split_index:], y[test_split_index:]\n",
    "\n",
    "x_train.shape, y_train.shape, x_test.shape, y_test.shape, x_val.shape, y_val.shape"
   ]
  },
  {
   "cell_type": "markdown",
   "id": "68e0261d-acc0-49c8-bacc-3e95052c3ddd",
   "metadata": {},
   "source": [
    "### Plotting the splits"
   ]
  },
  {
   "cell_type": "code",
   "execution_count": 7,
   "id": "2cc98741-cdf2-42dc-9758-28cbeaa75ccc",
   "metadata": {},
   "outputs": [],
   "source": [
    "import matplotlib.pyplot as plt\n",
    "\n",
    "\n",
    "def plot_time_series(timesteps, values, label, format='-^', start=0, end=None):\n",
    "    plt.plot(timesteps[start:end], values[start:end], format, label=label)\n",
    "    plt.xlabel(\"date\")\n",
    "    plt.ylabel(\"production\")\n",
    "\n",
    "    plt.legend(fontsize=14)\n",
    "    plt.grid(True)"
   ]
  },
  {
   "cell_type": "code",
   "execution_count": 8,
   "id": "1e4d350a-513b-4dec-abee-ca02a0c63714",
   "metadata": {},
   "outputs": [
    {
     "data": {
      "image/png": "[encoded data removed]",
      "text/plain": [
       "<Figure size 2000x1600 with 1 Axes>"
      ]
     },
     "metadata": {},
     "output_type": "display_data"
    }
   ],
   "source": [
    "plt.figure(figsize=(20, 16))\n",
    "\n",
    "timesteps = range(len(x_train))\n",
    "plot_time_series(timesteps=timesteps, values=y_train, label=\"Train data\")\n",
    "\n",
    "timesteps = range(len(x_train), len(x_train) + len(x_test))\n",
    "plot_time_series(timesteps=timesteps, values=y_test, label=\"Test data\")\n",
    "\n",
    "timesteps = range(len(x_train) + len(x_test),\n",
    "                  len(x_train) + len(x_test) + len(x_val))\n",
    "plot_time_series(timesteps=timesteps, values=y_val, label=\"Validation data\")"
   ]
  },
  {
   "cell_type": "markdown",
   "id": "2a30768c-58a9-40a3-83a8-39ec459bfef3",
   "metadata": {},
   "source": [
    "### Preparing the performances metrics"
   ]
  },
  {
   "cell_type": "code",
   "execution_count": 9,
   "id": "c31ce7bc-9beb-48cb-9d47-c8d0ec729933",
   "metadata": {},
   "outputs": [
    {
     "name": "stdout",
     "output_type": "stream",
     "text": [
      "WARNING:tensorflow:From C:\\Users\\peesc\\AppData\\Local\\Programs\\Python\\Python311\\Lib\\site-packages\\keras\\src\\losses.py:2976: The name tf.losses.sparse_softmax_cross_entropy is deprecated. Please use tf.compat.v1.losses.sparse_softmax_cross_entropy instead.\n",
      "\n"
     ]
    }
   ],
   "source": [
    "import tensorflow as tf\n",
    "from sklearn.metrics import r2_score"
   ]
  },
  {
   "cell_type": "code",
   "execution_count": 10,
   "id": "26a1487c-f303-4fe6-a294-f1bc1590bdcb",
   "metadata": {},
   "outputs": [],
   "source": [
    "def evaluate_model(y_true, y_pred):\n",
    "    mse = mean_squared_error(y_true, y_pred)\n",
    "    r2 = r2_score(y_true, y_pred)\n",
    "    mae = mean_absolute_error(y_true, y_pred)\n",
    "    mape = mean_absolute_percentage_error(y_true, y_pred)\n",
    "\n",
    "    return {\n",
    "        'mse': mse,\n",
    "        'r2': r2,\n",
    "        'mae': mae,\n",
    "        'mape': mape,\n",
    "    }"
   ]
  },
  {
   "cell_type": "code",
   "execution_count": 11,
   "id": "25d39e89-2f6a-4796-acd4-a100851eb388",
   "metadata": {},
   "outputs": [],
   "source": [
    "def evaluate_preds(y_true, y_pred):\n",
    "    y_true = tf.cast(y_true, dtype=tf.float32)\n",
    "    y_pred = tf.cast(y_pred, dtype=tf.float32)\n",
    "\n",
    "    mae_metric = tf.keras.metrics.MeanAbsoluteError()\n",
    "    mse_metric = tf.keras.metrics.MeanSquaredError()\n",
    "\n",
    "    mae_metric.update_state(y_true, y_pred)\n",
    "    mse_metric.update_state(y_true, y_pred)\n",
    "\n",
    "    mae = mae_metric.result().numpy()\n",
    "    mse = mse_metric.result().numpy()\n",
    "    r2 = r2_score(y_true.numpy(), y_pred.numpy())  # Assure-toi que y_true et y_pred sont des numpy arrays\n",
    "\n",
    "    return {\n",
    "        \"mae\": mae,\n",
    "        \"mse\": mse,\n",
    "        \"r2\": r2\n",
    "    }"
   ]
  },
  {
   "cell_type": "markdown",
   "id": "b091dd23-b359-4f7d-9086-52aa01750244",
   "metadata": {},
   "source": [
    "## Modeling"
   ]
  },
  {
   "cell_type": "code",
   "execution_count": 12,
   "id": "e41d3a7a-fe12-4fb2-8d53-bfd8af90a63c",
   "metadata": {},
   "outputs": [],
   "source": [
    "import os\n",
    "import tensorflow as tf\n",
    "\n",
    "from keras.layers import Dense, Dropout, LSTM, Flatten, ConvLSTM1D, MaxPool1D, GlobalMaxPool1D, Conv1D, Conv2D\n",
    "from keras.callbacks import EarlyStopping\n",
    "\n",
    "import matplotlib.pyplot as plt"
   ]
  },
  {
   "cell_type": "markdown",
   "id": "78e4f3c7-18db-470f-a25c-b522891ca857",
   "metadata": {},
   "source": [
    "### Plotting the loss"
   ]
  },
  {
   "cell_type": "code",
   "execution_count": 13,
   "id": "50aac448-442c-4bb5-8733-8a616947c50e",
   "metadata": {},
   "outputs": [],
   "source": [
    "def plot_loss(history):\n",
    "    plt.figure(figsize=(20, 8))\n",
    "\n",
    "    loss = history.history['loss']\n",
    "    val_loss = history.history['val_loss']\n",
    "    epochs = range(len(loss))\n",
    "\n",
    "    plt.plot(epochs, loss, 'b', label='Training loss')\n",
    "    plt.plot(epochs, val_loss, 'r', label='Validation loss')\n",
    "    plt.title('Training and validation loss')\n",
    "    plt.legend()\n",
    "\n",
    "    plt.show()"
   ]
  },
  {
   "cell_type": "markdown",
   "id": "88b8618c-48b8-49a0-8941-9b2508db007b",
   "metadata": {},
   "source": [
    "### Creating callbacks"
   ]
  },
  {
   "cell_type": "code",
   "execution_count": 14,
   "id": "965adcad-34ba-4eef-9b7a-77613811b525",
   "metadata": {},
   "outputs": [],
   "source": [
    "stop_early = EarlyStopping(monitor='val_loss', patience=5)\n",
    "\n",
    "\n",
    "def create_model_checkpoint(model_name, save_path=\"model_experiments\"):\n",
    "    return tf.keras.callbacks.ModelCheckpoint(filepath=os.path.join(save_path, model_name),\n",
    "                                              verbose=0,\n",
    "                                              save_best_only=True)"
   ]
  },
  {
   "cell_type": "markdown",
   "id": "6ce8ff1f-d21a-445c-ad0f-dff20fec0615",
   "metadata": {},
   "source": [
    "### Utils function"
   ]
  },
  {
   "cell_type": "code",
   "execution_count": 15,
   "id": "c93c80a3-ef8f-45a8-8603-bf7abccbe7cf",
   "metadata": {},
   "outputs": [],
   "source": [
    "def make_preds(model, input_data):\n",
    "    forecast = model.predict(input_data)\n",
    "    return tf.squeeze(forecast)"
   ]
  },
  {
   "cell_type": "markdown",
   "id": "2142904e-dfaf-400b-b058-05e5c549d9dc",
   "metadata": {},
   "source": [
    "## ConvLSTM"
   ]
  },
  {
   "cell_type": "markdown",
   "id": "8d34f641-b55f-42d9-b006-a326bf50c11b",
   "metadata": {},
   "source": [
    "#### Preparing the model"
   ]
  },
  {
   "cell_type": "code",
   "execution_count": 16,
   "id": "f9d05070-5f3a-44da-a96c-8ca6bdf4eb4a",
   "metadata": {},
   "outputs": [
    {
     "name": "stdout",
     "output_type": "stream",
     "text": [
      "(8696, 24, 35) -> (8696, 24, 1, 35)\n"
     ]
    }
   ],
   "source": [
    "x_train_conv_lstm = np.expand_dims(x_train, axis=2)\n",
    "x_val_conv_lstm = np.expand_dims(x_val, axis=2)\n",
    "x_test_conv_lstm = np.expand_dims(x_test, axis=2)\n",
    "\n",
    "print(f\"{x_train.shape} -> {x_train_conv_lstm.shape}\")"
   ]
  },
  {
   "cell_type": "code",
   "execution_count": 17,
   "id": "5d8d69b6-2f03-436a-90e5-4ff906e178de",
   "metadata": {},
   "outputs": [
    {
     "name": "stdout",
     "output_type": "stream",
     "text": [
      "WARNING:tensorflow:From C:\\Users\\peesc\\AppData\\Local\\Programs\\Python\\Python311\\Lib\\site-packages\\keras\\src\\backend.py:873: The name tf.get_default_graph is deprecated. Please use tf.compat.v1.get_default_graph instead.\n",
      "\n",
      "Model: \"model_conv_lstm.keras\"\n",
      "_________________________________________________________________\n",
      " Layer (type)                Output Shape              Param #   \n",
      "=================================================================\n",
      " conv_lstm1d (ConvLSTM1D)    (None, 24, 1, 32)         8704      \n",
      "                                                                 \n",
      " conv_lstm1d_1 (ConvLSTM1D)  (None, 1, 32)             8320      \n",
      "                                                                 \n",
      " flatten (Flatten)           (None, 32)                0         \n",
      "                                                                 \n",
      " dense (Dense)               (None, 32)                1056      \n",
      "                                                                 \n",
      " dense_1 (Dense)             (None, 1)                 33        \n",
      "                                                                 \n",
      "=================================================================\n",
      "Total params: 18113 (70.75 KB)\n",
      "Trainable params: 18113 (70.75 KB)\n",
      "Non-trainable params: 0 (0.00 Byte)\n",
      "_________________________________________________________________\n"
     ]
    }
   ],
   "source": [
    "from tensorflow.keras.layers import ConvLSTM1D, Flatten, Dense\n",
    "\n",
    "# Hyperparamètres optimisés\n",
    "filters = 32\n",
    "kernel_size = 1\n",
    "activation = 'relu'\n",
    "dense_units = 32\n",
    "learning_rate = 0.0025360526576190816\n",
    "\n",
    "tf.random.set_seed(42)\n",
    "\n",
    "input_shape = (x_train_conv_lstm.shape[1:])\n",
    "conv_lstm_model = tf.keras.Sequential([\n",
    "    ConvLSTM1D(filters=filters, kernel_size=(kernel_size,), activation=activation,\n",
    "               return_sequences=True, input_shape=input_shape),\n",
    "    ConvLSTM1D(filters=filters, kernel_size=(kernel_size,), activation=activation,\n",
    "               return_sequences=False),\n",
    "    Flatten(),\n",
    "    Dense(units=dense_units, activation='relu'),\n",
    "    Dense(1, activation=\"linear\")\n",
    "], name=\"model_conv_lstm.keras\")\n",
    "\n",
    "conv_lstm_model.compile(\n",
    "    loss=\"mae\",\n",
    "    optimizer=tf.keras.optimizers.Adam(learning_rate=learning_rate)\n",
    ")\n",
    "\n",
    "conv_lstm_model.summary()"
   ]
  },
  {
   "cell_type": "markdown",
   "id": "2430c2a0-77f9-4450-86a7-ae6678e29b3e",
   "metadata": {},
   "source": [
    "#### Training the model convlstm"
   ]
  },
  {
   "cell_type": "code",
   "execution_count": 18,
   "id": "5ec8e3ee-1f05-4196-a1d8-740dbd826aa7",
   "metadata": {},
   "outputs": [
    {
     "name": "stderr",
     "output_type": "stream",
     "text": [
      "[codecarbon INFO @ 11:23:57] [setup] RAM Tracking...\n",
      "[codecarbon INFO @ 11:23:57] [setup] CPU Tracking...\n",
      "[codecarbon WARNING @ 11:23:57] No CPU tracking mode found. Falling back on CPU constant mode. \n",
      " Windows OS detected: Please install Intel Power Gadget to measure CPU\n",
      "\n",
      "[codecarbon WARNING @ 11:23:59] We saw that you have a 12th Gen Intel(R) Core(TM) i7-12700H but we don't know it. Please contact us.\n",
      "[codecarbon INFO @ 11:23:59] CPU Model on constant consumption mode: 12th Gen Intel(R) Core(TM) i7-12700H\n",
      "[codecarbon INFO @ 11:23:59] [setup] GPU Tracking...\n",
      "[codecarbon INFO @ 11:24:00] Tracking Nvidia GPU via pynvml\n",
      "[codecarbon INFO @ 11:24:01] >>> Tracker's metadata:\n",
      "[codecarbon INFO @ 11:24:01]   Platform system: Windows-10-10.0.22631-SP0\n",
      "[codecarbon INFO @ 11:24:01]   Python version: 3.11.3\n",
      "[codecarbon INFO @ 11:24:01]   CodeCarbon version: 2.8.3\n",
      "[codecarbon INFO @ 11:24:01]   Available RAM : 31.711 GB\n",
      "[codecarbon INFO @ 11:24:01]   CPU count: 20\n",
      "[codecarbon INFO @ 11:24:01]   CPU model: 12th Gen Intel(R) Core(TM) i7-12700H\n",
      "[codecarbon INFO @ 11:24:01]   GPU count: 1\n",
      "[codecarbon INFO @ 11:24:01]   GPU model: 1 x NVIDIA GeForce RTX 3070 Ti Laptop GPU\n",
      "[codecarbon INFO @ 11:24:01] Saving emissions data to file C:\\Users\\peesc\\A4\\Projet_Recherche\\Final\\emissions\\emissions_conv_lstm.csv\n"
     ]
    }
   ],
   "source": [
    "import os\n",
    "import time\n",
    "import logging\n",
    "from codecarbon import EmissionsTracker\n",
    "\n",
    "\n",
    "os.makedirs('emissions', exist_ok=True)\n",
    "\n",
    "tracker_conv_lstm = EmissionsTracker(\n",
    "    project_name=\"PEWH\",\n",
    "    co2_signal_api_token=\"9RkoBO6iipmoq\",\n",
    "    log_level=logging.INFO,\n",
    "    output_file=\"emissions_conv_lstm.csv\",\n",
    "    output_dir='./emissions/',\n",
    "    save_to_file=True,\n",
    "    measure_power_secs=10\n",
    ")"
   ]
  },
  {
   "cell_type": "code",
   "execution_count": 19,
   "id": "c5fb7a4d-6e6b-4b1e-b76d-c69b9b7b96dd",
   "metadata": {},
   "outputs": [],
   "source": [
    "def start_training_conv_lstm():\n",
    "    start_time = time.time()\n",
    "    conv_lstm_history = conv_lstm_model.fit(x=x_train_conv_lstm,\n",
    "                                            y=y_train,\n",
    "                                            epochs=300,\n",
    "                                            verbose=1,\n",
    "                                            batch_size=512,\n",
    "                                            validation_data=(\n",
    "                                                x_val_conv_lstm, y_val),\n",
    "                                            callbacks=[create_model_checkpoint(model_name=conv_lstm_model.name)])\n",
    "    training_duration = time.time() - start_time\n",
    "\n",
    "    return conv_lstm_history, training_duration"
   ]
  },
  {
   "cell_type": "code",
   "execution_count": 20,
   "id": "9550aec7-e755-4860-afca-c2e31a77e331",
   "metadata": {},
   "outputs": [
    {
     "name": "stdout",
     "output_type": "stream",
     "text": [
      "Epoch 1/300\n",
      "WARNING:tensorflow:From C:\\Users\\peesc\\AppData\\Local\\Programs\\Python\\Python311\\Lib\\site-packages\\keras\\src\\utils\\tf_utils.py:492: The name tf.ragged.RaggedTensorValue is deprecated. Please use tf.compat.v1.ragged.RaggedTensorValue instead.\n",
      "\n"
     ]
    },
    {
     "name": "stderr",
     "output_type": "stream",
     "text": [
      "[codecarbon INFO @ 11:24:11] Energy consumed for RAM : 0.000033 kWh. RAM Power : 11.891499996185303 W\n",
      "[codecarbon INFO @ 11:24:11] Energy consumed for all CPUs : 0.000119 kWh. Total CPU Power : 42.5 W\n",
      "[codecarbon INFO @ 11:24:12] Energy consumed for all GPUs : 0.000002 kWh. Total GPU Power : 0.8641270985996438 W\n",
      "[codecarbon INFO @ 11:24:12] 0.000154 kWh of electricity used since the beginning.\n"
     ]
    },
    {
     "name": "stdout",
     "output_type": "stream",
     "text": [
      "17/17 [==============================] - 17s 230ms/step - loss: 0.0528 - val_loss: 0.0302\n",
      "Epoch 2/300\n",
      "17/17 [==============================] - 2s 135ms/step - loss: 0.0413 - val_loss: 0.0287\n",
      "Epoch 3/300\n",
      " 6/17 [=========>....................] - ETA: 1s - loss: 0.0423"
     ]
    },
    {
     "name": "stderr",
     "output_type": "stream",
     "text": [
      "[codecarbon INFO @ 11:24:21] Energy consumed for RAM : 0.000062 kWh. RAM Power : 11.891499996185303 W\n"
     ]
    },
    {
     "name": "stdout",
     "output_type": "stream",
     "text": [
      " 7/17 [===========>..................] - ETA: 1s - loss: 0.0422"
     ]
    },
    {
     "name": "stderr",
     "output_type": "stream",
     "text": [
      "[codecarbon INFO @ 11:24:21] Energy consumed for all CPUs : 0.000220 kWh. Total CPU Power : 42.5 W\n"
     ]
    },
    {
     "name": "stdout",
     "output_type": "stream",
     "text": [
      "17/17 [==============================] - 2s 117ms/step - loss: 0.0399 - val_loss: 0.0282\n",
      "Epoch 4/300\n",
      " 2/17 [==>...........................] - ETA: 1s - loss: 0.0381"
     ]
    },
    {
     "name": "stderr",
     "output_type": "stream",
     "text": [
      "[codecarbon INFO @ 11:24:22] Energy consumed for all GPUs : 0.000012 kWh. Total GPU Power : 3.9025437362026847 W\n",
      "[codecarbon INFO @ 11:24:22] 0.000294 kWh of electricity used since the beginning.\n"
     ]
    },
    {
     "name": "stdout",
     "output_type": "stream",
     "text": [
      "17/17 [==============================] - 2s 104ms/step - loss: 0.0399 - val_loss: 0.0280\n",
      "Epoch 5/300\n",
      "17/17 [==============================] - 2s 111ms/step - loss: 0.0392 - val_loss: 0.0275\n",
      "Epoch 6/300\n",
      "17/17 [==============================] - 2s 100ms/step - loss: 0.0385 - val_loss: 0.0278\n",
      "Epoch 7/300\n",
      "17/17 [==============================] - 2s 109ms/step - loss: 0.0375 - val_loss: 0.0269\n",
      "Epoch 8/300\n",
      "16/17 [===========================>..] - ETA: 0s - loss: 0.0382"
     ]
    },
    {
     "name": "stderr",
     "output_type": "stream",
     "text": [
      "[codecarbon INFO @ 11:24:31] Energy consumed for RAM : 0.000090 kWh. RAM Power : 11.891499996185303 W\n",
      "[codecarbon INFO @ 11:24:31] Energy consumed for all CPUs : 0.000322 kWh. Total CPU Power : 42.5 W\n"
     ]
    },
    {
     "name": "stdout",
     "output_type": "stream",
     "text": [
      "17/17 [==============================] - 2s 112ms/step - loss: 0.0379 - val_loss: 0.0263\n",
      "Epoch 9/300\n",
      "12/17 [====================>.........] - ETA: 0s - loss: 0.0371"
     ]
    },
    {
     "name": "stderr",
     "output_type": "stream",
     "text": [
      "[codecarbon INFO @ 11:24:32] Energy consumed for all GPUs : 0.000022 kWh. Total GPU Power : 4.239034590591379 W\n",
      "[codecarbon INFO @ 11:24:32] 0.000434 kWh of electricity used since the beginning.\n"
     ]
    },
    {
     "name": "stdout",
     "output_type": "stream",
     "text": [
      "17/17 [==============================] - 2s 95ms/step - loss: 0.0372 - val_loss: 0.0269\n",
      "Epoch 10/300\n",
      "17/17 [==============================] - 2s 108ms/step - loss: 0.0374 - val_loss: 0.0278\n",
      "Epoch 11/300\n",
      "17/17 [==============================] - 2s 115ms/step - loss: 0.0362 - val_loss: 0.0259\n",
      "Epoch 12/300\n",
      "17/17 [==============================] - 2s 112ms/step - loss: 0.0356 - val_loss: 0.0259\n",
      "Epoch 13/300\n",
      "17/17 [==============================] - 2s 117ms/step - loss: 0.0359 - val_loss: 0.0255\n",
      "Epoch 14/300\n",
      " 4/17 [======>.......................] - ETA: 1s - loss: 0.0369"
     ]
    },
    {
     "name": "stderr",
     "output_type": "stream",
     "text": [
      "[codecarbon INFO @ 11:24:41] Energy consumed for RAM : 0.000118 kWh. RAM Power : 11.891499996185303 W\n",
      "[codecarbon INFO @ 11:24:41] Energy consumed for all CPUs : 0.000424 kWh. Total CPU Power : 42.5 W\n"
     ]
    },
    {
     "name": "stdout",
     "output_type": "stream",
     "text": [
      "17/17 [==============================] - 2s 100ms/step - loss: 0.0361 - val_loss: 0.0258\n",
      "Epoch 15/300\n",
      " 1/17 [>.............................] - ETA: 1s - loss: 0.0340"
     ]
    },
    {
     "name": "stderr",
     "output_type": "stream",
     "text": [
      "[codecarbon INFO @ 11:24:42] Energy consumed for all GPUs : 0.000032 kWh. Total GPU Power : 4.030403119176307 W\n",
      "[codecarbon INFO @ 11:24:42] 0.000574 kWh of electricity used since the beginning.\n"
     ]
    },
    {
     "name": "stdout",
     "output_type": "stream",
     "text": [
      "17/17 [==============================] - 2s 104ms/step - loss: 0.0356 - val_loss: 0.0256\n",
      "Epoch 16/300\n",
      "17/17 [==============================] - 2s 107ms/step - loss: 0.0351 - val_loss: 0.0262\n",
      "Epoch 17/300\n",
      "17/17 [==============================] - 2s 109ms/step - loss: 0.0353 - val_loss: 0.0279\n",
      "Epoch 18/300\n",
      "17/17 [==============================] - 2s 108ms/step - loss: 0.0350 - val_loss: 0.0256\n",
      "Epoch 19/300\n",
      "13/17 [=====================>........] - ETA: 0s - loss: 0.0340"
     ]
    },
    {
     "name": "stderr",
     "output_type": "stream",
     "text": [
      "[codecarbon INFO @ 11:24:51] Energy consumed for RAM : 0.000147 kWh. RAM Power : 11.891499996185303 W\n",
      "[codecarbon INFO @ 11:24:51] Energy consumed for all CPUs : 0.000526 kWh. Total CPU Power : 42.5 W\n"
     ]
    },
    {
     "name": "stdout",
     "output_type": "stream",
     "text": [
      "17/17 [==============================] - 2s 108ms/step - loss: 0.0341 - val_loss: 0.0256\n",
      "Epoch 20/300\n",
      "10/17 [================>.............] - ETA: 0s - loss: 0.0337"
     ]
    },
    {
     "name": "stderr",
     "output_type": "stream",
     "text": [
      "[codecarbon INFO @ 11:24:52] Energy consumed for all GPUs : 0.000041 kWh. Total GPU Power : 4.064621770637501 W\n",
      "[codecarbon INFO @ 11:24:52] 0.000714 kWh of electricity used since the beginning.\n"
     ]
    },
    {
     "name": "stdout",
     "output_type": "stream",
     "text": [
      "17/17 [==============================] - 2s 100ms/step - loss: 0.0342 - val_loss: 0.0248\n",
      "Epoch 21/300\n",
      "17/17 [==============================] - 2s 104ms/step - loss: 0.0349 - val_loss: 0.0254\n",
      "Epoch 22/300\n",
      "17/17 [==============================] - 2s 99ms/step - loss: 0.0341 - val_loss: 0.0243\n",
      "Epoch 23/300\n",
      "17/17 [==============================] - 2s 103ms/step - loss: 0.0339 - val_loss: 0.0253\n",
      "Epoch 24/300\n",
      "17/17 [==============================] - 2s 107ms/step - loss: 0.0340 - val_loss: 0.0254\n",
      "Epoch 25/300\n",
      " 8/17 [=============>................] - ETA: 0s - loss: 0.0328"
     ]
    },
    {
     "name": "stderr",
     "output_type": "stream",
     "text": [
      "[codecarbon INFO @ 11:25:01] Energy consumed for RAM : 0.000175 kWh. RAM Power : 11.891499996185303 W\n",
      "[codecarbon INFO @ 11:25:01] Energy consumed for all CPUs : 0.000627 kWh. Total CPU Power : 42.5 W\n"
     ]
    },
    {
     "name": "stdout",
     "output_type": "stream",
     "text": [
      "17/17 [==============================] - 2s 98ms/step - loss: 0.0337 - val_loss: 0.0241\n",
      "Epoch 26/300\n",
      " 6/17 [=========>....................] - ETA: 1s - loss: 0.0337"
     ]
    },
    {
     "name": "stderr",
     "output_type": "stream",
     "text": [
      "[codecarbon INFO @ 11:25:02] Energy consumed for all GPUs : 0.000052 kWh. Total GPU Power : 4.446686065101089 W\n",
      "[codecarbon INFO @ 11:25:02] 0.000854 kWh of electricity used since the beginning.\n"
     ]
    },
    {
     "name": "stdout",
     "output_type": "stream",
     "text": [
      "17/17 [==============================] - 2s 101ms/step - loss: 0.0334 - val_loss: 0.0245\n",
      "Epoch 27/300\n",
      "17/17 [==============================] - 2s 113ms/step - loss: 0.0334 - val_loss: 0.0243\n",
      "Epoch 28/300\n",
      "17/17 [==============================] - 2s 113ms/step - loss: 0.0333 - val_loss: 0.0262\n",
      "Epoch 29/300\n",
      "17/17 [==============================] - 2s 111ms/step - loss: 0.0340 - val_loss: 0.0246\n",
      "Epoch 30/300\n",
      "16/17 [===========================>..] - ETA: 0s - loss: 0.0338"
     ]
    },
    {
     "name": "stderr",
     "output_type": "stream",
     "text": [
      "[codecarbon INFO @ 11:25:11] Energy consumed for RAM : 0.000204 kWh. RAM Power : 11.891499996185303 W\n"
     ]
    },
    {
     "name": "stdout",
     "output_type": "stream",
     "text": [
      "17/17 [==============================] - ETA: 0s - loss: 0.0337"
     ]
    },
    {
     "name": "stderr",
     "output_type": "stream",
     "text": [
      "[codecarbon INFO @ 11:25:11] Energy consumed for all CPUs : 0.000729 kWh. Total CPU Power : 42.5 W\n"
     ]
    },
    {
     "name": "stdout",
     "output_type": "stream",
     "text": [
      "17/17 [==============================] - 2s 114ms/step - loss: 0.0337 - val_loss: 0.0256\n",
      "Epoch 31/300\n",
      "12/17 [====================>.........] - ETA: 0s - loss: 0.0321"
     ]
    },
    {
     "name": "stderr",
     "output_type": "stream",
     "text": [
      "[codecarbon INFO @ 11:25:12] Energy consumed for all GPUs : 0.000062 kWh. Total GPU Power : 4.0659282992292125 W\n"
     ]
    },
    {
     "name": "stdout",
     "output_type": "stream",
     "text": [
      "13/17 [=====================>........] - ETA: 0s - loss: 0.0325"
     ]
    },
    {
     "name": "stderr",
     "output_type": "stream",
     "text": [
      "[codecarbon INFO @ 11:25:12] 0.000994 kWh of electricity used since the beginning.\n"
     ]
    },
    {
     "name": "stdout",
     "output_type": "stream",
     "text": [
      "17/17 [==============================] - 2s 101ms/step - loss: 0.0331 - val_loss: 0.0240\n",
      "Epoch 32/300\n",
      "17/17 [==============================] - 2s 111ms/step - loss: 0.0331 - val_loss: 0.0249\n",
      "Epoch 33/300\n",
      "17/17 [==============================] - 2s 101ms/step - loss: 0.0329 - val_loss: 0.0240\n",
      "Epoch 34/300\n",
      "17/17 [==============================] - 2s 115ms/step - loss: 0.0328 - val_loss: 0.0237\n",
      "Epoch 35/300\n",
      "17/17 [==============================] - 2s 110ms/step - loss: 0.0335 - val_loss: 0.0255\n",
      "Epoch 36/300\n",
      " 6/17 [=========>....................] - ETA: 1s - loss: 0.0349"
     ]
    },
    {
     "name": "stderr",
     "output_type": "stream",
     "text": [
      "[codecarbon INFO @ 11:25:21] Energy consumed for RAM : 0.000232 kWh. RAM Power : 11.891499996185303 W\n",
      "[codecarbon INFO @ 11:25:21] Energy consumed for all CPUs : 0.000831 kWh. Total CPU Power : 42.5 W\n"
     ]
    },
    {
     "name": "stdout",
     "output_type": "stream",
     "text": [
      "17/17 [==============================] - 2s 94ms/step - loss: 0.0341 - val_loss: 0.0254\n",
      "Epoch 37/300\n",
      " 4/17 [======>.......................] - ETA: 1s - loss: 0.0331"
     ]
    },
    {
     "name": "stderr",
     "output_type": "stream",
     "text": [
      "[codecarbon INFO @ 11:25:22] Energy consumed for all GPUs : 0.000071 kWh. Total GPU Power : 4.078608128507958 W\n",
      "[codecarbon INFO @ 11:25:22] 0.001134 kWh of electricity used since the beginning.\n"
     ]
    },
    {
     "name": "stdout",
     "output_type": "stream",
     "text": [
      " 7/17 [===========>..................] - ETA: 0s - loss: 0.0328"
     ]
    },
    {
     "name": "stderr",
     "output_type": "stream",
     "text": [
      "[codecarbon INFO @ 11:25:22] 0.000278 g.CO2eq/s mean an estimation of 8.778075757290765 kg.CO2eq/year\n"
     ]
    },
    {
     "name": "stdout",
     "output_type": "stream",
     "text": [
      "17/17 [==============================] - 2s 109ms/step - loss: 0.0327 - val_loss: 0.0236\n",
      "Epoch 38/300\n",
      "17/17 [==============================] - 2s 105ms/step - loss: 0.0332 - val_loss: 0.0244\n",
      "Epoch 39/300\n",
      "17/17 [==============================] - 2s 101ms/step - loss: 0.0339 - val_loss: 0.0245\n",
      "Epoch 40/300\n",
      "17/17 [==============================] - 2s 110ms/step - loss: 0.0331 - val_loss: 0.0245\n",
      "Epoch 41/300\n",
      "16/17 [===========================>..] - ETA: 0s - loss: 0.0327"
     ]
    },
    {
     "name": "stderr",
     "output_type": "stream",
     "text": [
      "[codecarbon INFO @ 11:25:31] Energy consumed for RAM : 0.000260 kWh. RAM Power : 11.891499996185303 W\n"
     ]
    },
    {
     "name": "stdout",
     "output_type": "stream",
     "text": [
      "17/17 [==============================] - ETA: 0s - loss: 0.0326"
     ]
    },
    {
     "name": "stderr",
     "output_type": "stream",
     "text": [
      "[codecarbon INFO @ 11:25:31] Energy consumed for all CPUs : 0.000933 kWh. Total CPU Power : 42.5 W\n"
     ]
    },
    {
     "name": "stdout",
     "output_type": "stream",
     "text": [
      "17/17 [==============================] - 2s 120ms/step - loss: 0.0326 - val_loss: 0.0232\n",
      "Epoch 42/300\n",
      "12/17 [====================>.........] - ETA: 0s - loss: 0.0322"
     ]
    },
    {
     "name": "stderr",
     "output_type": "stream",
     "text": [
      "[codecarbon INFO @ 11:25:32] Energy consumed for all GPUs : 0.000081 kWh. Total GPU Power : 4.101766099037341 W\n",
      "[codecarbon INFO @ 11:25:32] 0.001274 kWh of electricity used since the beginning.\n"
     ]
    },
    {
     "name": "stdout",
     "output_type": "stream",
     "text": [
      "17/17 [==============================] - 2s 101ms/step - loss: 0.0317 - val_loss: 0.0221\n",
      "Epoch 43/300\n",
      "17/17 [==============================] - 2s 110ms/step - loss: 0.0324 - val_loss: 0.0230\n",
      "Epoch 44/300\n",
      "17/17 [==============================] - 2s 108ms/step - loss: 0.0321 - val_loss: 0.0254\n",
      "Epoch 45/300\n",
      "17/17 [==============================] - 2s 113ms/step - loss: 0.0318 - val_loss: 0.0220\n",
      "Epoch 46/300\n",
      "17/17 [==============================] - 2s 109ms/step - loss: 0.0313 - val_loss: 0.0225\n",
      "Epoch 47/300\n",
      " 4/17 [======>.......................] - ETA: 1s - loss: 0.0298"
     ]
    },
    {
     "name": "stderr",
     "output_type": "stream",
     "text": [
      "[codecarbon INFO @ 11:25:41] Energy consumed for RAM : 0.000289 kWh. RAM Power : 11.891499996185303 W\n",
      "[codecarbon INFO @ 11:25:41] Energy consumed for all CPUs : 0.001034 kWh. Total CPU Power : 42.5 W\n"
     ]
    },
    {
     "name": "stdout",
     "output_type": "stream",
     "text": [
      "17/17 [==============================] - 2s 104ms/step - loss: 0.0315 - val_loss: 0.0218\n",
      "Epoch 48/300\n"
     ]
    },
    {
     "name": "stderr",
     "output_type": "stream",
     "text": [
      "[codecarbon INFO @ 11:25:42] Energy consumed for all GPUs : 0.000091 kWh. Total GPU Power : 4.109572378343331 W\n",
      "[codecarbon INFO @ 11:25:42] 0.001414 kWh of electricity used since the beginning.\n"
     ]
    },
    {
     "name": "stdout",
     "output_type": "stream",
     "text": [
      "17/17 [==============================] - 2s 106ms/step - loss: 0.0317 - val_loss: 0.0227\n",
      "Epoch 49/300\n",
      "17/17 [==============================] - 2s 112ms/step - loss: 0.0315 - val_loss: 0.0219\n",
      "Epoch 50/300\n",
      "17/17 [==============================] - 2s 114ms/step - loss: 0.0309 - val_loss: 0.0210\n",
      "Epoch 51/300\n",
      "17/17 [==============================] - 2s 109ms/step - loss: 0.0307 - val_loss: 0.0221\n",
      "Epoch 52/300\n",
      "11/17 [==================>...........] - ETA: 0s - loss: 0.0307"
     ]
    },
    {
     "name": "stderr",
     "output_type": "stream",
     "text": [
      "[codecarbon INFO @ 11:25:51] Energy consumed for RAM : 0.000317 kWh. RAM Power : 11.891499996185303 W\n",
      "[codecarbon INFO @ 11:25:51] Energy consumed for all CPUs : 0.001136 kWh. Total CPU Power : 42.5 W\n"
     ]
    },
    {
     "name": "stdout",
     "output_type": "stream",
     "text": [
      "17/17 [==============================] - 2s 110ms/step - loss: 0.0308 - val_loss: 0.0207\n",
      "Epoch 53/300\n",
      " 7/17 [===========>..................] - ETA: 0s - loss: 0.0311"
     ]
    },
    {
     "name": "stderr",
     "output_type": "stream",
     "text": [
      "[codecarbon INFO @ 11:25:52] Energy consumed for all GPUs : 0.000101 kWh. Total GPU Power : 4.122095343051538 W\n",
      "[codecarbon INFO @ 11:25:52] 0.001554 kWh of electricity used since the beginning.\n"
     ]
    },
    {
     "name": "stdout",
     "output_type": "stream",
     "text": [
      "17/17 [==============================] - 2s 104ms/step - loss: 0.0302 - val_loss: 0.0203\n",
      "Epoch 54/300\n",
      "17/17 [==============================] - 2s 115ms/step - loss: 0.0302 - val_loss: 0.0198\n",
      "Epoch 55/300\n",
      "17/17 [==============================] - 2s 112ms/step - loss: 0.0305 - val_loss: 0.0212\n",
      "Epoch 56/300\n",
      "17/17 [==============================] - 2s 111ms/step - loss: 0.0305 - val_loss: 0.0209\n",
      "Epoch 57/300\n",
      "17/17 [==============================] - ETA: 0s - loss: 0.0301"
     ]
    },
    {
     "name": "stderr",
     "output_type": "stream",
     "text": [
      "[codecarbon INFO @ 11:26:01] Energy consumed for RAM : 0.000346 kWh. RAM Power : 11.891499996185303 W\n",
      "[codecarbon INFO @ 11:26:01] Energy consumed for all CPUs : 0.001238 kWh. Total CPU Power : 42.5 W\n"
     ]
    },
    {
     "name": "stdout",
     "output_type": "stream",
     "text": [
      "17/17 [==============================] - 2s 110ms/step - loss: 0.0301 - val_loss: 0.0200\n",
      "Epoch 58/300\n",
      "14/17 [=======================>......] - ETA: 0s - loss: 0.0298"
     ]
    },
    {
     "name": "stderr",
     "output_type": "stream",
     "text": [
      "[codecarbon INFO @ 11:26:02] Energy consumed for all GPUs : 0.000111 kWh. Total GPU Power : 4.100057543554766 W\n",
      "[codecarbon INFO @ 11:26:02] 0.001694 kWh of electricity used since the beginning.\n"
     ]
    },
    {
     "name": "stdout",
     "output_type": "stream",
     "text": [
      "17/17 [==============================] - 2s 93ms/step - loss: 0.0295 - val_loss: 0.0205\n",
      "Epoch 59/300\n",
      "17/17 [==============================] - 2s 107ms/step - loss: 0.0293 - val_loss: 0.0204\n",
      "Epoch 60/300\n",
      "17/17 [==============================] - 2s 111ms/step - loss: 0.0299 - val_loss: 0.0208\n",
      "Epoch 61/300\n",
      "17/17 [==============================] - 2s 107ms/step - loss: 0.0296 - val_loss: 0.0204\n",
      "Epoch 62/300\n",
      "17/17 [==============================] - 2s 110ms/step - loss: 0.0300 - val_loss: 0.0201\n",
      "Epoch 63/300\n",
      " 8/17 [=============>................] - ETA: 0s - loss: 0.0289"
     ]
    },
    {
     "name": "stderr",
     "output_type": "stream",
     "text": [
      "[codecarbon INFO @ 11:26:11] Energy consumed for RAM : 0.000374 kWh. RAM Power : 11.891499996185303 W\n",
      "[codecarbon INFO @ 11:26:11] Energy consumed for all CPUs : 0.001340 kWh. Total CPU Power : 42.5 W\n"
     ]
    },
    {
     "name": "stdout",
     "output_type": "stream",
     "text": [
      "17/17 [==============================] - 2s 105ms/step - loss: 0.0295 - val_loss: 0.0203\n",
      "Epoch 64/300\n",
      " 4/17 [======>.......................] - ETA: 1s - loss: 0.0301"
     ]
    },
    {
     "name": "stderr",
     "output_type": "stream",
     "text": [
      "[codecarbon INFO @ 11:26:12] Energy consumed for all GPUs : 0.000121 kWh. Total GPU Power : 4.1131471365235335 W\n",
      "[codecarbon INFO @ 11:26:12] 0.001834 kWh of electricity used since the beginning.\n"
     ]
    },
    {
     "name": "stdout",
     "output_type": "stream",
     "text": [
      "17/17 [==============================] - 2s 105ms/step - loss: 0.0296 - val_loss: 0.0196\n",
      "Epoch 65/300\n",
      "17/17 [==============================] - 2s 114ms/step - loss: 0.0292 - val_loss: 0.0209\n",
      "Epoch 66/300\n",
      "17/17 [==============================] - 2s 116ms/step - loss: 0.0295 - val_loss: 0.0194\n",
      "Epoch 67/300\n",
      "17/17 [==============================] - 2s 116ms/step - loss: 0.0288 - val_loss: 0.0187\n",
      "Epoch 68/300\n",
      "13/17 [=====================>........] - ETA: 0s - loss: 0.0290"
     ]
    },
    {
     "name": "stderr",
     "output_type": "stream",
     "text": [
      "[codecarbon INFO @ 11:26:21] Energy consumed for RAM : 0.000402 kWh. RAM Power : 11.891499996185303 W\n",
      "[codecarbon INFO @ 11:26:21] Energy consumed for all CPUs : 0.001441 kWh. Total CPU Power : 42.5 W\n"
     ]
    },
    {
     "name": "stdout",
     "output_type": "stream",
     "text": [
      "17/17 [==============================] - 2s 112ms/step - loss: 0.0291 - val_loss: 0.0196\n",
      "Epoch 69/300\n",
      " 9/17 [==============>...............] - ETA: 0s - loss: 0.0304"
     ]
    },
    {
     "name": "stderr",
     "output_type": "stream",
     "text": [
      "[codecarbon INFO @ 11:26:22] Energy consumed for all GPUs : 0.000131 kWh. Total GPU Power : 4.155173922166062 W\n",
      "[codecarbon INFO @ 11:26:22] 0.001974 kWh of electricity used since the beginning.\n"
     ]
    },
    {
     "name": "stdout",
     "output_type": "stream",
     "text": [
      "17/17 [==============================] - 2s 99ms/step - loss: 0.0298 - val_loss: 0.0187\n",
      "Epoch 70/300\n",
      "17/17 [==============================] - 2s 108ms/step - loss: 0.0297 - val_loss: 0.0187\n",
      "Epoch 71/300\n",
      "17/17 [==============================] - 2s 111ms/step - loss: 0.0297 - val_loss: 0.0196\n",
      "Epoch 72/300\n",
      "17/17 [==============================] - 2s 119ms/step - loss: 0.0288 - val_loss: 0.0183\n",
      "Epoch 73/300\n",
      "17/17 [==============================] - 2s 110ms/step - loss: 0.0280 - val_loss: 0.0185\n",
      "Epoch 74/300\n"
     ]
    },
    {
     "name": "stderr",
     "output_type": "stream",
     "text": [
      "[codecarbon INFO @ 11:26:31] Energy consumed for RAM : 0.000431 kWh. RAM Power : 11.891499996185303 W\n",
      "[codecarbon INFO @ 11:26:31] Energy consumed for all CPUs : 0.001543 kWh. Total CPU Power : 42.5 W\n"
     ]
    },
    {
     "name": "stdout",
     "output_type": "stream",
     "text": [
      "16/17 [===========================>..] - ETA: 0s - loss: 0.0284"
     ]
    },
    {
     "name": "stderr",
     "output_type": "stream",
     "text": [
      "[codecarbon INFO @ 11:26:32] Energy consumed for all GPUs : 0.000141 kWh. Total GPU Power : 4.160120555687778 W\n",
      "[codecarbon INFO @ 11:26:32] 0.002114 kWh of electricity used since the beginning.\n"
     ]
    },
    {
     "name": "stdout",
     "output_type": "stream",
     "text": [
      "17/17 [==============================] - 2s 101ms/step - loss: 0.0280 - val_loss: 0.0182\n",
      "Epoch 75/300\n",
      "17/17 [==============================] - 2s 110ms/step - loss: 0.0279 - val_loss: 0.0184\n",
      "Epoch 76/300\n",
      "17/17 [==============================] - 2s 111ms/step - loss: 0.0287 - val_loss: 0.0183\n",
      "Epoch 77/300\n",
      "17/17 [==============================] - 2s 108ms/step - loss: 0.0281 - val_loss: 0.0195\n",
      "Epoch 78/300\n",
      "17/17 [==============================] - 2s 117ms/step - loss: 0.0288 - val_loss: 0.0179\n",
      "Epoch 79/300\n",
      " 7/17 [===========>..................] - ETA: 1s - loss: 0.0279"
     ]
    },
    {
     "name": "stderr",
     "output_type": "stream",
     "text": [
      "[codecarbon INFO @ 11:26:41] Energy consumed for RAM : 0.000459 kWh. RAM Power : 11.891499996185303 W\n"
     ]
    },
    {
     "name": "stdout",
     "output_type": "stream",
     "text": [
      " 8/17 [=============>................] - ETA: 0s - loss: 0.0275"
     ]
    },
    {
     "name": "stderr",
     "output_type": "stream",
     "text": [
      "[codecarbon INFO @ 11:26:41] Energy consumed for all CPUs : 0.001645 kWh. Total CPU Power : 42.5 W\n"
     ]
    },
    {
     "name": "stdout",
     "output_type": "stream",
     "text": [
      "17/17 [==============================] - 2s 105ms/step - loss: 0.0282 - val_loss: 0.0186\n",
      "Epoch 80/300\n",
      " 4/17 [======>.......................] - ETA: 1s - loss: 0.0280"
     ]
    },
    {
     "name": "stderr",
     "output_type": "stream",
     "text": [
      "[codecarbon INFO @ 11:26:42] Energy consumed for all GPUs : 0.000150 kWh. Total GPU Power : 4.028979790385643 W\n",
      "[codecarbon INFO @ 11:26:42] 0.002254 kWh of electricity used since the beginning.\n"
     ]
    },
    {
     "name": "stdout",
     "output_type": "stream",
     "text": [
      " 5/17 [=======>......................] - ETA: 1s - loss: 0.0276"
     ]
    },
    {
     "name": "stderr",
     "output_type": "stream",
     "text": [
      "[codecarbon INFO @ 11:26:42] 0.000280 g.CO2eq/s mean an estimation of 8.821595648757063 kg.CO2eq/year\n"
     ]
    },
    {
     "name": "stdout",
     "output_type": "stream",
     "text": [
      "17/17 [==============================] - 2s 106ms/step - loss: 0.0283 - val_loss: 0.0183\n",
      "Epoch 81/300\n",
      "17/17 [==============================] - 2s 114ms/step - loss: 0.0279 - val_loss: 0.0190\n",
      "Epoch 82/300\n",
      "17/17 [==============================] - 2s 112ms/step - loss: 0.0279 - val_loss: 0.0186\n",
      "Epoch 83/300\n",
      "17/17 [==============================] - 2s 114ms/step - loss: 0.0280 - val_loss: 0.0183\n",
      "Epoch 84/300\n",
      "13/17 [=====================>........] - ETA: 0s - loss: 0.0277"
     ]
    },
    {
     "name": "stderr",
     "output_type": "stream",
     "text": [
      "[codecarbon INFO @ 11:26:51] Energy consumed for RAM : 0.000487 kWh. RAM Power : 11.891499996185303 W\n",
      "[codecarbon INFO @ 11:26:51] Energy consumed for all CPUs : 0.001747 kWh. Total CPU Power : 42.5 W\n"
     ]
    },
    {
     "name": "stdout",
     "output_type": "stream",
     "text": [
      "17/17 [==============================] - 2s 108ms/step - loss: 0.0277 - val_loss: 0.0193\n",
      "Epoch 85/300\n",
      "10/17 [================>.............] - ETA: 0s - loss: 0.0276"
     ]
    },
    {
     "name": "stderr",
     "output_type": "stream",
     "text": [
      "[codecarbon INFO @ 11:26:52] Energy consumed for all GPUs : 0.000159 kWh. Total GPU Power : 3.863684670942261 W\n",
      "[codecarbon INFO @ 11:26:52] 0.002394 kWh of electricity used since the beginning.\n"
     ]
    },
    {
     "name": "stdout",
     "output_type": "stream",
     "text": [
      "17/17 [==============================] - 2s 99ms/step - loss: 0.0274 - val_loss: 0.0174\n",
      "Epoch 86/300\n",
      "17/17 [==============================] - 2s 95ms/step - loss: 0.0274 - val_loss: 0.0192\n",
      "Epoch 87/300\n",
      "17/17 [==============================] - 1s 83ms/step - loss: 0.0275 - val_loss: 0.0178\n",
      "Epoch 88/300\n",
      "17/17 [==============================] - 2s 91ms/step - loss: 0.0272 - val_loss: 0.0180\n",
      "Epoch 89/300\n",
      "17/17 [==============================] - 2s 89ms/step - loss: 0.0275 - val_loss: 0.0182\n",
      "Epoch 90/300\n",
      "17/17 [==============================] - 2s 93ms/step - loss: 0.0266 - val_loss: 0.0174\n",
      "Epoch 91/300\n",
      " 2/17 [==>...........................] - ETA: 1s - loss: 0.0260"
     ]
    },
    {
     "name": "stderr",
     "output_type": "stream",
     "text": [
      "[codecarbon INFO @ 11:27:01] Energy consumed for RAM : 0.000516 kWh. RAM Power : 11.891499996185303 W\n",
      "[codecarbon INFO @ 11:27:01] Energy consumed for all CPUs : 0.001849 kWh. Total CPU Power : 42.5 W\n",
      "[codecarbon INFO @ 11:27:01] Energy consumed for all GPUs : 0.000178 kWh. Total GPU Power : 7.637166999638029 W\n",
      "[codecarbon INFO @ 11:27:01] 0.002542 kWh of electricity used since the beginning.\n"
     ]
    },
    {
     "name": "stdout",
     "output_type": "stream",
     "text": [
      "17/17 [==============================] - 2s 100ms/step - loss: 0.0273 - val_loss: 0.0178\n",
      "Epoch 92/300\n",
      "17/17 [==============================] - 2s 102ms/step - loss: 0.0272 - val_loss: 0.0179\n",
      "Epoch 93/300\n",
      "17/17 [==============================] - 2s 105ms/step - loss: 0.0271 - val_loss: 0.0174\n",
      "Epoch 94/300\n",
      "17/17 [==============================] - 2s 105ms/step - loss: 0.0268 - val_loss: 0.0175\n",
      "Epoch 95/300\n",
      "17/17 [==============================] - 2s 110ms/step - loss: 0.0266 - val_loss: 0.0171\n",
      "Epoch 96/300\n",
      "14/17 [=======================>......] - ETA: 0s - loss: 0.0267"
     ]
    },
    {
     "name": "stderr",
     "output_type": "stream",
     "text": [
      "[codecarbon INFO @ 11:27:11] Energy consumed for RAM : 0.000549 kWh. RAM Power : 11.891499996185303 W\n",
      "[codecarbon INFO @ 11:27:11] Energy consumed for all CPUs : 0.001967 kWh. Total CPU Power : 42.5 W\n"
     ]
    },
    {
     "name": "stdout",
     "output_type": "stream",
     "text": [
      "17/17 [==============================] - 2s 106ms/step - loss: 0.0268 - val_loss: 0.0167\n",
      "Epoch 97/300\n",
      "11/17 [==================>...........] - ETA: 0s - loss: 0.0265"
     ]
    },
    {
     "name": "stderr",
     "output_type": "stream",
     "text": [
      "[codecarbon INFO @ 11:27:12] Energy consumed for all GPUs : 0.000180 kWh. Total GPU Power : 0.6687071613623171 W\n",
      "[codecarbon INFO @ 11:27:12] 0.002695 kWh of electricity used since the beginning.\n"
     ]
    },
    {
     "name": "stdout",
     "output_type": "stream",
     "text": [
      "17/17 [==============================] - 2s 91ms/step - loss: 0.0269 - val_loss: 0.0176\n",
      "Epoch 98/300\n",
      "17/17 [==============================] - 2s 102ms/step - loss: 0.0270 - val_loss: 0.0169\n",
      "Epoch 99/300\n",
      "17/17 [==============================] - 2s 102ms/step - loss: 0.0262 - val_loss: 0.0172\n",
      "Epoch 100/300\n",
      "17/17 [==============================] - 2s 103ms/step - loss: 0.0266 - val_loss: 0.0177\n",
      "Epoch 101/300\n",
      "17/17 [==============================] - 2s 104ms/step - loss: 0.0271 - val_loss: 0.0173\n",
      "Epoch 102/300\n",
      "10/17 [================>.............] - ETA: 0s - loss: 0.0269"
     ]
    },
    {
     "name": "stderr",
     "output_type": "stream",
     "text": [
      "[codecarbon INFO @ 11:27:21] Energy consumed for RAM : 0.000577 kWh. RAM Power : 11.891499996185303 W\n",
      "[codecarbon INFO @ 11:27:21] Energy consumed for all CPUs : 0.002069 kWh. Total CPU Power : 42.5 W\n"
     ]
    },
    {
     "name": "stdout",
     "output_type": "stream",
     "text": [
      "17/17 [==============================] - 2s 96ms/step - loss: 0.0265 - val_loss: 0.0176\n",
      "Epoch 103/300\n",
      " 8/17 [=============>................] - ETA: 0s - loss: 0.0268"
     ]
    },
    {
     "name": "stderr",
     "output_type": "stream",
     "text": [
      "[codecarbon INFO @ 11:27:22] Energy consumed for all GPUs : 0.000190 kWh. Total GPU Power : 4.205013533066797 W\n",
      "[codecarbon INFO @ 11:27:22] 0.002835 kWh of electricity used since the beginning.\n"
     ]
    },
    {
     "name": "stdout",
     "output_type": "stream",
     "text": [
      "17/17 [==============================] - 2s 93ms/step - loss: 0.0267 - val_loss: 0.0179\n",
      "Epoch 104/300\n",
      "17/17 [==============================] - 2s 103ms/step - loss: 0.0267 - val_loss: 0.0183\n",
      "Epoch 105/300\n",
      "17/17 [==============================] - 2s 103ms/step - loss: 0.0261 - val_loss: 0.0180\n",
      "Epoch 106/300\n",
      "17/17 [==============================] - 2s 101ms/step - loss: 0.0262 - val_loss: 0.0169\n",
      "Epoch 107/300\n",
      "17/17 [==============================] - 2s 103ms/step - loss: 0.0260 - val_loss: 0.0175\n",
      "Epoch 108/300\n",
      " 8/17 [=============>................] - ETA: 0s - loss: 0.0277"
     ]
    },
    {
     "name": "stderr",
     "output_type": "stream",
     "text": [
      "[codecarbon INFO @ 11:27:31] Energy consumed for RAM : 0.000606 kWh. RAM Power : 11.891499996185303 W\n",
      "[codecarbon INFO @ 11:27:31] Energy consumed for all CPUs : 0.002170 kWh. Total CPU Power : 42.5 W\n"
     ]
    },
    {
     "name": "stdout",
     "output_type": "stream",
     "text": [
      "17/17 [==============================] - 2s 95ms/step - loss: 0.0265 - val_loss: 0.0181\n",
      "Epoch 109/300\n",
      " 6/17 [=========>....................] - ETA: 0s - loss: 0.0263"
     ]
    },
    {
     "name": "stderr",
     "output_type": "stream",
     "text": [
      "[codecarbon INFO @ 11:27:32] Energy consumed for all GPUs : 0.000200 kWh. Total GPU Power : 4.29891910376236 W\n",
      "[codecarbon INFO @ 11:27:32] 0.002976 kWh of electricity used since the beginning.\n"
     ]
    },
    {
     "name": "stdout",
     "output_type": "stream",
     "text": [
      "17/17 [==============================] - 2s 95ms/step - loss: 0.0262 - val_loss: 0.0167\n",
      "Epoch 110/300\n",
      "17/17 [==============================] - 2s 104ms/step - loss: 0.0263 - val_loss: 0.0175\n",
      "Epoch 111/300\n",
      "17/17 [==============================] - 2s 100ms/step - loss: 0.0265 - val_loss: 0.0167\n",
      "Epoch 112/300\n",
      "17/17 [==============================] - 2s 103ms/step - loss: 0.0258 - val_loss: 0.0172\n",
      "Epoch 113/300\n",
      "17/17 [==============================] - 2s 98ms/step - loss: 0.0258 - val_loss: 0.0172\n",
      "Epoch 114/300\n",
      " 6/17 [=========>....................] - ETA: 1s - loss: 0.0250"
     ]
    },
    {
     "name": "stderr",
     "output_type": "stream",
     "text": [
      "[codecarbon INFO @ 11:27:41] Energy consumed for RAM : 0.000634 kWh. RAM Power : 11.891499996185303 W\n",
      "[codecarbon INFO @ 11:27:41] Energy consumed for all CPUs : 0.002272 kWh. Total CPU Power : 42.5 W\n"
     ]
    },
    {
     "name": "stdout",
     "output_type": "stream",
     "text": [
      "17/17 [==============================] - 2s 99ms/step - loss: 0.0270 - val_loss: 0.0190\n",
      "Epoch 115/300\n",
      " 3/17 [====>.........................] - ETA: 1s - loss: 0.0253"
     ]
    },
    {
     "name": "stderr",
     "output_type": "stream",
     "text": [
      "[codecarbon INFO @ 11:27:42] Energy consumed for all GPUs : 0.000211 kWh. Total GPU Power : 4.51409746209332 W\n",
      "[codecarbon INFO @ 11:27:42] 0.003117 kWh of electricity used since the beginning.\n"
     ]
    },
    {
     "name": "stdout",
     "output_type": "stream",
     "text": [
      "17/17 [==============================] - 2s 100ms/step - loss: 0.0262 - val_loss: 0.0171\n",
      "Epoch 116/300\n",
      "17/17 [==============================] - 2s 108ms/step - loss: 0.0261 - val_loss: 0.0160\n",
      "Epoch 117/300\n",
      "17/17 [==============================] - 2s 106ms/step - loss: 0.0258 - val_loss: 0.0181\n",
      "Epoch 118/300\n",
      "17/17 [==============================] - 2s 100ms/step - loss: 0.0254 - val_loss: 0.0173\n",
      "Epoch 119/300\n",
      "17/17 [==============================] - 2s 102ms/step - loss: 0.0252 - val_loss: 0.0164\n",
      "Epoch 120/300\n",
      " 1/17 [>.............................] - ETA: 1s - loss: 0.0227"
     ]
    },
    {
     "name": "stderr",
     "output_type": "stream",
     "text": [
      "[codecarbon INFO @ 11:27:51] Energy consumed for RAM : 0.000662 kWh. RAM Power : 11.891499996185303 W\n",
      "[codecarbon INFO @ 11:27:51] Energy consumed for all CPUs : 0.002374 kWh. Total CPU Power : 42.5 W\n"
     ]
    },
    {
     "name": "stdout",
     "output_type": "stream",
     "text": [
      "17/17 [==============================] - ETA: 0s - loss: 0.0254"
     ]
    },
    {
     "name": "stderr",
     "output_type": "stream",
     "text": [
      "[codecarbon INFO @ 11:27:52] Energy consumed for all GPUs : 0.000221 kWh. Total GPU Power : 4.1620629665296685 W\n",
      "[codecarbon INFO @ 11:27:52] 0.003257 kWh of electricity used since the beginning.\n"
     ]
    },
    {
     "name": "stdout",
     "output_type": "stream",
     "text": [
      "17/17 [==============================] - 2s 93ms/step - loss: 0.0254 - val_loss: 0.0175\n",
      "Epoch 121/300\n",
      "17/17 [==============================] - 2s 103ms/step - loss: 0.0252 - val_loss: 0.0169\n",
      "Epoch 122/300\n",
      "17/17 [==============================] - 2s 86ms/step - loss: 0.0255 - val_loss: 0.0165\n",
      "Epoch 123/300\n",
      "17/17 [==============================] - 2s 93ms/step - loss: 0.0254 - val_loss: 0.0181\n",
      "Epoch 124/300\n",
      "17/17 [==============================] - 2s 105ms/step - loss: 0.0255 - val_loss: 0.0170\n",
      "Epoch 125/300\n",
      "17/17 [==============================] - 2s 104ms/step - loss: 0.0246 - val_loss: 0.0162\n",
      "Epoch 126/300\n",
      " 2/17 [==>...........................] - ETA: 1s - loss: 0.0230"
     ]
    },
    {
     "name": "stderr",
     "output_type": "stream",
     "text": [
      "[codecarbon INFO @ 11:28:01] Energy consumed for RAM : 0.000691 kWh. RAM Power : 11.891499996185303 W\n",
      "[codecarbon INFO @ 11:28:01] Energy consumed for all CPUs : 0.002476 kWh. Total CPU Power : 42.5 W\n"
     ]
    },
    {
     "name": "stdout",
     "output_type": "stream",
     "text": [
      "17/17 [==============================] - ETA: 0s - loss: 0.0244"
     ]
    },
    {
     "name": "stderr",
     "output_type": "stream",
     "text": [
      "[codecarbon INFO @ 11:28:02] Energy consumed for all GPUs : 0.000230 kWh. Total GPU Power : 4.033058712112952 W\n",
      "[codecarbon INFO @ 11:28:02] 0.003397 kWh of electricity used since the beginning.\n"
     ]
    },
    {
     "name": "stdout",
     "output_type": "stream",
     "text": [
      "17/17 [==============================] - 2s 95ms/step - loss: 0.0244 - val_loss: 0.0165\n",
      "Epoch 127/300\n",
      " 1/17 [>.............................] - ETA: 1s - loss: 0.0236"
     ]
    },
    {
     "name": "stderr",
     "output_type": "stream",
     "text": [
      "[codecarbon INFO @ 11:28:03] 0.000285 g.CO2eq/s mean an estimation of 8.99763530275698 kg.CO2eq/year\n"
     ]
    },
    {
     "name": "stdout",
     "output_type": "stream",
     "text": [
      "17/17 [==============================] - 2s 102ms/step - loss: 0.0248 - val_loss: 0.0160\n",
      "Epoch 128/300\n",
      "17/17 [==============================] - 2s 106ms/step - loss: 0.0251 - val_loss: 0.0160\n",
      "Epoch 129/300\n",
      "17/17 [==============================] - 2s 109ms/step - loss: 0.0246 - val_loss: 0.0158\n",
      "Epoch 130/300\n",
      "17/17 [==============================] - 2s 108ms/step - loss: 0.0247 - val_loss: 0.0162\n",
      "Epoch 131/300\n",
      "14/17 [=======================>......] - ETA: 0s - loss: 0.0242"
     ]
    },
    {
     "name": "stderr",
     "output_type": "stream",
     "text": [
      "[codecarbon INFO @ 11:28:11] Energy consumed for RAM : 0.000719 kWh. RAM Power : 11.891499996185303 W\n"
     ]
    },
    {
     "name": "stdout",
     "output_type": "stream",
     "text": [
      "15/17 [=========================>....] - ETA: 0s - loss: 0.0244"
     ]
    },
    {
     "name": "stderr",
     "output_type": "stream",
     "text": [
      "[codecarbon INFO @ 11:28:11] Energy consumed for all CPUs : 0.002577 kWh. Total CPU Power : 42.5 W\n"
     ]
    },
    {
     "name": "stdout",
     "output_type": "stream",
     "text": [
      "17/17 [==============================] - 2s 104ms/step - loss: 0.0248 - val_loss: 0.0158\n",
      "Epoch 132/300\n",
      "12/17 [====================>.........] - ETA: 0s - loss: 0.0247"
     ]
    },
    {
     "name": "stderr",
     "output_type": "stream",
     "text": [
      "[codecarbon INFO @ 11:28:12] Energy consumed for all GPUs : 0.000240 kWh. Total GPU Power : 4.17019138921625 W\n",
      "[codecarbon INFO @ 11:28:12] 0.003537 kWh of electricity used since the beginning.\n"
     ]
    },
    {
     "name": "stdout",
     "output_type": "stream",
     "text": [
      "17/17 [==============================] - 2s 93ms/step - loss: 0.0250 - val_loss: 0.0170\n",
      "Epoch 133/300\n",
      "17/17 [==============================] - 2s 103ms/step - loss: 0.0245 - val_loss: 0.0162\n",
      "Epoch 134/300\n",
      "17/17 [==============================] - 2s 101ms/step - loss: 0.0242 - val_loss: 0.0162\n",
      "Epoch 135/300\n",
      "17/17 [==============================] - 2s 102ms/step - loss: 0.0244 - val_loss: 0.0174\n",
      "Epoch 136/300\n",
      "17/17 [==============================] - 2s 107ms/step - loss: 0.0241 - val_loss: 0.0156\n",
      "Epoch 137/300\n",
      "11/17 [==================>...........] - ETA: 0s - loss: 0.0240"
     ]
    },
    {
     "name": "stderr",
     "output_type": "stream",
     "text": [
      "[codecarbon INFO @ 11:28:21] Energy consumed for RAM : 0.000748 kWh. RAM Power : 11.891499996185303 W\n",
      "[codecarbon INFO @ 11:28:21] Energy consumed for all CPUs : 0.002679 kWh. Total CPU Power : 42.5 W\n"
     ]
    },
    {
     "name": "stdout",
     "output_type": "stream",
     "text": [
      "17/17 [==============================] - 2s 98ms/step - loss: 0.0241 - val_loss: 0.0163\n",
      "Epoch 138/300\n",
      " 9/17 [==============>...............] - ETA: 0s - loss: 0.0251"
     ]
    },
    {
     "name": "stderr",
     "output_type": "stream",
     "text": [
      "[codecarbon INFO @ 11:28:22] Energy consumed for all GPUs : 0.000250 kWh. Total GPU Power : 4.144104930446713 W\n",
      "[codecarbon INFO @ 11:28:22] 0.003677 kWh of electricity used since the beginning.\n"
     ]
    },
    {
     "name": "stdout",
     "output_type": "stream",
     "text": [
      "17/17 [==============================] - 2s 90ms/step - loss: 0.0252 - val_loss: 0.0177\n",
      "Epoch 139/300\n",
      "17/17 [==============================] - 2s 98ms/step - loss: 0.0244 - val_loss: 0.0161\n",
      "Epoch 140/300\n",
      "17/17 [==============================] - 2s 99ms/step - loss: 0.0239 - val_loss: 0.0162\n",
      "Epoch 141/300\n",
      "17/17 [==============================] - 2s 106ms/step - loss: 0.0242 - val_loss: 0.0160\n",
      "Epoch 142/300\n",
      "17/17 [==============================] - 2s 102ms/step - loss: 0.0246 - val_loss: 0.0164\n",
      "Epoch 143/300\n",
      "11/17 [==================>...........] - ETA: 0s - loss: 0.0241"
     ]
    },
    {
     "name": "stderr",
     "output_type": "stream",
     "text": [
      "[codecarbon INFO @ 11:28:31] Energy consumed for RAM : 0.000776 kWh. RAM Power : 11.891499996185303 W\n",
      "[codecarbon INFO @ 11:28:31] Energy consumed for all CPUs : 0.002781 kWh. Total CPU Power : 42.5 W\n"
     ]
    },
    {
     "name": "stdout",
     "output_type": "stream",
     "text": [
      "17/17 [==============================] - 2s 90ms/step - loss: 0.0242 - val_loss: 0.0157\n",
      "Epoch 144/300\n",
      " 9/17 [==============>...............] - ETA: 0s - loss: 0.0235"
     ]
    },
    {
     "name": "stderr",
     "output_type": "stream",
     "text": [
      "[codecarbon INFO @ 11:28:32] Energy consumed for all GPUs : 0.000260 kWh. Total GPU Power : 4.157243593052553 W\n",
      "[codecarbon INFO @ 11:28:32] 0.003817 kWh of electricity used since the beginning.\n"
     ]
    },
    {
     "name": "stdout",
     "output_type": "stream",
     "text": [
      "17/17 [==============================] - 2s 90ms/step - loss: 0.0239 - val_loss: 0.0157\n",
      "Epoch 145/300\n",
      "17/17 [==============================] - 2s 106ms/step - loss: 0.0236 - val_loss: 0.0154\n",
      "Epoch 146/300\n",
      "17/17 [==============================] - 2s 105ms/step - loss: 0.0236 - val_loss: 0.0167\n",
      "Epoch 147/300\n",
      "17/17 [==============================] - 2s 102ms/step - loss: 0.0235 - val_loss: 0.0159\n",
      "Epoch 148/300\n",
      "17/17 [==============================] - 2s 102ms/step - loss: 0.0233 - val_loss: 0.0161\n",
      "Epoch 149/300\n",
      " 8/17 [=============>................] - ETA: 0s - loss: 0.0237"
     ]
    },
    {
     "name": "stderr",
     "output_type": "stream",
     "text": [
      "[codecarbon INFO @ 11:28:41] Energy consumed for RAM : 0.000805 kWh. RAM Power : 11.891499996185303 W\n",
      "[codecarbon INFO @ 11:28:41] Energy consumed for all CPUs : 0.002883 kWh. Total CPU Power : 42.5 W\n"
     ]
    },
    {
     "name": "stdout",
     "output_type": "stream",
     "text": [
      "17/17 [==============================] - 2s 93ms/step - loss: 0.0238 - val_loss: 0.0155\n",
      "Epoch 150/300\n",
      " 6/17 [=========>....................] - ETA: 1s - loss: 0.0236"
     ]
    },
    {
     "name": "stderr",
     "output_type": "stream",
     "text": [
      "[codecarbon INFO @ 11:28:42] Energy consumed for all GPUs : 0.000270 kWh. Total GPU Power : 4.15323324797776 W\n",
      "[codecarbon INFO @ 11:28:42] 0.003958 kWh of electricity used since the beginning.\n"
     ]
    },
    {
     "name": "stdout",
     "output_type": "stream",
     "text": [
      "17/17 [==============================] - 2s 95ms/step - loss: 0.0236 - val_loss: 0.0191\n",
      "Epoch 151/300\n",
      "17/17 [==============================] - 2s 101ms/step - loss: 0.0236 - val_loss: 0.0160\n",
      "Epoch 152/300\n",
      "17/17 [==============================] - 2s 102ms/step - loss: 0.0234 - val_loss: 0.0157\n",
      "Epoch 153/300\n",
      "17/17 [==============================] - 2s 102ms/step - loss: 0.0229 - val_loss: 0.0170\n",
      "Epoch 154/300\n",
      "17/17 [==============================] - 2s 104ms/step - loss: 0.0228 - val_loss: 0.0152\n",
      "Epoch 155/300\n",
      " 5/17 [=======>......................] - ETA: 1s - loss: 0.0233"
     ]
    },
    {
     "name": "stderr",
     "output_type": "stream",
     "text": [
      "[codecarbon INFO @ 11:28:51] Energy consumed for RAM : 0.000833 kWh. RAM Power : 11.891499996185303 W\n"
     ]
    },
    {
     "name": "stdout",
     "output_type": "stream",
     "text": [
      " 6/17 [=========>....................] - ETA: 1s - loss: 0.0228"
     ]
    },
    {
     "name": "stderr",
     "output_type": "stream",
     "text": [
      "[codecarbon INFO @ 11:28:51] Energy consumed for all CPUs : 0.002985 kWh. Total CPU Power : 42.5 W\n"
     ]
    },
    {
     "name": "stdout",
     "output_type": "stream",
     "text": [
      "17/17 [==============================] - 2s 99ms/step - loss: 0.0233 - val_loss: 0.0162\n",
      "Epoch 156/300\n",
      " 3/17 [====>.........................] - ETA: 1s - loss: 0.0214"
     ]
    },
    {
     "name": "stderr",
     "output_type": "stream",
     "text": [
      "[codecarbon INFO @ 11:28:53] Energy consumed for all GPUs : 0.000280 kWh. Total GPU Power : 4.154759924005325 W\n",
      "[codecarbon INFO @ 11:28:53] 0.004098 kWh of electricity used since the beginning.\n"
     ]
    },
    {
     "name": "stdout",
     "output_type": "stream",
     "text": [
      "17/17 [==============================] - 2s 100ms/step - loss: 0.0236 - val_loss: 0.0155\n",
      "Epoch 157/300\n",
      "17/17 [==============================] - 2s 104ms/step - loss: 0.0230 - val_loss: 0.0160\n",
      "Epoch 158/300\n",
      "17/17 [==============================] - 2s 104ms/step - loss: 0.0225 - val_loss: 0.0156\n",
      "Epoch 159/300\n",
      "17/17 [==============================] - 2s 106ms/step - loss: 0.0226 - val_loss: 0.0151\n",
      "Epoch 160/300\n",
      "17/17 [==============================] - 2s 107ms/step - loss: 0.0226 - val_loss: 0.0150\n",
      "Epoch 161/300\n"
     ]
    },
    {
     "name": "stderr",
     "output_type": "stream",
     "text": [
      "[codecarbon INFO @ 11:29:01] Energy consumed for RAM : 0.000861 kWh. RAM Power : 11.891499996185303 W\n",
      "[codecarbon INFO @ 11:29:01] Energy consumed for all CPUs : 0.003086 kWh. Total CPU Power : 42.5 W\n"
     ]
    },
    {
     "name": "stdout",
     "output_type": "stream",
     "text": [
      "17/17 [==============================] - ETA: 0s - loss: 0.0227"
     ]
    },
    {
     "name": "stderr",
     "output_type": "stream",
     "text": [
      "[codecarbon INFO @ 11:29:03] Energy consumed for all GPUs : 0.000290 kWh. Total GPU Power : 4.13655325119948 W\n",
      "[codecarbon INFO @ 11:29:03] 0.004238 kWh of electricity used since the beginning.\n"
     ]
    },
    {
     "name": "stdout",
     "output_type": "stream",
     "text": [
      "17/17 [==============================] - 2s 89ms/step - loss: 0.0227 - val_loss: 0.0152\n",
      "Epoch 162/300\n",
      "17/17 [==============================] - 2s 105ms/step - loss: 0.0228 - val_loss: 0.0147\n",
      "Epoch 163/300\n",
      "17/17 [==============================] - 2s 105ms/step - loss: 0.0229 - val_loss: 0.0152\n",
      "Epoch 164/300\n",
      "17/17 [==============================] - 2s 102ms/step - loss: 0.0233 - val_loss: 0.0155\n",
      "Epoch 165/300\n",
      "17/17 [==============================] - 2s 102ms/step - loss: 0.0228 - val_loss: 0.0149\n",
      "Epoch 166/300\n",
      "16/17 [===========================>..] - ETA: 0s - loss: 0.0220"
     ]
    },
    {
     "name": "stderr",
     "output_type": "stream",
     "text": [
      "[codecarbon INFO @ 11:29:11] Energy consumed for RAM : 0.000890 kWh. RAM Power : 11.891499996185303 W\n",
      "[codecarbon INFO @ 11:29:11] Energy consumed for all CPUs : 0.003188 kWh. Total CPU Power : 42.5 W\n"
     ]
    },
    {
     "name": "stdout",
     "output_type": "stream",
     "text": [
      "17/17 [==============================] - 2s 102ms/step - loss: 0.0223 - val_loss: 0.0145\n",
      "Epoch 167/300\n",
      "13/17 [=====================>........] - ETA: 0s - loss: 0.0222"
     ]
    },
    {
     "name": "stderr",
     "output_type": "stream",
     "text": [
      "[codecarbon INFO @ 11:29:13] Energy consumed for all GPUs : 0.000300 kWh. Total GPU Power : 4.048660279320889 W\n"
     ]
    },
    {
     "name": "stdout",
     "output_type": "stream",
     "text": [
      "14/17 [=======================>......] - ETA: 0s - loss: 0.0222"
     ]
    },
    {
     "name": "stderr",
     "output_type": "stream",
     "text": [
      "[codecarbon INFO @ 11:29:13] 0.004378 kWh of electricity used since the beginning.\n"
     ]
    },
    {
     "name": "stdout",
     "output_type": "stream",
     "text": [
      "17/17 [==============================] - 2s 89ms/step - loss: 0.0224 - val_loss: 0.0152\n",
      "Epoch 168/300\n",
      "17/17 [==============================] - 2s 102ms/step - loss: 0.0222 - val_loss: 0.0162\n",
      "Epoch 169/300\n",
      "17/17 [==============================] - 2s 100ms/step - loss: 0.0231 - val_loss: 0.0157\n",
      "Epoch 170/300\n",
      "17/17 [==============================] - 2s 101ms/step - loss: 0.0223 - val_loss: 0.0149\n",
      "Epoch 171/300\n",
      "17/17 [==============================] - 2s 99ms/step - loss: 0.0226 - val_loss: 0.0150\n",
      "Epoch 172/300\n",
      "15/17 [=========================>....] - ETA: 0s - loss: 0.0225"
     ]
    },
    {
     "name": "stderr",
     "output_type": "stream",
     "text": [
      "[codecarbon INFO @ 11:29:21] Energy consumed for RAM : 0.000918 kWh. RAM Power : 11.891499996185303 W\n",
      "[codecarbon INFO @ 11:29:21] Energy consumed for all CPUs : 0.003290 kWh. Total CPU Power : 42.5 W\n"
     ]
    },
    {
     "name": "stdout",
     "output_type": "stream",
     "text": [
      "17/17 [==============================] - 2s 103ms/step - loss: 0.0226 - val_loss: 0.0161\n",
      "Epoch 173/300\n",
      "12/17 [====================>.........] - ETA: 0s - loss: 0.0225"
     ]
    },
    {
     "name": "stderr",
     "output_type": "stream",
     "text": [
      "[codecarbon INFO @ 11:29:23] Energy consumed for all GPUs : 0.000310 kWh. Total GPU Power : 4.134480091680096 W\n",
      "[codecarbon INFO @ 11:29:23] 0.004518 kWh of electricity used since the beginning.\n"
     ]
    },
    {
     "name": "stdout",
     "output_type": "stream",
     "text": [
      "15/17 [=========================>....] - ETA: 0s - loss: 0.0227"
     ]
    },
    {
     "name": "stderr",
     "output_type": "stream",
     "text": [
      "[codecarbon INFO @ 11:29:23] 0.000280 g.CO2eq/s mean an estimation of 8.823365974853608 kg.CO2eq/year\n"
     ]
    },
    {
     "name": "stdout",
     "output_type": "stream",
     "text": [
      "17/17 [==============================] - 2s 90ms/step - loss: 0.0230 - val_loss: 0.0176\n",
      "Epoch 174/300\n",
      "17/17 [==============================] - 2s 101ms/step - loss: 0.0231 - val_loss: 0.0170\n",
      "Epoch 175/300\n",
      "17/17 [==============================] - 2s 102ms/step - loss: 0.0221 - val_loss: 0.0152\n",
      "Epoch 176/300\n",
      "17/17 [==============================] - 2s 107ms/step - loss: 0.0221 - val_loss: 0.0145\n",
      "Epoch 177/300\n",
      "17/17 [==============================] - 2s 102ms/step - loss: 0.0219 - val_loss: 0.0152\n",
      "Epoch 178/300\n",
      "11/17 [==================>...........] - ETA: 0s - loss: 0.0219"
     ]
    },
    {
     "name": "stderr",
     "output_type": "stream",
     "text": [
      "[codecarbon INFO @ 11:29:31] Energy consumed for RAM : 0.000946 kWh. RAM Power : 11.891499996185303 W\n",
      "[codecarbon INFO @ 11:29:31] Energy consumed for all CPUs : 0.003391 kWh. Total CPU Power : 42.5 W\n"
     ]
    },
    {
     "name": "stdout",
     "output_type": "stream",
     "text": [
      "17/17 [==============================] - 2s 99ms/step - loss: 0.0223 - val_loss: 0.0156\n",
      "Epoch 179/300\n",
      " 9/17 [==============>...............] - ETA: 0s - loss: 0.0228"
     ]
    },
    {
     "name": "stderr",
     "output_type": "stream",
     "text": [
      "[codecarbon INFO @ 11:29:33] Energy consumed for all GPUs : 0.000320 kWh. Total GPU Power : 4.151047693227278 W\n",
      "[codecarbon INFO @ 11:29:33] 0.004658 kWh of electricity used since the beginning.\n"
     ]
    },
    {
     "name": "stdout",
     "output_type": "stream",
     "text": [
      "17/17 [==============================] - 2s 95ms/step - loss: 0.0222 - val_loss: 0.0148\n",
      "Epoch 180/300\n",
      "17/17 [==============================] - 2s 100ms/step - loss: 0.0215 - val_loss: 0.0161\n",
      "Epoch 181/300\n",
      "17/17 [==============================] - 2s 107ms/step - loss: 0.0219 - val_loss: 0.0143\n",
      "Epoch 182/300\n",
      "17/17 [==============================] - 2s 102ms/step - loss: 0.0215 - val_loss: 0.0147\n",
      "Epoch 183/300\n",
      "17/17 [==============================] - 2s 106ms/step - loss: 0.0210 - val_loss: 0.0144\n",
      "Epoch 184/300\n",
      " 7/17 [===========>..................] - ETA: 0s - loss: 0.0212"
     ]
    },
    {
     "name": "stderr",
     "output_type": "stream",
     "text": [
      "[codecarbon INFO @ 11:29:41] Energy consumed for RAM : 0.000975 kWh. RAM Power : 11.891499996185303 W\n"
     ]
    },
    {
     "name": "stdout",
     "output_type": "stream",
     "text": [
      " 8/17 [=============>................] - ETA: 0s - loss: 0.0213"
     ]
    },
    {
     "name": "stderr",
     "output_type": "stream",
     "text": [
      "[codecarbon INFO @ 11:29:41] Energy consumed for all CPUs : 0.003493 kWh. Total CPU Power : 42.5 W\n"
     ]
    },
    {
     "name": "stdout",
     "output_type": "stream",
     "text": [
      "17/17 [==============================] - 2s 100ms/step - loss: 0.0214 - val_loss: 0.0146\n",
      "Epoch 185/300\n",
      " 5/17 [=======>......................] - ETA: 1s - loss: 0.0213"
     ]
    },
    {
     "name": "stderr",
     "output_type": "stream",
     "text": [
      "[codecarbon INFO @ 11:29:43] Energy consumed for all GPUs : 0.000330 kWh. Total GPU Power : 4.190575839080262 W\n",
      "[codecarbon INFO @ 11:29:43] 0.004798 kWh of electricity used since the beginning.\n"
     ]
    },
    {
     "name": "stdout",
     "output_type": "stream",
     "text": [
      "17/17 [==============================] - 2s 97ms/step - loss: 0.0213 - val_loss: 0.0155\n",
      "Epoch 186/300\n",
      "17/17 [==============================] - 2s 102ms/step - loss: 0.0217 - val_loss: 0.0152\n",
      "Epoch 187/300\n",
      "17/17 [==============================] - 2s 97ms/step - loss: 0.0219 - val_loss: 0.0162\n",
      "Epoch 188/300\n",
      "17/17 [==============================] - 2s 102ms/step - loss: 0.0222 - val_loss: 0.0154\n",
      "Epoch 189/300\n",
      "17/17 [==============================] - 2s 103ms/step - loss: 0.0212 - val_loss: 0.0148\n",
      "Epoch 190/300\n",
      " 5/17 [=======>......................] - ETA: 1s - loss: 0.0215"
     ]
    },
    {
     "name": "stderr",
     "output_type": "stream",
     "text": [
      "[codecarbon INFO @ 11:29:51] Energy consumed for RAM : 0.001003 kWh. RAM Power : 11.891499996185303 W\n",
      "[codecarbon INFO @ 11:29:51] Energy consumed for all CPUs : 0.003595 kWh. Total CPU Power : 42.5 W\n"
     ]
    },
    {
     "name": "stdout",
     "output_type": "stream",
     "text": [
      "17/17 [==============================] - 2s 97ms/step - loss: 0.0215 - val_loss: 0.0143\n",
      "Epoch 191/300\n",
      " 2/17 [==>...........................] - ETA: 1s - loss: 0.0226"
     ]
    },
    {
     "name": "stderr",
     "output_type": "stream",
     "text": [
      "[codecarbon INFO @ 11:29:53] Energy consumed for all GPUs : 0.000340 kWh. Total GPU Power : 4.250241446016742 W\n",
      "[codecarbon INFO @ 11:29:53] 0.004938 kWh of electricity used since the beginning.\n"
     ]
    },
    {
     "name": "stdout",
     "output_type": "stream",
     "text": [
      "17/17 [==============================] - 2s 94ms/step - loss: 0.0220 - val_loss: 0.0145\n",
      "Epoch 192/300\n",
      "17/17 [==============================] - 2s 90ms/step - loss: 0.0214 - val_loss: 0.0143\n",
      "Epoch 193/300\n",
      "17/17 [==============================] - 2s 94ms/step - loss: 0.0209 - val_loss: 0.0156\n",
      "Epoch 194/300\n",
      "17/17 [==============================] - 2s 101ms/step - loss: 0.0210 - val_loss: 0.0153\n",
      "Epoch 195/300\n",
      "17/17 [==============================] - 2s 100ms/step - loss: 0.0225 - val_loss: 0.0145\n",
      "Epoch 196/300\n",
      " 7/17 [===========>..................] - ETA: 0s - loss: 0.0221"
     ]
    },
    {
     "name": "stderr",
     "output_type": "stream",
     "text": [
      "[codecarbon INFO @ 11:30:01] Energy consumed for RAM : 0.001032 kWh. RAM Power : 11.891499996185303 W\n",
      "[codecarbon INFO @ 11:30:01] Energy consumed for all CPUs : 0.003697 kWh. Total CPU Power : 42.5 W\n"
     ]
    },
    {
     "name": "stdout",
     "output_type": "stream",
     "text": [
      "17/17 [==============================] - 2s 92ms/step - loss: 0.0215 - val_loss: 0.0164\n",
      "Epoch 197/300\n",
      " 5/17 [=======>......................] - ETA: 1s - loss: 0.0211"
     ]
    },
    {
     "name": "stderr",
     "output_type": "stream",
     "text": [
      "[codecarbon INFO @ 11:30:03] Energy consumed for all GPUs : 0.000350 kWh. Total GPU Power : 4.225031347682907 W\n",
      "[codecarbon INFO @ 11:30:03] 0.005079 kWh of electricity used since the beginning.\n"
     ]
    },
    {
     "name": "stdout",
     "output_type": "stream",
     "text": [
      "17/17 [==============================] - 2s 96ms/step - loss: 0.0212 - val_loss: 0.0143\n",
      "Epoch 198/300\n",
      "17/17 [==============================] - 2s 102ms/step - loss: 0.0207 - val_loss: 0.0148\n",
      "Epoch 199/300\n",
      "17/17 [==============================] - 2s 107ms/step - loss: 0.0212 - val_loss: 0.0151\n",
      "Epoch 200/300\n",
      "17/17 [==============================] - 2s 102ms/step - loss: 0.0210 - val_loss: 0.0146\n",
      "Epoch 201/300\n",
      "17/17 [==============================] - 2s 103ms/step - loss: 0.0209 - val_loss: 0.0141\n",
      "Epoch 202/300\n",
      " 4/17 [======>.......................] - ETA: 1s - loss: 0.0211"
     ]
    },
    {
     "name": "stderr",
     "output_type": "stream",
     "text": [
      "[codecarbon INFO @ 11:30:11] Energy consumed for RAM : 0.001060 kWh. RAM Power : 11.891499996185303 W\n",
      "[codecarbon INFO @ 11:30:11] Energy consumed for all CPUs : 0.003799 kWh. Total CPU Power : 42.5 W\n"
     ]
    },
    {
     "name": "stdout",
     "output_type": "stream",
     "text": [
      "17/17 [==============================] - 2s 103ms/step - loss: 0.0208 - val_loss: 0.0139\n",
      "Epoch 203/300\n"
     ]
    },
    {
     "name": "stderr",
     "output_type": "stream",
     "text": [
      "[codecarbon INFO @ 11:30:13] Energy consumed for all GPUs : 0.000360 kWh. Total GPU Power : 4.174407606417277 W\n",
      "[codecarbon INFO @ 11:30:13] 0.005219 kWh of electricity used since the beginning.\n"
     ]
    },
    {
     "name": "stdout",
     "output_type": "stream",
     "text": [
      "17/17 [==============================] - 2s 101ms/step - loss: 0.0206 - val_loss: 0.0145\n",
      "Epoch 204/300\n",
      "17/17 [==============================] - 2s 107ms/step - loss: 0.0204 - val_loss: 0.0138\n",
      "Epoch 205/300\n",
      "17/17 [==============================] - 2s 105ms/step - loss: 0.0208 - val_loss: 0.0143\n",
      "Epoch 206/300\n",
      "17/17 [==============================] - 2s 104ms/step - loss: 0.0205 - val_loss: 0.0146\n",
      "Epoch 207/300\n",
      "16/17 [===========================>..] - ETA: 0s - loss: 0.0207"
     ]
    },
    {
     "name": "stderr",
     "output_type": "stream",
     "text": [
      "[codecarbon INFO @ 11:30:21] Energy consumed for RAM : 0.001089 kWh. RAM Power : 11.891499996185303 W\n",
      "[codecarbon INFO @ 11:30:21] Energy consumed for all CPUs : 0.003901 kWh. Total CPU Power : 42.5 W\n"
     ]
    },
    {
     "name": "stdout",
     "output_type": "stream",
     "text": [
      "17/17 [==============================] - 2s 104ms/step - loss: 0.0207 - val_loss: 0.0144\n",
      "Epoch 208/300\n",
      "14/17 [=======================>......] - ETA: 0s - loss: 0.0205"
     ]
    },
    {
     "name": "stderr",
     "output_type": "stream",
     "text": [
      "[codecarbon INFO @ 11:30:23] Energy consumed for all GPUs : 0.000370 kWh. Total GPU Power : 4.346592514220849 W\n",
      "[codecarbon INFO @ 11:30:23] 0.005359 kWh of electricity used since the beginning.\n"
     ]
    },
    {
     "name": "stdout",
     "output_type": "stream",
     "text": [
      "17/17 [==============================] - 2s 90ms/step - loss: 0.0207 - val_loss: 0.0155\n",
      "Epoch 209/300\n",
      "17/17 [==============================] - 2s 98ms/step - loss: 0.0204 - val_loss: 0.0140\n",
      "Epoch 210/300\n",
      "17/17 [==============================] - 2s 93ms/step - loss: 0.0202 - val_loss: 0.0145\n",
      "Epoch 211/300\n",
      "17/17 [==============================] - 2s 96ms/step - loss: 0.0213 - val_loss: 0.0143\n",
      "Epoch 212/300\n",
      "17/17 [==============================] - 2s 101ms/step - loss: 0.0212 - val_loss: 0.0159\n",
      "Epoch 213/300\n",
      "17/17 [==============================] - ETA: 0s - loss: 0.0213"
     ]
    },
    {
     "name": "stderr",
     "output_type": "stream",
     "text": [
      "[codecarbon INFO @ 11:30:31] Energy consumed for RAM : 0.001117 kWh. RAM Power : 11.891499996185303 W\n",
      "[codecarbon INFO @ 11:30:31] Energy consumed for all CPUs : 0.004002 kWh. Total CPU Power : 42.5 W\n"
     ]
    },
    {
     "name": "stdout",
     "output_type": "stream",
     "text": [
      "17/17 [==============================] - 2s 103ms/step - loss: 0.0213 - val_loss: 0.0140\n",
      "Epoch 214/300\n",
      "17/17 [==============================] - ETA: 0s - loss: 0.0212"
     ]
    },
    {
     "name": "stderr",
     "output_type": "stream",
     "text": [
      "[codecarbon INFO @ 11:30:33] Energy consumed for all GPUs : 0.000380 kWh. Total GPU Power : 4.160702964435362 W\n",
      "[codecarbon INFO @ 11:30:33] 0.005500 kWh of electricity used since the beginning.\n"
     ]
    },
    {
     "name": "stdout",
     "output_type": "stream",
     "text": [
      "17/17 [==============================] - 1s 74ms/step - loss: 0.0212 - val_loss: 0.0167\n",
      "Epoch 215/300\n",
      "17/17 [==============================] - 2s 90ms/step - loss: 0.0215 - val_loss: 0.0153\n",
      "Epoch 216/300\n",
      "17/17 [==============================] - 2s 92ms/step - loss: 0.0206 - val_loss: 0.0144\n",
      "Epoch 217/300\n",
      "17/17 [==============================] - 1s 88ms/step - loss: 0.0199 - val_loss: 0.0141\n",
      "Epoch 218/300\n",
      "17/17 [==============================] - 2s 109ms/step - loss: 0.0199 - val_loss: 0.0138\n",
      "Epoch 219/300\n",
      "17/17 [==============================] - 1s 86ms/step - loss: 0.0199 - val_loss: 0.0149\n",
      "Epoch 220/300\n",
      " 7/17 [===========>..................] - ETA: 0s - loss: 0.0203"
     ]
    },
    {
     "name": "stderr",
     "output_type": "stream",
     "text": [
      "[codecarbon INFO @ 11:30:41] Energy consumed for RAM : 0.001145 kWh. RAM Power : 11.891499996185303 W\n",
      "[codecarbon INFO @ 11:30:41] Energy consumed for all CPUs : 0.004104 kWh. Total CPU Power : 42.5 W\n"
     ]
    },
    {
     "name": "stdout",
     "output_type": "stream",
     "text": [
      "17/17 [==============================] - 1s 85ms/step - loss: 0.0204 - val_loss: 0.0140\n",
      "Epoch 221/300\n",
      " 7/17 [===========>..................] - ETA: 0s - loss: 0.0205"
     ]
    },
    {
     "name": "stderr",
     "output_type": "stream",
     "text": [
      "[codecarbon INFO @ 11:30:43] Energy consumed for all GPUs : 0.000390 kWh. Total GPU Power : 4.048930253162781 W\n",
      "[codecarbon INFO @ 11:30:43] 0.005639 kWh of electricity used since the beginning.\n"
     ]
    },
    {
     "name": "stdout",
     "output_type": "stream",
     "text": [
      "12/17 [====================>.........] - ETA: 0s - loss: 0.0210"
     ]
    },
    {
     "name": "stderr",
     "output_type": "stream",
     "text": [
      "[codecarbon INFO @ 11:30:43] 0.000280 g.CO2eq/s mean an estimation of 8.832252879970289 kg.CO2eq/year\n"
     ]
    },
    {
     "name": "stdout",
     "output_type": "stream",
     "text": [
      "17/17 [==============================] - 1s 82ms/step - loss: 0.0209 - val_loss: 0.0138\n",
      "Epoch 222/300\n",
      "17/17 [==============================] - 2s 105ms/step - loss: 0.0198 - val_loss: 0.0137\n",
      "Epoch 223/300\n",
      "17/17 [==============================] - 2s 91ms/step - loss: 0.0199 - val_loss: 0.0142\n",
      "Epoch 224/300\n",
      "17/17 [==============================] - 2s 102ms/step - loss: 0.0196 - val_loss: 0.0144\n",
      "Epoch 225/300\n",
      "17/17 [==============================] - 2s 101ms/step - loss: 0.0195 - val_loss: 0.0138\n",
      "Epoch 226/300\n",
      "11/17 [==================>...........] - ETA: 0s - loss: 0.0191"
     ]
    },
    {
     "name": "stderr",
     "output_type": "stream",
     "text": [
      "[codecarbon INFO @ 11:30:51] Energy consumed for RAM : 0.001174 kWh. RAM Power : 11.891499996185303 W\n",
      "[codecarbon INFO @ 11:30:51] Energy consumed for all CPUs : 0.004206 kWh. Total CPU Power : 42.5 W\n"
     ]
    },
    {
     "name": "stdout",
     "output_type": "stream",
     "text": [
      "17/17 [==============================] - 2s 91ms/step - loss: 0.0195 - val_loss: 0.0144\n",
      "Epoch 227/300\n",
      "10/17 [================>.............] - ETA: 0s - loss: 0.0198"
     ]
    },
    {
     "name": "stderr",
     "output_type": "stream",
     "text": [
      "[codecarbon INFO @ 11:30:53] Energy consumed for all GPUs : 0.000400 kWh. Total GPU Power : 4.183287434359927 W\n",
      "[codecarbon INFO @ 11:30:53] 0.005779 kWh of electricity used since the beginning.\n"
     ]
    },
    {
     "name": "stdout",
     "output_type": "stream",
     "text": [
      "17/17 [==============================] - 1s 86ms/step - loss: 0.0200 - val_loss: 0.0143\n",
      "Epoch 228/300\n",
      "17/17 [==============================] - 2s 94ms/step - loss: 0.0205 - val_loss: 0.0143\n",
      "Epoch 229/300\n",
      "17/17 [==============================] - 2s 90ms/step - loss: 0.0198 - val_loss: 0.0149\n",
      "Epoch 230/300\n",
      "17/17 [==============================] - 2s 96ms/step - loss: 0.0198 - val_loss: 0.0135\n",
      "Epoch 231/300\n",
      "17/17 [==============================] - 1s 87ms/step - loss: 0.0195 - val_loss: 0.0139\n",
      "Epoch 232/300\n",
      "17/17 [==============================] - 2s 89ms/step - loss: 0.0198 - val_loss: 0.0151\n",
      "Epoch 233/300\n",
      " 2/17 [==>...........................] - ETA: 1s - loss: 0.0212"
     ]
    },
    {
     "name": "stderr",
     "output_type": "stream",
     "text": [
      "[codecarbon INFO @ 11:31:01] Energy consumed for RAM : 0.001202 kWh. RAM Power : 11.891499996185303 W\n"
     ]
    },
    {
     "name": "stdout",
     "output_type": "stream",
     "text": [
      " 3/17 [====>.........................] - ETA: 1s - loss: 0.0211"
     ]
    },
    {
     "name": "stderr",
     "output_type": "stream",
     "text": [
      "[codecarbon INFO @ 11:31:01] Energy consumed for all CPUs : 0.004307 kWh. Total CPU Power : 42.5 W\n"
     ]
    },
    {
     "name": "stdout",
     "output_type": "stream",
     "text": [
      "17/17 [==============================] - 2s 91ms/step - loss: 0.0197 - val_loss: 0.0137\n",
      "Epoch 234/300\n",
      " 1/17 [>.............................] - ETA: 1s - loss: 0.0158"
     ]
    },
    {
     "name": "stderr",
     "output_type": "stream",
     "text": [
      "[codecarbon INFO @ 11:31:03] Energy consumed for all GPUs : 0.000410 kWh. Total GPU Power : 4.165693768210036 W\n",
      "[codecarbon INFO @ 11:31:03] 0.005920 kWh of electricity used since the beginning.\n"
     ]
    },
    {
     "name": "stdout",
     "output_type": "stream",
     "text": [
      "17/17 [==============================] - 2s 92ms/step - loss: 0.0194 - val_loss: 0.0134\n",
      "Epoch 235/300\n",
      "17/17 [==============================] - 2s 103ms/step - loss: 0.0192 - val_loss: 0.0134\n",
      "Epoch 236/300\n",
      "17/17 [==============================] - 2s 109ms/step - loss: 0.0198 - val_loss: 0.0133\n",
      "Epoch 237/300\n",
      "17/17 [==============================] - 2s 102ms/step - loss: 0.0191 - val_loss: 0.0142\n",
      "Epoch 238/300\n",
      "17/17 [==============================] - 2s 100ms/step - loss: 0.0194 - val_loss: 0.0139\n",
      "Epoch 239/300\n",
      " 1/17 [>.............................] - ETA: 1s - loss: 0.0169"
     ]
    },
    {
     "name": "stderr",
     "output_type": "stream",
     "text": [
      "[codecarbon INFO @ 11:31:11] Energy consumed for RAM : 0.001231 kWh. RAM Power : 11.891499996185303 W\n",
      "[codecarbon INFO @ 11:31:11] Energy consumed for all CPUs : 0.004409 kWh. Total CPU Power : 42.5 W\n"
     ]
    },
    {
     "name": "stdout",
     "output_type": "stream",
     "text": [
      "17/17 [==============================] - ETA: 0s - loss: 0.0199"
     ]
    },
    {
     "name": "stderr",
     "output_type": "stream",
     "text": [
      "[codecarbon INFO @ 11:31:13] Energy consumed for all GPUs : 0.000420 kWh. Total GPU Power : 4.14734845909023 W\n",
      "[codecarbon INFO @ 11:31:13] 0.006060 kWh of electricity used since the beginning.\n"
     ]
    },
    {
     "name": "stdout",
     "output_type": "stream",
     "text": [
      "17/17 [==============================] - 2s 93ms/step - loss: 0.0199 - val_loss: 0.0144\n",
      "Epoch 240/300\n",
      "17/17 [==============================] - 2s 93ms/step - loss: 0.0195 - val_loss: 0.0141\n",
      "Epoch 241/300\n",
      "17/17 [==============================] - 2s 87ms/step - loss: 0.0193 - val_loss: 0.0134\n",
      "Epoch 242/300\n",
      "17/17 [==============================] - 2s 91ms/step - loss: 0.0194 - val_loss: 0.0135\n",
      "Epoch 243/300\n",
      "17/17 [==============================] - 2s 91ms/step - loss: 0.0194 - val_loss: 0.0146\n",
      "Epoch 244/300\n",
      "17/17 [==============================] - 1s 88ms/step - loss: 0.0193 - val_loss: 0.0137\n",
      "Epoch 245/300\n",
      " 9/17 [==============>...............] - ETA: 0s - loss: 0.0193"
     ]
    },
    {
     "name": "stderr",
     "output_type": "stream",
     "text": [
      "[codecarbon INFO @ 11:31:21] Energy consumed for RAM : 0.001259 kWh. RAM Power : 11.891499996185303 W\n",
      "[codecarbon INFO @ 11:31:21] Energy consumed for all CPUs : 0.004511 kWh. Total CPU Power : 42.5 W\n"
     ]
    },
    {
     "name": "stdout",
     "output_type": "stream",
     "text": [
      "17/17 [==============================] - 2s 96ms/step - loss: 0.0195 - val_loss: 0.0138\n",
      "Epoch 246/300\n",
      " 7/17 [===========>..................] - ETA: 0s - loss: 0.0184"
     ]
    },
    {
     "name": "stderr",
     "output_type": "stream",
     "text": [
      "[codecarbon INFO @ 11:31:23] Energy consumed for all GPUs : 0.000430 kWh. Total GPU Power : 4.0238444581489405 W\n",
      "[codecarbon INFO @ 11:31:23] 0.006200 kWh of electricity used since the beginning.\n"
     ]
    },
    {
     "name": "stdout",
     "output_type": "stream",
     "text": [
      "17/17 [==============================] - 2s 90ms/step - loss: 0.0189 - val_loss: 0.0132\n",
      "Epoch 247/300\n",
      "17/17 [==============================] - 2s 96ms/step - loss: 0.0190 - val_loss: 0.0147\n",
      "Epoch 248/300\n",
      "17/17 [==============================] - 1s 81ms/step - loss: 0.0189 - val_loss: 0.0140\n",
      "Epoch 249/300\n",
      "17/17 [==============================] - 2s 91ms/step - loss: 0.0193 - val_loss: 0.0140\n",
      "Epoch 250/300\n",
      "17/17 [==============================] - 2s 96ms/step - loss: 0.0192 - val_loss: 0.0135\n",
      "Epoch 251/300\n",
      "17/17 [==============================] - ETA: 0s - loss: 0.0191"
     ]
    },
    {
     "name": "stderr",
     "output_type": "stream",
     "text": [
      "[codecarbon INFO @ 11:31:31] Energy consumed for RAM : 0.001287 kWh. RAM Power : 11.891499996185303 W\n",
      "[codecarbon INFO @ 11:31:31] Energy consumed for all CPUs : 0.004613 kWh. Total CPU Power : 42.5 W\n"
     ]
    },
    {
     "name": "stdout",
     "output_type": "stream",
     "text": [
      "17/17 [==============================] - 2s 87ms/step - loss: 0.0191 - val_loss: 0.0136\n",
      "Epoch 252/300\n",
      "17/17 [==============================] - ETA: 0s - loss: 0.0190"
     ]
    },
    {
     "name": "stderr",
     "output_type": "stream",
     "text": [
      "[codecarbon INFO @ 11:31:33] Energy consumed for all GPUs : 0.000440 kWh. Total GPU Power : 4.169845643635973 W\n",
      "[codecarbon INFO @ 11:31:33] 0.006340 kWh of electricity used since the beginning.\n"
     ]
    },
    {
     "name": "stdout",
     "output_type": "stream",
     "text": [
      "17/17 [==============================] - 1s 87ms/step - loss: 0.0190 - val_loss: 0.0144\n",
      "Epoch 253/300\n",
      "17/17 [==============================] - 2s 95ms/step - loss: 0.0188 - val_loss: 0.0140\n",
      "Epoch 254/300\n",
      "17/17 [==============================] - 2s 110ms/step - loss: 0.0185 - val_loss: 0.0129\n",
      "Epoch 255/300\n",
      "17/17 [==============================] - 2s 105ms/step - loss: 0.0184 - val_loss: 0.0131\n",
      "Epoch 256/300\n",
      "17/17 [==============================] - 2s 106ms/step - loss: 0.0184 - val_loss: 0.0140\n",
      "Epoch 257/300\n",
      "15/17 [=========================>....] - ETA: 0s - loss: 0.0194"
     ]
    },
    {
     "name": "stderr",
     "output_type": "stream",
     "text": [
      "[codecarbon INFO @ 11:31:41] Energy consumed for RAM : 0.001316 kWh. RAM Power : 11.891499996185303 W\n",
      "[codecarbon INFO @ 11:31:41] Energy consumed for all CPUs : 0.004714 kWh. Total CPU Power : 42.5 W\n"
     ]
    },
    {
     "name": "stdout",
     "output_type": "stream",
     "text": [
      "17/17 [==============================] - 2s 105ms/step - loss: 0.0194 - val_loss: 0.0142\n",
      "Epoch 258/300\n",
      "12/17 [====================>.........] - ETA: 0s - loss: 0.0192"
     ]
    },
    {
     "name": "stderr",
     "output_type": "stream",
     "text": [
      "[codecarbon INFO @ 11:31:43] Energy consumed for all GPUs : 0.000449 kWh. Total GPU Power : 4.041928943274502 W\n",
      "[codecarbon INFO @ 11:31:43] 0.006479 kWh of electricity used since the beginning.\n"
     ]
    },
    {
     "name": "stdout",
     "output_type": "stream",
     "text": [
      "17/17 [==============================] - 2s 94ms/step - loss: 0.0190 - val_loss: 0.0138\n",
      "Epoch 259/300\n",
      "17/17 [==============================] - 2s 111ms/step - loss: 0.0185 - val_loss: 0.0134\n",
      "Epoch 260/300\n",
      "17/17 [==============================] - 2s 111ms/step - loss: 0.0183 - val_loss: 0.0130\n",
      "Epoch 261/300\n",
      "17/17 [==============================] - 2s 109ms/step - loss: 0.0181 - val_loss: 0.0131\n",
      "Epoch 262/300\n",
      "17/17 [==============================] - 2s 93ms/step - loss: 0.0188 - val_loss: 0.0132\n",
      "Epoch 263/300\n",
      "10/17 [================>.............] - ETA: 0s - loss: 0.0189"
     ]
    },
    {
     "name": "stderr",
     "output_type": "stream",
     "text": [
      "[codecarbon INFO @ 11:31:51] Energy consumed for RAM : 0.001344 kWh. RAM Power : 11.891499996185303 W\n",
      "[codecarbon INFO @ 11:31:51] Energy consumed for all CPUs : 0.004816 kWh. Total CPU Power : 42.5 W\n"
     ]
    },
    {
     "name": "stdout",
     "output_type": "stream",
     "text": [
      "17/17 [==============================] - 1s 83ms/step - loss: 0.0190 - val_loss: 0.0139\n",
      "Epoch 264/300\n",
      " 9/17 [==============>...............] - ETA: 0s - loss: 0.0188"
     ]
    },
    {
     "name": "stderr",
     "output_type": "stream",
     "text": [
      "[codecarbon INFO @ 11:31:53] Energy consumed for all GPUs : 0.000459 kWh. Total GPU Power : 4.156492081911252 W\n",
      "[codecarbon INFO @ 11:31:53] 0.006619 kWh of electricity used since the beginning.\n"
     ]
    },
    {
     "name": "stdout",
     "output_type": "stream",
     "text": [
      "17/17 [==============================] - 1s 83ms/step - loss: 0.0191 - val_loss: 0.0133\n",
      "Epoch 265/300\n",
      "17/17 [==============================] - 2s 106ms/step - loss: 0.0191 - val_loss: 0.0132\n",
      "Epoch 266/300\n",
      "17/17 [==============================] - 2s 90ms/step - loss: 0.0190 - val_loss: 0.0134\n",
      "Epoch 267/300\n",
      "17/17 [==============================] - 1s 85ms/step - loss: 0.0181 - val_loss: 0.0137\n",
      "Epoch 268/300\n",
      "17/17 [==============================] - 2s 89ms/step - loss: 0.0182 - val_loss: 0.0134\n",
      "Epoch 269/300\n",
      "17/17 [==============================] - ETA: 0s - loss: 0.0179"
     ]
    },
    {
     "name": "stderr",
     "output_type": "stream",
     "text": [
      "[codecarbon INFO @ 11:32:01] Energy consumed for RAM : 0.001373 kWh. RAM Power : 11.891499996185303 W\n",
      "[codecarbon INFO @ 11:32:01] Energy consumed for all CPUs : 0.004918 kWh. Total CPU Power : 42.5 W\n"
     ]
    },
    {
     "name": "stdout",
     "output_type": "stream",
     "text": [
      "17/17 [==============================] - 2s 99ms/step - loss: 0.0179 - val_loss: 0.0138\n",
      "Epoch 270/300\n",
      "16/17 [===========================>..] - ETA: 0s - loss: 0.0180"
     ]
    },
    {
     "name": "stderr",
     "output_type": "stream",
     "text": [
      "[codecarbon INFO @ 11:32:03] Energy consumed for all GPUs : 0.000469 kWh. Total GPU Power : 4.264112073126621 W\n",
      "[codecarbon INFO @ 11:32:03] 0.006760 kWh of electricity used since the beginning.\n"
     ]
    },
    {
     "name": "stdout",
     "output_type": "stream",
     "text": [
      "17/17 [==============================] - 2s 90ms/step - loss: 0.0179 - val_loss: 0.0141\n",
      "Epoch 271/300\n"
     ]
    },
    {
     "name": "stderr",
     "output_type": "stream",
     "text": [
      "[codecarbon INFO @ 11:32:03] 0.000280 g.CO2eq/s mean an estimation of 8.827155922506233 kg.CO2eq/year\n"
     ]
    },
    {
     "name": "stdout",
     "output_type": "stream",
     "text": [
      "17/17 [==============================] - 1s 87ms/step - loss: 0.0180 - val_loss: 0.0135\n",
      "Epoch 272/300\n",
      "17/17 [==============================] - 2s 93ms/step - loss: 0.0178 - val_loss: 0.0126\n",
      "Epoch 273/300\n",
      "17/17 [==============================] - 2s 88ms/step - loss: 0.0184 - val_loss: 0.0146\n",
      "Epoch 274/300\n",
      "17/17 [==============================] - 2s 101ms/step - loss: 0.0188 - val_loss: 0.0133\n",
      "Epoch 275/300\n",
      "17/17 [==============================] - 1s 85ms/step - loss: 0.0188 - val_loss: 0.0133\n",
      "Epoch 276/300\n",
      " 7/17 [===========>..................] - ETA: 0s - loss: 0.0172"
     ]
    },
    {
     "name": "stderr",
     "output_type": "stream",
     "text": [
      "[codecarbon INFO @ 11:32:11] Energy consumed for RAM : 0.001401 kWh. RAM Power : 11.891499996185303 W\n"
     ]
    },
    {
     "name": "stdout",
     "output_type": "stream",
     "text": [
      " 8/17 [=============>................] - ETA: 0s - loss: 0.0175"
     ]
    },
    {
     "name": "stderr",
     "output_type": "stream",
     "text": [
      "[codecarbon INFO @ 11:32:11] Energy consumed for all CPUs : 0.005020 kWh. Total CPU Power : 42.5 W\n"
     ]
    },
    {
     "name": "stdout",
     "output_type": "stream",
     "text": [
      "17/17 [==============================] - 2s 97ms/step - loss: 0.0178 - val_loss: 0.0139\n",
      "Epoch 277/300\n",
      " 5/17 [=======>......................] - ETA: 0s - loss: 0.0186"
     ]
    },
    {
     "name": "stderr",
     "output_type": "stream",
     "text": [
      "[codecarbon INFO @ 11:32:13] Energy consumed for all GPUs : 0.000479 kWh. Total GPU Power : 4.065164360377983 W\n",
      "[codecarbon INFO @ 11:32:13] 0.006900 kWh of electricity used since the beginning.\n"
     ]
    },
    {
     "name": "stdout",
     "output_type": "stream",
     "text": [
      "17/17 [==============================] - 1s 84ms/step - loss: 0.0178 - val_loss: 0.0130\n",
      "Epoch 278/300\n",
      "17/17 [==============================] - 2s 99ms/step - loss: 0.0186 - val_loss: 0.0140\n",
      "Epoch 279/300\n",
      "17/17 [==============================] - 2s 101ms/step - loss: 0.0187 - val_loss: 0.0146\n",
      "Epoch 280/300\n",
      "17/17 [==============================] - 2s 104ms/step - loss: 0.0182 - val_loss: 0.0130\n",
      "Epoch 281/300\n",
      "17/17 [==============================] - 2s 105ms/step - loss: 0.0182 - val_loss: 0.0132\n",
      "Epoch 282/300\n",
      " 5/17 [=======>......................] - ETA: 1s - loss: 0.0197"
     ]
    },
    {
     "name": "stderr",
     "output_type": "stream",
     "text": [
      "[codecarbon INFO @ 11:32:21] Energy consumed for RAM : 0.001429 kWh. RAM Power : 11.891499996185303 W\n"
     ]
    },
    {
     "name": "stdout",
     "output_type": "stream",
     "text": [
      " 6/17 [=========>....................] - ETA: 1s - loss: 0.0193"
     ]
    },
    {
     "name": "stderr",
     "output_type": "stream",
     "text": [
      "[codecarbon INFO @ 11:32:21] Energy consumed for all CPUs : 0.005121 kWh. Total CPU Power : 42.5 W\n"
     ]
    },
    {
     "name": "stdout",
     "output_type": "stream",
     "text": [
      "17/17 [==============================] - 2s 99ms/step - loss: 0.0178 - val_loss: 0.0135\n",
      "Epoch 283/300\n",
      " 3/17 [====>.........................] - ETA: 1s - loss: 0.0181"
     ]
    },
    {
     "name": "stderr",
     "output_type": "stream",
     "text": [
      "[codecarbon INFO @ 11:32:23] Energy consumed for all GPUs : 0.000489 kWh. Total GPU Power : 4.171345992384949 W\n",
      "[codecarbon INFO @ 11:32:23] 0.007040 kWh of electricity used since the beginning.\n"
     ]
    },
    {
     "name": "stdout",
     "output_type": "stream",
     "text": [
      "17/17 [==============================] - 2s 95ms/step - loss: 0.0183 - val_loss: 0.0138\n",
      "Epoch 284/300\n",
      "17/17 [==============================] - 2s 102ms/step - loss: 0.0182 - val_loss: 0.0122\n",
      "Epoch 285/300\n",
      "17/17 [==============================] - 2s 94ms/step - loss: 0.0173 - val_loss: 0.0131\n",
      "Epoch 286/300\n",
      "17/17 [==============================] - 2s 102ms/step - loss: 0.0176 - val_loss: 0.0140\n",
      "Epoch 287/300\n",
      "17/17 [==============================] - 2s 103ms/step - loss: 0.0175 - val_loss: 0.0127\n",
      "Epoch 288/300\n",
      " 4/17 [======>.......................] - ETA: 1s - loss: 0.0180"
     ]
    },
    {
     "name": "stderr",
     "output_type": "stream",
     "text": [
      "[codecarbon INFO @ 11:32:31] Energy consumed for RAM : 0.001458 kWh. RAM Power : 11.891499996185303 W\n"
     ]
    },
    {
     "name": "stdout",
     "output_type": "stream",
     "text": [
      " 5/17 [=======>......................] - ETA: 1s - loss: 0.0181"
     ]
    },
    {
     "name": "stderr",
     "output_type": "stream",
     "text": [
      "[codecarbon INFO @ 11:32:31] Energy consumed for all CPUs : 0.005223 kWh. Total CPU Power : 42.5 W\n"
     ]
    },
    {
     "name": "stdout",
     "output_type": "stream",
     "text": [
      "17/17 [==============================] - 2s 93ms/step - loss: 0.0179 - val_loss: 0.0137\n",
      "Epoch 289/300\n",
      " 2/17 [==>...........................] - ETA: 1s - loss: 0.0171"
     ]
    },
    {
     "name": "stderr",
     "output_type": "stream",
     "text": [
      "[codecarbon INFO @ 11:32:33] Energy consumed for all GPUs : 0.000499 kWh. Total GPU Power : 4.292689056052645 W\n",
      "[codecarbon INFO @ 11:32:33] 0.007180 kWh of electricity used since the beginning.\n"
     ]
    },
    {
     "name": "stdout",
     "output_type": "stream",
     "text": [
      "17/17 [==============================] - 2s 97ms/step - loss: 0.0177 - val_loss: 0.0135\n",
      "Epoch 290/300\n",
      "17/17 [==============================] - 2s 100ms/step - loss: 0.0179 - val_loss: 0.0137\n",
      "Epoch 291/300\n",
      "17/17 [==============================] - 2s 105ms/step - loss: 0.0177 - val_loss: 0.0127\n",
      "Epoch 292/300\n",
      "17/17 [==============================] - 2s 97ms/step - loss: 0.0184 - val_loss: 0.0128\n",
      "Epoch 293/300\n",
      "17/17 [==============================] - 2s 102ms/step - loss: 0.0177 - val_loss: 0.0136\n",
      "Epoch 294/300\n",
      " 3/17 [====>.........................] - ETA: 1s - loss: 0.0177"
     ]
    },
    {
     "name": "stderr",
     "output_type": "stream",
     "text": [
      "[codecarbon INFO @ 11:32:41] Energy consumed for RAM : 0.001486 kWh. RAM Power : 11.891499996185303 W\n",
      "[codecarbon INFO @ 11:32:41] Energy consumed for all CPUs : 0.005325 kWh. Total CPU Power : 42.5 W\n"
     ]
    },
    {
     "name": "stdout",
     "output_type": "stream",
     "text": [
      "17/17 [==============================] - 2s 94ms/step - loss: 0.0178 - val_loss: 0.0132\n",
      "Epoch 295/300\n",
      " 1/17 [>.............................] - ETA: 1s - loss: 0.0181"
     ]
    },
    {
     "name": "stderr",
     "output_type": "stream",
     "text": [
      "[codecarbon INFO @ 11:32:43] Energy consumed for all GPUs : 0.000511 kWh. Total GPU Power : 4.62749741145719 W\n",
      "[codecarbon INFO @ 11:32:43] 0.007322 kWh of electricity used since the beginning.\n"
     ]
    },
    {
     "name": "stdout",
     "output_type": "stream",
     "text": [
      "17/17 [==============================] - 2s 95ms/step - loss: 0.0176 - val_loss: 0.0133\n",
      "Epoch 296/300\n",
      "17/17 [==============================] - 2s 105ms/step - loss: 0.0173 - val_loss: 0.0132\n",
      "Epoch 297/300\n",
      "17/17 [==============================] - 2s 103ms/step - loss: 0.0171 - val_loss: 0.0125\n",
      "Epoch 298/300\n",
      "17/17 [==============================] - 2s 103ms/step - loss: 0.0173 - val_loss: 0.0142\n",
      "Epoch 299/300\n",
      "17/17 [==============================] - 2s 103ms/step - loss: 0.0175 - val_loss: 0.0127\n",
      "Epoch 300/300\n"
     ]
    },
    {
     "name": "stderr",
     "output_type": "stream",
     "text": [
      "[codecarbon INFO @ 11:32:51] Energy consumed for RAM : 0.001515 kWh. RAM Power : 11.891499996185303 W\n",
      "[codecarbon INFO @ 11:32:51] Energy consumed for all CPUs : 0.005427 kWh. Total CPU Power : 42.5 W\n"
     ]
    },
    {
     "name": "stdout",
     "output_type": "stream",
     "text": [
      "17/17 [==============================] - ETA: 0s - loss: 0.0172"
     ]
    },
    {
     "name": "stderr",
     "output_type": "stream",
     "text": [
      "[codecarbon INFO @ 11:32:53] Energy consumed for all GPUs : 0.000521 kWh. Total GPU Power : 4.198202836341091 W\n",
      "[codecarbon INFO @ 11:32:53] 0.007462 kWh of electricity used since the beginning.\n"
     ]
    },
    {
     "name": "stdout",
     "output_type": "stream",
     "text": [
      "17/17 [==============================] - 2s 91ms/step - loss: 0.0172 - val_loss: 0.0126\n"
     ]
    },
    {
     "name": "stderr",
     "output_type": "stream",
     "text": [
      "[codecarbon INFO @ 11:32:53] Energy consumed for RAM : 0.001515 kWh. RAM Power : 11.891499996185303 W\n",
      "[codecarbon INFO @ 11:32:53] Energy consumed for all CPUs : 0.005429 kWh. Total CPU Power : 42.5 W\n",
      "[codecarbon INFO @ 11:32:53] Energy consumed for all GPUs : 0.000527 kWh. Total GPU Power : 119.26551000328325 W\n",
      "[codecarbon INFO @ 11:32:53] 0.007471 kWh of electricity used since the beginning.\n"
     ]
    }
   ],
   "source": [
    "tracker_conv_lstm.start()\n",
    "try:\n",
    "    history_conv_lstm, training_duration_conv_lstm = start_training_conv_lstm()\n",
    "finally:\n",
    "    tracker_conv_lstm.stop()"
   ]
  },
  {
   "cell_type": "markdown",
   "id": "2cc986f0-59cb-406e-bf20-620c9356725c",
   "metadata": {},
   "source": [
    "#### Ploting the loss"
   ]
  },
  {
   "cell_type": "code",
   "execution_count": 21,
   "id": "5e629435-8092-46ec-9073-2c952de29b36",
   "metadata": {},
   "outputs": [
    {
     "data": {
      "image/png": "[encoded data removed]",
      "text/plain": [
       "<Figure size 2000x800 with 1 Axes>"
      ]
     },
     "metadata": {},
     "output_type": "display_data"
    }
   ],
   "source": [
    "plot_loss(history_conv_lstm)"
   ]
  },
  {
   "cell_type": "code",
   "execution_count": 22,
   "id": "5b30f12f-7690-4d97-bb47-2d4ab15f7b61",
   "metadata": {},
   "outputs": [
    {
     "name": "stdout",
     "output_type": "stream",
     "text": [
      "34/34 [==============================] - 2s 30ms/step\n"
     ]
    },
    {
     "data": {
      "text/plain": [
       "{'mae': 0.009965652, 'mse': 0.000269716, 'r2': 0.7589804530143738}"
      ]
     },
     "execution_count": 22,
     "metadata": {},
     "output_type": "execute_result"
    }
   ],
   "source": [
    "conv_lstm_model = tf.keras.models.load_model(\n",
    "    \"model_experiments/model_conv_lstm.keras\")\n",
    "\n",
    "model_preds = make_preds(conv_lstm_model, x_test_conv_lstm)\n",
    "model_results = evaluate_preds(y_true=tf.squeeze(y_test),\n",
    "                               y_pred=model_preds)\n",
    "\n",
    "model_results"
   ]
  },
  {
   "cell_type": "markdown",
   "id": "49564177-2a5b-4e3e-9e4d-cdfea775bb62",
   "metadata": {},
   "source": [
    "#### Plot predictions"
   ]
  },
  {
   "cell_type": "code",
   "execution_count": 23,
   "id": "252095b0-23c1-4b8d-9f9f-38fbc0e32ce3",
   "metadata": {},
   "outputs": [
    {
     "data": {
      "image/png": "[encoded data removed]",
      "text/plain": [
       "<Figure size 2000x1600 with 1 Axes>"
      ]
     },
     "metadata": {},
     "output_type": "display_data"
    }
   ],
   "source": [
    "import numpy as np\n",
    "\n",
    "start_offset = 1\n",
    "end_offset = 30\n",
    "plt.figure(figsize=(20, 16))\n",
    "\n",
    "\n",
    "plot_time_series(\n",
    "    timesteps=np.arange(x_test.shape[0]),\n",
    "    values=y_test,\n",
    "    start=start_offset,\n",
    "    end=end_offset,\n",
    "    format='-*',\n",
    "    label=\"Test data\"\n",
    ")\n",
    "\n",
    "plot_time_series(\n",
    "    timesteps=np.arange(x_test.shape[0]),\n",
    "    values=model_preds,\n",
    "    start=start_offset,\n",
    "    end=end_offset,\n",
    "    format=\"-\",\n",
    "    label=\"ConvLSTM predictions\"\n",
    ")"
   ]
  },
  {
   "cell_type": "code",
   "execution_count": null,
   "id": "a11403de-2473-47e2-8197-79a7fb1ba777",
   "metadata": {},
   "outputs": [],
   "source": []
  },
  {
   "cell_type": "code",
   "execution_count": null,
   "id": "5dd55191-1a07-4b5c-a4aa-e9fdd1a61353",
   "metadata": {},
   "outputs": [],
   "source": []
  }
 ],
 "metadata": {
  "kernelspec": {
   "display_name": "Python 3 (ipykernel)",
   "language": "python",
   "name": "python3"
  },
  "language_info": {
   "codemirror_mode": {
    "name": "ipython",
    "version": 3
   },
   "file_extension": ".py",
   "mimetype": "text/x-python",
   "name": "python",
   "nbconvert_exporter": "python",
   "pygments_lexer": "ipython3",
   "version": "3.11.3"
  }
 },
 "nbformat": 4,
 "nbformat_minor": 5
}
