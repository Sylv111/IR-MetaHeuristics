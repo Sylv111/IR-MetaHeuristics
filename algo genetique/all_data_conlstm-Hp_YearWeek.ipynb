{
 "cells": [
  {
   "cell_type": "markdown",
   "id": "f9b6ac3c-b5e9-40e4-ae0e-0676d5a3cf85",
   "metadata": {},
   "source": [
    "## Loading the dataset"
   ]
  },
  {
   "cell_type": "code",
   "execution_count": 1,
   "id": "4c19492b-0921-44f0-ba50-faa3b7ce5bb0",
   "metadata": {},
   "outputs": [
    {
     "data": {
      "text/html": [
       "<div>\n",
       "<style scoped>\n",
       "    .dataframe tbody tr th:only-of-type {\n",
       "        vertical-align: middle;\n",
       "    }\n",
       "\n",
       "    .dataframe tbody tr th {\n",
       "        vertical-align: top;\n",
       "    }\n",
       "\n",
       "    .dataframe thead th {\n",
       "        text-align: right;\n",
       "    }\n",
       "</style>\n",
       "<table border=\"1\" class=\"dataframe\">\n",
       "  <thead>\n",
       "    <tr style=\"text-align: right;\">\n",
       "      <th></th>\n",
       "      <th>production</th>\n",
       "      <th>p_per_m2</th>\n",
       "      <th>p_max</th>\n",
       "      <th>panel_area</th>\n",
       "      <th>facade_area</th>\n",
       "      <th>total_panel_area</th>\n",
       "      <th>exploitation_ratio</th>\n",
       "      <th>air_temp_mean</th>\n",
       "      <th>air_temp_max</th>\n",
       "      <th>clearsky_ghi_mean</th>\n",
       "      <th>...</th>\n",
       "      <th>surface_pressure_mean</th>\n",
       "      <th>surface_pressure_min</th>\n",
       "      <th>surface_pressure_max</th>\n",
       "      <th>wind_direction_100m_mean</th>\n",
       "      <th>wind_direction_100m_min</th>\n",
       "      <th>wind_direction_100m_max</th>\n",
       "      <th>wind_speed_100m_mean</th>\n",
       "      <th>wind_speed_100m_min</th>\n",
       "      <th>wind_speed_100m_max</th>\n",
       "      <th>building_id</th>\n",
       "    </tr>\n",
       "  </thead>\n",
       "  <tbody>\n",
       "    <tr>\n",
       "      <th>0</th>\n",
       "      <td>0.8</td>\n",
       "      <td>143.0</td>\n",
       "      <td>210</td>\n",
       "      <td>1.72</td>\n",
       "      <td>218.0</td>\n",
       "      <td>94.6</td>\n",
       "      <td>0.434</td>\n",
       "      <td>6.255319</td>\n",
       "      <td>7</td>\n",
       "      <td>61.340426</td>\n",
       "      <td>...</td>\n",
       "      <td>1031.902128</td>\n",
       "      <td>1030.8</td>\n",
       "      <td>1034.5</td>\n",
       "      <td>256.340426</td>\n",
       "      <td>227</td>\n",
       "      <td>312</td>\n",
       "      <td>5.036170</td>\n",
       "      <td>2.2</td>\n",
       "      <td>7.4</td>\n",
       "      <td>1</td>\n",
       "    </tr>\n",
       "    <tr>\n",
       "      <th>1</th>\n",
       "      <td>16.9</td>\n",
       "      <td>143.0</td>\n",
       "      <td>210</td>\n",
       "      <td>1.72</td>\n",
       "      <td>218.0</td>\n",
       "      <td>94.6</td>\n",
       "      <td>0.434</td>\n",
       "      <td>3.375000</td>\n",
       "      <td>5</td>\n",
       "      <td>59.520833</td>\n",
       "      <td>...</td>\n",
       "      <td>1034.843750</td>\n",
       "      <td>1031.6</td>\n",
       "      <td>1038.1</td>\n",
       "      <td>317.437500</td>\n",
       "      <td>294</td>\n",
       "      <td>339</td>\n",
       "      <td>6.245833</td>\n",
       "      <td>2.0</td>\n",
       "      <td>7.6</td>\n",
       "      <td>1</td>\n",
       "    </tr>\n",
       "    <tr>\n",
       "      <th>2</th>\n",
       "      <td>1.4</td>\n",
       "      <td>143.0</td>\n",
       "      <td>210</td>\n",
       "      <td>1.72</td>\n",
       "      <td>218.0</td>\n",
       "      <td>94.6</td>\n",
       "      <td>0.434</td>\n",
       "      <td>-0.666667</td>\n",
       "      <td>2</td>\n",
       "      <td>59.916667</td>\n",
       "      <td>...</td>\n",
       "      <td>1038.256250</td>\n",
       "      <td>1037.5</td>\n",
       "      <td>1039.3</td>\n",
       "      <td>290.979167</td>\n",
       "      <td>211</td>\n",
       "      <td>345</td>\n",
       "      <td>2.154167</td>\n",
       "      <td>1.1</td>\n",
       "      <td>3.5</td>\n",
       "      <td>1</td>\n",
       "    </tr>\n",
       "    <tr>\n",
       "      <th>3</th>\n",
       "      <td>6.6</td>\n",
       "      <td>143.0</td>\n",
       "      <td>210</td>\n",
       "      <td>1.72</td>\n",
       "      <td>218.0</td>\n",
       "      <td>94.6</td>\n",
       "      <td>0.434</td>\n",
       "      <td>1.083333</td>\n",
       "      <td>3</td>\n",
       "      <td>63.166667</td>\n",
       "      <td>...</td>\n",
       "      <td>1037.075000</td>\n",
       "      <td>1035.6</td>\n",
       "      <td>1038.6</td>\n",
       "      <td>227.041667</td>\n",
       "      <td>2</td>\n",
       "      <td>359</td>\n",
       "      <td>2.637500</td>\n",
       "      <td>0.6</td>\n",
       "      <td>4.6</td>\n",
       "      <td>1</td>\n",
       "    </tr>\n",
       "    <tr>\n",
       "      <th>4</th>\n",
       "      <td>0.3</td>\n",
       "      <td>143.0</td>\n",
       "      <td>210</td>\n",
       "      <td>1.72</td>\n",
       "      <td>218.0</td>\n",
       "      <td>94.6</td>\n",
       "      <td>0.434</td>\n",
       "      <td>2.479167</td>\n",
       "      <td>4</td>\n",
       "      <td>60.812500</td>\n",
       "      <td>...</td>\n",
       "      <td>1032.722917</td>\n",
       "      <td>1031.7</td>\n",
       "      <td>1035.6</td>\n",
       "      <td>259.770833</td>\n",
       "      <td>236</td>\n",
       "      <td>287</td>\n",
       "      <td>5.212500</td>\n",
       "      <td>3.7</td>\n",
       "      <td>6.2</td>\n",
       "      <td>1</td>\n",
       "    </tr>\n",
       "  </tbody>\n",
       "</table>\n",
       "<p>5 rows × 35 columns</p>\n",
       "</div>"
      ],
      "text/plain": [
       "   production  p_per_m2  p_max  panel_area  facade_area  total_panel_area  \\\n",
       "0         0.8     143.0    210        1.72        218.0              94.6   \n",
       "1        16.9     143.0    210        1.72        218.0              94.6   \n",
       "2         1.4     143.0    210        1.72        218.0              94.6   \n",
       "3         6.6     143.0    210        1.72        218.0              94.6   \n",
       "4         0.3     143.0    210        1.72        218.0              94.6   \n",
       "\n",
       "   exploitation_ratio  air_temp_mean  air_temp_max  clearsky_ghi_mean  ...  \\\n",
       "0               0.434       6.255319             7          61.340426  ...   \n",
       "1               0.434       3.375000             5          59.520833  ...   \n",
       "2               0.434      -0.666667             2          59.916667  ...   \n",
       "3               0.434       1.083333             3          63.166667  ...   \n",
       "4               0.434       2.479167             4          60.812500  ...   \n",
       "\n",
       "   surface_pressure_mean  surface_pressure_min  surface_pressure_max  \\\n",
       "0            1031.902128                1030.8                1034.5   \n",
       "1            1034.843750                1031.6                1038.1   \n",
       "2            1038.256250                1037.5                1039.3   \n",
       "3            1037.075000                1035.6                1038.6   \n",
       "4            1032.722917                1031.7                1035.6   \n",
       "\n",
       "   wind_direction_100m_mean  wind_direction_100m_min  wind_direction_100m_max  \\\n",
       "0                256.340426                      227                      312   \n",
       "1                317.437500                      294                      339   \n",
       "2                290.979167                      211                      345   \n",
       "3                227.041667                        2                      359   \n",
       "4                259.770833                      236                      287   \n",
       "\n",
       "   wind_speed_100m_mean  wind_speed_100m_min  wind_speed_100m_max  building_id  \n",
       "0              5.036170                  2.2                  7.4            1  \n",
       "1              6.245833                  2.0                  7.6            1  \n",
       "2              2.154167                  1.1                  3.5            1  \n",
       "3              2.637500                  0.6                  4.6            1  \n",
       "4              5.212500                  3.7                  6.2            1  \n",
       "\n",
       "[5 rows x 35 columns]"
      ]
     },
     "execution_count": 1,
     "metadata": {},
     "output_type": "execute_result"
    }
   ],
   "source": [
    "import pandas as pd\n",
    "df = pd.read_csv(\"./scaled_dataset.csv\")\n",
    "df.head()"
   ]
  },
  {
   "cell_type": "markdown",
   "id": "4884091d-d900-4304-bd85-494bca99d696",
   "metadata": {},
   "source": [
    "## Preoaring the (x,y) pairs"
   ]
  },
  {
   "cell_type": "markdown",
   "id": "c92e315f-50db-4459-9b4e-48b207193796",
   "metadata": {},
   "source": [
    "### Scaling the data"
   ]
  },
  {
   "cell_type": "code",
   "execution_count": 2,
   "id": "5614cf96-d036-4107-8fec-1fb22af9a4fd",
   "metadata": {},
   "outputs": [],
   "source": [
    "from sklearn.preprocessing import MinMaxScaler\n",
    "\n",
    "\n",
    "scaler = MinMaxScaler(feature_range=(0, 1))\n",
    "data_scaled = scaler.fit_transform(df.values)"
   ]
  },
  {
   "cell_type": "markdown",
   "id": "3d1e5543-f09d-41a0-bbab-974a3d0dd1a2",
   "metadata": {},
   "source": [
    "### Creating windows"
   ]
  },
  {
   "cell_type": "code",
   "execution_count": 3,
   "id": "828b7f15-0f3d-400a-a3f2-bd986c2680d8",
   "metadata": {},
   "outputs": [],
   "source": [
    "production_column = 'production'\n",
    "\n",
    "def get_target_column_index(df, target_column):\n",
    "    for i, column in enumerate(df.columns):\n",
    "        if column == target_column:\n",
    "            return i\n",
    "\n",
    "    return -1"
   ]
  },
  {
   "cell_type": "code",
   "execution_count": 4,
   "id": "c822e6f8-d837-453f-b70c-bbf367ac8581",
   "metadata": {},
   "outputs": [],
   "source": [
    "import numpy as np\n",
    "\n",
    "def get_windows(data, window_size=10):\n",
    "    x = []\n",
    "    y = []\n",
    "\n",
    "    for i in range(window_size, len(data)):\n",
    "        x.append(data[i-window_size:i])\n",
    "        y.append(data[i][get_target_column_index(df, production_column)])\n",
    "\n",
    "    return np.array(x), np.array(y)"
   ]
  },
  {
   "cell_type": "code",
   "execution_count": 5,
   "id": "3543cb8c-621f-41cd-9017-f8fc0356ee2f",
   "metadata": {},
   "outputs": [
    {
     "data": {
      "text/plain": [
       "((10847, 24, 35), (10847,))"
      ]
     },
     "execution_count": 5,
     "metadata": {},
     "output_type": "execute_result"
    }
   ],
   "source": [
    "window_size = 2*12  # 2*1h window\n",
    "x, y = get_windows(data_scaled, window_size=window_size)\n",
    "\n",
    "x.shape, y.shape"
   ]
  },
  {
   "cell_type": "markdown",
   "id": "799e0794-8c1e-4b66-8dbd-3e2534af076a",
   "metadata": {},
   "source": [
    "### Splitting the data"
   ]
  },
  {
   "cell_type": "code",
   "execution_count": 6,
   "id": "8ce26028-3567-4237-a04a-b7ed4c0403da",
   "metadata": {},
   "outputs": [
    {
     "data": {
      "text/plain": [
       "((8696, 24, 35), (8696,), (1087, 24, 35), (1087,), (1064, 24, 35), (1064,))"
      ]
     },
     "execution_count": 6,
     "metadata": {},
     "output_type": "execute_result"
    }
   ],
   "source": [
    "train_split_index = int(0.8 * len(df))\n",
    "test_split_index = int(0.9 * len(df))\n",
    "\n",
    "x_train, y_train = x[:train_split_index], y[:train_split_index]\n",
    "x_test, y_test = x[train_split_index:test_split_index], y[train_split_index:test_split_index]\n",
    "x_val, y_val = x[test_split_index:], y[test_split_index:]\n",
    "\n",
    "x_train.shape, y_train.shape, x_test.shape, y_test.shape, x_val.shape, y_val.shape"
   ]
  },
  {
   "cell_type": "markdown",
   "id": "68e0261d-acc0-49c8-bacc-3e95052c3ddd",
   "metadata": {},
   "source": [
    "### Plotting the splits"
   ]
  },
  {
   "cell_type": "code",
   "execution_count": 7,
   "id": "2cc98741-cdf2-42dc-9758-28cbeaa75ccc",
   "metadata": {},
   "outputs": [],
   "source": [
    "import matplotlib.pyplot as plt\n",
    "\n",
    "\n",
    "def plot_time_series(timesteps, values, label, format='-^', start=0, end=None):\n",
    "    plt.plot(timesteps[start:end], values[start:end], format, label=label)\n",
    "    plt.xlabel(\"date\")\n",
    "    plt.ylabel(\"production\")\n",
    "\n",
    "    plt.legend(fontsize=14)\n",
    "    plt.grid(True)"
   ]
  },
  {
   "cell_type": "code",
   "execution_count": 8,
   "id": "1e4d350a-513b-4dec-abee-ca02a0c63714",
   "metadata": {},
   "outputs": [
    {
     "data": {
      "image/png": "[encoded data removed]",
      "text/plain": [
       "<Figure size 2000x1600 with 1 Axes>"
      ]
     },
     "metadata": {},
     "output_type": "display_data"
    }
   ],
   "source": [
    "plt.figure(figsize=(20, 16))\n",
    "\n",
    "timesteps = range(len(x_train))\n",
    "plot_time_series(timesteps=timesteps, values=y_train, label=\"Train data\")\n",
    "\n",
    "timesteps = range(len(x_train), len(x_train) + len(x_test))\n",
    "plot_time_series(timesteps=timesteps, values=y_test, label=\"Test data\")\n",
    "\n",
    "timesteps = range(len(x_train) + len(x_test),\n",
    "                  len(x_train) + len(x_test) + len(x_val))\n",
    "plot_time_series(timesteps=timesteps, values=y_val, label=\"Validation data\")"
   ]
  },
  {
   "cell_type": "markdown",
   "id": "2a30768c-58a9-40a3-83a8-39ec459bfef3",
   "metadata": {},
   "source": [
    "### Preparing the performances metrics"
   ]
  },
  {
   "cell_type": "code",
   "execution_count": 9,
   "id": "c31ce7bc-9beb-48cb-9d47-c8d0ec729933",
   "metadata": {},
   "outputs": [
    {
     "name": "stdout",
     "output_type": "stream",
     "text": [
      "WARNING:tensorflow:From C:\\Users\\peesc\\AppData\\Local\\Programs\\Python\\Python311\\Lib\\site-packages\\keras\\src\\losses.py:2976: The name tf.losses.sparse_softmax_cross_entropy is deprecated. Please use tf.compat.v1.losses.sparse_softmax_cross_entropy instead.\n",
      "\n"
     ]
    }
   ],
   "source": [
    "import tensorflow as tf\n",
    "from sklearn.metrics import r2_score"
   ]
  },
  {
   "cell_type": "code",
   "execution_count": 10,
   "id": "26a1487c-f303-4fe6-a294-f1bc1590bdcb",
   "metadata": {},
   "outputs": [],
   "source": [
    "def evaluate_model(y_true, y_pred):\n",
    "    mse = mean_squared_error(y_true, y_pred)\n",
    "    r2 = r2_score(y_true, y_pred)\n",
    "    mae = mean_absolute_error(y_true, y_pred)\n",
    "    mape = mean_absolute_percentage_error(y_true, y_pred)\n",
    "\n",
    "    return {\n",
    "        'mse': mse,\n",
    "        'r2': r2,\n",
    "        'mae': mae,\n",
    "        'mape': mape,\n",
    "    }"
   ]
  },
  {
   "cell_type": "code",
   "execution_count": 11,
   "id": "25d39e89-2f6a-4796-acd4-a100851eb388",
   "metadata": {},
   "outputs": [],
   "source": [
    "def evaluate_preds(y_true, y_pred):\n",
    "    y_true = tf.cast(y_true, dtype=tf.float32)\n",
    "    y_pred = tf.cast(y_pred, dtype=tf.float32)\n",
    "\n",
    "    mae_metric = tf.keras.metrics.MeanAbsoluteError()\n",
    "    mse_metric = tf.keras.metrics.MeanSquaredError()\n",
    "\n",
    "    mae_metric.update_state(y_true, y_pred)\n",
    "    mse_metric.update_state(y_true, y_pred)\n",
    "\n",
    "    mae = mae_metric.result().numpy()\n",
    "    mse = mse_metric.result().numpy()\n",
    "    r2 = r2_score(y_true.numpy(), y_pred.numpy())  # Assure-toi que y_true et y_pred sont des numpy arrays\n",
    "\n",
    "    return {\n",
    "        \"mae\": mae,\n",
    "        \"mse\": mse,\n",
    "        \"r2\": r2\n",
    "    }"
   ]
  },
  {
   "cell_type": "markdown",
   "id": "b091dd23-b359-4f7d-9086-52aa01750244",
   "metadata": {},
   "source": [
    "## Modeling"
   ]
  },
  {
   "cell_type": "code",
   "execution_count": 12,
   "id": "e41d3a7a-fe12-4fb2-8d53-bfd8af90a63c",
   "metadata": {},
   "outputs": [],
   "source": [
    "import os\n",
    "import tensorflow as tf\n",
    "\n",
    "from keras.layers import Dense, Dropout, LSTM, Flatten, ConvLSTM1D, MaxPool1D, GlobalMaxPool1D, Conv1D, Conv2D\n",
    "from keras.callbacks import EarlyStopping\n",
    "\n",
    "import matplotlib.pyplot as plt"
   ]
  },
  {
   "cell_type": "markdown",
   "id": "78e4f3c7-18db-470f-a25c-b522891ca857",
   "metadata": {},
   "source": [
    "### Plotting the loss"
   ]
  },
  {
   "cell_type": "code",
   "execution_count": 13,
   "id": "50aac448-442c-4bb5-8733-8a616947c50e",
   "metadata": {},
   "outputs": [],
   "source": [
    "def plot_loss(history):\n",
    "    plt.figure(figsize=(20, 8))\n",
    "\n",
    "    loss = history.history['loss']\n",
    "    val_loss = history.history['val_loss']\n",
    "    epochs = range(len(loss))\n",
    "\n",
    "    plt.plot(epochs, loss, 'b', label='Training loss')\n",
    "    plt.plot(epochs, val_loss, 'r', label='Validation loss')\n",
    "    plt.title('Training and validation loss')\n",
    "    plt.legend()\n",
    "\n",
    "    plt.show()"
   ]
  },
  {
   "cell_type": "markdown",
   "id": "88b8618c-48b8-49a0-8941-9b2508db007b",
   "metadata": {},
   "source": [
    "### Creating callbacks"
   ]
  },
  {
   "cell_type": "code",
   "execution_count": 14,
   "id": "965adcad-34ba-4eef-9b7a-77613811b525",
   "metadata": {},
   "outputs": [],
   "source": [
    "stop_early = EarlyStopping(monitor='val_loss', patience=5)\n",
    "\n",
    "\n",
    "def create_model_checkpoint(model_name, save_path=\"model_experiments\"):\n",
    "    return tf.keras.callbacks.ModelCheckpoint(filepath=os.path.join(save_path, model_name),\n",
    "                                              verbose=0,\n",
    "                                              save_best_only=True)"
   ]
  },
  {
   "cell_type": "markdown",
   "id": "6ce8ff1f-d21a-445c-ad0f-dff20fec0615",
   "metadata": {},
   "source": [
    "### Utils function"
   ]
  },
  {
   "cell_type": "code",
   "execution_count": 15,
   "id": "c93c80a3-ef8f-45a8-8603-bf7abccbe7cf",
   "metadata": {},
   "outputs": [],
   "source": [
    "def make_preds(model, input_data):\n",
    "    forecast = model.predict(input_data)\n",
    "    return tf.squeeze(forecast)"
   ]
  },
  {
   "cell_type": "markdown",
   "id": "2142904e-dfaf-400b-b058-05e5c549d9dc",
   "metadata": {},
   "source": [
    "## ConvLSTM"
   ]
  },
  {
   "cell_type": "markdown",
   "id": "8d34f641-b55f-42d9-b006-a326bf50c11b",
   "metadata": {},
   "source": [
    "#### Preparing the model"
   ]
  },
  {
   "cell_type": "code",
   "execution_count": 16,
   "id": "f9d05070-5f3a-44da-a96c-8ca6bdf4eb4a",
   "metadata": {},
   "outputs": [
    {
     "name": "stdout",
     "output_type": "stream",
     "text": [
      "(8696, 24, 35) -> (8696, 24, 1, 35)\n"
     ]
    }
   ],
   "source": [
    "x_train_conv_lstm = np.expand_dims(x_train, axis=2)\n",
    "x_val_conv_lstm = np.expand_dims(x_val, axis=2)\n",
    "x_test_conv_lstm = np.expand_dims(x_test, axis=2)\n",
    "\n",
    "print(f\"{x_train.shape} -> {x_train_conv_lstm.shape}\")"
   ]
  },
  {
   "cell_type": "code",
   "execution_count": 17,
   "id": "5d8d69b6-2f03-436a-90e5-4ff906e178de",
   "metadata": {},
   "outputs": [
    {
     "name": "stdout",
     "output_type": "stream",
     "text": [
      "WARNING:tensorflow:From C:\\Users\\peesc\\AppData\\Local\\Programs\\Python\\Python311\\Lib\\site-packages\\keras\\src\\backend.py:873: The name tf.get_default_graph is deprecated. Please use tf.compat.v1.get_default_graph instead.\n",
      "\n",
      "Model: \"model_conv_lstm.keras\"\n",
      "_________________________________________________________________\n",
      " Layer (type)                Output Shape              Param #   \n",
      "=================================================================\n",
      " conv_lstm1d (ConvLSTM1D)    (None, 24, 1, 32)         8704      \n",
      "                                                                 \n",
      " conv_lstm1d_1 (ConvLSTM1D)  (None, 1, 32)             8320      \n",
      "                                                                 \n",
      " flatten (Flatten)           (None, 32)                0         \n",
      "                                                                 \n",
      " dense (Dense)               (None, 32)                1056      \n",
      "                                                                 \n",
      " dense_1 (Dense)             (None, 1)                 33        \n",
      "                                                                 \n",
      "=================================================================\n",
      "Total params: 18113 (70.75 KB)\n",
      "Trainable params: 18113 (70.75 KB)\n",
      "Non-trainable params: 0 (0.00 Byte)\n",
      "_________________________________________________________________\n"
     ]
    }
   ],
   "source": [
    "from tensorflow.keras.layers import ConvLSTM1D, Flatten, Dense\n",
    "\n",
    "# Hyperparamètres optimisés\n",
    "filters = 32\n",
    "kernel_size = 1\n",
    "activation = 'tanh'\n",
    "dense_units = 32\n",
    "learning_rate = 0.005122099729062771\n",
    "\n",
    "tf.random.set_seed(42)\n",
    "\n",
    "input_shape = (x_train_conv_lstm.shape[1:])\n",
    "conv_lstm_model = tf.keras.Sequential([\n",
    "    ConvLSTM1D(filters=filters, kernel_size=(kernel_size,), activation=activation,\n",
    "               return_sequences=True, input_shape=input_shape),\n",
    "    ConvLSTM1D(filters=filters, kernel_size=(kernel_size,), activation=activation,\n",
    "               return_sequences=False),\n",
    "    Flatten(),\n",
    "    Dense(units=dense_units, activation='relu'),\n",
    "    Dense(1, activation=\"linear\")\n",
    "], name=\"model_conv_lstm.keras\")\n",
    "\n",
    "conv_lstm_model.compile(\n",
    "    loss=\"mae\",\n",
    "    optimizer=tf.keras.optimizers.Adam(learning_rate=learning_rate)\n",
    ")\n",
    "\n",
    "conv_lstm_model.summary()"
   ]
  },
  {
   "cell_type": "markdown",
   "id": "2430c2a0-77f9-4450-86a7-ae6678e29b3e",
   "metadata": {},
   "source": [
    "#### Training the model convlstm"
   ]
  },
  {
   "cell_type": "code",
   "execution_count": 18,
   "id": "5ec8e3ee-1f05-4196-a1d8-740dbd826aa7",
   "metadata": {},
   "outputs": [
    {
     "name": "stderr",
     "output_type": "stream",
     "text": [
      "[codecarbon INFO @ 11:41:14] [setup] RAM Tracking...\n",
      "[codecarbon INFO @ 11:41:14] [setup] CPU Tracking...\n",
      "[codecarbon WARNING @ 11:41:14] No CPU tracking mode found. Falling back on CPU constant mode. \n",
      " Windows OS detected: Please install Intel Power Gadget to measure CPU\n",
      "\n",
      "[codecarbon WARNING @ 11:41:16] We saw that you have a 12th Gen Intel(R) Core(TM) i7-12700H but we don't know it. Please contact us.\n",
      "[codecarbon INFO @ 11:41:16] CPU Model on constant consumption mode: 12th Gen Intel(R) Core(TM) i7-12700H\n",
      "[codecarbon INFO @ 11:41:16] [setup] GPU Tracking...\n",
      "[codecarbon INFO @ 11:41:17] Tracking Nvidia GPU via pynvml\n",
      "[codecarbon INFO @ 11:41:17] >>> Tracker's metadata:\n",
      "[codecarbon INFO @ 11:41:17]   Platform system: Windows-10-10.0.22631-SP0\n",
      "[codecarbon INFO @ 11:41:17]   Python version: 3.11.3\n",
      "[codecarbon INFO @ 11:41:17]   CodeCarbon version: 2.8.3\n",
      "[codecarbon INFO @ 11:41:17]   Available RAM : 31.711 GB\n",
      "[codecarbon INFO @ 11:41:17]   CPU count: 20\n",
      "[codecarbon INFO @ 11:41:17]   CPU model: 12th Gen Intel(R) Core(TM) i7-12700H\n",
      "[codecarbon INFO @ 11:41:17]   GPU count: 1\n",
      "[codecarbon INFO @ 11:41:17]   GPU model: 1 x NVIDIA GeForce RTX 3070 Ti Laptop GPU\n",
      "[codecarbon INFO @ 11:41:18] Saving emissions data to file C:\\Users\\peesc\\A4\\Projet_Recherche\\Final\\emissions\\emissions_conv_lstm.csv\n"
     ]
    }
   ],
   "source": [
    "import os\n",
    "import time\n",
    "import logging\n",
    "from codecarbon import EmissionsTracker\n",
    "\n",
    "\n",
    "os.makedirs('emissions', exist_ok=True)\n",
    "\n",
    "tracker_conv_lstm = EmissionsTracker(\n",
    "    project_name=\"PEWH\",\n",
    "    co2_signal_api_token=\"9RkoBO6iipmoq\",\n",
    "    log_level=logging.INFO,\n",
    "    output_file=\"emissions_conv_lstm.csv\",\n",
    "    output_dir='./emissions/',\n",
    "    save_to_file=True,\n",
    "    measure_power_secs=10\n",
    ")"
   ]
  },
  {
   "cell_type": "code",
   "execution_count": 19,
   "id": "c5fb7a4d-6e6b-4b1e-b76d-c69b9b7b96dd",
   "metadata": {},
   "outputs": [],
   "source": [
    "def start_training_conv_lstm():\n",
    "    start_time = time.time()\n",
    "    conv_lstm_history = conv_lstm_model.fit(x=x_train_conv_lstm,\n",
    "                                            y=y_train,\n",
    "                                            epochs=300,\n",
    "                                            verbose=1,\n",
    "                                            batch_size=512,\n",
    "                                            validation_data=(\n",
    "                                                x_val_conv_lstm, y_val),\n",
    "                                            callbacks=[create_model_checkpoint(model_name=conv_lstm_model.name)])\n",
    "    training_duration = time.time() - start_time\n",
    "\n",
    "    return conv_lstm_history, training_duration"
   ]
  },
  {
   "cell_type": "code",
   "execution_count": 20,
   "id": "9550aec7-e755-4860-afca-c2e31a77e331",
   "metadata": {},
   "outputs": [
    {
     "name": "stdout",
     "output_type": "stream",
     "text": [
      "Epoch 1/300\n",
      "WARNING:tensorflow:From C:\\Users\\peesc\\AppData\\Local\\Programs\\Python\\Python311\\Lib\\site-packages\\keras\\src\\utils\\tf_utils.py:492: The name tf.ragged.RaggedTensorValue is deprecated. Please use tf.compat.v1.ragged.RaggedTensorValue instead.\n",
      "\n"
     ]
    },
    {
     "name": "stderr",
     "output_type": "stream",
     "text": [
      "[codecarbon INFO @ 11:41:28] Energy consumed for RAM : 0.000033 kWh. RAM Power : 11.891499996185303 W\n",
      "[codecarbon INFO @ 11:41:28] Energy consumed for all CPUs : 0.000118 kWh. Total CPU Power : 42.5 W\n"
     ]
    },
    {
     "name": "stdout",
     "output_type": "stream",
     "text": [
      " 3/17 [====>.........................] - ETA: 1s - loss: 0.1832 "
     ]
    },
    {
     "name": "stderr",
     "output_type": "stream",
     "text": [
      "[codecarbon INFO @ 11:41:29] Energy consumed for all GPUs : 0.000004 kWh. Total GPU Power : 1.557382268438878 W\n",
      "[codecarbon INFO @ 11:41:29] 0.000156 kWh of electricity used since the beginning.\n"
     ]
    },
    {
     "name": "stdout",
     "output_type": "stream",
     "text": [
      "17/17 [==============================] - 15s 219ms/step - loss: 0.0776 - val_loss: 0.0288\n",
      "Epoch 2/300\n",
      "17/17 [==============================] - 2s 130ms/step - loss: 0.0423 - val_loss: 0.0277\n",
      "Epoch 3/300\n",
      "17/17 [==============================] - 2s 118ms/step - loss: 0.0405 - val_loss: 0.0277\n",
      "Epoch 4/300\n",
      "12/17 [====================>.........] - ETA: 0s - loss: 0.0397"
     ]
    },
    {
     "name": "stderr",
     "output_type": "stream",
     "text": [
      "[codecarbon INFO @ 11:41:38] Energy consumed for RAM : 0.000061 kWh. RAM Power : 11.891499996185303 W\n",
      "[codecarbon INFO @ 11:41:38] Energy consumed for all CPUs : 0.000220 kWh. Total CPU Power : 42.5 W\n"
     ]
    },
    {
     "name": "stdout",
     "output_type": "stream",
     "text": [
      "17/17 [==============================] - 2s 107ms/step - loss: 0.0398 - val_loss: 0.0270\n",
      "Epoch 5/300\n",
      " 8/17 [=============>................] - ETA: 0s - loss: 0.0391"
     ]
    },
    {
     "name": "stderr",
     "output_type": "stream",
     "text": [
      "[codecarbon INFO @ 11:41:39] Energy consumed for all GPUs : 0.000014 kWh. Total GPU Power : 4.028871502075183 W\n",
      "[codecarbon INFO @ 11:41:39] 0.000296 kWh of electricity used since the beginning.\n"
     ]
    },
    {
     "name": "stdout",
     "output_type": "stream",
     "text": [
      "17/17 [==============================] - 2s 102ms/step - loss: 0.0392 - val_loss: 0.0265\n",
      "Epoch 6/300\n",
      "17/17 [==============================] - 2s 100ms/step - loss: 0.0384 - val_loss: 0.0267\n",
      "Epoch 7/300\n",
      "17/17 [==============================] - 2s 105ms/step - loss: 0.0388 - val_loss: 0.0276\n",
      "Epoch 8/300\n",
      "17/17 [==============================] - 2s 106ms/step - loss: 0.0380 - val_loss: 0.0260\n",
      "Epoch 9/300\n",
      "17/17 [==============================] - 2s 104ms/step - loss: 0.0367 - val_loss: 0.0254\n",
      "Epoch 10/300\n",
      " 5/17 [=======>......................] - ETA: 1s - loss: 0.0378"
     ]
    },
    {
     "name": "stderr",
     "output_type": "stream",
     "text": [
      "[codecarbon INFO @ 11:41:48] Energy consumed for RAM : 0.000090 kWh. RAM Power : 11.891499996185303 W\n",
      "[codecarbon INFO @ 11:41:48] Energy consumed for all CPUs : 0.000322 kWh. Total CPU Power : 42.5 W\n"
     ]
    },
    {
     "name": "stdout",
     "output_type": "stream",
     "text": [
      "17/17 [==============================] - 2s 93ms/step - loss: 0.0368 - val_loss: 0.0258\n",
      "Epoch 11/300\n",
      " 3/17 [====>.........................] - ETA: 1s - loss: 0.0354"
     ]
    },
    {
     "name": "stderr",
     "output_type": "stream",
     "text": [
      "[codecarbon INFO @ 11:41:49] Energy consumed for all GPUs : 0.000024 kWh. Total GPU Power : 4.055093078837507 W\n",
      "[codecarbon INFO @ 11:41:49] 0.000435 kWh of electricity used since the beginning.\n"
     ]
    },
    {
     "name": "stdout",
     "output_type": "stream",
     "text": [
      "17/17 [==============================] - 2s 102ms/step - loss: 0.0367 - val_loss: 0.0251\n",
      "Epoch 12/300\n",
      "17/17 [==============================] - 2s 97ms/step - loss: 0.0362 - val_loss: 0.0264\n",
      "Epoch 13/300\n",
      "17/17 [==============================] - 2s 105ms/step - loss: 0.0353 - val_loss: 0.0242\n",
      "Epoch 14/300\n",
      "17/17 [==============================] - 2s 101ms/step - loss: 0.0353 - val_loss: 0.0269\n",
      "Epoch 15/300\n",
      "17/17 [==============================] - 2s 103ms/step - loss: 0.0353 - val_loss: 0.0245\n",
      "Epoch 16/300\n",
      " 1/17 [>.............................] - ETA: 1s - loss: 0.0321"
     ]
    },
    {
     "name": "stderr",
     "output_type": "stream",
     "text": [
      "[codecarbon INFO @ 11:41:58] Energy consumed for RAM : 0.000118 kWh. RAM Power : 11.891499996185303 W\n"
     ]
    },
    {
     "name": "stdout",
     "output_type": "stream",
     "text": [
      " 2/17 [==>...........................] - ETA: 1s - loss: 0.0337"
     ]
    },
    {
     "name": "stderr",
     "output_type": "stream",
     "text": [
      "[codecarbon INFO @ 11:41:58] Energy consumed for all CPUs : 0.000424 kWh. Total CPU Power : 42.5 W\n"
     ]
    },
    {
     "name": "stdout",
     "output_type": "stream",
     "text": [
      "17/17 [==============================] - ETA: 0s - loss: 0.0345"
     ]
    },
    {
     "name": "stderr",
     "output_type": "stream",
     "text": [
      "[codecarbon INFO @ 11:41:59] Energy consumed for all GPUs : 0.000033 kWh. Total GPU Power : 4.080887796400088 W\n",
      "[codecarbon INFO @ 11:41:59] 0.000575 kWh of electricity used since the beginning.\n"
     ]
    },
    {
     "name": "stdout",
     "output_type": "stream",
     "text": [
      "17/17 [==============================] - 2s 93ms/step - loss: 0.0345 - val_loss: 0.0235\n",
      "Epoch 17/300\n",
      "17/17 [==============================] - 2s 95ms/step - loss: 0.0358 - val_loss: 0.0236\n",
      "Epoch 18/300\n",
      "17/17 [==============================] - 2s 87ms/step - loss: 0.0358 - val_loss: 0.0238\n",
      "Epoch 19/300\n",
      "17/17 [==============================] - 2s 90ms/step - loss: 0.0340 - val_loss: 0.0231\n",
      "Epoch 20/300\n",
      "17/17 [==============================] - 2s 100ms/step - loss: 0.0335 - val_loss: 0.0224\n",
      "Epoch 21/300\n",
      "17/17 [==============================] - 2s 89ms/step - loss: 0.0333 - val_loss: 0.0217\n",
      "Epoch 22/300\n",
      " 9/17 [==============>...............] - ETA: 0s - loss: 0.0327"
     ]
    },
    {
     "name": "stderr",
     "output_type": "stream",
     "text": [
      "[codecarbon INFO @ 11:42:08] Energy consumed for RAM : 0.000147 kWh. RAM Power : 11.891499996185303 W\n",
      "[codecarbon INFO @ 11:42:08] Energy consumed for all CPUs : 0.000525 kWh. Total CPU Power : 42.5 W\n"
     ]
    },
    {
     "name": "stdout",
     "output_type": "stream",
     "text": [
      "17/17 [==============================] - 2s 92ms/step - loss: 0.0328 - val_loss: 0.0236\n",
      "Epoch 23/300\n",
      " 8/17 [=============>................] - ETA: 0s - loss: 0.0327"
     ]
    },
    {
     "name": "stderr",
     "output_type": "stream",
     "text": [
      "[codecarbon INFO @ 11:42:09] Energy consumed for all GPUs : 0.000043 kWh. Total GPU Power : 4.139612535087307 W\n",
      "[codecarbon INFO @ 11:42:09] 0.000715 kWh of electricity used since the beginning.\n"
     ]
    },
    {
     "name": "stdout",
     "output_type": "stream",
     "text": [
      "17/17 [==============================] - 2s 93ms/step - loss: 0.0333 - val_loss: 0.0216\n",
      "Epoch 24/300\n",
      "17/17 [==============================] - 2s 96ms/step - loss: 0.0326 - val_loss: 0.0224\n",
      "Epoch 25/300\n",
      "17/17 [==============================] - 2s 90ms/step - loss: 0.0318 - val_loss: 0.0213\n",
      "Epoch 26/300\n",
      "17/17 [==============================] - 2s 100ms/step - loss: 0.0326 - val_loss: 0.0206\n",
      "Epoch 27/300\n",
      "17/17 [==============================] - 2s 96ms/step - loss: 0.0330 - val_loss: 0.0211\n",
      "Epoch 28/300\n",
      "12/17 [====================>.........] - ETA: 0s - loss: 0.0329"
     ]
    },
    {
     "name": "stderr",
     "output_type": "stream",
     "text": [
      "[codecarbon INFO @ 11:42:18] Energy consumed for RAM : 0.000175 kWh. RAM Power : 11.891499996185303 W\n",
      "[codecarbon INFO @ 11:42:18] Energy consumed for all CPUs : 0.000627 kWh. Total CPU Power : 42.5 W\n"
     ]
    },
    {
     "name": "stdout",
     "output_type": "stream",
     "text": [
      "17/17 [==============================] - 2s 106ms/step - loss: 0.0327 - val_loss: 0.0221\n",
      "Epoch 29/300\n",
      " 9/17 [==============>...............] - ETA: 0s - loss: 0.0321"
     ]
    },
    {
     "name": "stderr",
     "output_type": "stream",
     "text": [
      "[codecarbon INFO @ 11:42:19] Energy consumed for all GPUs : 0.000054 kWh. Total GPU Power : 4.25679620403708 W\n",
      "[codecarbon INFO @ 11:42:19] 0.000855 kWh of electricity used since the beginning.\n"
     ]
    },
    {
     "name": "stdout",
     "output_type": "stream",
     "text": [
      "17/17 [==============================] - 2s 99ms/step - loss: 0.0318 - val_loss: 0.0198\n",
      "Epoch 30/300\n",
      "17/17 [==============================] - 2s 110ms/step - loss: 0.0321 - val_loss: 0.0212\n",
      "Epoch 31/300\n",
      "17/17 [==============================] - 2s 107ms/step - loss: 0.0316 - val_loss: 0.0226\n",
      "Epoch 32/300\n",
      "17/17 [==============================] - 2s 107ms/step - loss: 0.0328 - val_loss: 0.0230\n",
      "Epoch 33/300\n",
      "17/17 [==============================] - 2s 108ms/step - loss: 0.0323 - val_loss: 0.0214\n",
      "Epoch 34/300\n",
      " 3/17 [====>.........................] - ETA: 1s - loss: 0.0311"
     ]
    },
    {
     "name": "stderr",
     "output_type": "stream",
     "text": [
      "[codecarbon INFO @ 11:42:28] Energy consumed for RAM : 0.000203 kWh. RAM Power : 11.891499996185303 W\n",
      "[codecarbon INFO @ 11:42:28] Energy consumed for all CPUs : 0.000729 kWh. Total CPU Power : 42.5 W\n"
     ]
    },
    {
     "name": "stdout",
     "output_type": "stream",
     "text": [
      "17/17 [==============================] - 2s 102ms/step - loss: 0.0320 - val_loss: 0.0198\n"
     ]
    },
    {
     "name": "stderr",
     "output_type": "stream",
     "text": [
      "[codecarbon INFO @ 11:42:29] Energy consumed for all GPUs : 0.000064 kWh. Total GPU Power : 4.416198434447736 W\n"
     ]
    },
    {
     "name": "stdout",
     "output_type": "stream",
     "text": [
      "Epoch 35/300\n"
     ]
    },
    {
     "name": "stderr",
     "output_type": "stream",
     "text": [
      "[codecarbon INFO @ 11:42:29] 0.000996 kWh of electricity used since the beginning.\n"
     ]
    },
    {
     "name": "stdout",
     "output_type": "stream",
     "text": [
      "17/17 [==============================] - 2s 107ms/step - loss: 0.0313 - val_loss: 0.0191\n",
      "Epoch 36/300\n",
      "17/17 [==============================] - 2s 108ms/step - loss: 0.0314 - val_loss: 0.0194\n",
      "Epoch 37/300\n",
      "17/17 [==============================] - 2s 102ms/step - loss: 0.0309 - val_loss: 0.0197\n",
      "Epoch 38/300\n",
      "17/17 [==============================] - 2s 103ms/step - loss: 0.0310 - val_loss: 0.0199\n",
      "Epoch 39/300\n",
      "16/17 [===========================>..] - ETA: 0s - loss: 0.0306"
     ]
    },
    {
     "name": "stderr",
     "output_type": "stream",
     "text": [
      "[codecarbon INFO @ 11:42:38] Energy consumed for RAM : 0.000232 kWh. RAM Power : 11.891499996185303 W\n",
      "[codecarbon INFO @ 11:42:38] Energy consumed for all CPUs : 0.000830 kWh. Total CPU Power : 42.5 W\n"
     ]
    },
    {
     "name": "stdout",
     "output_type": "stream",
     "text": [
      "17/17 [==============================] - 2s 103ms/step - loss: 0.0304 - val_loss: 0.0186\n",
      "Epoch 40/300\n",
      "14/17 [=======================>......] - ETA: 0s - loss: 0.0301"
     ]
    },
    {
     "name": "stderr",
     "output_type": "stream",
     "text": [
      "[codecarbon INFO @ 11:42:39] Energy consumed for all GPUs : 0.000074 kWh. Total GPU Power : 4.150914857761632 W\n",
      "[codecarbon INFO @ 11:42:39] 0.001136 kWh of electricity used since the beginning.\n"
     ]
    },
    {
     "name": "stdout",
     "output_type": "stream",
     "text": [
      "17/17 [==============================] - ETA: 0s - loss: 0.0304"
     ]
    },
    {
     "name": "stderr",
     "output_type": "stream",
     "text": [
      "[codecarbon INFO @ 11:42:39] 0.000279 g.CO2eq/s mean an estimation of 8.795672447294887 kg.CO2eq/year\n"
     ]
    },
    {
     "name": "stdout",
     "output_type": "stream",
     "text": [
      "17/17 [==============================] - 1s 86ms/step - loss: 0.0304 - val_loss: 0.0195\n",
      "Epoch 41/300\n",
      "17/17 [==============================] - 2s 101ms/step - loss: 0.0305 - val_loss: 0.0196\n",
      "Epoch 42/300\n",
      "17/17 [==============================] - 2s 104ms/step - loss: 0.0317 - val_loss: 0.0203\n",
      "Epoch 43/300\n",
      "17/17 [==============================] - 2s 103ms/step - loss: 0.0317 - val_loss: 0.0196\n",
      "Epoch 44/300\n",
      "17/17 [==============================] - 2s 104ms/step - loss: 0.0318 - val_loss: 0.0219\n",
      "Epoch 45/300\n",
      "13/17 [=====================>........] - ETA: 0s - loss: 0.0310"
     ]
    },
    {
     "name": "stderr",
     "output_type": "stream",
     "text": [
      "[codecarbon INFO @ 11:42:48] Energy consumed for RAM : 0.000260 kWh. RAM Power : 11.891499996185303 W\n",
      "[codecarbon INFO @ 11:42:48] Energy consumed for all CPUs : 0.000932 kWh. Total CPU Power : 42.5 W\n"
     ]
    },
    {
     "name": "stdout",
     "output_type": "stream",
     "text": [
      "17/17 [==============================] - 2s 102ms/step - loss: 0.0309 - val_loss: 0.0194\n",
      "Epoch 46/300\n",
      "11/17 [==================>...........] - ETA: 0s - loss: 0.0301"
     ]
    },
    {
     "name": "stderr",
     "output_type": "stream",
     "text": [
      "[codecarbon INFO @ 11:42:49] Energy consumed for all GPUs : 0.000084 kWh. Total GPU Power : 4.1894983670607795 W\n",
      "[codecarbon INFO @ 11:42:49] 0.001277 kWh of electricity used since the beginning.\n"
     ]
    },
    {
     "name": "stdout",
     "output_type": "stream",
     "text": [
      "17/17 [==============================] - 2s 92ms/step - loss: 0.0299 - val_loss: 0.0188\n",
      "Epoch 47/300\n",
      "17/17 [==============================] - 2s 104ms/step - loss: 0.0310 - val_loss: 0.0190\n",
      "Epoch 48/300\n",
      "17/17 [==============================] - 2s 102ms/step - loss: 0.0302 - val_loss: 0.0202\n",
      "Epoch 49/300\n",
      "17/17 [==============================] - 2s 98ms/step - loss: 0.0306 - val_loss: 0.0198\n",
      "Epoch 50/300\n",
      "17/17 [==============================] - 2s 92ms/step - loss: 0.0311 - val_loss: 0.0212\n",
      "Epoch 51/300\n",
      "15/17 [=========================>....] - ETA: 0s - loss: 0.0303"
     ]
    },
    {
     "name": "stderr",
     "output_type": "stream",
     "text": [
      "[codecarbon INFO @ 11:42:58] Energy consumed for RAM : 0.000289 kWh. RAM Power : 11.891499996185303 W\n",
      "[codecarbon INFO @ 11:42:58] Energy consumed for all CPUs : 0.001034 kWh. Total CPU Power : 42.5 W\n"
     ]
    },
    {
     "name": "stdout",
     "output_type": "stream",
     "text": [
      "17/17 [==============================] - 1s 87ms/step - loss: 0.0303 - val_loss: 0.0205\n",
      "Epoch 52/300\n",
      "15/17 [=========================>....] - ETA: 0s - loss: 0.0299"
     ]
    },
    {
     "name": "stderr",
     "output_type": "stream",
     "text": [
      "[codecarbon INFO @ 11:42:59] Energy consumed for all GPUs : 0.000095 kWh. Total GPU Power : 4.453580454935455 W\n",
      "[codecarbon INFO @ 11:42:59] 0.001418 kWh of electricity used since the beginning.\n"
     ]
    },
    {
     "name": "stdout",
     "output_type": "stream",
     "text": [
      "17/17 [==============================] - 1s 88ms/step - loss: 0.0299 - val_loss: 0.0183\n",
      "Epoch 53/300\n",
      "17/17 [==============================] - 2s 100ms/step - loss: 0.0300 - val_loss: 0.0184\n",
      "Epoch 54/300\n",
      "17/17 [==============================] - 2s 107ms/step - loss: 0.0296 - val_loss: 0.0192\n",
      "Epoch 55/300\n",
      "17/17 [==============================] - 2s 101ms/step - loss: 0.0293 - val_loss: 0.0189\n",
      "Epoch 56/300\n",
      "17/17 [==============================] - 2s 94ms/step - loss: 0.0300 - val_loss: 0.0201\n",
      "Epoch 57/300\n",
      "17/17 [==============================] - ETA: 0s - loss: 0.0291"
     ]
    },
    {
     "name": "stderr",
     "output_type": "stream",
     "text": [
      "[codecarbon INFO @ 11:43:08] Energy consumed for RAM : 0.000317 kWh. RAM Power : 11.891499996185303 W\n",
      "[codecarbon INFO @ 11:43:08] Energy consumed for all CPUs : 0.001136 kWh. Total CPU Power : 42.5 W\n"
     ]
    },
    {
     "name": "stdout",
     "output_type": "stream",
     "text": [
      "17/17 [==============================] - 2s 91ms/step - loss: 0.0291 - val_loss: 0.0178\n",
      "Epoch 58/300\n",
      "16/17 [===========================>..] - ETA: 0s - loss: 0.0288"
     ]
    },
    {
     "name": "stderr",
     "output_type": "stream",
     "text": [
      "[codecarbon INFO @ 11:43:09] Energy consumed for all GPUs : 0.000104 kWh. Total GPU Power : 3.962223523940351 W\n",
      "[codecarbon INFO @ 11:43:09] 0.001557 kWh of electricity used since the beginning.\n"
     ]
    },
    {
     "name": "stdout",
     "output_type": "stream",
     "text": [
      "17/17 [==============================] - 1s 86ms/step - loss: 0.0289 - val_loss: 0.0183\n",
      "Epoch 59/300\n",
      "17/17 [==============================] - 2s 99ms/step - loss: 0.0289 - val_loss: 0.0190\n",
      "Epoch 60/300\n",
      "17/17 [==============================] - 2s 93ms/step - loss: 0.0289 - val_loss: 0.0179\n",
      "Epoch 61/300\n",
      "17/17 [==============================] - 2s 94ms/step - loss: 0.0290 - val_loss: 0.0184\n",
      "Epoch 62/300\n",
      "17/17 [==============================] - 2s 94ms/step - loss: 0.0285 - val_loss: 0.0177\n",
      "Epoch 63/300\n",
      "17/17 [==============================] - 1s 81ms/step - loss: 0.0287 - val_loss: 0.0194\n",
      "Epoch 64/300\n",
      " 7/17 [===========>..................] - ETA: 0s - loss: 0.0279"
     ]
    },
    {
     "name": "stderr",
     "output_type": "stream",
     "text": [
      "[codecarbon INFO @ 11:43:18] Energy consumed for RAM : 0.000345 kWh. RAM Power : 11.891499996185303 W\n",
      "[codecarbon INFO @ 11:43:18] Energy consumed for all CPUs : 0.001238 kWh. Total CPU Power : 42.5 W\n"
     ]
    },
    {
     "name": "stdout",
     "output_type": "stream",
     "text": [
      "17/17 [==============================] - 1s 81ms/step - loss: 0.0288 - val_loss: 0.0188\n",
      "Epoch 65/300\n",
      " 8/17 [=============>................] - ETA: 0s - loss: 0.0301"
     ]
    },
    {
     "name": "stderr",
     "output_type": "stream",
     "text": [
      "[codecarbon INFO @ 11:43:19] Energy consumed for all GPUs : 0.000114 kWh. Total GPU Power : 4.064829147729599 W\n",
      "[codecarbon INFO @ 11:43:19] 0.001697 kWh of electricity used since the beginning.\n"
     ]
    },
    {
     "name": "stdout",
     "output_type": "stream",
     "text": [
      "17/17 [==============================] - 1s 84ms/step - loss: 0.0286 - val_loss: 0.0179\n",
      "Epoch 66/300\n",
      "17/17 [==============================] - 2s 98ms/step - loss: 0.0283 - val_loss: 0.0177\n",
      "Epoch 67/300\n",
      "17/17 [==============================] - 2s 93ms/step - loss: 0.0289 - val_loss: 0.0180\n",
      "Epoch 68/300\n",
      "17/17 [==============================] - 2s 94ms/step - loss: 0.0289 - val_loss: 0.0183\n",
      "Epoch 69/300\n",
      "17/17 [==============================] - 2s 105ms/step - loss: 0.0288 - val_loss: 0.0177\n",
      "Epoch 70/300\n",
      "12/17 [====================>.........] - ETA: 0s - loss: 0.0278"
     ]
    },
    {
     "name": "stderr",
     "output_type": "stream",
     "text": [
      "[codecarbon INFO @ 11:43:28] Energy consumed for RAM : 0.000374 kWh. RAM Power : 11.891499996185303 W\n",
      "[codecarbon INFO @ 11:43:28] Energy consumed for all CPUs : 0.001339 kWh. Total CPU Power : 42.5 W\n"
     ]
    },
    {
     "name": "stdout",
     "output_type": "stream",
     "text": [
      "17/17 [==============================] - 2s 95ms/step - loss: 0.0281 - val_loss: 0.0179\n",
      "Epoch 71/300\n",
      "11/17 [==================>...........] - ETA: 0s - loss: 0.0283"
     ]
    },
    {
     "name": "stderr",
     "output_type": "stream",
     "text": [
      "[codecarbon INFO @ 11:43:29] Energy consumed for all GPUs : 0.000124 kWh. Total GPU Power : 4.133801551151296 W\n",
      "[codecarbon INFO @ 11:43:29] 0.001837 kWh of electricity used since the beginning.\n"
     ]
    },
    {
     "name": "stdout",
     "output_type": "stream",
     "text": [
      "17/17 [==============================] - 2s 90ms/step - loss: 0.0277 - val_loss: 0.0174\n",
      "Epoch 72/300\n",
      "17/17 [==============================] - 2s 98ms/step - loss: 0.0283 - val_loss: 0.0179\n",
      "Epoch 73/300\n",
      "17/17 [==============================] - 2s 92ms/step - loss: 0.0275 - val_loss: 0.0173\n",
      "Epoch 74/300\n",
      "17/17 [==============================] - 2s 96ms/step - loss: 0.0273 - val_loss: 0.0177\n",
      "Epoch 75/300\n",
      "17/17 [==============================] - 2s 103ms/step - loss: 0.0275 - val_loss: 0.0173\n",
      "Epoch 76/300\n",
      "14/17 [=======================>......] - ETA: 0s - loss: 0.0271"
     ]
    },
    {
     "name": "stderr",
     "output_type": "stream",
     "text": [
      "[codecarbon INFO @ 11:43:38] Energy consumed for RAM : 0.000402 kWh. RAM Power : 11.891499996185303 W\n",
      "[codecarbon INFO @ 11:43:38] Energy consumed for all CPUs : 0.001441 kWh. Total CPU Power : 42.5 W\n"
     ]
    },
    {
     "name": "stdout",
     "output_type": "stream",
     "text": [
      "17/17 [==============================] - 2s 100ms/step - loss: 0.0272 - val_loss: 0.0175\n",
      "Epoch 77/300\n",
      "12/17 [====================>.........] - ETA: 0s - loss: 0.0277"
     ]
    },
    {
     "name": "stderr",
     "output_type": "stream",
     "text": [
      "[codecarbon INFO @ 11:43:39] Energy consumed for all GPUs : 0.000134 kWh. Total GPU Power : 4.140537005820414 W\n",
      "[codecarbon INFO @ 11:43:39] 0.001977 kWh of electricity used since the beginning.\n"
     ]
    },
    {
     "name": "stdout",
     "output_type": "stream",
     "text": [
      "17/17 [==============================] - 2s 89ms/step - loss: 0.0274 - val_loss: 0.0175\n",
      "Epoch 78/300\n",
      "17/17 [==============================] - 2s 99ms/step - loss: 0.0274 - val_loss: 0.0176\n",
      "Epoch 79/300\n",
      "17/17 [==============================] - 2s 109ms/step - loss: 0.0274 - val_loss: 0.0171\n",
      "Epoch 80/300\n",
      "17/17 [==============================] - 2s 101ms/step - loss: 0.0274 - val_loss: 0.0180\n",
      "Epoch 81/300\n",
      "17/17 [==============================] - 2s 104ms/step - loss: 0.0271 - val_loss: 0.0174\n",
      "Epoch 82/300\n",
      "10/17 [================>.............] - ETA: 0s - loss: 0.0268"
     ]
    },
    {
     "name": "stderr",
     "output_type": "stream",
     "text": [
      "[codecarbon INFO @ 11:43:48] Energy consumed for RAM : 0.000431 kWh. RAM Power : 11.891499996185303 W\n"
     ]
    },
    {
     "name": "stdout",
     "output_type": "stream",
     "text": [
      "11/17 [==================>...........] - ETA: 0s - loss: 0.0268"
     ]
    },
    {
     "name": "stderr",
     "output_type": "stream",
     "text": [
      "[codecarbon INFO @ 11:43:48] Energy consumed for all CPUs : 0.001543 kWh. Total CPU Power : 42.5 W\n"
     ]
    },
    {
     "name": "stdout",
     "output_type": "stream",
     "text": [
      "17/17 [==============================] - 2s 98ms/step - loss: 0.0269 - val_loss: 0.0182\n",
      "Epoch 83/300\n",
      " 8/17 [=============>................] - ETA: 0s - loss: 0.0271"
     ]
    },
    {
     "name": "stderr",
     "output_type": "stream",
     "text": [
      "[codecarbon INFO @ 11:43:49] Energy consumed for all GPUs : 0.000144 kWh. Total GPU Power : 4.13678289451895 W\n",
      "[codecarbon INFO @ 11:43:49] 0.002117 kWh of electricity used since the beginning.\n"
     ]
    },
    {
     "name": "stdout",
     "output_type": "stream",
     "text": [
      "17/17 [==============================] - 2s 90ms/step - loss: 0.0267 - val_loss: 0.0172\n",
      "Epoch 84/300\n",
      "17/17 [==============================] - 2s 96ms/step - loss: 0.0270 - val_loss: 0.0171\n",
      "Epoch 85/300\n",
      "17/17 [==============================] - 2s 95ms/step - loss: 0.0266 - val_loss: 0.0168\n",
      "Epoch 86/300\n",
      "17/17 [==============================] - 2s 89ms/step - loss: 0.0270 - val_loss: 0.0184\n",
      "Epoch 87/300\n",
      "17/17 [==============================] - 1s 86ms/step - loss: 0.0264 - val_loss: 0.0167\n",
      "Epoch 88/300\n",
      "17/17 [==============================] - ETA: 0s - loss: 0.0266"
     ]
    },
    {
     "name": "stderr",
     "output_type": "stream",
     "text": [
      "[codecarbon INFO @ 11:43:58] Energy consumed for RAM : 0.000459 kWh. RAM Power : 11.891499996185303 W\n",
      "[codecarbon INFO @ 11:43:58] Energy consumed for all CPUs : 0.001645 kWh. Total CPU Power : 42.5 W\n"
     ]
    },
    {
     "name": "stdout",
     "output_type": "stream",
     "text": [
      "17/17 [==============================] - 2s 102ms/step - loss: 0.0266 - val_loss: 0.0174\n",
      "Epoch 89/300\n",
      "14/17 [=======================>......] - ETA: 0s - loss: 0.0275"
     ]
    },
    {
     "name": "stderr",
     "output_type": "stream",
     "text": [
      "[codecarbon INFO @ 11:43:59] Energy consumed for all GPUs : 0.000154 kWh. Total GPU Power : 4.155906296339863 W\n",
      "[codecarbon INFO @ 11:43:59] 0.002257 kWh of electricity used since the beginning.\n"
     ]
    },
    {
     "name": "stdout",
     "output_type": "stream",
     "text": [
      "16/17 [===========================>..] - ETA: 0s - loss: 0.0272"
     ]
    },
    {
     "name": "stderr",
     "output_type": "stream",
     "text": [
      "[codecarbon INFO @ 11:43:59] 0.000280 g.CO2eq/s mean an estimation of 8.82711152528847 kg.CO2eq/year\n"
     ]
    },
    {
     "name": "stdout",
     "output_type": "stream",
     "text": [
      "17/17 [==============================] - 2s 89ms/step - loss: 0.0272 - val_loss: 0.0169\n",
      "Epoch 90/300\n",
      "17/17 [==============================] - 2s 102ms/step - loss: 0.0261 - val_loss: 0.0166\n",
      "Epoch 91/300\n",
      "17/17 [==============================] - 2s 101ms/step - loss: 0.0260 - val_loss: 0.0165\n",
      "Epoch 92/300\n",
      "17/17 [==============================] - 2s 112ms/step - loss: 0.0261 - val_loss: 0.0164\n",
      "Epoch 93/300\n",
      "17/17 [==============================] - 2s 97ms/step - loss: 0.0261 - val_loss: 0.0171\n",
      "Epoch 94/300\n",
      "14/17 [=======================>......] - ETA: 0s - loss: 0.0267"
     ]
    },
    {
     "name": "stderr",
     "output_type": "stream",
     "text": [
      "[codecarbon INFO @ 11:44:08] Energy consumed for RAM : 0.000487 kWh. RAM Power : 11.891499996185303 W\n",
      "[codecarbon INFO @ 11:44:08] Energy consumed for all CPUs : 0.001746 kWh. Total CPU Power : 42.5 W\n"
     ]
    },
    {
     "name": "stdout",
     "output_type": "stream",
     "text": [
      "17/17 [==============================] - 2s 102ms/step - loss: 0.0267 - val_loss: 0.0174\n",
      "Epoch 95/300\n",
      "10/17 [================>.............] - ETA: 0s - loss: 0.0262"
     ]
    },
    {
     "name": "stderr",
     "output_type": "stream",
     "text": [
      "[codecarbon INFO @ 11:44:09] Energy consumed for all GPUs : 0.000164 kWh. Total GPU Power : 4.170316201066303 W\n",
      "[codecarbon INFO @ 11:44:09] 0.002397 kWh of electricity used since the beginning.\n"
     ]
    },
    {
     "name": "stdout",
     "output_type": "stream",
     "text": [
      "17/17 [==============================] - 2s 97ms/step - loss: 0.0265 - val_loss: 0.0172\n",
      "Epoch 96/300\n",
      "17/17 [==============================] - 2s 109ms/step - loss: 0.0270 - val_loss: 0.0171\n",
      "Epoch 97/300\n",
      "17/17 [==============================] - 2s 108ms/step - loss: 0.0258 - val_loss: 0.0165\n",
      "Epoch 98/300\n",
      "17/17 [==============================] - 2s 114ms/step - loss: 0.0260 - val_loss: 0.0163\n",
      "Epoch 99/300\n",
      "17/17 [==============================] - 2s 110ms/step - loss: 0.0252 - val_loss: 0.0166\n",
      "Epoch 100/300\n",
      " 3/17 [====>.........................] - ETA: 1s - loss: 0.0252"
     ]
    },
    {
     "name": "stderr",
     "output_type": "stream",
     "text": [
      "[codecarbon INFO @ 11:44:18] Energy consumed for RAM : 0.000516 kWh. RAM Power : 11.891499996185303 W\n",
      "[codecarbon INFO @ 11:44:18] Energy consumed for all CPUs : 0.001848 kWh. Total CPU Power : 42.5 W\n"
     ]
    },
    {
     "name": "stdout",
     "output_type": "stream",
     "text": [
      "17/17 [==============================] - 2s 94ms/step - loss: 0.0253 - val_loss: 0.0166\n",
      "Epoch 101/300\n",
      " 1/17 [>.............................] - ETA: 1s - loss: 0.0244"
     ]
    },
    {
     "name": "stderr",
     "output_type": "stream",
     "text": [
      "[codecarbon INFO @ 11:44:19] Energy consumed for all GPUs : 0.000174 kWh. Total GPU Power : 4.176638221565252 W\n",
      "[codecarbon INFO @ 11:44:19] 0.002538 kWh of electricity used since the beginning.\n"
     ]
    },
    {
     "name": "stdout",
     "output_type": "stream",
     "text": [
      "17/17 [==============================] - 2s 103ms/step - loss: 0.0250 - val_loss: 0.0159\n",
      "Epoch 102/300\n",
      "17/17 [==============================] - 2s 107ms/step - loss: 0.0246 - val_loss: 0.0169\n",
      "Epoch 103/300\n",
      "17/17 [==============================] - 2s 113ms/step - loss: 0.0248 - val_loss: 0.0160\n",
      "Epoch 104/300\n",
      "17/17 [==============================] - 2s 110ms/step - loss: 0.0253 - val_loss: 0.0177\n",
      "Epoch 105/300\n",
      "13/17 [=====================>........] - ETA: 0s - loss: 0.0249"
     ]
    },
    {
     "name": "stderr",
     "output_type": "stream",
     "text": [
      "[codecarbon INFO @ 11:44:28] Energy consumed for RAM : 0.000544 kWh. RAM Power : 11.891499996185303 W\n",
      "[codecarbon INFO @ 11:44:28] Energy consumed for all CPUs : 0.001950 kWh. Total CPU Power : 42.5 W\n"
     ]
    },
    {
     "name": "stdout",
     "output_type": "stream",
     "text": [
      "17/17 [==============================] - 2s 113ms/step - loss: 0.0249 - val_loss: 0.0156\n",
      "Epoch 106/300\n",
      " 9/17 [==============>...............] - ETA: 0s - loss: 0.0236"
     ]
    },
    {
     "name": "stderr",
     "output_type": "stream",
     "text": [
      "[codecarbon INFO @ 11:44:29] Energy consumed for all GPUs : 0.000184 kWh. Total GPU Power : 4.163011335129206 W\n",
      "[codecarbon INFO @ 11:44:29] 0.002678 kWh of electricity used since the beginning.\n"
     ]
    },
    {
     "name": "stdout",
     "output_type": "stream",
     "text": [
      "17/17 [==============================] - 2s 88ms/step - loss: 0.0250 - val_loss: 0.0175\n",
      "Epoch 107/300\n",
      "17/17 [==============================] - 1s 83ms/step - loss: 0.0247 - val_loss: 0.0158\n",
      "Epoch 108/300\n",
      "17/17 [==============================] - 1s 85ms/step - loss: 0.0243 - val_loss: 0.0160\n",
      "Epoch 109/300\n",
      "17/17 [==============================] - 1s 87ms/step - loss: 0.0244 - val_loss: 0.0156\n",
      "Epoch 110/300\n",
      "17/17 [==============================] - 2s 93ms/step - loss: 0.0242 - val_loss: 0.0166\n",
      "Epoch 111/300\n",
      "17/17 [==============================] - 2s 87ms/step - loss: 0.0244 - val_loss: 0.0160\n",
      "Epoch 112/300\n",
      " 6/17 [=========>....................] - ETA: 0s - loss: 0.0228"
     ]
    },
    {
     "name": "stderr",
     "output_type": "stream",
     "text": [
      "[codecarbon INFO @ 11:44:38] Energy consumed for RAM : 0.000573 kWh. RAM Power : 11.891499996185303 W\n",
      "[codecarbon INFO @ 11:44:38] Energy consumed for all CPUs : 0.002052 kWh. Total CPU Power : 42.5 W\n"
     ]
    },
    {
     "name": "stdout",
     "output_type": "stream",
     "text": [
      "17/17 [==============================] - 1s 79ms/step - loss: 0.0241 - val_loss: 0.0154\n",
      "Epoch 113/300\n",
      " 6/17 [=========>....................] - ETA: 0s - loss: 0.0244"
     ]
    },
    {
     "name": "stderr",
     "output_type": "stream",
     "text": [
      "[codecarbon INFO @ 11:44:39] Energy consumed for all GPUs : 0.000194 kWh. Total GPU Power : 4.133501605856635 W\n",
      "[codecarbon INFO @ 11:44:39] 0.002818 kWh of electricity used since the beginning.\n"
     ]
    },
    {
     "name": "stdout",
     "output_type": "stream",
     "text": [
      "17/17 [==============================] - 1s 82ms/step - loss: 0.0244 - val_loss: 0.0165\n",
      "Epoch 114/300\n",
      "17/17 [==============================] - 2s 94ms/step - loss: 0.0252 - val_loss: 0.0172\n",
      "Epoch 115/300\n",
      "17/17 [==============================] - 2s 92ms/step - loss: 0.0244 - val_loss: 0.0159\n",
      "Epoch 116/300\n",
      "17/17 [==============================] - 1s 83ms/step - loss: 0.0246 - val_loss: 0.0157\n",
      "Epoch 117/300\n",
      "17/17 [==============================] - 2s 97ms/step - loss: 0.0241 - val_loss: 0.0158\n",
      "Epoch 118/300\n",
      "17/17 [==============================] - 1s 88ms/step - loss: 0.0242 - val_loss: 0.0175\n",
      "Epoch 119/300\n"
     ]
    },
    {
     "name": "stderr",
     "output_type": "stream",
     "text": [
      "[codecarbon INFO @ 11:44:48] Energy consumed for RAM : 0.000601 kWh. RAM Power : 11.891499996185303 W\n",
      "[codecarbon INFO @ 11:44:48] Energy consumed for all CPUs : 0.002153 kWh. Total CPU Power : 42.5 W\n"
     ]
    },
    {
     "name": "stdout",
     "output_type": "stream",
     "text": [
      "17/17 [==============================] - ETA: 0s - loss: 0.0242"
     ]
    },
    {
     "name": "stderr",
     "output_type": "stream",
     "text": [
      "[codecarbon INFO @ 11:44:49] Energy consumed for all GPUs : 0.000203 kWh. Total GPU Power : 4.140398350981222 W\n",
      "[codecarbon INFO @ 11:44:49] 0.002958 kWh of electricity used since the beginning.\n"
     ]
    },
    {
     "name": "stdout",
     "output_type": "stream",
     "text": [
      "17/17 [==============================] - 2s 90ms/step - loss: 0.0242 - val_loss: 0.0164\n",
      "Epoch 120/300\n",
      "17/17 [==============================] - 2s 98ms/step - loss: 0.0242 - val_loss: 0.0172\n",
      "Epoch 121/300\n",
      "17/17 [==============================] - 2s 94ms/step - loss: 0.0238 - val_loss: 0.0157\n",
      "Epoch 122/300\n",
      "17/17 [==============================] - 1s 89ms/step - loss: 0.0230 - val_loss: 0.0155\n",
      "Epoch 123/300\n",
      "17/17 [==============================] - 1s 89ms/step - loss: 0.0235 - val_loss: 0.0157\n",
      "Epoch 124/300\n",
      "17/17 [==============================] - 2s 106ms/step - loss: 0.0234 - val_loss: 0.0151\n",
      "Epoch 125/300\n",
      " 6/17 [=========>....................] - ETA: 0s - loss: 0.0230"
     ]
    },
    {
     "name": "stderr",
     "output_type": "stream",
     "text": [
      "[codecarbon INFO @ 11:44:58] Energy consumed for RAM : 0.000629 kWh. RAM Power : 11.891499996185303 W\n",
      "[codecarbon INFO @ 11:44:58] Energy consumed for all CPUs : 0.002255 kWh. Total CPU Power : 42.5 W\n"
     ]
    },
    {
     "name": "stdout",
     "output_type": "stream",
     "text": [
      "17/17 [==============================] - 2s 88ms/step - loss: 0.0227 - val_loss: 0.0151\n",
      "Epoch 126/300\n",
      " 4/17 [======>.......................] - ETA: 1s - loss: 0.0222"
     ]
    },
    {
     "name": "stderr",
     "output_type": "stream",
     "text": [
      "[codecarbon INFO @ 11:44:59] Energy consumed for all GPUs : 0.000214 kWh. Total GPU Power : 4.391295763103983 W\n",
      "[codecarbon INFO @ 11:44:59] 0.003098 kWh of electricity used since the beginning.\n"
     ]
    },
    {
     "name": "stdout",
     "output_type": "stream",
     "text": [
      "17/17 [==============================] - 2s 101ms/step - loss: 0.0230 - val_loss: 0.0160\n",
      "Epoch 127/300\n",
      "17/17 [==============================] - 2s 102ms/step - loss: 0.0225 - val_loss: 0.0147\n",
      "Epoch 128/300\n",
      "17/17 [==============================] - 2s 102ms/step - loss: 0.0228 - val_loss: 0.0152\n",
      "Epoch 129/300\n",
      "17/17 [==============================] - 2s 102ms/step - loss: 0.0221 - val_loss: 0.0149\n",
      "Epoch 130/300\n",
      "17/17 [==============================] - 2s 113ms/step - loss: 0.0219 - val_loss: 0.0146\n",
      "Epoch 131/300\n",
      " 1/17 [>.............................] - ETA: 1s - loss: 0.0244"
     ]
    },
    {
     "name": "stderr",
     "output_type": "stream",
     "text": [
      "[codecarbon INFO @ 11:45:08] Energy consumed for RAM : 0.000658 kWh. RAM Power : 11.891499996185303 W\n"
     ]
    },
    {
     "name": "stdout",
     "output_type": "stream",
     "text": [
      " 2/17 [==>...........................] - ETA: 1s - loss: 0.0222"
     ]
    },
    {
     "name": "stderr",
     "output_type": "stream",
     "text": [
      "[codecarbon INFO @ 11:45:08] Energy consumed for all CPUs : 0.002357 kWh. Total CPU Power : 42.5 W\n"
     ]
    },
    {
     "name": "stdout",
     "output_type": "stream",
     "text": [
      "17/17 [==============================] - ETA: 0s - loss: 0.0221"
     ]
    },
    {
     "name": "stderr",
     "output_type": "stream",
     "text": [
      "[codecarbon INFO @ 11:45:09] Energy consumed for all GPUs : 0.000224 kWh. Total GPU Power : 4.144068820604482 W\n",
      "[codecarbon INFO @ 11:45:09] 0.003239 kWh of electricity used since the beginning.\n"
     ]
    },
    {
     "name": "stdout",
     "output_type": "stream",
     "text": [
      "17/17 [==============================] - 2s 97ms/step - loss: 0.0221 - val_loss: 0.0148\n",
      "Epoch 132/300\n",
      "17/17 [==============================] - 2s 103ms/step - loss: 0.0232 - val_loss: 0.0163\n",
      "Epoch 133/300\n",
      "17/17 [==============================] - 2s 104ms/step - loss: 0.0226 - val_loss: 0.0146\n",
      "Epoch 134/300\n",
      "17/17 [==============================] - 2s 115ms/step - loss: 0.0214 - val_loss: 0.0140\n",
      "Epoch 135/300\n",
      "17/17 [==============================] - 2s 111ms/step - loss: 0.0218 - val_loss: 0.0145\n",
      "Epoch 136/300\n",
      "11/17 [==================>...........] - ETA: 0s - loss: 0.0211"
     ]
    },
    {
     "name": "stderr",
     "output_type": "stream",
     "text": [
      "[codecarbon INFO @ 11:45:18] Energy consumed for RAM : 0.000686 kWh. RAM Power : 11.891499996185303 W\n"
     ]
    },
    {
     "name": "stdout",
     "output_type": "stream",
     "text": [
      "12/17 [====================>.........] - ETA: 0s - loss: 0.0211"
     ]
    },
    {
     "name": "stderr",
     "output_type": "stream",
     "text": [
      "[codecarbon INFO @ 11:45:18] Energy consumed for all CPUs : 0.002459 kWh. Total CPU Power : 42.5 W\n"
     ]
    },
    {
     "name": "stdout",
     "output_type": "stream",
     "text": [
      "17/17 [==============================] - 2s 103ms/step - loss: 0.0213 - val_loss: 0.0142\n",
      "Epoch 137/300\n",
      " 9/17 [==============>...............] - ETA: 0s - loss: 0.0206"
     ]
    },
    {
     "name": "stderr",
     "output_type": "stream",
     "text": [
      "[codecarbon INFO @ 11:45:19] Energy consumed for all GPUs : 0.000234 kWh. Total GPU Power : 4.184344399050965 W\n",
      "[codecarbon INFO @ 11:45:19] 0.003379 kWh of electricity used since the beginning.\n"
     ]
    },
    {
     "name": "stdout",
     "output_type": "stream",
     "text": [
      "12/17 [====================>.........] - ETA: 0s - loss: 0.0213"
     ]
    },
    {
     "name": "stderr",
     "output_type": "stream",
     "text": [
      "[codecarbon INFO @ 11:45:20] 0.000280 g.CO2eq/s mean an estimation of 8.83195839980987 kg.CO2eq/year\n"
     ]
    },
    {
     "name": "stdout",
     "output_type": "stream",
     "text": [
      "17/17 [==============================] - 2s 93ms/step - loss: 0.0216 - val_loss: 0.0141\n",
      "Epoch 138/300\n",
      "17/17 [==============================] - 2s 110ms/step - loss: 0.0214 - val_loss: 0.0147\n",
      "Epoch 139/300\n",
      "17/17 [==============================] - 2s 113ms/step - loss: 0.0212 - val_loss: 0.0138\n",
      "Epoch 140/300\n",
      "17/17 [==============================] - 2s 110ms/step - loss: 0.0207 - val_loss: 0.0137\n",
      "Epoch 141/300\n",
      "17/17 [==============================] - 2s 98ms/step - loss: 0.0211 - val_loss: 0.0149\n",
      "Epoch 142/300\n",
      " 5/17 [=======>......................] - ETA: 1s - loss: 0.0203"
     ]
    },
    {
     "name": "stderr",
     "output_type": "stream",
     "text": [
      "[codecarbon INFO @ 11:45:28] Energy consumed for RAM : 0.000715 kWh. RAM Power : 11.891499996185303 W\n",
      "[codecarbon INFO @ 11:45:28] Energy consumed for all CPUs : 0.002560 kWh. Total CPU Power : 42.5 W\n"
     ]
    },
    {
     "name": "stdout",
     "output_type": "stream",
     "text": [
      "17/17 [==============================] - 1s 89ms/step - loss: 0.0212 - val_loss: 0.0146\n",
      "Epoch 143/300\n",
      " 3/17 [====>.........................] - ETA: 1s - loss: 0.0215"
     ]
    },
    {
     "name": "stderr",
     "output_type": "stream",
     "text": [
      "[codecarbon INFO @ 11:45:29] Energy consumed for all GPUs : 0.000245 kWh. Total GPU Power : 4.584755157023837 W\n",
      "[codecarbon INFO @ 11:45:29] 0.003520 kWh of electricity used since the beginning.\n"
     ]
    },
    {
     "name": "stdout",
     "output_type": "stream",
     "text": [
      "17/17 [==============================] - 2s 101ms/step - loss: 0.0210 - val_loss: 0.0141\n",
      "Epoch 144/300\n",
      "17/17 [==============================] - 2s 90ms/step - loss: 0.0202 - val_loss: 0.0148\n",
      "Epoch 145/300\n",
      "17/17 [==============================] - 1s 86ms/step - loss: 0.0204 - val_loss: 0.0138\n",
      "Epoch 146/300\n",
      "17/17 [==============================] - 2s 88ms/step - loss: 0.0205 - val_loss: 0.0138\n",
      "Epoch 147/300\n",
      "17/17 [==============================] - 2s 103ms/step - loss: 0.0203 - val_loss: 0.0142\n",
      "Epoch 148/300\n",
      " 9/17 [==============>...............] - ETA: 0s - loss: 0.0197"
     ]
    },
    {
     "name": "stderr",
     "output_type": "stream",
     "text": [
      "[codecarbon INFO @ 11:45:38] Energy consumed for RAM : 0.000743 kWh. RAM Power : 11.891499996185303 W\n",
      "[codecarbon INFO @ 11:45:38] Energy consumed for all CPUs : 0.002662 kWh. Total CPU Power : 42.5 W\n"
     ]
    },
    {
     "name": "stdout",
     "output_type": "stream",
     "text": [
      "17/17 [==============================] - 2s 99ms/step - loss: 0.0204 - val_loss: 0.0132\n",
      "Epoch 149/300\n",
      " 7/17 [===========>..................] - ETA: 0s - loss: 0.0197"
     ]
    },
    {
     "name": "stderr",
     "output_type": "stream",
     "text": [
      "[codecarbon INFO @ 11:45:39] Energy consumed for all GPUs : 0.000255 kWh. Total GPU Power : 4.278108035722477 W\n",
      "[codecarbon INFO @ 11:45:39] 0.003660 kWh of electricity used since the beginning.\n"
     ]
    },
    {
     "name": "stdout",
     "output_type": "stream",
     "text": [
      "17/17 [==============================] - 2s 93ms/step - loss: 0.0198 - val_loss: 0.0132\n",
      "Epoch 150/300\n",
      "17/17 [==============================] - 2s 95ms/step - loss: 0.0195 - val_loss: 0.0133\n",
      "Epoch 151/300\n",
      "17/17 [==============================] - 1s 89ms/step - loss: 0.0200 - val_loss: 0.0136\n",
      "Epoch 152/300\n",
      "17/17 [==============================] - 2s 101ms/step - loss: 0.0197 - val_loss: 0.0131\n",
      "Epoch 153/300\n",
      "17/17 [==============================] - 2s 104ms/step - loss: 0.0200 - val_loss: 0.0136\n",
      "Epoch 154/300\n",
      "12/17 [====================>.........] - ETA: 0s - loss: 0.0191"
     ]
    },
    {
     "name": "stderr",
     "output_type": "stream",
     "text": [
      "[codecarbon INFO @ 11:45:48] Energy consumed for RAM : 0.000771 kWh. RAM Power : 11.891499996185303 W\n",
      "[codecarbon INFO @ 11:45:48] Energy consumed for all CPUs : 0.002764 kWh. Total CPU Power : 42.5 W\n"
     ]
    },
    {
     "name": "stdout",
     "output_type": "stream",
     "text": [
      "17/17 [==============================] - 2s 100ms/step - loss: 0.0193 - val_loss: 0.0134\n",
      "Epoch 155/300\n",
      "10/17 [================>.............] - ETA: 0s - loss: 0.0199"
     ]
    },
    {
     "name": "stderr",
     "output_type": "stream",
     "text": [
      "[codecarbon INFO @ 11:45:49] Energy consumed for all GPUs : 0.000265 kWh. Total GPU Power : 4.276543408717197 W\n",
      "[codecarbon INFO @ 11:45:49] 0.003800 kWh of electricity used since the beginning.\n"
     ]
    },
    {
     "name": "stdout",
     "output_type": "stream",
     "text": [
      "17/17 [==============================] - 2s 91ms/step - loss: 0.0199 - val_loss: 0.0132\n",
      "Epoch 156/300\n",
      "17/17 [==============================] - 2s 96ms/step - loss: 0.0205 - val_loss: 0.0138\n",
      "Epoch 157/300\n",
      "17/17 [==============================] - 2s 101ms/step - loss: 0.0199 - val_loss: 0.0131\n",
      "Epoch 158/300\n",
      "17/17 [==============================] - 2s 101ms/step - loss: 0.0196 - val_loss: 0.0134\n",
      "Epoch 159/300\n",
      "17/17 [==============================] - 2s 99ms/step - loss: 0.0201 - val_loss: 0.0134\n",
      "Epoch 160/300\n",
      "13/17 [=====================>........] - ETA: 0s - loss: 0.0193"
     ]
    },
    {
     "name": "stderr",
     "output_type": "stream",
     "text": [
      "[codecarbon INFO @ 11:45:58] Energy consumed for RAM : 0.000800 kWh. RAM Power : 11.891499996185303 W\n"
     ]
    },
    {
     "name": "stdout",
     "output_type": "stream",
     "text": [
      "14/17 [=======================>......] - ETA: 0s - loss: 0.0193"
     ]
    },
    {
     "name": "stderr",
     "output_type": "stream",
     "text": [
      "[codecarbon INFO @ 11:45:58] Energy consumed for all CPUs : 0.002866 kWh. Total CPU Power : 42.5 W\n"
     ]
    },
    {
     "name": "stdout",
     "output_type": "stream",
     "text": [
      "17/17 [==============================] - 2s 97ms/step - loss: 0.0192 - val_loss: 0.0133\n",
      "Epoch 161/300\n",
      "11/17 [==================>...........] - ETA: 0s - loss: 0.0188"
     ]
    },
    {
     "name": "stderr",
     "output_type": "stream",
     "text": [
      "[codecarbon INFO @ 11:45:59] Energy consumed for all GPUs : 0.000276 kWh. Total GPU Power : 4.278777599172269 W\n",
      "[codecarbon INFO @ 11:45:59] 0.003941 kWh of electricity used since the beginning.\n"
     ]
    },
    {
     "name": "stdout",
     "output_type": "stream",
     "text": [
      "17/17 [==============================] - 2s 90ms/step - loss: 0.0192 - val_loss: 0.0136\n",
      "Epoch 162/300\n",
      "17/17 [==============================] - 2s 104ms/step - loss: 0.0188 - val_loss: 0.0124\n",
      "Epoch 163/300\n",
      "17/17 [==============================] - 2s 97ms/step - loss: 0.0187 - val_loss: 0.0127\n",
      "Epoch 164/300\n",
      "17/17 [==============================] - 2s 105ms/step - loss: 0.0188 - val_loss: 0.0125\n",
      "Epoch 165/300\n",
      "17/17 [==============================] - 2s 101ms/step - loss: 0.0183 - val_loss: 0.0122\n",
      "Epoch 166/300\n",
      "12/17 [====================>.........] - ETA: 0s - loss: 0.0184"
     ]
    },
    {
     "name": "stderr",
     "output_type": "stream",
     "text": [
      "[codecarbon INFO @ 11:46:08] Energy consumed for RAM : 0.000828 kWh. RAM Power : 11.891499996185303 W\n",
      "[codecarbon INFO @ 11:46:08] Energy consumed for all CPUs : 0.002967 kWh. Total CPU Power : 42.5 W\n"
     ]
    },
    {
     "name": "stdout",
     "output_type": "stream",
     "text": [
      "17/17 [==============================] - 2s 94ms/step - loss: 0.0188 - val_loss: 0.0126\n",
      "Epoch 167/300\n",
      "11/17 [==================>...........] - ETA: 0s - loss: 0.0183"
     ]
    },
    {
     "name": "stderr",
     "output_type": "stream",
     "text": [
      "[codecarbon INFO @ 11:46:09] Energy consumed for all GPUs : 0.000286 kWh. Total GPU Power : 4.279054555374164 W\n",
      "[codecarbon INFO @ 11:46:09] 0.004081 kWh of electricity used since the beginning.\n"
     ]
    },
    {
     "name": "stdout",
     "output_type": "stream",
     "text": [
      "17/17 [==============================] - 2s 88ms/step - loss: 0.0184 - val_loss: 0.0125\n",
      "Epoch 168/300\n",
      "17/17 [==============================] - 2s 100ms/step - loss: 0.0179 - val_loss: 0.0123\n",
      "Epoch 169/300\n",
      "17/17 [==============================] - 2s 92ms/step - loss: 0.0178 - val_loss: 0.0120\n",
      "Epoch 170/300\n",
      "17/17 [==============================] - 2s 101ms/step - loss: 0.0179 - val_loss: 0.0133\n",
      "Epoch 171/300\n",
      "17/17 [==============================] - 2s 99ms/step - loss: 0.0183 - val_loss: 0.0127\n",
      "Epoch 172/300\n",
      "15/17 [=========================>....] - ETA: 0s - loss: 0.0174"
     ]
    },
    {
     "name": "stderr",
     "output_type": "stream",
     "text": [
      "[codecarbon INFO @ 11:46:18] Energy consumed for RAM : 0.000857 kWh. RAM Power : 11.891499996185303 W\n",
      "[codecarbon INFO @ 11:46:18] Energy consumed for all CPUs : 0.003069 kWh. Total CPU Power : 42.5 W\n"
     ]
    },
    {
     "name": "stdout",
     "output_type": "stream",
     "text": [
      "17/17 [==============================] - 2s 101ms/step - loss: 0.0177 - val_loss: 0.0137\n",
      "Epoch 173/300\n",
      "12/17 [====================>.........] - ETA: 0s - loss: 0.0180"
     ]
    },
    {
     "name": "stderr",
     "output_type": "stream",
     "text": [
      "[codecarbon INFO @ 11:46:19] Energy consumed for all GPUs : 0.000296 kWh. Total GPU Power : 4.352830739447535 W\n",
      "[codecarbon INFO @ 11:46:19] 0.004222 kWh of electricity used since the beginning.\n"
     ]
    },
    {
     "name": "stdout",
     "output_type": "stream",
     "text": [
      "17/17 [==============================] - 1s 88ms/step - loss: 0.0182 - val_loss: 0.0130\n",
      "Epoch 174/300\n",
      "17/17 [==============================] - 2s 102ms/step - loss: 0.0175 - val_loss: 0.0124\n",
      "Epoch 175/300\n",
      "17/17 [==============================] - 2s 96ms/step - loss: 0.0173 - val_loss: 0.0124\n",
      "Epoch 176/300\n",
      "17/17 [==============================] - 2s 97ms/step - loss: 0.0176 - val_loss: 0.0122\n",
      "Epoch 177/300\n",
      "17/17 [==============================] - 2s 107ms/step - loss: 0.0171 - val_loss: 0.0118\n",
      "Epoch 178/300\n",
      "13/17 [=====================>........] - ETA: 0s - loss: 0.0169"
     ]
    },
    {
     "name": "stderr",
     "output_type": "stream",
     "text": [
      "[codecarbon INFO @ 11:46:28] Energy consumed for RAM : 0.000885 kWh. RAM Power : 11.891499996185303 W\n"
     ]
    },
    {
     "name": "stdout",
     "output_type": "stream",
     "text": [
      "14/17 [=======================>......] - ETA: 0s - loss: 0.0168"
     ]
    },
    {
     "name": "stderr",
     "output_type": "stream",
     "text": [
      "[codecarbon INFO @ 11:46:28] Energy consumed for all CPUs : 0.003171 kWh. Total CPU Power : 42.5 W\n"
     ]
    },
    {
     "name": "stdout",
     "output_type": "stream",
     "text": [
      "17/17 [==============================] - 2s 100ms/step - loss: 0.0172 - val_loss: 0.0117\n",
      "Epoch 179/300\n",
      "11/17 [==================>...........] - ETA: 0s - loss: 0.0172"
     ]
    },
    {
     "name": "stderr",
     "output_type": "stream",
     "text": [
      "[codecarbon INFO @ 11:46:29] Energy consumed for all GPUs : 0.000307 kWh. Total GPU Power : 4.293635921954526 W\n",
      "[codecarbon INFO @ 11:46:29] 0.004362 kWh of electricity used since the beginning.\n"
     ]
    },
    {
     "name": "stdout",
     "output_type": "stream",
     "text": [
      "17/17 [==============================] - 2s 91ms/step - loss: 0.0174 - val_loss: 0.0117\n",
      "Epoch 180/300\n",
      "17/17 [==============================] - 2s 99ms/step - loss: 0.0174 - val_loss: 0.0123\n",
      "Epoch 181/300\n",
      "17/17 [==============================] - 2s 96ms/step - loss: 0.0171 - val_loss: 0.0124\n",
      "Epoch 182/300\n",
      "17/17 [==============================] - 2s 102ms/step - loss: 0.0164 - val_loss: 0.0112\n",
      "Epoch 183/300\n",
      "17/17 [==============================] - 2s 106ms/step - loss: 0.0162 - val_loss: 0.0117\n",
      "Epoch 184/300\n",
      "12/17 [====================>.........] - ETA: 0s - loss: 0.0165"
     ]
    },
    {
     "name": "stderr",
     "output_type": "stream",
     "text": [
      "[codecarbon INFO @ 11:46:38] Energy consumed for RAM : 0.000913 kWh. RAM Power : 11.891499996185303 W\n",
      "[codecarbon INFO @ 11:46:38] Energy consumed for all CPUs : 0.003272 kWh. Total CPU Power : 42.5 W\n"
     ]
    },
    {
     "name": "stdout",
     "output_type": "stream",
     "text": [
      "17/17 [==============================] - 2s 97ms/step - loss: 0.0165 - val_loss: 0.0124\n",
      "Epoch 185/300\n",
      "11/17 [==================>...........] - ETA: 0s - loss: 0.0176"
     ]
    },
    {
     "name": "stderr",
     "output_type": "stream",
     "text": [
      "[codecarbon INFO @ 11:46:39] Energy consumed for all GPUs : 0.000317 kWh. Total GPU Power : 4.20251073626563 W\n",
      "[codecarbon INFO @ 11:46:39] 0.004502 kWh of electricity used since the beginning.\n"
     ]
    },
    {
     "name": "stdout",
     "output_type": "stream",
     "text": [
      "14/17 [=======================>......] - ETA: 0s - loss: 0.0176"
     ]
    },
    {
     "name": "stderr",
     "output_type": "stream",
     "text": [
      "[codecarbon INFO @ 11:46:40] 0.000281 g.CO2eq/s mean an estimation of 8.85092517843184 kg.CO2eq/year\n"
     ]
    },
    {
     "name": "stdout",
     "output_type": "stream",
     "text": [
      "17/17 [==============================] - 2s 90ms/step - loss: 0.0173 - val_loss: 0.0111\n",
      "Epoch 186/300\n",
      "17/17 [==============================] - 2s 100ms/step - loss: 0.0168 - val_loss: 0.0117\n",
      "Epoch 187/300\n",
      "17/17 [==============================] - 2s 98ms/step - loss: 0.0169 - val_loss: 0.0130\n",
      "Epoch 188/300\n",
      "17/17 [==============================] - 2s 105ms/step - loss: 0.0167 - val_loss: 0.0111\n",
      "Epoch 189/300\n",
      "17/17 [==============================] - 2s 96ms/step - loss: 0.0160 - val_loss: 0.0114\n",
      "Epoch 190/300\n",
      "13/17 [=====================>........] - ETA: 0s - loss: 0.0163"
     ]
    },
    {
     "name": "stderr",
     "output_type": "stream",
     "text": [
      "[codecarbon INFO @ 11:46:48] Energy consumed for RAM : 0.000942 kWh. RAM Power : 11.891499996185303 W\n",
      "[codecarbon INFO @ 11:46:48] Energy consumed for all CPUs : 0.003374 kWh. Total CPU Power : 42.5 W\n"
     ]
    },
    {
     "name": "stdout",
     "output_type": "stream",
     "text": [
      "17/17 [==============================] - 2s 95ms/step - loss: 0.0165 - val_loss: 0.0114\n",
      "Epoch 191/300\n",
      "11/17 [==================>...........] - ETA: 0s - loss: 0.0167"
     ]
    },
    {
     "name": "stderr",
     "output_type": "stream",
     "text": [
      "[codecarbon INFO @ 11:46:49] Energy consumed for all GPUs : 0.000327 kWh. Total GPU Power : 4.209499081009539 W\n",
      "[codecarbon INFO @ 11:46:49] 0.004643 kWh of electricity used since the beginning.\n"
     ]
    },
    {
     "name": "stdout",
     "output_type": "stream",
     "text": [
      "17/17 [==============================] - 2s 89ms/step - loss: 0.0162 - val_loss: 0.0120\n",
      "Epoch 192/300\n",
      "17/17 [==============================] - 2s 110ms/step - loss: 0.0163 - val_loss: 0.0110\n",
      "Epoch 193/300\n",
      "17/17 [==============================] - 2s 104ms/step - loss: 0.0156 - val_loss: 0.0110\n",
      "Epoch 194/300\n",
      "17/17 [==============================] - 2s 93ms/step - loss: 0.0158 - val_loss: 0.0124\n",
      "Epoch 195/300\n",
      "17/17 [==============================] - 2s 89ms/step - loss: 0.0157 - val_loss: 0.0110\n",
      "Epoch 196/300\n",
      "13/17 [=====================>........] - ETA: 0s - loss: 0.0153"
     ]
    },
    {
     "name": "stderr",
     "output_type": "stream",
     "text": [
      "[codecarbon INFO @ 11:46:58] Energy consumed for RAM : 0.000970 kWh. RAM Power : 11.891499996185303 W\n"
     ]
    },
    {
     "name": "stdout",
     "output_type": "stream",
     "text": [
      "14/17 [=======================>......] - ETA: 0s - loss: 0.0154"
     ]
    },
    {
     "name": "stderr",
     "output_type": "stream",
     "text": [
      "[codecarbon INFO @ 11:46:58] Energy consumed for all CPUs : 0.003476 kWh. Total CPU Power : 42.5 W\n"
     ]
    },
    {
     "name": "stdout",
     "output_type": "stream",
     "text": [
      "17/17 [==============================] - 2s 99ms/step - loss: 0.0158 - val_loss: 0.0117\n",
      "Epoch 197/300\n",
      "12/17 [====================>.........] - ETA: 0s - loss: 0.0156"
     ]
    },
    {
     "name": "stderr",
     "output_type": "stream",
     "text": [
      "[codecarbon INFO @ 11:46:59] Energy consumed for all GPUs : 0.000337 kWh. Total GPU Power : 4.303123967259895 W\n",
      "[codecarbon INFO @ 11:46:59] 0.004783 kWh of electricity used since the beginning.\n"
     ]
    },
    {
     "name": "stdout",
     "output_type": "stream",
     "text": [
      "17/17 [==============================] - 2s 92ms/step - loss: 0.0156 - val_loss: 0.0109\n",
      "Epoch 198/300\n",
      "17/17 [==============================] - 2s 104ms/step - loss: 0.0151 - val_loss: 0.0107\n",
      "Epoch 199/300\n",
      "17/17 [==============================] - 2s 96ms/step - loss: 0.0154 - val_loss: 0.0117\n",
      "Epoch 200/300\n",
      "17/17 [==============================] - 2s 101ms/step - loss: 0.0157 - val_loss: 0.0107\n",
      "Epoch 201/300\n",
      "17/17 [==============================] - 2s 106ms/step - loss: 0.0156 - val_loss: 0.0109\n",
      "Epoch 202/300\n",
      "11/17 [==================>...........] - ETA: 0s - loss: 0.0147"
     ]
    },
    {
     "name": "stderr",
     "output_type": "stream",
     "text": [
      "[codecarbon INFO @ 11:47:08] Energy consumed for RAM : 0.000999 kWh. RAM Power : 11.891499996185303 W\n",
      "[codecarbon INFO @ 11:47:08] Energy consumed for all CPUs : 0.003578 kWh. Total CPU Power : 42.5 W\n"
     ]
    },
    {
     "name": "stdout",
     "output_type": "stream",
     "text": [
      "17/17 [==============================] - 2s 97ms/step - loss: 0.0150 - val_loss: 0.0107\n",
      "Epoch 203/300\n",
      "12/17 [====================>.........] - ETA: 0s - loss: 0.0151"
     ]
    },
    {
     "name": "stderr",
     "output_type": "stream",
     "text": [
      "[codecarbon INFO @ 11:47:09] Energy consumed for all GPUs : 0.000347 kWh. Total GPU Power : 4.210357274113294 W\n",
      "[codecarbon INFO @ 11:47:09] 0.004923 kWh of electricity used since the beginning.\n"
     ]
    },
    {
     "name": "stdout",
     "output_type": "stream",
     "text": [
      "17/17 [==============================] - 1s 81ms/step - loss: 0.0149 - val_loss: 0.0109\n",
      "Epoch 204/300\n",
      "17/17 [==============================] - 2s 92ms/step - loss: 0.0147 - val_loss: 0.0110\n",
      "Epoch 205/300\n",
      "17/17 [==============================] - 2s 107ms/step - loss: 0.0156 - val_loss: 0.0123\n",
      "Epoch 206/300\n",
      "17/17 [==============================] - 2s 107ms/step - loss: 0.0157 - val_loss: 0.0110\n",
      "Epoch 207/300\n",
      "17/17 [==============================] - 2s 117ms/step - loss: 0.0150 - val_loss: 0.0106\n",
      "Epoch 208/300\n",
      " 8/17 [=============>................] - ETA: 0s - loss: 0.0147"
     ]
    },
    {
     "name": "stderr",
     "output_type": "stream",
     "text": [
      "[codecarbon INFO @ 11:47:18] Energy consumed for RAM : 0.001027 kWh. RAM Power : 11.891499996185303 W\n",
      "[codecarbon INFO @ 11:47:18] Energy consumed for all CPUs : 0.003679 kWh. Total CPU Power : 42.5 W\n"
     ]
    },
    {
     "name": "stdout",
     "output_type": "stream",
     "text": [
      "17/17 [==============================] - 2s 107ms/step - loss: 0.0146 - val_loss: 0.0105\n",
      "Epoch 209/300\n",
      " 4/17 [======>.......................] - ETA: 1s - loss: 0.0131"
     ]
    },
    {
     "name": "stderr",
     "output_type": "stream",
     "text": [
      "[codecarbon INFO @ 11:47:19] Energy consumed for all GPUs : 0.000357 kWh. Total GPU Power : 4.295012489075294 W\n",
      "[codecarbon INFO @ 11:47:19] 0.005064 kWh of electricity used since the beginning.\n"
     ]
    },
    {
     "name": "stdout",
     "output_type": "stream",
     "text": [
      "17/17 [==============================] - 2s 105ms/step - loss: 0.0144 - val_loss: 0.0101\n",
      "Epoch 210/300\n",
      "17/17 [==============================] - 2s 108ms/step - loss: 0.0140 - val_loss: 0.0101\n",
      "Epoch 211/300\n",
      "17/17 [==============================] - 2s 106ms/step - loss: 0.0141 - val_loss: 0.0102\n",
      "Epoch 212/300\n",
      "17/17 [==============================] - 2s 114ms/step - loss: 0.0141 - val_loss: 0.0097\n",
      "Epoch 213/300\n",
      "16/17 [===========================>..] - ETA: 0s - loss: 0.0143"
     ]
    },
    {
     "name": "stderr",
     "output_type": "stream",
     "text": [
      "[codecarbon INFO @ 11:47:28] Energy consumed for RAM : 0.001055 kWh. RAM Power : 11.891499996185303 W\n",
      "[codecarbon INFO @ 11:47:28] Energy consumed for all CPUs : 0.003781 kWh. Total CPU Power : 42.5 W\n"
     ]
    },
    {
     "name": "stdout",
     "output_type": "stream",
     "text": [
      "17/17 [==============================] - 2s 110ms/step - loss: 0.0142 - val_loss: 0.0104\n",
      "Epoch 214/300\n",
      "13/17 [=====================>........] - ETA: 0s - loss: 0.0145"
     ]
    },
    {
     "name": "stderr",
     "output_type": "stream",
     "text": [
      "[codecarbon INFO @ 11:47:29] Energy consumed for all GPUs : 0.000368 kWh. Total GPU Power : 4.632038441619575 W\n",
      "[codecarbon INFO @ 11:47:29] 0.005205 kWh of electricity used since the beginning.\n"
     ]
    },
    {
     "name": "stdout",
     "output_type": "stream",
     "text": [
      "17/17 [==============================] - 2s 89ms/step - loss: 0.0146 - val_loss: 0.0099\n",
      "Epoch 215/300\n",
      "17/17 [==============================] - 2s 104ms/step - loss: 0.0138 - val_loss: 0.0105\n",
      "Epoch 216/300\n",
      "17/17 [==============================] - 2s 110ms/step - loss: 0.0138 - val_loss: 0.0100\n",
      "Epoch 217/300\n",
      "17/17 [==============================] - 2s 115ms/step - loss: 0.0137 - val_loss: 0.0096\n",
      "Epoch 218/300\n",
      "17/17 [==============================] - 2s 116ms/step - loss: 0.0137 - val_loss: 0.0096\n",
      "Epoch 219/300\n",
      " 6/17 [=========>....................] - ETA: 1s - loss: 0.0133"
     ]
    },
    {
     "name": "stderr",
     "output_type": "stream",
     "text": [
      "[codecarbon INFO @ 11:47:38] Energy consumed for RAM : 0.001084 kWh. RAM Power : 11.891499996185303 W\n",
      "[codecarbon INFO @ 11:47:38] Energy consumed for all CPUs : 0.003883 kWh. Total CPU Power : 42.5 W\n"
     ]
    },
    {
     "name": "stdout",
     "output_type": "stream",
     "text": [
      "17/17 [==============================] - 2s 99ms/step - loss: 0.0137 - val_loss: 0.0101\n",
      "Epoch 220/300\n",
      " 3/17 [====>.........................] - ETA: 1s - loss: 0.0130"
     ]
    },
    {
     "name": "stderr",
     "output_type": "stream",
     "text": [
      "[codecarbon INFO @ 11:47:39] Energy consumed for all GPUs : 0.000380 kWh. Total GPU Power : 4.804407401857155 W\n",
      "[codecarbon INFO @ 11:47:39] 0.005347 kWh of electricity used since the beginning.\n"
     ]
    },
    {
     "name": "stdout",
     "output_type": "stream",
     "text": [
      "17/17 [==============================] - 2s 92ms/step - loss: 0.0138 - val_loss: 0.0104\n",
      "Epoch 221/300\n",
      "17/17 [==============================] - 1s 87ms/step - loss: 0.0135 - val_loss: 0.0103\n",
      "Epoch 222/300\n",
      "17/17 [==============================] - 2s 93ms/step - loss: 0.0135 - val_loss: 0.0096\n",
      "Epoch 223/300\n",
      "17/17 [==============================] - 2s 101ms/step - loss: 0.0135 - val_loss: 0.0104\n",
      "Epoch 224/300\n",
      "17/17 [==============================] - 2s 106ms/step - loss: 0.0134 - val_loss: 0.0096\n",
      "Epoch 225/300\n",
      "10/17 [================>.............] - ETA: 0s - loss: 0.0129"
     ]
    },
    {
     "name": "stderr",
     "output_type": "stream",
     "text": [
      "[codecarbon INFO @ 11:47:48] Energy consumed for RAM : 0.001112 kWh. RAM Power : 11.891499996185303 W\n",
      "[codecarbon INFO @ 11:47:48] Energy consumed for all CPUs : 0.003985 kWh. Total CPU Power : 42.5 W\n"
     ]
    },
    {
     "name": "stdout",
     "output_type": "stream",
     "text": [
      "17/17 [==============================] - 1s 80ms/step - loss: 0.0132 - val_loss: 0.0104\n",
      "Epoch 226/300\n",
      " 9/17 [==============>...............] - ETA: 0s - loss: 0.0125"
     ]
    },
    {
     "name": "stderr",
     "output_type": "stream",
     "text": [
      "[codecarbon INFO @ 11:47:49] Energy consumed for all GPUs : 0.000390 kWh. Total GPU Power : 4.305259222881284 W\n",
      "[codecarbon INFO @ 11:47:49] 0.005487 kWh of electricity used since the beginning.\n"
     ]
    },
    {
     "name": "stdout",
     "output_type": "stream",
     "text": [
      "17/17 [==============================] - 1s 86ms/step - loss: 0.0131 - val_loss: 0.0099\n",
      "Epoch 227/300\n",
      "17/17 [==============================] - 2s 90ms/step - loss: 0.0132 - val_loss: 0.0102\n",
      "Epoch 228/300\n",
      "17/17 [==============================] - 2s 103ms/step - loss: 0.0129 - val_loss: 0.0097\n",
      "Epoch 229/300\n",
      "17/17 [==============================] - 2s 103ms/step - loss: 0.0131 - val_loss: 0.0100\n",
      "Epoch 230/300\n",
      "17/17 [==============================] - 2s 107ms/step - loss: 0.0124 - val_loss: 0.0093\n",
      "Epoch 231/300\n",
      "11/17 [==================>...........] - ETA: 0s - loss: 0.0124"
     ]
    },
    {
     "name": "stderr",
     "output_type": "stream",
     "text": [
      "[codecarbon INFO @ 11:47:58] Energy consumed for RAM : 0.001140 kWh. RAM Power : 11.891499996185303 W\n"
     ]
    },
    {
     "name": "stdout",
     "output_type": "stream",
     "text": [
      "12/17 [====================>.........] - ETA: 0s - loss: 0.0124"
     ]
    },
    {
     "name": "stderr",
     "output_type": "stream",
     "text": [
      "[codecarbon INFO @ 11:47:58] Energy consumed for all CPUs : 0.004086 kWh. Total CPU Power : 42.5 W\n"
     ]
    },
    {
     "name": "stdout",
     "output_type": "stream",
     "text": [
      "17/17 [==============================] - 2s 102ms/step - loss: 0.0127 - val_loss: 0.0099\n",
      "Epoch 232/300\n",
      " 8/17 [=============>................] - ETA: 0s - loss: 0.0131"
     ]
    },
    {
     "name": "stderr",
     "output_type": "stream",
     "text": [
      "[codecarbon INFO @ 11:47:59] Energy consumed for all GPUs : 0.000401 kWh. Total GPU Power : 4.580762602446596 W\n",
      "[codecarbon INFO @ 11:47:59] 0.005628 kWh of electricity used since the beginning.\n"
     ]
    },
    {
     "name": "stdout",
     "output_type": "stream",
     "text": [
      "11/17 [==================>...........] - ETA: 0s - loss: 0.0132"
     ]
    },
    {
     "name": "stderr",
     "output_type": "stream",
     "text": [
      "[codecarbon INFO @ 11:48:00] 0.000281 g.CO2eq/s mean an estimation of 8.865964636435965 kg.CO2eq/year\n"
     ]
    },
    {
     "name": "stdout",
     "output_type": "stream",
     "text": [
      "17/17 [==============================] - 2s 98ms/step - loss: 0.0131 - val_loss: 0.0091\n",
      "Epoch 233/300\n",
      "17/17 [==============================] - 2s 108ms/step - loss: 0.0128 - val_loss: 0.0091\n",
      "Epoch 234/300\n",
      "17/17 [==============================] - 2s 108ms/step - loss: 0.0125 - val_loss: 0.0099\n",
      "Epoch 235/300\n",
      "17/17 [==============================] - 2s 107ms/step - loss: 0.0126 - val_loss: 0.0091\n",
      "Epoch 236/300\n",
      "17/17 [==============================] - 2s 113ms/step - loss: 0.0123 - val_loss: 0.0090\n",
      "Epoch 237/300\n",
      " 2/17 [==>...........................] - ETA: 1s - loss: 0.0127"
     ]
    },
    {
     "name": "stderr",
     "output_type": "stream",
     "text": [
      "[codecarbon INFO @ 11:48:08] Energy consumed for RAM : 0.001169 kWh. RAM Power : 11.891499996185303 W\n",
      "[codecarbon INFO @ 11:48:08] Energy consumed for all CPUs : 0.004188 kWh. Total CPU Power : 42.5 W\n"
     ]
    },
    {
     "name": "stdout",
     "output_type": "stream",
     "text": [
      "17/17 [==============================] - ETA: 0s - loss: 0.0123"
     ]
    },
    {
     "name": "stderr",
     "output_type": "stream",
     "text": [
      "[codecarbon INFO @ 11:48:09] Energy consumed for all GPUs : 0.000413 kWh. Total GPU Power : 4.784729856236947 W\n",
      "[codecarbon INFO @ 11:48:09] 0.005770 kWh of electricity used since the beginning.\n"
     ]
    },
    {
     "name": "stdout",
     "output_type": "stream",
     "text": [
      "17/17 [==============================] - 2s 98ms/step - loss: 0.0123 - val_loss: 0.0091\n",
      "Epoch 238/300\n",
      "17/17 [==============================] - 2s 103ms/step - loss: 0.0121 - val_loss: 0.0093\n",
      "Epoch 239/300\n",
      "17/17 [==============================] - 2s 105ms/step - loss: 0.0126 - val_loss: 0.0091\n",
      "Epoch 240/300\n",
      "17/17 [==============================] - 2s 105ms/step - loss: 0.0130 - val_loss: 0.0088\n",
      "Epoch 241/300\n",
      "17/17 [==============================] - 2s 106ms/step - loss: 0.0119 - val_loss: 0.0094\n",
      "Epoch 242/300\n",
      "15/17 [=========================>....] - ETA: 0s - loss: 0.0124"
     ]
    },
    {
     "name": "stderr",
     "output_type": "stream",
     "text": [
      "[codecarbon INFO @ 11:48:18] Energy consumed for RAM : 0.001197 kWh. RAM Power : 11.891499996185303 W\n",
      "[codecarbon INFO @ 11:48:18] Energy consumed for all CPUs : 0.004290 kWh. Total CPU Power : 42.5 W\n"
     ]
    },
    {
     "name": "stdout",
     "output_type": "stream",
     "text": [
      "17/17 [==============================] - 2s 107ms/step - loss: 0.0124 - val_loss: 0.0090\n",
      "Epoch 243/300\n",
      "12/17 [====================>.........] - ETA: 0s - loss: 0.0119"
     ]
    },
    {
     "name": "stderr",
     "output_type": "stream",
     "text": [
      "[codecarbon INFO @ 11:48:19] Energy consumed for all GPUs : 0.000423 kWh. Total GPU Power : 4.282705768992609 W\n",
      "[codecarbon INFO @ 11:48:19] 0.005910 kWh of electricity used since the beginning.\n"
     ]
    },
    {
     "name": "stdout",
     "output_type": "stream",
     "text": [
      "17/17 [==============================] - 2s 95ms/step - loss: 0.0118 - val_loss: 0.0091\n",
      "Epoch 244/300\n",
      "17/17 [==============================] - 2s 99ms/step - loss: 0.0120 - val_loss: 0.0089\n",
      "Epoch 245/300\n",
      "17/17 [==============================] - 2s 101ms/step - loss: 0.0122 - val_loss: 0.0090\n",
      "Epoch 246/300\n",
      "17/17 [==============================] - 2s 105ms/step - loss: 0.0115 - val_loss: 0.0085\n",
      "Epoch 247/300\n",
      "17/17 [==============================] - 2s 99ms/step - loss: 0.0114 - val_loss: 0.0088\n",
      "Epoch 248/300\n",
      "13/17 [=====================>........] - ETA: 0s - loss: 0.0112"
     ]
    },
    {
     "name": "stderr",
     "output_type": "stream",
     "text": [
      "[codecarbon INFO @ 11:48:28] Energy consumed for RAM : 0.001226 kWh. RAM Power : 11.891499996185303 W\n",
      "[codecarbon INFO @ 11:48:28] Energy consumed for all CPUs : 0.004392 kWh. Total CPU Power : 42.5 W\n"
     ]
    },
    {
     "name": "stdout",
     "output_type": "stream",
     "text": [
      "15/17 [=========================>....] - ETA: 0s - loss: 0.0113"
     ]
    },
    {
     "name": "stderr",
     "output_type": "stream",
     "text": [
      "[codecarbon INFO @ 11:48:28] Energy consumed for all GPUs : 0.000433 kWh. Total GPU Power : 4.302905261916202 W\n",
      "[codecarbon INFO @ 11:48:28] 0.006050 kWh of electricity used since the beginning.\n"
     ]
    },
    {
     "name": "stdout",
     "output_type": "stream",
     "text": [
      "17/17 [==============================] - 2s 93ms/step - loss: 0.0114 - val_loss: 0.0086\n",
      "Epoch 249/300\n",
      "17/17 [==============================] - 2s 102ms/step - loss: 0.0119 - val_loss: 0.0085\n",
      "Epoch 250/300\n",
      "17/17 [==============================] - 2s 108ms/step - loss: 0.0115 - val_loss: 0.0091\n",
      "Epoch 251/300\n",
      "17/17 [==============================] - 2s 107ms/step - loss: 0.0120 - val_loss: 0.0087\n",
      "Epoch 252/300\n",
      "17/17 [==============================] - 2s 109ms/step - loss: 0.0120 - val_loss: 0.0090\n",
      "Epoch 253/300\n",
      "17/17 [==============================] - 2s 107ms/step - loss: 0.0117 - val_loss: 0.0092\n",
      "Epoch 254/300\n",
      " 5/17 [=======>......................] - ETA: 1s - loss: 0.0120"
     ]
    },
    {
     "name": "stderr",
     "output_type": "stream",
     "text": [
      "[codecarbon INFO @ 11:48:38] Energy consumed for RAM : 0.001258 kWh. RAM Power : 11.891499996185303 W\n",
      "[codecarbon INFO @ 11:48:38] Energy consumed for all CPUs : 0.004508 kWh. Total CPU Power : 42.5 W\n"
     ]
    },
    {
     "name": "stdout",
     "output_type": "stream",
     "text": [
      "17/17 [==============================] - 2s 95ms/step - loss: 0.0119 - val_loss: 0.0089\n",
      "Epoch 255/300\n",
      " 2/17 [==>...........................] - ETA: 1s - loss: 0.0109"
     ]
    },
    {
     "name": "stderr",
     "output_type": "stream",
     "text": [
      "[codecarbon INFO @ 11:48:39] Energy consumed for all GPUs : 0.000443 kWh. Total GPU Power : 3.6947311595119454 W\n",
      "[codecarbon INFO @ 11:48:39] 0.006209 kWh of electricity used since the beginning.\n"
     ]
    },
    {
     "name": "stdout",
     "output_type": "stream",
     "text": [
      "17/17 [==============================] - 2s 96ms/step - loss: 0.0113 - val_loss: 0.0086\n",
      "Epoch 256/300\n",
      "17/17 [==============================] - 2s 107ms/step - loss: 0.0111 - val_loss: 0.0085\n",
      "Epoch 257/300\n",
      "17/17 [==============================] - 2s 110ms/step - loss: 0.0113 - val_loss: 0.0087\n",
      "Epoch 258/300\n",
      "17/17 [==============================] - 2s 107ms/step - loss: 0.0116 - val_loss: 0.0092\n",
      "Epoch 259/300\n",
      "17/17 [==============================] - ETA: 0s - loss: 0.0110"
     ]
    },
    {
     "name": "stderr",
     "output_type": "stream",
     "text": [
      "[codecarbon INFO @ 11:48:48] Energy consumed for RAM : 0.001287 kWh. RAM Power : 11.891499996185303 W\n",
      "[codecarbon INFO @ 11:48:48] Energy consumed for all CPUs : 0.004610 kWh. Total CPU Power : 42.5 W\n"
     ]
    },
    {
     "name": "stdout",
     "output_type": "stream",
     "text": [
      "17/17 [==============================] - 2s 111ms/step - loss: 0.0110 - val_loss: 0.0081\n",
      "Epoch 260/300\n",
      "14/17 [=======================>......] - ETA: 0s - loss: 0.0110"
     ]
    },
    {
     "name": "stderr",
     "output_type": "stream",
     "text": [
      "[codecarbon INFO @ 11:48:50] Energy consumed for all GPUs : 0.000454 kWh. Total GPU Power : 4.2956420007172635 W\n",
      "[codecarbon INFO @ 11:48:50] 0.006350 kWh of electricity used since the beginning.\n"
     ]
    },
    {
     "name": "stdout",
     "output_type": "stream",
     "text": [
      "17/17 [==============================] - 2s 90ms/step - loss: 0.0111 - val_loss: 0.0083\n",
      "Epoch 261/300\n",
      "17/17 [==============================] - 2s 104ms/step - loss: 0.0109 - val_loss: 0.0082\n",
      "Epoch 262/300\n",
      "17/17 [==============================] - 2s 100ms/step - loss: 0.0110 - val_loss: 0.0083\n",
      "Epoch 263/300\n",
      "17/17 [==============================] - 2s 99ms/step - loss: 0.0115 - val_loss: 0.0088\n",
      "Epoch 264/300\n",
      "17/17 [==============================] - 2s 102ms/step - loss: 0.0112 - val_loss: 0.0082\n",
      "Epoch 265/300\n",
      "14/17 [=======================>......] - ETA: 0s - loss: 0.0105"
     ]
    },
    {
     "name": "stderr",
     "output_type": "stream",
     "text": [
      "[codecarbon INFO @ 11:48:58] Energy consumed for RAM : 0.001315 kWh. RAM Power : 11.891499996185303 W\n",
      "[codecarbon INFO @ 11:48:58] Energy consumed for all CPUs : 0.004711 kWh. Total CPU Power : 42.5 W\n"
     ]
    },
    {
     "name": "stdout",
     "output_type": "stream",
     "text": [
      "17/17 [==============================] - 2s 104ms/step - loss: 0.0106 - val_loss: 0.0082\n",
      "Epoch 266/300\n",
      "11/17 [==================>...........] - ETA: 0s - loss: 0.0111"
     ]
    },
    {
     "name": "stderr",
     "output_type": "stream",
     "text": [
      "[codecarbon INFO @ 11:49:00] Energy consumed for all GPUs : 0.000464 kWh. Total GPU Power : 4.29113725993904 W\n",
      "[codecarbon INFO @ 11:49:00] 0.006490 kWh of electricity used since the beginning.\n"
     ]
    },
    {
     "name": "stdout",
     "output_type": "stream",
     "text": [
      "17/17 [==============================] - 2s 96ms/step - loss: 0.0113 - val_loss: 0.0103\n",
      "Epoch 267/300\n",
      "17/17 [==============================] - 2s 107ms/step - loss: 0.0108 - val_loss: 0.0082\n",
      "Epoch 268/300\n",
      "17/17 [==============================] - 2s 111ms/step - loss: 0.0103 - val_loss: 0.0078\n",
      "Epoch 269/300\n",
      "17/17 [==============================] - 2s 107ms/step - loss: 0.0106 - val_loss: 0.0086\n",
      "Epoch 270/300\n",
      "17/17 [==============================] - 2s 106ms/step - loss: 0.0112 - val_loss: 0.0083\n",
      "Epoch 271/300\n",
      " 5/17 [=======>......................] - ETA: 1s - loss: 0.0113"
     ]
    },
    {
     "name": "stderr",
     "output_type": "stream",
     "text": [
      "[codecarbon INFO @ 11:49:08] Energy consumed for RAM : 0.001343 kWh. RAM Power : 11.891499996185303 W\n",
      "[codecarbon INFO @ 11:49:08] Energy consumed for all CPUs : 0.004813 kWh. Total CPU Power : 42.5 W\n"
     ]
    },
    {
     "name": "stdout",
     "output_type": "stream",
     "text": [
      "17/17 [==============================] - 2s 97ms/step - loss: 0.0115 - val_loss: 0.0083\n",
      "Epoch 272/300\n",
      " 3/17 [====>.........................] - ETA: 1s - loss: 0.0104"
     ]
    },
    {
     "name": "stderr",
     "output_type": "stream",
     "text": [
      "[codecarbon INFO @ 11:49:10] Energy consumed for all GPUs : 0.000474 kWh. Total GPU Power : 4.2256734597532475 W\n",
      "[codecarbon INFO @ 11:49:10] 0.006630 kWh of electricity used since the beginning.\n"
     ]
    },
    {
     "name": "stdout",
     "output_type": "stream",
     "text": [
      "17/17 [==============================] - 2s 100ms/step - loss: 0.0113 - val_loss: 0.0089\n",
      "Epoch 273/300\n",
      "17/17 [==============================] - 2s 110ms/step - loss: 0.0108 - val_loss: 0.0078\n",
      "Epoch 274/300\n",
      "17/17 [==============================] - 2s 109ms/step - loss: 0.0112 - val_loss: 0.0077\n",
      "Epoch 275/300\n",
      "17/17 [==============================] - 2s 106ms/step - loss: 0.0102 - val_loss: 0.0078\n",
      "Epoch 276/300\n",
      "17/17 [==============================] - ETA: 0s - loss: 0.0111"
     ]
    },
    {
     "name": "stderr",
     "output_type": "stream",
     "text": [
      "[codecarbon INFO @ 11:49:18] Energy consumed for RAM : 0.001372 kWh. RAM Power : 11.891499996185303 W\n",
      "[codecarbon INFO @ 11:49:18] Energy consumed for all CPUs : 0.004914 kWh. Total CPU Power : 42.5 W\n"
     ]
    },
    {
     "name": "stdout",
     "output_type": "stream",
     "text": [
      "17/17 [==============================] - 2s 105ms/step - loss: 0.0111 - val_loss: 0.0102\n",
      "Epoch 277/300\n",
      "14/17 [=======================>......] - ETA: 0s - loss: 0.0116"
     ]
    },
    {
     "name": "stderr",
     "output_type": "stream",
     "text": [
      "[codecarbon INFO @ 11:49:20] Energy consumed for all GPUs : 0.000485 kWh. Total GPU Power : 4.425494077775948 W\n",
      "[codecarbon INFO @ 11:49:20] 0.006771 kWh of electricity used since the beginning.\n"
     ]
    },
    {
     "name": "stdout",
     "output_type": "stream",
     "text": [
      "17/17 [==============================] - 2s 94ms/step - loss: 0.0114 - val_loss: 0.0080\n",
      "Epoch 278/300\n",
      " 3/17 [====>.........................] - ETA: 1s - loss: 0.0105"
     ]
    },
    {
     "name": "stderr",
     "output_type": "stream",
     "text": [
      "[codecarbon INFO @ 11:49:20] 0.000285 g.CO2eq/s mean an estimation of 8.998564975481653 kg.CO2eq/year\n"
     ]
    },
    {
     "name": "stdout",
     "output_type": "stream",
     "text": [
      "17/17 [==============================] - 2s 104ms/step - loss: 0.0109 - val_loss: 0.0087\n",
      "Epoch 279/300\n",
      "17/17 [==============================] - 2s 105ms/step - loss: 0.0106 - val_loss: 0.0091\n",
      "Epoch 280/300\n",
      "17/17 [==============================] - 2s 100ms/step - loss: 0.0108 - val_loss: 0.0079\n",
      "Epoch 281/300\n",
      "17/17 [==============================] - 2s 102ms/step - loss: 0.0108 - val_loss: 0.0084\n",
      "Epoch 282/300\n",
      "12/17 [====================>.........] - ETA: 0s - loss: 0.0102"
     ]
    },
    {
     "name": "stderr",
     "output_type": "stream",
     "text": [
      "[codecarbon INFO @ 11:49:28] Energy consumed for RAM : 0.001400 kWh. RAM Power : 11.891499996185303 W\n",
      "[codecarbon INFO @ 11:49:28] Energy consumed for all CPUs : 0.005016 kWh. Total CPU Power : 42.5 W\n"
     ]
    },
    {
     "name": "stdout",
     "output_type": "stream",
     "text": [
      "17/17 [==============================] - 2s 108ms/step - loss: 0.0104 - val_loss: 0.0077\n",
      "Epoch 283/300\n",
      " 8/17 [=============>................] - ETA: 0s - loss: 0.0100"
     ]
    },
    {
     "name": "stderr",
     "output_type": "stream",
     "text": [
      "[codecarbon INFO @ 11:49:30] Energy consumed for all GPUs : 0.000495 kWh. Total GPU Power : 4.197055976645334 W\n",
      "[codecarbon INFO @ 11:49:30] 0.006911 kWh of electricity used since the beginning.\n"
     ]
    },
    {
     "name": "stdout",
     "output_type": "stream",
     "text": [
      "17/17 [==============================] - 2s 95ms/step - loss: 0.0102 - val_loss: 0.0077\n",
      "Epoch 284/300\n",
      "17/17 [==============================] - 2s 109ms/step - loss: 0.0098 - val_loss: 0.0075\n",
      "Epoch 285/300\n",
      "17/17 [==============================] - 2s 108ms/step - loss: 0.0097 - val_loss: 0.0077\n",
      "Epoch 286/300\n",
      "17/17 [==============================] - 2s 104ms/step - loss: 0.0094 - val_loss: 0.0071\n",
      "Epoch 287/300\n",
      "17/17 [==============================] - 2s 108ms/step - loss: 0.0097 - val_loss: 0.0074\n",
      "Epoch 288/300\n",
      " 3/17 [====>.........................] - ETA: 1s - loss: 0.0101"
     ]
    },
    {
     "name": "stderr",
     "output_type": "stream",
     "text": [
      "[codecarbon INFO @ 11:49:38] Energy consumed for RAM : 0.001428 kWh. RAM Power : 11.891499996185303 W\n"
     ]
    },
    {
     "name": "stdout",
     "output_type": "stream",
     "text": [
      " 4/17 [======>.......................] - ETA: 1s - loss: 0.0100"
     ]
    },
    {
     "name": "stderr",
     "output_type": "stream",
     "text": [
      "[codecarbon INFO @ 11:49:38] Energy consumed for all CPUs : 0.005118 kWh. Total CPU Power : 42.5 W\n"
     ]
    },
    {
     "name": "stdout",
     "output_type": "stream",
     "text": [
      "17/17 [==============================] - 2s 97ms/step - loss: 0.0094 - val_loss: 0.0083\n",
      "Epoch 289/300\n",
      " 1/17 [>.............................] - ETA: 1s - loss: 0.0105"
     ]
    },
    {
     "name": "stderr",
     "output_type": "stream",
     "text": [
      "[codecarbon INFO @ 11:49:40] Energy consumed for all GPUs : 0.000505 kWh. Total GPU Power : 4.330677217395929 W\n",
      "[codecarbon INFO @ 11:49:40] 0.007051 kWh of electricity used since the beginning.\n"
     ]
    },
    {
     "name": "stdout",
     "output_type": "stream",
     "text": [
      "17/17 [==============================] - 2s 99ms/step - loss: 0.0098 - val_loss: 0.0075\n",
      "Epoch 290/300\n",
      "17/17 [==============================] - 2s 108ms/step - loss: 0.0093 - val_loss: 0.0078\n",
      "Epoch 291/300\n",
      "17/17 [==============================] - 2s 108ms/step - loss: 0.0097 - val_loss: 0.0077\n",
      "Epoch 292/300\n",
      "17/17 [==============================] - 2s 112ms/step - loss: 0.0093 - val_loss: 0.0071\n",
      "Epoch 293/300\n",
      "15/17 [=========================>....] - ETA: 0s - loss: 0.0095"
     ]
    },
    {
     "name": "stderr",
     "output_type": "stream",
     "text": [
      "[codecarbon INFO @ 11:49:48] Energy consumed for RAM : 0.001457 kWh. RAM Power : 11.891499996185303 W\n",
      "[codecarbon INFO @ 11:49:48] Energy consumed for all CPUs : 0.005220 kWh. Total CPU Power : 42.5 W\n"
     ]
    },
    {
     "name": "stdout",
     "output_type": "stream",
     "text": [
      "17/17 [==============================] - 2s 104ms/step - loss: 0.0095 - val_loss: 0.0076\n",
      "Epoch 294/300\n",
      "13/17 [=====================>........] - ETA: 0s - loss: 0.0094"
     ]
    },
    {
     "name": "stderr",
     "output_type": "stream",
     "text": [
      "[codecarbon INFO @ 11:49:50] Energy consumed for all GPUs : 0.000516 kWh. Total GPU Power : 4.569586883428873 W\n",
      "[codecarbon INFO @ 11:49:50] 0.007192 kWh of electricity used since the beginning.\n"
     ]
    },
    {
     "name": "stdout",
     "output_type": "stream",
     "text": [
      "17/17 [==============================] - 2s 92ms/step - loss: 0.0094 - val_loss: 0.0071\n",
      "Epoch 295/300\n",
      "17/17 [==============================] - 2s 105ms/step - loss: 0.0089 - val_loss: 0.0072\n",
      "Epoch 296/300\n",
      "17/17 [==============================] - 2s 106ms/step - loss: 0.0094 - val_loss: 0.0071\n",
      "Epoch 297/300\n",
      "17/17 [==============================] - 2s 106ms/step - loss: 0.0094 - val_loss: 0.0076\n",
      "Epoch 298/300\n",
      "17/17 [==============================] - 2s 105ms/step - loss: 0.0095 - val_loss: 0.0077\n",
      "Epoch 299/300\n",
      " 9/17 [==============>...............] - ETA: 0s - loss: 0.0094"
     ]
    },
    {
     "name": "stderr",
     "output_type": "stream",
     "text": [
      "[codecarbon INFO @ 11:49:58] Energy consumed for RAM : 0.001485 kWh. RAM Power : 11.891499996185303 W\n",
      "[codecarbon INFO @ 11:49:58] Energy consumed for all CPUs : 0.005321 kWh. Total CPU Power : 42.5 W\n"
     ]
    },
    {
     "name": "stdout",
     "output_type": "stream",
     "text": [
      "17/17 [==============================] - 2s 102ms/step - loss: 0.0094 - val_loss: 0.0070\n",
      "Epoch 300/300\n",
      " 6/17 [=========>....................] - ETA: 0s - loss: 0.0085"
     ]
    },
    {
     "name": "stderr",
     "output_type": "stream",
     "text": [
      "[codecarbon INFO @ 11:50:00] Energy consumed for all GPUs : 0.000527 kWh. Total GPU Power : 4.785414179287177 W\n",
      "[codecarbon INFO @ 11:50:00] 0.007334 kWh of electricity used since the beginning.\n"
     ]
    },
    {
     "name": "stdout",
     "output_type": "stream",
     "text": [
      "17/17 [==============================] - 2s 95ms/step - loss: 0.0086 - val_loss: 0.0077\n"
     ]
    },
    {
     "name": "stderr",
     "output_type": "stream",
     "text": [
      "[codecarbon INFO @ 11:50:01] Energy consumed for RAM : 0.001489 kWh. RAM Power : 11.891499996185303 W\n",
      "[codecarbon INFO @ 11:50:01] Energy consumed for all CPUs : 0.005334 kWh. Total CPU Power : 42.5 W\n",
      "[codecarbon INFO @ 11:50:01] Energy consumed for all GPUs : 0.000538 kWh. Total GPU Power : 33.584872609510775 W\n",
      "[codecarbon INFO @ 11:50:01] 0.007361 kWh of electricity used since the beginning.\n"
     ]
    }
   ],
   "source": [
    "tracker_conv_lstm.start()\n",
    "try:\n",
    "    history_conv_lstm, training_duration_conv_lstm = start_training_conv_lstm()\n",
    "finally:\n",
    "    tracker_conv_lstm.stop()"
   ]
  },
  {
   "cell_type": "markdown",
   "id": "2cc986f0-59cb-406e-bf20-620c9356725c",
   "metadata": {},
   "source": [
    "#### Ploting the loss"
   ]
  },
  {
   "cell_type": "code",
   "execution_count": 21,
   "id": "5e629435-8092-46ec-9073-2c952de29b36",
   "metadata": {},
   "outputs": [
    {
     "data": {
      "image/png": "[encoded data removed]",
      "text/plain": [
       "<Figure size 2000x800 with 1 Axes>"
      ]
     },
     "metadata": {},
     "output_type": "display_data"
    }
   ],
   "source": [
    "plot_loss(history_conv_lstm)"
   ]
  },
  {
   "cell_type": "code",
   "execution_count": 22,
   "id": "5b30f12f-7690-4d97-bb47-2d4ab15f7b61",
   "metadata": {},
   "outputs": [
    {
     "name": "stdout",
     "output_type": "stream",
     "text": [
      "34/34 [==============================] - 2s 28ms/step\n"
     ]
    },
    {
     "data": {
      "text/plain": [
       "{'mae': 0.005894191, 'mse': 8.873861e-05, 'r2': 0.9207027554512024}"
      ]
     },
     "execution_count": 22,
     "metadata": {},
     "output_type": "execute_result"
    }
   ],
   "source": [
    "conv_lstm_model = tf.keras.models.load_model(\n",
    "    \"model_experiments/model_conv_lstm.keras\")\n",
    "\n",
    "model_preds = make_preds(conv_lstm_model, x_test_conv_lstm)\n",
    "model_results = evaluate_preds(y_true=tf.squeeze(y_test),\n",
    "                               y_pred=model_preds)\n",
    "\n",
    "model_results"
   ]
  },
  {
   "cell_type": "markdown",
   "id": "49564177-2a5b-4e3e-9e4d-cdfea775bb62",
   "metadata": {},
   "source": [
    "#### Plot predictions"
   ]
  },
  {
   "cell_type": "code",
   "execution_count": 23,
   "id": "252095b0-23c1-4b8d-9f9f-38fbc0e32ce3",
   "metadata": {},
   "outputs": [
    {
     "data": {
      "image/png": "[encoded data removed]",
      "text/plain": [
       "<Figure size 2000x1600 with 1 Axes>"
      ]
     },
     "metadata": {},
     "output_type": "display_data"
    }
   ],
   "source": [
    "import numpy as np\n",
    "\n",
    "start_offset = 1\n",
    "end_offset = 30\n",
    "plt.figure(figsize=(20, 16))\n",
    "\n",
    "\n",
    "plot_time_series(\n",
    "    timesteps=np.arange(x_test.shape[0]),\n",
    "    values=y_test,\n",
    "    start=start_offset,\n",
    "    end=end_offset,\n",
    "    format='-*',\n",
    "    label=\"Test data\"\n",
    ")\n",
    "\n",
    "plot_time_series(\n",
    "    timesteps=np.arange(x_test.shape[0]),\n",
    "    values=model_preds,\n",
    "    start=start_offset,\n",
    "    end=end_offset,\n",
    "    format=\"-\",\n",
    "    label=\"ConvLSTM predictions\"\n",
    ")"
   ]
  },
  {
   "cell_type": "code",
   "execution_count": null,
   "id": "a11403de-2473-47e2-8197-79a7fb1ba777",
   "metadata": {},
   "outputs": [],
   "source": []
  },
  {
   "cell_type": "code",
   "execution_count": null,
   "id": "5dd55191-1a07-4b5c-a4aa-e9fdd1a61353",
   "metadata": {},
   "outputs": [],
   "source": []
  }
 ],
 "metadata": {
  "kernelspec": {
   "display_name": "Python 3 (ipykernel)",
   "language": "python",
   "name": "python3"
  },
  "language_info": {
   "codemirror_mode": {
    "name": "ipython",
    "version": 3
   },
   "file_extension": ".py",
   "mimetype": "text/x-python",
   "name": "python",
   "nbconvert_exporter": "python",
   "pygments_lexer": "ipython3",
   "version": "3.11.3"
  }
 },
 "nbformat": 4,
 "nbformat_minor": 5
}
