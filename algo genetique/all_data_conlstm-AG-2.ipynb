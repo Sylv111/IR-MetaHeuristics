{
 "cells": [
  {
   "cell_type": "markdown",
   "id": "f9b6ac3c-b5e9-40e4-ae0e-0676d5a3cf85",
   "metadata": {},
   "source": [
    "## Loading the dataset"
   ]
  },
  {
   "cell_type": "code",
   "execution_count": 1,
   "id": "4c19492b-0921-44f0-ba50-faa3b7ce5bb0",
   "metadata": {},
   "outputs": [
    {
     "data": {
      "text/html": [
       "<div>\n",
       "<style scoped>\n",
       "    .dataframe tbody tr th:only-of-type {\n",
       "        vertical-align: middle;\n",
       "    }\n",
       "\n",
       "    .dataframe tbody tr th {\n",
       "        vertical-align: top;\n",
       "    }\n",
       "\n",
       "    .dataframe thead th {\n",
       "        text-align: right;\n",
       "    }\n",
       "</style>\n",
       "<table border=\"1\" class=\"dataframe\">\n",
       "  <thead>\n",
       "    <tr style=\"text-align: right;\">\n",
       "      <th></th>\n",
       "      <th>production</th>\n",
       "      <th>p_per_m2</th>\n",
       "      <th>p_max</th>\n",
       "      <th>panel_area</th>\n",
       "      <th>facade_area</th>\n",
       "      <th>total_panel_area</th>\n",
       "      <th>exploitation_ratio</th>\n",
       "      <th>air_temp_mean</th>\n",
       "      <th>air_temp_max</th>\n",
       "      <th>clearsky_ghi_mean</th>\n",
       "      <th>...</th>\n",
       "      <th>surface_pressure_mean</th>\n",
       "      <th>surface_pressure_min</th>\n",
       "      <th>surface_pressure_max</th>\n",
       "      <th>wind_direction_100m_mean</th>\n",
       "      <th>wind_direction_100m_min</th>\n",
       "      <th>wind_direction_100m_max</th>\n",
       "      <th>wind_speed_100m_mean</th>\n",
       "      <th>wind_speed_100m_min</th>\n",
       "      <th>wind_speed_100m_max</th>\n",
       "      <th>building_id</th>\n",
       "    </tr>\n",
       "  </thead>\n",
       "  <tbody>\n",
       "    <tr>\n",
       "      <th>0</th>\n",
       "      <td>0.8</td>\n",
       "      <td>143.0</td>\n",
       "      <td>210</td>\n",
       "      <td>1.72</td>\n",
       "      <td>218.0</td>\n",
       "      <td>94.6</td>\n",
       "      <td>0.434</td>\n",
       "      <td>6.255319</td>\n",
       "      <td>7</td>\n",
       "      <td>61.340426</td>\n",
       "      <td>...</td>\n",
       "      <td>1031.902128</td>\n",
       "      <td>1030.8</td>\n",
       "      <td>1034.5</td>\n",
       "      <td>256.340426</td>\n",
       "      <td>227</td>\n",
       "      <td>312</td>\n",
       "      <td>5.036170</td>\n",
       "      <td>2.2</td>\n",
       "      <td>7.4</td>\n",
       "      <td>1</td>\n",
       "    </tr>\n",
       "    <tr>\n",
       "      <th>1</th>\n",
       "      <td>16.9</td>\n",
       "      <td>143.0</td>\n",
       "      <td>210</td>\n",
       "      <td>1.72</td>\n",
       "      <td>218.0</td>\n",
       "      <td>94.6</td>\n",
       "      <td>0.434</td>\n",
       "      <td>3.375000</td>\n",
       "      <td>5</td>\n",
       "      <td>59.520833</td>\n",
       "      <td>...</td>\n",
       "      <td>1034.843750</td>\n",
       "      <td>1031.6</td>\n",
       "      <td>1038.1</td>\n",
       "      <td>317.437500</td>\n",
       "      <td>294</td>\n",
       "      <td>339</td>\n",
       "      <td>6.245833</td>\n",
       "      <td>2.0</td>\n",
       "      <td>7.6</td>\n",
       "      <td>1</td>\n",
       "    </tr>\n",
       "    <tr>\n",
       "      <th>2</th>\n",
       "      <td>1.4</td>\n",
       "      <td>143.0</td>\n",
       "      <td>210</td>\n",
       "      <td>1.72</td>\n",
       "      <td>218.0</td>\n",
       "      <td>94.6</td>\n",
       "      <td>0.434</td>\n",
       "      <td>-0.666667</td>\n",
       "      <td>2</td>\n",
       "      <td>59.916667</td>\n",
       "      <td>...</td>\n",
       "      <td>1038.256250</td>\n",
       "      <td>1037.5</td>\n",
       "      <td>1039.3</td>\n",
       "      <td>290.979167</td>\n",
       "      <td>211</td>\n",
       "      <td>345</td>\n",
       "      <td>2.154167</td>\n",
       "      <td>1.1</td>\n",
       "      <td>3.5</td>\n",
       "      <td>1</td>\n",
       "    </tr>\n",
       "    <tr>\n",
       "      <th>3</th>\n",
       "      <td>6.6</td>\n",
       "      <td>143.0</td>\n",
       "      <td>210</td>\n",
       "      <td>1.72</td>\n",
       "      <td>218.0</td>\n",
       "      <td>94.6</td>\n",
       "      <td>0.434</td>\n",
       "      <td>1.083333</td>\n",
       "      <td>3</td>\n",
       "      <td>63.166667</td>\n",
       "      <td>...</td>\n",
       "      <td>1037.075000</td>\n",
       "      <td>1035.6</td>\n",
       "      <td>1038.6</td>\n",
       "      <td>227.041667</td>\n",
       "      <td>2</td>\n",
       "      <td>359</td>\n",
       "      <td>2.637500</td>\n",
       "      <td>0.6</td>\n",
       "      <td>4.6</td>\n",
       "      <td>1</td>\n",
       "    </tr>\n",
       "    <tr>\n",
       "      <th>4</th>\n",
       "      <td>0.3</td>\n",
       "      <td>143.0</td>\n",
       "      <td>210</td>\n",
       "      <td>1.72</td>\n",
       "      <td>218.0</td>\n",
       "      <td>94.6</td>\n",
       "      <td>0.434</td>\n",
       "      <td>2.479167</td>\n",
       "      <td>4</td>\n",
       "      <td>60.812500</td>\n",
       "      <td>...</td>\n",
       "      <td>1032.722917</td>\n",
       "      <td>1031.7</td>\n",
       "      <td>1035.6</td>\n",
       "      <td>259.770833</td>\n",
       "      <td>236</td>\n",
       "      <td>287</td>\n",
       "      <td>5.212500</td>\n",
       "      <td>3.7</td>\n",
       "      <td>6.2</td>\n",
       "      <td>1</td>\n",
       "    </tr>\n",
       "  </tbody>\n",
       "</table>\n",
       "<p>5 rows × 35 columns</p>\n",
       "</div>"
      ],
      "text/plain": [
       "   production  p_per_m2  p_max  panel_area  facade_area  total_panel_area  \\\n",
       "0         0.8     143.0    210        1.72        218.0              94.6   \n",
       "1        16.9     143.0    210        1.72        218.0              94.6   \n",
       "2         1.4     143.0    210        1.72        218.0              94.6   \n",
       "3         6.6     143.0    210        1.72        218.0              94.6   \n",
       "4         0.3     143.0    210        1.72        218.0              94.6   \n",
       "\n",
       "   exploitation_ratio  air_temp_mean  air_temp_max  clearsky_ghi_mean  ...  \\\n",
       "0               0.434       6.255319             7          61.340426  ...   \n",
       "1               0.434       3.375000             5          59.520833  ...   \n",
       "2               0.434      -0.666667             2          59.916667  ...   \n",
       "3               0.434       1.083333             3          63.166667  ...   \n",
       "4               0.434       2.479167             4          60.812500  ...   \n",
       "\n",
       "   surface_pressure_mean  surface_pressure_min  surface_pressure_max  \\\n",
       "0            1031.902128                1030.8                1034.5   \n",
       "1            1034.843750                1031.6                1038.1   \n",
       "2            1038.256250                1037.5                1039.3   \n",
       "3            1037.075000                1035.6                1038.6   \n",
       "4            1032.722917                1031.7                1035.6   \n",
       "\n",
       "   wind_direction_100m_mean  wind_direction_100m_min  wind_direction_100m_max  \\\n",
       "0                256.340426                      227                      312   \n",
       "1                317.437500                      294                      339   \n",
       "2                290.979167                      211                      345   \n",
       "3                227.041667                        2                      359   \n",
       "4                259.770833                      236                      287   \n",
       "\n",
       "   wind_speed_100m_mean  wind_speed_100m_min  wind_speed_100m_max  building_id  \n",
       "0              5.036170                  2.2                  7.4            1  \n",
       "1              6.245833                  2.0                  7.6            1  \n",
       "2              2.154167                  1.1                  3.5            1  \n",
       "3              2.637500                  0.6                  4.6            1  \n",
       "4              5.212500                  3.7                  6.2            1  \n",
       "\n",
       "[5 rows x 35 columns]"
      ]
     },
     "execution_count": 1,
     "metadata": {},
     "output_type": "execute_result"
    }
   ],
   "source": [
    "import pandas as pd\n",
    "df = pd.read_csv(\"./scaled_dataset.csv\")\n",
    "df.head()"
   ]
  },
  {
   "cell_type": "markdown",
   "id": "4884091d-d900-4304-bd85-494bca99d696",
   "metadata": {},
   "source": [
    "## Preoaring the (x,y) pairs"
   ]
  },
  {
   "cell_type": "markdown",
   "id": "c92e315f-50db-4459-9b4e-48b207193796",
   "metadata": {},
   "source": [
    "### Scaling the data"
   ]
  },
  {
   "cell_type": "code",
   "execution_count": 2,
   "id": "5614cf96-d036-4107-8fec-1fb22af9a4fd",
   "metadata": {},
   "outputs": [],
   "source": [
    "from sklearn.preprocessing import MinMaxScaler\n",
    "\n",
    "\n",
    "scaler = MinMaxScaler(feature_range=(0, 1))\n",
    "data_scaled = scaler.fit_transform(df.values)"
   ]
  },
  {
   "cell_type": "markdown",
   "id": "3d1e5543-f09d-41a0-bbab-974a3d0dd1a2",
   "metadata": {},
   "source": [
    "### Creating windows"
   ]
  },
  {
   "cell_type": "code",
   "execution_count": 3,
   "id": "828b7f15-0f3d-400a-a3f2-bd986c2680d8",
   "metadata": {},
   "outputs": [],
   "source": [
    "production_column = 'production'\n",
    "\n",
    "def get_target_column_index(df, target_column):\n",
    "    for i, column in enumerate(df.columns):\n",
    "        if column == target_column:\n",
    "            return i\n",
    "\n",
    "    return -1"
   ]
  },
  {
   "cell_type": "code",
   "execution_count": 4,
   "id": "c822e6f8-d837-453f-b70c-bbf367ac8581",
   "metadata": {},
   "outputs": [],
   "source": [
    "import numpy as np\n",
    "\n",
    "def get_windows(data, window_size=10):\n",
    "    x = []\n",
    "    y = []\n",
    "\n",
    "    for i in range(window_size, len(data)):\n",
    "        x.append(data[i-window_size:i])\n",
    "        y.append(data[i][get_target_column_index(df, production_column)])\n",
    "\n",
    "    return np.array(x), np.array(y)"
   ]
  },
  {
   "cell_type": "code",
   "execution_count": 5,
   "id": "3543cb8c-621f-41cd-9017-f8fc0356ee2f",
   "metadata": {},
   "outputs": [
    {
     "data": {
      "text/plain": [
       "((10847, 24, 35), (10847,))"
      ]
     },
     "execution_count": 5,
     "metadata": {},
     "output_type": "execute_result"
    }
   ],
   "source": [
    "window_size = 2*12  # 2*1h window\n",
    "x, y = get_windows(data_scaled, window_size=window_size)\n",
    "\n",
    "x.shape, y.shape"
   ]
  },
  {
   "cell_type": "markdown",
   "id": "799e0794-8c1e-4b66-8dbd-3e2534af076a",
   "metadata": {},
   "source": [
    "### Splitting the data"
   ]
  },
  {
   "cell_type": "code",
   "execution_count": 6,
   "id": "8ce26028-3567-4237-a04a-b7ed4c0403da",
   "metadata": {},
   "outputs": [
    {
     "data": {
      "text/plain": [
       "((8696, 24, 35), (8696,), (1087, 24, 35), (1087,), (1064, 24, 35), (1064,))"
      ]
     },
     "execution_count": 6,
     "metadata": {},
     "output_type": "execute_result"
    }
   ],
   "source": [
    "train_split_index = int(0.8 * len(df))\n",
    "test_split_index = int(0.9 * len(df))\n",
    "\n",
    "x_train, y_train = x[:train_split_index], y[:train_split_index]\n",
    "x_test, y_test = x[train_split_index:test_split_index], y[train_split_index:test_split_index]\n",
    "x_val, y_val = x[test_split_index:], y[test_split_index:]\n",
    "\n",
    "x_train.shape, y_train.shape, x_test.shape, y_test.shape, x_val.shape, y_val.shape"
   ]
  },
  {
   "cell_type": "markdown",
   "id": "68e0261d-acc0-49c8-bacc-3e95052c3ddd",
   "metadata": {},
   "source": [
    "### Plotting the splits"
   ]
  },
  {
   "cell_type": "code",
   "execution_count": 7,
   "id": "2cc98741-cdf2-42dc-9758-28cbeaa75ccc",
   "metadata": {},
   "outputs": [],
   "source": [
    "import matplotlib.pyplot as plt\n",
    "\n",
    "\n",
    "def plot_time_series(timesteps, values, label, format='-^', start=0, end=None):\n",
    "    plt.plot(timesteps[start:end], values[start:end], format, label=label)\n",
    "    plt.xlabel(\"date\")\n",
    "    plt.ylabel(\"production\")\n",
    "\n",
    "    plt.legend(fontsize=14)\n",
    "    plt.grid(True)"
   ]
  },
  {
   "cell_type": "code",
   "execution_count": 8,
   "id": "1e4d350a-513b-4dec-abee-ca02a0c63714",
   "metadata": {},
   "outputs": [
    {
     "data": {
      "image/png": "[encoded data removed]",
      "text/plain": [
       "<Figure size 2000x1600 with 1 Axes>"
      ]
     },
     "metadata": {},
     "output_type": "display_data"
    }
   ],
   "source": [
    "plt.figure(figsize=(20, 16))\n",
    "\n",
    "timesteps = range(len(x_train))\n",
    "plot_time_series(timesteps=timesteps, values=y_train, label=\"Train data\")\n",
    "\n",
    "timesteps = range(len(x_train), len(x_train) + len(x_test))\n",
    "plot_time_series(timesteps=timesteps, values=y_test, label=\"Test data\")\n",
    "\n",
    "timesteps = range(len(x_train) + len(x_test),\n",
    "                  len(x_train) + len(x_test) + len(x_val))\n",
    "plot_time_series(timesteps=timesteps, values=y_val, label=\"Validation data\")"
   ]
  },
  {
   "cell_type": "markdown",
   "id": "2a30768c-58a9-40a3-83a8-39ec459bfef3",
   "metadata": {},
   "source": [
    "### Preparing the performances metrics"
   ]
  },
  {
   "cell_type": "code",
   "execution_count": 9,
   "id": "c31ce7bc-9beb-48cb-9d47-c8d0ec729933",
   "metadata": {},
   "outputs": [
    {
     "name": "stdout",
     "output_type": "stream",
     "text": [
      "WARNING:tensorflow:From C:\\Users\\peesc\\AppData\\Local\\Programs\\Python\\Python311\\Lib\\site-packages\\keras\\src\\losses.py:2976: The name tf.losses.sparse_softmax_cross_entropy is deprecated. Please use tf.compat.v1.losses.sparse_softmax_cross_entropy instead.\n",
      "\n"
     ]
    }
   ],
   "source": [
    "import tensorflow as tf\n",
    "from sklearn.metrics import r2_score"
   ]
  },
  {
   "cell_type": "code",
   "execution_count": 10,
   "id": "26a1487c-f303-4fe6-a294-f1bc1590bdcb",
   "metadata": {},
   "outputs": [],
   "source": [
    "def evaluate_model(y_true, y_pred):\n",
    "    mse = mean_squared_error(y_true, y_pred)\n",
    "    r2 = r2_score(y_true, y_pred)\n",
    "    mae = mean_absolute_error(y_true, y_pred)\n",
    "    mape = mean_absolute_percentage_error(y_true, y_pred)\n",
    "\n",
    "    return {\n",
    "        'mse': mse,\n",
    "        'r2': r2,\n",
    "        'mae': mae,\n",
    "        'mape': mape,\n",
    "    }"
   ]
  },
  {
   "cell_type": "code",
   "execution_count": 11,
   "id": "25d39e89-2f6a-4796-acd4-a100851eb388",
   "metadata": {},
   "outputs": [],
   "source": [
    "def evaluate_preds(y_true, y_pred):\n",
    "    y_true = tf.cast(y_true, dtype=tf.float32)\n",
    "    y_pred = tf.cast(y_pred, dtype=tf.float32)\n",
    "\n",
    "    mae_metric = tf.keras.metrics.MeanAbsoluteError()\n",
    "    mse_metric = tf.keras.metrics.MeanSquaredError()\n",
    "\n",
    "    mae_metric.update_state(y_true, y_pred)\n",
    "    mse_metric.update_state(y_true, y_pred)\n",
    "\n",
    "    mae = mae_metric.result().numpy()\n",
    "    mse = mse_metric.result().numpy()\n",
    "    r2 = r2_score(y_true.numpy(), y_pred.numpy())  # Assure-toi que y_true et y_pred sont des numpy arrays\n",
    "\n",
    "    return {\n",
    "        \"mae\": mae,\n",
    "        \"mse\": mse,\n",
    "        \"r2\": r2\n",
    "    }"
   ]
  },
  {
   "cell_type": "markdown",
   "id": "b091dd23-b359-4f7d-9086-52aa01750244",
   "metadata": {},
   "source": [
    "## Modeling"
   ]
  },
  {
   "cell_type": "code",
   "execution_count": 12,
   "id": "e41d3a7a-fe12-4fb2-8d53-bfd8af90a63c",
   "metadata": {},
   "outputs": [],
   "source": [
    "import os\n",
    "import tensorflow as tf\n",
    "\n",
    "from keras.layers import Dense, Dropout, LSTM, Flatten, ConvLSTM1D, MaxPool1D, GlobalMaxPool1D, Conv1D, Conv2D\n",
    "from keras.callbacks import EarlyStopping\n",
    "\n",
    "import matplotlib.pyplot as plt"
   ]
  },
  {
   "cell_type": "markdown",
   "id": "78e4f3c7-18db-470f-a25c-b522891ca857",
   "metadata": {},
   "source": [
    "### Plotting the loss"
   ]
  },
  {
   "cell_type": "code",
   "execution_count": 13,
   "id": "50aac448-442c-4bb5-8733-8a616947c50e",
   "metadata": {},
   "outputs": [],
   "source": [
    "def plot_loss(history):\n",
    "    plt.figure(figsize=(20, 8))\n",
    "\n",
    "    loss = history.history['loss']\n",
    "    val_loss = history.history['val_loss']\n",
    "    epochs = range(len(loss))\n",
    "\n",
    "    plt.plot(epochs, loss, 'b', label='Training loss')\n",
    "    plt.plot(epochs, val_loss, 'r', label='Validation loss')\n",
    "    plt.title('Training and validation loss')\n",
    "    plt.legend()\n",
    "\n",
    "    plt.show()"
   ]
  },
  {
   "cell_type": "markdown",
   "id": "88b8618c-48b8-49a0-8941-9b2508db007b",
   "metadata": {},
   "source": [
    "### Creating callbacks"
   ]
  },
  {
   "cell_type": "code",
   "execution_count": 14,
   "id": "965adcad-34ba-4eef-9b7a-77613811b525",
   "metadata": {},
   "outputs": [],
   "source": [
    "stop_early = EarlyStopping(monitor='val_loss', patience=5)\n",
    "\n",
    "\n",
    "def create_model_checkpoint(model_name, save_path=\"model_experiments\"):\n",
    "    return tf.keras.callbacks.ModelCheckpoint(filepath=os.path.join(save_path, model_name),\n",
    "                                              verbose=0,\n",
    "                                              save_best_only=True)"
   ]
  },
  {
   "cell_type": "markdown",
   "id": "6ce8ff1f-d21a-445c-ad0f-dff20fec0615",
   "metadata": {},
   "source": [
    "### Utils function"
   ]
  },
  {
   "cell_type": "code",
   "execution_count": 15,
   "id": "c93c80a3-ef8f-45a8-8603-bf7abccbe7cf",
   "metadata": {},
   "outputs": [],
   "source": [
    "def make_preds(model, input_data):\n",
    "    forecast = model.predict(input_data)\n",
    "    return tf.squeeze(forecast)"
   ]
  },
  {
   "cell_type": "markdown",
   "id": "2142904e-dfaf-400b-b058-05e5c549d9dc",
   "metadata": {},
   "source": [
    "## ConvLSTM"
   ]
  },
  {
   "cell_type": "markdown",
   "id": "8d34f641-b55f-42d9-b006-a326bf50c11b",
   "metadata": {},
   "source": [
    "#### Preparing the model"
   ]
  },
  {
   "cell_type": "code",
   "execution_count": 16,
   "id": "f9d05070-5f3a-44da-a96c-8ca6bdf4eb4a",
   "metadata": {},
   "outputs": [
    {
     "name": "stdout",
     "output_type": "stream",
     "text": [
      "(8696, 24, 35) -> (8696, 24, 1, 35)\n"
     ]
    }
   ],
   "source": [
    "x_train_conv_lstm = np.expand_dims(x_train, axis=2)\n",
    "x_val_conv_lstm = np.expand_dims(x_val, axis=2)\n",
    "x_test_conv_lstm = np.expand_dims(x_test, axis=2)\n",
    "\n",
    "print(f\"{x_train.shape} -> {x_train_conv_lstm.shape}\")"
   ]
  },
  {
   "cell_type": "code",
   "execution_count": 17,
   "id": "5d8d69b6-2f03-436a-90e5-4ff906e178de",
   "metadata": {},
   "outputs": [
    {
     "name": "stdout",
     "output_type": "stream",
     "text": [
      "WARNING:tensorflow:From C:\\Users\\peesc\\AppData\\Local\\Programs\\Python\\Python311\\Lib\\site-packages\\keras\\src\\backend.py:873: The name tf.get_default_graph is deprecated. Please use tf.compat.v1.get_default_graph instead.\n",
      "\n",
      "Model: \"model_conv_lstm.keras\"\n",
      "_________________________________________________________________\n",
      " Layer (type)                Output Shape              Param #   \n",
      "=================================================================\n",
      " conv_lstm1d (ConvLSTM1D)    (None, 24, 1, 64)         25600     \n",
      "                                                                 \n",
      " conv_lstm1d_1 (ConvLSTM1D)  (None, 1, 64)             33024     \n",
      "                                                                 \n",
      " flatten (Flatten)           (None, 64)                0         \n",
      "                                                                 \n",
      " dense (Dense)               (None, 64)                4160      \n",
      "                                                                 \n",
      " dense_1 (Dense)             (None, 1)                 65        \n",
      "                                                                 \n",
      "=================================================================\n",
      "Total params: 62849 (245.50 KB)\n",
      "Trainable params: 62849 (245.50 KB)\n",
      "Non-trainable params: 0 (0.00 Byte)\n",
      "_________________________________________________________________\n"
     ]
    }
   ],
   "source": [
    "tf.random.set_seed(42)\n",
    "\n",
    "input_shape = (x_train_conv_lstm.shape[1:])\n",
    "conv_lstm_model = tf.keras.Sequential([\n",
    "    ConvLSTM1D(filters=64, kernel_size=(1,), activation='tanh',\n",
    "               return_sequences=True, input_shape=input_shape),\n",
    "    ConvLSTM1D(filters=64, kernel_size=(1,),\n",
    "               activation='tanh', return_sequences=False),\n",
    "    Flatten(),\n",
    "    Dense(units=64, activation='relu'),\n",
    "    Dense(1, activation=\"linear\")\n",
    "], name=\"model_conv_lstm.keras\")\n",
    "\n",
    "conv_lstm_model.compile(loss=\"mae\",\n",
    "                        optimizer=tf.keras.optimizers.Adam(learning_rate=0.001))\n",
    "\n",
    "conv_lstm_model.summary()"
   ]
  },
  {
   "cell_type": "markdown",
   "id": "2430c2a0-77f9-4450-86a7-ae6678e29b3e",
   "metadata": {},
   "source": [
    "#### Training the model convlstm"
   ]
  },
  {
   "cell_type": "code",
   "execution_count": 18,
   "id": "5ec8e3ee-1f05-4196-a1d8-740dbd826aa7",
   "metadata": {},
   "outputs": [
    {
     "name": "stderr",
     "output_type": "stream",
     "text": [
      "[codecarbon INFO @ 09:42:34] [setup] RAM Tracking...\n",
      "[codecarbon INFO @ 09:42:34] [setup] CPU Tracking...\n",
      "[codecarbon WARNING @ 09:42:34] No CPU tracking mode found. Falling back on CPU constant mode. \n",
      " Windows OS detected: Please install Intel Power Gadget to measure CPU\n",
      "\n",
      "[codecarbon WARNING @ 09:42:36] We saw that you have a 12th Gen Intel(R) Core(TM) i7-12700H but we don't know it. Please contact us.\n",
      "[codecarbon INFO @ 09:42:36] CPU Model on constant consumption mode: 12th Gen Intel(R) Core(TM) i7-12700H\n",
      "[codecarbon INFO @ 09:42:36] [setup] GPU Tracking...\n",
      "[codecarbon INFO @ 09:42:37] Tracking Nvidia GPU via pynvml\n",
      "[codecarbon INFO @ 09:42:37] >>> Tracker's metadata:\n",
      "[codecarbon INFO @ 09:42:37]   Platform system: Windows-10-10.0.22631-SP0\n",
      "[codecarbon INFO @ 09:42:37]   Python version: 3.11.3\n",
      "[codecarbon INFO @ 09:42:37]   CodeCarbon version: 2.8.3\n",
      "[codecarbon INFO @ 09:42:37]   Available RAM : 31.711 GB\n",
      "[codecarbon INFO @ 09:42:37]   CPU count: 20\n",
      "[codecarbon INFO @ 09:42:37]   CPU model: 12th Gen Intel(R) Core(TM) i7-12700H\n",
      "[codecarbon INFO @ 09:42:37]   GPU count: 1\n",
      "[codecarbon INFO @ 09:42:38]   GPU model: 1 x NVIDIA GeForce RTX 3070 Ti Laptop GPU\n",
      "[codecarbon INFO @ 09:42:38] Saving emissions data to file C:\\Users\\peesc\\A4\\Projet_Recherche\\Final\\emissions\\emissions_conv_lstm.csv\n"
     ]
    }
   ],
   "source": [
    "import os\n",
    "import time\n",
    "import logging\n",
    "from codecarbon import EmissionsTracker\n",
    "\n",
    "\n",
    "os.makedirs('emissions', exist_ok=True)\n",
    "\n",
    "tracker_conv_lstm = EmissionsTracker(\n",
    "    project_name=\"PEWH\",\n",
    "    co2_signal_api_token=\"9RkoBO6iipmoq\",\n",
    "    log_level=logging.INFO,\n",
    "    output_file=\"emissions_conv_lstm.csv\",\n",
    "    output_dir='./emissions/',\n",
    "    save_to_file=True,\n",
    "    measure_power_secs=10\n",
    ")"
   ]
  },
  {
   "cell_type": "code",
   "execution_count": 19,
   "id": "c5fb7a4d-6e6b-4b1e-b76d-c69b9b7b96dd",
   "metadata": {},
   "outputs": [],
   "source": [
    "def start_training_conv_lstm():\n",
    "    start_time = time.time()\n",
    "    conv_lstm_history = conv_lstm_model.fit(x=x_train_conv_lstm,\n",
    "                                            y=y_train,\n",
    "                                            epochs=300,\n",
    "                                            verbose=1,\n",
    "                                            batch_size=512,\n",
    "                                            validation_data=(\n",
    "                                                x_val_conv_lstm, y_val),\n",
    "                                            callbacks=[create_model_checkpoint(model_name=conv_lstm_model.name)])\n",
    "    training_duration = time.time() - start_time\n",
    "\n",
    "    return conv_lstm_history, training_duration"
   ]
  },
  {
   "cell_type": "code",
   "execution_count": 20,
   "id": "9550aec7-e755-4860-afca-c2e31a77e331",
   "metadata": {},
   "outputs": [
    {
     "name": "stdout",
     "output_type": "stream",
     "text": [
      "Epoch 1/300\n",
      "WARNING:tensorflow:From C:\\Users\\peesc\\AppData\\Local\\Programs\\Python\\Python311\\Lib\\site-packages\\keras\\src\\utils\\tf_utils.py:492: The name tf.ragged.RaggedTensorValue is deprecated. Please use tf.compat.v1.ragged.RaggedTensorValue instead.\n",
      "\n"
     ]
    },
    {
     "name": "stderr",
     "output_type": "stream",
     "text": [
      "[codecarbon INFO @ 09:42:48] Energy consumed for RAM : 0.000033 kWh. RAM Power : 11.891499996185303 W\n",
      "[codecarbon INFO @ 09:42:48] Energy consumed for all CPUs : 0.000118 kWh. Total CPU Power : 42.5 W\n",
      "[codecarbon INFO @ 09:42:49] Energy consumed for all GPUs : 0.000003 kWh. Total GPU Power : 1.0903489793395313 W\n",
      "[codecarbon INFO @ 09:42:49] 0.000155 kWh of electricity used since the beginning.\n"
     ]
    },
    {
     "name": "stdout",
     "output_type": "stream",
     "text": [
      "17/17 [==============================] - 17s 293ms/step - loss: 0.0704 - val_loss: 0.0361\n",
      "Epoch 2/300\n",
      "17/17 [==============================] - 3s 161ms/step - loss: 0.0439 - val_loss: 0.0293\n",
      "Epoch 3/300\n",
      " 2/17 [==>...........................] - ETA: 2s - loss: 0.0422"
     ]
    },
    {
     "name": "stderr",
     "output_type": "stream",
     "text": [
      "[codecarbon INFO @ 09:42:58] Energy consumed for RAM : 0.000061 kWh. RAM Power : 11.891499996185303 W\n"
     ]
    },
    {
     "name": "stdout",
     "output_type": "stream",
     "text": [
      " 3/17 [====>.........................] - ETA: 2s - loss: 0.0435"
     ]
    },
    {
     "name": "stderr",
     "output_type": "stream",
     "text": [
      "[codecarbon INFO @ 09:42:58] Energy consumed for all CPUs : 0.000220 kWh. Total CPU Power : 42.5 W\n"
     ]
    },
    {
     "name": "stdout",
     "output_type": "stream",
     "text": [
      "13/17 [=====================>........] - ETA: 0s - loss: 0.0411"
     ]
    },
    {
     "name": "stderr",
     "output_type": "stream",
     "text": [
      "[codecarbon INFO @ 09:42:59] Energy consumed for all GPUs : 0.000012 kWh. Total GPU Power : 3.885486549013659 W\n",
      "[codecarbon INFO @ 09:42:59] 0.000294 kWh of electricity used since the beginning.\n"
     ]
    },
    {
     "name": "stdout",
     "output_type": "stream",
     "text": [
      "17/17 [==============================] - 3s 155ms/step - loss: 0.0407 - val_loss: 0.0286\n",
      "Epoch 4/300\n",
      "17/17 [==============================] - 3s 161ms/step - loss: 0.0400 - val_loss: 0.0283\n",
      "Epoch 5/300\n",
      "17/17 [==============================] - 3s 167ms/step - loss: 0.0389 - val_loss: 0.0277\n",
      "Epoch 6/300\n",
      "14/17 [=======================>......] - ETA: 0s - loss: 0.0384"
     ]
    },
    {
     "name": "stderr",
     "output_type": "stream",
     "text": [
      "[codecarbon INFO @ 09:43:08] Energy consumed for RAM : 0.000090 kWh. RAM Power : 11.891499996185303 W\n",
      "[codecarbon INFO @ 09:43:08] Energy consumed for all CPUs : 0.000322 kWh. Total CPU Power : 42.5 W\n"
     ]
    },
    {
     "name": "stdout",
     "output_type": "stream",
     "text": [
      "17/17 [==============================] - 3s 171ms/step - loss: 0.0382 - val_loss: 0.0275\n",
      "Epoch 7/300\n",
      " 5/17 [=======>......................] - ETA: 1s - loss: 0.0362"
     ]
    },
    {
     "name": "stderr",
     "output_type": "stream",
     "text": [
      "[codecarbon INFO @ 09:43:09] Energy consumed for all GPUs : 0.000022 kWh. Total GPU Power : 4.1271864918099235 W\n",
      "[codecarbon INFO @ 09:43:09] 0.000434 kWh of electricity used since the beginning.\n"
     ]
    },
    {
     "name": "stdout",
     "output_type": "stream",
     "text": [
      "17/17 [==============================] - 3s 170ms/step - loss: 0.0377 - val_loss: 0.0272\n",
      "Epoch 8/300\n",
      "17/17 [==============================] - 3s 177ms/step - loss: 0.0376 - val_loss: 0.0268\n",
      "Epoch 9/300\n",
      "17/17 [==============================] - 3s 156ms/step - loss: 0.0379 - val_loss: 0.0262\n",
      "Epoch 10/300\n",
      " 5/17 [=======>......................] - ETA: 1s - loss: 0.0379"
     ]
    },
    {
     "name": "stderr",
     "output_type": "stream",
     "text": [
      "[codecarbon INFO @ 09:43:18] Energy consumed for RAM : 0.000118 kWh. RAM Power : 11.891499996185303 W\n",
      "[codecarbon INFO @ 09:43:18] Energy consumed for all CPUs : 0.000424 kWh. Total CPU Power : 42.5 W\n"
     ]
    },
    {
     "name": "stdout",
     "output_type": "stream",
     "text": [
      "16/17 [===========================>..] - ETA: 0s - loss: 0.0372"
     ]
    },
    {
     "name": "stderr",
     "output_type": "stream",
     "text": [
      "[codecarbon INFO @ 09:43:19] Energy consumed for all GPUs : 0.000032 kWh. Total GPU Power : 4.174287986732702 W\n",
      "[codecarbon INFO @ 09:43:19] 0.000575 kWh of electricity used since the beginning.\n"
     ]
    },
    {
     "name": "stdout",
     "output_type": "stream",
     "text": [
      "17/17 [==============================] - 3s 153ms/step - loss: 0.0374 - val_loss: 0.0261\n",
      "Epoch 11/300\n",
      "17/17 [==============================] - 3s 155ms/step - loss: 0.0366 - val_loss: 0.0259\n",
      "Epoch 12/300\n",
      "17/17 [==============================] - 3s 149ms/step - loss: 0.0361 - val_loss: 0.0251\n",
      "Epoch 13/300\n",
      "17/17 [==============================] - 3s 152ms/step - loss: 0.0361 - val_loss: 0.0262\n",
      "Epoch 14/300\n",
      " 3/17 [====>.........................] - ETA: 1s - loss: 0.0377"
     ]
    },
    {
     "name": "stderr",
     "output_type": "stream",
     "text": [
      "[codecarbon INFO @ 09:43:28] Energy consumed for RAM : 0.000147 kWh. RAM Power : 11.891499996185303 W\n",
      "[codecarbon INFO @ 09:43:28] Energy consumed for all CPUs : 0.000526 kWh. Total CPU Power : 42.5 W\n"
     ]
    },
    {
     "name": "stdout",
     "output_type": "stream",
     "text": [
      "13/17 [=====================>........] - ETA: 0s - loss: 0.0361"
     ]
    },
    {
     "name": "stderr",
     "output_type": "stream",
     "text": [
      "[codecarbon INFO @ 09:43:29] Energy consumed for all GPUs : 0.000042 kWh. Total GPU Power : 4.057288977075149 W\n",
      "[codecarbon INFO @ 09:43:29] 0.000715 kWh of electricity used since the beginning.\n"
     ]
    },
    {
     "name": "stdout",
     "output_type": "stream",
     "text": [
      "17/17 [==============================] - 3s 150ms/step - loss: 0.0361 - val_loss: 0.0254\n",
      "Epoch 15/300\n",
      "17/17 [==============================] - 3s 165ms/step - loss: 0.0354 - val_loss: 0.0266\n",
      "Epoch 16/300\n",
      "17/17 [==============================] - 3s 171ms/step - loss: 0.0350 - val_loss: 0.0282\n",
      "Epoch 17/300\n",
      "14/17 [=======================>......] - ETA: 0s - loss: 0.0356"
     ]
    },
    {
     "name": "stderr",
     "output_type": "stream",
     "text": [
      "[codecarbon INFO @ 09:43:38] Energy consumed for RAM : 0.000175 kWh. RAM Power : 11.891499996185303 W\n",
      "[codecarbon INFO @ 09:43:38] Energy consumed for all CPUs : 0.000627 kWh. Total CPU Power : 42.5 W\n"
     ]
    },
    {
     "name": "stdout",
     "output_type": "stream",
     "text": [
      "17/17 [==============================] - 3s 164ms/step - loss: 0.0361 - val_loss: 0.0253\n",
      "Epoch 18/300\n",
      " 6/17 [=========>....................] - ETA: 1s - loss: 0.0365"
     ]
    },
    {
     "name": "stderr",
     "output_type": "stream",
     "text": [
      "[codecarbon INFO @ 09:43:39] Energy consumed for all GPUs : 0.000052 kWh. Total GPU Power : 4.191507563345091 W\n",
      "[codecarbon INFO @ 09:43:39] 0.000855 kWh of electricity used since the beginning.\n"
     ]
    },
    {
     "name": "stdout",
     "output_type": "stream",
     "text": [
      "17/17 [==============================] - 3s 160ms/step - loss: 0.0355 - val_loss: 0.0253\n",
      "Epoch 19/300\n",
      "17/17 [==============================] - 3s 176ms/step - loss: 0.0342 - val_loss: 0.0242\n",
      "Epoch 20/300\n",
      "17/17 [==============================] - 3s 165ms/step - loss: 0.0342 - val_loss: 0.0268\n",
      "Epoch 21/300\n",
      " 6/17 [=========>....................] - ETA: 1s - loss: 0.0336"
     ]
    },
    {
     "name": "stderr",
     "output_type": "stream",
     "text": [
      "[codecarbon INFO @ 09:43:48] Energy consumed for RAM : 0.000204 kWh. RAM Power : 11.891499996185303 W\n",
      "[codecarbon INFO @ 09:43:48] Energy consumed for all CPUs : 0.000729 kWh. Total CPU Power : 42.5 W\n"
     ]
    },
    {
     "name": "stdout",
     "output_type": "stream",
     "text": [
      "16/17 [===========================>..] - ETA: 0s - loss: 0.0344"
     ]
    },
    {
     "name": "stderr",
     "output_type": "stream",
     "text": [
      "[codecarbon INFO @ 09:43:49] Energy consumed for all GPUs : 0.000062 kWh. Total GPU Power : 4.166493516718453 W\n",
      "[codecarbon INFO @ 09:43:49] 0.000995 kWh of electricity used since the beginning.\n"
     ]
    },
    {
     "name": "stdout",
     "output_type": "stream",
     "text": [
      "17/17 [==============================] - 3s 153ms/step - loss: 0.0343 - val_loss: 0.0277\n",
      "Epoch 22/300\n",
      "17/17 [==============================] - 3s 168ms/step - loss: 0.0335 - val_loss: 0.0253\n",
      "Epoch 23/300\n",
      "17/17 [==============================] - 3s 161ms/step - loss: 0.0332 - val_loss: 0.0246\n",
      "Epoch 24/300\n",
      "17/17 [==============================] - ETA: 0s - loss: 0.0338"
     ]
    },
    {
     "name": "stderr",
     "output_type": "stream",
     "text": [
      "[codecarbon INFO @ 09:43:58] Energy consumed for RAM : 0.000232 kWh. RAM Power : 11.891499996185303 W\n",
      "[codecarbon INFO @ 09:43:58] Energy consumed for all CPUs : 0.000831 kWh. Total CPU Power : 42.5 W\n"
     ]
    },
    {
     "name": "stdout",
     "output_type": "stream",
     "text": [
      "17/17 [==============================] - 3s 167ms/step - loss: 0.0338 - val_loss: 0.0250\n",
      "Epoch 25/300\n",
      " 9/17 [==============>...............] - ETA: 1s - loss: 0.0316"
     ]
    },
    {
     "name": "stderr",
     "output_type": "stream",
     "text": [
      "[codecarbon INFO @ 09:43:59] Energy consumed for all GPUs : 0.000072 kWh. Total GPU Power : 4.121321035779327 W\n",
      "[codecarbon INFO @ 09:43:59] 0.001135 kWh of electricity used since the beginning.\n"
     ]
    },
    {
     "name": "stdout",
     "output_type": "stream",
     "text": [
      "11/17 [==================>...........] - ETA: 0s - loss: 0.0321"
     ]
    },
    {
     "name": "stderr",
     "output_type": "stream",
     "text": [
      "[codecarbon INFO @ 09:44:00] 0.000306 g.CO2eq/s mean an estimation of 9.659483562493081 kg.CO2eq/year\n"
     ]
    },
    {
     "name": "stdout",
     "output_type": "stream",
     "text": [
      "17/17 [==============================] - 3s 155ms/step - loss: 0.0326 - val_loss: 0.0225\n",
      "Epoch 26/300\n",
      "17/17 [==============================] - 3s 164ms/step - loss: 0.0328 - val_loss: 0.0284\n",
      "Epoch 27/300\n",
      "17/17 [==============================] - 3s 171ms/step - loss: 0.0323 - val_loss: 0.0289\n",
      "Epoch 28/300\n",
      " 9/17 [==============>...............] - ETA: 1s - loss: 0.0349"
     ]
    },
    {
     "name": "stderr",
     "output_type": "stream",
     "text": [
      "[codecarbon INFO @ 09:44:08] Energy consumed for RAM : 0.000260 kWh. RAM Power : 11.891499996185303 W\n",
      "[codecarbon INFO @ 09:44:08] Energy consumed for all CPUs : 0.000933 kWh. Total CPU Power : 42.5 W\n"
     ]
    },
    {
     "name": "stdout",
     "output_type": "stream",
     "text": [
      "17/17 [==============================] - 3s 161ms/step - loss: 0.0350 - val_loss: 0.0232\n",
      "Epoch 29/300\n"
     ]
    },
    {
     "name": "stderr",
     "output_type": "stream",
     "text": [
      "[codecarbon INFO @ 09:44:09] Energy consumed for all GPUs : 0.000082 kWh. Total GPU Power : 4.214805672004896 W\n"
     ]
    },
    {
     "name": "stdout",
     "output_type": "stream",
     "text": [
      " 1/17 [>.............................] - ETA: 2s - loss: 0.0327"
     ]
    },
    {
     "name": "stderr",
     "output_type": "stream",
     "text": [
      "[codecarbon INFO @ 09:44:09] 0.001275 kWh of electricity used since the beginning.\n"
     ]
    },
    {
     "name": "stdout",
     "output_type": "stream",
     "text": [
      "17/17 [==============================] - 3s 159ms/step - loss: 0.0352 - val_loss: 0.0263\n",
      "Epoch 30/300\n",
      "17/17 [==============================] - 3s 171ms/step - loss: 0.0331 - val_loss: 0.0238\n",
      "Epoch 31/300\n",
      "17/17 [==============================] - 3s 172ms/step - loss: 0.0324 - val_loss: 0.0288\n",
      "Epoch 32/300\n",
      " 1/17 [>.............................] - ETA: 2s - loss: 0.0339"
     ]
    },
    {
     "name": "stderr",
     "output_type": "stream",
     "text": [
      "[codecarbon INFO @ 09:44:18] Energy consumed for RAM : 0.000289 kWh. RAM Power : 11.891499996185303 W\n",
      "[codecarbon INFO @ 09:44:18] Energy consumed for all CPUs : 0.001034 kWh. Total CPU Power : 42.5 W\n"
     ]
    },
    {
     "name": "stdout",
     "output_type": "stream",
     "text": [
      "12/17 [====================>.........] - ETA: 0s - loss: 0.0321"
     ]
    },
    {
     "name": "stderr",
     "output_type": "stream",
     "text": [
      "[codecarbon INFO @ 09:44:19] Energy consumed for all GPUs : 0.000092 kWh. Total GPU Power : 4.261226102469886 W\n",
      "[codecarbon INFO @ 09:44:19] 0.001415 kWh of electricity used since the beginning.\n"
     ]
    },
    {
     "name": "stdout",
     "output_type": "stream",
     "text": [
      "17/17 [==============================] - 3s 153ms/step - loss: 0.0321 - val_loss: 0.0217\n",
      "Epoch 33/300\n",
      "17/17 [==============================] - 3s 166ms/step - loss: 0.0325 - val_loss: 0.0223\n",
      "Epoch 34/300\n",
      "17/17 [==============================] - 3s 169ms/step - loss: 0.0319 - val_loss: 0.0237\n",
      "Epoch 35/300\n",
      "12/17 [====================>.........] - ETA: 0s - loss: 0.0322"
     ]
    },
    {
     "name": "stderr",
     "output_type": "stream",
     "text": [
      "[codecarbon INFO @ 09:44:28] Energy consumed for RAM : 0.000317 kWh. RAM Power : 11.891499996185303 W\n",
      "[codecarbon INFO @ 09:44:28] Energy consumed for all CPUs : 0.001136 kWh. Total CPU Power : 42.5 W\n"
     ]
    },
    {
     "name": "stdout",
     "output_type": "stream",
     "text": [
      "17/17 [==============================] - 3s 161ms/step - loss: 0.0315 - val_loss: 0.0237\n",
      "Epoch 36/300\n",
      " 4/17 [======>.......................] - ETA: 1s - loss: 0.0318"
     ]
    },
    {
     "name": "stderr",
     "output_type": "stream",
     "text": [
      "[codecarbon INFO @ 09:44:29] Energy consumed for all GPUs : 0.000102 kWh. Total GPU Power : 4.270256321963809 W\n",
      "[codecarbon INFO @ 09:44:29] 0.001556 kWh of electricity used since the beginning.\n"
     ]
    },
    {
     "name": "stdout",
     "output_type": "stream",
     "text": [
      "17/17 [==============================] - 3s 160ms/step - loss: 0.0316 - val_loss: 0.0267\n",
      "Epoch 37/300\n",
      "17/17 [==============================] - 3s 173ms/step - loss: 0.0313 - val_loss: 0.0222\n",
      "Epoch 38/300\n",
      "17/17 [==============================] - 3s 167ms/step - loss: 0.0316 - val_loss: 0.0247\n",
      "Epoch 39/300\n",
      " 4/17 [======>.......................] - ETA: 2s - loss: 0.0328"
     ]
    },
    {
     "name": "stderr",
     "output_type": "stream",
     "text": [
      "[codecarbon INFO @ 09:44:38] Energy consumed for RAM : 0.000346 kWh. RAM Power : 11.891499996185303 W\n",
      "[codecarbon INFO @ 09:44:38] Energy consumed for all CPUs : 0.001238 kWh. Total CPU Power : 42.5 W\n"
     ]
    },
    {
     "name": "stdout",
     "output_type": "stream",
     "text": [
      "15/17 [=========================>....] - ETA: 0s - loss: 0.0325"
     ]
    },
    {
     "name": "stderr",
     "output_type": "stream",
     "text": [
      "[codecarbon INFO @ 09:44:39] Energy consumed for all GPUs : 0.000113 kWh. Total GPU Power : 4.301111411379977 W\n",
      "[codecarbon INFO @ 09:44:39] 0.001696 kWh of electricity used since the beginning.\n"
     ]
    },
    {
     "name": "stdout",
     "output_type": "stream",
     "text": [
      "17/17 [==============================] - 3s 148ms/step - loss: 0.0321 - val_loss: 0.0233\n",
      "Epoch 40/300\n",
      "17/17 [==============================] - 3s 171ms/step - loss: 0.0317 - val_loss: 0.0215\n",
      "Epoch 41/300\n",
      "17/17 [==============================] - 3s 172ms/step - loss: 0.0319 - val_loss: 0.0240\n",
      "Epoch 42/300\n",
      "15/17 [=========================>....] - ETA: 0s - loss: 0.0320"
     ]
    },
    {
     "name": "stderr",
     "output_type": "stream",
     "text": [
      "[codecarbon INFO @ 09:44:48] Energy consumed for RAM : 0.000374 kWh. RAM Power : 11.891499996185303 W\n",
      "[codecarbon INFO @ 09:44:48] Energy consumed for all CPUs : 0.001340 kWh. Total CPU Power : 42.5 W\n"
     ]
    },
    {
     "name": "stdout",
     "output_type": "stream",
     "text": [
      "17/17 [==============================] - 3s 162ms/step - loss: 0.0319 - val_loss: 0.0275\n",
      "Epoch 43/300\n",
      " 6/17 [=========>....................] - ETA: 1s - loss: 0.0341"
     ]
    },
    {
     "name": "stderr",
     "output_type": "stream",
     "text": [
      "[codecarbon INFO @ 09:44:49] Energy consumed for all GPUs : 0.000123 kWh. Total GPU Power : 4.389844301319794 W\n",
      "[codecarbon INFO @ 09:44:49] 0.001837 kWh of electricity used since the beginning.\n"
     ]
    },
    {
     "name": "stdout",
     "output_type": "stream",
     "text": [
      "17/17 [==============================] - 3s 157ms/step - loss: 0.0325 - val_loss: 0.0234\n",
      "Epoch 44/300\n",
      "17/17 [==============================] - 3s 169ms/step - loss: 0.0308 - val_loss: 0.0214\n",
      "Epoch 45/300\n",
      "17/17 [==============================] - 3s 161ms/step - loss: 0.0309 - val_loss: 0.0222\n",
      "Epoch 46/300\n",
      " 8/17 [=============>................] - ETA: 1s - loss: 0.0311"
     ]
    },
    {
     "name": "stderr",
     "output_type": "stream",
     "text": [
      "[codecarbon INFO @ 09:44:58] Energy consumed for RAM : 0.000402 kWh. RAM Power : 11.891499996185303 W\n",
      "[codecarbon INFO @ 09:44:58] Energy consumed for all CPUs : 0.001441 kWh. Total CPU Power : 42.5 W\n"
     ]
    },
    {
     "name": "stdout",
     "output_type": "stream",
     "text": [
      "17/17 [==============================] - ETA: 0s - loss: 0.0304"
     ]
    },
    {
     "name": "stderr",
     "output_type": "stream",
     "text": [
      "[codecarbon INFO @ 09:44:59] Energy consumed for all GPUs : 0.000134 kWh. Total GPU Power : 4.588880344998562 W\n",
      "[codecarbon INFO @ 09:44:59] 0.001978 kWh of electricity used since the beginning.\n"
     ]
    },
    {
     "name": "stdout",
     "output_type": "stream",
     "text": [
      "17/17 [==============================] - 3s 158ms/step - loss: 0.0304 - val_loss: 0.0225\n",
      "Epoch 47/300\n",
      "17/17 [==============================] - 3s 164ms/step - loss: 0.0307 - val_loss: 0.0239\n",
      "Epoch 48/300\n",
      "17/17 [==============================] - 3s 171ms/step - loss: 0.0309 - val_loss: 0.0205\n",
      "Epoch 49/300\n",
      "17/17 [==============================] - 3s 166ms/step - loss: 0.0308 - val_loss: 0.0218\n",
      "Epoch 50/300\n"
     ]
    },
    {
     "name": "stderr",
     "output_type": "stream",
     "text": [
      "[codecarbon INFO @ 09:45:08] Energy consumed for RAM : 0.000431 kWh. RAM Power : 11.891499996185303 W\n",
      "[codecarbon INFO @ 09:45:08] Energy consumed for all CPUs : 0.001543 kWh. Total CPU Power : 42.5 W\n"
     ]
    },
    {
     "name": "stdout",
     "output_type": "stream",
     "text": [
      "10/17 [================>.............] - ETA: 0s - loss: 0.0302"
     ]
    },
    {
     "name": "stderr",
     "output_type": "stream",
     "text": [
      "[codecarbon INFO @ 09:45:09] Energy consumed for all GPUs : 0.000144 kWh. Total GPU Power : 4.192809551882935 W\n",
      "[codecarbon INFO @ 09:45:09] 0.002118 kWh of electricity used since the beginning.\n"
     ]
    },
    {
     "name": "stdout",
     "output_type": "stream",
     "text": [
      "17/17 [==============================] - 3s 152ms/step - loss: 0.0304 - val_loss: 0.0228\n",
      "Epoch 51/300\n",
      "17/17 [==============================] - 3s 166ms/step - loss: 0.0305 - val_loss: 0.0252\n",
      "Epoch 52/300\n",
      "17/17 [==============================] - 3s 163ms/step - loss: 0.0301 - val_loss: 0.0223\n",
      "Epoch 53/300\n",
      "11/17 [==================>...........] - ETA: 0s - loss: 0.0304"
     ]
    },
    {
     "name": "stderr",
     "output_type": "stream",
     "text": [
      "[codecarbon INFO @ 09:45:18] Energy consumed for RAM : 0.000459 kWh. RAM Power : 11.891499996185303 W\n"
     ]
    },
    {
     "name": "stdout",
     "output_type": "stream",
     "text": [
      "12/17 [====================>.........] - ETA: 0s - loss: 0.0303"
     ]
    },
    {
     "name": "stderr",
     "output_type": "stream",
     "text": [
      "[codecarbon INFO @ 09:45:18] Energy consumed for all CPUs : 0.001645 kWh. Total CPU Power : 42.5 W\n"
     ]
    },
    {
     "name": "stdout",
     "output_type": "stream",
     "text": [
      "17/17 [==============================] - 3s 166ms/step - loss: 0.0299 - val_loss: 0.0204\n",
      "Epoch 54/300\n",
      " 2/17 [==>...........................] - ETA: 2s - loss: 0.0293"
     ]
    },
    {
     "name": "stderr",
     "output_type": "stream",
     "text": [
      "[codecarbon INFO @ 09:45:19] Energy consumed for all GPUs : 0.000155 kWh. Total GPU Power : 4.5381705152067555 W\n",
      "[codecarbon INFO @ 09:45:19] 0.002259 kWh of electricity used since the beginning.\n"
     ]
    },
    {
     "name": "stdout",
     "output_type": "stream",
     "text": [
      " 3/17 [====>.........................] - ETA: 1s - loss: 0.0295"
     ]
    },
    {
     "name": "stderr",
     "output_type": "stream",
     "text": [
      "[codecarbon INFO @ 09:45:19] 0.000309 g.CO2eq/s mean an estimation of 9.740879346894582 kg.CO2eq/year\n"
     ]
    },
    {
     "name": "stdout",
     "output_type": "stream",
     "text": [
      "17/17 [==============================] - 3s 160ms/step - loss: 0.0301 - val_loss: 0.0210\n",
      "Epoch 55/300\n",
      "17/17 [==============================] - 3s 164ms/step - loss: 0.0303 - val_loss: 0.0228\n",
      "Epoch 56/300\n",
      "17/17 [==============================] - 3s 167ms/step - loss: 0.0304 - val_loss: 0.0215\n",
      "Epoch 57/300\n",
      " 4/17 [======>.......................] - ETA: 2s - loss: 0.0286"
     ]
    },
    {
     "name": "stderr",
     "output_type": "stream",
     "text": [
      "[codecarbon INFO @ 09:45:28] Energy consumed for RAM : 0.000487 kWh. RAM Power : 11.891499996185303 W\n",
      "[codecarbon INFO @ 09:45:28] Energy consumed for all CPUs : 0.001747 kWh. Total CPU Power : 42.5 W\n"
     ]
    },
    {
     "name": "stdout",
     "output_type": "stream",
     "text": [
      "14/17 [=======================>......] - ETA: 0s - loss: 0.0294"
     ]
    },
    {
     "name": "stderr",
     "output_type": "stream",
     "text": [
      "[codecarbon INFO @ 09:45:29] Energy consumed for all GPUs : 0.000165 kWh. Total GPU Power : 4.1826830518603755 W\n",
      "[codecarbon INFO @ 09:45:29] 0.002399 kWh of electricity used since the beginning.\n"
     ]
    },
    {
     "name": "stdout",
     "output_type": "stream",
     "text": [
      "17/17 [==============================] - 3s 154ms/step - loss: 0.0298 - val_loss: 0.0259\n",
      "Epoch 58/300\n",
      "17/17 [==============================] - 3s 165ms/step - loss: 0.0304 - val_loss: 0.0230\n",
      "Epoch 59/300\n",
      "17/17 [==============================] - 3s 165ms/step - loss: 0.0294 - val_loss: 0.0224\n",
      "Epoch 60/300\n",
      "15/17 [=========================>....] - ETA: 0s - loss: 0.0296"
     ]
    },
    {
     "name": "stderr",
     "output_type": "stream",
     "text": [
      "[codecarbon INFO @ 09:45:38] Energy consumed for RAM : 0.000516 kWh. RAM Power : 11.891499996185303 W\n",
      "[codecarbon INFO @ 09:45:38] Energy consumed for all CPUs : 0.001848 kWh. Total CPU Power : 42.5 W\n"
     ]
    },
    {
     "name": "stdout",
     "output_type": "stream",
     "text": [
      "17/17 [==============================] - 3s 171ms/step - loss: 0.0296 - val_loss: 0.0198\n",
      "Epoch 61/300\n",
      " 6/17 [=========>....................] - ETA: 1s - loss: 0.0308"
     ]
    },
    {
     "name": "stderr",
     "output_type": "stream",
     "text": [
      "[codecarbon INFO @ 09:45:39] Energy consumed for all GPUs : 0.000175 kWh. Total GPU Power : 4.181671872934168 W\n",
      "[codecarbon INFO @ 09:45:39] 0.002539 kWh of electricity used since the beginning.\n"
     ]
    },
    {
     "name": "stdout",
     "output_type": "stream",
     "text": [
      "17/17 [==============================] - 3s 152ms/step - loss: 0.0306 - val_loss: 0.0207\n",
      "Epoch 62/300\n",
      "17/17 [==============================] - 3s 170ms/step - loss: 0.0294 - val_loss: 0.0193\n",
      "Epoch 63/300\n",
      "17/17 [==============================] - 3s 167ms/step - loss: 0.0298 - val_loss: 0.0194\n",
      "Epoch 64/300\n",
      " 8/17 [=============>................] - ETA: 1s - loss: 0.0284"
     ]
    },
    {
     "name": "stderr",
     "output_type": "stream",
     "text": [
      "[codecarbon INFO @ 09:45:48] Energy consumed for RAM : 0.000544 kWh. RAM Power : 11.891499996185303 W\n",
      "[codecarbon INFO @ 09:45:48] Energy consumed for all CPUs : 0.001950 kWh. Total CPU Power : 42.5 W\n"
     ]
    },
    {
     "name": "stdout",
     "output_type": "stream",
     "text": [
      "17/17 [==============================] - 2s 146ms/step - loss: 0.0293 - val_loss: 0.0239\n",
      "Epoch 65/300\n"
     ]
    },
    {
     "name": "stderr",
     "output_type": "stream",
     "text": [
      "[codecarbon INFO @ 09:45:49] Energy consumed for all GPUs : 0.000185 kWh. Total GPU Power : 4.2948248084832334 W\n",
      "[codecarbon INFO @ 09:45:49] 0.002680 kWh of electricity used since the beginning.\n"
     ]
    },
    {
     "name": "stdout",
     "output_type": "stream",
     "text": [
      "17/17 [==============================] - 3s 167ms/step - loss: 0.0297 - val_loss: 0.0192\n",
      "Epoch 66/300\n",
      "17/17 [==============================] - 3s 171ms/step - loss: 0.0300 - val_loss: 0.0202\n",
      "Epoch 67/300\n",
      "17/17 [==============================] - 3s 167ms/step - loss: 0.0291 - val_loss: 0.0192\n",
      "Epoch 68/300\n"
     ]
    },
    {
     "name": "stderr",
     "output_type": "stream",
     "text": [
      "[codecarbon INFO @ 09:45:58] Energy consumed for RAM : 0.000573 kWh. RAM Power : 11.891499996185303 W\n",
      "[codecarbon INFO @ 09:45:58] Energy consumed for all CPUs : 0.002052 kWh. Total CPU Power : 42.5 W\n"
     ]
    },
    {
     "name": "stdout",
     "output_type": "stream",
     "text": [
      "10/17 [================>.............] - ETA: 0s - loss: 0.0284"
     ]
    },
    {
     "name": "stderr",
     "output_type": "stream",
     "text": [
      "[codecarbon INFO @ 09:45:59] Energy consumed for all GPUs : 0.000196 kWh. Total GPU Power : 4.2689533536575714 W\n",
      "[codecarbon INFO @ 09:45:59] 0.002820 kWh of electricity used since the beginning.\n"
     ]
    },
    {
     "name": "stdout",
     "output_type": "stream",
     "text": [
      "17/17 [==============================] - 3s 149ms/step - loss: 0.0289 - val_loss: 0.0198\n",
      "Epoch 69/300\n",
      "17/17 [==============================] - 3s 173ms/step - loss: 0.0292 - val_loss: 0.0207\n",
      "Epoch 70/300\n",
      "17/17 [==============================] - 3s 159ms/step - loss: 0.0292 - val_loss: 0.0211\n",
      "Epoch 71/300\n",
      "13/17 [=====================>........] - ETA: 0s - loss: 0.0290"
     ]
    },
    {
     "name": "stderr",
     "output_type": "stream",
     "text": [
      "[codecarbon INFO @ 09:46:08] Energy consumed for RAM : 0.000601 kWh. RAM Power : 11.891499996185303 W\n",
      "[codecarbon INFO @ 09:46:08] Energy consumed for all CPUs : 0.002154 kWh. Total CPU Power : 42.5 W\n"
     ]
    },
    {
     "name": "stdout",
     "output_type": "stream",
     "text": [
      "17/17 [==============================] - 3s 156ms/step - loss: 0.0285 - val_loss: 0.0209\n",
      "Epoch 72/300\n",
      " 4/17 [======>.......................] - ETA: 1s - loss: 0.0285"
     ]
    },
    {
     "name": "stderr",
     "output_type": "stream",
     "text": [
      "[codecarbon INFO @ 09:46:09] Energy consumed for all GPUs : 0.000206 kWh. Total GPU Power : 4.265168602095198 W\n",
      "[codecarbon INFO @ 09:46:09] 0.002961 kWh of electricity used since the beginning.\n"
     ]
    },
    {
     "name": "stdout",
     "output_type": "stream",
     "text": [
      "17/17 [==============================] - 3s 165ms/step - loss: 0.0293 - val_loss: 0.0187\n",
      "Epoch 73/300\n",
      "17/17 [==============================] - 3s 166ms/step - loss: 0.0293 - val_loss: 0.0208\n",
      "Epoch 74/300\n",
      "17/17 [==============================] - 3s 167ms/step - loss: 0.0285 - val_loss: 0.0198\n",
      "Epoch 75/300\n",
      " 5/17 [=======>......................] - ETA: 1s - loss: 0.0285"
     ]
    },
    {
     "name": "stderr",
     "output_type": "stream",
     "text": [
      "[codecarbon INFO @ 09:46:18] Energy consumed for RAM : 0.000630 kWh. RAM Power : 11.891499996185303 W\n",
      "[codecarbon INFO @ 09:46:18] Energy consumed for all CPUs : 0.002256 kWh. Total CPU Power : 42.5 W\n"
     ]
    },
    {
     "name": "stdout",
     "output_type": "stream",
     "text": [
      "15/17 [=========================>....] - ETA: 0s - loss: 0.0292"
     ]
    },
    {
     "name": "stderr",
     "output_type": "stream",
     "text": [
      "[codecarbon INFO @ 09:46:19] Energy consumed for all GPUs : 0.000216 kWh. Total GPU Power : 4.256010759182407 W\n",
      "[codecarbon INFO @ 09:46:19] 0.003101 kWh of electricity used since the beginning.\n"
     ]
    },
    {
     "name": "stdout",
     "output_type": "stream",
     "text": [
      "17/17 [==============================] - 3s 153ms/step - loss: 0.0290 - val_loss: 0.0191\n",
      "Epoch 76/300\n",
      "17/17 [==============================] - 3s 172ms/step - loss: 0.0287 - val_loss: 0.0187\n",
      "Epoch 77/300\n",
      "17/17 [==============================] - 3s 166ms/step - loss: 0.0290 - val_loss: 0.0196\n",
      "Epoch 78/300\n",
      "16/17 [===========================>..] - ETA: 0s - loss: 0.0287"
     ]
    },
    {
     "name": "stderr",
     "output_type": "stream",
     "text": [
      "[codecarbon INFO @ 09:46:28] Energy consumed for RAM : 0.000658 kWh. RAM Power : 11.891499996185303 W\n",
      "[codecarbon INFO @ 09:46:28] Energy consumed for all CPUs : 0.002357 kWh. Total CPU Power : 42.5 W\n"
     ]
    },
    {
     "name": "stdout",
     "output_type": "stream",
     "text": [
      "17/17 [==============================] - 3s 166ms/step - loss: 0.0287 - val_loss: 0.0210\n",
      "Epoch 79/300\n",
      " 7/17 [===========>..................] - ETA: 1s - loss: 0.0286"
     ]
    },
    {
     "name": "stderr",
     "output_type": "stream",
     "text": [
      "[codecarbon INFO @ 09:46:29] Energy consumed for all GPUs : 0.000226 kWh. Total GPU Power : 4.262804079652936 W\n",
      "[codecarbon INFO @ 09:46:29] 0.003242 kWh of electricity used since the beginning.\n"
     ]
    },
    {
     "name": "stdout",
     "output_type": "stream",
     "text": [
      "17/17 [==============================] - 3s 154ms/step - loss: 0.0294 - val_loss: 0.0195\n",
      "Epoch 80/300\n",
      "17/17 [==============================] - 3s 166ms/step - loss: 0.0293 - val_loss: 0.0214\n",
      "Epoch 81/300\n",
      "17/17 [==============================] - 3s 167ms/step - loss: 0.0288 - val_loss: 0.0204\n",
      "Epoch 82/300\n",
      " 9/17 [==============>...............] - ETA: 1s - loss: 0.0278"
     ]
    },
    {
     "name": "stderr",
     "output_type": "stream",
     "text": [
      "[codecarbon INFO @ 09:46:38] Energy consumed for RAM : 0.000686 kWh. RAM Power : 11.891499996185303 W\n",
      "[codecarbon INFO @ 09:46:38] Energy consumed for all CPUs : 0.002459 kWh. Total CPU Power : 42.5 W\n"
     ]
    },
    {
     "name": "stdout",
     "output_type": "stream",
     "text": [
      "17/17 [==============================] - 3s 155ms/step - loss: 0.0284 - val_loss: 0.0189\n",
      "Epoch 83/300\n",
      " 1/17 [>.............................] - ETA: 2s - loss: 0.0281"
     ]
    },
    {
     "name": "stderr",
     "output_type": "stream",
     "text": [
      "[codecarbon INFO @ 09:46:39] Energy consumed for all GPUs : 0.000236 kWh. Total GPU Power : 4.247984343752804 W\n",
      "[codecarbon INFO @ 09:46:39] 0.003382 kWh of electricity used since the beginning.\n"
     ]
    },
    {
     "name": "stdout",
     "output_type": "stream",
     "text": [
      " 2/17 [==>...........................] - ETA: 1s - loss: 0.0309"
     ]
    },
    {
     "name": "stderr",
     "output_type": "stream",
     "text": [
      "[codecarbon INFO @ 09:46:40] 0.000308 g.CO2eq/s mean an estimation of 9.723667899412806 kg.CO2eq/year\n"
     ]
    },
    {
     "name": "stdout",
     "output_type": "stream",
     "text": [
      "17/17 [==============================] - 3s 157ms/step - loss: 0.0284 - val_loss: 0.0188\n",
      "Epoch 84/300\n",
      "17/17 [==============================] - 3s 165ms/step - loss: 0.0276 - val_loss: 0.0194\n",
      "Epoch 85/300\n",
      "17/17 [==============================] - 3s 171ms/step - loss: 0.0281 - val_loss: 0.0185\n",
      "Epoch 86/300\n",
      " 1/17 [>.............................] - ETA: 3s - loss: 0.0295"
     ]
    },
    {
     "name": "stderr",
     "output_type": "stream",
     "text": [
      "[codecarbon INFO @ 09:46:48] Energy consumed for RAM : 0.000715 kWh. RAM Power : 11.891499996185303 W\n",
      "[codecarbon INFO @ 09:46:48] Energy consumed for all CPUs : 0.002561 kWh. Total CPU Power : 42.5 W\n"
     ]
    },
    {
     "name": "stdout",
     "output_type": "stream",
     "text": [
      "11/17 [==================>...........] - ETA: 0s - loss: 0.0282"
     ]
    },
    {
     "name": "stderr",
     "output_type": "stream",
     "text": [
      "[codecarbon INFO @ 09:46:49] Energy consumed for all GPUs : 0.000247 kWh. Total GPU Power : 4.292716949440964 W\n",
      "[codecarbon INFO @ 09:46:49] 0.003522 kWh of electricity used since the beginning.\n"
     ]
    },
    {
     "name": "stdout",
     "output_type": "stream",
     "text": [
      "17/17 [==============================] - 3s 154ms/step - loss: 0.0280 - val_loss: 0.0186\n",
      "Epoch 87/300\n",
      "17/17 [==============================] - 3s 160ms/step - loss: 0.0273 - val_loss: 0.0191\n",
      "Epoch 88/300\n",
      "17/17 [==============================] - 3s 150ms/step - loss: 0.0273 - val_loss: 0.0187\n",
      "Epoch 89/300\n",
      "17/17 [==============================] - ETA: 0s - loss: 0.0281"
     ]
    },
    {
     "name": "stderr",
     "output_type": "stream",
     "text": [
      "[codecarbon INFO @ 09:46:58] Energy consumed for RAM : 0.000743 kWh. RAM Power : 11.891499996185303 W\n",
      "[codecarbon INFO @ 09:46:58] Energy consumed for all CPUs : 0.002663 kWh. Total CPU Power : 42.5 W\n"
     ]
    },
    {
     "name": "stdout",
     "output_type": "stream",
     "text": [
      "17/17 [==============================] - 2s 142ms/step - loss: 0.0281 - val_loss: 0.0188\n",
      "Epoch 90/300\n",
      " 9/17 [==============>...............] - ETA: 1s - loss: 0.0282"
     ]
    },
    {
     "name": "stderr",
     "output_type": "stream",
     "text": [
      "[codecarbon INFO @ 09:46:59] Energy consumed for all GPUs : 0.000258 kWh. Total GPU Power : 4.799444986352307 W\n",
      "[codecarbon INFO @ 09:46:59] 0.003664 kWh of electricity used since the beginning.\n"
     ]
    },
    {
     "name": "stdout",
     "output_type": "stream",
     "text": [
      "17/17 [==============================] - 2s 142ms/step - loss: 0.0281 - val_loss: 0.0185\n",
      "Epoch 91/300\n",
      "17/17 [==============================] - 3s 164ms/step - loss: 0.0277 - val_loss: 0.0195\n",
      "Epoch 92/300\n",
      "17/17 [==============================] - 2s 147ms/step - loss: 0.0274 - val_loss: 0.0198\n",
      "Epoch 93/300\n",
      "17/17 [==============================] - ETA: 0s - loss: 0.0272"
     ]
    },
    {
     "name": "stderr",
     "output_type": "stream",
     "text": [
      "[codecarbon INFO @ 09:47:08] Energy consumed for RAM : 0.000772 kWh. RAM Power : 11.891499996185303 W\n",
      "[codecarbon INFO @ 09:47:08] Energy consumed for all CPUs : 0.002764 kWh. Total CPU Power : 42.5 W\n"
     ]
    },
    {
     "name": "stdout",
     "output_type": "stream",
     "text": [
      "17/17 [==============================] - 2s 142ms/step - loss: 0.0272 - val_loss: 0.0187\n",
      "Epoch 94/300\n",
      " 9/17 [==============>...............] - ETA: 1s - loss: 0.0272"
     ]
    },
    {
     "name": "stderr",
     "output_type": "stream",
     "text": [
      "[codecarbon INFO @ 09:47:09] Energy consumed for all GPUs : 0.000268 kWh. Total GPU Power : 4.2687897173318925 W\n",
      "[codecarbon INFO @ 09:47:09] 0.003804 kWh of electricity used since the beginning.\n"
     ]
    },
    {
     "name": "stdout",
     "output_type": "stream",
     "text": [
      "17/17 [==============================] - 2s 142ms/step - loss: 0.0270 - val_loss: 0.0191\n",
      "Epoch 95/300\n",
      "17/17 [==============================] - 3s 149ms/step - loss: 0.0274 - val_loss: 0.0185\n",
      "Epoch 96/300\n",
      "17/17 [==============================] - 3s 162ms/step - loss: 0.0278 - val_loss: 0.0200\n",
      "Epoch 97/300\n",
      "14/17 [=======================>......] - ETA: 0s - loss: 0.0274"
     ]
    },
    {
     "name": "stderr",
     "output_type": "stream",
     "text": [
      "[codecarbon INFO @ 09:47:18] Energy consumed for RAM : 0.000800 kWh. RAM Power : 11.891499996185303 W\n",
      "[codecarbon INFO @ 09:47:18] Energy consumed for all CPUs : 0.002866 kWh. Total CPU Power : 42.5 W\n"
     ]
    },
    {
     "name": "stdout",
     "output_type": "stream",
     "text": [
      "17/17 [==============================] - 3s 159ms/step - loss: 0.0274 - val_loss: 0.0188\n",
      "Epoch 98/300\n",
      " 6/17 [=========>....................] - ETA: 1s - loss: 0.0274"
     ]
    },
    {
     "name": "stderr",
     "output_type": "stream",
     "text": [
      "[codecarbon INFO @ 09:47:19] Energy consumed for all GPUs : 0.000279 kWh. Total GPU Power : 4.282728167849633 W\n",
      "[codecarbon INFO @ 09:47:19] 0.003945 kWh of electricity used since the beginning.\n"
     ]
    },
    {
     "name": "stdout",
     "output_type": "stream",
     "text": [
      "17/17 [==============================] - 3s 153ms/step - loss: 0.0269 - val_loss: 0.0190\n",
      "Epoch 99/300\n",
      "17/17 [==============================] - 3s 165ms/step - loss: 0.0268 - val_loss: 0.0180\n",
      "Epoch 100/300\n",
      "17/17 [==============================] - 3s 161ms/step - loss: 0.0264 - val_loss: 0.0199\n",
      "Epoch 101/300\n",
      " 8/17 [=============>................] - ETA: 1s - loss: 0.0262"
     ]
    },
    {
     "name": "stderr",
     "output_type": "stream",
     "text": [
      "[codecarbon INFO @ 09:47:28] Energy consumed for RAM : 0.000828 kWh. RAM Power : 11.891499996185303 W\n",
      "[codecarbon INFO @ 09:47:28] Energy consumed for all CPUs : 0.002968 kWh. Total CPU Power : 42.5 W\n"
     ]
    },
    {
     "name": "stdout",
     "output_type": "stream",
     "text": [
      "17/17 [==============================] - 3s 155ms/step - loss: 0.0268 - val_loss: 0.0192\n",
      "Epoch 102/300\n"
     ]
    },
    {
     "name": "stderr",
     "output_type": "stream",
     "text": [
      "[codecarbon INFO @ 09:47:29] Energy consumed for all GPUs : 0.000289 kWh. Total GPU Power : 4.313990818590404 W\n",
      "[codecarbon INFO @ 09:47:29] 0.004085 kWh of electricity used since the beginning.\n"
     ]
    },
    {
     "name": "stdout",
     "output_type": "stream",
     "text": [
      "17/17 [==============================] - 3s 161ms/step - loss: 0.0266 - val_loss: 0.0176\n",
      "Epoch 103/300\n",
      "17/17 [==============================] - 3s 167ms/step - loss: 0.0266 - val_loss: 0.0184\n",
      "Epoch 104/300\n",
      "17/17 [==============================] - 3s 167ms/step - loss: 0.0277 - val_loss: 0.0201\n",
      "Epoch 105/300\n",
      " 1/17 [>.............................] - ETA: 3s - loss: 0.0244"
     ]
    },
    {
     "name": "stderr",
     "output_type": "stream",
     "text": [
      "[codecarbon INFO @ 09:47:38] Energy consumed for RAM : 0.000857 kWh. RAM Power : 11.891499996185303 W\n",
      "[codecarbon INFO @ 09:47:38] Energy consumed for all CPUs : 0.003069 kWh. Total CPU Power : 42.5 W\n"
     ]
    },
    {
     "name": "stdout",
     "output_type": "stream",
     "text": [
      "12/17 [====================>.........] - ETA: 0s - loss: 0.0270"
     ]
    },
    {
     "name": "stderr",
     "output_type": "stream",
     "text": [
      "[codecarbon INFO @ 09:47:39] Energy consumed for all GPUs : 0.000300 kWh. Total GPU Power : 4.458772079595608 W\n",
      "[codecarbon INFO @ 09:47:39] 0.004226 kWh of electricity used since the beginning.\n"
     ]
    },
    {
     "name": "stdout",
     "output_type": "stream",
     "text": [
      "17/17 [==============================] - 3s 144ms/step - loss: 0.0270 - val_loss: 0.0188\n",
      "Epoch 106/300\n",
      "17/17 [==============================] - 3s 172ms/step - loss: 0.0269 - val_loss: 0.0174\n",
      "Epoch 107/300\n",
      "17/17 [==============================] - 3s 168ms/step - loss: 0.0263 - val_loss: 0.0176\n",
      "Epoch 108/300\n",
      "12/17 [====================>.........] - ETA: 0s - loss: 0.0267"
     ]
    },
    {
     "name": "stderr",
     "output_type": "stream",
     "text": [
      "[codecarbon INFO @ 09:47:48] Energy consumed for RAM : 0.000885 kWh. RAM Power : 11.891499996185303 W\n",
      "[codecarbon INFO @ 09:47:48] Energy consumed for all CPUs : 0.003171 kWh. Total CPU Power : 42.5 W\n"
     ]
    },
    {
     "name": "stdout",
     "output_type": "stream",
     "text": [
      "17/17 [==============================] - 3s 161ms/step - loss: 0.0263 - val_loss: 0.0199\n",
      "Epoch 109/300\n",
      " 4/17 [======>.......................] - ETA: 1s - loss: 0.0259"
     ]
    },
    {
     "name": "stderr",
     "output_type": "stream",
     "text": [
      "[codecarbon INFO @ 09:47:50] Energy consumed for all GPUs : 0.000311 kWh. Total GPU Power : 4.667605839095994 W\n",
      "[codecarbon INFO @ 09:47:50] 0.004367 kWh of electricity used since the beginning.\n"
     ]
    },
    {
     "name": "stdout",
     "output_type": "stream",
     "text": [
      "17/17 [==============================] - 3s 162ms/step - loss: 0.0262 - val_loss: 0.0172\n",
      "Epoch 110/300\n",
      "17/17 [==============================] - 3s 165ms/step - loss: 0.0257 - val_loss: 0.0193\n",
      "Epoch 111/300\n",
      "17/17 [==============================] - 3s 165ms/step - loss: 0.0262 - val_loss: 0.0181\n",
      "Epoch 112/300\n",
      " 5/17 [=======>......................] - ETA: 1s - loss: 0.0231"
     ]
    },
    {
     "name": "stderr",
     "output_type": "stream",
     "text": [
      "[codecarbon INFO @ 09:47:58] Energy consumed for RAM : 0.000913 kWh. RAM Power : 11.891499996185303 W\n"
     ]
    },
    {
     "name": "stdout",
     "output_type": "stream",
     "text": [
      " 6/17 [=========>....................] - ETA: 1s - loss: 0.0239"
     ]
    },
    {
     "name": "stderr",
     "output_type": "stream",
     "text": [
      "[codecarbon INFO @ 09:47:58] Energy consumed for all CPUs : 0.003273 kWh. Total CPU Power : 42.5 W\n"
     ]
    },
    {
     "name": "stdout",
     "output_type": "stream",
     "text": [
      "16/17 [===========================>..] - ETA: 0s - loss: 0.0258"
     ]
    },
    {
     "name": "stderr",
     "output_type": "stream",
     "text": [
      "[codecarbon INFO @ 09:48:00] Energy consumed for all GPUs : 0.000321 kWh. Total GPU Power : 4.299280973285061 W\n",
      "[codecarbon INFO @ 09:48:00] 0.004507 kWh of electricity used since the beginning.\n"
     ]
    },
    {
     "name": "stdout",
     "output_type": "stream",
     "text": [
      "17/17 [==============================] - 3s 156ms/step - loss: 0.0259 - val_loss: 0.0168\n",
      "Epoch 113/300\n"
     ]
    },
    {
     "name": "stderr",
     "output_type": "stream",
     "text": [
      "[codecarbon INFO @ 09:48:00] 0.000309 g.CO2eq/s mean an estimation of 9.749532464587356 kg.CO2eq/year\n"
     ]
    },
    {
     "name": "stdout",
     "output_type": "stream",
     "text": [
      "17/17 [==============================] - 3s 168ms/step - loss: 0.0258 - val_loss: 0.0201\n",
      "Epoch 114/300\n",
      "17/17 [==============================] - 3s 168ms/step - loss: 0.0267 - val_loss: 0.0196\n",
      "Epoch 115/300\n",
      "17/17 [==============================] - ETA: 0s - loss: 0.0258"
     ]
    },
    {
     "name": "stderr",
     "output_type": "stream",
     "text": [
      "[codecarbon INFO @ 09:48:08] Energy consumed for RAM : 0.000942 kWh. RAM Power : 11.891499996185303 W\n",
      "[codecarbon INFO @ 09:48:08] Energy consumed for all CPUs : 0.003375 kWh. Total CPU Power : 42.5 W\n"
     ]
    },
    {
     "name": "stdout",
     "output_type": "stream",
     "text": [
      "17/17 [==============================] - 3s 164ms/step - loss: 0.0258 - val_loss: 0.0184\n",
      "Epoch 116/300\n",
      " 8/17 [=============>................] - ETA: 1s - loss: 0.0257"
     ]
    },
    {
     "name": "stderr",
     "output_type": "stream",
     "text": [
      "[codecarbon INFO @ 09:48:10] Energy consumed for all GPUs : 0.000331 kWh. Total GPU Power : 4.301604566129523 W\n"
     ]
    },
    {
     "name": "stdout",
     "output_type": "stream",
     "text": [
      " 9/17 [==============>...............] - ETA: 1s - loss: 0.0255"
     ]
    },
    {
     "name": "stderr",
     "output_type": "stream",
     "text": [
      "[codecarbon INFO @ 09:48:10] 0.004648 kWh of electricity used since the beginning.\n"
     ]
    },
    {
     "name": "stdout",
     "output_type": "stream",
     "text": [
      "17/17 [==============================] - 3s 151ms/step - loss: 0.0258 - val_loss: 0.0176\n",
      "Epoch 117/300\n",
      "17/17 [==============================] - 3s 167ms/step - loss: 0.0257 - val_loss: 0.0178\n",
      "Epoch 118/300\n",
      "17/17 [==============================] - 3s 164ms/step - loss: 0.0249 - val_loss: 0.0181\n",
      "Epoch 119/300\n",
      "10/17 [================>.............] - ETA: 1s - loss: 0.0253"
     ]
    },
    {
     "name": "stderr",
     "output_type": "stream",
     "text": [
      "[codecarbon INFO @ 09:48:18] Energy consumed for RAM : 0.000970 kWh. RAM Power : 11.891499996185303 W\n",
      "[codecarbon INFO @ 09:48:18] Energy consumed for all CPUs : 0.003476 kWh. Total CPU Power : 42.5 W\n"
     ]
    },
    {
     "name": "stdout",
     "output_type": "stream",
     "text": [
      "17/17 [==============================] - 3s 157ms/step - loss: 0.0253 - val_loss: 0.0175\n",
      "Epoch 120/300\n",
      " 1/17 [>.............................] - ETA: 2s - loss: 0.0234"
     ]
    },
    {
     "name": "stderr",
     "output_type": "stream",
     "text": [
      "[codecarbon INFO @ 09:48:20] Energy consumed for all GPUs : 0.000342 kWh. Total GPU Power : 4.4666949567613194 W\n",
      "[codecarbon INFO @ 09:48:20] 0.004789 kWh of electricity used since the beginning.\n"
     ]
    },
    {
     "name": "stdout",
     "output_type": "stream",
     "text": [
      "17/17 [==============================] - 3s 165ms/step - loss: 0.0252 - val_loss: 0.0167\n",
      "Epoch 121/300\n",
      "17/17 [==============================] - 3s 165ms/step - loss: 0.0251 - val_loss: 0.0182\n",
      "Epoch 122/300\n",
      "17/17 [==============================] - 3s 164ms/step - loss: 0.0249 - val_loss: 0.0178\n",
      "Epoch 123/300\n",
      " 2/17 [==>...........................] - ETA: 2s - loss: 0.0262"
     ]
    },
    {
     "name": "stderr",
     "output_type": "stream",
     "text": [
      "[codecarbon INFO @ 09:48:28] Energy consumed for RAM : 0.000999 kWh. RAM Power : 11.891499996185303 W\n",
      "[codecarbon INFO @ 09:48:28] Energy consumed for all CPUs : 0.003578 kWh. Total CPU Power : 42.5 W\n"
     ]
    },
    {
     "name": "stdout",
     "output_type": "stream",
     "text": [
      "12/17 [====================>.........] - ETA: 0s - loss: 0.0245"
     ]
    },
    {
     "name": "stderr",
     "output_type": "stream",
     "text": [
      "[codecarbon INFO @ 09:48:30] Energy consumed for all GPUs : 0.000353 kWh. Total GPU Power : 4.675517040904287 W\n",
      "[codecarbon INFO @ 09:48:30] 0.004930 kWh of electricity used since the beginning.\n"
     ]
    },
    {
     "name": "stdout",
     "output_type": "stream",
     "text": [
      "17/17 [==============================] - 3s 156ms/step - loss: 0.0250 - val_loss: 0.0167\n",
      "Epoch 124/300\n",
      "17/17 [==============================] - 3s 167ms/step - loss: 0.0254 - val_loss: 0.0172\n",
      "Epoch 125/300\n",
      "17/17 [==============================] - 3s 168ms/step - loss: 0.0247 - val_loss: 0.0169\n",
      "Epoch 126/300\n",
      "12/17 [====================>.........] - ETA: 0s - loss: 0.0247"
     ]
    },
    {
     "name": "stderr",
     "output_type": "stream",
     "text": [
      "[codecarbon INFO @ 09:48:38] Energy consumed for RAM : 0.001027 kWh. RAM Power : 11.891499996185303 W\n"
     ]
    },
    {
     "name": "stdout",
     "output_type": "stream",
     "text": [
      "13/17 [=====================>........] - ETA: 0s - loss: 0.0246"
     ]
    },
    {
     "name": "stderr",
     "output_type": "stream",
     "text": [
      "[codecarbon INFO @ 09:48:38] Energy consumed for all CPUs : 0.003680 kWh. Total CPU Power : 42.5 W\n"
     ]
    },
    {
     "name": "stdout",
     "output_type": "stream",
     "text": [
      "17/17 [==============================] - 3s 166ms/step - loss: 0.0250 - val_loss: 0.0183\n",
      "Epoch 127/300\n",
      " 4/17 [======>.......................] - ETA: 1s - loss: 0.0240"
     ]
    },
    {
     "name": "stderr",
     "output_type": "stream",
     "text": [
      "[codecarbon INFO @ 09:48:40] Energy consumed for all GPUs : 0.000364 kWh. Total GPU Power : 4.272238179724246 W\n",
      "[codecarbon INFO @ 09:48:40] 0.005070 kWh of electricity used since the beginning.\n"
     ]
    },
    {
     "name": "stdout",
     "output_type": "stream",
     "text": [
      "17/17 [==============================] - 3s 156ms/step - loss: 0.0254 - val_loss: 0.0170\n",
      "Epoch 128/300\n",
      "17/17 [==============================] - 3s 169ms/step - loss: 0.0246 - val_loss: 0.0174\n",
      "Epoch 129/300\n",
      "17/17 [==============================] - 3s 170ms/step - loss: 0.0243 - val_loss: 0.0171\n",
      "Epoch 130/300\n",
      " 4/17 [======>.......................] - ETA: 2s - loss: 0.0236"
     ]
    },
    {
     "name": "stderr",
     "output_type": "stream",
     "text": [
      "[codecarbon INFO @ 09:48:48] Energy consumed for RAM : 0.001055 kWh. RAM Power : 11.891499996185303 W\n"
     ]
    },
    {
     "name": "stdout",
     "output_type": "stream",
     "text": [
      " 5/17 [=======>......................] - ETA: 1s - loss: 0.0238"
     ]
    },
    {
     "name": "stderr",
     "output_type": "stream",
     "text": [
      "[codecarbon INFO @ 09:48:48] Energy consumed for all CPUs : 0.003781 kWh. Total CPU Power : 42.5 W\n"
     ]
    },
    {
     "name": "stdout",
     "output_type": "stream",
     "text": [
      "15/17 [=========================>....] - ETA: 0s - loss: 0.0242"
     ]
    },
    {
     "name": "stderr",
     "output_type": "stream",
     "text": [
      "[codecarbon INFO @ 09:48:50] Energy consumed for all GPUs : 0.000374 kWh. Total GPU Power : 4.263557131103316 W\n",
      "[codecarbon INFO @ 09:48:50] 0.005211 kWh of electricity used since the beginning.\n"
     ]
    },
    {
     "name": "stdout",
     "output_type": "stream",
     "text": [
      "17/17 [==============================] - 3s 157ms/step - loss: 0.0242 - val_loss: 0.0173\n",
      "Epoch 131/300\n",
      "17/17 [==============================] - 3s 168ms/step - loss: 0.0243 - val_loss: 0.0168\n",
      "Epoch 132/300\n",
      "17/17 [==============================] - 3s 172ms/step - loss: 0.0245 - val_loss: 0.0167\n",
      "Epoch 133/300\n",
      "14/17 [=======================>......] - ETA: 0s - loss: 0.0245"
     ]
    },
    {
     "name": "stderr",
     "output_type": "stream",
     "text": [
      "[codecarbon INFO @ 09:48:58] Energy consumed for RAM : 0.001084 kWh. RAM Power : 11.891499996185303 W\n"
     ]
    },
    {
     "name": "stdout",
     "output_type": "stream",
     "text": [
      "15/17 [=========================>....] - ETA: 0s - loss: 0.0243"
     ]
    },
    {
     "name": "stderr",
     "output_type": "stream",
     "text": [
      "[codecarbon INFO @ 09:48:58] Energy consumed for all CPUs : 0.003883 kWh. Total CPU Power : 42.5 W\n"
     ]
    },
    {
     "name": "stdout",
     "output_type": "stream",
     "text": [
      "17/17 [==============================] - 3s 171ms/step - loss: 0.0242 - val_loss: 0.0163\n",
      "Epoch 134/300\n",
      " 6/17 [=========>....................] - ETA: 1s - loss: 0.0238"
     ]
    },
    {
     "name": "stderr",
     "output_type": "stream",
     "text": [
      "[codecarbon INFO @ 09:49:00] Energy consumed for all GPUs : 0.000384 kWh. Total GPU Power : 4.29273242639596 W\n",
      "[codecarbon INFO @ 09:49:00] 0.005351 kWh of electricity used since the beginning.\n"
     ]
    },
    {
     "name": "stdout",
     "output_type": "stream",
     "text": [
      "17/17 [==============================] - 3s 155ms/step - loss: 0.0246 - val_loss: 0.0167\n",
      "Epoch 135/300\n",
      "17/17 [==============================] - 3s 168ms/step - loss: 0.0243 - val_loss: 0.0170\n",
      "Epoch 136/300\n",
      "17/17 [==============================] - 3s 169ms/step - loss: 0.0237 - val_loss: 0.0188\n",
      "Epoch 137/300\n",
      " 6/17 [=========>....................] - ETA: 1s - loss: 0.0240"
     ]
    },
    {
     "name": "stderr",
     "output_type": "stream",
     "text": [
      "[codecarbon INFO @ 09:49:08] Energy consumed for RAM : 0.001112 kWh. RAM Power : 11.891499996185303 W\n",
      "[codecarbon INFO @ 09:49:08] Energy consumed for all CPUs : 0.003985 kWh. Total CPU Power : 42.5 W\n"
     ]
    },
    {
     "name": "stdout",
     "output_type": "stream",
     "text": [
      "17/17 [==============================] - ETA: 0s - loss: 0.0241"
     ]
    },
    {
     "name": "stderr",
     "output_type": "stream",
     "text": [
      "[codecarbon INFO @ 09:49:10] Energy consumed for all GPUs : 0.000394 kWh. Total GPU Power : 4.265917345922983 W\n",
      "[codecarbon INFO @ 09:49:10] 0.005492 kWh of electricity used since the beginning.\n"
     ]
    },
    {
     "name": "stdout",
     "output_type": "stream",
     "text": [
      "17/17 [==============================] - 3s 151ms/step - loss: 0.0241 - val_loss: 0.0168\n",
      "Epoch 138/300\n",
      "17/17 [==============================] - 3s 162ms/step - loss: 0.0243 - val_loss: 0.0170\n",
      "Epoch 139/300\n",
      "17/17 [==============================] - 3s 174ms/step - loss: 0.0237 - val_loss: 0.0161\n",
      "Epoch 140/300\n",
      "17/17 [==============================] - ETA: 0s - loss: 0.0245"
     ]
    },
    {
     "name": "stderr",
     "output_type": "stream",
     "text": [
      "[codecarbon INFO @ 09:49:18] Energy consumed for RAM : 0.001141 kWh. RAM Power : 11.891499996185303 W\n",
      "[codecarbon INFO @ 09:49:18] Energy consumed for all CPUs : 0.004087 kWh. Total CPU Power : 42.5 W\n"
     ]
    },
    {
     "name": "stdout",
     "output_type": "stream",
     "text": [
      "17/17 [==============================] - 3s 166ms/step - loss: 0.0245 - val_loss: 0.0182\n",
      "Epoch 141/300\n",
      "10/17 [================>.............] - ETA: 0s - loss: 0.0236"
     ]
    },
    {
     "name": "stderr",
     "output_type": "stream",
     "text": [
      "[codecarbon INFO @ 09:49:20] Energy consumed for all GPUs : 0.000404 kWh. Total GPU Power : 4.176756300316498 W\n",
      "[codecarbon INFO @ 09:49:20] 0.005631 kWh of electricity used since the beginning.\n"
     ]
    },
    {
     "name": "stdout",
     "output_type": "stream",
     "text": [
      "11/17 [==================>...........] - ETA: 0s - loss: 0.0235"
     ]
    },
    {
     "name": "stderr",
     "output_type": "stream",
     "text": [
      "[codecarbon INFO @ 09:49:20] 0.000309 g.CO2eq/s mean an estimation of 9.740520045200514 kg.CO2eq/year\n"
     ]
    },
    {
     "name": "stdout",
     "output_type": "stream",
     "text": [
      "17/17 [==============================] - 3s 146ms/step - loss: 0.0240 - val_loss: 0.0166\n",
      "Epoch 142/300\n",
      "17/17 [==============================] - 3s 167ms/step - loss: 0.0230 - val_loss: 0.0164\n",
      "Epoch 143/300\n",
      "17/17 [==============================] - 3s 168ms/step - loss: 0.0231 - val_loss: 0.0183\n",
      "Epoch 144/300\n",
      "10/17 [================>.............] - ETA: 1s - loss: 0.0237"
     ]
    },
    {
     "name": "stderr",
     "output_type": "stream",
     "text": [
      "[codecarbon INFO @ 09:49:28] Energy consumed for RAM : 0.001169 kWh. RAM Power : 11.891499996185303 W\n",
      "[codecarbon INFO @ 09:49:28] Energy consumed for all CPUs : 0.004189 kWh. Total CPU Power : 42.5 W\n"
     ]
    },
    {
     "name": "stdout",
     "output_type": "stream",
     "text": [
      "17/17 [==============================] - 3s 165ms/step - loss: 0.0240 - val_loss: 0.0189\n",
      "Epoch 145/300\n",
      " 2/17 [==>...........................] - ETA: 1s - loss: 0.0222"
     ]
    },
    {
     "name": "stderr",
     "output_type": "stream",
     "text": [
      "[codecarbon INFO @ 09:49:30] Energy consumed for all GPUs : 0.000414 kWh. Total GPU Power : 4.281964438904307 W\n",
      "[codecarbon INFO @ 09:49:30] 0.005772 kWh of electricity used since the beginning.\n"
     ]
    },
    {
     "name": "stdout",
     "output_type": "stream",
     "text": [
      "17/17 [==============================] - 3s 169ms/step - loss: 0.0242 - val_loss: 0.0161\n",
      "Epoch 146/300\n",
      "17/17 [==============================] - 3s 171ms/step - loss: 0.0237 - val_loss: 0.0165\n",
      "Epoch 147/300\n",
      "17/17 [==============================] - 3s 166ms/step - loss: 0.0228 - val_loss: 0.0186\n",
      "Epoch 148/300\n",
      " 1/17 [>.............................] - ETA: 2s - loss: 0.0208"
     ]
    },
    {
     "name": "stderr",
     "output_type": "stream",
     "text": [
      "[codecarbon INFO @ 09:49:38] Energy consumed for RAM : 0.001197 kWh. RAM Power : 11.891499996185303 W\n"
     ]
    },
    {
     "name": "stdout",
     "output_type": "stream",
     "text": [
      " 2/17 [==>...........................] - ETA: 2s - loss: 0.0212"
     ]
    },
    {
     "name": "stderr",
     "output_type": "stream",
     "text": [
      "[codecarbon INFO @ 09:49:38] Energy consumed for all CPUs : 0.004290 kWh. Total CPU Power : 42.5 W\n"
     ]
    },
    {
     "name": "stdout",
     "output_type": "stream",
     "text": [
      "12/17 [====================>.........] - ETA: 0s - loss: 0.0235"
     ]
    },
    {
     "name": "stderr",
     "output_type": "stream",
     "text": [
      "[codecarbon INFO @ 09:49:40] Energy consumed for all GPUs : 0.000425 kWh. Total GPU Power : 4.323859334043822 W\n",
      "[codecarbon INFO @ 09:49:40] 0.005912 kWh of electricity used since the beginning.\n"
     ]
    },
    {
     "name": "stdout",
     "output_type": "stream",
     "text": [
      "17/17 [==============================] - 3s 154ms/step - loss: 0.0240 - val_loss: 0.0172\n",
      "Epoch 149/300\n",
      "17/17 [==============================] - 3s 173ms/step - loss: 0.0238 - val_loss: 0.0159\n",
      "Epoch 150/300\n",
      "17/17 [==============================] - 3s 170ms/step - loss: 0.0233 - val_loss: 0.0160\n",
      "Epoch 151/300\n",
      "12/17 [====================>.........] - ETA: 0s - loss: 0.0221"
     ]
    },
    {
     "name": "stderr",
     "output_type": "stream",
     "text": [
      "[codecarbon INFO @ 09:49:48] Energy consumed for RAM : 0.001226 kWh. RAM Power : 11.891499996185303 W\n",
      "[codecarbon INFO @ 09:49:48] Energy consumed for all CPUs : 0.004392 kWh. Total CPU Power : 42.5 W\n"
     ]
    },
    {
     "name": "stdout",
     "output_type": "stream",
     "text": [
      "17/17 [==============================] - 3s 159ms/step - loss: 0.0228 - val_loss: 0.0160\n",
      "Epoch 152/300\n",
      " 3/17 [====>.........................] - ETA: 2s - loss: 0.0219"
     ]
    },
    {
     "name": "stderr",
     "output_type": "stream",
     "text": [
      "[codecarbon INFO @ 09:49:50] Energy consumed for all GPUs : 0.000435 kWh. Total GPU Power : 4.304830155155233 W\n",
      "[codecarbon INFO @ 09:49:50] 0.006053 kWh of electricity used since the beginning.\n"
     ]
    },
    {
     "name": "stdout",
     "output_type": "stream",
     "text": [
      "17/17 [==============================] - 3s 162ms/step - loss: 0.0230 - val_loss: 0.0172\n",
      "Epoch 153/300\n",
      "17/17 [==============================] - 3s 166ms/step - loss: 0.0233 - val_loss: 0.0161\n",
      "Epoch 154/300\n",
      "17/17 [==============================] - 3s 177ms/step - loss: 0.0225 - val_loss: 0.0159\n",
      "Epoch 155/300\n",
      " 3/17 [====>.........................] - ETA: 2s - loss: 0.0217"
     ]
    },
    {
     "name": "stderr",
     "output_type": "stream",
     "text": [
      "[codecarbon INFO @ 09:49:58] Energy consumed for RAM : 0.001254 kWh. RAM Power : 11.891499996185303 W\n",
      "[codecarbon INFO @ 09:49:58] Energy consumed for all CPUs : 0.004493 kWh. Total CPU Power : 42.5 W\n"
     ]
    },
    {
     "name": "stdout",
     "output_type": "stream",
     "text": [
      "14/17 [=======================>......] - ETA: 0s - loss: 0.0217"
     ]
    },
    {
     "name": "stderr",
     "output_type": "stream",
     "text": [
      "[codecarbon INFO @ 09:50:00] Energy consumed for all GPUs : 0.000445 kWh. Total GPU Power : 4.258644974426284 W\n",
      "[codecarbon INFO @ 09:50:00] 0.006193 kWh of electricity used since the beginning.\n"
     ]
    },
    {
     "name": "stdout",
     "output_type": "stream",
     "text": [
      "17/17 [==============================] - 3s 157ms/step - loss: 0.0220 - val_loss: 0.0155\n",
      "Epoch 156/300\n",
      "17/17 [==============================] - 3s 169ms/step - loss: 0.0220 - val_loss: 0.0154\n",
      "Epoch 157/300\n",
      "17/17 [==============================] - 3s 169ms/step - loss: 0.0218 - val_loss: 0.0155\n",
      "Epoch 158/300\n",
      "14/17 [=======================>......] - ETA: 0s - loss: 0.0218"
     ]
    },
    {
     "name": "stderr",
     "output_type": "stream",
     "text": [
      "[codecarbon INFO @ 09:50:08] Energy consumed for RAM : 0.001282 kWh. RAM Power : 11.891499996185303 W\n",
      "[codecarbon INFO @ 09:50:08] Energy consumed for all CPUs : 0.004595 kWh. Total CPU Power : 42.5 W\n"
     ]
    },
    {
     "name": "stdout",
     "output_type": "stream",
     "text": [
      "17/17 [==============================] - 3s 168ms/step - loss: 0.0219 - val_loss: 0.0152\n",
      "Epoch 159/300\n",
      " 5/17 [=======>......................] - ETA: 1s - loss: 0.0204"
     ]
    },
    {
     "name": "stderr",
     "output_type": "stream",
     "text": [
      "[codecarbon INFO @ 09:50:10] Energy consumed for all GPUs : 0.000456 kWh. Total GPU Power : 4.271275032065558 W\n",
      "[codecarbon INFO @ 09:50:10] 0.006333 kWh of electricity used since the beginning.\n"
     ]
    },
    {
     "name": "stdout",
     "output_type": "stream",
     "text": [
      "17/17 [==============================] - 3s 158ms/step - loss: 0.0216 - val_loss: 0.0152\n",
      "Epoch 160/300\n",
      "17/17 [==============================] - 3s 165ms/step - loss: 0.0217 - val_loss: 0.0166\n",
      "Epoch 161/300\n",
      "17/17 [==============================] - 3s 169ms/step - loss: 0.0217 - val_loss: 0.0163\n",
      "Epoch 162/300\n",
      " 5/17 [=======>......................] - ETA: 1s - loss: 0.0223"
     ]
    },
    {
     "name": "stderr",
     "output_type": "stream",
     "text": [
      "[codecarbon INFO @ 09:50:18] Energy consumed for RAM : 0.001311 kWh. RAM Power : 11.891499996185303 W\n",
      "[codecarbon INFO @ 09:50:18] Energy consumed for all CPUs : 0.004697 kWh. Total CPU Power : 42.5 W\n"
     ]
    },
    {
     "name": "stdout",
     "output_type": "stream",
     "text": [
      "16/17 [===========================>..] - ETA: 0s - loss: 0.0220"
     ]
    },
    {
     "name": "stderr",
     "output_type": "stream",
     "text": [
      "[codecarbon INFO @ 09:50:20] Energy consumed for all GPUs : 0.000466 kWh. Total GPU Power : 4.3051605815644365 W\n",
      "[codecarbon INFO @ 09:50:20] 0.006474 kWh of electricity used since the beginning.\n"
     ]
    },
    {
     "name": "stdout",
     "output_type": "stream",
     "text": [
      "17/17 [==============================] - 3s 157ms/step - loss: 0.0219 - val_loss: 0.0151\n",
      "Epoch 163/300\n",
      "17/17 [==============================] - 3s 166ms/step - loss: 0.0219 - val_loss: 0.0156\n",
      "Epoch 164/300\n",
      "17/17 [==============================] - 3s 167ms/step - loss: 0.0218 - val_loss: 0.0153\n",
      "Epoch 165/300\n",
      "17/17 [==============================] - ETA: 0s - loss: 0.0221"
     ]
    },
    {
     "name": "stderr",
     "output_type": "stream",
     "text": [
      "[codecarbon INFO @ 09:50:28] Energy consumed for RAM : 0.001339 kWh. RAM Power : 11.891499996185303 W\n",
      "[codecarbon INFO @ 09:50:28] Energy consumed for all CPUs : 0.004799 kWh. Total CPU Power : 42.5 W\n"
     ]
    },
    {
     "name": "stdout",
     "output_type": "stream",
     "text": [
      "17/17 [==============================] - 3s 167ms/step - loss: 0.0221 - val_loss: 0.0149\n",
      "Epoch 166/300\n",
      " 9/17 [==============>...............] - ETA: 1s - loss: 0.0218"
     ]
    },
    {
     "name": "stderr",
     "output_type": "stream",
     "text": [
      "[codecarbon INFO @ 09:50:30] Energy consumed for all GPUs : 0.000477 kWh. Total GPU Power : 4.56564073379017 W\n",
      "[codecarbon INFO @ 09:50:30] 0.006615 kWh of electricity used since the beginning.\n"
     ]
    },
    {
     "name": "stdout",
     "output_type": "stream",
     "text": [
      "17/17 [==============================] - 3s 150ms/step - loss: 0.0223 - val_loss: 0.0155\n",
      "Epoch 167/300\n",
      "17/17 [==============================] - 3s 167ms/step - loss: 0.0219 - val_loss: 0.0149\n",
      "Epoch 168/300\n",
      "17/17 [==============================] - 3s 167ms/step - loss: 0.0219 - val_loss: 0.0160\n",
      "Epoch 169/300\n",
      "10/17 [================>.............] - ETA: 1s - loss: 0.0212"
     ]
    },
    {
     "name": "stderr",
     "output_type": "stream",
     "text": [
      "[codecarbon INFO @ 09:50:38] Energy consumed for RAM : 0.001368 kWh. RAM Power : 11.891499996185303 W\n",
      "[codecarbon INFO @ 09:50:38] Energy consumed for all CPUs : 0.004900 kWh. Total CPU Power : 42.5 W\n"
     ]
    },
    {
     "name": "stdout",
     "output_type": "stream",
     "text": [
      "17/17 [==============================] - 3s 155ms/step - loss: 0.0219 - val_loss: 0.0154\n",
      "Epoch 170/300\n",
      " 2/17 [==>...........................] - ETA: 2s - loss: 0.0204"
     ]
    },
    {
     "name": "stderr",
     "output_type": "stream",
     "text": [
      "[codecarbon INFO @ 09:50:40] Energy consumed for all GPUs : 0.000488 kWh. Total GPU Power : 4.571891004817526 W\n",
      "[codecarbon INFO @ 09:50:40] 0.006756 kWh of electricity used since the beginning.\n"
     ]
    },
    {
     "name": "stdout",
     "output_type": "stream",
     "text": [
      " 3/17 [====>.........................] - ETA: 1s - loss: 0.0222"
     ]
    },
    {
     "name": "stderr",
     "output_type": "stream",
     "text": [
      "[codecarbon INFO @ 09:50:40] 0.000309 g.CO2eq/s mean an estimation of 9.74184949229792 kg.CO2eq/year\n"
     ]
    },
    {
     "name": "stdout",
     "output_type": "stream",
     "text": [
      "17/17 [==============================] - 3s 157ms/step - loss: 0.0219 - val_loss: 0.0149\n",
      "Epoch 171/300\n",
      "17/17 [==============================] - 3s 171ms/step - loss: 0.0212 - val_loss: 0.0153\n",
      "Epoch 172/300\n",
      "17/17 [==============================] - 3s 161ms/step - loss: 0.0210 - val_loss: 0.0152\n",
      "Epoch 173/300\n",
      " 4/17 [======>.......................] - ETA: 1s - loss: 0.0198"
     ]
    },
    {
     "name": "stderr",
     "output_type": "stream",
     "text": [
      "[codecarbon INFO @ 09:50:48] Energy consumed for RAM : 0.001396 kWh. RAM Power : 11.891499996185303 W\n",
      "[codecarbon INFO @ 09:50:48] Energy consumed for all CPUs : 0.005002 kWh. Total CPU Power : 42.5 W\n"
     ]
    },
    {
     "name": "stdout",
     "output_type": "stream",
     "text": [
      "15/17 [=========================>....] - ETA: 0s - loss: 0.0208"
     ]
    },
    {
     "name": "stderr",
     "output_type": "stream",
     "text": [
      "[codecarbon INFO @ 09:50:50] Energy consumed for all GPUs : 0.000498 kWh. Total GPU Power : 4.144749122675127 W\n",
      "[codecarbon INFO @ 09:50:50] 0.006896 kWh of electricity used since the beginning.\n"
     ]
    },
    {
     "name": "stdout",
     "output_type": "stream",
     "text": [
      "17/17 [==============================] - 2s 145ms/step - loss: 0.0210 - val_loss: 0.0153\n",
      "Epoch 174/300\n",
      "17/17 [==============================] - 3s 168ms/step - loss: 0.0211 - val_loss: 0.0155\n",
      "Epoch 175/300\n",
      "17/17 [==============================] - 3s 170ms/step - loss: 0.0208 - val_loss: 0.0150\n",
      "Epoch 176/300\n",
      "16/17 [===========================>..] - ETA: 0s - loss: 0.0207"
     ]
    },
    {
     "name": "stderr",
     "output_type": "stream",
     "text": [
      "[codecarbon INFO @ 09:50:58] Energy consumed for RAM : 0.001424 kWh. RAM Power : 11.891499996185303 W\n",
      "[codecarbon INFO @ 09:50:58] Energy consumed for all CPUs : 0.005104 kWh. Total CPU Power : 42.5 W\n"
     ]
    },
    {
     "name": "stdout",
     "output_type": "stream",
     "text": [
      "17/17 [==============================] - 3s 162ms/step - loss: 0.0208 - val_loss: 0.0151\n",
      "Epoch 177/300\n",
      " 8/17 [=============>................] - ETA: 1s - loss: 0.0201"
     ]
    },
    {
     "name": "stderr",
     "output_type": "stream",
     "text": [
      "[codecarbon INFO @ 09:51:00] Energy consumed for all GPUs : 0.000508 kWh. Total GPU Power : 4.2680628465257655 W\n",
      "[codecarbon INFO @ 09:51:00] 0.007036 kWh of electricity used since the beginning.\n"
     ]
    },
    {
     "name": "stdout",
     "output_type": "stream",
     "text": [
      "17/17 [==============================] - 3s 152ms/step - loss: 0.0208 - val_loss: 0.0154\n",
      "Epoch 178/300\n",
      "17/17 [==============================] - 3s 171ms/step - loss: 0.0205 - val_loss: 0.0145\n",
      "Epoch 179/300\n",
      "17/17 [==============================] - 3s 162ms/step - loss: 0.0202 - val_loss: 0.0146\n",
      "Epoch 180/300\n",
      " 9/17 [==============>...............] - ETA: 1s - loss: 0.0205"
     ]
    },
    {
     "name": "stderr",
     "output_type": "stream",
     "text": [
      "[codecarbon INFO @ 09:51:08] Energy consumed for RAM : 0.001453 kWh. RAM Power : 11.891499996185303 W\n",
      "[codecarbon INFO @ 09:51:08] Energy consumed for all CPUs : 0.005206 kWh. Total CPU Power : 42.5 W\n"
     ]
    },
    {
     "name": "stdout",
     "output_type": "stream",
     "text": [
      "17/17 [==============================] - 3s 158ms/step - loss: 0.0205 - val_loss: 0.0149\n",
      "Epoch 181/300\n"
     ]
    },
    {
     "name": "stderr",
     "output_type": "stream",
     "text": [
      "[codecarbon INFO @ 09:51:10] Energy consumed for all GPUs : 0.000519 kWh. Total GPU Power : 4.539103715290641 W\n",
      "[codecarbon INFO @ 09:51:10] 0.007177 kWh of electricity used since the beginning.\n"
     ]
    },
    {
     "name": "stdout",
     "output_type": "stream",
     "text": [
      "17/17 [==============================] - 3s 168ms/step - loss: 0.0200 - val_loss: 0.0140\n",
      "Epoch 182/300\n",
      "17/17 [==============================] - 3s 169ms/step - loss: 0.0200 - val_loss: 0.0153\n",
      "Epoch 183/300\n",
      "17/17 [==============================] - 3s 159ms/step - loss: 0.0198 - val_loss: 0.0151\n",
      "Epoch 184/300\n",
      " 1/17 [>.............................] - ETA: 2s - loss: 0.0180"
     ]
    },
    {
     "name": "stderr",
     "output_type": "stream",
     "text": [
      "[codecarbon INFO @ 09:51:18] Energy consumed for RAM : 0.001481 kWh. RAM Power : 11.891499996185303 W\n",
      "[codecarbon INFO @ 09:51:18] Energy consumed for all CPUs : 0.005307 kWh. Total CPU Power : 42.5 W\n"
     ]
    },
    {
     "name": "stdout",
     "output_type": "stream",
     "text": [
      "12/17 [====================>.........] - ETA: 0s - loss: 0.0197"
     ]
    },
    {
     "name": "stderr",
     "output_type": "stream",
     "text": [
      "[codecarbon INFO @ 09:51:20] Energy consumed for all GPUs : 0.000529 kWh. Total GPU Power : 4.147694588696762 W\n",
      "[codecarbon INFO @ 09:51:20] 0.007317 kWh of electricity used since the beginning.\n"
     ]
    },
    {
     "name": "stdout",
     "output_type": "stream",
     "text": [
      "17/17 [==============================] - 3s 154ms/step - loss: 0.0199 - val_loss: 0.0160\n",
      "Epoch 185/300\n",
      "17/17 [==============================] - 3s 163ms/step - loss: 0.0204 - val_loss: 0.0149\n",
      "Epoch 186/300\n",
      "17/17 [==============================] - 3s 169ms/step - loss: 0.0207 - val_loss: 0.0154\n",
      "Epoch 187/300\n",
      "13/17 [=====================>........] - ETA: 0s - loss: 0.0211"
     ]
    },
    {
     "name": "stderr",
     "output_type": "stream",
     "text": [
      "[codecarbon INFO @ 09:51:28] Energy consumed for RAM : 0.001509 kWh. RAM Power : 11.891499996185303 W\n",
      "[codecarbon INFO @ 09:51:28] Energy consumed for all CPUs : 0.005409 kWh. Total CPU Power : 42.5 W\n"
     ]
    },
    {
     "name": "stdout",
     "output_type": "stream",
     "text": [
      "17/17 [==============================] - 3s 165ms/step - loss: 0.0209 - val_loss: 0.0148\n",
      "Epoch 188/300\n",
      " 4/17 [======>.......................] - ETA: 1s - loss: 0.0194"
     ]
    },
    {
     "name": "stderr",
     "output_type": "stream",
     "text": [
      "[codecarbon INFO @ 09:51:30] Energy consumed for all GPUs : 0.000539 kWh. Total GPU Power : 4.165838706249074 W\n",
      "[codecarbon INFO @ 09:51:30] 0.007457 kWh of electricity used since the beginning.\n"
     ]
    },
    {
     "name": "stdout",
     "output_type": "stream",
     "text": [
      "17/17 [==============================] - 2s 129ms/step - loss: 0.0199 - val_loss: 0.0146\n",
      "Epoch 189/300\n",
      "17/17 [==============================] - 2s 146ms/step - loss: 0.0203 - val_loss: 0.0151\n",
      "Epoch 190/300\n",
      "17/17 [==============================] - 3s 170ms/step - loss: 0.0204 - val_loss: 0.0150\n",
      "Epoch 191/300\n",
      "10/17 [================>.............] - ETA: 1s - loss: 0.0203"
     ]
    },
    {
     "name": "stderr",
     "output_type": "stream",
     "text": [
      "[codecarbon INFO @ 09:51:38] Energy consumed for RAM : 0.001538 kWh. RAM Power : 11.891499996185303 W\n",
      "[codecarbon INFO @ 09:51:38] Energy consumed for all CPUs : 0.005511 kWh. Total CPU Power : 42.5 W\n"
     ]
    },
    {
     "name": "stdout",
     "output_type": "stream",
     "text": [
      "17/17 [==============================] - 3s 160ms/step - loss: 0.0196 - val_loss: 0.0142\n",
      "Epoch 192/300\n",
      " 2/17 [==>...........................] - ETA: 2s - loss: 0.0172"
     ]
    },
    {
     "name": "stderr",
     "output_type": "stream",
     "text": [
      "[codecarbon INFO @ 09:51:40] Energy consumed for all GPUs : 0.000549 kWh. Total GPU Power : 4.281379364450631 W\n",
      "[codecarbon INFO @ 09:51:40] 0.007598 kWh of electricity used since the beginning.\n"
     ]
    },
    {
     "name": "stdout",
     "output_type": "stream",
     "text": [
      "17/17 [==============================] - 3s 163ms/step - loss: 0.0195 - val_loss: 0.0137\n",
      "Epoch 193/300\n",
      "17/17 [==============================] - 3s 167ms/step - loss: 0.0197 - val_loss: 0.0140\n",
      "Epoch 194/300\n",
      "17/17 [==============================] - 3s 168ms/step - loss: 0.0191 - val_loss: 0.0153\n",
      "Epoch 195/300\n",
      " 2/17 [==>...........................] - ETA: 2s - loss: 0.0177"
     ]
    },
    {
     "name": "stderr",
     "output_type": "stream",
     "text": [
      "[codecarbon INFO @ 09:51:48] Energy consumed for RAM : 0.001566 kWh. RAM Power : 11.891499996185303 W\n"
     ]
    },
    {
     "name": "stdout",
     "output_type": "stream",
     "text": [
      " 3/17 [====>.........................] - ETA: 2s - loss: 0.0186"
     ]
    },
    {
     "name": "stderr",
     "output_type": "stream",
     "text": [
      "[codecarbon INFO @ 09:51:48] Energy consumed for all CPUs : 0.005612 kWh. Total CPU Power : 42.5 W\n"
     ]
    },
    {
     "name": "stdout",
     "output_type": "stream",
     "text": [
      "13/17 [=====================>........] - ETA: 0s - loss: 0.0192"
     ]
    },
    {
     "name": "stderr",
     "output_type": "stream",
     "text": [
      "[codecarbon INFO @ 09:51:50] Energy consumed for all GPUs : 0.000559 kWh. Total GPU Power : 4.132830508589184 W\n",
      "[codecarbon INFO @ 09:51:50] 0.007738 kWh of electricity used since the beginning.\n"
     ]
    },
    {
     "name": "stdout",
     "output_type": "stream",
     "text": [
      "17/17 [==============================] - 2s 143ms/step - loss: 0.0190 - val_loss: 0.0142\n",
      "Epoch 196/300\n",
      "17/17 [==============================] - 3s 160ms/step - loss: 0.0191 - val_loss: 0.0165\n",
      "Epoch 197/300\n",
      "17/17 [==============================] - 3s 161ms/step - loss: 0.0196 - val_loss: 0.0157\n",
      "Epoch 198/300\n",
      "17/17 [==============================] - ETA: 0s - loss: 0.0191"
     ]
    },
    {
     "name": "stderr",
     "output_type": "stream",
     "text": [
      "[codecarbon INFO @ 09:51:58] Energy consumed for RAM : 0.001595 kWh. RAM Power : 11.891499996185303 W\n",
      "[codecarbon INFO @ 09:51:58] Energy consumed for all CPUs : 0.005714 kWh. Total CPU Power : 42.5 W\n"
     ]
    },
    {
     "name": "stdout",
     "output_type": "stream",
     "text": [
      "17/17 [==============================] - 3s 162ms/step - loss: 0.0191 - val_loss: 0.0147\n",
      "Epoch 199/300\n",
      " 9/17 [==============>...............] - ETA: 1s - loss: 0.0188"
     ]
    },
    {
     "name": "stderr",
     "output_type": "stream",
     "text": [
      "[codecarbon INFO @ 09:52:00] Energy consumed for all GPUs : 0.000569 kWh. Total GPU Power : 4.123770213737079 W\n",
      "[codecarbon INFO @ 09:52:00] 0.007878 kWh of electricity used since the beginning.\n"
     ]
    },
    {
     "name": "stdout",
     "output_type": "stream",
     "text": [
      "10/17 [================>.............] - ETA: 0s - loss: 0.0189"
     ]
    },
    {
     "name": "stderr",
     "output_type": "stream",
     "text": [
      "[codecarbon INFO @ 09:52:00] 0.000308 g.CO2eq/s mean an estimation of 9.72013484952465 kg.CO2eq/year\n"
     ]
    },
    {
     "name": "stdout",
     "output_type": "stream",
     "text": [
      "17/17 [==============================] - 3s 148ms/step - loss: 0.0193 - val_loss: 0.0142\n",
      "Epoch 200/300\n",
      "17/17 [==============================] - 3s 173ms/step - loss: 0.0196 - val_loss: 0.0136\n",
      "Epoch 201/300\n",
      "17/17 [==============================] - 3s 167ms/step - loss: 0.0185 - val_loss: 0.0137\n",
      "Epoch 202/300\n",
      "10/17 [================>.............] - ETA: 0s - loss: 0.0182"
     ]
    },
    {
     "name": "stderr",
     "output_type": "stream",
     "text": [
      "[codecarbon INFO @ 09:52:08] Energy consumed for RAM : 0.001623 kWh. RAM Power : 11.891499996185303 W\n",
      "[codecarbon INFO @ 09:52:08] Energy consumed for all CPUs : 0.005816 kWh. Total CPU Power : 42.5 W\n"
     ]
    },
    {
     "name": "stdout",
     "output_type": "stream",
     "text": [
      "17/17 [==============================] - 3s 152ms/step - loss: 0.0186 - val_loss: 0.0142\n",
      "Epoch 203/300\n",
      " 2/17 [==>...........................] - ETA: 1s - loss: 0.0196"
     ]
    },
    {
     "name": "stderr",
     "output_type": "stream",
     "text": [
      "[codecarbon INFO @ 09:52:10] Energy consumed for all GPUs : 0.000579 kWh. Total GPU Power : 4.16035055859198 W\n",
      "[codecarbon INFO @ 09:52:10] 0.008017 kWh of electricity used since the beginning.\n"
     ]
    },
    {
     "name": "stdout",
     "output_type": "stream",
     "text": [
      "17/17 [==============================] - 3s 169ms/step - loss: 0.0183 - val_loss: 0.0136\n",
      "Epoch 204/300\n",
      "17/17 [==============================] - 3s 153ms/step - loss: 0.0190 - val_loss: 0.0138\n",
      "Epoch 205/300\n",
      "17/17 [==============================] - 3s 164ms/step - loss: 0.0184 - val_loss: 0.0135\n",
      "Epoch 206/300\n",
      " 4/17 [======>.......................] - ETA: 2s - loss: 0.0179"
     ]
    },
    {
     "name": "stderr",
     "output_type": "stream",
     "text": [
      "[codecarbon INFO @ 09:52:18] Energy consumed for RAM : 0.001651 kWh. RAM Power : 11.891499996185303 W\n",
      "[codecarbon INFO @ 09:52:18] Energy consumed for all CPUs : 0.005918 kWh. Total CPU Power : 42.5 W\n"
     ]
    },
    {
     "name": "stdout",
     "output_type": "stream",
     "text": [
      "14/17 [=======================>......] - ETA: 0s - loss: 0.0190"
     ]
    },
    {
     "name": "stderr",
     "output_type": "stream",
     "text": [
      "[codecarbon INFO @ 09:52:20] Energy consumed for all GPUs : 0.000589 kWh. Total GPU Power : 4.151649491214216 W\n",
      "[codecarbon INFO @ 09:52:20] 0.008158 kWh of electricity used since the beginning.\n"
     ]
    },
    {
     "name": "stdout",
     "output_type": "stream",
     "text": [
      "17/17 [==============================] - 3s 153ms/step - loss: 0.0187 - val_loss: 0.0149\n",
      "Epoch 207/300\n",
      "17/17 [==============================] - 3s 175ms/step - loss: 0.0182 - val_loss: 0.0130\n",
      "Epoch 208/300\n",
      "17/17 [==============================] - 3s 165ms/step - loss: 0.0180 - val_loss: 0.0136\n",
      "Epoch 209/300\n",
      "15/17 [=========================>....] - ETA: 0s - loss: 0.0179"
     ]
    },
    {
     "name": "stderr",
     "output_type": "stream",
     "text": [
      "[codecarbon INFO @ 09:52:28] Energy consumed for RAM : 0.001680 kWh. RAM Power : 11.891499996185303 W\n",
      "[codecarbon INFO @ 09:52:28] Energy consumed for all CPUs : 0.006019 kWh. Total CPU Power : 42.5 W\n"
     ]
    },
    {
     "name": "stdout",
     "output_type": "stream",
     "text": [
      "17/17 [==============================] - 3s 163ms/step - loss: 0.0179 - val_loss: 0.0132\n",
      "Epoch 210/300\n",
      " 7/17 [===========>..................] - ETA: 1s - loss: 0.0171"
     ]
    },
    {
     "name": "stderr",
     "output_type": "stream",
     "text": [
      "[codecarbon INFO @ 09:52:30] Energy consumed for all GPUs : 0.000598 kWh. Total GPU Power : 4.014091428912168 W\n",
      "[codecarbon INFO @ 09:52:30] 0.008297 kWh of electricity used since the beginning.\n"
     ]
    },
    {
     "name": "stdout",
     "output_type": "stream",
     "text": [
      "17/17 [==============================] - 3s 150ms/step - loss: 0.0177 - val_loss: 0.0144\n",
      "Epoch 211/300\n",
      "17/17 [==============================] - 3s 161ms/step - loss: 0.0178 - val_loss: 0.0148\n",
      "Epoch 212/300\n",
      "17/17 [==============================] - 3s 167ms/step - loss: 0.0182 - val_loss: 0.0148\n",
      "Epoch 213/300\n",
      "12/17 [====================>.........] - ETA: 0s - loss: 0.0183"
     ]
    },
    {
     "name": "stderr",
     "output_type": "stream",
     "text": [
      "[codecarbon INFO @ 09:52:38] Energy consumed for RAM : 0.001708 kWh. RAM Power : 11.891499996185303 W\n",
      "[codecarbon INFO @ 09:52:38] Energy consumed for all CPUs : 0.006121 kWh. Total CPU Power : 42.5 W\n"
     ]
    },
    {
     "name": "stdout",
     "output_type": "stream",
     "text": [
      "17/17 [==============================] - 2s 127ms/step - loss: 0.0186 - val_loss: 0.0138\n",
      "Epoch 214/300\n",
      " 5/17 [=======>......................] - ETA: 1s - loss: 0.0187"
     ]
    },
    {
     "name": "stderr",
     "output_type": "stream",
     "text": [
      "[codecarbon INFO @ 09:52:40] Energy consumed for all GPUs : 0.000611 kWh. Total GPU Power : 5.235240464166839 W\n",
      "[codecarbon INFO @ 09:52:40] 0.008440 kWh of electricity used since the beginning.\n"
     ]
    },
    {
     "name": "stdout",
     "output_type": "stream",
     "text": [
      "17/17 [==============================] - 2s 137ms/step - loss: 0.0190 - val_loss: 0.0162\n",
      "Epoch 215/300\n",
      "17/17 [==============================] - 3s 163ms/step - loss: 0.0178 - val_loss: 0.0135\n",
      "Epoch 216/300\n",
      "17/17 [==============================] - 3s 162ms/step - loss: 0.0176 - val_loss: 0.0132\n",
      "Epoch 217/300\n",
      " 9/17 [==============>...............] - ETA: 1s - loss: 0.0169"
     ]
    },
    {
     "name": "stderr",
     "output_type": "stream",
     "text": [
      "[codecarbon INFO @ 09:52:48] Energy consumed for RAM : 0.001737 kWh. RAM Power : 11.891499996185303 W\n",
      "[codecarbon INFO @ 09:52:48] Energy consumed for all CPUs : 0.006223 kWh. Total CPU Power : 42.5 W\n"
     ]
    },
    {
     "name": "stdout",
     "output_type": "stream",
     "text": [
      "17/17 [==============================] - 3s 154ms/step - loss: 0.0177 - val_loss: 0.0150\n",
      "Epoch 218/300\n",
      " 1/17 [>.............................] - ETA: 2s - loss: 0.0194"
     ]
    },
    {
     "name": "stderr",
     "output_type": "stream",
     "text": [
      "[codecarbon INFO @ 09:52:50] Energy consumed for all GPUs : 0.000621 kWh. Total GPU Power : 4.136064551054985 W\n",
      "[codecarbon INFO @ 09:52:50] 0.008580 kWh of electricity used since the beginning.\n"
     ]
    },
    {
     "name": "stdout",
     "output_type": "stream",
     "text": [
      "17/17 [==============================] - 3s 163ms/step - loss: 0.0176 - val_loss: 0.0126\n",
      "Epoch 219/300\n",
      "17/17 [==============================] - 3s 170ms/step - loss: 0.0171 - val_loss: 0.0136\n",
      "Epoch 220/300\n",
      "17/17 [==============================] - 3s 164ms/step - loss: 0.0173 - val_loss: 0.0133\n",
      "Epoch 221/300\n",
      " 1/17 [>.............................] - ETA: 2s - loss: 0.0177"
     ]
    },
    {
     "name": "stderr",
     "output_type": "stream",
     "text": [
      "[codecarbon INFO @ 09:52:58] Energy consumed for RAM : 0.001765 kWh. RAM Power : 11.891499996185303 W\n",
      "[codecarbon INFO @ 09:52:58] Energy consumed for all CPUs : 0.006325 kWh. Total CPU Power : 42.5 W\n"
     ]
    },
    {
     "name": "stdout",
     "output_type": "stream",
     "text": [
      "12/17 [====================>.........] - ETA: 0s - loss: 0.0173"
     ]
    },
    {
     "name": "stderr",
     "output_type": "stream",
     "text": [
      "[codecarbon INFO @ 09:53:00] Energy consumed for all GPUs : 0.000631 kWh. Total GPU Power : 4.160036099733854 W\n",
      "[codecarbon INFO @ 09:53:00] 0.008720 kWh of electricity used since the beginning.\n"
     ]
    },
    {
     "name": "stdout",
     "output_type": "stream",
     "text": [
      "17/17 [==============================] - 3s 150ms/step - loss: 0.0173 - val_loss: 0.0128\n",
      "Epoch 222/300\n",
      "17/17 [==============================] - 3s 170ms/step - loss: 0.0171 - val_loss: 0.0131\n",
      "Epoch 223/300\n",
      "17/17 [==============================] - 3s 166ms/step - loss: 0.0170 - val_loss: 0.0136\n",
      "Epoch 224/300\n",
      "14/17 [=======================>......] - ETA: 0s - loss: 0.0169"
     ]
    },
    {
     "name": "stderr",
     "output_type": "stream",
     "text": [
      "[codecarbon INFO @ 09:53:08] Energy consumed for RAM : 0.001793 kWh. RAM Power : 11.891499996185303 W\n",
      "[codecarbon INFO @ 09:53:08] Energy consumed for all CPUs : 0.006426 kWh. Total CPU Power : 42.5 W\n"
     ]
    },
    {
     "name": "stdout",
     "output_type": "stream",
     "text": [
      "17/17 [==============================] - 3s 156ms/step - loss: 0.0170 - val_loss: 0.0129\n",
      "Epoch 225/300\n",
      " 5/17 [=======>......................] - ETA: 1s - loss: 0.0162"
     ]
    },
    {
     "name": "stderr",
     "output_type": "stream",
     "text": [
      "[codecarbon INFO @ 09:53:10] Energy consumed for all GPUs : 0.000641 kWh. Total GPU Power : 4.230316172078819 W\n",
      "[codecarbon INFO @ 09:53:10] 0.008860 kWh of electricity used since the beginning.\n"
     ]
    },
    {
     "name": "stdout",
     "output_type": "stream",
     "text": [
      "17/17 [==============================] - 3s 161ms/step - loss: 0.0170 - val_loss: 0.0150\n",
      "Epoch 226/300\n",
      "17/17 [==============================] - 3s 173ms/step - loss: 0.0170 - val_loss: 0.0131\n",
      "Epoch 227/300\n",
      "17/17 [==============================] - 2s 135ms/step - loss: 0.0165 - val_loss: 0.0142\n",
      "Epoch 228/300\n",
      "11/17 [==================>...........] - ETA: 0s - loss: 0.0169"
     ]
    },
    {
     "name": "stderr",
     "output_type": "stream",
     "text": [
      "[codecarbon INFO @ 09:53:18] Energy consumed for RAM : 0.001822 kWh. RAM Power : 11.891499996185303 W\n",
      "[codecarbon INFO @ 09:53:18] Energy consumed for all CPUs : 0.006528 kWh. Total CPU Power : 42.5 W\n"
     ]
    },
    {
     "name": "stdout",
     "output_type": "stream",
     "text": [
      "17/17 [==============================] - 2s 136ms/step - loss: 0.0167 - val_loss: 0.0127\n",
      "Epoch 229/300\n",
      " 4/17 [======>.......................] - ETA: 1s - loss: 0.0163"
     ]
    },
    {
     "name": "stderr",
     "output_type": "stream",
     "text": [
      "[codecarbon INFO @ 09:53:20] Energy consumed for all GPUs : 0.000651 kWh. Total GPU Power : 4.36789288226448 W\n",
      "[codecarbon INFO @ 09:53:20] 0.009001 kWh of electricity used since the beginning.\n"
     ]
    },
    {
     "name": "stdout",
     "output_type": "stream",
     "text": [
      " 5/17 [=======>......................] - ETA: 1s - loss: 0.0162"
     ]
    },
    {
     "name": "stderr",
     "output_type": "stream",
     "text": [
      "[codecarbon INFO @ 09:53:20] 0.000309 g.CO2eq/s mean an estimation of 9.733104031813168 kg.CO2eq/year\n"
     ]
    },
    {
     "name": "stdout",
     "output_type": "stream",
     "text": [
      "17/17 [==============================] - 2s 126ms/step - loss: 0.0170 - val_loss: 0.0141\n",
      "Epoch 230/300\n",
      "17/17 [==============================] - 2s 128ms/step - loss: 0.0177 - val_loss: 0.0126\n",
      "Epoch 231/300\n",
      "17/17 [==============================] - 2s 133ms/step - loss: 0.0169 - val_loss: 0.0157\n",
      "Epoch 232/300\n",
      "17/17 [==============================] - 2s 130ms/step - loss: 0.0179 - val_loss: 0.0133\n",
      "Epoch 233/300\n",
      " 2/17 [==>...........................] - ETA: 2s - loss: 0.0175"
     ]
    },
    {
     "name": "stderr",
     "output_type": "stream",
     "text": [
      "[codecarbon INFO @ 09:53:28] Energy consumed for RAM : 0.001850 kWh. RAM Power : 11.891499996185303 W\n",
      "[codecarbon INFO @ 09:53:28] Energy consumed for all CPUs : 0.006630 kWh. Total CPU Power : 42.5 W\n"
     ]
    },
    {
     "name": "stdout",
     "output_type": "stream",
     "text": [
      "14/17 [=======================>......] - ETA: 0s - loss: 0.0168"
     ]
    },
    {
     "name": "stderr",
     "output_type": "stream",
     "text": [
      "[codecarbon INFO @ 09:53:30] Energy consumed for all GPUs : 0.000661 kWh. Total GPU Power : 4.161108281488826 W\n",
      "[codecarbon INFO @ 09:53:30] 0.009141 kWh of electricity used since the beginning.\n"
     ]
    },
    {
     "name": "stdout",
     "output_type": "stream",
     "text": [
      "17/17 [==============================] - 2s 126ms/step - loss: 0.0168 - val_loss: 0.0134\n",
      "Epoch 234/300\n",
      "17/17 [==============================] - 2s 146ms/step - loss: 0.0167 - val_loss: 0.0125\n",
      "Epoch 235/300\n",
      "17/17 [==============================] - 3s 165ms/step - loss: 0.0161 - val_loss: 0.0134\n",
      "Epoch 236/300\n",
      "17/17 [==============================] - 2s 128ms/step - loss: 0.0164 - val_loss: 0.0123\n",
      "Epoch 237/300\n",
      " 6/17 [=========>....................] - ETA: 1s - loss: 0.0165"
     ]
    },
    {
     "name": "stderr",
     "output_type": "stream",
     "text": [
      "[codecarbon INFO @ 09:53:38] Energy consumed for RAM : 0.001879 kWh. RAM Power : 11.891499996185303 W\n",
      "[codecarbon INFO @ 09:53:38] Energy consumed for all CPUs : 0.006731 kWh. Total CPU Power : 42.5 W\n"
     ]
    },
    {
     "name": "stdout",
     "output_type": "stream",
     "text": [
      "17/17 [==============================] - ETA: 0s - loss: 0.0168"
     ]
    },
    {
     "name": "stderr",
     "output_type": "stream",
     "text": [
      "[codecarbon INFO @ 09:53:40] Energy consumed for all GPUs : 0.000671 kWh. Total GPU Power : 4.149517097305674 W\n",
      "[codecarbon INFO @ 09:53:40] 0.009281 kWh of electricity used since the beginning.\n"
     ]
    },
    {
     "name": "stdout",
     "output_type": "stream",
     "text": [
      "17/17 [==============================] - 2s 127ms/step - loss: 0.0168 - val_loss: 0.0131\n",
      "Epoch 238/300\n",
      "17/17 [==============================] - 3s 163ms/step - loss: 0.0165 - val_loss: 0.0170\n",
      "Epoch 239/300\n",
      "17/17 [==============================] - 3s 166ms/step - loss: 0.0169 - val_loss: 0.0125\n",
      "Epoch 240/300\n",
      "17/17 [==============================] - ETA: 0s - loss: 0.0165"
     ]
    },
    {
     "name": "stderr",
     "output_type": "stream",
     "text": [
      "[codecarbon INFO @ 09:53:48] Energy consumed for RAM : 0.001907 kWh. RAM Power : 11.891499996185303 W\n",
      "[codecarbon INFO @ 09:53:48] Energy consumed for all CPUs : 0.006833 kWh. Total CPU Power : 42.5 W\n"
     ]
    },
    {
     "name": "stdout",
     "output_type": "stream",
     "text": [
      "17/17 [==============================] - 3s 178ms/step - loss: 0.0165 - val_loss: 0.0122\n",
      "Epoch 241/300\n",
      " 9/17 [==============>...............] - ETA: 1s - loss: 0.0156"
     ]
    },
    {
     "name": "stderr",
     "output_type": "stream",
     "text": [
      "[codecarbon INFO @ 09:53:50] Energy consumed for all GPUs : 0.000681 kWh. Total GPU Power : 4.367790516079757 W\n",
      "[codecarbon INFO @ 09:53:50] 0.009421 kWh of electricity used since the beginning.\n"
     ]
    },
    {
     "name": "stdout",
     "output_type": "stream",
     "text": [
      "17/17 [==============================] - 3s 158ms/step - loss: 0.0160 - val_loss: 0.0130\n",
      "Epoch 242/300\n",
      "17/17 [==============================] - 3s 178ms/step - loss: 0.0161 - val_loss: 0.0132\n",
      "Epoch 243/300\n",
      "17/17 [==============================] - 3s 172ms/step - loss: 0.0163 - val_loss: 0.0123\n",
      "Epoch 244/300\n",
      " 8/17 [=============>................] - ETA: 1s - loss: 0.0157"
     ]
    },
    {
     "name": "stderr",
     "output_type": "stream",
     "text": [
      "[codecarbon INFO @ 09:53:58] Energy consumed for RAM : 0.001935 kWh. RAM Power : 11.891499996185303 W\n",
      "[codecarbon INFO @ 09:53:58] Energy consumed for all CPUs : 0.006935 kWh. Total CPU Power : 42.5 W\n"
     ]
    },
    {
     "name": "stdout",
     "output_type": "stream",
     "text": [
      "17/17 [==============================] - ETA: 0s - loss: 0.0157"
     ]
    },
    {
     "name": "stderr",
     "output_type": "stream",
     "text": [
      "[codecarbon INFO @ 09:54:00] Energy consumed for all GPUs : 0.000691 kWh. Total GPU Power : 4.037377020677206 W\n",
      "[codecarbon INFO @ 09:54:00] 0.009561 kWh of electricity used since the beginning.\n"
     ]
    },
    {
     "name": "stdout",
     "output_type": "stream",
     "text": [
      "17/17 [==============================] - 3s 164ms/step - loss: 0.0157 - val_loss: 0.0120\n",
      "Epoch 245/300\n",
      "17/17 [==============================] - 3s 176ms/step - loss: 0.0157 - val_loss: 0.0125\n",
      "Epoch 246/300\n",
      "17/17 [==============================] - 3s 172ms/step - loss: 0.0158 - val_loss: 0.0131\n",
      "Epoch 247/300\n",
      "16/17 [===========================>..] - ETA: 0s - loss: 0.0164"
     ]
    },
    {
     "name": "stderr",
     "output_type": "stream",
     "text": [
      "[codecarbon INFO @ 09:54:08] Energy consumed for RAM : 0.001964 kWh. RAM Power : 11.891499996185303 W\n",
      "[codecarbon INFO @ 09:54:08] Energy consumed for all CPUs : 0.007037 kWh. Total CPU Power : 42.5 W\n"
     ]
    },
    {
     "name": "stdout",
     "output_type": "stream",
     "text": [
      "17/17 [==============================] - 3s 172ms/step - loss: 0.0163 - val_loss: 0.0122\n",
      "Epoch 248/300\n",
      " 8/17 [=============>................] - ETA: 1s - loss: 0.0157"
     ]
    },
    {
     "name": "stderr",
     "output_type": "stream",
     "text": [
      "[codecarbon INFO @ 09:54:10] Energy consumed for all GPUs : 0.000701 kWh. Total GPU Power : 4.048032790778186 W\n",
      "[codecarbon INFO @ 09:54:10] 0.009701 kWh of electricity used since the beginning.\n"
     ]
    },
    {
     "name": "stdout",
     "output_type": "stream",
     "text": [
      "17/17 [==============================] - 3s 162ms/step - loss: 0.0162 - val_loss: 0.0134\n",
      "Epoch 249/300\n",
      "17/17 [==============================] - 3s 168ms/step - loss: 0.0161 - val_loss: 0.0135\n",
      "Epoch 250/300\n",
      "17/17 [==============================] - 3s 172ms/step - loss: 0.0161 - val_loss: 0.0124\n",
      "Epoch 251/300\n",
      " 7/17 [===========>..................] - ETA: 1s - loss: 0.0156"
     ]
    },
    {
     "name": "stderr",
     "output_type": "stream",
     "text": [
      "[codecarbon INFO @ 09:54:18] Energy consumed for RAM : 0.001992 kWh. RAM Power : 11.891499996185303 W\n",
      "[codecarbon INFO @ 09:54:18] Energy consumed for all CPUs : 0.007138 kWh. Total CPU Power : 42.5 W\n"
     ]
    },
    {
     "name": "stdout",
     "output_type": "stream",
     "text": [
      "17/17 [==============================] - ETA: 0s - loss: 0.0159"
     ]
    },
    {
     "name": "stderr",
     "output_type": "stream",
     "text": [
      "[codecarbon INFO @ 09:54:20] Energy consumed for all GPUs : 0.000711 kWh. Total GPU Power : 4.161635213380357 W\n",
      "[codecarbon INFO @ 09:54:20] 0.009841 kWh of electricity used since the beginning.\n"
     ]
    },
    {
     "name": "stdout",
     "output_type": "stream",
     "text": [
      "17/17 [==============================] - 3s 160ms/step - loss: 0.0159 - val_loss: 0.0136\n",
      "Epoch 252/300\n",
      "17/17 [==============================] - 3s 174ms/step - loss: 0.0156 - val_loss: 0.0124\n",
      "Epoch 253/300\n",
      "17/17 [==============================] - 3s 169ms/step - loss: 0.0155 - val_loss: 0.0122\n",
      "Epoch 254/300\n",
      "16/17 [===========================>..] - ETA: 0s - loss: 0.0158"
     ]
    },
    {
     "name": "stderr",
     "output_type": "stream",
     "text": [
      "[codecarbon INFO @ 09:54:28] Energy consumed for RAM : 0.002020 kWh. RAM Power : 11.891499996185303 W\n",
      "[codecarbon INFO @ 09:54:28] Energy consumed for all CPUs : 0.007240 kWh. Total CPU Power : 42.5 W\n"
     ]
    },
    {
     "name": "stdout",
     "output_type": "stream",
     "text": [
      "17/17 [==============================] - 3s 172ms/step - loss: 0.0158 - val_loss: 0.0123\n",
      "Epoch 255/300\n",
      " 8/17 [=============>................] - ETA: 1s - loss: 0.0163"
     ]
    },
    {
     "name": "stderr",
     "output_type": "stream",
     "text": [
      "[codecarbon INFO @ 09:54:30] Energy consumed for all GPUs : 0.000720 kWh. Total GPU Power : 4.018812785233028 W\n",
      "[codecarbon INFO @ 09:54:30] 0.009981 kWh of electricity used since the beginning.\n"
     ]
    },
    {
     "name": "stdout",
     "output_type": "stream",
     "text": [
      "17/17 [==============================] - 3s 157ms/step - loss: 0.0160 - val_loss: 0.0121\n",
      "Epoch 256/300\n",
      "17/17 [==============================] - 3s 177ms/step - loss: 0.0155 - val_loss: 0.0120\n",
      "Epoch 257/300\n",
      "17/17 [==============================] - 3s 179ms/step - loss: 0.0152 - val_loss: 0.0115\n",
      "Epoch 258/300\n",
      " 5/17 [=======>......................] - ETA: 1s - loss: 0.0146"
     ]
    },
    {
     "name": "stderr",
     "output_type": "stream",
     "text": [
      "[codecarbon INFO @ 09:54:38] Energy consumed for RAM : 0.002049 kWh. RAM Power : 11.891499996185303 W\n",
      "[codecarbon INFO @ 09:54:38] Energy consumed for all CPUs : 0.007342 kWh. Total CPU Power : 42.5 W\n"
     ]
    },
    {
     "name": "stdout",
     "output_type": "stream",
     "text": [
      "16/17 [===========================>..] - ETA: 0s - loss: 0.0148"
     ]
    },
    {
     "name": "stderr",
     "output_type": "stream",
     "text": [
      "[codecarbon INFO @ 09:54:40] Energy consumed for all GPUs : 0.000730 kWh. Total GPU Power : 4.1322333208939 W\n",
      "[codecarbon INFO @ 09:54:40] 0.010121 kWh of electricity used since the beginning.\n"
     ]
    },
    {
     "name": "stdout",
     "output_type": "stream",
     "text": [
      "17/17 [==============================] - ETA: 0s - loss: 0.0149"
     ]
    },
    {
     "name": "stderr",
     "output_type": "stream",
     "text": [
      "[codecarbon INFO @ 09:54:40] 0.000308 g.CO2eq/s mean an estimation of 9.705084346332926 kg.CO2eq/year\n"
     ]
    },
    {
     "name": "stdout",
     "output_type": "stream",
     "text": [
      "17/17 [==============================] - 3s 157ms/step - loss: 0.0149 - val_loss: 0.0126\n",
      "Epoch 259/300\n",
      "17/17 [==============================] - 3s 169ms/step - loss: 0.0151 - val_loss: 0.0121\n",
      "Epoch 260/300\n",
      "17/17 [==============================] - 3s 166ms/step - loss: 0.0151 - val_loss: 0.0121\n",
      "Epoch 261/300\n",
      "16/17 [===========================>..] - ETA: 0s - loss: 0.0145"
     ]
    },
    {
     "name": "stderr",
     "output_type": "stream",
     "text": [
      "[codecarbon INFO @ 09:54:48] Energy consumed for RAM : 0.002077 kWh. RAM Power : 11.891499996185303 W\n",
      "[codecarbon INFO @ 09:54:48] Energy consumed for all CPUs : 0.007443 kWh. Total CPU Power : 42.5 W\n"
     ]
    },
    {
     "name": "stdout",
     "output_type": "stream",
     "text": [
      "17/17 [==============================] - 3s 174ms/step - loss: 0.0147 - val_loss: 0.0128\n",
      "Epoch 262/300\n",
      " 7/17 [===========>..................] - ETA: 1s - loss: 0.0144"
     ]
    },
    {
     "name": "stderr",
     "output_type": "stream",
     "text": [
      "[codecarbon INFO @ 09:54:50] Energy consumed for all GPUs : 0.000740 kWh. Total GPU Power : 4.027441252186941 W\n",
      "[codecarbon INFO @ 09:54:50] 0.010261 kWh of electricity used since the beginning.\n"
     ]
    },
    {
     "name": "stdout",
     "output_type": "stream",
     "text": [
      "17/17 [==============================] - 3s 156ms/step - loss: 0.0147 - val_loss: 0.0120\n",
      "Epoch 263/300\n",
      "17/17 [==============================] - 3s 171ms/step - loss: 0.0146 - val_loss: 0.0117\n",
      "Epoch 264/300\n",
      "17/17 [==============================] - 3s 176ms/step - loss: 0.0148 - val_loss: 0.0119\n",
      "Epoch 265/300\n",
      " 7/17 [===========>..................] - ETA: 1s - loss: 0.0147"
     ]
    },
    {
     "name": "stderr",
     "output_type": "stream",
     "text": [
      "[codecarbon INFO @ 09:54:58] Energy consumed for RAM : 0.002106 kWh. RAM Power : 11.891499996185303 W\n",
      "[codecarbon INFO @ 09:54:58] Energy consumed for all CPUs : 0.007545 kWh. Total CPU Power : 42.5 W\n"
     ]
    },
    {
     "name": "stdout",
     "output_type": "stream",
     "text": [
      "17/17 [==============================] - ETA: 0s - loss: 0.0144"
     ]
    },
    {
     "name": "stderr",
     "output_type": "stream",
     "text": [
      "[codecarbon INFO @ 09:55:00] Energy consumed for all GPUs : 0.000750 kWh. Total GPU Power : 4.157531276512926 W\n",
      "[codecarbon INFO @ 09:55:00] 0.010401 kWh of electricity used since the beginning.\n"
     ]
    },
    {
     "name": "stdout",
     "output_type": "stream",
     "text": [
      "17/17 [==============================] - 3s 156ms/step - loss: 0.0144 - val_loss: 0.0121\n",
      "Epoch 266/300\n",
      "17/17 [==============================] - 3s 156ms/step - loss: 0.0145 - val_loss: 0.0112\n",
      "Epoch 267/300\n",
      "17/17 [==============================] - 3s 174ms/step - loss: 0.0146 - val_loss: 0.0116\n",
      "Epoch 268/300\n",
      "17/17 [==============================] - 2s 133ms/step - loss: 0.0149 - val_loss: 0.0121\n",
      "Epoch 269/300\n",
      " 3/17 [====>.........................] - ETA: 2s - loss: 0.0135"
     ]
    },
    {
     "name": "stderr",
     "output_type": "stream",
     "text": [
      "[codecarbon INFO @ 09:55:08] Energy consumed for RAM : 0.002134 kWh. RAM Power : 11.891499996185303 W\n",
      "[codecarbon INFO @ 09:55:08] Energy consumed for all CPUs : 0.007647 kWh. Total CPU Power : 42.5 W\n"
     ]
    },
    {
     "name": "stdout",
     "output_type": "stream",
     "text": [
      "15/17 [=========================>....] - ETA: 0s - loss: 0.0146"
     ]
    },
    {
     "name": "stderr",
     "output_type": "stream",
     "text": [
      "[codecarbon INFO @ 09:55:10] Energy consumed for all GPUs : 0.000760 kWh. Total GPU Power : 4.161808794810442 W\n",
      "[codecarbon INFO @ 09:55:10] 0.010541 kWh of electricity used since the beginning.\n"
     ]
    },
    {
     "name": "stdout",
     "output_type": "stream",
     "text": [
      "17/17 [==============================] - 2s 131ms/step - loss: 0.0146 - val_loss: 0.0118\n",
      "Epoch 270/300\n",
      "17/17 [==============================] - 3s 163ms/step - loss: 0.0146 - val_loss: 0.0118\n",
      "Epoch 271/300\n",
      "17/17 [==============================] - 3s 170ms/step - loss: 0.0142 - val_loss: 0.0114\n",
      "Epoch 272/300\n",
      "17/17 [==============================] - ETA: 0s - loss: 0.0146"
     ]
    },
    {
     "name": "stderr",
     "output_type": "stream",
     "text": [
      "[codecarbon INFO @ 09:55:18] Energy consumed for RAM : 0.002162 kWh. RAM Power : 11.891499996185303 W\n",
      "[codecarbon INFO @ 09:55:18] Energy consumed for all CPUs : 0.007749 kWh. Total CPU Power : 42.5 W\n"
     ]
    },
    {
     "name": "stdout",
     "output_type": "stream",
     "text": [
      "17/17 [==============================] - 3s 169ms/step - loss: 0.0146 - val_loss: 0.0121\n",
      "Epoch 273/300\n",
      " 8/17 [=============>................] - ETA: 1s - loss: 0.0142"
     ]
    },
    {
     "name": "stderr",
     "output_type": "stream",
     "text": [
      "[codecarbon INFO @ 09:55:20] Energy consumed for all GPUs : 0.000770 kWh. Total GPU Power : 4.161163382570276 W\n",
      "[codecarbon INFO @ 09:55:20] 0.010681 kWh of electricity used since the beginning.\n"
     ]
    },
    {
     "name": "stdout",
     "output_type": "stream",
     "text": [
      "17/17 [==============================] - 3s 158ms/step - loss: 0.0140 - val_loss: 0.0119\n",
      "Epoch 274/300\n",
      "17/17 [==============================] - 3s 164ms/step - loss: 0.0143 - val_loss: 0.0126\n",
      "Epoch 275/300\n",
      "17/17 [==============================] - 3s 164ms/step - loss: 0.0157 - val_loss: 0.0123\n",
      "Epoch 276/300\n",
      " 9/17 [==============>...............] - ETA: 1s - loss: 0.0149"
     ]
    },
    {
     "name": "stderr",
     "output_type": "stream",
     "text": [
      "[codecarbon INFO @ 09:55:28] Energy consumed for RAM : 0.002191 kWh. RAM Power : 11.891499996185303 W\n",
      "[codecarbon INFO @ 09:55:29] Energy consumed for all CPUs : 0.007850 kWh. Total CPU Power : 42.5 W\n"
     ]
    },
    {
     "name": "stdout",
     "output_type": "stream",
     "text": [
      "17/17 [==============================] - 3s 156ms/step - loss: 0.0149 - val_loss: 0.0118\n",
      "Epoch 277/300\n"
     ]
    },
    {
     "name": "stderr",
     "output_type": "stream",
     "text": [
      "[codecarbon INFO @ 09:55:30] Energy consumed for all GPUs : 0.000780 kWh. Total GPU Power : 4.198014211231936 W\n",
      "[codecarbon INFO @ 09:55:30] 0.010821 kWh of electricity used since the beginning.\n"
     ]
    },
    {
     "name": "stdout",
     "output_type": "stream",
     "text": [
      "17/17 [==============================] - 3s 167ms/step - loss: 0.0139 - val_loss: 0.0130\n",
      "Epoch 278/300\n",
      "17/17 [==============================] - 3s 148ms/step - loss: 0.0143 - val_loss: 0.0112\n",
      "Epoch 279/300\n",
      "17/17 [==============================] - 3s 170ms/step - loss: 0.0138 - val_loss: 0.0110\n",
      "Epoch 280/300\n",
      " 2/17 [==>...........................] - ETA: 2s - loss: 0.0134"
     ]
    },
    {
     "name": "stderr",
     "output_type": "stream",
     "text": [
      "[codecarbon INFO @ 09:55:38] Energy consumed for RAM : 0.002219 kWh. RAM Power : 11.891499996185303 W\n"
     ]
    },
    {
     "name": "stdout",
     "output_type": "stream",
     "text": [
      " 3/17 [====>.........................] - ETA: 2s - loss: 0.0137"
     ]
    },
    {
     "name": "stderr",
     "output_type": "stream",
     "text": [
      "[codecarbon INFO @ 09:55:39] Energy consumed for all CPUs : 0.007952 kWh. Total CPU Power : 42.5 W\n"
     ]
    },
    {
     "name": "stdout",
     "output_type": "stream",
     "text": [
      "13/17 [=====================>........] - ETA: 0s - loss: 0.0135"
     ]
    },
    {
     "name": "stderr",
     "output_type": "stream",
     "text": [
      "[codecarbon INFO @ 09:55:40] Energy consumed for all GPUs : 0.000791 kWh. Total GPU Power : 4.466747232700219 W\n",
      "[codecarbon INFO @ 09:55:40] 0.010962 kWh of electricity used since the beginning.\n"
     ]
    },
    {
     "name": "stdout",
     "output_type": "stream",
     "text": [
      "17/17 [==============================] - 2s 145ms/step - loss: 0.0135 - val_loss: 0.0114\n",
      "Epoch 281/300\n",
      "17/17 [==============================] - 2s 134ms/step - loss: 0.0134 - val_loss: 0.0110\n",
      "Epoch 282/300\n",
      "17/17 [==============================] - 3s 149ms/step - loss: 0.0144 - val_loss: 0.0119\n",
      "Epoch 283/300\n",
      "17/17 [==============================] - 2s 135ms/step - loss: 0.0141 - val_loss: 0.0115\n",
      "Epoch 284/300\n",
      " 7/17 [===========>..................] - ETA: 1s - loss: 0.0139"
     ]
    },
    {
     "name": "stderr",
     "output_type": "stream",
     "text": [
      "[codecarbon INFO @ 09:55:48] Energy consumed for RAM : 0.002247 kWh. RAM Power : 11.891499996185303 W\n",
      "[codecarbon INFO @ 09:55:49] Energy consumed for all CPUs : 0.008054 kWh. Total CPU Power : 42.5 W\n"
     ]
    },
    {
     "name": "stdout",
     "output_type": "stream",
     "text": [
      "17/17 [==============================] - ETA: 0s - loss: 0.0137"
     ]
    },
    {
     "name": "stderr",
     "output_type": "stream",
     "text": [
      "[codecarbon INFO @ 09:55:50] Energy consumed for all GPUs : 0.000801 kWh. Total GPU Power : 4.188309443881608 W\n",
      "[codecarbon INFO @ 09:55:50] 0.011102 kWh of electricity used since the beginning.\n"
     ]
    },
    {
     "name": "stdout",
     "output_type": "stream",
     "text": [
      "17/17 [==============================] - 2s 145ms/step - loss: 0.0137 - val_loss: 0.0113\n",
      "Epoch 285/300\n",
      "17/17 [==============================] - 3s 166ms/step - loss: 0.0137 - val_loss: 0.0114\n",
      "Epoch 286/300\n",
      "17/17 [==============================] - 3s 164ms/step - loss: 0.0132 - val_loss: 0.0111\n",
      "Epoch 287/300\n",
      "17/17 [==============================] - ETA: 0s - loss: 0.0134"
     ]
    },
    {
     "name": "stderr",
     "output_type": "stream",
     "text": [
      "[codecarbon INFO @ 09:55:59] Energy consumed for RAM : 0.002276 kWh. RAM Power : 11.891499996185303 W\n",
      "[codecarbon INFO @ 09:55:59] Energy consumed for all CPUs : 0.008155 kWh. Total CPU Power : 42.5 W\n"
     ]
    },
    {
     "name": "stdout",
     "output_type": "stream",
     "text": [
      "17/17 [==============================] - 3s 178ms/step - loss: 0.0134 - val_loss: 0.0109\n",
      "Epoch 288/300\n",
      " 8/17 [=============>................] - ETA: 1s - loss: 0.0132"
     ]
    },
    {
     "name": "stderr",
     "output_type": "stream",
     "text": [
      "[codecarbon INFO @ 09:56:00] Energy consumed for all GPUs : 0.000811 kWh. Total GPU Power : 4.309805095586064 W\n",
      "[codecarbon INFO @ 09:56:00] 0.011242 kWh of electricity used since the beginning.\n"
     ]
    },
    {
     "name": "stdout",
     "output_type": "stream",
     "text": [
      " 9/17 [==============>...............] - ETA: 1s - loss: 0.0130"
     ]
    },
    {
     "name": "stderr",
     "output_type": "stream",
     "text": [
      "[codecarbon INFO @ 09:56:00] 0.000308 g.CO2eq/s mean an estimation of 9.716418044078996 kg.CO2eq/year\n"
     ]
    },
    {
     "name": "stdout",
     "output_type": "stream",
     "text": [
      "17/17 [==============================] - 3s 157ms/step - loss: 0.0131 - val_loss: 0.0119\n",
      "Epoch 289/300\n",
      "17/17 [==============================] - 3s 172ms/step - loss: 0.0132 - val_loss: 0.0115\n",
      "Epoch 290/300\n",
      "17/17 [==============================] - 3s 173ms/step - loss: 0.0132 - val_loss: 0.0114\n",
      "Epoch 291/300\n",
      " 7/17 [===========>..................] - ETA: 1s - loss: 0.0132"
     ]
    },
    {
     "name": "stderr",
     "output_type": "stream",
     "text": [
      "[codecarbon INFO @ 09:56:09] Energy consumed for RAM : 0.002304 kWh. RAM Power : 11.891499996185303 W\n",
      "[codecarbon INFO @ 09:56:09] Energy consumed for all CPUs : 0.008257 kWh. Total CPU Power : 42.5 W\n"
     ]
    },
    {
     "name": "stdout",
     "output_type": "stream",
     "text": [
      "17/17 [==============================] - 3s 155ms/step - loss: 0.0136 - val_loss: 0.0120\n",
      "Epoch 292/300\n"
     ]
    },
    {
     "name": "stderr",
     "output_type": "stream",
     "text": [
      "[codecarbon INFO @ 09:56:10] Energy consumed for all GPUs : 0.000822 kWh. Total GPU Power : 4.641755393750263 W\n",
      "[codecarbon INFO @ 09:56:10] 0.011383 kWh of electricity used since the beginning.\n"
     ]
    },
    {
     "name": "stdout",
     "output_type": "stream",
     "text": [
      "17/17 [==============================] - 3s 161ms/step - loss: 0.0138 - val_loss: 0.0120\n",
      "Epoch 293/300\n",
      "17/17 [==============================] - 2s 144ms/step - loss: 0.0129 - val_loss: 0.0118\n",
      "Epoch 294/300\n",
      "17/17 [==============================] - 3s 169ms/step - loss: 0.0134 - val_loss: 0.0116\n",
      "Epoch 295/300\n",
      " 3/17 [====>.........................] - ETA: 2s - loss: 0.0139"
     ]
    },
    {
     "name": "stderr",
     "output_type": "stream",
     "text": [
      "[codecarbon INFO @ 09:56:19] Energy consumed for RAM : 0.002333 kWh. RAM Power : 11.891499996185303 W\n",
      "[codecarbon INFO @ 09:56:19] Energy consumed for all CPUs : 0.008359 kWh. Total CPU Power : 42.5 W\n"
     ]
    },
    {
     "name": "stdout",
     "output_type": "stream",
     "text": [
      "14/17 [=======================>......] - ETA: 0s - loss: 0.0141"
     ]
    },
    {
     "name": "stderr",
     "output_type": "stream",
     "text": [
      "[codecarbon INFO @ 09:56:20] Energy consumed for all GPUs : 0.000832 kWh. Total GPU Power : 4.156993237878365 W\n",
      "[codecarbon INFO @ 09:56:20] 0.011523 kWh of electricity used since the beginning.\n"
     ]
    },
    {
     "name": "stdout",
     "output_type": "stream",
     "text": [
      "17/17 [==============================] - 3s 150ms/step - loss: 0.0138 - val_loss: 0.0106\n",
      "Epoch 296/300\n",
      "17/17 [==============================] - 3s 163ms/step - loss: 0.0131 - val_loss: 0.0111\n",
      "Epoch 297/300\n",
      "17/17 [==============================] - 3s 162ms/step - loss: 0.0131 - val_loss: 0.0112\n",
      "Epoch 298/300\n",
      "16/17 [===========================>..] - ETA: 0s - loss: 0.0133"
     ]
    },
    {
     "name": "stderr",
     "output_type": "stream",
     "text": [
      "[codecarbon INFO @ 09:56:29] Energy consumed for RAM : 0.002361 kWh. RAM Power : 11.891499996185303 W\n",
      "[codecarbon INFO @ 09:56:29] Energy consumed for all CPUs : 0.008460 kWh. Total CPU Power : 42.5 W\n"
     ]
    },
    {
     "name": "stdout",
     "output_type": "stream",
     "text": [
      "17/17 [==============================] - 3s 164ms/step - loss: 0.0133 - val_loss: 0.0111\n",
      "Epoch 299/300\n",
      " 8/17 [=============>................] - ETA: 1s - loss: 0.0130"
     ]
    },
    {
     "name": "stderr",
     "output_type": "stream",
     "text": [
      "[codecarbon INFO @ 09:56:30] Energy consumed for all GPUs : 0.000842 kWh. Total GPU Power : 4.030496701568166 W\n",
      "[codecarbon INFO @ 09:56:30] 0.011663 kWh of electricity used since the beginning.\n"
     ]
    },
    {
     "name": "stdout",
     "output_type": "stream",
     "text": [
      "17/17 [==============================] - 3s 149ms/step - loss: 0.0132 - val_loss: 0.0107\n",
      "Epoch 300/300\n",
      "17/17 [==============================] - 3s 161ms/step - loss: 0.0127 - val_loss: 0.0113\n"
     ]
    },
    {
     "name": "stderr",
     "output_type": "stream",
     "text": [
      "[codecarbon INFO @ 09:56:34] Energy consumed for RAM : 0.002375 kWh. RAM Power : 11.891499996185303 W\n",
      "[codecarbon INFO @ 09:56:34] Energy consumed for all CPUs : 0.008510 kWh. Total CPU Power : 42.5 W\n",
      "[codecarbon INFO @ 09:56:35] Energy consumed for all GPUs : 0.000851 kWh. Total GPU Power : 8.181594725616439 W\n",
      "[codecarbon INFO @ 09:56:35] 0.011736 kWh of electricity used since the beginning.\n"
     ]
    }
   ],
   "source": [
    "tracker_conv_lstm.start()\n",
    "try:\n",
    "    history_conv_lstm, training_duration_conv_lstm = start_training_conv_lstm()\n",
    "finally:\n",
    "    tracker_conv_lstm.stop()"
   ]
  },
  {
   "cell_type": "markdown",
   "id": "2cc986f0-59cb-406e-bf20-620c9356725c",
   "metadata": {},
   "source": [
    "#### Ploting the loss"
   ]
  },
  {
   "cell_type": "code",
   "execution_count": 21,
   "id": "5e629435-8092-46ec-9073-2c952de29b36",
   "metadata": {},
   "outputs": [
    {
     "data": {
      "image/png": "[encoded data removed]",
      "text/plain": [
       "<Figure size 2000x800 with 1 Axes>"
      ]
     },
     "metadata": {},
     "output_type": "display_data"
    }
   ],
   "source": [
    "plot_loss(history_conv_lstm)"
   ]
  },
  {
   "cell_type": "code",
   "execution_count": 22,
   "id": "5b30f12f-7690-4d97-bb47-2d4ab15f7b61",
   "metadata": {},
   "outputs": [
    {
     "name": "stdout",
     "output_type": "stream",
     "text": [
      "34/34 [==============================] - 3s 36ms/step\n"
     ]
    },
    {
     "data": {
      "text/plain": [
       "{'mae': 0.008615133, 'mse': 0.00017426479, 'r2': 0.8442761301994324}"
      ]
     },
     "execution_count": 22,
     "metadata": {},
     "output_type": "execute_result"
    }
   ],
   "source": [
    "conv_lstm_model = tf.keras.models.load_model(\n",
    "    \"model_experiments/model_conv_lstm.keras\")\n",
    "\n",
    "model_preds = make_preds(conv_lstm_model, x_test_conv_lstm)\n",
    "model_results = evaluate_preds(y_true=tf.squeeze(y_test),\n",
    "                               y_pred=model_preds)\n",
    "\n",
    "model_results"
   ]
  },
  {
   "cell_type": "markdown",
   "id": "49564177-2a5b-4e3e-9e4d-cdfea775bb62",
   "metadata": {},
   "source": [
    "#### Plot predictions"
   ]
  },
  {
   "cell_type": "code",
   "execution_count": 23,
   "id": "252095b0-23c1-4b8d-9f9f-38fbc0e32ce3",
   "metadata": {},
   "outputs": [
    {
     "data": {
      "image/png": "[encoded data removed]",
      "text/plain": [
       "<Figure size 2000x1600 with 1 Axes>"
      ]
     },
     "metadata": {},
     "output_type": "display_data"
    }
   ],
   "source": [
    "import numpy as np\n",
    "\n",
    "start_offset = 1\n",
    "end_offset = 30\n",
    "plt.figure(figsize=(20, 16))\n",
    "\n",
    "\n",
    "plot_time_series(\n",
    "    timesteps=np.arange(x_test.shape[0]),\n",
    "    values=y_test,\n",
    "    start=start_offset,\n",
    "    end=end_offset,\n",
    "    format='-*',\n",
    "    label=\"Test data\"\n",
    ")\n",
    "\n",
    "plot_time_series(\n",
    "    timesteps=np.arange(x_test.shape[0]),\n",
    "    values=model_preds,\n",
    "    start=start_offset,\n",
    "    end=end_offset,\n",
    "    format=\"-\",\n",
    "    label=\"ConvLSTM predictions\"\n",
    ")"
   ]
  },
  {
   "cell_type": "code",
   "execution_count": 24,
   "id": "a11403de-2473-47e2-8197-79a7fb1ba777",
   "metadata": {},
   "outputs": [
    {
     "name": "stdout",
     "output_type": "stream",
     "text": [
      "\n",
      " Génération 1\n",
      " Population :\n",
      "  ➤ Individu 1: [128, 1, 'relu', 128, 0.0005157771825206476] ➤ MAE = 0.0275\n",
      "  ➤ Individu 2: [128, 1, 'tanh', 64, 0.005313887369782282] ➤ MAE = 0.0271\n",
      "  ➤ Individu 3: [32, 1, 'tanh', 32, 0.0015474189477487459] ➤ MAE = 0.0270\n",
      "  ➤ Individu 4: [64, 1, 'relu', 128, 0.005298990478100931] ➤ MAE = 0.0276\n",
      "  ➤ Individu 5: [64, 1, 'tanh', 32, 0.0023261665187169207] ➤ MAE = 0.0268\n",
      "  ➤ Individu 6: [128, 1, 'relu', 64, 0.005123200907660045] ➤ MAE = 0.0269\n",
      "  ➤ Individu 7: [128, 1, 'tanh', 128, 0.005961097935283137] ➤ MAE = 0.0275\n",
      "  ➤ Individu 8: [64, 1, 'tanh', 128, 0.004315696513243673] ➤ MAE = 0.0269\n",
      "  ➤ Individu 9: [64, 1, 'tanh', 32, 0.00392859648929962] ➤ MAE = 0.0281\n",
      "  ➤ Individu 10: [32, 1, 'relu', 32, 0.004695869009413298] ➤ MAE = 0.0282\n",
      "\n",
      " Génération 2\n",
      " Population :\n",
      "  ➤ Individu 1: [64, 1, 'relu', 128, 0.0023261665187169207] ➤ MAE = 0.0274\n",
      "  ➤ Individu 2: [128, 1, 'tanh', 32, 0.0005157771825206476] ➤ MAE = 0.0273\n",
      "  ➤ Individu 3: [128, 1, 'tanh', 128, 0.004315696513243673] ➤ MAE = 0.0269\n",
      "  ➤ Individu 4: [64, 1, 'relu', 64, 0.005123200907660045] ➤ MAE = 0.0273\n",
      "  ➤ Individu 5: [32, 1, 'tanh', 33, 0.0026392025381699654] ➤ MAE = 0.0264\n",
      "  ➤ Individu 6: [64, 1, 'tanh', 128, 0.004315696513243673] ➤ MAE = 0.0269\n",
      "  ➤ Individu 7: [64, 1, 'tanh', 32, 0.0023261665187169207] ➤ MAE = 0.0265\n",
      "  ➤ Individu 8: [64, 1, 'tanh', 32, 0.0037191635336601974] ➤ MAE = 0.0276\n",
      "  ➤ Individu 9: [64, 1, 'tanh', 128, 0.004315696513243673] ➤ MAE = 0.0297\n",
      "  ➤ Individu 10: [128, 1, 'relu', 64, 0.005123200907660045] ➤ MAE = 0.0283\n",
      "\n",
      " Génération 3\n",
      " Population :\n",
      "  ➤ Individu 1: [32, 1, 'tanh', 33, 0.0026392025381699654] ➤ MAE = 0.0266\n",
      "  ➤ Individu 2: [32, 1, 'tanh', 33, 0.0026392025381699654] ➤ MAE = 0.0277\n",
      "  ➤ Individu 3: [32, 1, 'tanh', 33, 0.0026392025381699654] ➤ MAE = 0.0271\n",
      "  ➤ Individu 4: [32, 1, 'tanh', 33, 0.0026392025381699654] ➤ MAE = 0.0277\n",
      "  ➤ Individu 5: [64, 1, 'tanh', 32, 0.0023261665187169207] ➤ MAE = 0.0272\n",
      "  ➤ Individu 6: [128, 1, 'tanh', 128, 0.004315696513243673] ➤ MAE = 0.0272\n",
      "  ➤ Individu 7: [64, 1, 'tanh', 128, 0.004315696513243673] ➤ MAE = 0.0261\n",
      "  ➤ Individu 8: [32, 1, 'tanh', 33, 0.0026392025381699654] ➤ MAE = 0.0272\n",
      "  ➤ Individu 9: [32, 1, 'tanh', 33, 0.0026392025381699654] ➤ MAE = 0.0273\n",
      "  ➤ Individu 10: [128, 1, 'tanh', 32, 0.0005157771825206476] ➤ MAE = 0.0280\n",
      "\n",
      " Génération 4\n",
      " Population :\n",
      "  ➤ Individu 1: [128, 1, 'tanh', 128, 0.004315696513243673] ➤ MAE = 0.0274\n",
      "  ➤ Individu 2: [128, 1, 'tanh', 128, 0.004315696513243673] ➤ MAE = 0.0279\n",
      "  ➤ Individu 3: [64, 1, 'tanh', 128, 0.004315696513243673] ➤ MAE = 0.0268\n",
      "  ➤ Individu 4: [32, 1, 'tanh', 33, 0.0026392025381699654] ➤ MAE = 0.0273\n",
      "  ➤ Individu 5: [32, 1, 'tanh', 33, 0.0026392025381699654] ➤ MAE = 0.0276\n",
      "  ➤ Individu 6: [128, 1, 'tanh', 128, 0.004315696513243673] ➤ MAE = 0.0261\n",
      "  ➤ Individu 7: [64, 1, 'relu', 128, 0.004315696513243673] ➤ MAE = 0.0269\n",
      "  ➤ Individu 8: [64, 1, 'tanh', 128, 0.004315696513243673] ➤ MAE = 0.0274\n",
      "  ➤ Individu 9: [64, 1, 'tanh', 128, 0.0026392025381699654] ➤ MAE = 0.0280\n",
      "  ➤ Individu 10: [32, 1, 'tanh', 33, 0.004315696513243673] ➤ MAE = 0.0305\n",
      "\n",
      " Meilleurs hyperparamètres globaux trouvés : [64, 1, 'tanh', 128, 0.004315696513243673]\n",
      "Epoch 1/300\n",
      "17/17 [==============================] - 17s 260ms/step - loss: 0.0982 - val_loss: 0.0286\n",
      "Epoch 2/300\n",
      "17/17 [==============================] - 3s 160ms/step - loss: 0.0435 - val_loss: 0.0278\n",
      "Epoch 3/300\n",
      "17/17 [==============================] - 3s 164ms/step - loss: 0.0405 - val_loss: 0.0275\n",
      "Epoch 4/300\n",
      "17/17 [==============================] - 3s 158ms/step - loss: 0.0394 - val_loss: 0.0275\n",
      "Epoch 5/300\n",
      "17/17 [==============================] - 3s 157ms/step - loss: 0.0382 - val_loss: 0.0268\n",
      "Epoch 6/300\n",
      "17/17 [==============================] - 3s 159ms/step - loss: 0.0378 - val_loss: 0.0283\n",
      "Epoch 7/300\n",
      "17/17 [==============================] - 3s 162ms/step - loss: 0.0373 - val_loss: 0.0278\n",
      "Epoch 8/300\n",
      "17/17 [==============================] - 3s 160ms/step - loss: 0.0371 - val_loss: 0.0265\n",
      "Epoch 9/300\n",
      "17/17 [==============================] - 3s 158ms/step - loss: 0.0365 - val_loss: 0.0253\n",
      "Epoch 10/300\n",
      "17/17 [==============================] - 3s 162ms/step - loss: 0.0350 - val_loss: 0.0246\n",
      "Epoch 11/300\n",
      "17/17 [==============================] - 3s 162ms/step - loss: 0.0347 - val_loss: 0.0265\n",
      "Epoch 12/300\n",
      "17/17 [==============================] - 3s 161ms/step - loss: 0.0359 - val_loss: 0.0250\n",
      "Epoch 13/300\n",
      "17/17 [==============================] - 3s 157ms/step - loss: 0.0352 - val_loss: 0.0245\n",
      "Epoch 14/300\n",
      "17/17 [==============================] - 3s 163ms/step - loss: 0.0348 - val_loss: 0.0243\n",
      "Epoch 15/300\n",
      "17/17 [==============================] - 3s 160ms/step - loss: 0.0347 - val_loss: 0.0256\n",
      "Epoch 16/300\n",
      "17/17 [==============================] - 3s 160ms/step - loss: 0.0339 - val_loss: 0.0237\n",
      "Epoch 17/300\n",
      "17/17 [==============================] - 3s 162ms/step - loss: 0.0328 - val_loss: 0.0266\n",
      "Epoch 18/300\n",
      "17/17 [==============================] - 3s 158ms/step - loss: 0.0324 - val_loss: 0.0242\n",
      "Epoch 19/300\n",
      "17/17 [==============================] - 3s 161ms/step - loss: 0.0340 - val_loss: 0.0288\n",
      "Epoch 20/300\n",
      "17/17 [==============================] - 3s 152ms/step - loss: 0.0323 - val_loss: 0.0278\n",
      "Epoch 21/300\n",
      "17/17 [==============================] - 3s 162ms/step - loss: 0.0325 - val_loss: 0.0241\n",
      "Epoch 22/300\n",
      "17/17 [==============================] - 3s 162ms/step - loss: 0.0313 - val_loss: 0.0231\n",
      "Epoch 23/300\n",
      "17/17 [==============================] - 3s 161ms/step - loss: 0.0317 - val_loss: 0.0228\n",
      "Epoch 24/300\n",
      "17/17 [==============================] - 3s 161ms/step - loss: 0.0311 - val_loss: 0.0224\n",
      "Epoch 25/300\n",
      "17/17 [==============================] - 3s 164ms/step - loss: 0.0308 - val_loss: 0.0216\n",
      "Epoch 26/300\n",
      "17/17 [==============================] - 3s 161ms/step - loss: 0.0311 - val_loss: 0.0218\n",
      "Epoch 27/300\n",
      "17/17 [==============================] - 3s 159ms/step - loss: 0.0308 - val_loss: 0.0218\n",
      "Epoch 28/300\n",
      "17/17 [==============================] - 3s 162ms/step - loss: 0.0319 - val_loss: 0.0248\n",
      "Epoch 29/300\n",
      "17/17 [==============================] - 3s 162ms/step - loss: 0.0308 - val_loss: 0.0222\n",
      "Epoch 30/300\n",
      "17/17 [==============================] - 3s 160ms/step - loss: 0.0303 - val_loss: 0.0221\n",
      "Epoch 31/300\n",
      "17/17 [==============================] - 3s 161ms/step - loss: 0.0302 - val_loss: 0.0204\n",
      "Epoch 32/300\n",
      "17/17 [==============================] - 3s 160ms/step - loss: 0.0304 - val_loss: 0.0220\n",
      "Epoch 33/300\n",
      "17/17 [==============================] - 3s 162ms/step - loss: 0.0304 - val_loss: 0.0213\n",
      "Epoch 34/300\n",
      "17/17 [==============================] - 3s 161ms/step - loss: 0.0301 - val_loss: 0.0214\n",
      "Epoch 35/300\n",
      "17/17 [==============================] - 3s 159ms/step - loss: 0.0296 - val_loss: 0.0203\n",
      "Epoch 36/300\n",
      "17/17 [==============================] - 3s 163ms/step - loss: 0.0299 - val_loss: 0.0231\n",
      "Epoch 37/300\n",
      "17/17 [==============================] - 3s 162ms/step - loss: 0.0289 - val_loss: 0.0212\n",
      "Epoch 38/300\n",
      "17/17 [==============================] - 3s 164ms/step - loss: 0.0294 - val_loss: 0.0202\n",
      "Epoch 39/300\n",
      "17/17 [==============================] - 3s 163ms/step - loss: 0.0294 - val_loss: 0.0199\n",
      "Epoch 40/300\n",
      "17/17 [==============================] - 3s 161ms/step - loss: 0.0292 - val_loss: 0.0226\n",
      "Epoch 41/300\n",
      "17/17 [==============================] - 2s 144ms/step - loss: 0.0291 - val_loss: 0.0203\n",
      "Epoch 42/300\n",
      "17/17 [==============================] - 2s 138ms/step - loss: 0.0293 - val_loss: 0.0197\n",
      "Epoch 43/300\n",
      "17/17 [==============================] - 3s 158ms/step - loss: 0.0302 - val_loss: 0.0208\n",
      "Epoch 44/300\n",
      "17/17 [==============================] - 3s 159ms/step - loss: 0.0290 - val_loss: 0.0202\n",
      "Epoch 45/300\n",
      "17/17 [==============================] - 3s 160ms/step - loss: 0.0288 - val_loss: 0.0199\n",
      "Epoch 46/300\n",
      "17/17 [==============================] - 3s 159ms/step - loss: 0.0281 - val_loss: 0.0195\n",
      "Epoch 47/300\n",
      "17/17 [==============================] - 3s 162ms/step - loss: 0.0282 - val_loss: 0.0208\n",
      "Epoch 48/300\n",
      "17/17 [==============================] - 3s 162ms/step - loss: 0.0285 - val_loss: 0.0197\n",
      "Epoch 49/300\n",
      "17/17 [==============================] - 3s 159ms/step - loss: 0.0281 - val_loss: 0.0190\n",
      "Epoch 50/300\n",
      "17/17 [==============================] - 3s 163ms/step - loss: 0.0280 - val_loss: 0.0191\n",
      "Epoch 51/300\n",
      "17/17 [==============================] - 3s 161ms/step - loss: 0.0274 - val_loss: 0.0199\n",
      "Epoch 52/300\n",
      "17/17 [==============================] - 3s 161ms/step - loss: 0.0276 - val_loss: 0.0188\n",
      "Epoch 53/300\n",
      "17/17 [==============================] - 3s 162ms/step - loss: 0.0271 - val_loss: 0.0207\n",
      "Epoch 54/300\n",
      "17/17 [==============================] - 3s 163ms/step - loss: 0.0272 - val_loss: 0.0194\n",
      "Epoch 55/300\n",
      "17/17 [==============================] - 3s 159ms/step - loss: 0.0274 - val_loss: 0.0220\n",
      "Epoch 56/300\n",
      "17/17 [==============================] - 3s 162ms/step - loss: 0.0276 - val_loss: 0.0228\n",
      "Epoch 57/300\n",
      "17/17 [==============================] - 3s 150ms/step - loss: 0.0275 - val_loss: 0.0193\n",
      "Epoch 58/300\n",
      "17/17 [==============================] - 3s 162ms/step - loss: 0.0274 - val_loss: 0.0195\n",
      "Epoch 59/300\n",
      "17/17 [==============================] - 3s 161ms/step - loss: 0.0263 - val_loss: 0.0192\n",
      "Epoch 60/300\n",
      "17/17 [==============================] - 3s 158ms/step - loss: 0.0265 - val_loss: 0.0185\n",
      "Epoch 61/300\n",
      "17/17 [==============================] - 3s 148ms/step - loss: 0.0271 - val_loss: 0.0183\n",
      "Epoch 62/300\n",
      "17/17 [==============================] - 2s 127ms/step - loss: 0.0272 - val_loss: 0.0181\n",
      "Epoch 63/300\n",
      "17/17 [==============================] - 2s 135ms/step - loss: 0.0269 - val_loss: 0.0189\n",
      "Epoch 64/300\n",
      "17/17 [==============================] - 2s 146ms/step - loss: 0.0263 - val_loss: 0.0191\n",
      "Epoch 65/300\n",
      "17/17 [==============================] - 3s 155ms/step - loss: 0.0258 - val_loss: 0.0176\n",
      "Epoch 66/300\n",
      "17/17 [==============================] - 3s 159ms/step - loss: 0.0255 - val_loss: 0.0172\n",
      "Epoch 67/300\n",
      "17/17 [==============================] - 2s 147ms/step - loss: 0.0253 - val_loss: 0.0176\n",
      "Epoch 68/300\n",
      "17/17 [==============================] - 3s 155ms/step - loss: 0.0253 - val_loss: 0.0191\n",
      "Epoch 69/300\n",
      "17/17 [==============================] - 3s 160ms/step - loss: 0.0266 - val_loss: 0.0175\n",
      "Epoch 70/300\n",
      "17/17 [==============================] - 3s 160ms/step - loss: 0.0257 - val_loss: 0.0193\n",
      "Epoch 71/300\n",
      "17/17 [==============================] - 3s 160ms/step - loss: 0.0250 - val_loss: 0.0169\n",
      "Epoch 72/300\n",
      "17/17 [==============================] - 3s 161ms/step - loss: 0.0246 - val_loss: 0.0178\n",
      "Epoch 73/300\n",
      "17/17 [==============================] - 3s 160ms/step - loss: 0.0244 - val_loss: 0.0188\n",
      "Epoch 74/300\n",
      "17/17 [==============================] - 3s 160ms/step - loss: 0.0252 - val_loss: 0.0174\n",
      "Epoch 75/300\n",
      "17/17 [==============================] - 3s 157ms/step - loss: 0.0258 - val_loss: 0.0176\n",
      "Epoch 76/300\n",
      "17/17 [==============================] - 3s 160ms/step - loss: 0.0257 - val_loss: 0.0171\n",
      "Epoch 77/300\n",
      "17/17 [==============================] - 3s 159ms/step - loss: 0.0245 - val_loss: 0.0171\n",
      "Epoch 78/300\n",
      "17/17 [==============================] - 3s 156ms/step - loss: 0.0244 - val_loss: 0.0173\n",
      "Epoch 79/300\n",
      "17/17 [==============================] - 3s 160ms/step - loss: 0.0239 - val_loss: 0.0162\n",
      "Epoch 80/300\n",
      "17/17 [==============================] - 3s 159ms/step - loss: 0.0235 - val_loss: 0.0158\n",
      "Epoch 81/300\n",
      "17/17 [==============================] - 3s 160ms/step - loss: 0.0234 - val_loss: 0.0153\n",
      "Epoch 82/300\n",
      "17/17 [==============================] - 3s 159ms/step - loss: 0.0231 - val_loss: 0.0158\n",
      "Epoch 83/300\n",
      "17/17 [==============================] - 3s 158ms/step - loss: 0.0239 - val_loss: 0.0163\n",
      "Epoch 84/300\n",
      "17/17 [==============================] - 3s 158ms/step - loss: 0.0232 - val_loss: 0.0152\n",
      "Epoch 85/300\n",
      "17/17 [==============================] - 3s 156ms/step - loss: 0.0230 - val_loss: 0.0160\n",
      "Epoch 86/300\n",
      "17/17 [==============================] - 3s 160ms/step - loss: 0.0235 - val_loss: 0.0156\n",
      "Epoch 87/300\n",
      "17/17 [==============================] - 3s 158ms/step - loss: 0.0239 - val_loss: 0.0171\n",
      "Epoch 88/300\n",
      "17/17 [==============================] - 3s 161ms/step - loss: 0.0230 - val_loss: 0.0166\n",
      "Epoch 89/300\n",
      "17/17 [==============================] - 3s 159ms/step - loss: 0.0226 - val_loss: 0.0150\n",
      "Epoch 90/300\n",
      "17/17 [==============================] - 3s 160ms/step - loss: 0.0229 - val_loss: 0.0152\n",
      "Epoch 91/300\n",
      "17/17 [==============================] - 3s 160ms/step - loss: 0.0226 - val_loss: 0.0153\n",
      "Epoch 92/300\n",
      "17/17 [==============================] - 3s 159ms/step - loss: 0.0228 - val_loss: 0.0161\n",
      "Epoch 93/300\n",
      "17/17 [==============================] - 3s 161ms/step - loss: 0.0228 - val_loss: 0.0159\n",
      "Epoch 94/300\n",
      "17/17 [==============================] - 3s 161ms/step - loss: 0.0224 - val_loss: 0.0159\n",
      "Epoch 95/300\n",
      "17/17 [==============================] - 3s 160ms/step - loss: 0.0218 - val_loss: 0.0146\n",
      "Epoch 96/300\n",
      "17/17 [==============================] - 3s 153ms/step - loss: 0.0220 - val_loss: 0.0147\n",
      "Epoch 97/300\n",
      "17/17 [==============================] - 3s 159ms/step - loss: 0.0214 - val_loss: 0.0142\n",
      "Epoch 98/300\n",
      "17/17 [==============================] - 3s 158ms/step - loss: 0.0209 - val_loss: 0.0138\n",
      "Epoch 99/300\n",
      "17/17 [==============================] - 3s 160ms/step - loss: 0.0209 - val_loss: 0.0144\n",
      "Epoch 100/300\n",
      "17/17 [==============================] - 3s 160ms/step - loss: 0.0221 - val_loss: 0.0158\n",
      "Epoch 101/300\n",
      "17/17 [==============================] - 3s 161ms/step - loss: 0.0214 - val_loss: 0.0156\n",
      "Epoch 102/300\n",
      "17/17 [==============================] - 3s 161ms/step - loss: 0.0207 - val_loss: 0.0141\n",
      "Epoch 103/300\n",
      "17/17 [==============================] - 3s 158ms/step - loss: 0.0202 - val_loss: 0.0133\n",
      "Epoch 104/300\n",
      "17/17 [==============================] - 3s 158ms/step - loss: 0.0208 - val_loss: 0.0141\n",
      "Epoch 105/300\n",
      "17/17 [==============================] - 3s 156ms/step - loss: 0.0199 - val_loss: 0.0138\n",
      "Epoch 106/300\n",
      "17/17 [==============================] - 3s 159ms/step - loss: 0.0204 - val_loss: 0.0136\n",
      "Epoch 107/300\n",
      "17/17 [==============================] - 3s 159ms/step - loss: 0.0202 - val_loss: 0.0138\n",
      "Epoch 108/300\n",
      "17/17 [==============================] - 3s 159ms/step - loss: 0.0197 - val_loss: 0.0131\n",
      "Epoch 109/300\n",
      "17/17 [==============================] - 3s 159ms/step - loss: 0.0191 - val_loss: 0.0131\n",
      "Epoch 110/300\n",
      "17/17 [==============================] - 3s 157ms/step - loss: 0.0195 - val_loss: 0.0136\n",
      "Epoch 111/300\n",
      "17/17 [==============================] - 3s 158ms/step - loss: 0.0196 - val_loss: 0.0128\n",
      "Epoch 112/300\n",
      "17/17 [==============================] - 3s 155ms/step - loss: 0.0186 - val_loss: 0.0126\n",
      "Epoch 113/300\n",
      "17/17 [==============================] - 2s 144ms/step - loss: 0.0184 - val_loss: 0.0146\n",
      "Epoch 114/300\n",
      "17/17 [==============================] - 3s 155ms/step - loss: 0.0190 - val_loss: 0.0129\n",
      "Epoch 115/300\n",
      "17/17 [==============================] - 3s 153ms/step - loss: 0.0187 - val_loss: 0.0125\n",
      "Epoch 116/300\n",
      "17/17 [==============================] - 3s 147ms/step - loss: 0.0190 - val_loss: 0.0133\n",
      "Epoch 117/300\n",
      "17/17 [==============================] - 3s 152ms/step - loss: 0.0188 - val_loss: 0.0120\n",
      "Epoch 118/300\n",
      "17/17 [==============================] - 3s 159ms/step - loss: 0.0180 - val_loss: 0.0126\n",
      "Epoch 119/300\n",
      "17/17 [==============================] - 3s 161ms/step - loss: 0.0185 - val_loss: 0.0125\n",
      "Epoch 120/300\n",
      "17/17 [==============================] - 3s 161ms/step - loss: 0.0176 - val_loss: 0.0124\n",
      "Epoch 121/300\n",
      "17/17 [==============================] - 2s 127ms/step - loss: 0.0170 - val_loss: 0.0119\n",
      "Epoch 122/300\n",
      "17/17 [==============================] - 2s 138ms/step - loss: 0.0170 - val_loss: 0.0116\n",
      "Epoch 123/300\n",
      "17/17 [==============================] - 2s 136ms/step - loss: 0.0177 - val_loss: 0.0126\n",
      "Epoch 124/300\n",
      "17/17 [==============================] - 2s 124ms/step - loss: 0.0188 - val_loss: 0.0138\n",
      "Epoch 125/300\n",
      "17/17 [==============================] - 2s 130ms/step - loss: 0.0187 - val_loss: 0.0118\n",
      "Epoch 126/300\n",
      "17/17 [==============================] - 3s 148ms/step - loss: 0.0180 - val_loss: 0.0134\n",
      "Epoch 127/300\n",
      "17/17 [==============================] - 3s 163ms/step - loss: 0.0172 - val_loss: 0.0124\n",
      "Epoch 128/300\n",
      "17/17 [==============================] - 3s 160ms/step - loss: 0.0167 - val_loss: 0.0119\n",
      "Epoch 129/300\n",
      "17/17 [==============================] - 3s 161ms/step - loss: 0.0159 - val_loss: 0.0115\n",
      "Epoch 130/300\n",
      "17/17 [==============================] - 3s 160ms/step - loss: 0.0162 - val_loss: 0.0119\n",
      "Epoch 131/300\n",
      "17/17 [==============================] - 3s 158ms/step - loss: 0.0159 - val_loss: 0.0117\n",
      "Epoch 132/300\n",
      "17/17 [==============================] - 3s 160ms/step - loss: 0.0176 - val_loss: 0.0122\n",
      "Epoch 133/300\n",
      "17/17 [==============================] - 3s 159ms/step - loss: 0.0167 - val_loss: 0.0128\n",
      "Epoch 134/300\n",
      "17/17 [==============================] - 3s 159ms/step - loss: 0.0167 - val_loss: 0.0119\n",
      "Epoch 135/300\n",
      "17/17 [==============================] - 3s 151ms/step - loss: 0.0159 - val_loss: 0.0120\n",
      "Epoch 136/300\n",
      "17/17 [==============================] - 3s 159ms/step - loss: 0.0153 - val_loss: 0.0114\n",
      "Epoch 137/300\n",
      "17/17 [==============================] - 3s 159ms/step - loss: 0.0152 - val_loss: 0.0104\n",
      "Epoch 138/300\n",
      "17/17 [==============================] - 3s 159ms/step - loss: 0.0154 - val_loss: 0.0114\n",
      "Epoch 139/300\n",
      "17/17 [==============================] - 3s 161ms/step - loss: 0.0149 - val_loss: 0.0120\n",
      "Epoch 140/300\n",
      "17/17 [==============================] - 3s 158ms/step - loss: 0.0148 - val_loss: 0.0111\n",
      "Epoch 141/300\n",
      "17/17 [==============================] - 3s 161ms/step - loss: 0.0151 - val_loss: 0.0113\n",
      "Epoch 142/300\n",
      "17/17 [==============================] - 3s 159ms/step - loss: 0.0148 - val_loss: 0.0111\n",
      "Epoch 143/300\n",
      "17/17 [==============================] - 3s 162ms/step - loss: 0.0145 - val_loss: 0.0104\n",
      "Epoch 144/300\n",
      "17/17 [==============================] - 3s 160ms/step - loss: 0.0146 - val_loss: 0.0115\n",
      "Epoch 145/300\n",
      "17/17 [==============================] - 3s 161ms/step - loss: 0.0154 - val_loss: 0.0106\n",
      "Epoch 146/300\n",
      "17/17 [==============================] - 3s 159ms/step - loss: 0.0141 - val_loss: 0.0110\n",
      "Epoch 147/300\n",
      "17/17 [==============================] - 3s 159ms/step - loss: 0.0136 - val_loss: 0.0107\n",
      "Epoch 148/300\n",
      "17/17 [==============================] - 3s 160ms/step - loss: 0.0138 - val_loss: 0.0124\n",
      "Epoch 149/300\n",
      "17/17 [==============================] - 3s 160ms/step - loss: 0.0138 - val_loss: 0.0102\n",
      "Epoch 150/300\n",
      "17/17 [==============================] - 3s 159ms/step - loss: 0.0133 - val_loss: 0.0101\n",
      "Epoch 151/300\n",
      "17/17 [==============================] - 3s 163ms/step - loss: 0.0137 - val_loss: 0.0100\n",
      "Epoch 152/300\n",
      "17/17 [==============================] - 3s 159ms/step - loss: 0.0131 - val_loss: 0.0097\n",
      "Epoch 153/300\n",
      "17/17 [==============================] - 3s 161ms/step - loss: 0.0132 - val_loss: 0.0101\n",
      "Epoch 154/300\n",
      "17/17 [==============================] - 3s 157ms/step - loss: 0.0131 - val_loss: 0.0104\n",
      "Epoch 155/300\n",
      "17/17 [==============================] - 3s 157ms/step - loss: 0.0131 - val_loss: 0.0097\n",
      "Epoch 156/300\n",
      "17/17 [==============================] - 3s 162ms/step - loss: 0.0126 - val_loss: 0.0093\n",
      "Epoch 157/300\n",
      "17/17 [==============================] - 3s 162ms/step - loss: 0.0122 - val_loss: 0.0091\n",
      "Epoch 158/300\n",
      "17/17 [==============================] - 3s 158ms/step - loss: 0.0127 - val_loss: 0.0097\n",
      "Epoch 159/300\n",
      "17/17 [==============================] - 3s 157ms/step - loss: 0.0127 - val_loss: 0.0098\n",
      "Epoch 160/300\n",
      "17/17 [==============================] - 3s 160ms/step - loss: 0.0124 - val_loss: 0.0095\n",
      "Epoch 161/300\n",
      "17/17 [==============================] - 3s 160ms/step - loss: 0.0122 - val_loss: 0.0091\n",
      "Epoch 162/300\n",
      "17/17 [==============================] - 3s 161ms/step - loss: 0.0120 - val_loss: 0.0084\n",
      "Epoch 163/300\n",
      "17/17 [==============================] - 3s 161ms/step - loss: 0.0123 - val_loss: 0.0097\n",
      "Epoch 164/300\n",
      "17/17 [==============================] - 3s 159ms/step - loss: 0.0119 - val_loss: 0.0093\n",
      "Epoch 165/300\n",
      "17/17 [==============================] - 3s 159ms/step - loss: 0.0112 - val_loss: 0.0083\n",
      "Epoch 166/300\n",
      "17/17 [==============================] - 3s 159ms/step - loss: 0.0116 - val_loss: 0.0091\n",
      "Epoch 167/300\n",
      "17/17 [==============================] - 3s 158ms/step - loss: 0.0128 - val_loss: 0.0102\n",
      "Epoch 168/300\n",
      "17/17 [==============================] - 3s 157ms/step - loss: 0.0122 - val_loss: 0.0099\n",
      "Epoch 169/300\n",
      "17/17 [==============================] - 3s 161ms/step - loss: 0.0118 - val_loss: 0.0084\n",
      "Epoch 170/300\n",
      "17/17 [==============================] - 3s 160ms/step - loss: 0.0110 - val_loss: 0.0089\n",
      "Epoch 171/300\n",
      "17/17 [==============================] - 3s 158ms/step - loss: 0.0110 - val_loss: 0.0082\n",
      "Epoch 172/300\n",
      "17/17 [==============================] - 3s 159ms/step - loss: 0.0111 - val_loss: 0.0087\n",
      "Epoch 173/300\n",
      "17/17 [==============================] - 3s 159ms/step - loss: 0.0110 - val_loss: 0.0079\n",
      "Epoch 174/300\n",
      "17/17 [==============================] - 3s 157ms/step - loss: 0.0107 - val_loss: 0.0103\n",
      "Epoch 175/300\n",
      "17/17 [==============================] - 4s 257ms/step - loss: 0.0108 - val_loss: 0.0089\n",
      "Epoch 176/300\n",
      "17/17 [==============================] - 5s 293ms/step - loss: 0.0107 - val_loss: 0.0087\n",
      "Epoch 177/300\n",
      "17/17 [==============================] - 5s 288ms/step - loss: 0.0105 - val_loss: 0.0089\n",
      "Epoch 178/300\n",
      "17/17 [==============================] - 5s 291ms/step - loss: 0.0107 - val_loss: 0.0079\n",
      "Epoch 179/300\n",
      "17/17 [==============================] - 5s 286ms/step - loss: 0.0104 - val_loss: 0.0077\n",
      "Epoch 180/300\n",
      "17/17 [==============================] - 5s 285ms/step - loss: 0.0104 - val_loss: 0.0084\n",
      "Epoch 181/300\n",
      "17/17 [==============================] - 5s 287ms/step - loss: 0.0101 - val_loss: 0.0081\n",
      "Epoch 182/300\n",
      "17/17 [==============================] - 5s 285ms/step - loss: 0.0103 - val_loss: 0.0084\n",
      "Epoch 183/300\n",
      "17/17 [==============================] - 5s 292ms/step - loss: 0.0107 - val_loss: 0.0079\n",
      "Epoch 184/300\n",
      "17/17 [==============================] - 5s 288ms/step - loss: 0.0099 - val_loss: 0.0077\n",
      "Epoch 185/300\n",
      "17/17 [==============================] - 5s 288ms/step - loss: 0.0095 - val_loss: 0.0076\n",
      "Epoch 186/300\n",
      "17/17 [==============================] - 5s 292ms/step - loss: 0.0094 - val_loss: 0.0074\n",
      "Epoch 187/300\n",
      "17/17 [==============================] - 5s 301ms/step - loss: 0.0097 - val_loss: 0.0079\n",
      "Epoch 188/300\n",
      "17/17 [==============================] - 5s 296ms/step - loss: 0.0096 - val_loss: 0.0078\n",
      "Epoch 189/300\n",
      "17/17 [==============================] - 5s 301ms/step - loss: 0.0098 - val_loss: 0.0080\n",
      "Epoch 190/300\n",
      "17/17 [==============================] - 5s 295ms/step - loss: 0.0098 - val_loss: 0.0077\n",
      "Epoch 191/300\n",
      "17/17 [==============================] - 5s 301ms/step - loss: 0.0098 - val_loss: 0.0085\n",
      "Epoch 192/300\n",
      "17/17 [==============================] - 5s 301ms/step - loss: 0.0097 - val_loss: 0.0076\n",
      "Epoch 193/300\n",
      "17/17 [==============================] - 5s 296ms/step - loss: 0.0092 - val_loss: 0.0075\n",
      "Epoch 194/300\n",
      "17/17 [==============================] - 5s 302ms/step - loss: 0.0091 - val_loss: 0.0075\n",
      "Epoch 195/300\n",
      "17/17 [==============================] - 5s 300ms/step - loss: 0.0085 - val_loss: 0.0071\n",
      "Epoch 196/300\n",
      "17/17 [==============================] - 5s 287ms/step - loss: 0.0089 - val_loss: 0.0084\n",
      "Epoch 197/300\n",
      "17/17 [==============================] - 5s 301ms/step - loss: 0.0085 - val_loss: 0.0069\n",
      "Epoch 198/300\n",
      "17/17 [==============================] - 5s 297ms/step - loss: 0.0088 - val_loss: 0.0069\n",
      "Epoch 199/300\n",
      "17/17 [==============================] - 5s 294ms/step - loss: 0.0097 - val_loss: 0.0102\n",
      "Epoch 200/300\n",
      "17/17 [==============================] - 5s 293ms/step - loss: 0.0103 - val_loss: 0.0081\n",
      "Epoch 201/300\n",
      "17/17 [==============================] - 5s 295ms/step - loss: 0.0093 - val_loss: 0.0072\n",
      "Epoch 202/300\n",
      "17/17 [==============================] - 5s 297ms/step - loss: 0.0087 - val_loss: 0.0074\n",
      "Epoch 203/300\n",
      "17/17 [==============================] - 5s 296ms/step - loss: 0.0083 - val_loss: 0.0082\n",
      "Epoch 204/300\n",
      "17/17 [==============================] - 5s 295ms/step - loss: 0.0084 - val_loss: 0.0072\n",
      "Epoch 205/300\n",
      "17/17 [==============================] - 5s 301ms/step - loss: 0.0084 - val_loss: 0.0075\n",
      "Epoch 206/300\n",
      "17/17 [==============================] - 5s 303ms/step - loss: 0.0083 - val_loss: 0.0072\n",
      "Epoch 207/300\n",
      "17/17 [==============================] - 5s 305ms/step - loss: 0.0085 - val_loss: 0.0071\n",
      "Epoch 208/300\n",
      "17/17 [==============================] - 5s 296ms/step - loss: 0.0083 - val_loss: 0.0074\n",
      "Epoch 209/300\n",
      "17/17 [==============================] - 5s 301ms/step - loss: 0.0085 - val_loss: 0.0073\n",
      "Epoch 210/300\n",
      "17/17 [==============================] - 5s 297ms/step - loss: 0.0083 - val_loss: 0.0070\n",
      "Epoch 211/300\n",
      "17/17 [==============================] - 5s 301ms/step - loss: 0.0083 - val_loss: 0.0075\n",
      "Epoch 212/300\n",
      "17/17 [==============================] - 5s 294ms/step - loss: 0.0077 - val_loss: 0.0067\n",
      "Epoch 213/300\n",
      "17/17 [==============================] - 5s 292ms/step - loss: 0.0078 - val_loss: 0.0068\n",
      "Epoch 214/300\n",
      "17/17 [==============================] - 5s 289ms/step - loss: 0.0077 - val_loss: 0.0070\n",
      "Epoch 215/300\n",
      "17/17 [==============================] - 5s 292ms/step - loss: 0.0075 - val_loss: 0.0069\n",
      "Epoch 216/300\n",
      "17/17 [==============================] - 5s 286ms/step - loss: 0.0076 - val_loss: 0.0066\n",
      "Epoch 217/300\n",
      "17/17 [==============================] - 5s 293ms/step - loss: 0.0076 - val_loss: 0.0075\n",
      "Epoch 218/300\n",
      "17/17 [==============================] - 5s 289ms/step - loss: 0.0082 - val_loss: 0.0068\n",
      "Epoch 219/300\n",
      "17/17 [==============================] - 5s 299ms/step - loss: 0.0080 - val_loss: 0.0067\n",
      "Epoch 220/300\n",
      "17/17 [==============================] - 5s 300ms/step - loss: 0.0072 - val_loss: 0.0064\n",
      "Epoch 221/300\n",
      "17/17 [==============================] - 5s 299ms/step - loss: 0.0074 - val_loss: 0.0072\n",
      "Epoch 222/300\n",
      "17/17 [==============================] - 5s 290ms/step - loss: 0.0074 - val_loss: 0.0069\n",
      "Epoch 223/300\n",
      "17/17 [==============================] - 5s 296ms/step - loss: 0.0090 - val_loss: 0.0075\n",
      "Epoch 224/300\n",
      "17/17 [==============================] - 5s 296ms/step - loss: 0.0084 - val_loss: 0.0075\n",
      "Epoch 225/300\n",
      "17/17 [==============================] - 5s 297ms/step - loss: 0.0075 - val_loss: 0.0062\n",
      "Epoch 226/300\n",
      "17/17 [==============================] - 5s 297ms/step - loss: 0.0072 - val_loss: 0.0065\n",
      "Epoch 227/300\n",
      "17/17 [==============================] - 5s 302ms/step - loss: 0.0071 - val_loss: 0.0070\n",
      "Epoch 228/300\n",
      "17/17 [==============================] - 5s 299ms/step - loss: 0.0073 - val_loss: 0.0068\n",
      "Epoch 229/300\n",
      "17/17 [==============================] - 5s 300ms/step - loss: 0.0070 - val_loss: 0.0064\n",
      "Epoch 230/300\n",
      "17/17 [==============================] - 5s 305ms/step - loss: 0.0066 - val_loss: 0.0061\n",
      "Epoch 231/300\n",
      "17/17 [==============================] - 5s 297ms/step - loss: 0.0066 - val_loss: 0.0058\n",
      "Epoch 232/300\n",
      "17/17 [==============================] - 5s 300ms/step - loss: 0.0064 - val_loss: 0.0061\n",
      "Epoch 233/300\n",
      "17/17 [==============================] - 5s 299ms/step - loss: 0.0067 - val_loss: 0.0074\n",
      "Epoch 234/300\n",
      "17/17 [==============================] - 5s 292ms/step - loss: 0.0070 - val_loss: 0.0061\n",
      "Epoch 235/300\n",
      "17/17 [==============================] - 5s 298ms/step - loss: 0.0071 - val_loss: 0.0060\n",
      "Epoch 236/300\n",
      "17/17 [==============================] - 5s 295ms/step - loss: 0.0069 - val_loss: 0.0064\n",
      "Epoch 237/300\n",
      "17/17 [==============================] - 5s 295ms/step - loss: 0.0070 - val_loss: 0.0065\n",
      "Epoch 238/300\n",
      "17/17 [==============================] - 5s 295ms/step - loss: 0.0068 - val_loss: 0.0060\n",
      "Epoch 239/300\n",
      "17/17 [==============================] - 5s 297ms/step - loss: 0.0068 - val_loss: 0.0071\n",
      "Epoch 240/300\n",
      "17/17 [==============================] - 5s 298ms/step - loss: 0.0070 - val_loss: 0.0065\n",
      "Epoch 241/300\n",
      "17/17 [==============================] - 5s 300ms/step - loss: 0.0070 - val_loss: 0.0080\n",
      "Epoch 242/300\n",
      "17/17 [==============================] - 5s 301ms/step - loss: 0.0082 - val_loss: 0.0063\n",
      "Epoch 243/300\n",
      "17/17 [==============================] - 5s 298ms/step - loss: 0.0074 - val_loss: 0.0070\n",
      "Epoch 244/300\n",
      "17/17 [==============================] - 5s 292ms/step - loss: 0.0072 - val_loss: 0.0063\n",
      "Epoch 245/300\n",
      "17/17 [==============================] - 5s 297ms/step - loss: 0.0068 - val_loss: 0.0062\n",
      "Epoch 246/300\n",
      "17/17 [==============================] - 5s 290ms/step - loss: 0.0064 - val_loss: 0.0062\n",
      "Epoch 247/300\n",
      "17/17 [==============================] - 5s 300ms/step - loss: 0.0067 - val_loss: 0.0068\n",
      "Epoch 248/300\n",
      "17/17 [==============================] - 5s 298ms/step - loss: 0.0065 - val_loss: 0.0062\n",
      "Epoch 249/300\n",
      "17/17 [==============================] - 5s 296ms/step - loss: 0.0065 - val_loss: 0.0059\n",
      "Epoch 250/300\n",
      "17/17 [==============================] - 5s 301ms/step - loss: 0.0066 - val_loss: 0.0067\n",
      "Epoch 251/300\n",
      "17/17 [==============================] - 5s 300ms/step - loss: 0.0069 - val_loss: 0.0063\n",
      "Epoch 252/300\n",
      "17/17 [==============================] - 5s 289ms/step - loss: 0.0061 - val_loss: 0.0060\n",
      "Epoch 253/300\n",
      "17/17 [==============================] - 5s 296ms/step - loss: 0.0057 - val_loss: 0.0059\n",
      "Epoch 254/300\n",
      "17/17 [==============================] - 5s 285ms/step - loss: 0.0063 - val_loss: 0.0059\n",
      "Epoch 255/300\n",
      "17/17 [==============================] - 5s 283ms/step - loss: 0.0061 - val_loss: 0.0063\n",
      "Epoch 256/300\n",
      "17/17 [==============================] - 5s 288ms/step - loss: 0.0060 - val_loss: 0.0062\n",
      "Epoch 257/300\n",
      "17/17 [==============================] - 5s 283ms/step - loss: 0.0066 - val_loss: 0.0067\n",
      "Epoch 258/300\n",
      "17/17 [==============================] - 5s 296ms/step - loss: 0.0065 - val_loss: 0.0060\n",
      "Epoch 259/300\n",
      "17/17 [==============================] - 5s 298ms/step - loss: 0.0066 - val_loss: 0.0068\n",
      "Epoch 260/300\n",
      "17/17 [==============================] - 5s 298ms/step - loss: 0.0061 - val_loss: 0.0065\n",
      "Epoch 261/300\n",
      "17/17 [==============================] - 5s 300ms/step - loss: 0.0057 - val_loss: 0.0062\n",
      "Epoch 262/300\n",
      "17/17 [==============================] - 5s 303ms/step - loss: 0.0058 - val_loss: 0.0062\n",
      "Epoch 263/300\n",
      "17/17 [==============================] - 5s 301ms/step - loss: 0.0060 - val_loss: 0.0058\n",
      "Epoch 264/300\n",
      "17/17 [==============================] - 5s 291ms/step - loss: 0.0059 - val_loss: 0.0063\n",
      "Epoch 265/300\n",
      "17/17 [==============================] - 5s 298ms/step - loss: 0.0060 - val_loss: 0.0061\n",
      "Epoch 266/300\n",
      "17/17 [==============================] - 5s 303ms/step - loss: 0.0060 - val_loss: 0.0061\n",
      "Epoch 267/300\n",
      "17/17 [==============================] - 5s 298ms/step - loss: 0.0062 - val_loss: 0.0064\n",
      "Epoch 268/300\n",
      "17/17 [==============================] - 5s 306ms/step - loss: 0.0059 - val_loss: 0.0054\n",
      "Epoch 269/300\n",
      "17/17 [==============================] - 5s 304ms/step - loss: 0.0057 - val_loss: 0.0063\n",
      "Epoch 270/300\n",
      "17/17 [==============================] - 5s 299ms/step - loss: 0.0061 - val_loss: 0.0087\n",
      "Epoch 271/300\n",
      "17/17 [==============================] - 5s 304ms/step - loss: 0.0068 - val_loss: 0.0058\n",
      "Epoch 272/300\n",
      "17/17 [==============================] - 5s 306ms/step - loss: 0.0057 - val_loss: 0.0062\n",
      "Epoch 273/300\n",
      "17/17 [==============================] - 5s 299ms/step - loss: 0.0059 - val_loss: 0.0060\n",
      "Epoch 274/300\n",
      "17/17 [==============================] - 5s 301ms/step - loss: 0.0060 - val_loss: 0.0056\n",
      "Epoch 275/300\n",
      "17/17 [==============================] - 5s 295ms/step - loss: 0.0056 - val_loss: 0.0057\n",
      "Epoch 276/300\n",
      "17/17 [==============================] - 5s 299ms/step - loss: 0.0056 - val_loss: 0.0059\n",
      "Epoch 277/300\n",
      "17/17 [==============================] - 5s 295ms/step - loss: 0.0058 - val_loss: 0.0055\n",
      "Epoch 278/300\n",
      "17/17 [==============================] - 5s 302ms/step - loss: 0.0056 - val_loss: 0.0057\n",
      "Epoch 279/300\n",
      "17/17 [==============================] - 5s 288ms/step - loss: 0.0056 - val_loss: 0.0062\n",
      "Epoch 280/300\n",
      "17/17 [==============================] - 5s 297ms/step - loss: 0.0057 - val_loss: 0.0055\n",
      "Epoch 281/300\n",
      "17/17 [==============================] - 5s 294ms/step - loss: 0.0054 - val_loss: 0.0063\n",
      "Epoch 282/300\n",
      "17/17 [==============================] - 5s 292ms/step - loss: 0.0058 - val_loss: 0.0054\n",
      "Epoch 283/300\n",
      "17/17 [==============================] - 5s 293ms/step - loss: 0.0058 - val_loss: 0.0060\n",
      "Epoch 284/300\n",
      "17/17 [==============================] - 5s 296ms/step - loss: 0.0058 - val_loss: 0.0058\n",
      "Epoch 285/300\n",
      "17/17 [==============================] - 5s 295ms/step - loss: 0.0055 - val_loss: 0.0058\n",
      "Epoch 286/300\n",
      "17/17 [==============================] - 5s 299ms/step - loss: 0.0053 - val_loss: 0.0056\n",
      "Epoch 287/300\n",
      "17/17 [==============================] - 5s 294ms/step - loss: 0.0057 - val_loss: 0.0062\n",
      "Epoch 288/300\n",
      "17/17 [==============================] - 5s 295ms/step - loss: 0.0067 - val_loss: 0.0056\n",
      "Epoch 289/300\n",
      "17/17 [==============================] - 5s 296ms/step - loss: 0.0056 - val_loss: 0.0058\n",
      "Epoch 290/300\n",
      "17/17 [==============================] - 5s 291ms/step - loss: 0.0056 - val_loss: 0.0055\n",
      "Epoch 291/300\n",
      "17/17 [==============================] - 5s 292ms/step - loss: 0.0054 - val_loss: 0.0056\n",
      "Epoch 292/300\n",
      "17/17 [==============================] - 5s 297ms/step - loss: 0.0054 - val_loss: 0.0054\n",
      "Epoch 293/300\n",
      "17/17 [==============================] - 5s 297ms/step - loss: 0.0052 - val_loss: 0.0055\n",
      "Epoch 294/300\n",
      "17/17 [==============================] - 5s 293ms/step - loss: 0.0055 - val_loss: 0.0054\n",
      "Epoch 295/300\n",
      "17/17 [==============================] - 5s 285ms/step - loss: 0.0055 - val_loss: 0.0059\n",
      "Epoch 296/300\n",
      "17/17 [==============================] - 5s 288ms/step - loss: 0.0052 - val_loss: 0.0051\n",
      "Epoch 297/300\n",
      "17/17 [==============================] - 5s 290ms/step - loss: 0.0051 - val_loss: 0.0056\n",
      "Epoch 298/300\n",
      "17/17 [==============================] - 5s 298ms/step - loss: 0.0055 - val_loss: 0.0063\n",
      "Epoch 299/300\n",
      "17/17 [==============================] - 5s 301ms/step - loss: 0.0057 - val_loss: 0.0060\n",
      "Epoch 300/300\n",
      "17/17 [==============================] - 5s 294ms/step - loss: 0.0056 - val_loss: 0.0057\n",
      "34/34 [==============================] - 4s 51ms/step\n",
      "\n",
      " Résumé des performances :\n",
      "  ➤ R² de base              : 0.8443\n",
      "  ➤ MAE de base             : 0.0086\n",
      "  ➤ Temps entraînement base : 836.41 s\n",
      "  ➤ R² optimisé             : 0.9449\n",
      "  ➤ MAE optimisé            : 0.0043\n",
      "  ➤ Temps entraînement opti : 1117.20 s\n",
      "  ➤ Temps GA total          : 2139.64 s\n",
      "  ➤ Hyperparamètres choisis : [64, 1, 'tanh', 128, 0.004315696513243673]\n"
     ]
    }
   ],
   "source": [
    "import time\n",
    "from deap import base, creator, tools\n",
    "import random\n",
    "\n",
    "# ========= Fonction modèle =========\n",
    "def create_model(filters, kernel_size, activation, dense_units, learning_rate):\n",
    "    model = tf.keras.Sequential([\n",
    "        tf.keras.layers.ConvLSTM1D(filters=int(filters), kernel_size=(int(kernel_size),), activation=activation,\n",
    "                                   return_sequences=True, input_shape=x_train_conv_lstm.shape[1:]),\n",
    "        tf.keras.layers.ConvLSTM1D(filters=int(filters), kernel_size=(int(kernel_size),), activation=activation,\n",
    "                                   return_sequences=False),\n",
    "        tf.keras.layers.Flatten(),\n",
    "        tf.keras.layers.Dense(units=int(dense_units), activation='relu'),\n",
    "        tf.keras.layers.Dense(1, activation=\"linear\")\n",
    "    ])\n",
    "    model.compile(loss=\"mae\", optimizer=tf.keras.optimizers.Adam(learning_rate=learning_rate))\n",
    "    return model\n",
    "\n",
    "# ========= Fonction évaluation =========\n",
    "def evaluate(individual):\n",
    "    filters, kernel_size, activation, dense_units, learning_rate = individual\n",
    "    model = create_model(filters, kernel_size, activation, dense_units, learning_rate)\n",
    "    \n",
    "    early_stop = tf.keras.callbacks.EarlyStopping(\n",
    "        monitor='val_loss',\n",
    "        patience=1,\n",
    "        restore_best_weights=True\n",
    "    )\n",
    "    \n",
    "    history = model.fit(\n",
    "        x_train_conv_lstm, y_train,\n",
    "        epochs=2,\n",
    "        batch_size=128,\n",
    "        verbose=0,\n",
    "        validation_data=(x_val_conv_lstm, y_val),\n",
    "        callbacks=[early_stop]\n",
    "    )\n",
    "    \n",
    "    mae = history.history['val_loss'][-1]\n",
    "    return (mae,)\n",
    "\n",
    "# ========= Mutation et croisement =========\n",
    "def mut_mixed(ind, indpb=0.2):\n",
    "    for i in range(len(ind)):\n",
    "        if i == 1:\n",
    "            continue\n",
    "        if random.random() < indpb:\n",
    "            if isinstance(ind[i], float):\n",
    "                ind[i] += random.gauss(0, 0.001)\n",
    "                ind[i] = max(0.0001, min(0.01, ind[i]))\n",
    "            elif isinstance(ind[i], int):\n",
    "                ind[i] += random.randint(-8, 8)\n",
    "                ind[i] = max(1, min(256, ind[i]))\n",
    "            elif isinstance(ind[i], str):\n",
    "                ind[i] = 'relu' if ind[i] == 'tanh' else 'tanh'\n",
    "    return ind,\n",
    "\n",
    "def cx_mixed(ind1, ind2):\n",
    "    for i in range(len(ind1)):\n",
    "        if random.random() < 0.5:\n",
    "            ind1[i], ind2[i] = ind2[i], ind1[i]\n",
    "    return ind1, ind2\n",
    "\n",
    "# ========= Configuration DEAP =========\n",
    "if not hasattr(creator, \"FitnessMin\"):\n",
    "    creator.create(\"FitnessMin\", base.Fitness, weights=(-1.0,))\n",
    "if not hasattr(creator, \"Individual\"):\n",
    "    creator.create(\"Individual\", list, fitness=creator.FitnessMin)\n",
    "\n",
    "toolbox = base.Toolbox()\n",
    "toolbox.register(\"filters\", random.choice, [32, 64, 128])\n",
    "toolbox.register(\"kernel_size\", random.choice, [1])\n",
    "toolbox.register(\"activation\", random.choice, ['relu', 'tanh'])\n",
    "toolbox.register(\"dense_units\", random.choice, [32, 64, 128])\n",
    "toolbox.register(\"learning_rate\", random.uniform, 0.0001, 0.008)\n",
    "\n",
    "toolbox.register(\"individual\", tools.initCycle, creator.Individual,\n",
    "    (toolbox.filters, toolbox.kernel_size, toolbox.activation, toolbox.dense_units, toolbox.learning_rate), n=1)\n",
    "toolbox.register(\"population\", tools.initRepeat, list, toolbox.individual)\n",
    "\n",
    "toolbox.register(\"evaluate\", evaluate)\n",
    "toolbox.register(\"mate\", cx_mixed)\n",
    "toolbox.register(\"mutate\", mut_mixed, indpb=0.2)\n",
    "toolbox.register(\"select\", tools.selTournament, tournsize=3)\n",
    "\n",
    "# ========= Exécution GA avec meilleur global =========\n",
    "start_ga_time = time.time()\n",
    "\n",
    "n_generations = 4\n",
    "population_size = 10\n",
    "\n",
    "population = toolbox.population(n=population_size)\n",
    "best_overall = None\n",
    "\n",
    "for gen in range(n_generations):\n",
    "    print(f\"\\n Génération {gen+1}\")\n",
    "    fitnesses = list(map(toolbox.evaluate, population))\n",
    "    for ind, fit in zip(population, fitnesses):\n",
    "        ind.fitness.values = fit\n",
    "\n",
    "    # Suivi du meilleur global\n",
    "    gen_best = tools.selBest(population, 1)[0]\n",
    "    if best_overall is None or gen_best.fitness.values[0] < best_overall.fitness.values[0]:\n",
    "        best_overall = creator.Individual(gen_best)\n",
    "        best_overall.fitness.values = gen_best.fitness.values\n",
    "\n",
    "    print(\" Population :\")\n",
    "    for i, ind in enumerate(population):\n",
    "        print(f\"  ➤ Individu {i+1}: {ind} ➤ MAE = {ind.fitness.values[0]:.4f}\")\n",
    "\n",
    "    offspring = toolbox.select(population, len(population))\n",
    "    offspring = list(map(toolbox.clone, offspring))\n",
    "\n",
    "    for c1, c2 in zip(offspring[::2], offspring[1::2]):\n",
    "        if random.random() < 0.5:\n",
    "            toolbox.mate(c1, c2)\n",
    "            del c1.fitness.values, c2.fitness.values\n",
    "\n",
    "    for mutant in offspring:\n",
    "        if random.random() < 0.2:\n",
    "            toolbox.mutate(mutant)\n",
    "            del mutant.fitness.values\n",
    "\n",
    "    invalids = [ind for ind in offspring if not ind.fitness.valid]\n",
    "    fitnesses = list(map(toolbox.evaluate, invalids))\n",
    "    for ind, fit in zip(invalids, fitnesses):\n",
    "        ind.fitness.values = fit\n",
    "\n",
    "    population[:] = offspring\n",
    "\n",
    "end_ga_time = time.time()\n",
    "\n",
    "# ========= Réentraînement final =========\n",
    "print(f\"\\n Meilleurs hyperparamètres globaux trouvés : {best_overall}\")\n",
    "filters, kernel_size, activation, dense_units, learning_rate = best_overall\n",
    "model = create_model(filters, kernel_size, activation, dense_units, learning_rate)\n",
    "\n",
    "start_train_opt = time.time()\n",
    "model.fit(x_train_conv_lstm, y_train, epochs=300, batch_size=512, verbose=1,\n",
    "          validation_data=(x_val_conv_lstm, y_val))\n",
    "training_time_opt = time.time() - start_train_opt\n",
    "\n",
    "# ========= Évaluation finale =========\n",
    "y_pred = model.predict(x_test_conv_lstm)\n",
    "r2 = r2_score(y_test, y_pred)\n",
    "mae_metric = tf.keras.metrics.MeanAbsoluteError()\n",
    "mae_metric.update_state(y_test, y_pred)\n",
    "mae = mae_metric.result().numpy()\n",
    "\n",
    "\n",
    "# ========= Affichage final =========\n",
    "print(\"\\n Résumé des performances :\")\n",
    "print(f\"  ➤ R² de base              : {model_results['r2']:.4f}\")\n",
    "print(f\"  ➤ MAE de base             : {model_results['mae']:.4f}\")\n",
    "print(f\"  ➤ Temps entraînement base : {training_duration_conv_lstm:.2f} s\")\n",
    "print(f\"  ➤ R² optimisé             : {r2:.4f}\")\n",
    "print(f\"  ➤ MAE optimisé            : {mae:.4f}\")\n",
    "print(f\"  ➤ Temps entraînement opti : {training_time_opt:.2f} s\")\n",
    "print(f\"  ➤ Temps GA total          : {end_ga_time - start_ga_time:.2f} s\")\n",
    "print(f\"  ➤ Hyperparamètres choisis : {best_overall}\")\n"
   ]
  },
  {
   "cell_type": "code",
   "execution_count": null,
   "id": "5dd55191-1a07-4b5c-a4aa-e9fdd1a61353",
   "metadata": {},
   "outputs": [],
   "source": []
  }
 ],
 "metadata": {
  "kernelspec": {
   "display_name": "Python 3 (ipykernel)",
   "language": "python",
   "name": "python3"
  },
  "language_info": {
   "codemirror_mode": {
    "name": "ipython",
    "version": 3
   },
   "file_extension": ".py",
   "mimetype": "text/x-python",
   "name": "python",
   "nbconvert_exporter": "python",
   "pygments_lexer": "ipython3",
   "version": "3.11.3"
  }
 },
 "nbformat": 4,
 "nbformat_minor": 5
}
