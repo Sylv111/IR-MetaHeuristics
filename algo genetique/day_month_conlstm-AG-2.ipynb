{
 "cells": [
  {
   "cell_type": "markdown",
   "id": "f9b6ac3c-b5e9-40e4-ae0e-0676d5a3cf85",
   "metadata": {},
   "source": [
    "## Loading the dataset"
   ]
  },
  {
   "cell_type": "code",
   "execution_count": 1,
   "id": "4c19492b-0921-44f0-ba50-faa3b7ce5bb0",
   "metadata": {},
   "outputs": [
    {
     "data": {
      "text/html": [
       "<div>\n",
       "<style scoped>\n",
       "    .dataframe tbody tr th:only-of-type {\n",
       "        vertical-align: middle;\n",
       "    }\n",
       "\n",
       "    .dataframe tbody tr th {\n",
       "        vertical-align: top;\n",
       "    }\n",
       "\n",
       "    .dataframe thead th {\n",
       "        text-align: right;\n",
       "    }\n",
       "</style>\n",
       "<table border=\"1\" class=\"dataframe\">\n",
       "  <thead>\n",
       "    <tr style=\"text-align: right;\">\n",
       "      <th></th>\n",
       "      <th>production</th>\n",
       "      <th>p_per_m2</th>\n",
       "      <th>p_max</th>\n",
       "      <th>panel_area</th>\n",
       "      <th>facade_area</th>\n",
       "      <th>total_panel_area</th>\n",
       "      <th>exploitation_ratio</th>\n",
       "      <th>air_temp_mean</th>\n",
       "      <th>air_temp_max</th>\n",
       "      <th>clearsky_ghi_mean</th>\n",
       "      <th>...</th>\n",
       "      <th>relative_humidity_max</th>\n",
       "      <th>surface_pressure_mean</th>\n",
       "      <th>surface_pressure_min</th>\n",
       "      <th>surface_pressure_max</th>\n",
       "      <th>wind_direction_100m_mean</th>\n",
       "      <th>wind_direction_100m_min</th>\n",
       "      <th>wind_direction_100m_max</th>\n",
       "      <th>wind_speed_100m_mean</th>\n",
       "      <th>wind_speed_100m_min</th>\n",
       "      <th>wind_speed_100m_max</th>\n",
       "    </tr>\n",
       "  </thead>\n",
       "  <tbody>\n",
       "    <tr>\n",
       "      <th>0</th>\n",
       "      <td>8.075</td>\n",
       "      <td>143.0</td>\n",
       "      <td>210.0</td>\n",
       "      <td>1.72</td>\n",
       "      <td>218.0</td>\n",
       "      <td>94.6</td>\n",
       "      <td>0.434</td>\n",
       "      <td>4.063830</td>\n",
       "      <td>6.50</td>\n",
       "      <td>61.673648</td>\n",
       "      <td>...</td>\n",
       "      <td>95.675</td>\n",
       "      <td>1025.209907</td>\n",
       "      <td>1023.175</td>\n",
       "      <td>1027.325</td>\n",
       "      <td>210.491356</td>\n",
       "      <td>114.25</td>\n",
       "      <td>281.5</td>\n",
       "      <td>3.281959</td>\n",
       "      <td>1.625</td>\n",
       "      <td>5.025</td>\n",
       "    </tr>\n",
       "    <tr>\n",
       "      <th>1</th>\n",
       "      <td>0.700</td>\n",
       "      <td>143.0</td>\n",
       "      <td>210.0</td>\n",
       "      <td>1.72</td>\n",
       "      <td>218.0</td>\n",
       "      <td>94.6</td>\n",
       "      <td>0.434</td>\n",
       "      <td>4.221410</td>\n",
       "      <td>5.00</td>\n",
       "      <td>61.055629</td>\n",
       "      <td>...</td>\n",
       "      <td>95.350</td>\n",
       "      <td>1029.553147</td>\n",
       "      <td>1027.750</td>\n",
       "      <td>1031.600</td>\n",
       "      <td>221.406250</td>\n",
       "      <td>115.00</td>\n",
       "      <td>273.0</td>\n",
       "      <td>3.476042</td>\n",
       "      <td>1.650</td>\n",
       "      <td>5.000</td>\n",
       "    </tr>\n",
       "    <tr>\n",
       "      <th>2</th>\n",
       "      <td>1.325</td>\n",
       "      <td>143.0</td>\n",
       "      <td>210.0</td>\n",
       "      <td>1.72</td>\n",
       "      <td>218.0</td>\n",
       "      <td>94.6</td>\n",
       "      <td>0.434</td>\n",
       "      <td>6.932292</td>\n",
       "      <td>8.75</td>\n",
       "      <td>89.687500</td>\n",
       "      <td>...</td>\n",
       "      <td>92.875</td>\n",
       "      <td>1004.979167</td>\n",
       "      <td>1002.000</td>\n",
       "      <td>1009.450</td>\n",
       "      <td>202.578125</td>\n",
       "      <td>153.50</td>\n",
       "      <td>255.0</td>\n",
       "      <td>6.997396</td>\n",
       "      <td>5.025</td>\n",
       "      <td>9.425</td>\n",
       "    </tr>\n",
       "    <tr>\n",
       "      <th>3</th>\n",
       "      <td>1.300</td>\n",
       "      <td>143.0</td>\n",
       "      <td>210.0</td>\n",
       "      <td>1.72</td>\n",
       "      <td>218.0</td>\n",
       "      <td>94.6</td>\n",
       "      <td>0.434</td>\n",
       "      <td>5.822917</td>\n",
       "      <td>7.50</td>\n",
       "      <td>89.614583</td>\n",
       "      <td>...</td>\n",
       "      <td>92.700</td>\n",
       "      <td>1004.126042</td>\n",
       "      <td>1000.750</td>\n",
       "      <td>1010.600</td>\n",
       "      <td>216.354167</td>\n",
       "      <td>181.50</td>\n",
       "      <td>259.0</td>\n",
       "      <td>7.590625</td>\n",
       "      <td>5.450</td>\n",
       "      <td>9.650</td>\n",
       "    </tr>\n",
       "    <tr>\n",
       "      <th>4</th>\n",
       "      <td>18.250</td>\n",
       "      <td>143.0</td>\n",
       "      <td>210.0</td>\n",
       "      <td>1.72</td>\n",
       "      <td>218.0</td>\n",
       "      <td>94.6</td>\n",
       "      <td>0.434</td>\n",
       "      <td>6.647368</td>\n",
       "      <td>11.50</td>\n",
       "      <td>154.226316</td>\n",
       "      <td>...</td>\n",
       "      <td>85.625</td>\n",
       "      <td>1019.062632</td>\n",
       "      <td>1016.375</td>\n",
       "      <td>1021.425</td>\n",
       "      <td>154.531579</td>\n",
       "      <td>123.00</td>\n",
       "      <td>190.0</td>\n",
       "      <td>5.128947</td>\n",
       "      <td>3.625</td>\n",
       "      <td>7.500</td>\n",
       "    </tr>\n",
       "  </tbody>\n",
       "</table>\n",
       "<p>5 rows × 34 columns</p>\n",
       "</div>"
      ],
      "text/plain": [
       "   production  p_per_m2  p_max  panel_area  facade_area  total_panel_area  \\\n",
       "0       8.075     143.0  210.0        1.72        218.0              94.6   \n",
       "1       0.700     143.0  210.0        1.72        218.0              94.6   \n",
       "2       1.325     143.0  210.0        1.72        218.0              94.6   \n",
       "3       1.300     143.0  210.0        1.72        218.0              94.6   \n",
       "4      18.250     143.0  210.0        1.72        218.0              94.6   \n",
       "\n",
       "   exploitation_ratio  air_temp_mean  air_temp_max  clearsky_ghi_mean  ...  \\\n",
       "0               0.434       4.063830          6.50          61.673648  ...   \n",
       "1               0.434       4.221410          5.00          61.055629  ...   \n",
       "2               0.434       6.932292          8.75          89.687500  ...   \n",
       "3               0.434       5.822917          7.50          89.614583  ...   \n",
       "4               0.434       6.647368         11.50         154.226316  ...   \n",
       "\n",
       "   relative_humidity_max  surface_pressure_mean  surface_pressure_min  \\\n",
       "0                 95.675            1025.209907              1023.175   \n",
       "1                 95.350            1029.553147              1027.750   \n",
       "2                 92.875            1004.979167              1002.000   \n",
       "3                 92.700            1004.126042              1000.750   \n",
       "4                 85.625            1019.062632              1016.375   \n",
       "\n",
       "   surface_pressure_max  wind_direction_100m_mean  wind_direction_100m_min  \\\n",
       "0              1027.325                210.491356                   114.25   \n",
       "1              1031.600                221.406250                   115.00   \n",
       "2              1009.450                202.578125                   153.50   \n",
       "3              1010.600                216.354167                   181.50   \n",
       "4              1021.425                154.531579                   123.00   \n",
       "\n",
       "   wind_direction_100m_max  wind_speed_100m_mean  wind_speed_100m_min  \\\n",
       "0                    281.5              3.281959                1.625   \n",
       "1                    273.0              3.476042                1.650   \n",
       "2                    255.0              6.997396                5.025   \n",
       "3                    259.0              7.590625                5.450   \n",
       "4                    190.0              5.128947                3.625   \n",
       "\n",
       "   wind_speed_100m_max  \n",
       "0                5.025  \n",
       "1                5.000  \n",
       "2                9.425  \n",
       "3                9.650  \n",
       "4                7.500  \n",
       "\n",
       "[5 rows x 34 columns]"
      ]
     },
     "execution_count": 1,
     "metadata": {},
     "output_type": "execute_result"
    }
   ],
   "source": [
    "import pandas as pd\n",
    "df = pd.read_csv(\"./day_month.csv\")\n",
    "df.head()"
   ]
  },
  {
   "cell_type": "markdown",
   "id": "4884091d-d900-4304-bd85-494bca99d696",
   "metadata": {},
   "source": [
    "## Preoaring the (x,y) pairs"
   ]
  },
  {
   "cell_type": "markdown",
   "id": "c92e315f-50db-4459-9b4e-48b207193796",
   "metadata": {},
   "source": [
    "### Scaling the data"
   ]
  },
  {
   "cell_type": "code",
   "execution_count": 2,
   "id": "5614cf96-d036-4107-8fec-1fb22af9a4fd",
   "metadata": {},
   "outputs": [],
   "source": [
    "from sklearn.preprocessing import MinMaxScaler\n",
    "\n",
    "\n",
    "scaler = MinMaxScaler(feature_range=(0, 1))\n",
    "data_scaled = scaler.fit_transform(df.values)"
   ]
  },
  {
   "cell_type": "markdown",
   "id": "3d1e5543-f09d-41a0-bbab-974a3d0dd1a2",
   "metadata": {},
   "source": [
    "### Creating windows"
   ]
  },
  {
   "cell_type": "code",
   "execution_count": 3,
   "id": "828b7f15-0f3d-400a-a3f2-bd986c2680d8",
   "metadata": {},
   "outputs": [],
   "source": [
    "production_column = 'production'\n",
    "\n",
    "def get_target_column_index(df, target_column):\n",
    "    for i, column in enumerate(df.columns):\n",
    "        if column == target_column:\n",
    "            return i\n",
    "\n",
    "    return -1"
   ]
  },
  {
   "cell_type": "code",
   "execution_count": 4,
   "id": "c822e6f8-d837-453f-b70c-bbf367ac8581",
   "metadata": {},
   "outputs": [],
   "source": [
    "import numpy as np\n",
    "\n",
    "def get_windows(data, window_size=10):\n",
    "    x = []\n",
    "    y = []\n",
    "\n",
    "    for i in range(window_size, len(data)):\n",
    "        x.append(data[i-window_size:i])\n",
    "        y.append(data[i][get_target_column_index(df, production_column)])\n",
    "\n",
    "    return np.array(x), np.array(y)"
   ]
  },
  {
   "cell_type": "code",
   "execution_count": 5,
   "id": "3543cb8c-621f-41cd-9017-f8fc0356ee2f",
   "metadata": {},
   "outputs": [
    {
     "data": {
      "text/plain": [
       "((6562, 24, 34), (6562,))"
      ]
     },
     "execution_count": 5,
     "metadata": {},
     "output_type": "execute_result"
    }
   ],
   "source": [
    "window_size = 2*12  # 2*1h window\n",
    "x, y = get_windows(data_scaled, window_size=window_size)\n",
    "\n",
    "x.shape, y.shape"
   ]
  },
  {
   "cell_type": "markdown",
   "id": "799e0794-8c1e-4b66-8dbd-3e2534af076a",
   "metadata": {},
   "source": [
    "### Splitting the data"
   ]
  },
  {
   "cell_type": "code",
   "execution_count": 6,
   "id": "8ce26028-3567-4237-a04a-b7ed4c0403da",
   "metadata": {},
   "outputs": [
    {
     "data": {
      "text/plain": [
       "((5268, 24, 34), (5268,), (659, 24, 34), (659,), (635, 24, 34), (635,))"
      ]
     },
     "execution_count": 6,
     "metadata": {},
     "output_type": "execute_result"
    }
   ],
   "source": [
    "train_split_index = int(0.8 * len(df))\n",
    "test_split_index = int(0.9 * len(df))\n",
    "\n",
    "x_train, y_train = x[:train_split_index], y[:train_split_index]\n",
    "x_test, y_test = x[train_split_index:test_split_index], y[train_split_index:test_split_index]\n",
    "x_val, y_val = x[test_split_index:], y[test_split_index:]\n",
    "\n",
    "x_train.shape, y_train.shape, x_test.shape, y_test.shape, x_val.shape, y_val.shape"
   ]
  },
  {
   "cell_type": "markdown",
   "id": "68e0261d-acc0-49c8-bacc-3e95052c3ddd",
   "metadata": {},
   "source": [
    "### Plotting the splits"
   ]
  },
  {
   "cell_type": "code",
   "execution_count": 7,
   "id": "2cc98741-cdf2-42dc-9758-28cbeaa75ccc",
   "metadata": {},
   "outputs": [],
   "source": [
    "import matplotlib.pyplot as plt\n",
    "\n",
    "\n",
    "def plot_time_series(timesteps, values, label, format='-^', start=0, end=None):\n",
    "    plt.plot(timesteps[start:end], values[start:end], format, label=label)\n",
    "    plt.xlabel(\"date\")\n",
    "    plt.ylabel(\"production\")\n",
    "\n",
    "    plt.legend(fontsize=14)\n",
    "    plt.grid(True)"
   ]
  },
  {
   "cell_type": "code",
   "execution_count": 8,
   "id": "1e4d350a-513b-4dec-abee-ca02a0c63714",
   "metadata": {},
   "outputs": [
    {
     "data": {
      "image/png": "[encoded data removed]",
      "text/plain": [
       "<Figure size 2000x1600 with 1 Axes>"
      ]
     },
     "metadata": {},
     "output_type": "display_data"
    }
   ],
   "source": [
    "plt.figure(figsize=(20, 16))\n",
    "\n",
    "timesteps = range(len(x_train))\n",
    "plot_time_series(timesteps=timesteps, values=y_train, label=\"Train data\")\n",
    "\n",
    "timesteps = range(len(x_train), len(x_train) + len(x_test))\n",
    "plot_time_series(timesteps=timesteps, values=y_test, label=\"Test data\")\n",
    "\n",
    "timesteps = range(len(x_train) + len(x_test),\n",
    "                  len(x_train) + len(x_test) + len(x_val))\n",
    "plot_time_series(timesteps=timesteps, values=y_val, label=\"Validation data\")"
   ]
  },
  {
   "cell_type": "markdown",
   "id": "2a30768c-58a9-40a3-83a8-39ec459bfef3",
   "metadata": {},
   "source": [
    "### Preparing the performances metrics"
   ]
  },
  {
   "cell_type": "code",
   "execution_count": 9,
   "id": "c31ce7bc-9beb-48cb-9d47-c8d0ec729933",
   "metadata": {},
   "outputs": [],
   "source": [
    "import tensorflow as tf\n",
    "from sklearn.metrics import r2_score"
   ]
  },
  {
   "cell_type": "code",
   "execution_count": 10,
   "id": "26a1487c-f303-4fe6-a294-f1bc1590bdcb",
   "metadata": {},
   "outputs": [],
   "source": [
    "def evaluate_model(y_true, y_pred):\n",
    "    mse = mean_squared_error(y_true, y_pred)\n",
    "    r2 = r2_score(y_true, y_pred)\n",
    "    mae = mean_absolute_error(y_true, y_pred)\n",
    "    mape = mean_absolute_percentage_error(y_true, y_pred)\n",
    "\n",
    "    return {\n",
    "        'mse': mse,\n",
    "        'r2': r2,\n",
    "        'mae': mae,\n",
    "        'mape': mape,\n",
    "    }"
   ]
  },
  {
   "cell_type": "code",
   "execution_count": 11,
   "id": "25d39e89-2f6a-4796-acd4-a100851eb388",
   "metadata": {},
   "outputs": [],
   "source": [
    "def evaluate_preds(y_true, y_pred):\n",
    "    y_true = tf.cast(y_true, dtype=tf.float32)\n",
    "    y_pred = tf.cast(y_pred, dtype=tf.float32)\n",
    "\n",
    "    mae_metric = tf.keras.metrics.MeanAbsoluteError()\n",
    "    mse_metric = tf.keras.metrics.MeanSquaredError()\n",
    "\n",
    "    mae_metric.update_state(y_true, y_pred)\n",
    "    mse_metric.update_state(y_true, y_pred)\n",
    "\n",
    "    mae = mae_metric.result().numpy()\n",
    "    mse = mse_metric.result().numpy()\n",
    "    r2 = r2_score(y_true.numpy(), y_pred.numpy()) \n",
    "\n",
    "    return {\n",
    "        \"mae\": mae,\n",
    "        \"mse\": mse,\n",
    "        \"r2\": r2\n",
    "    }"
   ]
  },
  {
   "cell_type": "markdown",
   "id": "b091dd23-b359-4f7d-9086-52aa01750244",
   "metadata": {},
   "source": [
    "## Modeling"
   ]
  },
  {
   "cell_type": "code",
   "execution_count": 12,
   "id": "e41d3a7a-fe12-4fb2-8d53-bfd8af90a63c",
   "metadata": {},
   "outputs": [],
   "source": [
    "import os\n",
    "import tensorflow as tf\n",
    "\n",
    "from keras.layers import Dense, Dropout, LSTM, Flatten, ConvLSTM1D, MaxPool1D, GlobalMaxPool1D, Conv1D, Conv2D\n",
    "from keras.callbacks import EarlyStopping\n",
    "\n",
    "import matplotlib.pyplot as plt"
   ]
  },
  {
   "cell_type": "markdown",
   "id": "78e4f3c7-18db-470f-a25c-b522891ca857",
   "metadata": {},
   "source": [
    "### Plotting the loss"
   ]
  },
  {
   "cell_type": "code",
   "execution_count": 13,
   "id": "50aac448-442c-4bb5-8733-8a616947c50e",
   "metadata": {},
   "outputs": [],
   "source": [
    "def plot_loss(history):\n",
    "    plt.figure(figsize=(20, 8))\n",
    "\n",
    "    loss = history.history['loss']\n",
    "    val_loss = history.history['val_loss']\n",
    "    epochs = range(len(loss))\n",
    "\n",
    "    plt.plot(epochs, loss, 'b', label='Training loss')\n",
    "    plt.plot(epochs, val_loss, 'r', label='Validation loss')\n",
    "    plt.title('Training and validation loss')\n",
    "    plt.legend()\n",
    "\n",
    "    plt.show()"
   ]
  },
  {
   "cell_type": "markdown",
   "id": "88b8618c-48b8-49a0-8941-9b2508db007b",
   "metadata": {},
   "source": [
    "### Creating callbacks"
   ]
  },
  {
   "cell_type": "code",
   "execution_count": 14,
   "id": "965adcad-34ba-4eef-9b7a-77613811b525",
   "metadata": {},
   "outputs": [],
   "source": [
    "stop_early = EarlyStopping(monitor='val_loss', patience=5)\n",
    "\n",
    "\n",
    "def create_model_checkpoint(model_name, save_path=\"model_experiments\"):\n",
    "    return tf.keras.callbacks.ModelCheckpoint(filepath=os.path.join(save_path, model_name),\n",
    "                                              verbose=0,\n",
    "                                              save_best_only=True)"
   ]
  },
  {
   "cell_type": "markdown",
   "id": "6ce8ff1f-d21a-445c-ad0f-dff20fec0615",
   "metadata": {},
   "source": [
    "### Utils function"
   ]
  },
  {
   "cell_type": "code",
   "execution_count": 15,
   "id": "c93c80a3-ef8f-45a8-8603-bf7abccbe7cf",
   "metadata": {},
   "outputs": [],
   "source": [
    "def make_preds(model, input_data):\n",
    "    forecast = model.predict(input_data)\n",
    "    return tf.squeeze(forecast)"
   ]
  },
  {
   "cell_type": "markdown",
   "id": "2142904e-dfaf-400b-b058-05e5c549d9dc",
   "metadata": {},
   "source": [
    "## ConvLSTM"
   ]
  },
  {
   "cell_type": "markdown",
   "id": "8d34f641-b55f-42d9-b006-a326bf50c11b",
   "metadata": {},
   "source": [
    "#### Preparing the model"
   ]
  },
  {
   "cell_type": "code",
   "execution_count": 16,
   "id": "f9d05070-5f3a-44da-a96c-8ca6bdf4eb4a",
   "metadata": {},
   "outputs": [
    {
     "name": "stdout",
     "output_type": "stream",
     "text": [
      "(5268, 24, 34) -> (5268, 24, 1, 34)\n"
     ]
    }
   ],
   "source": [
    "x_train_conv_lstm = np.expand_dims(x_train, axis=2)\n",
    "x_val_conv_lstm = np.expand_dims(x_val, axis=2)\n",
    "x_test_conv_lstm = np.expand_dims(x_test, axis=2)\n",
    "\n",
    "print(f\"{x_train.shape} -> {x_train_conv_lstm.shape}\")"
   ]
  },
  {
   "cell_type": "code",
   "execution_count": 17,
   "id": "5d8d69b6-2f03-436a-90e5-4ff906e178de",
   "metadata": {},
   "outputs": [
    {
     "name": "stderr",
     "output_type": "stream",
     "text": [
      "C:\\Users\\peesc\\AppData\\Local\\Programs\\Python\\Python312\\Lib\\site-packages\\keras\\src\\layers\\rnn\\rnn.py:200: UserWarning: Do not pass an `input_shape`/`input_dim` argument to a layer. When using Sequential models, prefer using an `Input(shape)` object as the first layer in the model instead.\n",
      "  super().__init__(**kwargs)\n"
     ]
    },
    {
     "data": {
      "text/html": [
       "<pre style=\"white-space:pre;overflow-x:auto;line-height:normal;font-family:Menlo,'DejaVu Sans Mono',consolas,'Courier New',monospace\"><span style=\"font-weight: bold\">Model: \"model_conv_lstm.keras\"</span>\n",
       "</pre>\n"
      ],
      "text/plain": [
       "\u001b[1mModel: \"model_conv_lstm.keras\"\u001b[0m\n"
      ]
     },
     "metadata": {},
     "output_type": "display_data"
    },
    {
     "data": {
      "text/html": [
       "<pre style=\"white-space:pre;overflow-x:auto;line-height:normal;font-family:Menlo,'DejaVu Sans Mono',consolas,'Courier New',monospace\">┏━━━━━━━━━━━━━━━━━━━━━━━━━━━━━━━━━━━━━━┳━━━━━━━━━━━━━━━━━━━━━━━━━━━━━┳━━━━━━━━━━━━━━━━━┓\n",
       "┃<span style=\"font-weight: bold\"> Layer (type)                         </span>┃<span style=\"font-weight: bold\"> Output Shape                </span>┃<span style=\"font-weight: bold\">         Param # </span>┃\n",
       "┡━━━━━━━━━━━━━━━━━━━━━━━━━━━━━━━━━━━━━━╇━━━━━━━━━━━━━━━━━━━━━━━━━━━━━╇━━━━━━━━━━━━━━━━━┩\n",
       "│ conv_lstm1d (<span style=\"color: #0087ff; text-decoration-color: #0087ff\">ConvLSTM1D</span>)             │ (<span style=\"color: #00d7ff; text-decoration-color: #00d7ff\">None</span>, <span style=\"color: #00af00; text-decoration-color: #00af00\">24</span>, <span style=\"color: #00af00; text-decoration-color: #00af00\">1</span>, <span style=\"color: #00af00; text-decoration-color: #00af00\">64</span>)           │          <span style=\"color: #00af00; text-decoration-color: #00af00\">25,344</span> │\n",
       "├──────────────────────────────────────┼─────────────────────────────┼─────────────────┤\n",
       "│ conv_lstm1d_1 (<span style=\"color: #0087ff; text-decoration-color: #0087ff\">ConvLSTM1D</span>)           │ (<span style=\"color: #00d7ff; text-decoration-color: #00d7ff\">None</span>, <span style=\"color: #00af00; text-decoration-color: #00af00\">1</span>, <span style=\"color: #00af00; text-decoration-color: #00af00\">64</span>)               │          <span style=\"color: #00af00; text-decoration-color: #00af00\">33,024</span> │\n",
       "├──────────────────────────────────────┼─────────────────────────────┼─────────────────┤\n",
       "│ flatten (<span style=\"color: #0087ff; text-decoration-color: #0087ff\">Flatten</span>)                    │ (<span style=\"color: #00d7ff; text-decoration-color: #00d7ff\">None</span>, <span style=\"color: #00af00; text-decoration-color: #00af00\">64</span>)                  │               <span style=\"color: #00af00; text-decoration-color: #00af00\">0</span> │\n",
       "├──────────────────────────────────────┼─────────────────────────────┼─────────────────┤\n",
       "│ dense (<span style=\"color: #0087ff; text-decoration-color: #0087ff\">Dense</span>)                        │ (<span style=\"color: #00d7ff; text-decoration-color: #00d7ff\">None</span>, <span style=\"color: #00af00; text-decoration-color: #00af00\">128</span>)                 │           <span style=\"color: #00af00; text-decoration-color: #00af00\">8,320</span> │\n",
       "├──────────────────────────────────────┼─────────────────────────────┼─────────────────┤\n",
       "│ dense_1 (<span style=\"color: #0087ff; text-decoration-color: #0087ff\">Dense</span>)                      │ (<span style=\"color: #00d7ff; text-decoration-color: #00d7ff\">None</span>, <span style=\"color: #00af00; text-decoration-color: #00af00\">1</span>)                   │             <span style=\"color: #00af00; text-decoration-color: #00af00\">129</span> │\n",
       "└──────────────────────────────────────┴─────────────────────────────┴─────────────────┘\n",
       "</pre>\n"
      ],
      "text/plain": [
       "┏━━━━━━━━━━━━━━━━━━━━━━━━━━━━━━━━━━━━━━┳━━━━━━━━━━━━━━━━━━━━━━━━━━━━━┳━━━━━━━━━━━━━━━━━┓\n",
       "┃\u001b[1m \u001b[0m\u001b[1mLayer (type)                        \u001b[0m\u001b[1m \u001b[0m┃\u001b[1m \u001b[0m\u001b[1mOutput Shape               \u001b[0m\u001b[1m \u001b[0m┃\u001b[1m \u001b[0m\u001b[1m        Param #\u001b[0m\u001b[1m \u001b[0m┃\n",
       "┡━━━━━━━━━━━━━━━━━━━━━━━━━━━━━━━━━━━━━━╇━━━━━━━━━━━━━━━━━━━━━━━━━━━━━╇━━━━━━━━━━━━━━━━━┩\n",
       "│ conv_lstm1d (\u001b[38;5;33mConvLSTM1D\u001b[0m)             │ (\u001b[38;5;45mNone\u001b[0m, \u001b[38;5;34m24\u001b[0m, \u001b[38;5;34m1\u001b[0m, \u001b[38;5;34m64\u001b[0m)           │          \u001b[38;5;34m25,344\u001b[0m │\n",
       "├──────────────────────────────────────┼─────────────────────────────┼─────────────────┤\n",
       "│ conv_lstm1d_1 (\u001b[38;5;33mConvLSTM1D\u001b[0m)           │ (\u001b[38;5;45mNone\u001b[0m, \u001b[38;5;34m1\u001b[0m, \u001b[38;5;34m64\u001b[0m)               │          \u001b[38;5;34m33,024\u001b[0m │\n",
       "├──────────────────────────────────────┼─────────────────────────────┼─────────────────┤\n",
       "│ flatten (\u001b[38;5;33mFlatten\u001b[0m)                    │ (\u001b[38;5;45mNone\u001b[0m, \u001b[38;5;34m64\u001b[0m)                  │               \u001b[38;5;34m0\u001b[0m │\n",
       "├──────────────────────────────────────┼─────────────────────────────┼─────────────────┤\n",
       "│ dense (\u001b[38;5;33mDense\u001b[0m)                        │ (\u001b[38;5;45mNone\u001b[0m, \u001b[38;5;34m128\u001b[0m)                 │           \u001b[38;5;34m8,320\u001b[0m │\n",
       "├──────────────────────────────────────┼─────────────────────────────┼─────────────────┤\n",
       "│ dense_1 (\u001b[38;5;33mDense\u001b[0m)                      │ (\u001b[38;5;45mNone\u001b[0m, \u001b[38;5;34m1\u001b[0m)                   │             \u001b[38;5;34m129\u001b[0m │\n",
       "└──────────────────────────────────────┴─────────────────────────────┴─────────────────┘\n"
      ]
     },
     "metadata": {},
     "output_type": "display_data"
    },
    {
     "data": {
      "text/html": [
       "<pre style=\"white-space:pre;overflow-x:auto;line-height:normal;font-family:Menlo,'DejaVu Sans Mono',consolas,'Courier New',monospace\"><span style=\"font-weight: bold\"> Total params: </span><span style=\"color: #00af00; text-decoration-color: #00af00\">66,817</span> (261.00 KB)\n",
       "</pre>\n"
      ],
      "text/plain": [
       "\u001b[1m Total params: \u001b[0m\u001b[38;5;34m66,817\u001b[0m (261.00 KB)\n"
      ]
     },
     "metadata": {},
     "output_type": "display_data"
    },
    {
     "data": {
      "text/html": [
       "<pre style=\"white-space:pre;overflow-x:auto;line-height:normal;font-family:Menlo,'DejaVu Sans Mono',consolas,'Courier New',monospace\"><span style=\"font-weight: bold\"> Trainable params: </span><span style=\"color: #00af00; text-decoration-color: #00af00\">66,817</span> (261.00 KB)\n",
       "</pre>\n"
      ],
      "text/plain": [
       "\u001b[1m Trainable params: \u001b[0m\u001b[38;5;34m66,817\u001b[0m (261.00 KB)\n"
      ]
     },
     "metadata": {},
     "output_type": "display_data"
    },
    {
     "data": {
      "text/html": [
       "<pre style=\"white-space:pre;overflow-x:auto;line-height:normal;font-family:Menlo,'DejaVu Sans Mono',consolas,'Courier New',monospace\"><span style=\"font-weight: bold\"> Non-trainable params: </span><span style=\"color: #00af00; text-decoration-color: #00af00\">0</span> (0.00 B)\n",
       "</pre>\n"
      ],
      "text/plain": [
       "\u001b[1m Non-trainable params: \u001b[0m\u001b[38;5;34m0\u001b[0m (0.00 B)\n"
      ]
     },
     "metadata": {},
     "output_type": "display_data"
    }
   ],
   "source": [
    "from tensorflow.keras.layers import ConvLSTM1D, Flatten, Dense\n",
    "\n",
    "# Hyperparamètres optimisés\n",
    "filters = 64\n",
    "kernel_size = 1\n",
    "activation = 'relu'\n",
    "dense_units = 128\n",
    "learning_rate = 0.0036909175284319386\n",
    "\n",
    "tf.random.set_seed(42)\n",
    "\n",
    "input_shape = (x_train_conv_lstm.shape[1:])\n",
    "conv_lstm_model = tf.keras.Sequential([\n",
    "    ConvLSTM1D(filters=filters, kernel_size=(kernel_size,), activation=activation,\n",
    "               return_sequences=True, input_shape=input_shape),\n",
    "    ConvLSTM1D(filters=filters, kernel_size=(kernel_size,), activation=activation,\n",
    "               return_sequences=False),\n",
    "    Flatten(),\n",
    "    Dense(units=dense_units, activation='relu'),\n",
    "    Dense(1, activation=\"linear\")\n",
    "], name=\"model_conv_lstm.keras\")\n",
    "\n",
    "conv_lstm_model.compile(\n",
    "    loss=\"mae\",\n",
    "    optimizer=tf.keras.optimizers.Adam(learning_rate=learning_rate)\n",
    ")\n",
    "\n",
    "conv_lstm_model.summary()"
   ]
  },
  {
   "cell_type": "markdown",
   "id": "2430c2a0-77f9-4450-86a7-ae6678e29b3e",
   "metadata": {},
   "source": [
    "#### Training the model convlstm"
   ]
  },
  {
   "cell_type": "code",
   "execution_count": 18,
   "id": "5ec8e3ee-1f05-4196-a1d8-740dbd826aa7",
   "metadata": {},
   "outputs": [
    {
     "name": "stderr",
     "output_type": "stream",
     "text": [
      "[codecarbon INFO @ 03:35:43] [setup] RAM Tracking...\n",
      "[codecarbon INFO @ 03:35:43] [setup] CPU Tracking...\n",
      "[codecarbon WARNING @ 03:35:43] No CPU tracking mode found. Falling back on CPU constant mode. \n",
      " Windows OS detected: Please install Intel Power Gadget to measure CPU\n",
      "\n",
      "[codecarbon INFO @ 03:35:45] CPU Model on constant consumption mode: Intel(R) Core(TM) i7-9700K CPU @ 3.60GHz\n",
      "[codecarbon INFO @ 03:35:45] [setup] GPU Tracking...\n",
      "[codecarbon INFO @ 03:35:45] Tracking Nvidia GPU via pynvml\n",
      "[codecarbon INFO @ 03:35:45] >>> Tracker's metadata:\n",
      "[codecarbon INFO @ 03:35:45]   Platform system: Windows-10-10.0.19045-SP0\n",
      "[codecarbon INFO @ 03:35:45]   Python version: 3.12.3\n",
      "[codecarbon INFO @ 03:35:45]   CodeCarbon version: 2.8.3\n",
      "[codecarbon INFO @ 03:35:45]   Available RAM : 31.935 GB\n",
      "[codecarbon INFO @ 03:35:45]   CPU count: 8\n",
      "[codecarbon INFO @ 03:35:45]   CPU model: Intel(R) Core(TM) i7-9700K CPU @ 3.60GHz\n",
      "[codecarbon INFO @ 03:35:45]   GPU count: 1\n",
      "[codecarbon INFO @ 03:35:45]   GPU model: 1 x NVIDIA GeForce RTX 3070\n",
      "[codecarbon INFO @ 03:35:48] Saving emissions data to file C:\\Users\\peesc\\A4\\Projet_Recherche\\Final\\emissions\\emissions_conv_lstm.csv\n"
     ]
    }
   ],
   "source": [
    "import os\n",
    "import time\n",
    "import logging\n",
    "from codecarbon import EmissionsTracker\n",
    "\n",
    "\n",
    "os.makedirs('emissions', exist_ok=True)\n",
    "\n",
    "tracker_conv_lstm = EmissionsTracker(\n",
    "    project_name=\"PEWH\",\n",
    "    co2_signal_api_token=\"9RkoBO6iipmoq\",\n",
    "    log_level=logging.INFO,\n",
    "    output_file=\"emissions_conv_lstm.csv\",\n",
    "    output_dir='./emissions/',\n",
    "    save_to_file=True,\n",
    "    measure_power_secs=10\n",
    ")"
   ]
  },
  {
   "cell_type": "code",
   "execution_count": 19,
   "id": "c5fb7a4d-6e6b-4b1e-b76d-c69b9b7b96dd",
   "metadata": {},
   "outputs": [],
   "source": [
    "def start_training_conv_lstm():\n",
    "    start_time = time.time()\n",
    "    conv_lstm_history = conv_lstm_model.fit(x=x_train_conv_lstm,\n",
    "                                            y=y_train,\n",
    "                                            epochs=300,\n",
    "                                            verbose=1,\n",
    "                                            batch_size=512,\n",
    "                                            validation_data=(\n",
    "                                                x_val_conv_lstm, y_val),\n",
    "                                            callbacks=[create_model_checkpoint(model_name=conv_lstm_model.name)])\n",
    "    training_duration = time.time() - start_time\n",
    "\n",
    "    return conv_lstm_history, training_duration"
   ]
  },
  {
   "cell_type": "code",
   "execution_count": null,
   "id": "9550aec7-e755-4860-afca-c2e31a77e331",
   "metadata": {},
   "outputs": [
    {
     "name": "stdout",
     "output_type": "stream",
     "text": [
      "Epoch 1/300\n",
      "\u001b[1m11/11\u001b[0m \u001b[32m━━━━━━━━━━━━━━━━━━━━\u001b[0m\u001b[37m\u001b[0m \u001b[1m5s\u001b[0m 117ms/step - loss: 0.1388 - val_loss: 0.0414\n",
      "Epoch 2/300\n",
      "\u001b[1m11/11\u001b[0m \u001b[32m━━━━━━━━━━━━━━━━━━━━\u001b[0m\u001b[37m\u001b[0m \u001b[1m1s\u001b[0m 69ms/step - loss: 0.0549 - val_loss: 0.0355\n",
      "Epoch 3/300\n",
      "\u001b[1m11/11\u001b[0m \u001b[32m━━━━━━━━━━━━━━━━━━━━\u001b[0m\u001b[37m\u001b[0m \u001b[1m1s\u001b[0m 64ms/step - loss: 0.0507 - val_loss: 0.0372\n",
      "Epoch 4/300\n",
      "\u001b[1m11/11\u001b[0m \u001b[32m━━━━━━━━━━━━━━━━━━━━\u001b[0m\u001b[37m\u001b[0m \u001b[1m1s\u001b[0m 61ms/step - loss: 0.0500 - val_loss: 0.0357\n",
      "Epoch 5/300\n",
      "\u001b[1m11/11\u001b[0m \u001b[32m━━━━━━━━━━━━━━━━━━━━\u001b[0m\u001b[37m\u001b[0m \u001b[1m1s\u001b[0m 66ms/step - loss: 0.0479 - val_loss: 0.0310\n",
      "Epoch 6/300\n",
      "\u001b[1m11/11\u001b[0m \u001b[32m━━━━━━━━━━━━━━━━━━━━\u001b[0m\u001b[37m\u001b[0m \u001b[1m1s\u001b[0m 66ms/step - loss: 0.0455 - val_loss: 0.0312\n",
      "Epoch 7/300\n",
      "\u001b[1m11/11\u001b[0m \u001b[32m━━━━━━━━━━━━━━━━━━━━\u001b[0m\u001b[37m\u001b[0m \u001b[1m1s\u001b[0m 62ms/step - loss: 0.0445 - val_loss: 0.0311\n",
      "Epoch 8/300\n",
      "\u001b[1m10/11\u001b[0m \u001b[32m━━━━━━━━━━━━━━━━━━\u001b[0m\u001b[37m━━\u001b[0m \u001b[1m0s\u001b[0m 56ms/step - loss: 0.0453"
     ]
    },
    {
     "name": "stderr",
     "output_type": "stream",
     "text": [
      "[codecarbon INFO @ 03:35:58] Energy consumed for RAM : 0.000033 kWh. RAM Power : 11.975459575653076 W\n",
      "[codecarbon INFO @ 03:35:58] Energy consumed for all CPUs : 0.000132 kWh. Total CPU Power : 47.5 W\n",
      "[codecarbon INFO @ 03:35:58] Energy consumed for all GPUs : 0.000073 kWh. Total GPU Power : 26.311583272535565 W\n",
      "[codecarbon INFO @ 03:35:58] 0.000239 kWh of electricity used since the beginning.\n"
     ]
    },
    {
     "name": "stdout",
     "output_type": "stream",
     "text": [
      "\u001b[1m11/11\u001b[0m \u001b[32m━━━━━━━━━━━━━━━━━━━━\u001b[0m\u001b[37m\u001b[0m \u001b[1m1s\u001b[0m 66ms/step - loss: 0.0452 - val_loss: 0.0294\n",
      "Epoch 9/300\n",
      "\u001b[1m11/11\u001b[0m \u001b[32m━━━━━━━━━━━━━━━━━━━━\u001b[0m\u001b[37m\u001b[0m \u001b[1m1s\u001b[0m 62ms/step - loss: 0.0432 - val_loss: 0.0295\n",
      "Epoch 10/300\n",
      "\u001b[1m11/11\u001b[0m \u001b[32m━━━━━━━━━━━━━━━━━━━━\u001b[0m\u001b[37m\u001b[0m \u001b[1m1s\u001b[0m 63ms/step - loss: 0.0408 - val_loss: 0.0291\n",
      "Epoch 11/300\n",
      "\u001b[1m11/11\u001b[0m \u001b[32m━━━━━━━━━━━━━━━━━━━━\u001b[0m\u001b[37m\u001b[0m \u001b[1m1s\u001b[0m 63ms/step - loss: 0.0398 - val_loss: 0.0276\n",
      "Epoch 12/300\n",
      "\u001b[1m11/11\u001b[0m \u001b[32m━━━━━━━━━━━━━━━━━━━━\u001b[0m\u001b[37m\u001b[0m \u001b[1m1s\u001b[0m 72ms/step - loss: 0.0389 - val_loss: 0.0274\n",
      "Epoch 13/300\n",
      "\u001b[1m11/11\u001b[0m \u001b[32m━━━━━━━━━━━━━━━━━━━━\u001b[0m\u001b[37m\u001b[0m \u001b[1m1s\u001b[0m 61ms/step - loss: 0.0386 - val_loss: 0.0282\n",
      "Epoch 14/300\n",
      "\u001b[1m11/11\u001b[0m \u001b[32m━━━━━━━━━━━━━━━━━━━━\u001b[0m\u001b[37m\u001b[0m \u001b[1m1s\u001b[0m 70ms/step - loss: 0.0378 - val_loss: 0.0294\n",
      "Epoch 15/300\n",
      "\u001b[1m11/11\u001b[0m \u001b[32m━━━━━━━━━━━━━━━━━━━━\u001b[0m\u001b[37m\u001b[0m \u001b[1m1s\u001b[0m 58ms/step - loss: 0.0367 - val_loss: 0.0283\n",
      "Epoch 16/300\n",
      "\u001b[1m11/11\u001b[0m \u001b[32m━━━━━━━━━━━━━━━━━━━━\u001b[0m\u001b[37m\u001b[0m \u001b[1m1s\u001b[0m 62ms/step - loss: 0.0368 - val_loss: 0.0282\n",
      "Epoch 17/300\n",
      "\u001b[1m11/11\u001b[0m \u001b[32m━━━━━━━━━━━━━━━━━━━━\u001b[0m\u001b[37m\u001b[0m \u001b[1m1s\u001b[0m 63ms/step - loss: 0.0361 - val_loss: 0.0294\n",
      "Epoch 18/300\n",
      "\u001b[1m11/11\u001b[0m \u001b[32m━━━━━━━━━━━━━━━━━━━━\u001b[0m\u001b[37m\u001b[0m \u001b[1m1s\u001b[0m 64ms/step - loss: 0.0359 - val_loss: 0.0284\n",
      "Epoch 19/300\n",
      "\u001b[1m11/11\u001b[0m \u001b[32m━━━━━━━━━━━━━━━━━━━━\u001b[0m\u001b[37m\u001b[0m \u001b[1m1s\u001b[0m 86ms/step - loss: 0.0365 - val_loss: 0.0280\n",
      "Epoch 20/300\n",
      "\u001b[1m11/11\u001b[0m \u001b[32m━━━━━━━━━━━━━━━━━━━━\u001b[0m\u001b[37m\u001b[0m \u001b[1m1s\u001b[0m 74ms/step - loss: 0.0366 - val_loss: 0.0288\n",
      "Epoch 21/300\n",
      "\u001b[1m11/11\u001b[0m \u001b[32m━━━━━━━━━━━━━━━━━━━━\u001b[0m\u001b[37m\u001b[0m \u001b[1m1s\u001b[0m 66ms/step - loss: 0.0371 - val_loss: 0.0284\n",
      "Epoch 22/300\n",
      "\u001b[1m 3/11\u001b[0m \u001b[32m━━━━━\u001b[0m\u001b[37m━━━━━━━━━━━━━━━\u001b[0m \u001b[1m0s\u001b[0m 61ms/step - loss: 0.0366"
     ]
    },
    {
     "name": "stderr",
     "output_type": "stream",
     "text": [
      "[codecarbon INFO @ 03:36:08] Energy consumed for RAM : 0.000067 kWh. RAM Power : 11.975459575653076 W\n",
      "[codecarbon INFO @ 03:36:08] Energy consumed for all CPUs : 0.000264 kWh. Total CPU Power : 47.5 W\n",
      "[codecarbon INFO @ 03:36:08] Energy consumed for all GPUs : 0.000151 kWh. Total GPU Power : 27.970993022182352 W\n",
      "[codecarbon INFO @ 03:36:08] 0.000482 kWh of electricity used since the beginning.\n"
     ]
    },
    {
     "name": "stdout",
     "output_type": "stream",
     "text": [
      "\u001b[1m11/11\u001b[0m \u001b[32m━━━━━━━━━━━━━━━━━━━━\u001b[0m\u001b[37m\u001b[0m \u001b[1m1s\u001b[0m 67ms/step - loss: 0.0363 - val_loss: 0.0278\n",
      "Epoch 23/300\n",
      "\u001b[1m11/11\u001b[0m \u001b[32m━━━━━━━━━━━━━━━━━━━━\u001b[0m\u001b[37m\u001b[0m \u001b[1m1s\u001b[0m 67ms/step - loss: 0.0355 - val_loss: 0.0266\n",
      "Epoch 24/300\n",
      "\u001b[1m11/11\u001b[0m \u001b[32m━━━━━━━━━━━━━━━━━━━━\u001b[0m\u001b[37m\u001b[0m \u001b[1m1s\u001b[0m 64ms/step - loss: 0.0358 - val_loss: 0.0285\n",
      "Epoch 25/300\n",
      "\u001b[1m11/11\u001b[0m \u001b[32m━━━━━━━━━━━━━━━━━━━━\u001b[0m\u001b[37m\u001b[0m \u001b[1m1s\u001b[0m 69ms/step - loss: 0.0352 - val_loss: 0.0288\n",
      "Epoch 26/300\n",
      "\u001b[1m11/11\u001b[0m \u001b[32m━━━━━━━━━━━━━━━━━━━━\u001b[0m\u001b[37m\u001b[0m \u001b[1m1s\u001b[0m 62ms/step - loss: 0.0352 - val_loss: 0.0292\n",
      "Epoch 27/300\n",
      "\u001b[1m11/11\u001b[0m \u001b[32m━━━━━━━━━━━━━━━━━━━━\u001b[0m\u001b[37m\u001b[0m \u001b[1m1s\u001b[0m 68ms/step - loss: 0.0358 - val_loss: 0.0278\n",
      "Epoch 28/300\n",
      "\u001b[1m11/11\u001b[0m \u001b[32m━━━━━━━━━━━━━━━━━━━━\u001b[0m\u001b[37m\u001b[0m \u001b[1m1s\u001b[0m 61ms/step - loss: 0.0351 - val_loss: 0.0276\n",
      "Epoch 29/300\n",
      "\u001b[1m11/11\u001b[0m \u001b[32m━━━━━━━━━━━━━━━━━━━━\u001b[0m\u001b[37m\u001b[0m \u001b[1m1s\u001b[0m 61ms/step - loss: 0.0347 - val_loss: 0.0273\n",
      "Epoch 30/300\n",
      "\u001b[1m11/11\u001b[0m \u001b[32m━━━━━━━━━━━━━━━━━━━━\u001b[0m\u001b[37m\u001b[0m \u001b[1m1s\u001b[0m 60ms/step - loss: 0.0346 - val_loss: 0.0281\n",
      "Epoch 31/300\n",
      "\u001b[1m11/11\u001b[0m \u001b[32m━━━━━━━━━━━━━━━━━━━━\u001b[0m\u001b[37m\u001b[0m \u001b[1m1s\u001b[0m 61ms/step - loss: 0.0348 - val_loss: 0.0278\n",
      "Epoch 32/300\n",
      "\u001b[1m11/11\u001b[0m \u001b[32m━━━━━━━━━━━━━━━━━━━━\u001b[0m\u001b[37m\u001b[0m \u001b[1m1s\u001b[0m 58ms/step - loss: 0.0343 - val_loss: 0.0268\n",
      "Epoch 33/300\n",
      "\u001b[1m11/11\u001b[0m \u001b[32m━━━━━━━━━━━━━━━━━━━━\u001b[0m\u001b[37m\u001b[0m \u001b[1m1s\u001b[0m 69ms/step - loss: 0.0341 - val_loss: 0.0273\n",
      "Epoch 34/300\n",
      "\u001b[1m11/11\u001b[0m \u001b[32m━━━━━━━━━━━━━━━━━━━━\u001b[0m\u001b[37m\u001b[0m \u001b[1m1s\u001b[0m 62ms/step - loss: 0.0339 - val_loss: 0.0268\n",
      "Epoch 35/300\n",
      "\u001b[1m11/11\u001b[0m \u001b[32m━━━━━━━━━━━━━━━━━━━━\u001b[0m\u001b[37m\u001b[0m \u001b[1m1s\u001b[0m 62ms/step - loss: 0.0342 - val_loss: 0.0265\n",
      "Epoch 36/300\n",
      "\u001b[1m 4/11\u001b[0m \u001b[32m━━━━━━━\u001b[0m\u001b[37m━━━━━━━━━━━━━\u001b[0m \u001b[1m0s\u001b[0m 54ms/step - loss: 0.0349"
     ]
    },
    {
     "name": "stderr",
     "output_type": "stream",
     "text": [
      "[codecarbon INFO @ 03:36:18] Energy consumed for RAM : 0.000100 kWh. RAM Power : 11.975459575653076 W\n",
      "[codecarbon INFO @ 03:36:18] Energy consumed for all CPUs : 0.000396 kWh. Total CPU Power : 47.5 W\n"
     ]
    },
    {
     "name": "stdout",
     "output_type": "stream",
     "text": [
      "\u001b[1m 5/11\u001b[0m \u001b[32m━━━━━━━━━\u001b[0m\u001b[37m━━━━━━━━━━━\u001b[0m \u001b[1m0s\u001b[0m 56ms/step - loss: 0.0350"
     ]
    },
    {
     "name": "stderr",
     "output_type": "stream",
     "text": [
      "[codecarbon INFO @ 03:36:18] Energy consumed for all GPUs : 0.000241 kWh. Total GPU Power : 32.39899652571067 W\n",
      "[codecarbon INFO @ 03:36:18] 0.000737 kWh of electricity used since the beginning.\n"
     ]
    },
    {
     "name": "stdout",
     "output_type": "stream",
     "text": [
      "\u001b[1m11/11\u001b[0m \u001b[32m━━━━━━━━━━━━━━━━━━━━\u001b[0m\u001b[37m\u001b[0m \u001b[1m1s\u001b[0m 60ms/step - loss: 0.0351 - val_loss: 0.0282\n",
      "Epoch 37/300\n",
      "\u001b[1m11/11\u001b[0m \u001b[32m━━━━━━━━━━━━━━━━━━━━\u001b[0m\u001b[37m\u001b[0m \u001b[1m1s\u001b[0m 65ms/step - loss: 0.0350 - val_loss: 0.0281\n",
      "Epoch 38/300\n",
      "\u001b[1m11/11\u001b[0m \u001b[32m━━━━━━━━━━━━━━━━━━━━\u001b[0m\u001b[37m\u001b[0m \u001b[1m1s\u001b[0m 58ms/step - loss: 0.0354 - val_loss: 0.0272\n",
      "Epoch 39/300\n",
      "\u001b[1m11/11\u001b[0m \u001b[32m━━━━━━━━━━━━━━━━━━━━\u001b[0m\u001b[37m\u001b[0m \u001b[1m1s\u001b[0m 62ms/step - loss: 0.0352 - val_loss: 0.0272\n",
      "Epoch 40/300\n",
      "\u001b[1m11/11\u001b[0m \u001b[32m━━━━━━━━━━━━━━━━━━━━\u001b[0m\u001b[37m\u001b[0m \u001b[1m1s\u001b[0m 71ms/step - loss: 0.0341 - val_loss: 0.0262\n",
      "Epoch 41/300\n",
      "\u001b[1m11/11\u001b[0m \u001b[32m━━━━━━━━━━━━━━━━━━━━\u001b[0m\u001b[37m\u001b[0m \u001b[1m1s\u001b[0m 59ms/step - loss: 0.0337 - val_loss: 0.0265\n",
      "Epoch 42/300\n",
      "\u001b[1m11/11\u001b[0m \u001b[32m━━━━━━━━━━━━━━━━━━━━\u001b[0m\u001b[37m\u001b[0m \u001b[1m1s\u001b[0m 60ms/step - loss: 0.0336 - val_loss: 0.0263\n",
      "Epoch 43/300\n",
      "\u001b[1m11/11\u001b[0m \u001b[32m━━━━━━━━━━━━━━━━━━━━\u001b[0m\u001b[37m\u001b[0m \u001b[1m1s\u001b[0m 58ms/step - loss: 0.0337 - val_loss: 0.0264\n",
      "Epoch 44/300\n",
      "\u001b[1m11/11\u001b[0m \u001b[32m━━━━━━━━━━━━━━━━━━━━\u001b[0m\u001b[37m\u001b[0m \u001b[1m1s\u001b[0m 64ms/step - loss: 0.0333 - val_loss: 0.0260\n",
      "Epoch 45/300\n",
      "\u001b[1m11/11\u001b[0m \u001b[32m━━━━━━━━━━━━━━━━━━━━\u001b[0m\u001b[37m\u001b[0m \u001b[1m1s\u001b[0m 61ms/step - loss: 0.0333 - val_loss: 0.0264\n",
      "Epoch 46/300\n",
      "\u001b[1m11/11\u001b[0m \u001b[32m━━━━━━━━━━━━━━━━━━━━\u001b[0m\u001b[37m\u001b[0m \u001b[1m1s\u001b[0m 57ms/step - loss: 0.0334 - val_loss: 0.0269\n",
      "Epoch 47/300\n",
      "\u001b[1m11/11\u001b[0m \u001b[32m━━━━━━━━━━━━━━━━━━━━\u001b[0m\u001b[37m\u001b[0m \u001b[1m1s\u001b[0m 67ms/step - loss: 0.0333 - val_loss: 0.0262\n",
      "Epoch 48/300\n",
      "\u001b[1m11/11\u001b[0m \u001b[32m━━━━━━━━━━━━━━━━━━━━\u001b[0m\u001b[37m\u001b[0m \u001b[1m1s\u001b[0m 62ms/step - loss: 0.0334 - val_loss: 0.0260\n",
      "Epoch 49/300\n",
      "\u001b[1m11/11\u001b[0m \u001b[32m━━━━━━━━━━━━━━━━━━━━\u001b[0m\u001b[37m\u001b[0m \u001b[1m1s\u001b[0m 58ms/step - loss: 0.0329 - val_loss: 0.0267\n",
      "Epoch 50/300\n",
      "\u001b[1m10/11\u001b[0m \u001b[32m━━━━━━━━━━━━━━━━━━\u001b[0m\u001b[37m━━\u001b[0m \u001b[1m0s\u001b[0m 58ms/step - loss: 0.0328"
     ]
    },
    {
     "name": "stderr",
     "output_type": "stream",
     "text": [
      "[codecarbon INFO @ 03:36:28] Energy consumed for RAM : 0.000133 kWh. RAM Power : 11.975459575653076 W\n",
      "[codecarbon INFO @ 03:36:28] Energy consumed for all CPUs : 0.000528 kWh. Total CPU Power : 47.5 W\n",
      "[codecarbon INFO @ 03:36:28] Energy consumed for all GPUs : 0.000325 kWh. Total GPU Power : 30.15317693029853 W\n",
      "[codecarbon INFO @ 03:36:28] 0.000986 kWh of electricity used since the beginning.\n"
     ]
    },
    {
     "name": "stdout",
     "output_type": "stream",
     "text": [
      "\u001b[1m11/11\u001b[0m \u001b[32m━━━━━━━━━━━━━━━━━━━━\u001b[0m\u001b[37m\u001b[0m \u001b[1m1s\u001b[0m 66ms/step - loss: 0.0328 - val_loss: 0.0259\n",
      "Epoch 51/300\n",
      "\u001b[1m11/11\u001b[0m \u001b[32m━━━━━━━━━━━━━━━━━━━━\u001b[0m\u001b[37m\u001b[0m \u001b[1m1s\u001b[0m 68ms/step - loss: 0.0334 - val_loss: 0.0262\n",
      "Epoch 52/300\n",
      "\u001b[1m11/11\u001b[0m \u001b[32m━━━━━━━━━━━━━━━━━━━━\u001b[0m\u001b[37m\u001b[0m \u001b[1m1s\u001b[0m 66ms/step - loss: 0.0326 - val_loss: 0.0258\n",
      "Epoch 53/300\n",
      "\u001b[1m11/11\u001b[0m \u001b[32m━━━━━━━━━━━━━━━━━━━━\u001b[0m\u001b[37m\u001b[0m \u001b[1m1s\u001b[0m 63ms/step - loss: 0.0329 - val_loss: 0.0260\n",
      "Epoch 54/300\n",
      "\u001b[1m11/11\u001b[0m \u001b[32m━━━━━━━━━━━━━━━━━━━━\u001b[0m\u001b[37m\u001b[0m \u001b[1m1s\u001b[0m 76ms/step - loss: 0.0324 - val_loss: 0.0256\n",
      "Epoch 55/300\n",
      "\u001b[1m11/11\u001b[0m \u001b[32m━━━━━━━━━━━━━━━━━━━━\u001b[0m\u001b[37m\u001b[0m \u001b[1m1s\u001b[0m 60ms/step - loss: 0.0318 - val_loss: 0.0253\n",
      "Epoch 56/300\n",
      "\u001b[1m11/11\u001b[0m \u001b[32m━━━━━━━━━━━━━━━━━━━━\u001b[0m\u001b[37m\u001b[0m \u001b[1m1s\u001b[0m 57ms/step - loss: 0.0318 - val_loss: 0.0266\n",
      "Epoch 57/300\n",
      "\u001b[1m11/11\u001b[0m \u001b[32m━━━━━━━━━━━━━━━━━━━━\u001b[0m\u001b[37m\u001b[0m \u001b[1m1s\u001b[0m 64ms/step - loss: 0.0329 - val_loss: 0.0279\n",
      "Epoch 58/300\n",
      "\u001b[1m11/11\u001b[0m \u001b[32m━━━━━━━━━━━━━━━━━━━━\u001b[0m\u001b[37m\u001b[0m \u001b[1m1s\u001b[0m 67ms/step - loss: 0.0325 - val_loss: 0.0263\n",
      "Epoch 59/300\n",
      "\u001b[1m11/11\u001b[0m \u001b[32m━━━━━━━━━━━━━━━━━━━━\u001b[0m\u001b[37m\u001b[0m \u001b[1m1s\u001b[0m 67ms/step - loss: 0.0329 - val_loss: 0.0271\n",
      "Epoch 60/300\n",
      "\u001b[1m11/11\u001b[0m \u001b[32m━━━━━━━━━━━━━━━━━━━━\u001b[0m\u001b[37m\u001b[0m \u001b[1m1s\u001b[0m 65ms/step - loss: 0.0332 - val_loss: 0.0261\n",
      "Epoch 61/300\n",
      "\u001b[1m11/11\u001b[0m \u001b[32m━━━━━━━━━━━━━━━━━━━━\u001b[0m\u001b[37m\u001b[0m \u001b[1m1s\u001b[0m 65ms/step - loss: 0.0324 - val_loss: 0.0254\n",
      "Epoch 62/300\n",
      "\u001b[1m11/11\u001b[0m \u001b[32m━━━━━━━━━━━━━━━━━━━━\u001b[0m\u001b[37m\u001b[0m \u001b[1m1s\u001b[0m 63ms/step - loss: 0.0319 - val_loss: 0.0279\n",
      "Epoch 63/300\n",
      "\u001b[1m11/11\u001b[0m \u001b[32m━━━━━━━━━━━━━━━━━━━━\u001b[0m\u001b[37m\u001b[0m \u001b[1m1s\u001b[0m 62ms/step - loss: 0.0318 - val_loss: 0.0275\n",
      "Epoch 64/300\n",
      "\u001b[1m 7/11\u001b[0m \u001b[32m━━━━━━━━━━━━\u001b[0m\u001b[37m━━━━━━━━\u001b[0m \u001b[1m0s\u001b[0m 55ms/step - loss: 0.0314"
     ]
    },
    {
     "name": "stderr",
     "output_type": "stream",
     "text": [
      "[codecarbon INFO @ 03:36:38] Energy consumed for RAM : 0.000166 kWh. RAM Power : 11.975459575653076 W\n",
      "[codecarbon INFO @ 03:36:38] Energy consumed for all CPUs : 0.000660 kWh. Total CPU Power : 47.5 W\n",
      "[codecarbon INFO @ 03:36:38] Energy consumed for all GPUs : 0.000396 kWh. Total GPU Power : 25.555831014378686 W\n",
      "[codecarbon INFO @ 03:36:38] 0.001223 kWh of electricity used since the beginning.\n"
     ]
    },
    {
     "name": "stdout",
     "output_type": "stream",
     "text": [
      "\u001b[1m11/11\u001b[0m \u001b[32m━━━━━━━━━━━━━━━━━━━━\u001b[0m\u001b[37m\u001b[0m \u001b[1m1s\u001b[0m 60ms/step - loss: 0.0314 - val_loss: 0.0257\n",
      "Epoch 65/300\n",
      "\u001b[1m11/11\u001b[0m \u001b[32m━━━━━━━━━━━━━━━━━━━━\u001b[0m\u001b[37m\u001b[0m \u001b[1m1s\u001b[0m 62ms/step - loss: 0.0309 - val_loss: 0.0249\n",
      "Epoch 66/300\n",
      "\u001b[1m11/11\u001b[0m \u001b[32m━━━━━━━━━━━━━━━━━━━━\u001b[0m\u001b[37m\u001b[0m \u001b[1m1s\u001b[0m 60ms/step - loss: 0.0305 - val_loss: 0.0242\n",
      "Epoch 67/300\n",
      "\u001b[1m11/11\u001b[0m \u001b[32m━━━━━━━━━━━━━━━━━━━━\u001b[0m\u001b[37m\u001b[0m \u001b[1m1s\u001b[0m 62ms/step - loss: 0.0310 - val_loss: 0.0263\n",
      "Epoch 68/300\n",
      "\u001b[1m11/11\u001b[0m \u001b[32m━━━━━━━━━━━━━━━━━━━━\u001b[0m\u001b[37m\u001b[0m \u001b[1m1s\u001b[0m 58ms/step - loss: 0.0306 - val_loss: 0.0258\n",
      "Epoch 69/300\n",
      "\u001b[1m11/11\u001b[0m \u001b[32m━━━━━━━━━━━━━━━━━━━━\u001b[0m\u001b[37m\u001b[0m \u001b[1m1s\u001b[0m 57ms/step - loss: 0.0308 - val_loss: 0.0264\n",
      "Epoch 70/300\n",
      "\u001b[1m11/11\u001b[0m \u001b[32m━━━━━━━━━━━━━━━━━━━━\u001b[0m\u001b[37m\u001b[0m \u001b[1m1s\u001b[0m 57ms/step - loss: 0.0308 - val_loss: 0.0282\n",
      "Epoch 71/300\n",
      "\u001b[1m11/11\u001b[0m \u001b[32m━━━━━━━━━━━━━━━━━━━━\u001b[0m\u001b[37m\u001b[0m \u001b[1m1s\u001b[0m 56ms/step - loss: 0.0308 - val_loss: 0.0272\n",
      "Epoch 72/300\n",
      "\u001b[1m11/11\u001b[0m \u001b[32m━━━━━━━━━━━━━━━━━━━━\u001b[0m\u001b[37m\u001b[0m \u001b[1m1s\u001b[0m 58ms/step - loss: 0.0309 - val_loss: 0.0259\n",
      "Epoch 73/300\n",
      "\u001b[1m11/11\u001b[0m \u001b[32m━━━━━━━━━━━━━━━━━━━━\u001b[0m\u001b[37m\u001b[0m \u001b[1m1s\u001b[0m 62ms/step - loss: 0.0303 - val_loss: 0.0274\n",
      "Epoch 74/300\n",
      "\u001b[1m11/11\u001b[0m \u001b[32m━━━━━━━━━━━━━━━━━━━━\u001b[0m\u001b[37m\u001b[0m \u001b[1m1s\u001b[0m 59ms/step - loss: 0.0308 - val_loss: 0.0285\n",
      "Epoch 75/300\n",
      "\u001b[1m11/11\u001b[0m \u001b[32m━━━━━━━━━━━━━━━━━━━━\u001b[0m\u001b[37m\u001b[0m \u001b[1m1s\u001b[0m 58ms/step - loss: 0.0320 - val_loss: 0.0245\n",
      "Epoch 76/300\n",
      "\u001b[1m11/11\u001b[0m \u001b[32m━━━━━━━━━━━━━━━━━━━━\u001b[0m\u001b[37m\u001b[0m \u001b[1m1s\u001b[0m 62ms/step - loss: 0.0327 - val_loss: 0.0243\n",
      "Epoch 77/300\n",
      "\u001b[1m11/11\u001b[0m \u001b[32m━━━━━━━━━━━━━━━━━━━━\u001b[0m\u001b[37m\u001b[0m \u001b[1m1s\u001b[0m 63ms/step - loss: 0.0310 - val_loss: 0.0239\n",
      "Epoch 78/300\n",
      "\u001b[1m11/11\u001b[0m \u001b[32m━━━━━━━━━━━━━━━━━━━━\u001b[0m\u001b[37m\u001b[0m \u001b[1m1s\u001b[0m 68ms/step - loss: 0.0295 - val_loss: 0.0249\n",
      "Epoch 79/300\n",
      "\u001b[1m 4/11\u001b[0m \u001b[32m━━━━━━━\u001b[0m\u001b[37m━━━━━━━━━━━━━\u001b[0m \u001b[1m0s\u001b[0m 58ms/step - loss: 0.0294"
     ]
    },
    {
     "name": "stderr",
     "output_type": "stream",
     "text": [
      "[codecarbon INFO @ 03:36:48] Energy consumed for RAM : 0.000200 kWh. RAM Power : 11.975459575653076 W\n",
      "[codecarbon INFO @ 03:36:48] Energy consumed for all CPUs : 0.000792 kWh. Total CPU Power : 47.5 W\n"
     ]
    },
    {
     "name": "stdout",
     "output_type": "stream",
     "text": [
      "\u001b[1m 5/11\u001b[0m \u001b[32m━━━━━━━━━\u001b[0m\u001b[37m━━━━━━━━━━━\u001b[0m \u001b[1m0s\u001b[0m 59ms/step - loss: 0.0294"
     ]
    },
    {
     "name": "stderr",
     "output_type": "stream",
     "text": [
      "[codecarbon INFO @ 03:36:48] Energy consumed for all GPUs : 0.000450 kWh. Total GPU Power : 19.309861325634188 W\n",
      "[codecarbon INFO @ 03:36:48] 0.001442 kWh of electricity used since the beginning.\n"
     ]
    },
    {
     "name": "stdout",
     "output_type": "stream",
     "text": [
      "\u001b[1m11/11\u001b[0m \u001b[32m━━━━━━━━━━━━━━━━━━━━\u001b[0m\u001b[37m\u001b[0m \u001b[1m1s\u001b[0m 62ms/step - loss: 0.0297 - val_loss: 0.0261\n",
      "Epoch 80/300\n",
      "\u001b[1m11/11\u001b[0m \u001b[32m━━━━━━━━━━━━━━━━━━━━\u001b[0m\u001b[37m\u001b[0m \u001b[1m1s\u001b[0m 58ms/step - loss: 0.0297 - val_loss: 0.0284\n",
      "Epoch 81/300\n",
      "\u001b[1m11/11\u001b[0m \u001b[32m━━━━━━━━━━━━━━━━━━━━\u001b[0m\u001b[37m\u001b[0m \u001b[1m1s\u001b[0m 61ms/step - loss: 0.0312 - val_loss: 0.0254\n",
      "Epoch 82/300\n",
      "\u001b[1m11/11\u001b[0m \u001b[32m━━━━━━━━━━━━━━━━━━━━\u001b[0m\u001b[37m\u001b[0m \u001b[1m1s\u001b[0m 63ms/step - loss: 0.0308 - val_loss: 0.0233\n",
      "Epoch 83/300\n",
      "\u001b[1m11/11\u001b[0m \u001b[32m━━━━━━━━━━━━━━━━━━━━\u001b[0m\u001b[37m\u001b[0m \u001b[1m1s\u001b[0m 59ms/step - loss: 0.0296 - val_loss: 0.0234\n",
      "Epoch 84/300\n",
      "\u001b[1m11/11\u001b[0m \u001b[32m━━━━━━━━━━━━━━━━━━━━\u001b[0m\u001b[37m\u001b[0m \u001b[1m1s\u001b[0m 58ms/step - loss: 0.0289 - val_loss: 0.0234\n",
      "Epoch 85/300\n",
      "\u001b[1m11/11\u001b[0m \u001b[32m━━━━━━━━━━━━━━━━━━━━\u001b[0m\u001b[37m\u001b[0m \u001b[1m1s\u001b[0m 61ms/step - loss: 0.0281 - val_loss: 0.0236\n",
      "Epoch 86/300\n",
      "\u001b[1m11/11\u001b[0m \u001b[32m━━━━━━━━━━━━━━━━━━━━\u001b[0m\u001b[37m\u001b[0m \u001b[1m1s\u001b[0m 58ms/step - loss: 0.0277 - val_loss: 0.0238\n",
      "Epoch 87/300\n",
      "\u001b[1m11/11\u001b[0m \u001b[32m━━━━━━━━━━━━━━━━━━━━\u001b[0m\u001b[37m\u001b[0m \u001b[1m1s\u001b[0m 62ms/step - loss: 0.0273 - val_loss: 0.0223\n",
      "Epoch 88/300\n",
      "\u001b[1m11/11\u001b[0m \u001b[32m━━━━━━━━━━━━━━━━━━━━\u001b[0m\u001b[37m\u001b[0m \u001b[1m1s\u001b[0m 56ms/step - loss: 0.0271 - val_loss: 0.0226\n",
      "Epoch 89/300\n",
      "\u001b[1m11/11\u001b[0m \u001b[32m━━━━━━━━━━━━━━━━━━━━\u001b[0m\u001b[37m\u001b[0m \u001b[1m1s\u001b[0m 58ms/step - loss: 0.0269 - val_loss: 0.0232\n",
      "Epoch 90/300\n",
      "\u001b[1m11/11\u001b[0m \u001b[32m━━━━━━━━━━━━━━━━━━━━\u001b[0m\u001b[37m\u001b[0m \u001b[1m1s\u001b[0m 62ms/step - loss: 0.0273 - val_loss: 0.0223\n",
      "Epoch 91/300\n",
      "\u001b[1m11/11\u001b[0m \u001b[32m━━━━━━━━━━━━━━━━━━━━\u001b[0m\u001b[37m\u001b[0m \u001b[1m1s\u001b[0m 59ms/step - loss: 0.0274 - val_loss: 0.0235\n",
      "Epoch 92/300\n",
      "\u001b[1m11/11\u001b[0m \u001b[32m━━━━━━━━━━━━━━━━━━━━\u001b[0m\u001b[37m\u001b[0m \u001b[1m1s\u001b[0m 59ms/step - loss: 0.0272 - val_loss: 0.0229\n",
      "Epoch 93/300\n",
      "\u001b[1m11/11\u001b[0m \u001b[32m━━━━━━━━━━━━━━━━━━━━\u001b[0m\u001b[37m\u001b[0m \u001b[1m1s\u001b[0m 61ms/step - loss: 0.0267 - val_loss: 0.0228\n",
      "Epoch 94/300\n",
      "\u001b[1m 4/11\u001b[0m \u001b[32m━━━━━━━\u001b[0m\u001b[37m━━━━━━━━━━━━━\u001b[0m \u001b[1m0s\u001b[0m 52ms/step - loss: 0.0262"
     ]
    },
    {
     "name": "stderr",
     "output_type": "stream",
     "text": [
      "[codecarbon INFO @ 03:36:58] Energy consumed for RAM : 0.000233 kWh. RAM Power : 11.975459575653076 W\n",
      "[codecarbon INFO @ 03:36:58] Energy consumed for all CPUs : 0.000925 kWh. Total CPU Power : 47.5 W\n",
      "[codecarbon INFO @ 03:36:58] Energy consumed for all GPUs : 0.000504 kWh. Total GPU Power : 19.644272959904466 W\n",
      "[codecarbon INFO @ 03:36:58] 0.001662 kWh of electricity used since the beginning.\n"
     ]
    },
    {
     "name": "stdout",
     "output_type": "stream",
     "text": [
      "\u001b[1m11/11\u001b[0m \u001b[32m━━━━━━━━━━━━━━━━━━━━\u001b[0m\u001b[37m\u001b[0m \u001b[1m1s\u001b[0m 60ms/step - loss: 0.0265 - val_loss: 0.0226\n",
      "Epoch 95/300\n",
      "\u001b[1m11/11\u001b[0m \u001b[32m━━━━━━━━━━━━━━━━━━━━\u001b[0m\u001b[37m\u001b[0m \u001b[1m1s\u001b[0m 60ms/step - loss: 0.0267 - val_loss: 0.0225\n",
      "Epoch 96/300\n",
      "\u001b[1m11/11\u001b[0m \u001b[32m━━━━━━━━━━━━━━━━━━━━\u001b[0m\u001b[37m\u001b[0m \u001b[1m1s\u001b[0m 67ms/step - loss: 0.0266 - val_loss: 0.0214\n",
      "Epoch 97/300\n",
      "\u001b[1m11/11\u001b[0m \u001b[32m━━━━━━━━━━━━━━━━━━━━\u001b[0m\u001b[37m\u001b[0m \u001b[1m1s\u001b[0m 60ms/step - loss: 0.0268 - val_loss: 0.0233\n",
      "Epoch 98/300\n",
      "\u001b[1m11/11\u001b[0m \u001b[32m━━━━━━━━━━━━━━━━━━━━\u001b[0m\u001b[37m\u001b[0m \u001b[1m1s\u001b[0m 56ms/step - loss: 0.0266 - val_loss: 0.0237\n",
      "Epoch 99/300\n",
      "\u001b[1m11/11\u001b[0m \u001b[32m━━━━━━━━━━━━━━━━━━━━\u001b[0m\u001b[37m\u001b[0m \u001b[1m1s\u001b[0m 57ms/step - loss: 0.0264 - val_loss: 0.0222\n",
      "Epoch 100/300\n",
      "\u001b[1m11/11\u001b[0m \u001b[32m━━━━━━━━━━━━━━━━━━━━\u001b[0m\u001b[37m\u001b[0m \u001b[1m1s\u001b[0m 56ms/step - loss: 0.0259 - val_loss: 0.0229\n",
      "Epoch 101/300\n",
      "\u001b[1m11/11\u001b[0m \u001b[32m━━━━━━━━━━━━━━━━━━━━\u001b[0m\u001b[37m\u001b[0m \u001b[1m1s\u001b[0m 57ms/step - loss: 0.0258 - val_loss: 0.0227\n",
      "Epoch 102/300\n",
      "\u001b[1m11/11\u001b[0m \u001b[32m━━━━━━━━━━━━━━━━━━━━\u001b[0m\u001b[37m\u001b[0m \u001b[1m1s\u001b[0m 58ms/step - loss: 0.0258 - val_loss: 0.0211\n",
      "Epoch 103/300\n",
      "\u001b[1m11/11\u001b[0m \u001b[32m━━━━━━━━━━━━━━━━━━━━\u001b[0m\u001b[37m\u001b[0m \u001b[1m1s\u001b[0m 56ms/step - loss: 0.0256 - val_loss: 0.0228\n",
      "Epoch 104/300\n",
      "\u001b[1m11/11\u001b[0m \u001b[32m━━━━━━━━━━━━━━━━━━━━\u001b[0m\u001b[37m\u001b[0m \u001b[1m1s\u001b[0m 57ms/step - loss: 0.0255 - val_loss: 0.0213\n",
      "Epoch 105/300\n",
      "\u001b[1m11/11\u001b[0m \u001b[32m━━━━━━━━━━━━━━━━━━━━\u001b[0m\u001b[37m\u001b[0m \u001b[1m1s\u001b[0m 58ms/step - loss: 0.0257 - val_loss: 0.0225\n",
      "Epoch 106/300\n",
      "\u001b[1m11/11\u001b[0m \u001b[32m━━━━━━━━━━━━━━━━━━━━\u001b[0m\u001b[37m\u001b[0m \u001b[1m1s\u001b[0m 58ms/step - loss: 0.0267 - val_loss: 0.0251\n",
      "Epoch 107/300\n",
      "\u001b[1m11/11\u001b[0m \u001b[32m━━━━━━━━━━━━━━━━━━━━\u001b[0m\u001b[37m\u001b[0m \u001b[1m1s\u001b[0m 58ms/step - loss: 0.0272 - val_loss: 0.0247\n",
      "Epoch 108/300\n",
      "\u001b[1m11/11\u001b[0m \u001b[32m━━━━━━━━━━━━━━━━━━━━\u001b[0m\u001b[37m\u001b[0m \u001b[1m1s\u001b[0m 57ms/step - loss: 0.0270 - val_loss: 0.0226\n",
      "Epoch 109/300\n",
      "\u001b[1m 7/11\u001b[0m \u001b[32m━━━━━━━━━━━━\u001b[0m\u001b[37m━━━━━━━━\u001b[0m \u001b[1m0s\u001b[0m 55ms/step - loss: 0.0283"
     ]
    },
    {
     "name": "stderr",
     "output_type": "stream",
     "text": [
      "[codecarbon INFO @ 03:37:08] Energy consumed for RAM : 0.000266 kWh. RAM Power : 11.975459575653076 W\n",
      "[codecarbon INFO @ 03:37:08] Energy consumed for all CPUs : 0.001057 kWh. Total CPU Power : 47.5 W\n",
      "[codecarbon INFO @ 03:37:08] Energy consumed for all GPUs : 0.000576 kWh. Total GPU Power : 25.95227634317238 W\n",
      "[codecarbon INFO @ 03:37:08] 0.001899 kWh of electricity used since the beginning.\n"
     ]
    },
    {
     "name": "stdout",
     "output_type": "stream",
     "text": [
      "\u001b[1m10/11\u001b[0m \u001b[32m━━━━━━━━━━━━━━━━━━\u001b[0m\u001b[37m━━\u001b[0m \u001b[1m0s\u001b[0m 54ms/step - loss: 0.0286"
     ]
    },
    {
     "name": "stderr",
     "output_type": "stream",
     "text": [
      "[codecarbon INFO @ 03:37:08] 0.000593 g.CO2eq/s mean an estimation of 18.687279300066347 kg.CO2eq/year\n"
     ]
    },
    {
     "name": "stdout",
     "output_type": "stream",
     "text": [
      "\u001b[1m11/11\u001b[0m \u001b[32m━━━━━━━━━━━━━━━━━━━━\u001b[0m\u001b[37m\u001b[0m \u001b[1m1s\u001b[0m 60ms/step - loss: 0.0286 - val_loss: 0.0232\n",
      "Epoch 110/300\n",
      "\u001b[1m11/11\u001b[0m \u001b[32m━━━━━━━━━━━━━━━━━━━━\u001b[0m\u001b[37m\u001b[0m \u001b[1m1s\u001b[0m 58ms/step - loss: 0.0288 - val_loss: 0.0216\n",
      "Epoch 111/300\n",
      "\u001b[1m11/11\u001b[0m \u001b[32m━━━━━━━━━━━━━━━━━━━━\u001b[0m\u001b[37m\u001b[0m \u001b[1m1s\u001b[0m 56ms/step - loss: 0.0263 - val_loss: 0.0214\n",
      "Epoch 112/300\n",
      "\u001b[1m11/11\u001b[0m \u001b[32m━━━━━━━━━━━━━━━━━━━━\u001b[0m\u001b[37m\u001b[0m \u001b[1m1s\u001b[0m 66ms/step - loss: 0.0262 - val_loss: 0.0223\n",
      "Epoch 113/300\n",
      "\u001b[1m11/11\u001b[0m \u001b[32m━━━━━━━━━━━━━━━━━━━━\u001b[0m\u001b[37m\u001b[0m \u001b[1m1s\u001b[0m 58ms/step - loss: 0.0261 - val_loss: 0.0228\n",
      "Epoch 114/300\n",
      "\u001b[1m11/11\u001b[0m \u001b[32m━━━━━━━━━━━━━━━━━━━━\u001b[0m\u001b[37m\u001b[0m \u001b[1m1s\u001b[0m 56ms/step - loss: 0.0266 - val_loss: 0.0213\n",
      "Epoch 115/300\n",
      "\u001b[1m11/11\u001b[0m \u001b[32m━━━━━━━━━━━━━━━━━━━━\u001b[0m\u001b[37m\u001b[0m \u001b[1m1s\u001b[0m 57ms/step - loss: 0.0262 - val_loss: 0.0223\n",
      "Epoch 116/300\n",
      "\u001b[1m11/11\u001b[0m \u001b[32m━━━━━━━━━━━━━━━━━━━━\u001b[0m\u001b[37m\u001b[0m \u001b[1m1s\u001b[0m 58ms/step - loss: 0.0263 - val_loss: 0.0215\n",
      "Epoch 117/300\n",
      "\u001b[1m11/11\u001b[0m \u001b[32m━━━━━━━━━━━━━━━━━━━━\u001b[0m\u001b[37m\u001b[0m \u001b[1m1s\u001b[0m 60ms/step - loss: 0.0261 - val_loss: 0.0211\n",
      "Epoch 118/300\n",
      "\u001b[1m11/11\u001b[0m \u001b[32m━━━━━━━━━━━━━━━━━━━━\u001b[0m\u001b[37m\u001b[0m \u001b[1m1s\u001b[0m 59ms/step - loss: 0.0266 - val_loss: 0.0199\n",
      "Epoch 119/300\n",
      "\u001b[1m11/11\u001b[0m \u001b[32m━━━━━━━━━━━━━━━━━━━━\u001b[0m\u001b[37m\u001b[0m \u001b[1m1s\u001b[0m 57ms/step - loss: 0.0268 - val_loss: 0.0208\n",
      "Epoch 120/300\n",
      "\u001b[1m11/11\u001b[0m \u001b[32m━━━━━━━━━━━━━━━━━━━━\u001b[0m\u001b[37m\u001b[0m \u001b[1m1s\u001b[0m 56ms/step - loss: 0.0259 - val_loss: 0.0222\n",
      "Epoch 121/300\n",
      "\u001b[1m11/11\u001b[0m \u001b[32m━━━━━━━━━━━━━━━━━━━━\u001b[0m\u001b[37m\u001b[0m \u001b[1m1s\u001b[0m 57ms/step - loss: 0.0254 - val_loss: 0.0208\n",
      "Epoch 122/300\n",
      "\u001b[1m11/11\u001b[0m \u001b[32m━━━━━━━━━━━━━━━━━━━━\u001b[0m\u001b[37m\u001b[0m \u001b[1m1s\u001b[0m 60ms/step - loss: 0.0247 - val_loss: 0.0197\n",
      "Epoch 123/300\n",
      "\u001b[1m11/11\u001b[0m \u001b[32m━━━━━━━━━━━━━━━━━━━━\u001b[0m\u001b[37m\u001b[0m \u001b[1m1s\u001b[0m 57ms/step - loss: 0.0243 - val_loss: 0.0213\n",
      "Epoch 124/300\n",
      "\u001b[1m10/11\u001b[0m \u001b[32m━━━━━━━━━━━━━━━━━━\u001b[0m\u001b[37m━━\u001b[0m \u001b[1m0s\u001b[0m 55ms/step - loss: 0.0240"
     ]
    },
    {
     "name": "stderr",
     "output_type": "stream",
     "text": [
      "[codecarbon INFO @ 03:37:18] Energy consumed for RAM : 0.000299 kWh. RAM Power : 11.975459575653076 W\n",
      "[codecarbon INFO @ 03:37:18] Energy consumed for all CPUs : 0.001189 kWh. Total CPU Power : 47.5 W\n",
      "[codecarbon INFO @ 03:37:18] Energy consumed for all GPUs : 0.000631 kWh. Total GPU Power : 19.55807403572193 W\n",
      "[codecarbon INFO @ 03:37:18] 0.002119 kWh of electricity used since the beginning.\n"
     ]
    },
    {
     "name": "stdout",
     "output_type": "stream",
     "text": [
      "\u001b[1m11/11\u001b[0m \u001b[32m━━━━━━━━━━━━━━━━━━━━\u001b[0m\u001b[37m\u001b[0m \u001b[1m1s\u001b[0m 61ms/step - loss: 0.0240 - val_loss: 0.0209\n",
      "Epoch 125/300\n",
      "\u001b[1m11/11\u001b[0m \u001b[32m━━━━━━━━━━━━━━━━━━━━\u001b[0m\u001b[37m\u001b[0m \u001b[1m1s\u001b[0m 56ms/step - loss: 0.0238 - val_loss: 0.0208\n",
      "Epoch 126/300\n",
      "\u001b[1m11/11\u001b[0m \u001b[32m━━━━━━━━━━━━━━━━━━━━\u001b[0m\u001b[37m\u001b[0m \u001b[1m1s\u001b[0m 58ms/step - loss: 0.0248 - val_loss: 0.0204\n",
      "Epoch 127/300\n",
      "\u001b[1m11/11\u001b[0m \u001b[32m━━━━━━━━━━━━━━━━━━━━\u001b[0m\u001b[37m\u001b[0m \u001b[1m1s\u001b[0m 61ms/step - loss: 0.0246 - val_loss: 0.0215\n",
      "Epoch 128/300\n",
      "\u001b[1m11/11\u001b[0m \u001b[32m━━━━━━━━━━━━━━━━━━━━\u001b[0m\u001b[37m\u001b[0m \u001b[1m1s\u001b[0m 57ms/step - loss: 0.0245 - val_loss: 0.0215\n",
      "Epoch 129/300\n",
      "\u001b[1m11/11\u001b[0m \u001b[32m━━━━━━━━━━━━━━━━━━━━\u001b[0m\u001b[37m\u001b[0m \u001b[1m1s\u001b[0m 58ms/step - loss: 0.0247 - val_loss: 0.0213\n",
      "Epoch 130/300\n",
      "\u001b[1m11/11\u001b[0m \u001b[32m━━━━━━━━━━━━━━━━━━━━\u001b[0m\u001b[37m\u001b[0m \u001b[1m1s\u001b[0m 68ms/step - loss: 0.0248 - val_loss: 0.0205\n",
      "Epoch 131/300\n",
      "\u001b[1m11/11\u001b[0m \u001b[32m━━━━━━━━━━━━━━━━━━━━\u001b[0m\u001b[37m\u001b[0m \u001b[1m1s\u001b[0m 58ms/step - loss: 0.0248 - val_loss: 0.0217\n",
      "Epoch 132/300\n",
      "\u001b[1m11/11\u001b[0m \u001b[32m━━━━━━━━━━━━━━━━━━━━\u001b[0m\u001b[37m\u001b[0m \u001b[1m1s\u001b[0m 58ms/step - loss: 0.0249 - val_loss: 0.0200\n",
      "Epoch 133/300\n",
      "\u001b[1m11/11\u001b[0m \u001b[32m━━━━━━━━━━━━━━━━━━━━\u001b[0m\u001b[37m\u001b[0m \u001b[1m1s\u001b[0m 59ms/step - loss: 0.0252 - val_loss: 0.0198\n",
      "Epoch 134/300\n",
      "\u001b[1m11/11\u001b[0m \u001b[32m━━━━━━━━━━━━━━━━━━━━\u001b[0m\u001b[37m\u001b[0m \u001b[1m1s\u001b[0m 59ms/step - loss: 0.0253 - val_loss: 0.0199\n",
      "Epoch 135/300\n",
      "\u001b[1m11/11\u001b[0m \u001b[32m━━━━━━━━━━━━━━━━━━━━\u001b[0m\u001b[37m\u001b[0m \u001b[1m1s\u001b[0m 60ms/step - loss: 0.0249 - val_loss: 0.0197\n",
      "Epoch 136/300\n",
      "\u001b[1m11/11\u001b[0m \u001b[32m━━━━━━━━━━━━━━━━━━━━\u001b[0m\u001b[37m\u001b[0m \u001b[1m1s\u001b[0m 57ms/step - loss: 0.0252 - val_loss: 0.0221\n",
      "Epoch 137/300\n",
      "\u001b[1m11/11\u001b[0m \u001b[32m━━━━━━━━━━━━━━━━━━━━\u001b[0m\u001b[37m\u001b[0m \u001b[1m1s\u001b[0m 60ms/step - loss: 0.0255 - val_loss: 0.0196\n",
      "Epoch 138/300\n",
      "\u001b[1m11/11\u001b[0m \u001b[32m━━━━━━━━━━━━━━━━━━━━\u001b[0m\u001b[37m\u001b[0m \u001b[1m1s\u001b[0m 59ms/step - loss: 0.0243 - val_loss: 0.0198\n",
      "Epoch 139/300\n",
      "\u001b[1m10/11\u001b[0m \u001b[32m━━━━━━━━━━━━━━━━━━\u001b[0m\u001b[37m━━\u001b[0m \u001b[1m0s\u001b[0m 53ms/step - loss: 0.0244"
     ]
    },
    {
     "name": "stderr",
     "output_type": "stream",
     "text": [
      "[codecarbon INFO @ 03:37:28] Energy consumed for RAM : 0.000333 kWh. RAM Power : 11.975459575653076 W\n",
      "[codecarbon INFO @ 03:37:28] Energy consumed for all CPUs : 0.001321 kWh. Total CPU Power : 47.5 W\n",
      "[codecarbon INFO @ 03:37:28] Energy consumed for all GPUs : 0.000685 kWh. Total GPU Power : 19.66017539776894 W\n",
      "[codecarbon INFO @ 03:37:28] 0.002339 kWh of electricity used since the beginning.\n"
     ]
    },
    {
     "name": "stdout",
     "output_type": "stream",
     "text": [
      "\u001b[1m11/11\u001b[0m \u001b[32m━━━━━━━━━━━━━━━━━━━━\u001b[0m\u001b[37m\u001b[0m \u001b[1m1s\u001b[0m 59ms/step - loss: 0.0244 - val_loss: 0.0209\n",
      "Epoch 140/300\n",
      "\u001b[1m11/11\u001b[0m \u001b[32m━━━━━━━━━━━━━━━━━━━━\u001b[0m\u001b[37m\u001b[0m \u001b[1m1s\u001b[0m 59ms/step - loss: 0.0242 - val_loss: 0.0212\n",
      "Epoch 141/300\n",
      "\u001b[1m11/11\u001b[0m \u001b[32m━━━━━━━━━━━━━━━━━━━━\u001b[0m\u001b[37m\u001b[0m \u001b[1m1s\u001b[0m 60ms/step - loss: 0.0241 - val_loss: 0.0190\n",
      "Epoch 142/300\n",
      "\u001b[1m11/11\u001b[0m \u001b[32m━━━━━━━━━━━━━━━━━━━━\u001b[0m\u001b[37m\u001b[0m \u001b[1m1s\u001b[0m 57ms/step - loss: 0.0230 - val_loss: 0.0201\n",
      "Epoch 143/300\n",
      "\u001b[1m11/11\u001b[0m \u001b[32m━━━━━━━━━━━━━━━━━━━━\u001b[0m\u001b[37m\u001b[0m \u001b[1m1s\u001b[0m 59ms/step - loss: 0.0229 - val_loss: 0.0194\n",
      "Epoch 144/300\n",
      "\u001b[1m11/11\u001b[0m \u001b[32m━━━━━━━━━━━━━━━━━━━━\u001b[0m\u001b[37m\u001b[0m \u001b[1m1s\u001b[0m 60ms/step - loss: 0.0226 - val_loss: 0.0188\n",
      "Epoch 145/300\n",
      "\u001b[1m11/11\u001b[0m \u001b[32m━━━━━━━━━━━━━━━━━━━━\u001b[0m\u001b[37m\u001b[0m \u001b[1m1s\u001b[0m 58ms/step - loss: 0.0222 - val_loss: 0.0193\n",
      "Epoch 146/300\n",
      "\u001b[1m11/11\u001b[0m \u001b[32m━━━━━━━━━━━━━━━━━━━━\u001b[0m\u001b[37m\u001b[0m \u001b[1m1s\u001b[0m 60ms/step - loss: 0.0222 - val_loss: 0.0187\n",
      "Epoch 147/300\n",
      "\u001b[1m11/11\u001b[0m \u001b[32m━━━━━━━━━━━━━━━━━━━━\u001b[0m\u001b[37m\u001b[0m \u001b[1m1s\u001b[0m 57ms/step - loss: 0.0216 - val_loss: 0.0192\n",
      "Epoch 148/300\n",
      "\u001b[1m11/11\u001b[0m \u001b[32m━━━━━━━━━━━━━━━━━━━━\u001b[0m\u001b[37m\u001b[0m \u001b[1m1s\u001b[0m 61ms/step - loss: 0.0220 - val_loss: 0.0184\n",
      "Epoch 149/300\n",
      "\u001b[1m11/11\u001b[0m \u001b[32m━━━━━━━━━━━━━━━━━━━━\u001b[0m\u001b[37m\u001b[0m \u001b[1m1s\u001b[0m 59ms/step - loss: 0.0218 - val_loss: 0.0194\n",
      "Epoch 150/300\n",
      "\u001b[1m11/11\u001b[0m \u001b[32m━━━━━━━━━━━━━━━━━━━━\u001b[0m\u001b[37m\u001b[0m \u001b[1m1s\u001b[0m 59ms/step - loss: 0.0218 - val_loss: 0.0182\n",
      "Epoch 151/300\n",
      "\u001b[1m11/11\u001b[0m \u001b[32m━━━━━━━━━━━━━━━━━━━━\u001b[0m\u001b[37m\u001b[0m \u001b[1m1s\u001b[0m 57ms/step - loss: 0.0217 - val_loss: 0.0191\n",
      "Epoch 152/300\n",
      "\u001b[1m11/11\u001b[0m \u001b[32m━━━━━━━━━━━━━━━━━━━━\u001b[0m\u001b[37m\u001b[0m \u001b[1m1s\u001b[0m 57ms/step - loss: 0.0218 - val_loss: 0.0202\n",
      "Epoch 153/300\n",
      "\u001b[1m11/11\u001b[0m \u001b[32m━━━━━━━━━━━━━━━━━━━━\u001b[0m\u001b[37m\u001b[0m \u001b[1m1s\u001b[0m 57ms/step - loss: 0.0218 - val_loss: 0.0194\n",
      "Epoch 154/300\n",
      "\u001b[1m11/11\u001b[0m \u001b[32m━━━━━━━━━━━━━━━━━━━━\u001b[0m\u001b[37m\u001b[0m \u001b[1m1s\u001b[0m 58ms/step - loss: 0.0225 - val_loss: 0.0198\n",
      "Epoch 155/300\n",
      "\u001b[1m 1/11\u001b[0m \u001b[32m━\u001b[0m\u001b[37m━━━━━━━━━━━━━━━━━━━\u001b[0m \u001b[1m0s\u001b[0m 69ms/step - loss: 0.0229"
     ]
    },
    {
     "name": "stderr",
     "output_type": "stream",
     "text": [
      "[codecarbon INFO @ 03:37:38] Energy consumed for RAM : 0.000366 kWh. RAM Power : 11.975459575653076 W\n",
      "[codecarbon INFO @ 03:37:38] Energy consumed for all CPUs : 0.001453 kWh. Total CPU Power : 47.5 W\n",
      "[codecarbon INFO @ 03:37:38] Energy consumed for all GPUs : 0.000758 kWh. Total GPU Power : 26.147578158930042 W\n",
      "[codecarbon INFO @ 03:37:38] 0.002577 kWh of electricity used since the beginning.\n"
     ]
    },
    {
     "name": "stdout",
     "output_type": "stream",
     "text": [
      "\u001b[1m11/11\u001b[0m \u001b[32m━━━━━━━━━━━━━━━━━━━━\u001b[0m\u001b[37m\u001b[0m \u001b[1m1s\u001b[0m 60ms/step - loss: 0.0222 - val_loss: 0.0200\n",
      "Epoch 156/300\n",
      "\u001b[1m11/11\u001b[0m \u001b[32m━━━━━━━━━━━━━━━━━━━━\u001b[0m\u001b[37m\u001b[0m \u001b[1m1s\u001b[0m 58ms/step - loss: 0.0221 - val_loss: 0.0186\n",
      "Epoch 157/300\n",
      "\u001b[1m11/11\u001b[0m \u001b[32m━━━━━━━━━━━━━━━━━━━━\u001b[0m\u001b[37m\u001b[0m \u001b[1m1s\u001b[0m 60ms/step - loss: 0.0217 - val_loss: 0.0177\n",
      "Epoch 158/300\n",
      "\u001b[1m11/11\u001b[0m \u001b[32m━━━━━━━━━━━━━━━━━━━━\u001b[0m\u001b[37m\u001b[0m \u001b[1m1s\u001b[0m 58ms/step - loss: 0.0224 - val_loss: 0.0191\n",
      "Epoch 159/300\n",
      "\u001b[1m11/11\u001b[0m \u001b[32m━━━━━━━━━━━━━━━━━━━━\u001b[0m\u001b[37m\u001b[0m \u001b[1m1s\u001b[0m 57ms/step - loss: 0.0215 - val_loss: 0.0185\n",
      "Epoch 160/300\n",
      "\u001b[1m11/11\u001b[0m \u001b[32m━━━━━━━━━━━━━━━━━━━━\u001b[0m\u001b[37m\u001b[0m \u001b[1m1s\u001b[0m 57ms/step - loss: 0.0217 - val_loss: 0.0193\n",
      "Epoch 161/300\n",
      "\u001b[1m11/11\u001b[0m \u001b[32m━━━━━━━━━━━━━━━━━━━━\u001b[0m\u001b[37m\u001b[0m \u001b[1m1s\u001b[0m 57ms/step - loss: 0.0222 - val_loss: 0.0194\n",
      "Epoch 162/300\n",
      "\u001b[1m11/11\u001b[0m \u001b[32m━━━━━━━━━━━━━━━━━━━━\u001b[0m\u001b[37m\u001b[0m \u001b[1m1s\u001b[0m 56ms/step - loss: 0.0224 - val_loss: 0.0194\n",
      "Epoch 163/300\n",
      "\u001b[1m11/11\u001b[0m \u001b[32m━━━━━━━━━━━━━━━━━━━━\u001b[0m\u001b[37m\u001b[0m \u001b[1m1s\u001b[0m 57ms/step - loss: 0.0220 - val_loss: 0.0197\n",
      "Epoch 164/300\n",
      "\u001b[1m11/11\u001b[0m \u001b[32m━━━━━━━━━━━━━━━━━━━━\u001b[0m\u001b[37m\u001b[0m \u001b[1m1s\u001b[0m 57ms/step - loss: 0.0209 - val_loss: 0.0190\n",
      "Epoch 165/300\n",
      "\u001b[1m11/11\u001b[0m \u001b[32m━━━━━━━━━━━━━━━━━━━━\u001b[0m\u001b[37m\u001b[0m \u001b[1m1s\u001b[0m 58ms/step - loss: 0.0216 - val_loss: 0.0182\n",
      "Epoch 166/300\n",
      "\u001b[1m11/11\u001b[0m \u001b[32m━━━━━━━━━━━━━━━━━━━━\u001b[0m\u001b[37m\u001b[0m \u001b[1m1s\u001b[0m 60ms/step - loss: 0.0210 - val_loss: 0.0190\n",
      "Epoch 167/300\n",
      "\u001b[1m11/11\u001b[0m \u001b[32m━━━━━━━━━━━━━━━━━━━━\u001b[0m\u001b[37m\u001b[0m \u001b[1m1s\u001b[0m 60ms/step - loss: 0.0206 - val_loss: 0.0179\n",
      "Epoch 168/300\n",
      "\u001b[1m11/11\u001b[0m \u001b[32m━━━━━━━━━━━━━━━━━━━━\u001b[0m\u001b[37m\u001b[0m \u001b[1m1s\u001b[0m 58ms/step - loss: 0.0209 - val_loss: 0.0181\n",
      "Epoch 169/300\n",
      "\u001b[1m11/11\u001b[0m \u001b[32m━━━━━━━━━━━━━━━━━━━━\u001b[0m\u001b[37m\u001b[0m \u001b[1m1s\u001b[0m 58ms/step - loss: 0.0212 - val_loss: 0.0204\n",
      "Epoch 170/300\n",
      "\u001b[1m 5/11\u001b[0m \u001b[32m━━━━━━━━━\u001b[0m\u001b[37m━━━━━━━━━━━\u001b[0m \u001b[1m0s\u001b[0m 51ms/step - loss: 0.0237"
     ]
    },
    {
     "name": "stderr",
     "output_type": "stream",
     "text": [
      "[codecarbon INFO @ 03:37:48] Energy consumed for RAM : 0.000399 kWh. RAM Power : 11.975459575653076 W\n",
      "[codecarbon INFO @ 03:37:48] Energy consumed for all CPUs : 0.001585 kWh. Total CPU Power : 47.5 W\n",
      "[codecarbon INFO @ 03:37:48] Energy consumed for all GPUs : 0.000813 kWh. Total GPU Power : 19.71225722021626 W\n",
      "[codecarbon INFO @ 03:37:48] 0.002797 kWh of electricity used since the beginning.\n"
     ]
    },
    {
     "name": "stdout",
     "output_type": "stream",
     "text": [
      "\u001b[1m11/11\u001b[0m \u001b[32m━━━━━━━━━━━━━━━━━━━━\u001b[0m\u001b[37m\u001b[0m \u001b[1m1s\u001b[0m 60ms/step - loss: 0.0233 - val_loss: 0.0192\n",
      "Epoch 171/300\n",
      "\u001b[1m11/11\u001b[0m \u001b[32m━━━━━━━━━━━━━━━━━━━━\u001b[0m\u001b[37m\u001b[0m \u001b[1m1s\u001b[0m 60ms/step - loss: 0.0216 - val_loss: 0.0172\n",
      "Epoch 172/300\n",
      "\u001b[1m11/11\u001b[0m \u001b[32m━━━━━━━━━━━━━━━━━━━━\u001b[0m\u001b[37m\u001b[0m \u001b[1m1s\u001b[0m 59ms/step - loss: 0.0209 - val_loss: 0.0183\n",
      "Epoch 173/300\n",
      "\u001b[1m11/11\u001b[0m \u001b[32m━━━━━━━━━━━━━━━━━━━━\u001b[0m\u001b[37m\u001b[0m \u001b[1m1s\u001b[0m 58ms/step - loss: 0.0206 - val_loss: 0.0176\n",
      "Epoch 174/300\n",
      "\u001b[1m11/11\u001b[0m \u001b[32m━━━━━━━━━━━━━━━━━━━━\u001b[0m\u001b[37m\u001b[0m \u001b[1m1s\u001b[0m 58ms/step - loss: 0.0202 - val_loss: 0.0183\n",
      "Epoch 175/300\n",
      "\u001b[1m11/11\u001b[0m \u001b[32m━━━━━━━━━━━━━━━━━━━━\u001b[0m\u001b[37m\u001b[0m \u001b[1m1s\u001b[0m 70ms/step - loss: 0.0196 - val_loss: 0.0172\n",
      "Epoch 176/300\n",
      "\u001b[1m11/11\u001b[0m \u001b[32m━━━━━━━━━━━━━━━━━━━━\u001b[0m\u001b[37m\u001b[0m \u001b[1m1s\u001b[0m 58ms/step - loss: 0.0199 - val_loss: 0.0198\n",
      "Epoch 177/300\n",
      "\u001b[1m11/11\u001b[0m \u001b[32m━━━━━━━━━━━━━━━━━━━━\u001b[0m\u001b[37m\u001b[0m \u001b[1m1s\u001b[0m 58ms/step - loss: 0.0201 - val_loss: 0.0198\n",
      "Epoch 178/300\n",
      "\u001b[1m11/11\u001b[0m \u001b[32m━━━━━━━━━━━━━━━━━━━━\u001b[0m\u001b[37m\u001b[0m \u001b[1m1s\u001b[0m 58ms/step - loss: 0.0212 - val_loss: 0.0180\n",
      "Epoch 179/300\n",
      "\u001b[1m11/11\u001b[0m \u001b[32m━━━━━━━━━━━━━━━━━━━━\u001b[0m\u001b[37m\u001b[0m \u001b[1m1s\u001b[0m 58ms/step - loss: 0.0202 - val_loss: 0.0177\n",
      "Epoch 180/300\n",
      "\u001b[1m11/11\u001b[0m \u001b[32m━━━━━━━━━━━━━━━━━━━━\u001b[0m\u001b[37m\u001b[0m \u001b[1m1s\u001b[0m 57ms/step - loss: 0.0191 - val_loss: 0.0178\n",
      "Epoch 181/300\n",
      "\u001b[1m11/11\u001b[0m \u001b[32m━━━━━━━━━━━━━━━━━━━━\u001b[0m\u001b[37m\u001b[0m \u001b[1m1s\u001b[0m 59ms/step - loss: 0.0194 - val_loss: 0.0177\n",
      "Epoch 182/300\n",
      "\u001b[1m11/11\u001b[0m \u001b[32m━━━━━━━━━━━━━━━━━━━━\u001b[0m\u001b[37m\u001b[0m \u001b[1m1s\u001b[0m 58ms/step - loss: 0.0197 - val_loss: 0.0189\n",
      "Epoch 183/300\n",
      "\u001b[1m11/11\u001b[0m \u001b[32m━━━━━━━━━━━━━━━━━━━━\u001b[0m\u001b[37m\u001b[0m \u001b[1m1s\u001b[0m 58ms/step - loss: 0.0197 - val_loss: 0.0174\n",
      "Epoch 184/300\n",
      "\u001b[1m11/11\u001b[0m \u001b[32m━━━━━━━━━━━━━━━━━━━━\u001b[0m\u001b[37m\u001b[0m \u001b[1m1s\u001b[0m 58ms/step - loss: 0.0186 - val_loss: 0.0175\n",
      "Epoch 185/300\n",
      "\u001b[1m 6/11\u001b[0m \u001b[32m━━━━━━━━━━\u001b[0m\u001b[37m━━━━━━━━━━\u001b[0m \u001b[1m0s\u001b[0m 51ms/step - loss: 0.0188"
     ]
    },
    {
     "name": "stderr",
     "output_type": "stream",
     "text": [
      "[codecarbon INFO @ 03:37:58] Energy consumed for RAM : 0.000432 kWh. RAM Power : 11.975459575653076 W\n",
      "[codecarbon INFO @ 03:37:58] Energy consumed for all CPUs : 0.001717 kWh. Total CPU Power : 47.5 W\n",
      "[codecarbon INFO @ 03:37:58] Energy consumed for all GPUs : 0.000867 kWh. Total GPU Power : 19.403643773895855 W\n",
      "[codecarbon INFO @ 03:37:58] 0.003016 kWh of electricity used since the beginning.\n"
     ]
    },
    {
     "name": "stdout",
     "output_type": "stream",
     "text": [
      "\u001b[1m11/11\u001b[0m \u001b[32m━━━━━━━━━━━━━━━━━━━━\u001b[0m\u001b[37m\u001b[0m \u001b[1m1s\u001b[0m 61ms/step - loss: 0.0188 - val_loss: 0.0171\n",
      "Epoch 186/300\n",
      "\u001b[1m11/11\u001b[0m \u001b[32m━━━━━━━━━━━━━━━━━━━━\u001b[0m\u001b[37m\u001b[0m \u001b[1m1s\u001b[0m 59ms/step - loss: 0.0193 - val_loss: 0.0191\n",
      "Epoch 187/300\n",
      "\u001b[1m11/11\u001b[0m \u001b[32m━━━━━━━━━━━━━━━━━━━━\u001b[0m\u001b[37m\u001b[0m \u001b[1m1s\u001b[0m 65ms/step - loss: 0.0194 - val_loss: 0.0178\n",
      "Epoch 188/300\n",
      "\u001b[1m11/11\u001b[0m \u001b[32m━━━━━━━━━━━━━━━━━━━━\u001b[0m\u001b[37m\u001b[0m \u001b[1m1s\u001b[0m 63ms/step - loss: 0.0189 - val_loss: 0.0176\n",
      "Epoch 189/300\n",
      "\u001b[1m11/11\u001b[0m \u001b[32m━━━━━━━━━━━━━━━━━━━━\u001b[0m\u001b[37m\u001b[0m \u001b[1m1s\u001b[0m 59ms/step - loss: 0.0202 - val_loss: 0.0205\n",
      "Epoch 190/300\n",
      "\u001b[1m11/11\u001b[0m \u001b[32m━━━━━━━━━━━━━━━━━━━━\u001b[0m\u001b[37m\u001b[0m \u001b[1m1s\u001b[0m 60ms/step - loss: 0.0205 - val_loss: 0.0172\n",
      "Epoch 191/300\n",
      "\u001b[1m11/11\u001b[0m \u001b[32m━━━━━━━━━━━━━━━━━━━━\u001b[0m\u001b[37m\u001b[0m \u001b[1m1s\u001b[0m 62ms/step - loss: 0.0195 - val_loss: 0.0182\n",
      "Epoch 192/300\n",
      "\u001b[1m11/11\u001b[0m \u001b[32m━━━━━━━━━━━━━━━━━━━━\u001b[0m\u001b[37m\u001b[0m \u001b[1m1s\u001b[0m 64ms/step - loss: 0.0191 - val_loss: 0.0181\n",
      "Epoch 193/300\n",
      "\u001b[1m11/11\u001b[0m \u001b[32m━━━━━━━━━━━━━━━━━━━━\u001b[0m\u001b[37m\u001b[0m \u001b[1m1s\u001b[0m 66ms/step - loss: 0.0194 - val_loss: 0.0186\n",
      "Epoch 194/300\n",
      "\u001b[1m11/11\u001b[0m \u001b[32m━━━━━━━━━━━━━━━━━━━━\u001b[0m\u001b[37m\u001b[0m \u001b[1m1s\u001b[0m 64ms/step - loss: 0.0196 - val_loss: 0.0177\n",
      "Epoch 195/300\n",
      "\u001b[1m11/11\u001b[0m \u001b[32m━━━━━━━━━━━━━━━━━━━━\u001b[0m\u001b[37m\u001b[0m \u001b[1m1s\u001b[0m 79ms/step - loss: 0.0196 - val_loss: 0.0163\n",
      "Epoch 196/300\n",
      "\u001b[1m11/11\u001b[0m \u001b[32m━━━━━━━━━━━━━━━━━━━━\u001b[0m\u001b[37m\u001b[0m \u001b[1m1s\u001b[0m 61ms/step - loss: 0.0190 - val_loss: 0.0173\n",
      "Epoch 197/300\n",
      "\u001b[1m11/11\u001b[0m \u001b[32m━━━━━━━━━━━━━━━━━━━━\u001b[0m\u001b[37m\u001b[0m \u001b[1m1s\u001b[0m 57ms/step - loss: 0.0200 - val_loss: 0.0175\n",
      "Epoch 198/300\n",
      "\u001b[1m11/11\u001b[0m \u001b[32m━━━━━━━━━━━━━━━━━━━━\u001b[0m\u001b[37m\u001b[0m \u001b[1m1s\u001b[0m 58ms/step - loss: 0.0208 - val_loss: 0.0192\n",
      "Epoch 199/300\n",
      "\u001b[1m 9/11\u001b[0m \u001b[32m━━━━━━━━━━━━━━━━\u001b[0m\u001b[37m━━━━\u001b[0m \u001b[1m0s\u001b[0m 54ms/step - loss: 0.0231"
     ]
    },
    {
     "name": "stderr",
     "output_type": "stream",
     "text": [
      "[codecarbon INFO @ 03:38:08] Energy consumed for RAM : 0.000466 kWh. RAM Power : 11.975459575653076 W\n",
      "[codecarbon INFO @ 03:38:08] Energy consumed for all CPUs : 0.001849 kWh. Total CPU Power : 47.5 W\n",
      "[codecarbon INFO @ 03:38:08] Energy consumed for all GPUs : 0.000948 kWh. Total GPU Power : 29.1901109425905 W\n",
      "[codecarbon INFO @ 03:38:08] 0.003262 kWh of electricity used since the beginning.\n"
     ]
    },
    {
     "name": "stdout",
     "output_type": "stream",
     "text": [
      "\u001b[1m11/11\u001b[0m \u001b[32m━━━━━━━━━━━━━━━━━━━━\u001b[0m\u001b[37m\u001b[0m \u001b[1m1s\u001b[0m 59ms/step - loss: 0.0229 - val_loss: 0.0169\n",
      "Epoch 200/300\n",
      "\u001b[1m11/11\u001b[0m \u001b[32m━━━━━━━━━━━━━━━━━━━━\u001b[0m\u001b[37m\u001b[0m \u001b[1m1s\u001b[0m 59ms/step - loss: 0.0198 - val_loss: 0.0168\n",
      "Epoch 201/300\n",
      "\u001b[1m11/11\u001b[0m \u001b[32m━━━━━━━━━━━━━━━━━━━━\u001b[0m\u001b[37m\u001b[0m \u001b[1m1s\u001b[0m 59ms/step - loss: 0.0186 - val_loss: 0.0167\n",
      "Epoch 202/300\n",
      "\u001b[1m11/11\u001b[0m \u001b[32m━━━━━━━━━━━━━━━━━━━━\u001b[0m\u001b[37m\u001b[0m \u001b[1m1s\u001b[0m 60ms/step - loss: 0.0185 - val_loss: 0.0162\n",
      "Epoch 203/300\n",
      "\u001b[1m11/11\u001b[0m \u001b[32m━━━━━━━━━━━━━━━━━━━━\u001b[0m\u001b[37m\u001b[0m \u001b[1m1s\u001b[0m 59ms/step - loss: 0.0184 - val_loss: 0.0166\n",
      "Epoch 204/300\n",
      "\u001b[1m11/11\u001b[0m \u001b[32m━━━━━━━━━━━━━━━━━━━━\u001b[0m\u001b[37m\u001b[0m \u001b[1m1s\u001b[0m 61ms/step - loss: 0.0182 - val_loss: 0.0162\n",
      "Epoch 205/300\n",
      "\u001b[1m11/11\u001b[0m \u001b[32m━━━━━━━━━━━━━━━━━━━━\u001b[0m\u001b[37m\u001b[0m \u001b[1m1s\u001b[0m 60ms/step - loss: 0.0175 - val_loss: 0.0154\n",
      "Epoch 206/300\n",
      "\u001b[1m11/11\u001b[0m \u001b[32m━━━━━━━━━━━━━━━━━━━━\u001b[0m\u001b[37m\u001b[0m \u001b[1m1s\u001b[0m 61ms/step - loss: 0.0171 - val_loss: 0.0152\n",
      "Epoch 207/300\n",
      "\u001b[1m11/11\u001b[0m \u001b[32m━━━━━━━━━━━━━━━━━━━━\u001b[0m\u001b[37m\u001b[0m \u001b[1m1s\u001b[0m 57ms/step - loss: 0.0169 - val_loss: 0.0158\n",
      "Epoch 208/300\n",
      "\u001b[1m11/11\u001b[0m \u001b[32m━━━━━━━━━━━━━━━━━━━━\u001b[0m\u001b[37m\u001b[0m \u001b[1m1s\u001b[0m 59ms/step - loss: 0.0172 - val_loss: 0.0161\n",
      "Epoch 209/300\n",
      "\u001b[1m11/11\u001b[0m \u001b[32m━━━━━━━━━━━━━━━━━━━━\u001b[0m\u001b[37m\u001b[0m \u001b[1m1s\u001b[0m 58ms/step - loss: 0.0170 - val_loss: 0.0163\n",
      "Epoch 210/300\n",
      "\u001b[1m11/11\u001b[0m \u001b[32m━━━━━━━━━━━━━━━━━━━━\u001b[0m\u001b[37m\u001b[0m \u001b[1m1s\u001b[0m 59ms/step - loss: 0.0167 - val_loss: 0.0169\n",
      "Epoch 211/300\n",
      "\u001b[1m11/11\u001b[0m \u001b[32m━━━━━━━━━━━━━━━━━━━━\u001b[0m\u001b[37m\u001b[0m \u001b[1m1s\u001b[0m 57ms/step - loss: 0.0178 - val_loss: 0.0166\n",
      "Epoch 212/300\n",
      "\u001b[1m11/11\u001b[0m \u001b[32m━━━━━━━━━━━━━━━━━━━━\u001b[0m\u001b[37m\u001b[0m \u001b[1m1s\u001b[0m 59ms/step - loss: 0.0175 - val_loss: 0.0163\n",
      "Epoch 213/300\n",
      "\u001b[1m11/11\u001b[0m \u001b[32m━━━━━━━━━━━━━━━━━━━━\u001b[0m\u001b[37m\u001b[0m \u001b[1m1s\u001b[0m 59ms/step - loss: 0.0172 - val_loss: 0.0167\n",
      "Epoch 214/300\n",
      "\u001b[1m10/11\u001b[0m \u001b[32m━━━━━━━━━━━━━━━━━━\u001b[0m\u001b[37m━━\u001b[0m \u001b[1m0s\u001b[0m 54ms/step - loss: 0.0176"
     ]
    },
    {
     "name": "stderr",
     "output_type": "stream",
     "text": [
      "[codecarbon INFO @ 03:38:18] Energy consumed for RAM : 0.000499 kWh. RAM Power : 11.975459575653076 W\n",
      "[codecarbon INFO @ 03:38:18] Energy consumed for all CPUs : 0.001981 kWh. Total CPU Power : 47.5 W\n",
      "[codecarbon INFO @ 03:38:18] Energy consumed for all GPUs : 0.001003 kWh. Total GPU Power : 19.77803554084778 W\n",
      "[codecarbon INFO @ 03:38:18] 0.003483 kWh of electricity used since the beginning.\n"
     ]
    },
    {
     "name": "stdout",
     "output_type": "stream",
     "text": [
      "\u001b[1m11/11\u001b[0m \u001b[32m━━━━━━━━━━━━━━━━━━━━\u001b[0m\u001b[37m\u001b[0m \u001b[1m1s\u001b[0m 60ms/step - loss: 0.0176 - val_loss: 0.0155\n",
      "Epoch 215/300\n",
      "\u001b[1m11/11\u001b[0m \u001b[32m━━━━━━━━━━━━━━━━━━━━\u001b[0m\u001b[37m\u001b[0m \u001b[1m1s\u001b[0m 61ms/step - loss: 0.0183 - val_loss: 0.0165\n",
      "Epoch 216/300\n",
      "\u001b[1m11/11\u001b[0m \u001b[32m━━━━━━━━━━━━━━━━━━━━\u001b[0m\u001b[37m\u001b[0m \u001b[1m1s\u001b[0m 58ms/step - loss: 0.0179 - val_loss: 0.0157\n",
      "Epoch 217/300\n",
      "\u001b[1m11/11\u001b[0m \u001b[32m━━━━━━━━━━━━━━━━━━━━\u001b[0m\u001b[37m\u001b[0m \u001b[1m1s\u001b[0m 59ms/step - loss: 0.0202 - val_loss: 0.0177\n",
      "Epoch 218/300\n",
      "\u001b[1m11/11\u001b[0m \u001b[32m━━━━━━━━━━━━━━━━━━━━\u001b[0m\u001b[37m\u001b[0m \u001b[1m1s\u001b[0m 57ms/step - loss: 0.0205 - val_loss: 0.0166\n",
      "Epoch 219/300\n",
      "\u001b[1m11/11\u001b[0m \u001b[32m━━━━━━━━━━━━━━━━━━━━\u001b[0m\u001b[37m\u001b[0m \u001b[1m1s\u001b[0m 58ms/step - loss: 0.0207 - val_loss: 0.0162\n",
      "Epoch 220/300\n",
      "\u001b[1m11/11\u001b[0m \u001b[32m━━━━━━━━━━━━━━━━━━━━\u001b[0m\u001b[37m\u001b[0m \u001b[1m1s\u001b[0m 58ms/step - loss: 0.0186 - val_loss: 0.0161\n",
      "Epoch 221/300\n",
      "\u001b[1m11/11\u001b[0m \u001b[32m━━━━━━━━━━━━━━━━━━━━\u001b[0m\u001b[37m\u001b[0m \u001b[1m1s\u001b[0m 59ms/step - loss: 0.0182 - val_loss: 0.0162\n",
      "Epoch 222/300\n",
      "\u001b[1m11/11\u001b[0m \u001b[32m━━━━━━━━━━━━━━━━━━━━\u001b[0m\u001b[37m\u001b[0m \u001b[1m1s\u001b[0m 58ms/step - loss: 0.0188 - val_loss: 0.0178\n",
      "Epoch 223/300\n",
      "\u001b[1m11/11\u001b[0m \u001b[32m━━━━━━━━━━━━━━━━━━━━\u001b[0m\u001b[37m\u001b[0m \u001b[1m1s\u001b[0m 60ms/step - loss: 0.0197 - val_loss: 0.0159\n",
      "Epoch 224/300\n",
      "\u001b[1m11/11\u001b[0m \u001b[32m━━━━━━━━━━━━━━━━━━━━\u001b[0m\u001b[37m\u001b[0m \u001b[1m1s\u001b[0m 59ms/step - loss: 0.0193 - val_loss: 0.0158\n",
      "Epoch 225/300\n",
      "\u001b[1m11/11\u001b[0m \u001b[32m━━━━━━━━━━━━━━━━━━━━\u001b[0m\u001b[37m\u001b[0m \u001b[1m1s\u001b[0m 58ms/step - loss: 0.0182 - val_loss: 0.0157\n",
      "Epoch 226/300\n",
      "\u001b[1m11/11\u001b[0m \u001b[32m━━━━━━━━━━━━━━━━━━━━\u001b[0m\u001b[37m\u001b[0m \u001b[1m1s\u001b[0m 59ms/step - loss: 0.0177 - val_loss: 0.0158\n",
      "Epoch 227/300\n",
      "\u001b[1m11/11\u001b[0m \u001b[32m━━━━━━━━━━━━━━━━━━━━\u001b[0m\u001b[37m\u001b[0m \u001b[1m1s\u001b[0m 68ms/step - loss: 0.0178 - val_loss: 0.0159\n",
      "Epoch 228/300\n",
      "\u001b[1m11/11\u001b[0m \u001b[32m━━━━━━━━━━━━━━━━━━━━\u001b[0m\u001b[37m\u001b[0m \u001b[1m1s\u001b[0m 58ms/step - loss: 0.0184 - val_loss: 0.0164\n",
      "Epoch 229/300\n",
      "\u001b[1m10/11\u001b[0m \u001b[32m━━━━━━━━━━━━━━━━━━\u001b[0m\u001b[37m━━\u001b[0m \u001b[1m0s\u001b[0m 54ms/step - loss: 0.0180"
     ]
    },
    {
     "name": "stderr",
     "output_type": "stream",
     "text": [
      "[codecarbon INFO @ 03:38:28] Energy consumed for RAM : 0.000532 kWh. RAM Power : 11.975459575653076 W\n",
      "[codecarbon INFO @ 03:38:28] Energy consumed for all CPUs : 0.002113 kWh. Total CPU Power : 47.5 W\n",
      "[codecarbon INFO @ 03:38:28] Energy consumed for all GPUs : 0.001057 kWh. Total GPU Power : 19.4138467427084 W\n",
      "[codecarbon INFO @ 03:38:28] 0.003702 kWh of electricity used since the beginning.\n"
     ]
    },
    {
     "name": "stdout",
     "output_type": "stream",
     "text": [
      "\u001b[1m11/11\u001b[0m \u001b[32m━━━━━━━━━━━━━━━━━━━━\u001b[0m\u001b[37m\u001b[0m \u001b[1m1s\u001b[0m 60ms/step - loss: 0.0179 - val_loss: 0.0164\n",
      "Epoch 230/300\n"
     ]
    },
    {
     "name": "stderr",
     "output_type": "stream",
     "text": [
      "[codecarbon INFO @ 03:38:28] 0.000563 g.CO2eq/s mean an estimation of 17.74833473863465 kg.CO2eq/year\n"
     ]
    },
    {
     "name": "stdout",
     "output_type": "stream",
     "text": [
      "\u001b[1m11/11\u001b[0m \u001b[32m━━━━━━━━━━━━━━━━━━━━\u001b[0m\u001b[37m\u001b[0m \u001b[1m1s\u001b[0m 61ms/step - loss: 0.0172 - val_loss: 0.0157\n",
      "Epoch 231/300\n",
      "\u001b[1m11/11\u001b[0m \u001b[32m━━━━━━━━━━━━━━━━━━━━\u001b[0m\u001b[37m\u001b[0m \u001b[1m1s\u001b[0m 57ms/step - loss: 0.0166 - val_loss: 0.0158\n",
      "Epoch 232/300\n",
      "\u001b[1m11/11\u001b[0m \u001b[32m━━━━━━━━━━━━━━━━━━━━\u001b[0m\u001b[37m\u001b[0m \u001b[1m1s\u001b[0m 60ms/step - loss: 0.0164 - val_loss: 0.0154\n",
      "Epoch 233/300\n",
      "\u001b[1m11/11\u001b[0m \u001b[32m━━━━━━━━━━━━━━━━━━━━\u001b[0m\u001b[37m\u001b[0m \u001b[1m1s\u001b[0m 62ms/step - loss: 0.0163 - val_loss: 0.0152\n",
      "Epoch 234/300\n",
      "\u001b[1m11/11\u001b[0m \u001b[32m━━━━━━━━━━━━━━━━━━━━\u001b[0m\u001b[37m\u001b[0m \u001b[1m1s\u001b[0m 56ms/step - loss: 0.0164 - val_loss: 0.0161\n",
      "Epoch 235/300\n",
      "\u001b[1m11/11\u001b[0m \u001b[32m━━━━━━━━━━━━━━━━━━━━\u001b[0m\u001b[37m\u001b[0m \u001b[1m1s\u001b[0m 57ms/step - loss: 0.0167 - val_loss: 0.0156\n",
      "Epoch 236/300\n",
      "\u001b[1m 6/11\u001b[0m \u001b[32m━━━━━━━━━━\u001b[0m\u001b[37m━━━━━━━━━━\u001b[0m \u001b[1m0s\u001b[0m 52ms/step - loss: 0.0163"
     ]
    }
   ],
   "source": [
    "tracker_conv_lstm.start()\n",
    "try:\n",
    "    history_conv_lstm, training_duration_conv_lstm = start_training_conv_lstm()\n",
    "finally:\n",
    "    tracker_conv_lstm.stop()"
   ]
  },
  {
   "cell_type": "markdown",
   "id": "2cc986f0-59cb-406e-bf20-620c9356725c",
   "metadata": {},
   "source": [
    "#### Ploting the loss"
   ]
  },
  {
   "cell_type": "code",
   "execution_count": null,
   "id": "5e629435-8092-46ec-9073-2c952de29b36",
   "metadata": {},
   "outputs": [],
   "source": [
    "plot_loss(history_conv_lstm)"
   ]
  },
  {
   "cell_type": "code",
   "execution_count": null,
   "id": "5b30f12f-7690-4d97-bb47-2d4ab15f7b61",
   "metadata": {},
   "outputs": [],
   "source": [
    "conv_lstm_model = tf.keras.models.load_model(\n",
    "    \"model_experiments/model_conv_lstm.keras\")\n",
    "\n",
    "model_preds = make_preds(conv_lstm_model, x_test_conv_lstm)\n",
    "model_results = evaluate_preds(y_true=tf.squeeze(y_test),\n",
    "                               y_pred=model_preds)\n",
    "\n",
    "model_results"
   ]
  },
  {
   "cell_type": "markdown",
   "id": "49564177-2a5b-4e3e-9e4d-cdfea775bb62",
   "metadata": {},
   "source": [
    "#### Plot predictions"
   ]
  },
  {
   "cell_type": "code",
   "execution_count": null,
   "id": "252095b0-23c1-4b8d-9f9f-38fbc0e32ce3",
   "metadata": {},
   "outputs": [],
   "source": [
    "import numpy as np\n",
    "\n",
    "start_offset = 1\n",
    "end_offset = 30\n",
    "plt.figure(figsize=(20, 16))\n",
    "\n",
    "\n",
    "plot_time_series(\n",
    "    timesteps=np.arange(x_test.shape[0]),\n",
    "    values=y_test,\n",
    "    start=start_offset,\n",
    "    end=end_offset,\n",
    "    format='-*',\n",
    "    label=\"Test data\"\n",
    ")\n",
    "\n",
    "plot_time_series(\n",
    "    timesteps=np.arange(x_test.shape[0]),\n",
    "    values=model_preds,\n",
    "    start=start_offset,\n",
    "    end=end_offset,\n",
    "    format=\"-\",\n",
    "    label=\"ConvLSTM predictions\"\n",
    ")"
   ]
  },
  {
   "cell_type": "code",
   "execution_count": null,
   "id": "528fa59f-d698-4f7b-aed2-f64d60dca45a",
   "metadata": {},
   "outputs": [],
   "source": []
  }
 ],
 "metadata": {
  "kernelspec": {
   "display_name": "Python 3 (ipykernel)",
   "language": "python",
   "name": "python3"
  },
  "language_info": {
   "codemirror_mode": {
    "name": "ipython",
    "version": 3
   },
   "file_extension": ".py",
   "mimetype": "text/x-python",
   "name": "python",
   "nbconvert_exporter": "python",
   "pygments_lexer": "ipython3",
   "version": "3.12.3"
  }
 },
 "nbformat": 4,
 "nbformat_minor": 5
}
