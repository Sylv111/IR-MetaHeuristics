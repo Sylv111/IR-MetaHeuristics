{
 "cells": [
  {
   "cell_type": "code",
   "execution_count": 30,
   "id": "5e4b0c1b-5602-413e-8fdf-28f7dd6769f4",
   "metadata": {},
   "outputs": [],
   "source": [
    "import pandas as pd\n",
    "import numpy as np \n",
    "import warnings\n",
    "\n",
    "warnings.filterwarnings('ignore')\n",
    "pd.set_option('display.max_columns', None)\n",
    "pd.set_option('display.max_rows', None)"
   ]
  },
  {
   "cell_type": "code",
   "execution_count": 31,
   "id": "88d009da-34fd-4ee6-93de-1b1a96a68c0e",
   "metadata": {},
   "outputs": [],
   "source": [
    "full_dataset = pd.read_csv('./full_dataset.csv', delimiter=';')"
   ]
  },
  {
   "cell_type": "code",
   "execution_count": 32,
   "id": "fdd9fab2-3fbf-4fe1-9a71-143805986562",
   "metadata": {},
   "outputs": [
    {
     "data": {
      "text/plain": [
       "(10871, 165)"
      ]
     },
     "execution_count": 32,
     "metadata": {},
     "output_type": "execute_result"
    }
   ],
   "source": [
    "full_dataset.shape"
   ]
  },
  {
   "cell_type": "code",
   "execution_count": 33,
   "id": "b59a3cac-a803-405e-9bcb-aace1a237f97",
   "metadata": {},
   "outputs": [
    {
     "name": "stdout",
     "output_type": "stream",
     "text": [
      "['date', 'production', 'latitude', 'longitude', 'vmp', 'imp', 'voc', 'isc', 'p_per_m2', 'p_max', 'panel_area', 'facade_area', 'total_panel_area', 'exploitation_ratio', 'air_temp_mean', 'air_temp_std', 'air_temp_min', 'air_temp_q1', 'air_temp_q2', 'air_temp_q3', 'air_temp_max', 'albedo_mean', 'albedo_std', 'albedo_min', 'albedo_q1', 'albedo_q2', 'albedo_q3', 'albedo_max', 'azimuth_mean', 'azimuth_std', 'azimuth_min', 'azimuth_q1', 'azimuth_q2', 'azimuth_q3', 'azimuth_max', 'clearsky_dhi_mean', 'clearsky_dhi_std', 'clearsky_dhi_min', 'clearsky_dhi_q1', 'clearsky_dhi_q2', 'clearsky_dhi_q3', 'clearsky_dhi_max', 'clearsky_dni_mean', 'clearsky_dni_std', 'clearsky_dni_min', 'clearsky_dni_q1', 'clearsky_dni_q2', 'clearsky_dni_q3', 'clearsky_dni_max', 'clearsky_ghi_mean', 'clearsky_ghi_std', 'clearsky_ghi_min', 'clearsky_ghi_q1', 'clearsky_ghi_q2', 'clearsky_ghi_q3', 'clearsky_ghi_max', 'clearsky_gti_mean', 'clearsky_gti_std', 'clearsky_gti_min', 'clearsky_gti_q1', 'clearsky_gti_q2', 'clearsky_gti_q3', 'clearsky_gti_max', 'cloud_opacity_mean', 'cloud_opacity_std', 'cloud_opacity_min', 'cloud_opacity_q1', 'cloud_opacity_q2', 'cloud_opacity_q3', 'cloud_opacity_max', 'dewpoint_temp_mean', 'dewpoint_temp_std', 'dewpoint_temp_min', 'dewpoint_temp_q1', 'dewpoint_temp_q2', 'dewpoint_temp_q3', 'dewpoint_temp_max', 'dhi_mean', 'dhi_std', 'dhi_min', 'dhi_q1', 'dhi_q2', 'dhi_q3', 'dhi_max', 'dni_mean', 'dni_std', 'dni_min', 'dni_q1', 'dni_q2', 'dni_q3', 'dni_max', 'ghi_mean', 'ghi_std', 'ghi_min', 'ghi_q1', 'ghi_q2', 'ghi_q3', 'ghi_max', 'gti_mean', 'gti_std', 'gti_min', 'gti_q1', 'gti_q2', 'gti_q3', 'gti_max', 'precipitable_water_mean', 'precipitable_water_std', 'precipitable_water_min', 'precipitable_water_q1', 'precipitable_water_q2', 'precipitable_water_q3', 'precipitable_water_max', 'precipitation_rate_mean', 'precipitation_rate_std', 'precipitation_rate_min', 'precipitation_rate_q1', 'precipitation_rate_q2', 'precipitation_rate_q3', 'precipitation_rate_max', 'relative_humidity_mean', 'relative_humidity_std', 'relative_humidity_min', 'relative_humidity_q1', 'relative_humidity_q2', 'relative_humidity_q3', 'relative_humidity_max', 'surface_pressure_mean', 'surface_pressure_std', 'surface_pressure_min', 'surface_pressure_q1', 'surface_pressure_q2', 'surface_pressure_q3', 'surface_pressure_max', 'wind_direction_100m_mean', 'wind_direction_100m_std', 'wind_direction_100m_min', 'wind_direction_100m_q1', 'wind_direction_100m_q2', 'wind_direction_100m_q3', 'wind_direction_100m_max', 'wind_direction_10m_mean', 'wind_direction_10m_std', 'wind_direction_10m_min', 'wind_direction_10m_q1', 'wind_direction_10m_q2', 'wind_direction_10m_q3', 'wind_direction_10m_max', 'wind_speed_100m_mean', 'wind_speed_100m_std', 'wind_speed_100m_min', 'wind_speed_100m_q1', 'wind_speed_100m_q2', 'wind_speed_100m_q3', 'wind_speed_100m_max', 'wind_speed_10m_mean', 'wind_speed_10m_std', 'wind_speed_10m_min', 'wind_speed_10m_q1', 'wind_speed_10m_q2', 'wind_speed_10m_q3', 'wind_speed_10m_max', 'building_id', 'day', 'month', 'year']\n"
     ]
    }
   ],
   "source": [
    "print(full_dataset.columns.tolist())"
   ]
  },
  {
   "cell_type": "markdown",
   "id": "7cd65d80-89b9-453e-8fe5-fe3b637c5cb4",
   "metadata": {},
   "source": [
    "### Suppression des colonnes inutiles"
   ]
  },
  {
   "cell_type": "code",
   "execution_count": 34,
   "id": "f74fba39-0ac5-406f-9268-631d9f736d3b",
   "metadata": {},
   "outputs": [],
   "source": [
    "cols_to_drop = [\n",
    "    'latitude', 'longitude', 'vmp', 'imp', 'voc', 'isc', 'p_max', 'exploitation_ratio',\n",
    "    'air_temp_min', 'air_temp_q1', 'air_temp_q2', 'air_temp_q3', 'air_temp_max',\n",
    "    'albedo_mean', 'albedo_std', 'albedo_min', 'albedo_q1', 'albedo_q2', 'albedo_q3', 'albedo_max',\n",
    "    'azimuth_mean', 'azimuth_std', 'azimuth_min', 'azimuth_q1', 'azimuth_q2', 'azimuth_q3', 'azimuth_max',\n",
    "    'clearsky_dhi_mean', 'clearsky_dhi_std', 'clearsky_dhi_min', 'clearsky_dhi_q1', 'clearsky_dhi_q2',\n",
    "    'clearsky_dhi_q3', 'clearsky_dhi_max', 'clearsky_dni_mean', 'clearsky_dni_std', 'clearsky_dni_min',\n",
    "    'clearsky_dni_q1', 'clearsky_dni_q2', 'clearsky_dni_q3', 'clearsky_dni_max', 'clearsky_ghi_mean',\n",
    "    'clearsky_ghi_std', 'clearsky_ghi_min', 'clearsky_ghi_q1', 'clearsky_ghi_q2', 'clearsky_ghi_q3',\n",
    "    'clearsky_ghi_max', 'clearsky_gti_mean', 'clearsky_gti_std', 'clearsky_gti_min',\n",
    "    'clearsky_gti_q1', 'clearsky_gti_q2', 'clearsky_gti_q3', 'clearsky_gti_max',\n",
    "    'cloud_opacity_std',\n",
    "    'dewpoint_temp_mean', 'dewpoint_temp_std', 'dewpoint_temp_min', 'dewpoint_temp_q1',\n",
    "    'dewpoint_temp_q2', 'dewpoint_temp_q3', 'dewpoint_temp_max',\n",
    "    'dhi_mean', 'dhi_std', 'dhi_min', 'dhi_q1', 'dhi_q2', 'dhi_q3', 'dhi_max',\n",
    "    'dni_min', 'dni_q1', 'dni_q2',\n",
    "    'gti_min', 'gti_q1', 'gti_q2',\n",
    "    'ghi_min', 'ghi_q1', 'ghi_q2',\n",
    "    'precipitable_water_mean', 'precipitable_water_std', 'precipitable_water_min',\n",
    "    'precipitable_water_q1', 'precipitable_water_q2', 'precipitable_water_q3',\n",
    "    'precipitable_water_max', 'precipitation_rate_mean', 'precipitation_rate_std',\n",
    "    'precipitation_rate_min', 'precipitation_rate_q1', 'precipitation_rate_q2',\n",
    "    'precipitation_rate_q3', 'precipitation_rate_max',\n",
    "    'relative_humidity_max', 'relative_humidity_q2', 'relative_humidity_q3',\n",
    "    'surface_pressure_mean', 'surface_pressure_std', 'surface_pressure_min', 'surface_pressure_q1',\n",
    "    'surface_pressure_q2', 'surface_pressure_q3', 'surface_pressure_max',\n",
    "    'wind_direction_100m_mean', 'wind_direction_100m_std', 'wind_direction_100m_min',\n",
    "    'wind_direction_100m_q1', 'wind_direction_100m_q2', 'wind_direction_100m_q3',\n",
    "    'wind_direction_100m_max', 'wind_direction_10m_mean', 'wind_direction_10m_std',\n",
    "    'wind_direction_10m_min', 'wind_direction_10m_q1', 'wind_direction_10m_q2',\n",
    "    'wind_direction_10m_q3', 'wind_direction_10m_max',\n",
    "    'wind_speed_100m_mean', 'wind_speed_100m_std', 'wind_speed_100m_min',\n",
    "    'wind_speed_100m_q1', 'wind_speed_100m_q2', 'wind_speed_100m_q3', 'wind_speed_100m_max',\n",
    "    'wind_speed_10m_mean', 'wind_speed_10m_std', 'wind_speed_10m_min',\n",
    "    'wind_speed_10m_q1', 'wind_speed_10m_q2', 'wind_speed_10m_q3', 'wind_speed_10m_max',\n",
    "     'day', 'month', 'year'\n",
    "]\n"
   ]
  },
  {
   "cell_type": "code",
   "execution_count": 35,
   "id": "fc3bc167-24e8-4e1a-affb-0bc0495e9b38",
   "metadata": {},
   "outputs": [],
   "source": [
    "full_dataset_cleaned_columns = full_dataset.drop(columns=cols_to_drop, axis=1)\n"
   ]
  },
  {
   "cell_type": "code",
   "execution_count": 36,
   "id": "b29ade8d-e909-4c8f-8ccb-432c9df52d3f",
   "metadata": {},
   "outputs": [
    {
     "data": {
      "text/plain": [
       "(10871, 31)"
      ]
     },
     "execution_count": 36,
     "metadata": {},
     "output_type": "execute_result"
    }
   ],
   "source": [
    "full_dataset_cleaned_columns.shape"
   ]
  },
  {
   "cell_type": "code",
   "execution_count": 37,
   "id": "92f2418d-bb84-44eb-8955-6412ded13a20",
   "metadata": {},
   "outputs": [
    {
     "name": "stdout",
     "output_type": "stream",
     "text": [
      "['date', 'production', 'p_per_m2', 'panel_area', 'facade_area', 'total_panel_area', 'air_temp_mean', 'air_temp_std', 'cloud_opacity_mean', 'cloud_opacity_min', 'cloud_opacity_q1', 'cloud_opacity_q2', 'cloud_opacity_q3', 'cloud_opacity_max', 'dni_mean', 'dni_std', 'dni_q3', 'dni_max', 'ghi_mean', 'ghi_std', 'ghi_q3', 'ghi_max', 'gti_mean', 'gti_std', 'gti_q3', 'gti_max', 'relative_humidity_mean', 'relative_humidity_std', 'relative_humidity_min', 'relative_humidity_q1', 'building_id']\n"
     ]
    }
   ],
   "source": [
    "print(full_dataset_cleaned_columns.columns.tolist())"
   ]
  },
  {
   "cell_type": "markdown",
   "id": "446175cf-3a1a-4369-a422-91acc8f5bec3",
   "metadata": {},
   "source": [
    "### dealing with columns type "
   ]
  },
  {
   "cell_type": "code",
   "execution_count": 38,
   "id": "9440243b-013f-44a9-88fd-73e290fe651f",
   "metadata": {},
   "outputs": [
    {
     "data": {
      "text/plain": [
       "{'date': dtype('O'),\n",
       " 'production': dtype('float64'),\n",
       " 'p_per_m2': dtype('float64'),\n",
       " 'panel_area': dtype('float64'),\n",
       " 'facade_area': dtype('float64'),\n",
       " 'total_panel_area': dtype('float64'),\n",
       " 'air_temp_mean': dtype('float64'),\n",
       " 'air_temp_std': dtype('float64'),\n",
       " 'cloud_opacity_mean': dtype('float64'),\n",
       " 'cloud_opacity_min': dtype('float64'),\n",
       " 'cloud_opacity_q1': dtype('float64'),\n",
       " 'cloud_opacity_q2': dtype('float64'),\n",
       " 'cloud_opacity_q3': dtype('float64'),\n",
       " 'cloud_opacity_max': dtype('float64'),\n",
       " 'dni_mean': dtype('float64'),\n",
       " 'dni_std': dtype('float64'),\n",
       " 'dni_q3': dtype('float64'),\n",
       " 'dni_max': dtype('int64'),\n",
       " 'ghi_mean': dtype('float64'),\n",
       " 'ghi_std': dtype('float64'),\n",
       " 'ghi_q3': dtype('float64'),\n",
       " 'ghi_max': dtype('int64'),\n",
       " 'gti_mean': dtype('float64'),\n",
       " 'gti_std': dtype('float64'),\n",
       " 'gti_q3': dtype('float64'),\n",
       " 'gti_max': dtype('int64'),\n",
       " 'relative_humidity_mean': dtype('float64'),\n",
       " 'relative_humidity_std': dtype('float64'),\n",
       " 'relative_humidity_min': dtype('float64'),\n",
       " 'relative_humidity_q1': dtype('float64'),\n",
       " 'building_id': dtype('int64')}"
      ]
     },
     "execution_count": 38,
     "metadata": {},
     "output_type": "execute_result"
    }
   ],
   "source": [
    "full_dataset_cleaned_columns.dtypes.to_dict()"
   ]
  },
  {
   "cell_type": "code",
   "execution_count": 39,
   "id": "cee2ea9d-31ee-4e73-bab2-e069f267a498",
   "metadata": {},
   "outputs": [],
   "source": [
    "full_dataset_cleaned_columns[\"date\"] = pd.to_datetime(full_dataset_cleaned_columns[\"date\"], format=\"%d/%m/%Y\")"
   ]
  },
  {
   "cell_type": "code",
   "execution_count": 40,
   "id": "a2b15479-763c-4d2d-9e9d-19c62eba46dd",
   "metadata": {},
   "outputs": [
    {
     "data": {
      "text/plain": [
       "{'date': dtype('<M8[ns]'),\n",
       " 'production': dtype('float64'),\n",
       " 'p_per_m2': dtype('float64'),\n",
       " 'panel_area': dtype('float64'),\n",
       " 'facade_area': dtype('float64'),\n",
       " 'total_panel_area': dtype('float64'),\n",
       " 'air_temp_mean': dtype('float64'),\n",
       " 'air_temp_std': dtype('float64'),\n",
       " 'cloud_opacity_mean': dtype('float64'),\n",
       " 'cloud_opacity_min': dtype('float64'),\n",
       " 'cloud_opacity_q1': dtype('float64'),\n",
       " 'cloud_opacity_q2': dtype('float64'),\n",
       " 'cloud_opacity_q3': dtype('float64'),\n",
       " 'cloud_opacity_max': dtype('float64'),\n",
       " 'dni_mean': dtype('float64'),\n",
       " 'dni_std': dtype('float64'),\n",
       " 'dni_q3': dtype('float64'),\n",
       " 'dni_max': dtype('int64'),\n",
       " 'ghi_mean': dtype('float64'),\n",
       " 'ghi_std': dtype('float64'),\n",
       " 'ghi_q3': dtype('float64'),\n",
       " 'ghi_max': dtype('int64'),\n",
       " 'gti_mean': dtype('float64'),\n",
       " 'gti_std': dtype('float64'),\n",
       " 'gti_q3': dtype('float64'),\n",
       " 'gti_max': dtype('int64'),\n",
       " 'relative_humidity_mean': dtype('float64'),\n",
       " 'relative_humidity_std': dtype('float64'),\n",
       " 'relative_humidity_min': dtype('float64'),\n",
       " 'relative_humidity_q1': dtype('float64'),\n",
       " 'building_id': dtype('int64')}"
      ]
     },
     "execution_count": 40,
     "metadata": {},
     "output_type": "execute_result"
    }
   ],
   "source": [
    "full_dataset_cleaned_columns.dtypes.to_dict()"
   ]
  },
  {
   "cell_type": "code",
   "execution_count": 41,
   "id": "4271962d-e49d-4cf1-b3ec-e5d48c730625",
   "metadata": {},
   "outputs": [
    {
     "data": {
      "text/plain": [
       "Timestamp('2023-03-31 00:00:00')"
      ]
     },
     "execution_count": 41,
     "metadata": {},
     "output_type": "execute_result"
    }
   ],
   "source": [
    "full_dataset_cleaned_columns['date'].max()"
   ]
  },
  {
   "cell_type": "markdown",
   "id": "1f2d03fb-c3fc-4cdd-b062-9e5f3691fdf6",
   "metadata": {},
   "source": [
    "## Creation des dataset (csv)\n",
    "### all_data"
   ]
  },
  {
   "cell_type": "code",
   "execution_count": 42,
   "id": "1651d451-2f85-46a0-9d51-a6e17afe5408",
   "metadata": {},
   "outputs": [
    {
     "data": {
      "text/plain": [
       "{'production': dtype('float64'),\n",
       " 'p_per_m2': dtype('float64'),\n",
       " 'panel_area': dtype('float64'),\n",
       " 'facade_area': dtype('float64'),\n",
       " 'total_panel_area': dtype('float64'),\n",
       " 'air_temp_mean': dtype('float64'),\n",
       " 'air_temp_std': dtype('float64'),\n",
       " 'cloud_opacity_mean': dtype('float64'),\n",
       " 'cloud_opacity_min': dtype('float64'),\n",
       " 'cloud_opacity_q1': dtype('float64'),\n",
       " 'cloud_opacity_q2': dtype('float64'),\n",
       " 'cloud_opacity_q3': dtype('float64'),\n",
       " 'cloud_opacity_max': dtype('float64'),\n",
       " 'dni_mean': dtype('float64'),\n",
       " 'dni_std': dtype('float64'),\n",
       " 'dni_q3': dtype('float64'),\n",
       " 'dni_max': dtype('int64'),\n",
       " 'ghi_mean': dtype('float64'),\n",
       " 'ghi_std': dtype('float64'),\n",
       " 'ghi_q3': dtype('float64'),\n",
       " 'ghi_max': dtype('int64'),\n",
       " 'gti_mean': dtype('float64'),\n",
       " 'gti_std': dtype('float64'),\n",
       " 'gti_q3': dtype('float64'),\n",
       " 'gti_max': dtype('int64'),\n",
       " 'relative_humidity_mean': dtype('float64'),\n",
       " 'relative_humidity_std': dtype('float64'),\n",
       " 'relative_humidity_min': dtype('float64'),\n",
       " 'relative_humidity_q1': dtype('float64')}"
      ]
     },
     "execution_count": 42,
     "metadata": {},
     "output_type": "execute_result"
    }
   ],
   "source": [
    "dataset_cleaned = full_dataset_cleaned_columns.copy()\n",
    "dataset_cleaned = dataset_cleaned.drop(columns = ['date', 'building_id'], axis=1)\n",
    "dataset_cleaned.dtypes.to_dict()"
   ]
  },
  {
   "cell_type": "code",
   "execution_count": 43,
   "id": "c9ffb32a-dfa2-44e6-9e47-8c2caa642787",
   "metadata": {},
   "outputs": [
    {
     "data": {
      "text/plain": [
       "(10871, 29)"
      ]
     },
     "execution_count": 43,
     "metadata": {},
     "output_type": "execute_result"
    }
   ],
   "source": [
    "dataset_cleaned.shape"
   ]
  },
  {
   "cell_type": "code",
   "execution_count": 44,
   "id": "b0198c2a-849a-40fa-a741-5bb2c958eed9",
   "metadata": {},
   "outputs": [],
   "source": [
    "dataset_cleaned.to_csv('./scaled_dataset.csv', index=False)"
   ]
  },
  {
   "cell_type": "markdown",
   "id": "acc4c7e4-3c0f-4ad9-ac4e-024788b4b286",
   "metadata": {},
   "source": [
    "### group by month (month_year)"
   ]
  },
  {
   "cell_type": "markdown",
   "id": "dc11d9c6-5f6e-4ec0-a011-0b8d2fed47a1",
   "metadata": {},
   "source": [
    "Cette méthode agrège les données par bâtiment et par mois/année pour calculer la moyenne et la médiane mensuelles. Elle permet de simplifier le dataset en réduisant le nombre de lignes tout en conservant une vue globale et régulière de l’évolution des indicateurs sur le temps."
   ]
  },
  {
   "cell_type": "code",
   "execution_count": 45,
   "id": "cb2573a2-6c0f-4bff-95b3-a3c9b51e9500",
   "metadata": {},
   "outputs": [
    {
     "data": {
      "text/plain": [
       "(726, 33)"
      ]
     },
     "execution_count": 45,
     "metadata": {},
     "output_type": "execute_result"
    }
   ],
   "source": [
    "dataset_month_year = full_dataset_cleaned_columns.copy()\n",
    "\n",
    "dataset_month_year[\"month_year\"] = dataset_month_year[\"date\"].dt.strftime(\"%Y-%m\")\n",
    "\n",
    "# Calculer la moyenne et la médiane\n",
    "mean_values = dataset_month_year.groupby([\"building_id\", \"month_year\"]).mean().reset_index()\n",
    "median_values = dataset_month_year.groupby([\"building_id\", \"month_year\"]).median().reset_index()\n",
    "\n",
    "# Ajouter une colonne 'stat_type' pour identifier les types de stats\n",
    "mean_values[\"stat_type\"] = \"mean\"\n",
    "median_values[\"stat_type\"] = \"median\"\n",
    "\n",
    "# Concaténer les deux DataFrames pour avoir les statistiques sous forme de lignes\n",
    "dataset_month_year = pd.concat([mean_values, median_values])\n",
    "\n",
    "# Trier les valeurs pour garder un bon ordre d'affichage\n",
    "dataset_month_year = dataset_month_year.sort_values(by=[\"building_id\", \"month_year\", \"stat_type\"])\n",
    "dataset_month_year.shape"
   ]
  },
  {
   "cell_type": "code",
   "execution_count": 46,
   "id": "91dce1b9-d20c-4e7f-8485-44004bc4aa48",
   "metadata": {},
   "outputs": [],
   "source": [
    "dataset_month_year = dataset_month_year.drop(columns = ['building_id', 'month_year', 'date', 'stat_type'])"
   ]
  },
  {
   "cell_type": "code",
   "execution_count": 47,
   "id": "62478292-f97d-4b38-ab64-a46d4feda4ea",
   "metadata": {},
   "outputs": [
    {
     "data": {
      "text/plain": [
       "(726, 29)"
      ]
     },
     "execution_count": 47,
     "metadata": {},
     "output_type": "execute_result"
    }
   ],
   "source": [
    "dataset_month_year.shape"
   ]
  },
  {
   "cell_type": "code",
   "execution_count": 48,
   "id": "22deaee0-b6c4-404b-b9cf-d51ba79a213a",
   "metadata": {},
   "outputs": [],
   "source": [
    "dataset_month_year.to_csv('./mouth_year.csv', index=False)"
   ]
  },
  {
   "cell_type": "markdown",
   "id": "1b458019-8963-4650-b2cf-6506888b6b9d",
   "metadata": {},
   "source": [
    "### group by week (year_week)"
   ]
  },
  {
   "cell_type": "markdown",
   "id": "cf4c9e39-f63f-4e25-85b9-8c3217f19909",
   "metadata": {},
   "source": [
    "Cette approche regroupe les données par bâtiment et par semaine de l'année, afin de calculer la moyenne et la médiane hebdomadaire de chaque variable. Elle permet de lisser les fluctuations quotidiennes tout en conservant une granularité temporelle utile pour l’analyse de tendances."
   ]
  },
  {
   "cell_type": "code",
   "execution_count": 49,
   "id": "5eb59baf-9cf2-44ba-b4eb-bc5f0ca9e8ef",
   "metadata": {},
   "outputs": [
    {
     "data": {
      "text/plain": [
       "(3174, 33)"
      ]
     },
     "execution_count": 49,
     "metadata": {},
     "output_type": "execute_result"
    }
   ],
   "source": [
    "dataset_year_week = full_dataset_cleaned_columns.copy()\n",
    "\n",
    "dataset_year_week[\"year_week\"] = dataset_year_week[\"date\"].dt.strftime(\"%Y-%U\")\n",
    "\n",
    "# Calculer la moyenne et la médiane\n",
    "mean_values = dataset_year_week.groupby([\"building_id\", \"year_week\"]).mean().reset_index()\n",
    "median_values = dataset_year_week.groupby([\"building_id\", \"year_week\"]).median().reset_index()\n",
    "\n",
    "# Ajouter une colonne 'stat_type' pour identifier les types de stats\n",
    "mean_values[\"stat_type\"] = \"mean\"\n",
    "median_values[\"stat_type\"] = \"median\"\n",
    "\n",
    "# Concaténer les deux DataFrames pour avoir les statistiques sous forme de lignes\n",
    "dataset_year_week = pd.concat([mean_values, median_values])\n",
    "\n",
    "# Trier les valeurs pour garder un bon ordre d'affichage\n",
    "dataset_year_week = dataset_year_week.sort_values(by=[\"building_id\", \"year_week\", \"stat_type\"])\n",
    "dataset_year_week.shape"
   ]
  },
  {
   "cell_type": "code",
   "execution_count": 50,
   "id": "5d6a28f2-3178-415b-bc10-d80e59ea1ed3",
   "metadata": {},
   "outputs": [],
   "source": [
    "dataset_year_week = dataset_year_week.drop(columns = ['building_id', 'year_week', 'date', 'stat_type'])"
   ]
  },
  {
   "cell_type": "code",
   "execution_count": 51,
   "id": "1158a467-ce50-419a-8a05-d79905a4265a",
   "metadata": {},
   "outputs": [
    {
     "data": {
      "text/plain": [
       "(3174, 29)"
      ]
     },
     "execution_count": 51,
     "metadata": {},
     "output_type": "execute_result"
    }
   ],
   "source": [
    "dataset_year_week.shape"
   ]
  },
  {
   "cell_type": "code",
   "execution_count": 52,
   "id": "04f06eb7-e173-4552-a67a-5916008b2aa7",
   "metadata": {},
   "outputs": [],
   "source": [
    "dataset_year_week.to_csv('./year_week.csv', index=False)"
   ]
  },
  {
   "cell_type": "markdown",
   "id": "bf3cf859-19c9-47e8-ac88-9ea49205095f",
   "metadata": {},
   "source": [
    "### group by day (day_month)"
   ]
  },
  {
   "cell_type": "markdown",
   "id": "aa03b34f-7589-4d47-94ec-156e1130b535",
   "metadata": {},
   "source": [
    "Cette logique regroupe les données par bâtiment et par jour/mois (sans tenir compte de l'année) afin de calculer la moyenne et la médiane pour chaque groupe. Cela permet de lisser les variations journalières sur plusieurs années et de réduire le nombre total de lignes tout en conservant une vue représentative des tendances."
   ]
  },
  {
   "cell_type": "code",
   "execution_count": 53,
   "id": "97f6f364-deb9-47fe-a9f2-db865ac401d3",
   "metadata": {},
   "outputs": [
    {
     "data": {
      "text/plain": [
       "(6586, 33)"
      ]
     },
     "execution_count": 53,
     "metadata": {},
     "output_type": "execute_result"
    }
   ],
   "source": [
    "dataset_day_month = full_dataset_cleaned_columns.copy()\n",
    "\n",
    "dataset_day_month[\"day_month\"] = dataset_day_month[\"date\"].dt.strftime(\"%d-%m\")\n",
    "\n",
    "# Calculer la moyenne et la médiane\n",
    "mean_values = dataset_day_month.groupby([\"building_id\", \"day_month\"]).mean().reset_index()\n",
    "median_values = dataset_day_month.groupby([\"building_id\", \"day_month\"]).median().reset_index()\n",
    "\n",
    "# Ajouter une colonne 'stat_type' pour identifier les types de stats\n",
    "mean_values[\"stat_type\"] = \"mean\"\n",
    "median_values[\"stat_type\"] = \"median\"\n",
    "\n",
    "# Concaténer les deux DataFrames pour avoir les statistiques sous forme de lignes\n",
    "dataset_day_month = pd.concat([mean_values, median_values])\n",
    "\n",
    "# Trier les valeurs pour garder un bon ordre d'affichage\n",
    "dataset_day_month = dataset_day_month.sort_values(by=[\"building_id\", \"day_month\", \"stat_type\"])\n",
    "dataset_day_month.shape"
   ]
  },
  {
   "cell_type": "code",
   "execution_count": 54,
   "id": "26c68f34-2159-460e-a406-907f1fba63c3",
   "metadata": {},
   "outputs": [],
   "source": [
    "dataset_day_month = dataset_day_month.drop(columns = ['building_id', 'day_month', 'date', 'stat_type'])"
   ]
  },
  {
   "cell_type": "code",
   "execution_count": 55,
   "id": "f67be37a-c962-49ea-aded-c52dacebb960",
   "metadata": {},
   "outputs": [
    {
     "data": {
      "text/plain": [
       "(6586, 29)"
      ]
     },
     "execution_count": 55,
     "metadata": {},
     "output_type": "execute_result"
    }
   ],
   "source": [
    "dataset_day_month.shape"
   ]
  },
  {
   "cell_type": "code",
   "execution_count": 56,
   "id": "718a8ef0-0ef5-4c1b-a0bb-fa462f27a2f7",
   "metadata": {},
   "outputs": [],
   "source": [
    "dataset_day_month.to_csv('./day_month.csv', index=False)"
   ]
  },
  {
   "cell_type": "markdown",
   "id": "b2cea52a",
   "metadata": {},
   "source": [
    "# Création des fichiers CSV par bâtiment\n",
    "\n",
    "Ce code sépare les données nettoyées en fichiers CSV distincts pour chaque bâtiment."
   ]
  },
  {
   "cell_type": "code",
   "execution_count": 57,
   "id": "892cfb10",
   "metadata": {},
   "outputs": [],
   "source": [
    "import os\n",
    "os.makedirs(\"A - CSV par bâtiment\", exist_ok=True)\n",
    "\n",
    "# Séparer les données nettoyées par bâtiment\n",
    "for building_id in range(1, 10):\n",
    "    group = full_dataset_cleaned_columns[full_dataset_cleaned_columns[\"building_id\"] == building_id]\n",
    "    group = group.drop(columns = ['date', 'building_id'], axis=1)\n",
    "    group.to_csv(f\"A - CSV par bâtiment/batiment_{building_id}.csv\", index=False)\n",
    "\n"
   ]
  },
  {
   "cell_type": "markdown",
   "id": "92a228c0",
   "metadata": {},
   "source": [
    "# Création des fichiers CSV de statistiques hebdomadaires par bâtiment\n",
    "\n",
    "Ce code calcule la moyenne et la médiane des données pour chaque semaine de l'année, puis sépare ces statistiques par bâtiment dans des fichiers CSV distincts."
   ]
  },
  {
   "cell_type": "code",
   "execution_count": 58,
   "id": "cd891d51",
   "metadata": {},
   "outputs": [
    {
     "name": "stdout",
     "output_type": "stream",
     "text": [
      "Les fichiers CSV de statistiques hebdomadaires par bâtiment ont été créés avec succès!\n"
     ]
    }
   ],
   "source": [
    "import os\n",
    "os.makedirs(\"B - CSV Statistiques Hebdomadaires par Bâtiment\", exist_ok=True)\n",
    "\n",
    "# Créer une copie du DataFrame avant la suppression des colonnes\n",
    "dataset_year_week_with_id = full_dataset_cleaned_columns.copy()\n",
    "\n",
    "dataset_year_week_with_id[\"year_week\"] = dataset_year_week_with_id[\"date\"].dt.strftime(\"%Y-%U\")\n",
    "\n",
    "# Calculer la moyenne et la médiane\n",
    "mean_values = dataset_year_week_with_id.groupby([\"building_id\", \"year_week\"]).mean().reset_index()\n",
    "median_values = dataset_year_week_with_id.groupby([\"building_id\", \"year_week\"]).median().reset_index()\n",
    "\n",
    "# Ajouter une colonne 'stat_type' pour identifier les types de stats\n",
    "mean_values[\"stat_type\"] = \"mean\"\n",
    "median_values[\"stat_type\"] = \"median\"\n",
    "\n",
    "# Concaténer les deux DataFrames pour avoir les statistiques sous forme de lignes\n",
    "dataset_year_week_with_id = pd.concat([mean_values, median_values])\n",
    "\n",
    "# Pour chaque bâtiment\n",
    "for building_id in range(1, 10):\n",
    "    # Filtrer les données pour le bâtiment actuel\n",
    "    building_data = dataset_year_week_with_id[dataset_year_week_with_id[\"building_id\"] == building_id].copy()\n",
    "    \n",
    "    # Supprimer les colonnes date et building_id\n",
    "    building_data = building_data.drop(columns=['date', 'building_id', 'year_week'])\n",
    "    \n",
    "    # Sauvegarder dans un fichier CSV\n",
    "    building_data.to_csv(f\"B - CSV Statistiques Hebdomadaires par Bâtiment/batiment_{building_id}_year_week.csv\", index=False)\n",
    "\n",
    "print(\"Les fichiers CSV de statistiques hebdomadaires par bâtiment ont été créés avec succès!\")"
   ]
  },
  {
   "cell_type": "code",
   "execution_count": null,
   "id": "488eb074",
   "metadata": {},
   "outputs": [],
   "source": []
  }
 ],
 "metadata": {
  "kernelspec": {
   "display_name": "venv",
   "language": "python",
   "name": "python3"
  },
  "language_info": {
   "codemirror_mode": {
    "name": "ipython",
    "version": 3
   },
   "file_extension": ".py",
   "mimetype": "text/x-python",
   "name": "python",
   "nbconvert_exporter": "python",
   "pygments_lexer": "ipython3",
   "version": "3.11.9"
  }
 },
 "nbformat": 4,
 "nbformat_minor": 5
}
