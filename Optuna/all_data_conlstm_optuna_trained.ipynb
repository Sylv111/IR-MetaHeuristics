{
 "cells": [
  {
   "cell_type": "markdown",
   "id": "f9b6ac3c-b5e9-40e4-ae0e-0676d5a3cf85",
   "metadata": {},
   "source": [
    "## Loading the dataset"
   ]
  },
  {
   "cell_type": "code",
   "execution_count": 1,
   "id": "4c19492b-0921-44f0-ba50-faa3b7ce5bb0",
   "metadata": {},
   "outputs": [
    {
     "data": {
      "text/html": [
       "<div>\n",
       "<style scoped>\n",
       "    .dataframe tbody tr th:only-of-type {\n",
       "        vertical-align: middle;\n",
       "    }\n",
       "\n",
       "    .dataframe tbody tr th {\n",
       "        vertical-align: top;\n",
       "    }\n",
       "\n",
       "    .dataframe thead th {\n",
       "        text-align: right;\n",
       "    }\n",
       "</style>\n",
       "<table border=\"1\" class=\"dataframe\">\n",
       "  <thead>\n",
       "    <tr style=\"text-align: right;\">\n",
       "      <th></th>\n",
       "      <th>production</th>\n",
       "      <th>p_per_m2</th>\n",
       "      <th>p_max</th>\n",
       "      <th>panel_area</th>\n",
       "      <th>facade_area</th>\n",
       "      <th>total_panel_area</th>\n",
       "      <th>exploitation_ratio</th>\n",
       "      <th>air_temp_mean</th>\n",
       "      <th>air_temp_max</th>\n",
       "      <th>clearsky_ghi_mean</th>\n",
       "      <th>...</th>\n",
       "      <th>surface_pressure_mean</th>\n",
       "      <th>surface_pressure_min</th>\n",
       "      <th>surface_pressure_max</th>\n",
       "      <th>wind_direction_100m_mean</th>\n",
       "      <th>wind_direction_100m_min</th>\n",
       "      <th>wind_direction_100m_max</th>\n",
       "      <th>wind_speed_100m_mean</th>\n",
       "      <th>wind_speed_100m_min</th>\n",
       "      <th>wind_speed_100m_max</th>\n",
       "      <th>building_id</th>\n",
       "    </tr>\n",
       "  </thead>\n",
       "  <tbody>\n",
       "    <tr>\n",
       "      <th>0</th>\n",
       "      <td>0.8</td>\n",
       "      <td>143.0</td>\n",
       "      <td>210</td>\n",
       "      <td>1.72</td>\n",
       "      <td>218.0</td>\n",
       "      <td>94.6</td>\n",
       "      <td>0.434</td>\n",
       "      <td>6.255319</td>\n",
       "      <td>7</td>\n",
       "      <td>61.340426</td>\n",
       "      <td>...</td>\n",
       "      <td>1031.902128</td>\n",
       "      <td>1030.8</td>\n",
       "      <td>1034.5</td>\n",
       "      <td>256.340426</td>\n",
       "      <td>227</td>\n",
       "      <td>312</td>\n",
       "      <td>5.036170</td>\n",
       "      <td>2.2</td>\n",
       "      <td>7.4</td>\n",
       "      <td>1</td>\n",
       "    </tr>\n",
       "    <tr>\n",
       "      <th>1</th>\n",
       "      <td>16.9</td>\n",
       "      <td>143.0</td>\n",
       "      <td>210</td>\n",
       "      <td>1.72</td>\n",
       "      <td>218.0</td>\n",
       "      <td>94.6</td>\n",
       "      <td>0.434</td>\n",
       "      <td>3.375000</td>\n",
       "      <td>5</td>\n",
       "      <td>59.520833</td>\n",
       "      <td>...</td>\n",
       "      <td>1034.843750</td>\n",
       "      <td>1031.6</td>\n",
       "      <td>1038.1</td>\n",
       "      <td>317.437500</td>\n",
       "      <td>294</td>\n",
       "      <td>339</td>\n",
       "      <td>6.245833</td>\n",
       "      <td>2.0</td>\n",
       "      <td>7.6</td>\n",
       "      <td>1</td>\n",
       "    </tr>\n",
       "    <tr>\n",
       "      <th>2</th>\n",
       "      <td>1.4</td>\n",
       "      <td>143.0</td>\n",
       "      <td>210</td>\n",
       "      <td>1.72</td>\n",
       "      <td>218.0</td>\n",
       "      <td>94.6</td>\n",
       "      <td>0.434</td>\n",
       "      <td>-0.666667</td>\n",
       "      <td>2</td>\n",
       "      <td>59.916667</td>\n",
       "      <td>...</td>\n",
       "      <td>1038.256250</td>\n",
       "      <td>1037.5</td>\n",
       "      <td>1039.3</td>\n",
       "      <td>290.979167</td>\n",
       "      <td>211</td>\n",
       "      <td>345</td>\n",
       "      <td>2.154167</td>\n",
       "      <td>1.1</td>\n",
       "      <td>3.5</td>\n",
       "      <td>1</td>\n",
       "    </tr>\n",
       "    <tr>\n",
       "      <th>3</th>\n",
       "      <td>6.6</td>\n",
       "      <td>143.0</td>\n",
       "      <td>210</td>\n",
       "      <td>1.72</td>\n",
       "      <td>218.0</td>\n",
       "      <td>94.6</td>\n",
       "      <td>0.434</td>\n",
       "      <td>1.083333</td>\n",
       "      <td>3</td>\n",
       "      <td>63.166667</td>\n",
       "      <td>...</td>\n",
       "      <td>1037.075000</td>\n",
       "      <td>1035.6</td>\n",
       "      <td>1038.6</td>\n",
       "      <td>227.041667</td>\n",
       "      <td>2</td>\n",
       "      <td>359</td>\n",
       "      <td>2.637500</td>\n",
       "      <td>0.6</td>\n",
       "      <td>4.6</td>\n",
       "      <td>1</td>\n",
       "    </tr>\n",
       "    <tr>\n",
       "      <th>4</th>\n",
       "      <td>0.3</td>\n",
       "      <td>143.0</td>\n",
       "      <td>210</td>\n",
       "      <td>1.72</td>\n",
       "      <td>218.0</td>\n",
       "      <td>94.6</td>\n",
       "      <td>0.434</td>\n",
       "      <td>2.479167</td>\n",
       "      <td>4</td>\n",
       "      <td>60.812500</td>\n",
       "      <td>...</td>\n",
       "      <td>1032.722917</td>\n",
       "      <td>1031.7</td>\n",
       "      <td>1035.6</td>\n",
       "      <td>259.770833</td>\n",
       "      <td>236</td>\n",
       "      <td>287</td>\n",
       "      <td>5.212500</td>\n",
       "      <td>3.7</td>\n",
       "      <td>6.2</td>\n",
       "      <td>1</td>\n",
       "    </tr>\n",
       "  </tbody>\n",
       "</table>\n",
       "<p>5 rows × 35 columns</p>\n",
       "</div>"
      ],
      "text/plain": [
       "   production  p_per_m2  p_max  panel_area  facade_area  total_panel_area  \\\n",
       "0         0.8     143.0    210        1.72        218.0              94.6   \n",
       "1        16.9     143.0    210        1.72        218.0              94.6   \n",
       "2         1.4     143.0    210        1.72        218.0              94.6   \n",
       "3         6.6     143.0    210        1.72        218.0              94.6   \n",
       "4         0.3     143.0    210        1.72        218.0              94.6   \n",
       "\n",
       "   exploitation_ratio  air_temp_mean  air_temp_max  clearsky_ghi_mean  ...  \\\n",
       "0               0.434       6.255319             7          61.340426  ...   \n",
       "1               0.434       3.375000             5          59.520833  ...   \n",
       "2               0.434      -0.666667             2          59.916667  ...   \n",
       "3               0.434       1.083333             3          63.166667  ...   \n",
       "4               0.434       2.479167             4          60.812500  ...   \n",
       "\n",
       "   surface_pressure_mean  surface_pressure_min  surface_pressure_max  \\\n",
       "0            1031.902128                1030.8                1034.5   \n",
       "1            1034.843750                1031.6                1038.1   \n",
       "2            1038.256250                1037.5                1039.3   \n",
       "3            1037.075000                1035.6                1038.6   \n",
       "4            1032.722917                1031.7                1035.6   \n",
       "\n",
       "   wind_direction_100m_mean  wind_direction_100m_min  wind_direction_100m_max  \\\n",
       "0                256.340426                      227                      312   \n",
       "1                317.437500                      294                      339   \n",
       "2                290.979167                      211                      345   \n",
       "3                227.041667                        2                      359   \n",
       "4                259.770833                      236                      287   \n",
       "\n",
       "   wind_speed_100m_mean  wind_speed_100m_min  wind_speed_100m_max  building_id  \n",
       "0              5.036170                  2.2                  7.4            1  \n",
       "1              6.245833                  2.0                  7.6            1  \n",
       "2              2.154167                  1.1                  3.5            1  \n",
       "3              2.637500                  0.6                  4.6            1  \n",
       "4              5.212500                  3.7                  6.2            1  \n",
       "\n",
       "[5 rows x 35 columns]"
      ]
     },
     "execution_count": 1,
     "metadata": {},
     "output_type": "execute_result"
    }
   ],
   "source": [
    "import pandas as pd\n",
    "df = pd.read_csv(\"../scaled_dataset.csv\")\n",
    "df.head()"
   ]
  },
  {
   "cell_type": "markdown",
   "id": "4884091d-d900-4304-bd85-494bca99d696",
   "metadata": {},
   "source": [
    "## Preoaring the (x,y) pairs"
   ]
  },
  {
   "cell_type": "markdown",
   "id": "c92e315f-50db-4459-9b4e-48b207193796",
   "metadata": {},
   "source": [
    "### Scaling the data"
   ]
  },
  {
   "cell_type": "code",
   "execution_count": 2,
   "id": "5614cf96-d036-4107-8fec-1fb22af9a4fd",
   "metadata": {},
   "outputs": [],
   "source": [
    "from sklearn.preprocessing import MinMaxScaler\n",
    "\n",
    "\n",
    "scaler = MinMaxScaler(feature_range=(0, 1))\n",
    "data_scaled = scaler.fit_transform(df.values)"
   ]
  },
  {
   "cell_type": "markdown",
   "id": "3d1e5543-f09d-41a0-bbab-974a3d0dd1a2",
   "metadata": {},
   "source": [
    "### Creating windows"
   ]
  },
  {
   "cell_type": "code",
   "execution_count": 3,
   "id": "828b7f15-0f3d-400a-a3f2-bd986c2680d8",
   "metadata": {},
   "outputs": [],
   "source": [
    "production_column = 'production'\n",
    "\n",
    "def get_target_column_index(df, target_column):\n",
    "    for i, column in enumerate(df.columns):\n",
    "        if column == target_column:\n",
    "            return i\n",
    "\n",
    "    return -1"
   ]
  },
  {
   "cell_type": "code",
   "execution_count": 4,
   "id": "c822e6f8-d837-453f-b70c-bbf367ac8581",
   "metadata": {},
   "outputs": [],
   "source": [
    "import numpy as np\n",
    "\n",
    "def get_windows(data, window_size=10):\n",
    "    x = []\n",
    "    y = []\n",
    "\n",
    "    for i in range(window_size, len(data)):\n",
    "        x.append(data[i-window_size:i])\n",
    "        y.append(data[i][get_target_column_index(df, production_column)])\n",
    "\n",
    "    return np.array(x), np.array(y)"
   ]
  },
  {
   "cell_type": "code",
   "execution_count": 5,
   "id": "3543cb8c-621f-41cd-9017-f8fc0356ee2f",
   "metadata": {},
   "outputs": [
    {
     "data": {
      "text/plain": [
       "((10847, 24, 35), (10847,))"
      ]
     },
     "execution_count": 5,
     "metadata": {},
     "output_type": "execute_result"
    }
   ],
   "source": [
    "window_size = 2*12  # 2*1h window\n",
    "x, y = get_windows(data_scaled, window_size=window_size)\n",
    "\n",
    "x.shape, y.shape"
   ]
  },
  {
   "cell_type": "markdown",
   "id": "799e0794-8c1e-4b66-8dbd-3e2534af076a",
   "metadata": {},
   "source": [
    "### Splitting the data"
   ]
  },
  {
   "cell_type": "code",
   "execution_count": 6,
   "id": "8ce26028-3567-4237-a04a-b7ed4c0403da",
   "metadata": {},
   "outputs": [
    {
     "data": {
      "text/plain": [
       "((8696, 24, 35), (8696,), (1087, 24, 35), (1087,), (1064, 24, 35), (1064,))"
      ]
     },
     "execution_count": 6,
     "metadata": {},
     "output_type": "execute_result"
    }
   ],
   "source": [
    "train_split_index = int(0.8 * len(df))\n",
    "test_split_index = int(0.9 * len(df))\n",
    "\n",
    "x_train, y_train = x[:train_split_index], y[:train_split_index]\n",
    "x_test, y_test = x[train_split_index:test_split_index], y[train_split_index:test_split_index]\n",
    "x_val, y_val = x[test_split_index:], y[test_split_index:]\n",
    "\n",
    "x_train.shape, y_train.shape, x_test.shape, y_test.shape, x_val.shape, y_val.shape"
   ]
  },
  {
   "cell_type": "markdown",
   "id": "68e0261d-acc0-49c8-bacc-3e95052c3ddd",
   "metadata": {},
   "source": [
    "### Plotting the splits"
   ]
  },
  {
   "cell_type": "code",
   "execution_count": 7,
   "id": "2cc98741-cdf2-42dc-9758-28cbeaa75ccc",
   "metadata": {},
   "outputs": [],
   "source": [
    "import matplotlib.pyplot as plt\n",
    "\n",
    "\n",
    "def plot_time_series(timesteps, values, label, format='-^', start=0, end=None):\n",
    "    plt.plot(timesteps[start:end], values[start:end], format, label=label)\n",
    "    plt.xlabel(\"date\")\n",
    "    plt.ylabel(\"production\")\n",
    "\n",
    "    plt.legend(fontsize=14)\n",
    "    plt.grid(True)"
   ]
  },
  {
   "cell_type": "code",
   "execution_count": 8,
   "id": "1e4d350a-513b-4dec-abee-ca02a0c63714",
   "metadata": {},
   "outputs": [
    {
     "data": {
      "image/png": "[encoded data removed]",
      "text/plain": [
       "<Figure size 2000x1600 with 1 Axes>"
      ]
     },
     "metadata": {},
     "output_type": "display_data"
    }
   ],
   "source": [
    "plt.figure(figsize=(20, 16))\n",
    "\n",
    "timesteps = range(len(x_train))\n",
    "plot_time_series(timesteps=timesteps, values=y_train, label=\"Train data\")\n",
    "\n",
    "timesteps = range(len(x_train), len(x_train) + len(x_test))\n",
    "plot_time_series(timesteps=timesteps, values=y_test, label=\"Test data\")\n",
    "\n",
    "timesteps = range(len(x_train) + len(x_test),\n",
    "                  len(x_train) + len(x_test) + len(x_val))\n",
    "plot_time_series(timesteps=timesteps, values=y_val, label=\"Validation data\")"
   ]
  },
  {
   "cell_type": "markdown",
   "id": "2a30768c-58a9-40a3-83a8-39ec459bfef3",
   "metadata": {},
   "source": [
    "### Preparing the performances metrics"
   ]
  },
  {
   "cell_type": "code",
   "execution_count": 9,
   "id": "c31ce7bc-9beb-48cb-9d47-c8d0ec729933",
   "metadata": {},
   "outputs": [],
   "source": [
    "import tensorflow as tf\n",
    "from sklearn.metrics import r2_score"
   ]
  },
  {
   "cell_type": "code",
   "execution_count": 10,
   "id": "26a1487c-f303-4fe6-a294-f1bc1590bdcb",
   "metadata": {},
   "outputs": [],
   "source": [
    "def evaluate_model(y_true, y_pred):\n",
    "    mse = mean_squared_error(y_true, y_pred)\n",
    "    r2 = r2_score(y_true, y_pred)\n",
    "    mae = mean_absolute_error(y_true, y_pred)\n",
    "    mape = mean_absolute_percentage_error(y_true, y_pred)\n",
    "\n",
    "    return {\n",
    "        'mse': mse,\n",
    "        'r2': r2,\n",
    "        'mae': mae,\n",
    "        'mape': mape,\n",
    "    }"
   ]
  },
  {
   "cell_type": "code",
   "execution_count": 11,
   "id": "25d39e89-2f6a-4796-acd4-a100851eb388",
   "metadata": {},
   "outputs": [],
   "source": [
    "def evaluate_preds(y_true, y_pred):\n",
    "    y_true = tf.cast(y_true, dtype=tf.float32)\n",
    "    y_pred = tf.cast(y_pred, dtype=tf.float32)\n",
    "\n",
    "    mae_metric = tf.keras.metrics.MeanAbsoluteError()\n",
    "    mse_metric = tf.keras.metrics.MeanSquaredError()\n",
    "\n",
    "    mae_metric.update_state(y_true, y_pred)\n",
    "    mse_metric.update_state(y_true, y_pred)\n",
    "\n",
    "    mae = mae_metric.result().numpy()\n",
    "    mse = mse_metric.result().numpy()\n",
    "    r2 = r2_score(y_true.numpy(), y_pred.numpy())  # Assure-toi que y_true et y_pred sont des numpy arrays\n",
    "\n",
    "    return {\n",
    "        \"mae\": mae,\n",
    "        \"mse\": mse,\n",
    "        \"r2\": r2\n",
    "    }"
   ]
  },
  {
   "cell_type": "markdown",
   "id": "b091dd23-b359-4f7d-9086-52aa01750244",
   "metadata": {},
   "source": [
    "## Modeling"
   ]
  },
  {
   "cell_type": "code",
   "execution_count": 12,
   "id": "e41d3a7a-fe12-4fb2-8d53-bfd8af90a63c",
   "metadata": {},
   "outputs": [],
   "source": [
    "import os\n",
    "import tensorflow as tf\n",
    "\n",
    "from keras.layers import Dense, Dropout, LSTM, Flatten, ConvLSTM1D, MaxPool1D, GlobalMaxPool1D, Conv1D, Conv2D\n",
    "from keras.callbacks import EarlyStopping\n",
    "\n",
    "import matplotlib.pyplot as plt"
   ]
  },
  {
   "cell_type": "markdown",
   "id": "78e4f3c7-18db-470f-a25c-b522891ca857",
   "metadata": {},
   "source": [
    "### Plotting the loss"
   ]
  },
  {
   "cell_type": "code",
   "execution_count": 13,
   "id": "50aac448-442c-4bb5-8733-8a616947c50e",
   "metadata": {},
   "outputs": [],
   "source": [
    "def plot_loss(history):\n",
    "    plt.figure(figsize=(20, 8))\n",
    "\n",
    "    loss = history.history['loss']\n",
    "    val_loss = history.history['val_loss']\n",
    "    epochs = range(len(loss))\n",
    "\n",
    "    plt.plot(epochs, loss, 'b', label='Training loss')\n",
    "    plt.plot(epochs, val_loss, 'r', label='Validation loss')\n",
    "    plt.title('Training and validation loss')\n",
    "    plt.legend()\n",
    "\n",
    "    plt.show()"
   ]
  },
  {
   "cell_type": "markdown",
   "id": "88b8618c-48b8-49a0-8941-9b2508db007b",
   "metadata": {},
   "source": [
    "### Creating callbacks"
   ]
  },
  {
   "cell_type": "code",
   "execution_count": 14,
   "id": "965adcad-34ba-4eef-9b7a-77613811b525",
   "metadata": {},
   "outputs": [],
   "source": [
    "stop_early = EarlyStopping(monitor='val_loss', patience=5)\n",
    "\n",
    "\n",
    "def create_model_checkpoint(model_name, save_path=\"model_experiments\"):\n",
    "    return tf.keras.callbacks.ModelCheckpoint(filepath=os.path.join(save_path, model_name),\n",
    "                                              verbose=0,\n",
    "                                              save_best_only=True)"
   ]
  },
  {
   "cell_type": "markdown",
   "id": "6ce8ff1f-d21a-445c-ad0f-dff20fec0615",
   "metadata": {},
   "source": [
    "### Utils function"
   ]
  },
  {
   "cell_type": "code",
   "execution_count": 15,
   "id": "c93c80a3-ef8f-45a8-8603-bf7abccbe7cf",
   "metadata": {},
   "outputs": [],
   "source": [
    "def make_preds(model, input_data):\n",
    "    forecast = model.predict(input_data)\n",
    "    return tf.squeeze(forecast)"
   ]
  },
  {
   "cell_type": "markdown",
   "id": "2142904e-dfaf-400b-b058-05e5c549d9dc",
   "metadata": {},
   "source": [
    "## ConvLSTM"
   ]
  },
  {
   "cell_type": "markdown",
   "id": "8d34f641-b55f-42d9-b006-a326bf50c11b",
   "metadata": {},
   "source": [
    "#### Preparing the model"
   ]
  },
  {
   "cell_type": "code",
   "execution_count": 16,
   "id": "f9d05070-5f3a-44da-a96c-8ca6bdf4eb4a",
   "metadata": {},
   "outputs": [
    {
     "name": "stdout",
     "output_type": "stream",
     "text": [
      "(8696, 24, 35) -> (8696, 24, 1, 35)\n"
     ]
    }
   ],
   "source": [
    "x_train_conv_lstm = np.expand_dims(x_train, axis=2)\n",
    "x_val_conv_lstm = np.expand_dims(x_val, axis=2)\n",
    "x_test_conv_lstm = np.expand_dims(x_test, axis=2)\n",
    "\n",
    "print(f\"{x_train.shape} -> {x_train_conv_lstm.shape}\")"
   ]
  },
  {
   "cell_type": "code",
   "execution_count": 17,
   "id": "5d8d69b6-2f03-436a-90e5-4ff906e178de",
   "metadata": {},
   "outputs": [
    {
     "name": "stderr",
     "output_type": "stream",
     "text": [
      "C:\\Users\\yhoci\\blocml\\Lib\\site-packages\\keras\\src\\layers\\rnn\\rnn.py:200: UserWarning: Do not pass an `input_shape`/`input_dim` argument to a layer. When using Sequential models, prefer using an `Input(shape)` object as the first layer in the model instead.\n",
      "  super().__init__(**kwargs)\n"
     ]
    },
    {
     "data": {
      "text/html": [
       "<pre style=\"white-space:pre;overflow-x:auto;line-height:normal;font-family:Menlo,'DejaVu Sans Mono',consolas,'Courier New',monospace\"><span style=\"font-weight: bold\">Model: \"model_conv_lstm.keras\"</span>\n",
       "</pre>\n"
      ],
      "text/plain": [
       "\u001b[1mModel: \"model_conv_lstm.keras\"\u001b[0m\n"
      ]
     },
     "metadata": {},
     "output_type": "display_data"
    },
    {
     "data": {
      "text/html": [
       "<pre style=\"white-space:pre;overflow-x:auto;line-height:normal;font-family:Menlo,'DejaVu Sans Mono',consolas,'Courier New',monospace\">┏━━━━━━━━━━━━━━━━━━━━━━━━━━━━━━━━━━━━━━┳━━━━━━━━━━━━━━━━━━━━━━━━━━━━━┳━━━━━━━━━━━━━━━━━┓\n",
       "┃<span style=\"font-weight: bold\"> Layer (type)                         </span>┃<span style=\"font-weight: bold\"> Output Shape                </span>┃<span style=\"font-weight: bold\">         Param # </span>┃\n",
       "┡━━━━━━━━━━━━━━━━━━━━━━━━━━━━━━━━━━━━━━╇━━━━━━━━━━━━━━━━━━━━━━━━━━━━━╇━━━━━━━━━━━━━━━━━┩\n",
       "│ conv_lstm1d (<span style=\"color: #0087ff; text-decoration-color: #0087ff\">ConvLSTM1D</span>)             │ (<span style=\"color: #00d7ff; text-decoration-color: #00d7ff\">None</span>, <span style=\"color: #00af00; text-decoration-color: #00af00\">24</span>, <span style=\"color: #00af00; text-decoration-color: #00af00\">1</span>, <span style=\"color: #00af00; text-decoration-color: #00af00\">128</span>)          │          <span style=\"color: #00af00; text-decoration-color: #00af00\">83,968</span> │\n",
       "├──────────────────────────────────────┼─────────────────────────────┼─────────────────┤\n",
       "│ conv_lstm1d_1 (<span style=\"color: #0087ff; text-decoration-color: #0087ff\">ConvLSTM1D</span>)           │ (<span style=\"color: #00d7ff; text-decoration-color: #00d7ff\">None</span>, <span style=\"color: #00af00; text-decoration-color: #00af00\">1</span>, <span style=\"color: #00af00; text-decoration-color: #00af00\">64</span>)               │          <span style=\"color: #00af00; text-decoration-color: #00af00\">49,408</span> │\n",
       "├──────────────────────────────────────┼─────────────────────────────┼─────────────────┤\n",
       "│ flatten (<span style=\"color: #0087ff; text-decoration-color: #0087ff\">Flatten</span>)                    │ (<span style=\"color: #00d7ff; text-decoration-color: #00d7ff\">None</span>, <span style=\"color: #00af00; text-decoration-color: #00af00\">64</span>)                  │               <span style=\"color: #00af00; text-decoration-color: #00af00\">0</span> │\n",
       "├──────────────────────────────────────┼─────────────────────────────┼─────────────────┤\n",
       "│ dense (<span style=\"color: #0087ff; text-decoration-color: #0087ff\">Dense</span>)                        │ (<span style=\"color: #00d7ff; text-decoration-color: #00d7ff\">None</span>, <span style=\"color: #00af00; text-decoration-color: #00af00\">64</span>)                  │           <span style=\"color: #00af00; text-decoration-color: #00af00\">4,160</span> │\n",
       "├──────────────────────────────────────┼─────────────────────────────┼─────────────────┤\n",
       "│ dense_1 (<span style=\"color: #0087ff; text-decoration-color: #0087ff\">Dense</span>)                      │ (<span style=\"color: #00d7ff; text-decoration-color: #00d7ff\">None</span>, <span style=\"color: #00af00; text-decoration-color: #00af00\">1</span>)                   │              <span style=\"color: #00af00; text-decoration-color: #00af00\">65</span> │\n",
       "└──────────────────────────────────────┴─────────────────────────────┴─────────────────┘\n",
       "</pre>\n"
      ],
      "text/plain": [
       "┏━━━━━━━━━━━━━━━━━━━━━━━━━━━━━━━━━━━━━━┳━━━━━━━━━━━━━━━━━━━━━━━━━━━━━┳━━━━━━━━━━━━━━━━━┓\n",
       "┃\u001b[1m \u001b[0m\u001b[1mLayer (type)                        \u001b[0m\u001b[1m \u001b[0m┃\u001b[1m \u001b[0m\u001b[1mOutput Shape               \u001b[0m\u001b[1m \u001b[0m┃\u001b[1m \u001b[0m\u001b[1m        Param #\u001b[0m\u001b[1m \u001b[0m┃\n",
       "┡━━━━━━━━━━━━━━━━━━━━━━━━━━━━━━━━━━━━━━╇━━━━━━━━━━━━━━━━━━━━━━━━━━━━━╇━━━━━━━━━━━━━━━━━┩\n",
       "│ conv_lstm1d (\u001b[38;5;33mConvLSTM1D\u001b[0m)             │ (\u001b[38;5;45mNone\u001b[0m, \u001b[38;5;34m24\u001b[0m, \u001b[38;5;34m1\u001b[0m, \u001b[38;5;34m128\u001b[0m)          │          \u001b[38;5;34m83,968\u001b[0m │\n",
       "├──────────────────────────────────────┼─────────────────────────────┼─────────────────┤\n",
       "│ conv_lstm1d_1 (\u001b[38;5;33mConvLSTM1D\u001b[0m)           │ (\u001b[38;5;45mNone\u001b[0m, \u001b[38;5;34m1\u001b[0m, \u001b[38;5;34m64\u001b[0m)               │          \u001b[38;5;34m49,408\u001b[0m │\n",
       "├──────────────────────────────────────┼─────────────────────────────┼─────────────────┤\n",
       "│ flatten (\u001b[38;5;33mFlatten\u001b[0m)                    │ (\u001b[38;5;45mNone\u001b[0m, \u001b[38;5;34m64\u001b[0m)                  │               \u001b[38;5;34m0\u001b[0m │\n",
       "├──────────────────────────────────────┼─────────────────────────────┼─────────────────┤\n",
       "│ dense (\u001b[38;5;33mDense\u001b[0m)                        │ (\u001b[38;5;45mNone\u001b[0m, \u001b[38;5;34m64\u001b[0m)                  │           \u001b[38;5;34m4,160\u001b[0m │\n",
       "├──────────────────────────────────────┼─────────────────────────────┼─────────────────┤\n",
       "│ dense_1 (\u001b[38;5;33mDense\u001b[0m)                      │ (\u001b[38;5;45mNone\u001b[0m, \u001b[38;5;34m1\u001b[0m)                   │              \u001b[38;5;34m65\u001b[0m │\n",
       "└──────────────────────────────────────┴─────────────────────────────┴─────────────────┘\n"
      ]
     },
     "metadata": {},
     "output_type": "display_data"
    },
    {
     "data": {
      "text/html": [
       "<pre style=\"white-space:pre;overflow-x:auto;line-height:normal;font-family:Menlo,'DejaVu Sans Mono',consolas,'Courier New',monospace\"><span style=\"font-weight: bold\"> Total params: </span><span style=\"color: #00af00; text-decoration-color: #00af00\">137,601</span> (537.50 KB)\n",
       "</pre>\n"
      ],
      "text/plain": [
       "\u001b[1m Total params: \u001b[0m\u001b[38;5;34m137,601\u001b[0m (537.50 KB)\n"
      ]
     },
     "metadata": {},
     "output_type": "display_data"
    },
    {
     "data": {
      "text/html": [
       "<pre style=\"white-space:pre;overflow-x:auto;line-height:normal;font-family:Menlo,'DejaVu Sans Mono',consolas,'Courier New',monospace\"><span style=\"font-weight: bold\"> Trainable params: </span><span style=\"color: #00af00; text-decoration-color: #00af00\">137,601</span> (537.50 KB)\n",
       "</pre>\n"
      ],
      "text/plain": [
       "\u001b[1m Trainable params: \u001b[0m\u001b[38;5;34m137,601\u001b[0m (537.50 KB)\n"
      ]
     },
     "metadata": {},
     "output_type": "display_data"
    },
    {
     "data": {
      "text/html": [
       "<pre style=\"white-space:pre;overflow-x:auto;line-height:normal;font-family:Menlo,'DejaVu Sans Mono',consolas,'Courier New',monospace\"><span style=\"font-weight: bold\"> Non-trainable params: </span><span style=\"color: #00af00; text-decoration-color: #00af00\">0</span> (0.00 B)\n",
       "</pre>\n"
      ],
      "text/plain": [
       "\u001b[1m Non-trainable params: \u001b[0m\u001b[38;5;34m0\u001b[0m (0.00 B)\n"
      ]
     },
     "metadata": {},
     "output_type": "display_data"
    }
   ],
   "source": [
    "tf.random.set_seed(42)\n",
    "\n",
    "input_shape = (x_train_conv_lstm.shape[1:])\n",
    "conv_lstm_model = tf.keras.Sequential([\n",
    "    ConvLSTM1D(filters=128, kernel_size=(1,), activation='tanh',\n",
    "               return_sequences=True, input_shape=input_shape),\n",
    "    ConvLSTM1D(filters=64, kernel_size=(1,),\n",
    "               activation='tanh', return_sequences=False),\n",
    "    Flatten(),\n",
    "    Dense(units=64, activation='tanh'),\n",
    "    Dense(1, activation=\"linear\")\n",
    "], name=\"model_conv_lstm.keras\")\n",
    "\n",
    "conv_lstm_model.compile(loss=\"mae\",\n",
    "                        optimizer=tf.keras.optimizers.Adam(learning_rate=0.0013265066726892468))\n",
    "\n",
    "conv_lstm_model.summary()"
   ]
  },
  {
   "cell_type": "markdown",
   "id": "2430c2a0-77f9-4450-86a7-ae6678e29b3e",
   "metadata": {},
   "source": [
    "#### Training the model convlstm"
   ]
  },
  {
   "cell_type": "code",
   "execution_count": 18,
   "id": "5ec8e3ee-1f05-4196-a1d8-740dbd826aa7",
   "metadata": {},
   "outputs": [
    {
     "name": "stderr",
     "output_type": "stream",
     "text": [
      "[codecarbon INFO @ 16:56:39] [setup] RAM Tracking...\n",
      "[codecarbon INFO @ 16:56:39] [setup] CPU Tracking...\n",
      "[codecarbon WARNING @ 16:56:39] No CPU tracking mode found. Falling back on CPU constant mode. \n",
      " Windows OS detected: Please install Intel Power Gadget to measure CPU\n",
      "\n",
      "[codecarbon WARNING @ 16:56:41] We saw that you have a AMD Ryzen 7 7840HS w/ Radeon 780M Graphics but we don't know it. Please contact us.\n",
      "[codecarbon INFO @ 16:56:41] CPU Model on constant consumption mode: AMD Ryzen 7 7840HS w/ Radeon 780M Graphics\n",
      "[codecarbon INFO @ 16:56:41] [setup] GPU Tracking...\n",
      "[codecarbon INFO @ 16:56:41] Tracking Nvidia GPU via pynvml\n",
      "[codecarbon INFO @ 16:56:41] >>> Tracker's metadata:\n",
      "[codecarbon INFO @ 16:56:41]   Platform system: Windows-11-10.0.26100-SP0\n",
      "[codecarbon INFO @ 16:56:41]   Python version: 3.12.3\n",
      "[codecarbon INFO @ 16:56:41]   CodeCarbon version: 2.8.3\n",
      "[codecarbon INFO @ 16:56:41]   Available RAM : 15.288 GB\n",
      "[codecarbon INFO @ 16:56:41]   CPU count: 16\n",
      "[codecarbon INFO @ 16:56:41]   CPU model: AMD Ryzen 7 7840HS w/ Radeon 780M Graphics\n",
      "[codecarbon INFO @ 16:56:41]   GPU count: 1\n",
      "[codecarbon INFO @ 16:56:41]   GPU model: 1 x NVIDIA GeForce RTX 4060 Laptop GPU\n",
      "[codecarbon INFO @ 16:56:41] Saving emissions data to file C:\\Users\\yhoci\\Desktop\\Projet recherche\\projet_recherche-main (2)\\projet_recherche-main\\emissions\\emissions_conv_lstm.csv\n"
     ]
    }
   ],
   "source": [
    "import os\n",
    "import time\n",
    "import logging\n",
    "from codecarbon import EmissionsTracker\n",
    "\n",
    "\n",
    "os.makedirs('emissions', exist_ok=True)\n",
    "\n",
    "tracker_conv_lstm = EmissionsTracker(\n",
    "    project_name=\"PEWH\",\n",
    "    co2_signal_api_token=\"9RkoBO6iipmoq\",\n",
    "    log_level=logging.INFO,\n",
    "    output_file=\"emissions_conv_lstm.csv\",\n",
    "    output_dir='./emissions/',\n",
    "    save_to_file=True,\n",
    "    measure_power_secs=10\n",
    ")"
   ]
  },
  {
   "cell_type": "code",
   "execution_count": 19,
   "id": "c5fb7a4d-6e6b-4b1e-b76d-c69b9b7b96dd",
   "metadata": {},
   "outputs": [],
   "source": [
    "def start_training_conv_lstm():\n",
    "    start_time = time.time()\n",
    "    conv_lstm_history = conv_lstm_model.fit(x=x_train_conv_lstm,\n",
    "                                            y=y_train,\n",
    "                                            epochs=300,\n",
    "                                            verbose=1,\n",
    "                                            batch_size=512,\n",
    "                                            validation_data=(\n",
    "                                                x_val_conv_lstm, y_val),\n",
    "                                            callbacks=[create_model_checkpoint(model_name=conv_lstm_model.name)])\n",
    "    training_duration = time.time() - start_time\n",
    "\n",
    "    return conv_lstm_history, training_duration"
   ]
  },
  {
   "cell_type": "code",
   "execution_count": 20,
   "id": "9550aec7-e755-4860-afca-c2e31a77e331",
   "metadata": {},
   "outputs": [
    {
     "name": "stdout",
     "output_type": "stream",
     "text": [
      "Epoch 1/300\n",
      "\u001b[1m17/17\u001b[0m \u001b[32m━━━━━━━━━━━━━━━━━━━━\u001b[0m\u001b[37m\u001b[0m \u001b[1m6s\u001b[0m 146ms/step - loss: 0.2792 - val_loss: 0.0618\n",
      "Epoch 2/300\n",
      "\u001b[1m17/17\u001b[0m \u001b[32m━━━━━━━━━━━━━━━━━━━━\u001b[0m\u001b[37m\u001b[0m \u001b[1m2s\u001b[0m 109ms/step - loss: 0.0636 - val_loss: 0.0282\n",
      "Epoch 3/300\n",
      "\u001b[1m17/17\u001b[0m \u001b[32m━━━━━━━━━━━━━━━━━━━━\u001b[0m\u001b[37m\u001b[0m \u001b[1m2s\u001b[0m 108ms/step - loss: 0.0461 - val_loss: 0.0282\n",
      "Epoch 4/300\n"
     ]
    },
    {
     "name": "stderr",
     "output_type": "stream",
     "text": [
      "[codecarbon INFO @ 16:56:51] Energy consumed for RAM : 0.000016 kWh. RAM Power : 5.732982158660889 W\n",
      "[codecarbon INFO @ 16:56:51] Energy consumed for all CPUs : 0.000118 kWh. Total CPU Power : 42.5 W\n",
      "[codecarbon INFO @ 16:56:51] Energy consumed for all GPUs : 0.000012 kWh. Total GPU Power : 4.447358305199286 W\n",
      "[codecarbon INFO @ 16:56:51] 0.000147 kWh of electricity used since the beginning.\n"
     ]
    },
    {
     "name": "stdout",
     "output_type": "stream",
     "text": [
      "\u001b[1m17/17\u001b[0m \u001b[32m━━━━━━━━━━━━━━━━━━━━\u001b[0m\u001b[37m\u001b[0m \u001b[1m2s\u001b[0m 109ms/step - loss: 0.0426 - val_loss: 0.0275\n",
      "Epoch 5/300\n",
      "\u001b[1m17/17\u001b[0m \u001b[32m━━━━━━━━━━━━━━━━━━━━\u001b[0m\u001b[37m\u001b[0m \u001b[1m2s\u001b[0m 103ms/step - loss: 0.0405 - val_loss: 0.0271\n",
      "Epoch 6/300\n",
      "\u001b[1m17/17\u001b[0m \u001b[32m━━━━━━━━━━━━━━━━━━━━\u001b[0m\u001b[37m\u001b[0m \u001b[1m2s\u001b[0m 104ms/step - loss: 0.0396 - val_loss: 0.0271\n",
      "Epoch 7/300\n",
      "\u001b[1m17/17\u001b[0m \u001b[32m━━━━━━━━━━━━━━━━━━━━\u001b[0m\u001b[37m\u001b[0m \u001b[1m2s\u001b[0m 97ms/step - loss: 0.0392 - val_loss: 0.0274\n",
      "Epoch 8/300\n",
      "\u001b[1m17/17\u001b[0m \u001b[32m━━━━━━━━━━━━━━━━━━━━\u001b[0m\u001b[37m\u001b[0m \u001b[1m2s\u001b[0m 99ms/step - loss: 0.0389 - val_loss: 0.0274\n",
      "Epoch 9/300\n",
      "\u001b[1m12/17\u001b[0m \u001b[32m━━━━━━━━━━━━━━\u001b[0m\u001b[37m━━━━━━\u001b[0m \u001b[1m0s\u001b[0m 93ms/step - loss: 0.0390 "
     ]
    },
    {
     "name": "stderr",
     "output_type": "stream",
     "text": [
      "[codecarbon INFO @ 16:57:01] Energy consumed for RAM : 0.000032 kWh. RAM Power : 5.732982158660889 W\n",
      "[codecarbon INFO @ 16:57:01] Energy consumed for all CPUs : 0.000237 kWh. Total CPU Power : 42.5 W\n"
     ]
    },
    {
     "name": "stdout",
     "output_type": "stream",
     "text": [
      "\u001b[1m13/17\u001b[0m \u001b[32m━━━━━━━━━━━━━━━\u001b[0m\u001b[37m━━━━━\u001b[0m \u001b[1m0s\u001b[0m 93ms/step - loss: 0.0390"
     ]
    },
    {
     "name": "stderr",
     "output_type": "stream",
     "text": [
      "[codecarbon INFO @ 16:57:01] Energy consumed for all GPUs : 0.000033 kWh. Total GPU Power : 7.536804155427857 W\n",
      "[codecarbon INFO @ 16:57:01] 0.000302 kWh of electricity used since the beginning.\n"
     ]
    },
    {
     "name": "stdout",
     "output_type": "stream",
     "text": [
      "\u001b[1m17/17\u001b[0m \u001b[32m━━━━━━━━━━━━━━━━━━━━\u001b[0m\u001b[37m\u001b[0m \u001b[1m2s\u001b[0m 104ms/step - loss: 0.0389 - val_loss: 0.0270\n",
      "Epoch 10/300\n",
      "\u001b[1m17/17\u001b[0m \u001b[32m━━━━━━━━━━━━━━━━━━━━\u001b[0m\u001b[37m\u001b[0m \u001b[1m2s\u001b[0m 103ms/step - loss: 0.0386 - val_loss: 0.0259\n",
      "Epoch 11/300\n",
      "\u001b[1m17/17\u001b[0m \u001b[32m━━━━━━━━━━━━━━━━━━━━\u001b[0m\u001b[37m\u001b[0m \u001b[1m2s\u001b[0m 100ms/step - loss: 0.0380 - val_loss: 0.0255\n",
      "Epoch 12/300\n",
      "\u001b[1m17/17\u001b[0m \u001b[32m━━━━━━━━━━━━━━━━━━━━\u001b[0m\u001b[37m\u001b[0m \u001b[1m2s\u001b[0m 100ms/step - loss: 0.0374 - val_loss: 0.0253\n",
      "Epoch 13/300\n",
      "\u001b[1m17/17\u001b[0m \u001b[32m━━━━━━━━━━━━━━━━━━━━\u001b[0m\u001b[37m\u001b[0m \u001b[1m2s\u001b[0m 100ms/step - loss: 0.0372 - val_loss: 0.0247\n",
      "Epoch 14/300\n",
      "\u001b[1m17/17\u001b[0m \u001b[32m━━━━━━━━━━━━━━━━━━━━\u001b[0m\u001b[37m\u001b[0m \u001b[1m2s\u001b[0m 96ms/step - loss: 0.0366 - val_loss: 0.0242\n",
      "Epoch 15/300\n",
      "\u001b[1m 9/17\u001b[0m \u001b[32m━━━━━━━━━━\u001b[0m\u001b[37m━━━━━━━━━━\u001b[0m \u001b[1m0s\u001b[0m 85ms/step - loss: 0.0361 "
     ]
    },
    {
     "name": "stderr",
     "output_type": "stream",
     "text": [
      "[codecarbon INFO @ 16:57:11] Energy consumed for RAM : 0.000048 kWh. RAM Power : 5.732982158660889 W\n",
      "[codecarbon INFO @ 16:57:11] Energy consumed for all CPUs : 0.000355 kWh. Total CPU Power : 42.5 W\n",
      "[codecarbon INFO @ 16:57:11] Energy consumed for all GPUs : 0.000044 kWh. Total GPU Power : 3.9653429065578853 W\n",
      "[codecarbon INFO @ 16:57:11] 0.000447 kWh of electricity used since the beginning.\n"
     ]
    },
    {
     "name": "stdout",
     "output_type": "stream",
     "text": [
      "\u001b[1m17/17\u001b[0m \u001b[32m━━━━━━━━━━━━━━━━━━━━\u001b[0m\u001b[37m\u001b[0m \u001b[1m2s\u001b[0m 95ms/step - loss: 0.0362 - val_loss: 0.0243\n",
      "Epoch 16/300\n",
      "\u001b[1m17/17\u001b[0m \u001b[32m━━━━━━━━━━━━━━━━━━━━\u001b[0m\u001b[37m\u001b[0m \u001b[1m2s\u001b[0m 94ms/step - loss: 0.0362 - val_loss: 0.0244\n",
      "Epoch 17/300\n",
      "\u001b[1m17/17\u001b[0m \u001b[32m━━━━━━━━━━━━━━━━━━━━\u001b[0m\u001b[37m\u001b[0m \u001b[1m2s\u001b[0m 96ms/step - loss: 0.0352 - val_loss: 0.0234\n",
      "Epoch 18/300\n",
      "\u001b[1m17/17\u001b[0m \u001b[32m━━━━━━━━━━━━━━━━━━━━\u001b[0m\u001b[37m\u001b[0m \u001b[1m2s\u001b[0m 93ms/step - loss: 0.0356 - val_loss: 0.0235\n",
      "Epoch 19/300\n",
      "\u001b[1m17/17\u001b[0m \u001b[32m━━━━━━━━━━━━━━━━━━━━\u001b[0m\u001b[37m\u001b[0m \u001b[1m2s\u001b[0m 100ms/step - loss: 0.0346 - val_loss: 0.0232\n",
      "Epoch 20/300\n",
      "\u001b[1m17/17\u001b[0m \u001b[32m━━━━━━━━━━━━━━━━━━━━\u001b[0m\u001b[37m\u001b[0m \u001b[1m2s\u001b[0m 96ms/step - loss: 0.0349 - val_loss: 0.0233\n",
      "Epoch 21/300\n",
      "\u001b[1m10/17\u001b[0m \u001b[32m━━━━━━━━━━━\u001b[0m\u001b[37m━━━━━━━━━\u001b[0m \u001b[1m0s\u001b[0m 86ms/step - loss: 0.0339 "
     ]
    },
    {
     "name": "stderr",
     "output_type": "stream",
     "text": [
      "[codecarbon INFO @ 16:57:21] Energy consumed for RAM : 0.000063 kWh. RAM Power : 5.732982158660889 W\n",
      "[codecarbon INFO @ 16:57:21] Energy consumed for all CPUs : 0.000473 kWh. Total CPU Power : 42.5 W\n"
     ]
    },
    {
     "name": "stdout",
     "output_type": "stream",
     "text": [
      "\u001b[1m11/17\u001b[0m \u001b[32m━━━━━━━━━━━━\u001b[0m\u001b[37m━━━━━━━━\u001b[0m \u001b[1m0s\u001b[0m 86ms/step - loss: 0.0339"
     ]
    },
    {
     "name": "stderr",
     "output_type": "stream",
     "text": [
      "[codecarbon INFO @ 16:57:21] Energy consumed for all GPUs : 0.000057 kWh. Total GPU Power : 4.40385362145336 W\n",
      "[codecarbon INFO @ 16:57:21] 0.000593 kWh of electricity used since the beginning.\n"
     ]
    },
    {
     "name": "stdout",
     "output_type": "stream",
     "text": [
      "\u001b[1m17/17\u001b[0m \u001b[32m━━━━━━━━━━━━━━━━━━━━\u001b[0m\u001b[37m\u001b[0m \u001b[1m2s\u001b[0m 97ms/step - loss: 0.0340 - val_loss: 0.0229\n",
      "Epoch 22/300\n",
      "\u001b[1m17/17\u001b[0m \u001b[32m━━━━━━━━━━━━━━━━━━━━\u001b[0m\u001b[37m\u001b[0m \u001b[1m2s\u001b[0m 96ms/step - loss: 0.0350 - val_loss: 0.0238\n",
      "Epoch 23/300\n",
      "\u001b[1m17/17\u001b[0m \u001b[32m━━━━━━━━━━━━━━━━━━━━\u001b[0m\u001b[37m\u001b[0m \u001b[1m2s\u001b[0m 94ms/step - loss: 0.0334 - val_loss: 0.0230\n",
      "Epoch 24/300\n",
      "\u001b[1m17/17\u001b[0m \u001b[32m━━━━━━━━━━━━━━━━━━━━\u001b[0m\u001b[37m\u001b[0m \u001b[1m2s\u001b[0m 96ms/step - loss: 0.0342 - val_loss: 0.0223\n",
      "Epoch 25/300\n",
      "\u001b[1m17/17\u001b[0m \u001b[32m━━━━━━━━━━━━━━━━━━━━\u001b[0m\u001b[37m\u001b[0m \u001b[1m2s\u001b[0m 96ms/step - loss: 0.0336 - val_loss: 0.0227\n",
      "Epoch 26/300\n",
      "\u001b[1m17/17\u001b[0m \u001b[32m━━━━━━━━━━━━━━━━━━━━\u001b[0m\u001b[37m\u001b[0m \u001b[1m2s\u001b[0m 100ms/step - loss: 0.0329 - val_loss: 0.0219\n",
      "Epoch 27/300\n",
      "\u001b[1m11/17\u001b[0m \u001b[32m━━━━━━━━━━━━\u001b[0m\u001b[37m━━━━━━━━\u001b[0m \u001b[1m0s\u001b[0m 88ms/step - loss: 0.0340 "
     ]
    },
    {
     "name": "stderr",
     "output_type": "stream",
     "text": [
      "[codecarbon INFO @ 16:57:31] Energy consumed for RAM : 0.000079 kWh. RAM Power : 5.732982158660889 W\n",
      "[codecarbon INFO @ 16:57:31] Energy consumed for all CPUs : 0.000591 kWh. Total CPU Power : 42.5 W\n",
      "[codecarbon INFO @ 16:57:31] Energy consumed for all GPUs : 0.000065 kWh. Total GPU Power : 3.177796929779122 W\n",
      "[codecarbon INFO @ 16:57:31] 0.000736 kWh of electricity used since the beginning.\n"
     ]
    },
    {
     "name": "stdout",
     "output_type": "stream",
     "text": [
      "\u001b[1m17/17\u001b[0m \u001b[32m━━━━━━━━━━━━━━━━━━━━\u001b[0m\u001b[37m\u001b[0m \u001b[1m2s\u001b[0m 98ms/step - loss: 0.0341 - val_loss: 0.0223\n",
      "Epoch 28/300\n",
      "\u001b[1m17/17\u001b[0m \u001b[32m━━━━━━━━━━━━━━━━━━━━\u001b[0m\u001b[37m\u001b[0m \u001b[1m2s\u001b[0m 94ms/step - loss: 0.0326 - val_loss: 0.0223\n",
      "Epoch 29/300\n",
      "\u001b[1m17/17\u001b[0m \u001b[32m━━━━━━━━━━━━━━━━━━━━\u001b[0m\u001b[37m\u001b[0m \u001b[1m2s\u001b[0m 96ms/step - loss: 0.0325 - val_loss: 0.0227\n",
      "Epoch 30/300\n",
      "\u001b[1m17/17\u001b[0m \u001b[32m━━━━━━━━━━━━━━━━━━━━\u001b[0m\u001b[37m\u001b[0m \u001b[1m2s\u001b[0m 95ms/step - loss: 0.0350 - val_loss: 0.0235\n",
      "Epoch 31/300\n",
      "\u001b[1m17/17\u001b[0m \u001b[32m━━━━━━━━━━━━━━━━━━━━\u001b[0m\u001b[37m\u001b[0m \u001b[1m2s\u001b[0m 95ms/step - loss: 0.0337 - val_loss: 0.0218\n",
      "Epoch 32/300\n",
      "\u001b[1m17/17\u001b[0m \u001b[32m━━━━━━━━━━━━━━━━━━━━\u001b[0m\u001b[37m\u001b[0m \u001b[1m2s\u001b[0m 96ms/step - loss: 0.0323 - val_loss: 0.0226\n",
      "Epoch 33/300\n",
      "\u001b[1m12/17\u001b[0m \u001b[32m━━━━━━━━━━━━━━\u001b[0m\u001b[37m━━━━━━\u001b[0m \u001b[1m0s\u001b[0m 88ms/step - loss: 0.0320 "
     ]
    },
    {
     "name": "stderr",
     "output_type": "stream",
     "text": [
      "[codecarbon INFO @ 16:57:41] Energy consumed for RAM : 0.000095 kWh. RAM Power : 5.732982158660889 W\n",
      "[codecarbon INFO @ 16:57:41] Energy consumed for all CPUs : 0.000709 kWh. Total CPU Power : 42.5 W\n",
      "[codecarbon INFO @ 16:57:41] Energy consumed for all GPUs : 0.000078 kWh. Total GPU Power : 4.6198914132484195 W\n"
     ]
    },
    {
     "name": "stdout",
     "output_type": "stream",
     "text": [
      "\u001b[1m13/17\u001b[0m \u001b[32m━━━━━━━━━━━━━━━\u001b[0m\u001b[37m━━━━━\u001b[0m \u001b[1m0s\u001b[0m 89ms/step - loss: 0.0320"
     ]
    },
    {
     "name": "stderr",
     "output_type": "stream",
     "text": [
      "[codecarbon INFO @ 16:57:41] 0.000883 kWh of electricity used since the beginning.\n"
     ]
    },
    {
     "name": "stdout",
     "output_type": "stream",
     "text": [
      "\u001b[1m17/17\u001b[0m \u001b[32m━━━━━━━━━━━━━━━━━━━━\u001b[0m\u001b[37m\u001b[0m \u001b[1m2s\u001b[0m 99ms/step - loss: 0.0321 - val_loss: 0.0211\n",
      "Epoch 34/300\n",
      "\u001b[1m17/17\u001b[0m \u001b[32m━━━━━━━━━━━━━━━━━━━━\u001b[0m\u001b[37m\u001b[0m \u001b[1m2s\u001b[0m 96ms/step - loss: 0.0319 - val_loss: 0.0227\n",
      "Epoch 35/300\n",
      "\u001b[1m17/17\u001b[0m \u001b[32m━━━━━━━━━━━━━━━━━━━━\u001b[0m\u001b[37m\u001b[0m \u001b[1m2s\u001b[0m 96ms/step - loss: 0.0316 - val_loss: 0.0209\n",
      "Epoch 36/300\n",
      "\u001b[1m17/17\u001b[0m \u001b[32m━━━━━━━━━━━━━━━━━━━━\u001b[0m\u001b[37m\u001b[0m \u001b[1m2s\u001b[0m 96ms/step - loss: 0.0314 - val_loss: 0.0203\n",
      "Epoch 37/300\n",
      "\u001b[1m17/17\u001b[0m \u001b[32m━━━━━━━━━━━━━━━━━━━━\u001b[0m\u001b[37m\u001b[0m \u001b[1m2s\u001b[0m 94ms/step - loss: 0.0319 - val_loss: 0.0206\n",
      "Epoch 38/300\n",
      "\u001b[1m17/17\u001b[0m \u001b[32m━━━━━━━━━━━━━━━━━━━━\u001b[0m\u001b[37m\u001b[0m \u001b[1m2s\u001b[0m 95ms/step - loss: 0.0312 - val_loss: 0.0205\n",
      "Epoch 39/300\n",
      "\u001b[1m13/17\u001b[0m \u001b[32m━━━━━━━━━━━━━━━\u001b[0m\u001b[37m━━━━━\u001b[0m \u001b[1m0s\u001b[0m 88ms/step - loss: 0.0319 "
     ]
    },
    {
     "name": "stderr",
     "output_type": "stream",
     "text": [
      "[codecarbon INFO @ 16:57:51] Energy consumed for RAM : 0.000111 kWh. RAM Power : 5.732982158660889 W\n",
      "[codecarbon INFO @ 16:57:51] Energy consumed for all CPUs : 0.000827 kWh. Total CPU Power : 42.5 W\n"
     ]
    },
    {
     "name": "stdout",
     "output_type": "stream",
     "text": [
      "\u001b[1m14/17\u001b[0m \u001b[32m━━━━━━━━━━━━━━━━\u001b[0m\u001b[37m━━━━\u001b[0m \u001b[1m0s\u001b[0m 88ms/step - loss: 0.0319"
     ]
    },
    {
     "name": "stderr",
     "output_type": "stream",
     "text": [
      "[codecarbon INFO @ 16:57:51] Energy consumed for all GPUs : 0.000096 kWh. Total GPU Power : 6.518094528724763 W\n",
      "[codecarbon INFO @ 16:57:51] 0.001035 kWh of electricity used since the beginning.\n"
     ]
    },
    {
     "name": "stdout",
     "output_type": "stream",
     "text": [
      "\u001b[1m17/17\u001b[0m \u001b[32m━━━━━━━━━━━━━━━━━━━━\u001b[0m\u001b[37m\u001b[0m \u001b[1m2s\u001b[0m 97ms/step - loss: 0.0321 - val_loss: 0.0231\n",
      "Epoch 40/300\n",
      "\u001b[1m17/17\u001b[0m \u001b[32m━━━━━━━━━━━━━━━━━━━━\u001b[0m\u001b[37m\u001b[0m \u001b[1m2s\u001b[0m 97ms/step - loss: 0.0328 - val_loss: 0.0217\n",
      "Epoch 41/300\n",
      "\u001b[1m17/17\u001b[0m \u001b[32m━━━━━━━━━━━━━━━━━━━━\u001b[0m\u001b[37m\u001b[0m \u001b[1m2s\u001b[0m 99ms/step - loss: 0.0321 - val_loss: 0.0204\n",
      "Epoch 42/300\n",
      "\u001b[1m17/17\u001b[0m \u001b[32m━━━━━━━━━━━━━━━━━━━━\u001b[0m\u001b[37m\u001b[0m \u001b[1m2s\u001b[0m 96ms/step - loss: 0.0311 - val_loss: 0.0226\n",
      "Epoch 43/300\n",
      "\u001b[1m17/17\u001b[0m \u001b[32m━━━━━━━━━━━━━━━━━━━━\u001b[0m\u001b[37m\u001b[0m \u001b[1m2s\u001b[0m 99ms/step - loss: 0.0308 - val_loss: 0.0195\n",
      "Epoch 44/300\n",
      "\u001b[1m17/17\u001b[0m \u001b[32m━━━━━━━━━━━━━━━━━━━━\u001b[0m\u001b[37m\u001b[0m \u001b[1m2s\u001b[0m 96ms/step - loss: 0.0318 - val_loss: 0.0203\n",
      "Epoch 45/300\n",
      "\u001b[1m13/17\u001b[0m \u001b[32m━━━━━━━━━━━━━━━\u001b[0m\u001b[37m━━━━━\u001b[0m \u001b[1m0s\u001b[0m 87ms/step - loss: 0.0320 "
     ]
    },
    {
     "name": "stderr",
     "output_type": "stream",
     "text": [
      "[codecarbon INFO @ 16:58:01] Energy consumed for RAM : 0.000127 kWh. RAM Power : 5.732982158660889 W\n",
      "[codecarbon INFO @ 16:58:01] Energy consumed for all CPUs : 0.000945 kWh. Total CPU Power : 42.5 W\n"
     ]
    },
    {
     "name": "stdout",
     "output_type": "stream",
     "text": [
      "\u001b[1m14/17\u001b[0m \u001b[32m━━━━━━━━━━━━━━━━\u001b[0m\u001b[37m━━━━\u001b[0m \u001b[1m0s\u001b[0m 87ms/step - loss: 0.0320"
     ]
    },
    {
     "name": "stderr",
     "output_type": "stream",
     "text": [
      "[codecarbon INFO @ 16:58:01] Energy consumed for all GPUs : 0.000114 kWh. Total GPU Power : 6.448248681047001 W\n",
      "[codecarbon INFO @ 16:58:01] 0.001187 kWh of electricity used since the beginning.\n"
     ]
    },
    {
     "name": "stdout",
     "output_type": "stream",
     "text": [
      "\u001b[1m16/17\u001b[0m \u001b[32m━━━━━━━━━━━━━━━━━━\u001b[0m\u001b[37m━━\u001b[0m \u001b[1m0s\u001b[0m 87ms/step - loss: 0.0320"
     ]
    },
    {
     "name": "stderr",
     "output_type": "stream",
     "text": [
      "[codecarbon INFO @ 16:58:01] 0.000296 g.CO2eq/s mean an estimation of 9.342176810576687 kg.CO2eq/year\n"
     ]
    },
    {
     "name": "stdout",
     "output_type": "stream",
     "text": [
      "\u001b[1m17/17\u001b[0m \u001b[32m━━━━━━━━━━━━━━━━━━━━\u001b[0m\u001b[37m\u001b[0m \u001b[1m2s\u001b[0m 96ms/step - loss: 0.0320 - val_loss: 0.0211\n",
      "Epoch 46/300\n",
      "\u001b[1m17/17\u001b[0m \u001b[32m━━━━━━━━━━━━━━━━━━━━\u001b[0m\u001b[37m\u001b[0m \u001b[1m2s\u001b[0m 95ms/step - loss: 0.0313 - val_loss: 0.0199\n",
      "Epoch 47/300\n",
      "\u001b[1m17/17\u001b[0m \u001b[32m━━━━━━━━━━━━━━━━━━━━\u001b[0m\u001b[37m\u001b[0m \u001b[1m2s\u001b[0m 93ms/step - loss: 0.0305 - val_loss: 0.0234\n",
      "Epoch 48/300\n",
      "\u001b[1m17/17\u001b[0m \u001b[32m━━━━━━━━━━━━━━━━━━━━\u001b[0m\u001b[37m\u001b[0m \u001b[1m2s\u001b[0m 94ms/step - loss: 0.0305 - val_loss: 0.0196\n",
      "Epoch 49/300\n",
      "\u001b[1m17/17\u001b[0m \u001b[32m━━━━━━━━━━━━━━━━━━━━\u001b[0m\u001b[37m\u001b[0m \u001b[1m2s\u001b[0m 96ms/step - loss: 0.0309 - val_loss: 0.0202\n",
      "Epoch 50/300\n",
      "\u001b[1m17/17\u001b[0m \u001b[32m━━━━━━━━━━━━━━━━━━━━\u001b[0m\u001b[37m\u001b[0m \u001b[1m2s\u001b[0m 100ms/step - loss: 0.0313 - val_loss: 0.0206\n",
      "Epoch 51/300\n",
      "\u001b[1m14/17\u001b[0m \u001b[32m━━━━━━━━━━━━━━━━\u001b[0m\u001b[37m━━━━\u001b[0m \u001b[1m0s\u001b[0m 91ms/step - loss: 0.0309 "
     ]
    },
    {
     "name": "stderr",
     "output_type": "stream",
     "text": [
      "[codecarbon INFO @ 16:58:11] Energy consumed for RAM : 0.000143 kWh. RAM Power : 5.732982158660889 W\n",
      "[codecarbon INFO @ 16:58:11] Energy consumed for all CPUs : 0.001063 kWh. Total CPU Power : 42.5 W\n"
     ]
    },
    {
     "name": "stdout",
     "output_type": "stream",
     "text": [
      "\u001b[1m15/17\u001b[0m \u001b[32m━━━━━━━━━━━━━━━━━\u001b[0m\u001b[37m━━━\u001b[0m \u001b[1m0s\u001b[0m 91ms/step - loss: 0.0309"
     ]
    },
    {
     "name": "stderr",
     "output_type": "stream",
     "text": [
      "[codecarbon INFO @ 16:58:11] Energy consumed for all GPUs : 0.000134 kWh. Total GPU Power : 7.115446160131947 W\n",
      "[codecarbon INFO @ 16:58:11] 0.001340 kWh of electricity used since the beginning.\n"
     ]
    },
    {
     "name": "stdout",
     "output_type": "stream",
     "text": [
      "\u001b[1m17/17\u001b[0m \u001b[32m━━━━━━━━━━━━━━━━━━━━\u001b[0m\u001b[37m\u001b[0m \u001b[1m2s\u001b[0m 102ms/step - loss: 0.0309 - val_loss: 0.0196\n",
      "Epoch 52/300\n",
      "\u001b[1m17/17\u001b[0m \u001b[32m━━━━━━━━━━━━━━━━━━━━\u001b[0m\u001b[37m\u001b[0m \u001b[1m2s\u001b[0m 104ms/step - loss: 0.0308 - val_loss: 0.0194\n",
      "Epoch 53/300\n",
      "\u001b[1m17/17\u001b[0m \u001b[32m━━━━━━━━━━━━━━━━━━━━\u001b[0m\u001b[37m\u001b[0m \u001b[1m2s\u001b[0m 97ms/step - loss: 0.0309 - val_loss: 0.0202\n",
      "Epoch 54/300\n",
      "\u001b[1m17/17\u001b[0m \u001b[32m━━━━━━━━━━━━━━━━━━━━\u001b[0m\u001b[37m\u001b[0m \u001b[1m2s\u001b[0m 92ms/step - loss: 0.0310 - val_loss: 0.0197\n",
      "Epoch 55/300\n",
      "\u001b[1m17/17\u001b[0m \u001b[32m━━━━━━━━━━━━━━━━━━━━\u001b[0m\u001b[37m\u001b[0m \u001b[1m2s\u001b[0m 96ms/step - loss: 0.0307 - val_loss: 0.0191\n",
      "Epoch 56/300\n",
      "\u001b[1m17/17\u001b[0m \u001b[32m━━━━━━━━━━━━━━━━━━━━\u001b[0m\u001b[37m\u001b[0m \u001b[1m2s\u001b[0m 94ms/step - loss: 0.0301 - val_loss: 0.0228\n",
      "Epoch 57/300\n",
      "\u001b[1m14/17\u001b[0m \u001b[32m━━━━━━━━━━━━━━━━\u001b[0m\u001b[37m━━━━\u001b[0m \u001b[1m0s\u001b[0m 85ms/step - loss: 0.0302 "
     ]
    },
    {
     "name": "stderr",
     "output_type": "stream",
     "text": [
      "[codecarbon INFO @ 16:58:21] Energy consumed for RAM : 0.000159 kWh. RAM Power : 5.732982158660889 W\n",
      "[codecarbon INFO @ 16:58:21] Energy consumed for all CPUs : 0.001181 kWh. Total CPU Power : 42.5 W\n"
     ]
    },
    {
     "name": "stdout",
     "output_type": "stream",
     "text": [
      "\u001b[1m15/17\u001b[0m \u001b[32m━━━━━━━━━━━━━━━━━\u001b[0m\u001b[37m━━━\u001b[0m \u001b[1m0s\u001b[0m 87ms/step - loss: 0.0302"
     ]
    },
    {
     "name": "stderr",
     "output_type": "stream",
     "text": [
      "[codecarbon INFO @ 16:58:21] Energy consumed for all GPUs : 0.000155 kWh. Total GPU Power : 7.588498259322642 W\n",
      "[codecarbon INFO @ 16:58:21] 0.001495 kWh of electricity used since the beginning.\n"
     ]
    },
    {
     "name": "stdout",
     "output_type": "stream",
     "text": [
      "\u001b[1m17/17\u001b[0m \u001b[32m━━━━━━━━━━━━━━━━━━━━\u001b[0m\u001b[37m\u001b[0m \u001b[1m2s\u001b[0m 95ms/step - loss: 0.0302 - val_loss: 0.0225\n",
      "Epoch 58/300\n",
      "\u001b[1m17/17\u001b[0m \u001b[32m━━━━━━━━━━━━━━━━━━━━\u001b[0m\u001b[37m\u001b[0m \u001b[1m2s\u001b[0m 96ms/step - loss: 0.0297 - val_loss: 0.0225\n",
      "Epoch 59/300\n",
      "\u001b[1m17/17\u001b[0m \u001b[32m━━━━━━━━━━━━━━━━━━━━\u001b[0m\u001b[37m\u001b[0m \u001b[1m2s\u001b[0m 96ms/step - loss: 0.0298 - val_loss: 0.0235\n",
      "Epoch 60/300\n",
      "\u001b[1m17/17\u001b[0m \u001b[32m━━━━━━━━━━━━━━━━━━━━\u001b[0m\u001b[37m\u001b[0m \u001b[1m2s\u001b[0m 94ms/step - loss: 0.0299 - val_loss: 0.0225\n",
      "Epoch 61/300\n",
      "\u001b[1m17/17\u001b[0m \u001b[32m━━━━━━━━━━━━━━━━━━━━\u001b[0m\u001b[37m\u001b[0m \u001b[1m2s\u001b[0m 94ms/step - loss: 0.0297 - val_loss: 0.0248\n",
      "Epoch 62/300\n",
      "\u001b[1m17/17\u001b[0m \u001b[32m━━━━━━━━━━━━━━━━━━━━\u001b[0m\u001b[37m\u001b[0m \u001b[1m2s\u001b[0m 94ms/step - loss: 0.0302 - val_loss: 0.0214\n",
      "Epoch 63/300\n",
      "\u001b[1m16/17\u001b[0m \u001b[32m━━━━━━━━━━━━━━━━━━\u001b[0m\u001b[37m━━\u001b[0m \u001b[1m0s\u001b[0m 85ms/step - loss: 0.0296 "
     ]
    },
    {
     "name": "stderr",
     "output_type": "stream",
     "text": [
      "[codecarbon INFO @ 16:58:31] Energy consumed for RAM : 0.000175 kWh. RAM Power : 5.732982158660889 W\n",
      "[codecarbon INFO @ 16:58:31] Energy consumed for all CPUs : 0.001299 kWh. Total CPU Power : 42.5 W\n"
     ]
    },
    {
     "name": "stdout",
     "output_type": "stream",
     "text": [
      "\u001b[1m17/17\u001b[0m \u001b[32m━━━━━━━━━━━━━━━━━━━━\u001b[0m\u001b[37m\u001b[0m \u001b[1m0s\u001b[0m 87ms/step - loss: 0.0296"
     ]
    },
    {
     "name": "stderr",
     "output_type": "stream",
     "text": [
      "[codecarbon INFO @ 16:58:31] Energy consumed for all GPUs : 0.000168 kWh. Total GPU Power : 4.634667723415564 W\n",
      "[codecarbon INFO @ 16:58:31] 0.001642 kWh of electricity used since the beginning.\n"
     ]
    },
    {
     "name": "stdout",
     "output_type": "stream",
     "text": [
      "\u001b[1m17/17\u001b[0m \u001b[32m━━━━━━━━━━━━━━━━━━━━\u001b[0m\u001b[37m\u001b[0m \u001b[1m2s\u001b[0m 96ms/step - loss: 0.0296 - val_loss: 0.0212\n",
      "Epoch 64/300\n",
      "\u001b[1m17/17\u001b[0m \u001b[32m━━━━━━━━━━━━━━━━━━━━\u001b[0m\u001b[37m\u001b[0m \u001b[1m2s\u001b[0m 94ms/step - loss: 0.0297 - val_loss: 0.0214\n",
      "Epoch 65/300\n",
      "\u001b[1m17/17\u001b[0m \u001b[32m━━━━━━━━━━━━━━━━━━━━\u001b[0m\u001b[37m\u001b[0m \u001b[1m2s\u001b[0m 93ms/step - loss: 0.0296 - val_loss: 0.0202\n",
      "Epoch 66/300\n",
      "\u001b[1m17/17\u001b[0m \u001b[32m━━━━━━━━━━━━━━━━━━━━\u001b[0m\u001b[37m\u001b[0m \u001b[1m2s\u001b[0m 94ms/step - loss: 0.0293 - val_loss: 0.0252\n",
      "Epoch 67/300\n",
      "\u001b[1m17/17\u001b[0m \u001b[32m━━━━━━━━━━━━━━━━━━━━\u001b[0m\u001b[37m\u001b[0m \u001b[1m2s\u001b[0m 94ms/step - loss: 0.0305 - val_loss: 0.0202\n",
      "Epoch 68/300\n",
      "\u001b[1m17/17\u001b[0m \u001b[32m━━━━━━━━━━━━━━━━━━━━\u001b[0m\u001b[37m\u001b[0m \u001b[1m2s\u001b[0m 94ms/step - loss: 0.0303 - val_loss: 0.0193\n",
      "Epoch 69/300\n",
      "\u001b[1m17/17\u001b[0m \u001b[32m━━━━━━━━━━━━━━━━━━━━\u001b[0m\u001b[37m\u001b[0m \u001b[1m2s\u001b[0m 96ms/step - loss: 0.0299 - val_loss: 0.0183\n",
      "Epoch 70/300\n",
      "\u001b[1m 1/17\u001b[0m \u001b[32m━\u001b[0m\u001b[37m━━━━━━━━━━━━━━━━━━━\u001b[0m \u001b[1m1s\u001b[0m 118ms/step - loss: 0.0293"
     ]
    },
    {
     "name": "stderr",
     "output_type": "stream",
     "text": [
      "[codecarbon INFO @ 16:58:41] Energy consumed for RAM : 0.000190 kWh. RAM Power : 5.732982158660889 W\n",
      "[codecarbon INFO @ 16:58:41] Energy consumed for all CPUs : 0.001418 kWh. Total CPU Power : 42.5 W\n"
     ]
    },
    {
     "name": "stdout",
     "output_type": "stream",
     "text": [
      "\u001b[1m 2/17\u001b[0m \u001b[32m━━\u001b[0m\u001b[37m━━━━━━━━━━━━━━━━━━\u001b[0m \u001b[1m1s\u001b[0m 86ms/step - loss: 0.0290 "
     ]
    },
    {
     "name": "stderr",
     "output_type": "stream",
     "text": [
      "[codecarbon INFO @ 16:58:41] Energy consumed for all GPUs : 0.000187 kWh. Total GPU Power : 6.776820689517855 W\n",
      "[codecarbon INFO @ 16:58:41] 0.001795 kWh of electricity used since the beginning.\n"
     ]
    },
    {
     "name": "stdout",
     "output_type": "stream",
     "text": [
      "\u001b[1m17/17\u001b[0m \u001b[32m━━━━━━━━━━━━━━━━━━━━\u001b[0m\u001b[37m\u001b[0m \u001b[1m2s\u001b[0m 96ms/step - loss: 0.0296 - val_loss: 0.0185\n",
      "Epoch 71/300\n",
      "\u001b[1m17/17\u001b[0m \u001b[32m━━━━━━━━━━━━━━━━━━━━\u001b[0m\u001b[37m\u001b[0m \u001b[1m2s\u001b[0m 95ms/step - loss: 0.0292 - val_loss: 0.0214\n",
      "Epoch 72/300\n",
      "\u001b[1m17/17\u001b[0m \u001b[32m━━━━━━━━━━━━━━━━━━━━\u001b[0m\u001b[37m\u001b[0m \u001b[1m2s\u001b[0m 94ms/step - loss: 0.0289 - val_loss: 0.0208\n",
      "Epoch 73/300\n",
      "\u001b[1m17/17\u001b[0m \u001b[32m━━━━━━━━━━━━━━━━━━━━\u001b[0m\u001b[37m\u001b[0m \u001b[1m2s\u001b[0m 94ms/step - loss: 0.0288 - val_loss: 0.0216\n",
      "Epoch 74/300\n",
      "\u001b[1m17/17\u001b[0m \u001b[32m━━━━━━━━━━━━━━━━━━━━\u001b[0m\u001b[37m\u001b[0m \u001b[1m2s\u001b[0m 92ms/step - loss: 0.0287 - val_loss: 0.0231\n",
      "Epoch 75/300\n",
      "\u001b[1m17/17\u001b[0m \u001b[32m━━━━━━━━━━━━━━━━━━━━\u001b[0m\u001b[37m\u001b[0m \u001b[1m2s\u001b[0m 94ms/step - loss: 0.0287 - val_loss: 0.0203\n",
      "Epoch 76/300\n",
      "\u001b[1m 4/17\u001b[0m \u001b[32m━━━━\u001b[0m\u001b[37m━━━━━━━━━━━━━━━━\u001b[0m \u001b[1m1s\u001b[0m 84ms/step - loss: 0.0273 "
     ]
    },
    {
     "name": "stderr",
     "output_type": "stream",
     "text": [
      "[codecarbon INFO @ 16:58:51] Energy consumed for RAM : 0.000206 kWh. RAM Power : 5.732982158660889 W\n",
      "[codecarbon INFO @ 16:58:51] Energy consumed for all CPUs : 0.001536 kWh. Total CPU Power : 42.5 W\n"
     ]
    },
    {
     "name": "stdout",
     "output_type": "stream",
     "text": [
      "\u001b[1m 5/17\u001b[0m \u001b[32m━━━━━\u001b[0m\u001b[37m━━━━━━━━━━━━━━━\u001b[0m \u001b[1m1s\u001b[0m 87ms/step - loss: 0.0276"
     ]
    },
    {
     "name": "stderr",
     "output_type": "stream",
     "text": [
      "[codecarbon INFO @ 16:58:51] Energy consumed for all GPUs : 0.000202 kWh. Total GPU Power : 5.371028057996258 W\n",
      "[codecarbon INFO @ 16:58:51] 0.001944 kWh of electricity used since the beginning.\n"
     ]
    },
    {
     "name": "stdout",
     "output_type": "stream",
     "text": [
      "\u001b[1m17/17\u001b[0m \u001b[32m━━━━━━━━━━━━━━━━━━━━\u001b[0m\u001b[37m\u001b[0m \u001b[1m2s\u001b[0m 95ms/step - loss: 0.0285 - val_loss: 0.0204\n",
      "Epoch 77/300\n",
      "\u001b[1m17/17\u001b[0m \u001b[32m━━━━━━━━━━━━━━━━━━━━\u001b[0m\u001b[37m\u001b[0m \u001b[1m2s\u001b[0m 95ms/step - loss: 0.0284 - val_loss: 0.0182\n",
      "Epoch 78/300\n",
      "\u001b[1m17/17\u001b[0m \u001b[32m━━━━━━━━━━━━━━━━━━━━\u001b[0m\u001b[37m\u001b[0m \u001b[1m2s\u001b[0m 94ms/step - loss: 0.0283 - val_loss: 0.0217\n",
      "Epoch 79/300\n",
      "\u001b[1m17/17\u001b[0m \u001b[32m━━━━━━━━━━━━━━━━━━━━\u001b[0m\u001b[37m\u001b[0m \u001b[1m2s\u001b[0m 94ms/step - loss: 0.0286 - val_loss: 0.0188\n",
      "Epoch 80/300\n",
      "\u001b[1m17/17\u001b[0m \u001b[32m━━━━━━━━━━━━━━━━━━━━\u001b[0m\u001b[37m\u001b[0m \u001b[1m2s\u001b[0m 98ms/step - loss: 0.0282 - val_loss: 0.0202\n",
      "Epoch 81/300\n",
      "\u001b[1m17/17\u001b[0m \u001b[32m━━━━━━━━━━━━━━━━━━━━\u001b[0m\u001b[37m\u001b[0m \u001b[1m2s\u001b[0m 93ms/step - loss: 0.0284 - val_loss: 0.0195\n",
      "Epoch 82/300\n",
      "\u001b[1m 7/17\u001b[0m \u001b[32m━━━━━━━━\u001b[0m\u001b[37m━━━━━━━━━━━━\u001b[0m \u001b[1m0s\u001b[0m 84ms/step - loss: 0.0279 "
     ]
    },
    {
     "name": "stderr",
     "output_type": "stream",
     "text": [
      "[codecarbon INFO @ 16:59:01] Energy consumed for RAM : 0.000222 kWh. RAM Power : 5.732982158660889 W\n",
      "[codecarbon INFO @ 16:59:01] Energy consumed for all CPUs : 0.001654 kWh. Total CPU Power : 42.5 W\n"
     ]
    },
    {
     "name": "stdout",
     "output_type": "stream",
     "text": [
      "\u001b[1m 8/17\u001b[0m \u001b[32m━━━━━━━━━\u001b[0m\u001b[37m━━━━━━━━━━━\u001b[0m \u001b[1m0s\u001b[0m 85ms/step - loss: 0.0280"
     ]
    },
    {
     "name": "stderr",
     "output_type": "stream",
     "text": [
      "[codecarbon INFO @ 16:59:01] Energy consumed for all GPUs : 0.000212 kWh. Total GPU Power : 3.593186963772697 W\n",
      "[codecarbon INFO @ 16:59:01] 0.002088 kWh of electricity used since the beginning.\n"
     ]
    },
    {
     "name": "stdout",
     "output_type": "stream",
     "text": [
      "\u001b[1m17/17\u001b[0m \u001b[32m━━━━━━━━━━━━━━━━━━━━\u001b[0m\u001b[37m\u001b[0m \u001b[1m2s\u001b[0m 96ms/step - loss: 0.0284 - val_loss: 0.0182\n",
      "Epoch 83/300\n",
      "\u001b[1m17/17\u001b[0m \u001b[32m━━━━━━━━━━━━━━━━━━━━\u001b[0m\u001b[37m\u001b[0m \u001b[1m2s\u001b[0m 91ms/step - loss: 0.0289 - val_loss: 0.0208\n",
      "Epoch 84/300\n",
      "\u001b[1m17/17\u001b[0m \u001b[32m━━━━━━━━━━━━━━━━━━━━\u001b[0m\u001b[37m\u001b[0m \u001b[1m2s\u001b[0m 93ms/step - loss: 0.0289 - val_loss: 0.0191\n",
      "Epoch 85/300\n",
      "\u001b[1m17/17\u001b[0m \u001b[32m━━━━━━━━━━━━━━━━━━━━\u001b[0m\u001b[37m\u001b[0m \u001b[1m2s\u001b[0m 93ms/step - loss: 0.0281 - val_loss: 0.0179\n",
      "Epoch 86/300\n",
      "\u001b[1m17/17\u001b[0m \u001b[32m━━━━━━━━━━━━━━━━━━━━\u001b[0m\u001b[37m\u001b[0m \u001b[1m2s\u001b[0m 93ms/step - loss: 0.0277 - val_loss: 0.0202\n",
      "Epoch 87/300\n",
      "\u001b[1m17/17\u001b[0m \u001b[32m━━━━━━━━━━━━━━━━━━━━\u001b[0m\u001b[37m\u001b[0m \u001b[1m2s\u001b[0m 93ms/step - loss: 0.0280 - val_loss: 0.0179\n",
      "Epoch 88/300\n",
      "\u001b[1m12/17\u001b[0m \u001b[32m━━━━━━━━━━━━━━\u001b[0m\u001b[37m━━━━━━\u001b[0m \u001b[1m0s\u001b[0m 83ms/step - loss: 0.0275"
     ]
    },
    {
     "name": "stderr",
     "output_type": "stream",
     "text": [
      "[codecarbon INFO @ 16:59:11] Energy consumed for RAM : 0.000238 kWh. RAM Power : 5.732982158660889 W\n",
      "[codecarbon INFO @ 16:59:11] Energy consumed for all CPUs : 0.001772 kWh. Total CPU Power : 42.5 W\n"
     ]
    },
    {
     "name": "stdout",
     "output_type": "stream",
     "text": [
      "\u001b[1m13/17\u001b[0m \u001b[32m━━━━━━━━━━━━━━━\u001b[0m\u001b[37m━━━━━\u001b[0m \u001b[1m0s\u001b[0m 83ms/step - loss: 0.0276"
     ]
    },
    {
     "name": "stderr",
     "output_type": "stream",
     "text": [
      "[codecarbon INFO @ 16:59:11] Energy consumed for all GPUs : 0.000229 kWh. Total GPU Power : 6.051773392420549 W\n",
      "[codecarbon INFO @ 16:59:11] 0.002239 kWh of electricity used since the beginning.\n"
     ]
    },
    {
     "name": "stdout",
     "output_type": "stream",
     "text": [
      "\u001b[1m17/17\u001b[0m \u001b[32m━━━━━━━━━━━━━━━━━━━━\u001b[0m\u001b[37m\u001b[0m \u001b[1m2s\u001b[0m 93ms/step - loss: 0.0277 - val_loss: 0.0200\n",
      "Epoch 89/300\n",
      "\u001b[1m17/17\u001b[0m \u001b[32m━━━━━━━━━━━━━━━━━━━━\u001b[0m\u001b[37m\u001b[0m \u001b[1m2s\u001b[0m 92ms/step - loss: 0.0279 - val_loss: 0.0183\n",
      "Epoch 90/300\n",
      "\u001b[1m17/17\u001b[0m \u001b[32m━━━━━━━━━━━━━━━━━━━━\u001b[0m\u001b[37m\u001b[0m \u001b[1m2s\u001b[0m 92ms/step - loss: 0.0276 - val_loss: 0.0193\n",
      "Epoch 91/300\n",
      "\u001b[1m17/17\u001b[0m \u001b[32m━━━━━━━━━━━━━━━━━━━━\u001b[0m\u001b[37m\u001b[0m \u001b[1m2s\u001b[0m 91ms/step - loss: 0.0278 - val_loss: 0.0181\n",
      "Epoch 92/300\n",
      "\u001b[1m17/17\u001b[0m \u001b[32m━━━━━━━━━━━━━━━━━━━━\u001b[0m\u001b[37m\u001b[0m \u001b[1m2s\u001b[0m 93ms/step - loss: 0.0273 - val_loss: 0.0187\n",
      "Epoch 93/300\n",
      "\u001b[1m17/17\u001b[0m \u001b[32m━━━━━━━━━━━━━━━━━━━━\u001b[0m\u001b[37m\u001b[0m \u001b[1m2s\u001b[0m 92ms/step - loss: 0.0271 - val_loss: 0.0179\n",
      "Epoch 94/300\n",
      "\u001b[1m17/17\u001b[0m \u001b[32m━━━━━━━━━━━━━━━━━━━━\u001b[0m\u001b[37m\u001b[0m \u001b[1m0s\u001b[0m 83ms/step - loss: 0.0273 "
     ]
    },
    {
     "name": "stderr",
     "output_type": "stream",
     "text": [
      "[codecarbon INFO @ 16:59:21] Energy consumed for RAM : 0.000254 kWh. RAM Power : 5.732982158660889 W\n",
      "[codecarbon INFO @ 16:59:21] Energy consumed for all CPUs : 0.001890 kWh. Total CPU Power : 42.5 W\n",
      "[codecarbon INFO @ 16:59:21] Energy consumed for all GPUs : 0.000248 kWh. Total GPU Power : 6.9058240579549075 W\n",
      "[codecarbon INFO @ 16:59:21] 0.002392 kWh of electricity used since the beginning.\n"
     ]
    },
    {
     "name": "stdout",
     "output_type": "stream",
     "text": [
      "\u001b[1m17/17\u001b[0m \u001b[32m━━━━━━━━━━━━━━━━━━━━\u001b[0m\u001b[37m\u001b[0m \u001b[1m2s\u001b[0m 92ms/step - loss: 0.0273 - val_loss: 0.0190\n",
      "Epoch 95/300\n",
      "\u001b[1m 1/17\u001b[0m \u001b[32m━\u001b[0m\u001b[37m━━━━━━━━━━━━━━━━━━━\u001b[0m \u001b[1m1s\u001b[0m 109ms/step - loss: 0.0266"
     ]
    },
    {
     "name": "stderr",
     "output_type": "stream",
     "text": [
      "[codecarbon INFO @ 16:59:21] 0.000301 g.CO2eq/s mean an estimation of 9.493787566733898 kg.CO2eq/year\n"
     ]
    },
    {
     "name": "stdout",
     "output_type": "stream",
     "text": [
      "\u001b[1m17/17\u001b[0m \u001b[32m━━━━━━━━━━━━━━━━━━━━\u001b[0m\u001b[37m\u001b[0m \u001b[1m2s\u001b[0m 93ms/step - loss: 0.0270 - val_loss: 0.0180\n",
      "Epoch 96/300\n",
      "\u001b[1m17/17\u001b[0m \u001b[32m━━━━━━━━━━━━━━━━━━━━\u001b[0m\u001b[37m\u001b[0m \u001b[1m2s\u001b[0m 91ms/step - loss: 0.0268 - val_loss: 0.0185\n",
      "Epoch 97/300\n",
      "\u001b[1m17/17\u001b[0m \u001b[32m━━━━━━━━━━━━━━━━━━━━\u001b[0m\u001b[37m\u001b[0m \u001b[1m2s\u001b[0m 91ms/step - loss: 0.0266 - val_loss: 0.0185\n",
      "Epoch 98/300\n",
      "\u001b[1m17/17\u001b[0m \u001b[32m━━━━━━━━━━━━━━━━━━━━\u001b[0m\u001b[37m\u001b[0m \u001b[1m2s\u001b[0m 91ms/step - loss: 0.0270 - val_loss: 0.0189\n",
      "Epoch 99/300\n",
      "\u001b[1m17/17\u001b[0m \u001b[32m━━━━━━━━━━━━━━━━━━━━\u001b[0m\u001b[37m\u001b[0m \u001b[1m2s\u001b[0m 92ms/step - loss: 0.0266 - val_loss: 0.0184\n",
      "Epoch 100/300\n",
      "\u001b[1m17/17\u001b[0m \u001b[32m━━━━━━━━━━━━━━━━━━━━\u001b[0m\u001b[37m\u001b[0m \u001b[1m2s\u001b[0m 94ms/step - loss: 0.0265 - val_loss: 0.0171\n",
      "Epoch 101/300\n",
      "\u001b[1m 5/17\u001b[0m \u001b[32m━━━━━\u001b[0m\u001b[37m━━━━━━━━━━━━━━━\u001b[0m \u001b[1m0s\u001b[0m 83ms/step - loss: 0.0255 "
     ]
    },
    {
     "name": "stderr",
     "output_type": "stream",
     "text": [
      "[codecarbon INFO @ 16:59:31] Energy consumed for RAM : 0.000270 kWh. RAM Power : 5.732982158660889 W\n",
      "[codecarbon INFO @ 16:59:31] Energy consumed for all CPUs : 0.002008 kWh. Total CPU Power : 42.5 W\n",
      "[codecarbon INFO @ 16:59:31] Energy consumed for all GPUs : 0.000264 kWh. Total GPU Power : 5.6340471254156705 W\n",
      "[codecarbon INFO @ 16:59:31] 0.002542 kWh of electricity used since the beginning.\n"
     ]
    },
    {
     "name": "stdout",
     "output_type": "stream",
     "text": [
      "\u001b[1m17/17\u001b[0m \u001b[32m━━━━━━━━━━━━━━━━━━━━\u001b[0m\u001b[37m\u001b[0m \u001b[1m2s\u001b[0m 92ms/step - loss: 0.0264 - val_loss: 0.0175\n",
      "Epoch 102/300\n",
      "\u001b[1m17/17\u001b[0m \u001b[32m━━━━━━━━━━━━━━━━━━━━\u001b[0m\u001b[37m\u001b[0m \u001b[1m2s\u001b[0m 97ms/step - loss: 0.0261 - val_loss: 0.0173\n",
      "Epoch 103/300\n",
      "\u001b[1m17/17\u001b[0m \u001b[32m━━━━━━━━━━━━━━━━━━━━\u001b[0m\u001b[37m\u001b[0m \u001b[1m2s\u001b[0m 99ms/step - loss: 0.0258 - val_loss: 0.0168\n",
      "Epoch 104/300\n",
      "\u001b[1m17/17\u001b[0m \u001b[32m━━━━━━━━━━━━━━━━━━━━\u001b[0m\u001b[37m\u001b[0m \u001b[1m2s\u001b[0m 102ms/step - loss: 0.0260 - val_loss: 0.0178\n",
      "Epoch 105/300\n",
      "\u001b[1m17/17\u001b[0m \u001b[32m━━━━━━━━━━━━━━━━━━━━\u001b[0m\u001b[37m\u001b[0m \u001b[1m2s\u001b[0m 98ms/step - loss: 0.0261 - val_loss: 0.0175\n",
      "Epoch 106/300\n",
      "\u001b[1m17/17\u001b[0m \u001b[32m━━━━━━━━━━━━━━━━━━━━\u001b[0m\u001b[37m\u001b[0m \u001b[1m2s\u001b[0m 94ms/step - loss: 0.0262 - val_loss: 0.0174\n",
      "Epoch 107/300\n",
      "\u001b[1m 5/17\u001b[0m \u001b[32m━━━━━\u001b[0m\u001b[37m━━━━━━━━━━━━━━━\u001b[0m \u001b[1m1s\u001b[0m 86ms/step - loss: 0.0257 "
     ]
    },
    {
     "name": "stderr",
     "output_type": "stream",
     "text": [
      "[codecarbon INFO @ 16:59:41] Energy consumed for RAM : 0.000286 kWh. RAM Power : 5.732982158660889 W\n",
      "[codecarbon INFO @ 16:59:41] Energy consumed for all CPUs : 0.002126 kWh. Total CPU Power : 42.5 W\n"
     ]
    },
    {
     "name": "stdout",
     "output_type": "stream",
     "text": [
      "\u001b[1m 6/17\u001b[0m \u001b[32m━━━━━━━\u001b[0m\u001b[37m━━━━━━━━━━━━━\u001b[0m \u001b[1m0s\u001b[0m 86ms/step - loss: 0.0258"
     ]
    },
    {
     "name": "stderr",
     "output_type": "stream",
     "text": [
      "[codecarbon INFO @ 16:59:41] Energy consumed for all GPUs : 0.000286 kWh. Total GPU Power : 8.246116309897774 W\n",
      "[codecarbon INFO @ 16:59:41] 0.002699 kWh of electricity used since the beginning.\n"
     ]
    },
    {
     "name": "stdout",
     "output_type": "stream",
     "text": [
      "\u001b[1m17/17\u001b[0m \u001b[32m━━━━━━━━━━━━━━━━━━━━\u001b[0m\u001b[37m\u001b[0m \u001b[1m2s\u001b[0m 94ms/step - loss: 0.0262 - val_loss: 0.0169\n",
      "Epoch 108/300\n",
      "\u001b[1m17/17\u001b[0m \u001b[32m━━━━━━━━━━━━━━━━━━━━\u001b[0m\u001b[37m\u001b[0m \u001b[1m2s\u001b[0m 93ms/step - loss: 0.0260 - val_loss: 0.0181\n",
      "Epoch 109/300\n",
      "\u001b[1m17/17\u001b[0m \u001b[32m━━━━━━━━━━━━━━━━━━━━\u001b[0m\u001b[37m\u001b[0m \u001b[1m2s\u001b[0m 94ms/step - loss: 0.0257 - val_loss: 0.0178\n",
      "Epoch 110/300\n",
      "\u001b[1m17/17\u001b[0m \u001b[32m━━━━━━━━━━━━━━━━━━━━\u001b[0m\u001b[37m\u001b[0m \u001b[1m2s\u001b[0m 93ms/step - loss: 0.0255 - val_loss: 0.0174\n",
      "Epoch 111/300\n",
      "\u001b[1m17/17\u001b[0m \u001b[32m━━━━━━━━━━━━━━━━━━━━\u001b[0m\u001b[37m\u001b[0m \u001b[1m2s\u001b[0m 93ms/step - loss: 0.0258 - val_loss: 0.0173\n",
      "Epoch 112/300\n",
      "\u001b[1m17/17\u001b[0m \u001b[32m━━━━━━━━━━━━━━━━━━━━\u001b[0m\u001b[37m\u001b[0m \u001b[1m2s\u001b[0m 97ms/step - loss: 0.0253 - val_loss: 0.0165\n",
      "Epoch 113/300\n",
      "\u001b[1m 8/17\u001b[0m \u001b[32m━━━━━━━━━\u001b[0m\u001b[37m━━━━━━━━━━━\u001b[0m \u001b[1m0s\u001b[0m 86ms/step - loss: 0.0245 "
     ]
    },
    {
     "name": "stderr",
     "output_type": "stream",
     "text": [
      "[codecarbon INFO @ 16:59:51] Energy consumed for RAM : 0.000301 kWh. RAM Power : 5.732982158660889 W\n",
      "[codecarbon INFO @ 16:59:51] Energy consumed for all CPUs : 0.002244 kWh. Total CPU Power : 42.5 W\n"
     ]
    },
    {
     "name": "stdout",
     "output_type": "stream",
     "text": [
      "\u001b[1m 9/17\u001b[0m \u001b[32m━━━━━━━━━━\u001b[0m\u001b[37m━━━━━━━━━━\u001b[0m \u001b[1m0s\u001b[0m 89ms/step - loss: 0.0245"
     ]
    },
    {
     "name": "stderr",
     "output_type": "stream",
     "text": [
      "[codecarbon INFO @ 16:59:51] Energy consumed for all GPUs : 0.000295 kWh. Total GPU Power : 3.224287964580007 W\n",
      "[codecarbon INFO @ 16:59:51] 0.002841 kWh of electricity used since the beginning.\n"
     ]
    },
    {
     "name": "stdout",
     "output_type": "stream",
     "text": [
      "\u001b[1m17/17\u001b[0m \u001b[32m━━━━━━━━━━━━━━━━━━━━\u001b[0m\u001b[37m\u001b[0m \u001b[1m2s\u001b[0m 96ms/step - loss: 0.0247 - val_loss: 0.0167\n",
      "Epoch 114/300\n",
      "\u001b[1m17/17\u001b[0m \u001b[32m━━━━━━━━━━━━━━━━━━━━\u001b[0m\u001b[37m\u001b[0m \u001b[1m2s\u001b[0m 101ms/step - loss: 0.0248 - val_loss: 0.0178\n",
      "Epoch 115/300\n",
      "\u001b[1m17/17\u001b[0m \u001b[32m━━━━━━━━━━━━━━━━━━━━\u001b[0m\u001b[37m\u001b[0m \u001b[1m2s\u001b[0m 99ms/step - loss: 0.0249 - val_loss: 0.0171\n",
      "Epoch 116/300\n",
      "\u001b[1m17/17\u001b[0m \u001b[32m━━━━━━━━━━━━━━━━━━━━\u001b[0m\u001b[37m\u001b[0m \u001b[1m2s\u001b[0m 94ms/step - loss: 0.0266 - val_loss: 0.0175\n",
      "Epoch 117/300\n",
      "\u001b[1m17/17\u001b[0m \u001b[32m━━━━━━━━━━━━━━━━━━━━\u001b[0m\u001b[37m\u001b[0m \u001b[1m2s\u001b[0m 93ms/step - loss: 0.0261 - val_loss: 0.0180\n",
      "Epoch 118/300\n",
      "\u001b[1m17/17\u001b[0m \u001b[32m━━━━━━━━━━━━━━━━━━━━\u001b[0m\u001b[37m\u001b[0m \u001b[1m2s\u001b[0m 95ms/step - loss: 0.0256 - val_loss: 0.0175\n",
      "Epoch 119/300\n",
      "\u001b[1m10/17\u001b[0m \u001b[32m━━━━━━━━━━━\u001b[0m\u001b[37m━━━━━━━━━\u001b[0m \u001b[1m0s\u001b[0m 86ms/step - loss: 0.0254 "
     ]
    },
    {
     "name": "stderr",
     "output_type": "stream",
     "text": [
      "[codecarbon INFO @ 17:00:01] Energy consumed for RAM : 0.000317 kWh. RAM Power : 5.732982158660889 W\n",
      "[codecarbon INFO @ 17:00:01] Energy consumed for all CPUs : 0.002363 kWh. Total CPU Power : 42.5 W\n",
      "[codecarbon INFO @ 17:00:01] Energy consumed for all GPUs : 0.000320 kWh. Total GPU Power : 8.797435784781104 W\n",
      "[codecarbon INFO @ 17:00:01] 0.003000 kWh of electricity used since the beginning.\n"
     ]
    },
    {
     "name": "stdout",
     "output_type": "stream",
     "text": [
      "\u001b[1m17/17\u001b[0m \u001b[32m━━━━━━━━━━━━━━━━━━━━\u001b[0m\u001b[37m\u001b[0m \u001b[1m2s\u001b[0m 96ms/step - loss: 0.0259 - val_loss: 0.0171\n",
      "Epoch 120/300\n",
      "\u001b[1m17/17\u001b[0m \u001b[32m━━━━━━━━━━━━━━━━━━━━\u001b[0m\u001b[37m\u001b[0m \u001b[1m2s\u001b[0m 94ms/step - loss: 0.0248 - val_loss: 0.0168\n",
      "Epoch 121/300\n",
      "\u001b[1m17/17\u001b[0m \u001b[32m━━━━━━━━━━━━━━━━━━━━\u001b[0m\u001b[37m\u001b[0m \u001b[1m2s\u001b[0m 96ms/step - loss: 0.0252 - val_loss: 0.0157\n",
      "Epoch 122/300\n",
      "\u001b[1m17/17\u001b[0m \u001b[32m━━━━━━━━━━━━━━━━━━━━\u001b[0m\u001b[37m\u001b[0m \u001b[1m2s\u001b[0m 95ms/step - loss: 0.0244 - val_loss: 0.0157\n",
      "Epoch 123/300\n",
      "\u001b[1m17/17\u001b[0m \u001b[32m━━━━━━━━━━━━━━━━━━━━\u001b[0m\u001b[37m\u001b[0m \u001b[1m2s\u001b[0m 97ms/step - loss: 0.0243 - val_loss: 0.0163\n",
      "Epoch 124/300\n",
      "\u001b[1m17/17\u001b[0m \u001b[32m━━━━━━━━━━━━━━━━━━━━\u001b[0m\u001b[37m\u001b[0m \u001b[1m2s\u001b[0m 94ms/step - loss: 0.0243 - val_loss: 0.0163\n",
      "Epoch 125/300\n",
      "\u001b[1m12/17\u001b[0m \u001b[32m━━━━━━━━━━━━━━\u001b[0m\u001b[37m━━━━━━\u001b[0m \u001b[1m0s\u001b[0m 85ms/step - loss: 0.0244 "
     ]
    },
    {
     "name": "stderr",
     "output_type": "stream",
     "text": [
      "[codecarbon INFO @ 17:00:11] Energy consumed for RAM : 0.000333 kWh. RAM Power : 5.732982158660889 W\n",
      "[codecarbon INFO @ 17:00:11] Energy consumed for all CPUs : 0.002481 kWh. Total CPU Power : 42.5 W\n",
      "[codecarbon INFO @ 17:00:11] Energy consumed for all GPUs : 0.000332 kWh. Total GPU Power : 4.397472587731964 W\n",
      "[codecarbon INFO @ 17:00:11] 0.003146 kWh of electricity used since the beginning.\n"
     ]
    },
    {
     "name": "stdout",
     "output_type": "stream",
     "text": [
      "\u001b[1m17/17\u001b[0m \u001b[32m━━━━━━━━━━━━━━━━━━━━\u001b[0m\u001b[37m\u001b[0m \u001b[1m2s\u001b[0m 94ms/step - loss: 0.0245 - val_loss: 0.0174\n",
      "Epoch 126/300\n",
      "\u001b[1m17/17\u001b[0m \u001b[32m━━━━━━━━━━━━━━━━━━━━\u001b[0m\u001b[37m\u001b[0m \u001b[1m2s\u001b[0m 93ms/step - loss: 0.0239 - val_loss: 0.0166\n",
      "Epoch 127/300\n",
      "\u001b[1m17/17\u001b[0m \u001b[32m━━━━━━━━━━━━━━━━━━━━\u001b[0m\u001b[37m\u001b[0m \u001b[1m2s\u001b[0m 95ms/step - loss: 0.0237 - val_loss: 0.0157\n",
      "Epoch 128/300\n",
      "\u001b[1m17/17\u001b[0m \u001b[32m━━━━━━━━━━━━━━━━━━━━\u001b[0m\u001b[37m\u001b[0m \u001b[1m2s\u001b[0m 95ms/step - loss: 0.0240 - val_loss: 0.0162\n",
      "Epoch 129/300\n",
      "\u001b[1m17/17\u001b[0m \u001b[32m━━━━━━━━━━━━━━━━━━━━\u001b[0m\u001b[37m\u001b[0m \u001b[1m2s\u001b[0m 94ms/step - loss: 0.0237 - val_loss: 0.0164\n",
      "Epoch 130/300\n",
      "\u001b[1m17/17\u001b[0m \u001b[32m━━━━━━━━━━━━━━━━━━━━\u001b[0m\u001b[37m\u001b[0m \u001b[1m2s\u001b[0m 94ms/step - loss: 0.0237 - val_loss: 0.0175\n",
      "Epoch 131/300\n",
      "\u001b[1m15/17\u001b[0m \u001b[32m━━━━━━━━━━━━━━━━━\u001b[0m\u001b[37m━━━\u001b[0m \u001b[1m0s\u001b[0m 86ms/step - loss: 0.0236 "
     ]
    },
    {
     "name": "stderr",
     "output_type": "stream",
     "text": [
      "[codecarbon INFO @ 17:00:21] Energy consumed for RAM : 0.000349 kWh. RAM Power : 5.732982158660889 W\n",
      "[codecarbon INFO @ 17:00:21] Energy consumed for all CPUs : 0.002599 kWh. Total CPU Power : 42.5 W\n"
     ]
    },
    {
     "name": "stdout",
     "output_type": "stream",
     "text": [
      "\u001b[1m16/17\u001b[0m \u001b[32m━━━━━━━━━━━━━━━━━━\u001b[0m\u001b[37m━━\u001b[0m \u001b[1m0s\u001b[0m 86ms/step - loss: 0.0236"
     ]
    },
    {
     "name": "stderr",
     "output_type": "stream",
     "text": [
      "[codecarbon INFO @ 17:00:21] Energy consumed for all GPUs : 0.000346 kWh. Total GPU Power : 5.09153922671825 W\n",
      "[codecarbon INFO @ 17:00:21] 0.003294 kWh of electricity used since the beginning.\n"
     ]
    },
    {
     "name": "stdout",
     "output_type": "stream",
     "text": [
      "\u001b[1m17/17\u001b[0m \u001b[32m━━━━━━━━━━━━━━━━━━━━\u001b[0m\u001b[37m\u001b[0m \u001b[1m2s\u001b[0m 95ms/step - loss: 0.0236 - val_loss: 0.0168\n",
      "Epoch 132/300\n",
      "\u001b[1m17/17\u001b[0m \u001b[32m━━━━━━━━━━━━━━━━━━━━\u001b[0m\u001b[37m\u001b[0m \u001b[1m2s\u001b[0m 96ms/step - loss: 0.0235 - val_loss: 0.0156\n",
      "Epoch 133/300\n",
      "\u001b[1m17/17\u001b[0m \u001b[32m━━━━━━━━━━━━━━━━━━━━\u001b[0m\u001b[37m\u001b[0m \u001b[1m2s\u001b[0m 96ms/step - loss: 0.0237 - val_loss: 0.0156\n",
      "Epoch 134/300\n",
      "\u001b[1m17/17\u001b[0m \u001b[32m━━━━━━━━━━━━━━━━━━━━\u001b[0m\u001b[37m\u001b[0m \u001b[1m2s\u001b[0m 95ms/step - loss: 0.0230 - val_loss: 0.0153\n",
      "Epoch 135/300\n",
      "\u001b[1m17/17\u001b[0m \u001b[32m━━━━━━━━━━━━━━━━━━━━\u001b[0m\u001b[37m\u001b[0m \u001b[1m2s\u001b[0m 96ms/step - loss: 0.0226 - val_loss: 0.0163\n",
      "Epoch 136/300\n",
      "\u001b[1m17/17\u001b[0m \u001b[32m━━━━━━━━━━━━━━━━━━━━\u001b[0m\u001b[37m\u001b[0m \u001b[1m2s\u001b[0m 99ms/step - loss: 0.0224 - val_loss: 0.0161\n",
      "Epoch 137/300\n",
      "\u001b[1m16/17\u001b[0m \u001b[32m━━━━━━━━━━━━━━━━━━\u001b[0m\u001b[37m━━\u001b[0m \u001b[1m0s\u001b[0m 87ms/step - loss: 0.0230 "
     ]
    },
    {
     "name": "stderr",
     "output_type": "stream",
     "text": [
      "[codecarbon INFO @ 17:00:31] Energy consumed for RAM : 0.000365 kWh. RAM Power : 5.732982158660889 W\n",
      "[codecarbon INFO @ 17:00:31] Energy consumed for all CPUs : 0.002717 kWh. Total CPU Power : 42.5 W\n",
      "[codecarbon INFO @ 17:00:31] Energy consumed for all GPUs : 0.000364 kWh. Total GPU Power : 6.555004045997083 W\n",
      "[codecarbon INFO @ 17:00:31] 0.003446 kWh of electricity used since the beginning.\n"
     ]
    },
    {
     "name": "stdout",
     "output_type": "stream",
     "text": [
      "\u001b[1m17/17\u001b[0m \u001b[32m━━━━━━━━━━━━━━━━━━━━\u001b[0m\u001b[37m\u001b[0m \u001b[1m2s\u001b[0m 95ms/step - loss: 0.0230 - val_loss: 0.0158\n",
      "Epoch 138/300\n",
      "\u001b[1m17/17\u001b[0m \u001b[32m━━━━━━━━━━━━━━━━━━━━\u001b[0m\u001b[37m\u001b[0m \u001b[1m2s\u001b[0m 104ms/step - loss: 0.0233 - val_loss: 0.0148\n",
      "Epoch 139/300\n",
      "\u001b[1m17/17\u001b[0m \u001b[32m━━━━━━━━━━━━━━━━━━━━\u001b[0m\u001b[37m\u001b[0m \u001b[1m2s\u001b[0m 103ms/step - loss: 0.0232 - val_loss: 0.0153\n",
      "Epoch 140/300\n",
      "\u001b[1m17/17\u001b[0m \u001b[32m━━━━━━━━━━━━━━━━━━━━\u001b[0m\u001b[37m\u001b[0m \u001b[1m2s\u001b[0m 99ms/step - loss: 0.0228 - val_loss: 0.0163\n",
      "Epoch 141/300\n",
      "\u001b[1m17/17\u001b[0m \u001b[32m━━━━━━━━━━━━━━━━━━━━\u001b[0m\u001b[37m\u001b[0m \u001b[1m2s\u001b[0m 99ms/step - loss: 0.0227 - val_loss: 0.0150\n",
      "Epoch 142/300\n",
      "\u001b[1m17/17\u001b[0m \u001b[32m━━━━━━━━━━━━━━━━━━━━\u001b[0m\u001b[37m\u001b[0m \u001b[1m2s\u001b[0m 97ms/step - loss: 0.0218 - val_loss: 0.0153\n",
      "Epoch 143/300\n",
      "\u001b[1m13/17\u001b[0m \u001b[32m━━━━━━━━━━━━━━━\u001b[0m\u001b[37m━━━━━\u001b[0m \u001b[1m0s\u001b[0m 88ms/step - loss: 0.0217 "
     ]
    },
    {
     "name": "stderr",
     "output_type": "stream",
     "text": [
      "[codecarbon INFO @ 17:00:41] Energy consumed for RAM : 0.000381 kWh. RAM Power : 5.732982158660889 W\n",
      "[codecarbon INFO @ 17:00:41] Energy consumed for all CPUs : 0.002835 kWh. Total CPU Power : 42.5 W\n"
     ]
    },
    {
     "name": "stdout",
     "output_type": "stream",
     "text": [
      "\u001b[1m14/17\u001b[0m \u001b[32m━━━━━━━━━━━━━━━━\u001b[0m\u001b[37m━━━━\u001b[0m \u001b[1m0s\u001b[0m 88ms/step - loss: 0.0217"
     ]
    },
    {
     "name": "stderr",
     "output_type": "stream",
     "text": [
      "[codecarbon INFO @ 17:00:41] Energy consumed for all GPUs : 0.000385 kWh. Total GPU Power : 7.550045610608795 W\n",
      "[codecarbon INFO @ 17:00:41] 0.003601 kWh of electricity used since the beginning.\n"
     ]
    },
    {
     "name": "stdout",
     "output_type": "stream",
     "text": [
      "\u001b[1m15/17\u001b[0m \u001b[32m━━━━━━━━━━━━━━━━━\u001b[0m\u001b[37m━━━\u001b[0m \u001b[1m0s\u001b[0m 87ms/step - loss: 0.0218"
     ]
    },
    {
     "name": "stderr",
     "output_type": "stream",
     "text": [
      "[codecarbon INFO @ 17:00:42] 0.000392 g.CO2eq/s mean an estimation of 12.359794064918816 kg.CO2eq/year\n"
     ]
    },
    {
     "name": "stdout",
     "output_type": "stream",
     "text": [
      "\u001b[1m17/17\u001b[0m \u001b[32m━━━━━━━━━━━━━━━━━━━━\u001b[0m\u001b[37m\u001b[0m \u001b[1m2s\u001b[0m 96ms/step - loss: 0.0218 - val_loss: 0.0157\n",
      "Epoch 144/300\n",
      "\u001b[1m17/17\u001b[0m \u001b[32m━━━━━━━━━━━━━━━━━━━━\u001b[0m\u001b[37m\u001b[0m \u001b[1m2s\u001b[0m 94ms/step - loss: 0.0219 - val_loss: 0.0150\n",
      "Epoch 145/300\n",
      "\u001b[1m17/17\u001b[0m \u001b[32m━━━━━━━━━━━━━━━━━━━━\u001b[0m\u001b[37m\u001b[0m \u001b[1m2s\u001b[0m 94ms/step - loss: 0.0215 - val_loss: 0.0167\n",
      "Epoch 146/300\n",
      "\u001b[1m17/17\u001b[0m \u001b[32m━━━━━━━━━━━━━━━━━━━━\u001b[0m\u001b[37m\u001b[0m \u001b[1m2s\u001b[0m 94ms/step - loss: 0.0223 - val_loss: 0.0163\n",
      "Epoch 147/300\n",
      "\u001b[1m17/17\u001b[0m \u001b[32m━━━━━━━━━━━━━━━━━━━━\u001b[0m\u001b[37m\u001b[0m \u001b[1m2s\u001b[0m 95ms/step - loss: 0.0219 - val_loss: 0.0146\n",
      "Epoch 148/300\n",
      "\u001b[1m17/17\u001b[0m \u001b[32m━━━━━━━━━━━━━━━━━━━━\u001b[0m\u001b[37m\u001b[0m \u001b[1m2s\u001b[0m 94ms/step - loss: 0.0212 - val_loss: 0.0154\n",
      "Epoch 149/300\n",
      "\u001b[1m16/17\u001b[0m \u001b[32m━━━━━━━━━━━━━━━━━━\u001b[0m\u001b[37m━━\u001b[0m \u001b[1m0s\u001b[0m 85ms/step - loss: 0.0213 "
     ]
    },
    {
     "name": "stderr",
     "output_type": "stream",
     "text": [
      "[codecarbon INFO @ 17:00:51] Energy consumed for RAM : 0.000397 kWh. RAM Power : 5.732982158660889 W\n",
      "[codecarbon INFO @ 17:00:51] Energy consumed for all CPUs : 0.002953 kWh. Total CPU Power : 42.5 W\n"
     ]
    },
    {
     "name": "stdout",
     "output_type": "stream",
     "text": [
      "\u001b[1m17/17\u001b[0m \u001b[32m━━━━━━━━━━━━━━━━━━━━\u001b[0m\u001b[37m\u001b[0m \u001b[1m0s\u001b[0m 87ms/step - loss: 0.0213"
     ]
    },
    {
     "name": "stderr",
     "output_type": "stream",
     "text": [
      "[codecarbon INFO @ 17:00:51] Energy consumed for all GPUs : 0.000408 kWh. Total GPU Power : 8.16093709080643 W\n",
      "[codecarbon INFO @ 17:00:51] 0.003758 kWh of electricity used since the beginning.\n"
     ]
    },
    {
     "name": "stdout",
     "output_type": "stream",
     "text": [
      "\u001b[1m17/17\u001b[0m \u001b[32m━━━━━━━━━━━━━━━━━━━━\u001b[0m\u001b[37m\u001b[0m \u001b[1m2s\u001b[0m 95ms/step - loss: 0.0213 - val_loss: 0.0147\n",
      "Epoch 150/300\n",
      "\u001b[1m17/17\u001b[0m \u001b[32m━━━━━━━━━━━━━━━━━━━━\u001b[0m\u001b[37m\u001b[0m \u001b[1m2s\u001b[0m 94ms/step - loss: 0.0216 - val_loss: 0.0151\n",
      "Epoch 151/300\n",
      "\u001b[1m17/17\u001b[0m \u001b[32m━━━━━━━━━━━━━━━━━━━━\u001b[0m\u001b[37m\u001b[0m \u001b[1m2s\u001b[0m 95ms/step - loss: 0.0222 - val_loss: 0.0157\n",
      "Epoch 152/300\n",
      "\u001b[1m17/17\u001b[0m \u001b[32m━━━━━━━━━━━━━━━━━━━━\u001b[0m\u001b[37m\u001b[0m \u001b[1m2s\u001b[0m 98ms/step - loss: 0.0215 - val_loss: 0.0141\n",
      "Epoch 153/300\n",
      "\u001b[1m17/17\u001b[0m \u001b[32m━━━━━━━━━━━━━━━━━━━━\u001b[0m\u001b[37m\u001b[0m \u001b[1m2s\u001b[0m 96ms/step - loss: 0.0220 - val_loss: 0.0144\n",
      "Epoch 154/300\n",
      "\u001b[1m17/17\u001b[0m \u001b[32m━━━━━━━━━━━━━━━━━━━━\u001b[0m\u001b[37m\u001b[0m \u001b[1m2s\u001b[0m 103ms/step - loss: 0.0211 - val_loss: 0.0143\n",
      "Epoch 155/300\n",
      "\u001b[1m16/17\u001b[0m \u001b[32m━━━━━━━━━━━━━━━━━━\u001b[0m\u001b[37m━━\u001b[0m \u001b[1m0s\u001b[0m 92ms/step - loss: 0.0205 "
     ]
    },
    {
     "name": "stderr",
     "output_type": "stream",
     "text": [
      "[codecarbon INFO @ 17:01:01] Energy consumed for RAM : 0.000412 kWh. RAM Power : 5.732982158660889 W\n",
      "[codecarbon INFO @ 17:01:01] Energy consumed for all CPUs : 0.003072 kWh. Total CPU Power : 42.5 W\n",
      "[codecarbon INFO @ 17:01:01] Energy consumed for all GPUs : 0.000428 kWh. Total GPU Power : 7.271903429443414 W\n",
      "[codecarbon INFO @ 17:01:01] 0.003912 kWh of electricity used since the beginning.\n"
     ]
    },
    {
     "name": "stdout",
     "output_type": "stream",
     "text": [
      "\u001b[1m17/17\u001b[0m \u001b[32m━━━━━━━━━━━━━━━━━━━━\u001b[0m\u001b[37m\u001b[0m \u001b[1m2s\u001b[0m 100ms/step - loss: 0.0205 - val_loss: 0.0148\n",
      "Epoch 156/300\n",
      "\u001b[1m17/17\u001b[0m \u001b[32m━━━━━━━━━━━━━━━━━━━━\u001b[0m\u001b[37m\u001b[0m \u001b[1m2s\u001b[0m 97ms/step - loss: 0.0205 - val_loss: 0.0145\n",
      "Epoch 157/300\n",
      "\u001b[1m17/17\u001b[0m \u001b[32m━━━━━━━━━━━━━━━━━━━━\u001b[0m\u001b[37m\u001b[0m \u001b[1m2s\u001b[0m 93ms/step - loss: 0.0206 - val_loss: 0.0148\n",
      "Epoch 158/300\n",
      "\u001b[1m17/17\u001b[0m \u001b[32m━━━━━━━━━━━━━━━━━━━━\u001b[0m\u001b[37m\u001b[0m \u001b[1m2s\u001b[0m 93ms/step - loss: 0.0210 - val_loss: 0.0174\n",
      "Epoch 159/300\n",
      "\u001b[1m17/17\u001b[0m \u001b[32m━━━━━━━━━━━━━━━━━━━━\u001b[0m\u001b[37m\u001b[0m \u001b[1m2s\u001b[0m 95ms/step - loss: 0.0219 - val_loss: 0.0144\n",
      "Epoch 160/300\n",
      "\u001b[1m17/17\u001b[0m \u001b[32m━━━━━━━━━━━━━━━━━━━━\u001b[0m\u001b[37m\u001b[0m \u001b[1m2s\u001b[0m 93ms/step - loss: 0.0223 - val_loss: 0.0154\n",
      "Epoch 161/300\n",
      "\u001b[1m17/17\u001b[0m \u001b[32m━━━━━━━━━━━━━━━━━━━━\u001b[0m\u001b[37m\u001b[0m \u001b[1m2s\u001b[0m 96ms/step - loss: 0.0205 - val_loss: 0.0141\n",
      "Epoch 162/300\n"
     ]
    },
    {
     "name": "stderr",
     "output_type": "stream",
     "text": [
      "[codecarbon INFO @ 17:01:11] Energy consumed for RAM : 0.000428 kWh. RAM Power : 5.732982158660889 W\n",
      "[codecarbon INFO @ 17:01:11] Energy consumed for all CPUs : 0.003190 kWh. Total CPU Power : 42.5 W\n",
      "[codecarbon INFO @ 17:01:11] Energy consumed for all GPUs : 0.000440 kWh. Total GPU Power : 4.280102367486578 W\n",
      "[codecarbon INFO @ 17:01:11] 0.004058 kWh of electricity used since the beginning.\n"
     ]
    },
    {
     "name": "stdout",
     "output_type": "stream",
     "text": [
      "\u001b[1m17/17\u001b[0m \u001b[32m━━━━━━━━━━━━━━━━━━━━\u001b[0m\u001b[37m\u001b[0m \u001b[1m2s\u001b[0m 96ms/step - loss: 0.0198 - val_loss: 0.0140\n",
      "Epoch 163/300\n",
      "\u001b[1m17/17\u001b[0m \u001b[32m━━━━━━━━━━━━━━━━━━━━\u001b[0m\u001b[37m\u001b[0m \u001b[1m2s\u001b[0m 93ms/step - loss: 0.0196 - val_loss: 0.0145\n",
      "Epoch 164/300\n",
      "\u001b[1m17/17\u001b[0m \u001b[32m━━━━━━━━━━━━━━━━━━━━\u001b[0m\u001b[37m\u001b[0m \u001b[1m2s\u001b[0m 94ms/step - loss: 0.0197 - val_loss: 0.0145\n",
      "Epoch 165/300\n",
      "\u001b[1m17/17\u001b[0m \u001b[32m━━━━━━━━━━━━━━━━━━━━\u001b[0m\u001b[37m\u001b[0m \u001b[1m2s\u001b[0m 98ms/step - loss: 0.0196 - val_loss: 0.0139\n",
      "Epoch 166/300\n",
      "\u001b[1m17/17\u001b[0m \u001b[32m━━━━━━━━━━━━━━━━━━━━\u001b[0m\u001b[37m\u001b[0m \u001b[1m2s\u001b[0m 93ms/step - loss: 0.0198 - val_loss: 0.0141\n",
      "Epoch 167/300\n",
      "\u001b[1m17/17\u001b[0m \u001b[32m━━━━━━━━━━━━━━━━━━━━\u001b[0m\u001b[37m\u001b[0m \u001b[1m2s\u001b[0m 93ms/step - loss: 0.0195 - val_loss: 0.0148\n",
      "Epoch 168/300\n",
      "\u001b[1m 3/17\u001b[0m \u001b[32m━━━\u001b[0m\u001b[37m━━━━━━━━━━━━━━━━━\u001b[0m \u001b[1m1s\u001b[0m 86ms/step - loss: 0.0191 "
     ]
    },
    {
     "name": "stderr",
     "output_type": "stream",
     "text": [
      "[codecarbon INFO @ 17:01:21] Energy consumed for RAM : 0.000444 kWh. RAM Power : 5.732982158660889 W\n",
      "[codecarbon INFO @ 17:01:21] Energy consumed for all CPUs : 0.003308 kWh. Total CPU Power : 42.5 W\n",
      "[codecarbon INFO @ 17:01:21] Energy consumed for all GPUs : 0.000449 kWh. Total GPU Power : 3.2104844495587908 W\n",
      "[codecarbon INFO @ 17:01:21] 0.004201 kWh of electricity used since the beginning.\n"
     ]
    },
    {
     "name": "stdout",
     "output_type": "stream",
     "text": [
      "\u001b[1m17/17\u001b[0m \u001b[32m━━━━━━━━━━━━━━━━━━━━\u001b[0m\u001b[37m\u001b[0m \u001b[1m2s\u001b[0m 94ms/step - loss: 0.0197 - val_loss: 0.0154\n",
      "Epoch 169/300\n",
      "\u001b[1m17/17\u001b[0m \u001b[32m━━━━━━━━━━━━━━━━━━━━\u001b[0m\u001b[37m\u001b[0m \u001b[1m2s\u001b[0m 96ms/step - loss: 0.0197 - val_loss: 0.0135\n",
      "Epoch 170/300\n",
      "\u001b[1m17/17\u001b[0m \u001b[32m━━━━━━━━━━━━━━━━━━━━\u001b[0m\u001b[37m\u001b[0m \u001b[1m2s\u001b[0m 93ms/step - loss: 0.0207 - val_loss: 0.0154\n",
      "Epoch 171/300\n",
      "\u001b[1m17/17\u001b[0m \u001b[32m━━━━━━━━━━━━━━━━━━━━\u001b[0m\u001b[37m\u001b[0m \u001b[1m2s\u001b[0m 100ms/step - loss: 0.0195 - val_loss: 0.0141\n",
      "Epoch 172/300\n",
      "\u001b[1m17/17\u001b[0m \u001b[32m━━━━━━━━━━━━━━━━━━━━\u001b[0m\u001b[37m\u001b[0m \u001b[1m2s\u001b[0m 95ms/step - loss: 0.0206 - val_loss: 0.0145\n",
      "Epoch 173/300\n",
      "\u001b[1m17/17\u001b[0m \u001b[32m━━━━━━━━━━━━━━━━━━━━\u001b[0m\u001b[37m\u001b[0m \u001b[1m2s\u001b[0m 94ms/step - loss: 0.0199 - val_loss: 0.0135\n",
      "Epoch 174/300\n",
      "\u001b[1m 5/17\u001b[0m \u001b[32m━━━━━\u001b[0m\u001b[37m━━━━━━━━━━━━━━━\u001b[0m \u001b[1m1s\u001b[0m 84ms/step - loss: 0.0194 "
     ]
    },
    {
     "name": "stderr",
     "output_type": "stream",
     "text": [
      "[codecarbon INFO @ 17:01:31] Energy consumed for RAM : 0.000460 kWh. RAM Power : 5.732982158660889 W\n",
      "[codecarbon INFO @ 17:01:31] Energy consumed for all CPUs : 0.003426 kWh. Total CPU Power : 42.5 W\n",
      "[codecarbon INFO @ 17:01:31] Energy consumed for all GPUs : 0.000461 kWh. Total GPU Power : 4.155301928231982 W\n",
      "[codecarbon INFO @ 17:01:31] 0.004347 kWh of electricity used since the beginning.\n"
     ]
    },
    {
     "name": "stdout",
     "output_type": "stream",
     "text": [
      "\u001b[1m17/17\u001b[0m \u001b[32m━━━━━━━━━━━━━━━━━━━━\u001b[0m\u001b[37m\u001b[0m \u001b[1m2s\u001b[0m 100ms/step - loss: 0.0195 - val_loss: 0.0130\n",
      "Epoch 175/300\n",
      "\u001b[1m17/17\u001b[0m \u001b[32m━━━━━━━━━━━━━━━━━━━━\u001b[0m\u001b[37m\u001b[0m \u001b[1m2s\u001b[0m 103ms/step - loss: 0.0190 - val_loss: 0.0137\n",
      "Epoch 176/300\n",
      "\u001b[1m17/17\u001b[0m \u001b[32m━━━━━━━━━━━━━━━━━━━━\u001b[0m\u001b[37m\u001b[0m \u001b[1m2s\u001b[0m 103ms/step - loss: 0.0190 - val_loss: 0.0142\n",
      "Epoch 177/300\n",
      "\u001b[1m17/17\u001b[0m \u001b[32m━━━━━━━━━━━━━━━━━━━━\u001b[0m\u001b[37m\u001b[0m \u001b[1m2s\u001b[0m 101ms/step - loss: 0.0195 - val_loss: 0.0148\n",
      "Epoch 178/300\n",
      "\u001b[1m17/17\u001b[0m \u001b[32m━━━━━━━━━━━━━━━━━━━━\u001b[0m\u001b[37m\u001b[0m \u001b[1m2s\u001b[0m 101ms/step - loss: 0.0193 - val_loss: 0.0134\n",
      "Epoch 179/300\n",
      "\u001b[1m17/17\u001b[0m \u001b[32m━━━━━━━━━━━━━━━━━━━━\u001b[0m\u001b[37m\u001b[0m \u001b[1m2s\u001b[0m 96ms/step - loss: 0.0186 - val_loss: 0.0136\n",
      "Epoch 180/300\n"
     ]
    },
    {
     "name": "stderr",
     "output_type": "stream",
     "text": [
      "[codecarbon INFO @ 17:01:41] Energy consumed for RAM : 0.000476 kWh. RAM Power : 5.732982158660889 W\n",
      "[codecarbon INFO @ 17:01:41] Energy consumed for all CPUs : 0.003543 kWh. Total CPU Power : 42.5 W\n"
     ]
    },
    {
     "name": "stdout",
     "output_type": "stream",
     "text": [
      "\u001b[1m 1/17\u001b[0m \u001b[32m━\u001b[0m\u001b[37m━━━━━━━━━━━━━━━━━━━\u001b[0m \u001b[1m2s\u001b[0m 127ms/step - loss: 0.0191"
     ]
    },
    {
     "name": "stderr",
     "output_type": "stream",
     "text": [
      "[codecarbon INFO @ 17:01:41] Energy consumed for all GPUs : 0.000481 kWh. Total GPU Power : 7.4479753502277335 W\n",
      "[codecarbon INFO @ 17:01:41] 0.004501 kWh of electricity used since the beginning.\n"
     ]
    },
    {
     "name": "stdout",
     "output_type": "stream",
     "text": [
      "\u001b[1m17/17\u001b[0m \u001b[32m━━━━━━━━━━━━━━━━━━━━\u001b[0m\u001b[37m\u001b[0m \u001b[1m2s\u001b[0m 96ms/step - loss: 0.0192 - val_loss: 0.0135\n",
      "Epoch 181/300\n",
      "\u001b[1m17/17\u001b[0m \u001b[32m━━━━━━━━━━━━━━━━━━━━\u001b[0m\u001b[37m\u001b[0m \u001b[1m2s\u001b[0m 95ms/step - loss: 0.0193 - val_loss: 0.0139\n",
      "Epoch 182/300\n",
      "\u001b[1m17/17\u001b[0m \u001b[32m━━━━━━━━━━━━━━━━━━━━\u001b[0m\u001b[37m\u001b[0m \u001b[1m2s\u001b[0m 96ms/step - loss: 0.0186 - val_loss: 0.0135\n",
      "Epoch 183/300\n",
      "\u001b[1m17/17\u001b[0m \u001b[32m━━━━━━━━━━━━━━━━━━━━\u001b[0m\u001b[37m\u001b[0m \u001b[1m2s\u001b[0m 94ms/step - loss: 0.0186 - val_loss: 0.0137\n",
      "Epoch 184/300\n",
      "\u001b[1m17/17\u001b[0m \u001b[32m━━━━━━━━━━━━━━━━━━━━\u001b[0m\u001b[37m\u001b[0m \u001b[1m2s\u001b[0m 98ms/step - loss: 0.0181 - val_loss: 0.0133\n",
      "Epoch 185/300\n",
      "\u001b[1m17/17\u001b[0m \u001b[32m━━━━━━━━━━━━━━━━━━━━\u001b[0m\u001b[37m\u001b[0m \u001b[1m2s\u001b[0m 105ms/step - loss: 0.0172 - val_loss: 0.0127\n",
      "Epoch 186/300\n"
     ]
    },
    {
     "name": "stderr",
     "output_type": "stream",
     "text": [
      "[codecarbon INFO @ 17:01:51] Energy consumed for RAM : 0.000492 kWh. RAM Power : 5.732982158660889 W\n",
      "[codecarbon INFO @ 17:01:51] Energy consumed for all CPUs : 0.003662 kWh. Total CPU Power : 42.5 W\n"
     ]
    },
    {
     "name": "stdout",
     "output_type": "stream",
     "text": [
      "\u001b[1m 1/17\u001b[0m \u001b[32m━\u001b[0m\u001b[37m━━━━━━━━━━━━━━━━━━━\u001b[0m \u001b[1m2s\u001b[0m 145ms/step - loss: 0.0175"
     ]
    },
    {
     "name": "stderr",
     "output_type": "stream",
     "text": [
      "[codecarbon INFO @ 17:01:51] Energy consumed for all GPUs : 0.000498 kWh. Total GPU Power : 5.894573042906534 W\n",
      "[codecarbon INFO @ 17:01:51] 0.004651 kWh of electricity used since the beginning.\n"
     ]
    },
    {
     "name": "stdout",
     "output_type": "stream",
     "text": [
      "\u001b[1m17/17\u001b[0m \u001b[32m━━━━━━━━━━━━━━━━━━━━\u001b[0m\u001b[37m\u001b[0m \u001b[1m2s\u001b[0m 103ms/step - loss: 0.0176 - val_loss: 0.0128\n",
      "Epoch 187/300\n",
      "\u001b[1m17/17\u001b[0m \u001b[32m━━━━━━━━━━━━━━━━━━━━\u001b[0m\u001b[37m\u001b[0m \u001b[1m2s\u001b[0m 96ms/step - loss: 0.0172 - val_loss: 0.0129\n",
      "Epoch 188/300\n",
      "\u001b[1m17/17\u001b[0m \u001b[32m━━━━━━━━━━━━━━━━━━━━\u001b[0m\u001b[37m\u001b[0m \u001b[1m2s\u001b[0m 96ms/step - loss: 0.0170 - val_loss: 0.0131\n",
      "Epoch 189/300\n",
      "\u001b[1m17/17\u001b[0m \u001b[32m━━━━━━━━━━━━━━━━━━━━\u001b[0m\u001b[37m\u001b[0m \u001b[1m2s\u001b[0m 93ms/step - loss: 0.0172 - val_loss: 0.0136\n",
      "Epoch 190/300\n",
      "\u001b[1m17/17\u001b[0m \u001b[32m━━━━━━━━━━━━━━━━━━━━\u001b[0m\u001b[37m\u001b[0m \u001b[1m2s\u001b[0m 95ms/step - loss: 0.0184 - val_loss: 0.0134\n",
      "Epoch 191/300\n",
      "\u001b[1m17/17\u001b[0m \u001b[32m━━━━━━━━━━━━━━━━━━━━\u001b[0m\u001b[37m\u001b[0m \u001b[1m2s\u001b[0m 94ms/step - loss: 0.0180 - val_loss: 0.0133\n",
      "Epoch 192/300\n",
      "\u001b[1m 1/17\u001b[0m \u001b[32m━\u001b[0m\u001b[37m━━━━━━━━━━━━━━━━━━━\u001b[0m \u001b[1m1s\u001b[0m 110ms/step - loss: 0.0194"
     ]
    },
    {
     "name": "stderr",
     "output_type": "stream",
     "text": [
      "[codecarbon INFO @ 17:02:01] Energy consumed for RAM : 0.000508 kWh. RAM Power : 5.732982158660889 W\n",
      "[codecarbon INFO @ 17:02:01] Energy consumed for all CPUs : 0.003780 kWh. Total CPU Power : 42.5 W\n"
     ]
    },
    {
     "name": "stdout",
     "output_type": "stream",
     "text": [
      "\u001b[1m 2/17\u001b[0m \u001b[32m━━\u001b[0m\u001b[37m━━━━━━━━━━━━━━━━━━\u001b[0m \u001b[1m1s\u001b[0m 95ms/step - loss: 0.0184 "
     ]
    },
    {
     "name": "stderr",
     "output_type": "stream",
     "text": [
      "[codecarbon INFO @ 17:02:01] Energy consumed for all GPUs : 0.000518 kWh. Total GPU Power : 7.195600825969112 W\n",
      "[codecarbon INFO @ 17:02:01] 0.004805 kWh of electricity used since the beginning.\n"
     ]
    },
    {
     "name": "stdout",
     "output_type": "stream",
     "text": [
      "\u001b[1m 3/17\u001b[0m \u001b[32m━━━\u001b[0m\u001b[37m━━━━━━━━━━━━━━━━━\u001b[0m \u001b[1m1s\u001b[0m 95ms/step - loss: 0.0182"
     ]
    },
    {
     "name": "stderr",
     "output_type": "stream",
     "text": [
      "[codecarbon INFO @ 17:02:02] 0.000331 g.CO2eq/s mean an estimation of 10.431867851037865 kg.CO2eq/year\n"
     ]
    },
    {
     "name": "stdout",
     "output_type": "stream",
     "text": [
      "\u001b[1m17/17\u001b[0m \u001b[32m━━━━━━━━━━━━━━━━━━━━\u001b[0m\u001b[37m\u001b[0m \u001b[1m2s\u001b[0m 94ms/step - loss: 0.0182 - val_loss: 0.0129\n",
      "Epoch 193/300\n",
      "\u001b[1m17/17\u001b[0m \u001b[32m━━━━━━━━━━━━━━━━━━━━\u001b[0m\u001b[37m\u001b[0m \u001b[1m2s\u001b[0m 96ms/step - loss: 0.0176 - val_loss: 0.0123\n",
      "Epoch 194/300\n",
      "\u001b[1m17/17\u001b[0m \u001b[32m━━━━━━━━━━━━━━━━━━━━\u001b[0m\u001b[37m\u001b[0m \u001b[1m2s\u001b[0m 95ms/step - loss: 0.0165 - val_loss: 0.0120\n",
      "Epoch 195/300\n",
      "\u001b[1m17/17\u001b[0m \u001b[32m━━━━━━━━━━━━━━━━━━━━\u001b[0m\u001b[37m\u001b[0m \u001b[1m2s\u001b[0m 96ms/step - loss: 0.0168 - val_loss: 0.0119\n",
      "Epoch 196/300\n",
      "\u001b[1m17/17\u001b[0m \u001b[32m━━━━━━━━━━━━━━━━━━━━\u001b[0m\u001b[37m\u001b[0m \u001b[1m2s\u001b[0m 94ms/step - loss: 0.0167 - val_loss: 0.0123\n",
      "Epoch 197/300\n",
      "\u001b[1m17/17\u001b[0m \u001b[32m━━━━━━━━━━━━━━━━━━━━\u001b[0m\u001b[37m\u001b[0m \u001b[1m2s\u001b[0m 93ms/step - loss: 0.0171 - val_loss: 0.0122\n",
      "Epoch 198/300\n",
      "\u001b[1m 4/17\u001b[0m \u001b[32m━━━━\u001b[0m\u001b[37m━━━━━━━━━━━━━━━━\u001b[0m \u001b[1m1s\u001b[0m 84ms/step - loss: 0.0168 "
     ]
    },
    {
     "name": "stderr",
     "output_type": "stream",
     "text": [
      "[codecarbon INFO @ 17:02:11] Energy consumed for RAM : 0.000523 kWh. RAM Power : 5.732982158660889 W\n",
      "[codecarbon INFO @ 17:02:11] Energy consumed for all CPUs : 0.003898 kWh. Total CPU Power : 42.5 W\n"
     ]
    },
    {
     "name": "stdout",
     "output_type": "stream",
     "text": [
      "\u001b[1m 5/17\u001b[0m \u001b[32m━━━━━\u001b[0m\u001b[37m━━━━━━━━━━━━━━━\u001b[0m \u001b[1m1s\u001b[0m 87ms/step - loss: 0.0169"
     ]
    },
    {
     "name": "stderr",
     "output_type": "stream",
     "text": [
      "[codecarbon INFO @ 17:02:11] Energy consumed for all GPUs : 0.000537 kWh. Total GPU Power : 7.066371143076636 W\n",
      "[codecarbon INFO @ 17:02:11] 0.004959 kWh of electricity used since the beginning.\n"
     ]
    },
    {
     "name": "stdout",
     "output_type": "stream",
     "text": [
      "\u001b[1m17/17\u001b[0m \u001b[32m━━━━━━━━━━━━━━━━━━━━\u001b[0m\u001b[37m\u001b[0m \u001b[1m2s\u001b[0m 94ms/step - loss: 0.0173 - val_loss: 0.0119\n",
      "Epoch 199/300\n",
      "\u001b[1m17/17\u001b[0m \u001b[32m━━━━━━━━━━━━━━━━━━━━\u001b[0m\u001b[37m\u001b[0m \u001b[1m2s\u001b[0m 94ms/step - loss: 0.0166 - val_loss: 0.0128\n",
      "Epoch 200/300\n",
      "\u001b[1m17/17\u001b[0m \u001b[32m━━━━━━━━━━━━━━━━━━━━\u001b[0m\u001b[37m\u001b[0m \u001b[1m2s\u001b[0m 93ms/step - loss: 0.0165 - val_loss: 0.0124\n",
      "Epoch 201/300\n",
      "\u001b[1m17/17\u001b[0m \u001b[32m━━━━━━━━━━━━━━━━━━━━\u001b[0m\u001b[37m\u001b[0m \u001b[1m2s\u001b[0m 93ms/step - loss: 0.0168 - val_loss: 0.0135\n",
      "Epoch 202/300\n",
      "\u001b[1m17/17\u001b[0m \u001b[32m━━━━━━━━━━━━━━━━━━━━\u001b[0m\u001b[37m\u001b[0m \u001b[1m2s\u001b[0m 94ms/step - loss: 0.0170 - val_loss: 0.0143\n",
      "Epoch 203/300\n",
      "\u001b[1m17/17\u001b[0m \u001b[32m━━━━━━━━━━━━━━━━━━━━\u001b[0m\u001b[37m\u001b[0m \u001b[1m2s\u001b[0m 95ms/step - loss: 0.0167 - val_loss: 0.0130\n",
      "Epoch 204/300\n",
      "\u001b[1m 8/17\u001b[0m \u001b[32m━━━━━━━━━\u001b[0m\u001b[37m━━━━━━━━━━━\u001b[0m \u001b[1m0s\u001b[0m 86ms/step - loss: 0.0175 "
     ]
    },
    {
     "name": "stderr",
     "output_type": "stream",
     "text": [
      "[codecarbon INFO @ 17:02:21] Energy consumed for RAM : 0.000539 kWh. RAM Power : 5.732982158660889 W\n",
      "[codecarbon INFO @ 17:02:21] Energy consumed for all CPUs : 0.004016 kWh. Total CPU Power : 42.5 W\n",
      "[codecarbon INFO @ 17:02:21] Energy consumed for all GPUs : 0.000561 kWh. Total GPU Power : 8.62248311614037 W\n",
      "[codecarbon INFO @ 17:02:21] 0.005117 kWh of electricity used since the beginning.\n"
     ]
    },
    {
     "name": "stdout",
     "output_type": "stream",
     "text": [
      "\u001b[1m17/17\u001b[0m \u001b[32m━━━━━━━━━━━━━━━━━━━━\u001b[0m\u001b[37m\u001b[0m \u001b[1m2s\u001b[0m 94ms/step - loss: 0.0176 - val_loss: 0.0142\n",
      "Epoch 205/300\n",
      "\u001b[1m17/17\u001b[0m \u001b[32m━━━━━━━━━━━━━━━━━━━━\u001b[0m\u001b[37m\u001b[0m \u001b[1m2s\u001b[0m 94ms/step - loss: 0.0165 - val_loss: 0.0125\n",
      "Epoch 206/300\n",
      "\u001b[1m17/17\u001b[0m \u001b[32m━━━━━━━━━━━━━━━━━━━━\u001b[0m\u001b[37m\u001b[0m \u001b[1m2s\u001b[0m 95ms/step - loss: 0.0162 - val_loss: 0.0125\n",
      "Epoch 207/300\n",
      "\u001b[1m17/17\u001b[0m \u001b[32m━━━━━━━━━━━━━━━━━━━━\u001b[0m\u001b[37m\u001b[0m \u001b[1m2s\u001b[0m 94ms/step - loss: 0.0167 - val_loss: 0.0128\n",
      "Epoch 208/300\n",
      "\u001b[1m17/17\u001b[0m \u001b[32m━━━━━━━━━━━━━━━━━━━━\u001b[0m\u001b[37m\u001b[0m \u001b[1m2s\u001b[0m 94ms/step - loss: 0.0165 - val_loss: 0.0120\n",
      "Epoch 209/300\n",
      "\u001b[1m17/17\u001b[0m \u001b[32m━━━━━━━━━━━━━━━━━━━━\u001b[0m\u001b[37m\u001b[0m \u001b[1m2s\u001b[0m 94ms/step - loss: 0.0162 - val_loss: 0.0135\n",
      "Epoch 210/300\n",
      "\u001b[1m11/17\u001b[0m \u001b[32m━━━━━━━━━━━━\u001b[0m\u001b[37m━━━━━━━━\u001b[0m \u001b[1m0s\u001b[0m 89ms/step - loss: 0.0169 "
     ]
    },
    {
     "name": "stderr",
     "output_type": "stream",
     "text": [
      "[codecarbon INFO @ 17:02:31] Energy consumed for RAM : 0.000555 kWh. RAM Power : 5.732982158660889 W\n",
      "[codecarbon INFO @ 17:02:32] Energy consumed for all CPUs : 0.004134 kWh. Total CPU Power : 42.5 W\n",
      "[codecarbon INFO @ 17:02:32] Energy consumed for all GPUs : 0.000573 kWh. Total GPU Power : 4.021864684625874 W\n",
      "[codecarbon INFO @ 17:02:32] 0.005262 kWh of electricity used since the beginning.\n"
     ]
    },
    {
     "name": "stdout",
     "output_type": "stream",
     "text": [
      "\u001b[1m17/17\u001b[0m \u001b[32m━━━━━━━━━━━━━━━━━━━━\u001b[0m\u001b[37m\u001b[0m \u001b[1m2s\u001b[0m 96ms/step - loss: 0.0171 - val_loss: 0.0139\n",
      "Epoch 211/300\n",
      "\u001b[1m17/17\u001b[0m \u001b[32m━━━━━━━━━━━━━━━━━━━━\u001b[0m\u001b[37m\u001b[0m \u001b[1m2s\u001b[0m 93ms/step - loss: 0.0172 - val_loss: 0.0139\n",
      "Epoch 212/300\n",
      "\u001b[1m17/17\u001b[0m \u001b[32m━━━━━━━━━━━━━━━━━━━━\u001b[0m\u001b[37m\u001b[0m \u001b[1m2s\u001b[0m 94ms/step - loss: 0.0169 - val_loss: 0.0123\n",
      "Epoch 213/300\n",
      "\u001b[1m17/17\u001b[0m \u001b[32m━━━━━━━━━━━━━━━━━━━━\u001b[0m\u001b[37m\u001b[0m \u001b[1m2s\u001b[0m 94ms/step - loss: 0.0162 - val_loss: 0.0121\n",
      "Epoch 214/300\n",
      "\u001b[1m17/17\u001b[0m \u001b[32m━━━━━━━━━━━━━━━━━━━━\u001b[0m\u001b[37m\u001b[0m \u001b[1m2s\u001b[0m 93ms/step - loss: 0.0156 - val_loss: 0.0124\n",
      "Epoch 215/300\n",
      "\u001b[1m17/17\u001b[0m \u001b[32m━━━━━━━━━━━━━━━━━━━━\u001b[0m\u001b[37m\u001b[0m \u001b[1m2s\u001b[0m 98ms/step - loss: 0.0159 - val_loss: 0.0116\n",
      "Epoch 216/300\n",
      "\u001b[1m14/17\u001b[0m \u001b[32m━━━━━━━━━━━━━━━━\u001b[0m\u001b[37m━━━━\u001b[0m \u001b[1m0s\u001b[0m 85ms/step - loss: 0.0154 "
     ]
    },
    {
     "name": "stderr",
     "output_type": "stream",
     "text": [
      "[codecarbon INFO @ 17:02:41] Energy consumed for RAM : 0.000571 kWh. RAM Power : 5.732982158660889 W\n"
     ]
    },
    {
     "name": "stdout",
     "output_type": "stream",
     "text": [
      "\u001b[1m15/17\u001b[0m \u001b[32m━━━━━━━━━━━━━━━━━\u001b[0m\u001b[37m━━━\u001b[0m \u001b[1m0s\u001b[0m 86ms/step - loss: 0.0154"
     ]
    },
    {
     "name": "stderr",
     "output_type": "stream",
     "text": [
      "[codecarbon INFO @ 17:02:42] Energy consumed for all CPUs : 0.004252 kWh. Total CPU Power : 42.5 W\n",
      "[codecarbon INFO @ 17:02:42] Energy consumed for all GPUs : 0.000586 kWh. Total GPU Power : 4.837754279053425 W\n",
      "[codecarbon INFO @ 17:02:42] 0.005410 kWh of electricity used since the beginning.\n"
     ]
    },
    {
     "name": "stdout",
     "output_type": "stream",
     "text": [
      "\u001b[1m17/17\u001b[0m \u001b[32m━━━━━━━━━━━━━━━━━━━━\u001b[0m\u001b[37m\u001b[0m \u001b[1m2s\u001b[0m 94ms/step - loss: 0.0154 - val_loss: 0.0118\n",
      "Epoch 217/300\n",
      "\u001b[1m17/17\u001b[0m \u001b[32m━━━━━━━━━━━━━━━━━━━━\u001b[0m\u001b[37m\u001b[0m \u001b[1m2s\u001b[0m 96ms/step - loss: 0.0148 - val_loss: 0.0112\n",
      "Epoch 218/300\n",
      "\u001b[1m17/17\u001b[0m \u001b[32m━━━━━━━━━━━━━━━━━━━━\u001b[0m\u001b[37m\u001b[0m \u001b[1m2s\u001b[0m 94ms/step - loss: 0.0144 - val_loss: 0.0114\n",
      "Epoch 219/300\n",
      "\u001b[1m17/17\u001b[0m \u001b[32m━━━━━━━━━━━━━━━━━━━━\u001b[0m\u001b[37m\u001b[0m \u001b[1m2s\u001b[0m 93ms/step - loss: 0.0143 - val_loss: 0.0117\n",
      "Epoch 220/300\n",
      "\u001b[1m17/17\u001b[0m \u001b[32m━━━━━━━━━━━━━━━━━━━━\u001b[0m\u001b[37m\u001b[0m \u001b[1m2s\u001b[0m 95ms/step - loss: 0.0148 - val_loss: 0.0118\n",
      "Epoch 221/300\n",
      "\u001b[1m17/17\u001b[0m \u001b[32m━━━━━━━━━━━━━━━━━━━━\u001b[0m\u001b[37m\u001b[0m \u001b[1m2s\u001b[0m 96ms/step - loss: 0.0151 - val_loss: 0.0117\n",
      "Epoch 222/300\n",
      "\u001b[1m16/17\u001b[0m \u001b[32m━━━━━━━━━━━━━━━━━━\u001b[0m\u001b[37m━━\u001b[0m \u001b[1m0s\u001b[0m 86ms/step - loss: 0.0148 "
     ]
    },
    {
     "name": "stderr",
     "output_type": "stream",
     "text": [
      "[codecarbon INFO @ 17:02:51] Energy consumed for RAM : 0.000587 kWh. RAM Power : 5.732982158660889 W\n",
      "[codecarbon INFO @ 17:02:51] Energy consumed for all CPUs : 0.004370 kWh. Total CPU Power : 42.5 W\n"
     ]
    },
    {
     "name": "stdout",
     "output_type": "stream",
     "text": [
      "\u001b[1m17/17\u001b[0m \u001b[32m━━━━━━━━━━━━━━━━━━━━\u001b[0m\u001b[37m\u001b[0m \u001b[1m0s\u001b[0m 87ms/step - loss: 0.0148"
     ]
    },
    {
     "name": "stderr",
     "output_type": "stream",
     "text": [
      "[codecarbon INFO @ 17:02:51] Energy consumed for all GPUs : 0.000601 kWh. Total GPU Power : 5.4444275442023615 W\n",
      "[codecarbon INFO @ 17:02:51] 0.005558 kWh of electricity used since the beginning.\n"
     ]
    },
    {
     "name": "stdout",
     "output_type": "stream",
     "text": [
      "\u001b[1m17/17\u001b[0m \u001b[32m━━━━━━━━━━━━━━━━━━━━\u001b[0m\u001b[37m\u001b[0m \u001b[1m2s\u001b[0m 95ms/step - loss: 0.0148 - val_loss: 0.0121\n",
      "Epoch 223/300\n",
      "\u001b[1m17/17\u001b[0m \u001b[32m━━━━━━━━━━━━━━━━━━━━\u001b[0m\u001b[37m\u001b[0m \u001b[1m2s\u001b[0m 93ms/step - loss: 0.0148 - val_loss: 0.0118\n",
      "Epoch 224/300\n",
      "\u001b[1m17/17\u001b[0m \u001b[32m━━━━━━━━━━━━━━━━━━━━\u001b[0m\u001b[37m\u001b[0m \u001b[1m2s\u001b[0m 95ms/step - loss: 0.0145 - val_loss: 0.0114\n",
      "Epoch 225/300\n",
      "\u001b[1m17/17\u001b[0m \u001b[32m━━━━━━━━━━━━━━━━━━━━\u001b[0m\u001b[37m\u001b[0m \u001b[1m2s\u001b[0m 94ms/step - loss: 0.0146 - val_loss: 0.0116\n",
      "Epoch 226/300\n",
      "\u001b[1m17/17\u001b[0m \u001b[32m━━━━━━━━━━━━━━━━━━━━\u001b[0m\u001b[37m\u001b[0m \u001b[1m2s\u001b[0m 94ms/step - loss: 0.0144 - val_loss: 0.0116\n",
      "Epoch 227/300\n",
      "\u001b[1m17/17\u001b[0m \u001b[32m━━━━━━━━━━━━━━━━━━━━\u001b[0m\u001b[37m\u001b[0m \u001b[1m2s\u001b[0m 94ms/step - loss: 0.0142 - val_loss: 0.0116\n",
      "Epoch 228/300\n",
      "\u001b[1m17/17\u001b[0m \u001b[32m━━━━━━━━━━━━━━━━━━━━\u001b[0m\u001b[37m\u001b[0m \u001b[1m2s\u001b[0m 103ms/step - loss: 0.0143 - val_loss: 0.0114\n",
      "Epoch 229/300\n"
     ]
    },
    {
     "name": "stderr",
     "output_type": "stream",
     "text": [
      "[codecarbon INFO @ 17:03:01] Energy consumed for RAM : 0.000603 kWh. RAM Power : 5.732982158660889 W\n",
      "[codecarbon INFO @ 17:03:01] Energy consumed for all CPUs : 0.004488 kWh. Total CPU Power : 42.5 W\n",
      "[codecarbon INFO @ 17:03:02] Energy consumed for all GPUs : 0.000613 kWh. Total GPU Power : 4.295499310820436 W\n",
      "[codecarbon INFO @ 17:03:02] 0.005704 kWh of electricity used since the beginning.\n"
     ]
    },
    {
     "name": "stdout",
     "output_type": "stream",
     "text": [
      "\u001b[1m17/17\u001b[0m \u001b[32m━━━━━━━━━━━━━━━━━━━━\u001b[0m\u001b[37m\u001b[0m \u001b[1m2s\u001b[0m 94ms/step - loss: 0.0148 - val_loss: 0.0118\n",
      "Epoch 230/300\n",
      "\u001b[1m17/17\u001b[0m \u001b[32m━━━━━━━━━━━━━━━━━━━━\u001b[0m\u001b[37m\u001b[0m \u001b[1m2s\u001b[0m 95ms/step - loss: 0.0157 - val_loss: 0.0121\n",
      "Epoch 231/300\n",
      "\u001b[1m17/17\u001b[0m \u001b[32m━━━━━━━━━━━━━━━━━━━━\u001b[0m\u001b[37m\u001b[0m \u001b[1m2s\u001b[0m 94ms/step - loss: 0.0145 - val_loss: 0.0117\n",
      "Epoch 232/300\n",
      "\u001b[1m17/17\u001b[0m \u001b[32m━━━━━━━━━━━━━━━━━━━━\u001b[0m\u001b[37m\u001b[0m \u001b[1m2s\u001b[0m 96ms/step - loss: 0.0140 - val_loss: 0.0111\n",
      "Epoch 233/300\n",
      "\u001b[1m17/17\u001b[0m \u001b[32m━━━━━━━━━━━━━━━━━━━━\u001b[0m\u001b[37m\u001b[0m \u001b[1m2s\u001b[0m 95ms/step - loss: 0.0139 - val_loss: 0.0115\n",
      "Epoch 234/300\n",
      "\u001b[1m17/17\u001b[0m \u001b[32m━━━━━━━━━━━━━━━━━━━━\u001b[0m\u001b[37m\u001b[0m \u001b[1m2s\u001b[0m 93ms/step - loss: 0.0136 - val_loss: 0.0122\n",
      "Epoch 235/300\n",
      "\u001b[1m 2/17\u001b[0m \u001b[32m━━\u001b[0m\u001b[37m━━━━━━━━━━━━━━━━━━\u001b[0m \u001b[1m1s\u001b[0m 85ms/step - loss: 0.0136 "
     ]
    },
    {
     "name": "stderr",
     "output_type": "stream",
     "text": [
      "[codecarbon INFO @ 17:03:12] Energy consumed for RAM : 0.000619 kWh. RAM Power : 5.732982158660889 W\n",
      "[codecarbon INFO @ 17:03:12] Energy consumed for all CPUs : 0.004607 kWh. Total CPU Power : 42.5 W\n"
     ]
    },
    {
     "name": "stdout",
     "output_type": "stream",
     "text": [
      "\u001b[1m 3/17\u001b[0m \u001b[32m━━━\u001b[0m\u001b[37m━━━━━━━━━━━━━━━━━\u001b[0m \u001b[1m1s\u001b[0m 87ms/step - loss: 0.0136"
     ]
    },
    {
     "name": "stderr",
     "output_type": "stream",
     "text": [
      "[codecarbon INFO @ 17:03:12] Energy consumed for all GPUs : 0.000627 kWh. Total GPU Power : 4.950154385093071 W\n",
      "[codecarbon INFO @ 17:03:12] 0.005852 kWh of electricity used since the beginning.\n"
     ]
    },
    {
     "name": "stdout",
     "output_type": "stream",
     "text": [
      "\u001b[1m17/17\u001b[0m \u001b[32m━━━━━━━━━━━━━━━━━━━━\u001b[0m\u001b[37m\u001b[0m \u001b[1m2s\u001b[0m 95ms/step - loss: 0.0141 - val_loss: 0.0106\n",
      "Epoch 236/300\n",
      "\u001b[1m17/17\u001b[0m \u001b[32m━━━━━━━━━━━━━━━━━━━━\u001b[0m\u001b[37m\u001b[0m \u001b[1m2s\u001b[0m 94ms/step - loss: 0.0137 - val_loss: 0.0114\n",
      "Epoch 237/300\n",
      "\u001b[1m17/17\u001b[0m \u001b[32m━━━━━━━━━━━━━━━━━━━━\u001b[0m\u001b[37m\u001b[0m \u001b[1m2s\u001b[0m 93ms/step - loss: 0.0129 - val_loss: 0.0111\n",
      "Epoch 238/300\n",
      "\u001b[1m17/17\u001b[0m \u001b[32m━━━━━━━━━━━━━━━━━━━━\u001b[0m\u001b[37m\u001b[0m \u001b[1m2s\u001b[0m 95ms/step - loss: 0.0131 - val_loss: 0.0114\n",
      "Epoch 239/300\n",
      "\u001b[1m17/17\u001b[0m \u001b[32m━━━━━━━━━━━━━━━━━━━━\u001b[0m\u001b[37m\u001b[0m \u001b[1m2s\u001b[0m 100ms/step - loss: 0.0135 - val_loss: 0.0111\n",
      "Epoch 240/300\n",
      "\u001b[1m17/17\u001b[0m \u001b[32m━━━━━━━━━━━━━━━━━━━━\u001b[0m\u001b[37m\u001b[0m \u001b[1m2s\u001b[0m 95ms/step - loss: 0.0132 - val_loss: 0.0110\n",
      "Epoch 241/300\n",
      "\u001b[1m 4/17\u001b[0m \u001b[32m━━━━\u001b[0m\u001b[37m━━━━━━━━━━━━━━━━\u001b[0m \u001b[1m1s\u001b[0m 84ms/step - loss: 0.0125 "
     ]
    },
    {
     "name": "stderr",
     "output_type": "stream",
     "text": [
      "[codecarbon INFO @ 17:03:22] Energy consumed for RAM : 0.000635 kWh. RAM Power : 5.732982158660889 W\n",
      "[codecarbon INFO @ 17:03:22] Energy consumed for all CPUs : 0.004725 kWh. Total CPU Power : 42.5 W\n",
      "[codecarbon INFO @ 17:03:22] Energy consumed for all GPUs : 0.000649 kWh. Total GPU Power : 7.96109261215382 W\n",
      "[codecarbon INFO @ 17:03:22] 0.006009 kWh of electricity used since the beginning.\n"
     ]
    },
    {
     "name": "stdout",
     "output_type": "stream",
     "text": [
      "\u001b[1m 7/17\u001b[0m \u001b[32m━━━━━━━━\u001b[0m\u001b[37m━━━━━━━━━━━━\u001b[0m \u001b[1m0s\u001b[0m 87ms/step - loss: 0.0128"
     ]
    },
    {
     "name": "stderr",
     "output_type": "stream",
     "text": [
      "[codecarbon INFO @ 17:03:22] 0.000330 g.CO2eq/s mean an estimation of 10.422631323924548 kg.CO2eq/year\n"
     ]
    },
    {
     "name": "stdout",
     "output_type": "stream",
     "text": [
      "\u001b[1m17/17\u001b[0m \u001b[32m━━━━━━━━━━━━━━━━━━━━\u001b[0m\u001b[37m\u001b[0m \u001b[1m2s\u001b[0m 95ms/step - loss: 0.0130 - val_loss: 0.0109\n",
      "Epoch 242/300\n",
      "\u001b[1m17/17\u001b[0m \u001b[32m━━━━━━━━━━━━━━━━━━━━\u001b[0m\u001b[37m\u001b[0m \u001b[1m2s\u001b[0m 95ms/step - loss: 0.0131 - val_loss: 0.0115\n",
      "Epoch 243/300\n",
      "\u001b[1m17/17\u001b[0m \u001b[32m━━━━━━━━━━━━━━━━━━━━\u001b[0m\u001b[37m\u001b[0m \u001b[1m2s\u001b[0m 95ms/step - loss: 0.0135 - val_loss: 0.0109\n",
      "Epoch 244/300\n",
      "\u001b[1m17/17\u001b[0m \u001b[32m━━━━━━━━━━━━━━━━━━━━\u001b[0m\u001b[37m\u001b[0m \u001b[1m2s\u001b[0m 100ms/step - loss: 0.0133 - val_loss: 0.0111\n",
      "Epoch 245/300\n",
      "\u001b[1m17/17\u001b[0m \u001b[32m━━━━━━━━━━━━━━━━━━━━\u001b[0m\u001b[37m\u001b[0m \u001b[1m2s\u001b[0m 92ms/step - loss: 0.0137 - val_loss: 0.0112\n",
      "Epoch 246/300\n",
      "\u001b[1m17/17\u001b[0m \u001b[32m━━━━━━━━━━━━━━━━━━━━\u001b[0m\u001b[37m\u001b[0m \u001b[1m2s\u001b[0m 97ms/step - loss: 0.0134 - val_loss: 0.0105\n",
      "Epoch 247/300\n",
      "\u001b[1m 6/17\u001b[0m \u001b[32m━━━━━━━\u001b[0m\u001b[37m━━━━━━━━━━━━━\u001b[0m \u001b[1m0s\u001b[0m 85ms/step - loss: 0.0124 "
     ]
    },
    {
     "name": "stderr",
     "output_type": "stream",
     "text": [
      "[codecarbon INFO @ 17:03:32] Energy consumed for RAM : 0.000650 kWh. RAM Power : 5.732982158660889 W\n",
      "[codecarbon INFO @ 17:03:32] Energy consumed for all CPUs : 0.004843 kWh. Total CPU Power : 42.5 W\n",
      "[codecarbon INFO @ 17:03:32] Energy consumed for all GPUs : 0.000659 kWh. Total GPU Power : 3.593878882390336 W\n",
      "[codecarbon INFO @ 17:03:32] 0.006153 kWh of electricity used since the beginning.\n"
     ]
    },
    {
     "name": "stdout",
     "output_type": "stream",
     "text": [
      "\u001b[1m17/17\u001b[0m \u001b[32m━━━━━━━━━━━━━━━━━━━━\u001b[0m\u001b[37m\u001b[0m \u001b[1m2s\u001b[0m 95ms/step - loss: 0.0129 - val_loss: 0.0105\n",
      "Epoch 248/300\n",
      "\u001b[1m17/17\u001b[0m \u001b[32m━━━━━━━━━━━━━━━━━━━━\u001b[0m\u001b[37m\u001b[0m \u001b[1m2s\u001b[0m 94ms/step - loss: 0.0133 - val_loss: 0.0115\n",
      "Epoch 249/300\n",
      "\u001b[1m17/17\u001b[0m \u001b[32m━━━━━━━━━━━━━━━━━━━━\u001b[0m\u001b[37m\u001b[0m \u001b[1m2s\u001b[0m 95ms/step - loss: 0.0135 - val_loss: 0.0108\n",
      "Epoch 250/300\n",
      "\u001b[1m17/17\u001b[0m \u001b[32m━━━━━━━━━━━━━━━━━━━━\u001b[0m\u001b[37m\u001b[0m \u001b[1m2s\u001b[0m 95ms/step - loss: 0.0129 - val_loss: 0.0111\n",
      "Epoch 251/300\n",
      "\u001b[1m17/17\u001b[0m \u001b[32m━━━━━━━━━━━━━━━━━━━━\u001b[0m\u001b[37m\u001b[0m \u001b[1m2s\u001b[0m 93ms/step - loss: 0.0129 - val_loss: 0.0119\n",
      "Epoch 252/300\n",
      "\u001b[1m17/17\u001b[0m \u001b[32m━━━━━━━━━━━━━━━━━━━━\u001b[0m\u001b[37m\u001b[0m \u001b[1m2s\u001b[0m 95ms/step - loss: 0.0132 - val_loss: 0.0110\n",
      "Epoch 253/300\n",
      "\u001b[1m 9/17\u001b[0m \u001b[32m━━━━━━━━━━\u001b[0m\u001b[37m━━━━━━━━━━\u001b[0m \u001b[1m0s\u001b[0m 87ms/step - loss: 0.0125 "
     ]
    },
    {
     "name": "stderr",
     "output_type": "stream",
     "text": [
      "[codecarbon INFO @ 17:03:42] Energy consumed for RAM : 0.000666 kWh. RAM Power : 5.732982158660889 W\n",
      "[codecarbon INFO @ 17:03:42] Energy consumed for all CPUs : 0.004961 kWh. Total CPU Power : 42.5 W\n",
      "[codecarbon INFO @ 17:03:42] Energy consumed for all GPUs : 0.000670 kWh. Total GPU Power : 3.8699637941972673 W\n",
      "[codecarbon INFO @ 17:03:42] 0.006297 kWh of electricity used since the beginning.\n"
     ]
    },
    {
     "name": "stdout",
     "output_type": "stream",
     "text": [
      "\u001b[1m17/17\u001b[0m \u001b[32m━━━━━━━━━━━━━━━━━━━━\u001b[0m\u001b[37m\u001b[0m \u001b[1m2s\u001b[0m 96ms/step - loss: 0.0126 - val_loss: 0.0114\n",
      "Epoch 254/300\n",
      "\u001b[1m17/17\u001b[0m \u001b[32m━━━━━━━━━━━━━━━━━━━━\u001b[0m\u001b[37m\u001b[0m \u001b[1m2s\u001b[0m 95ms/step - loss: 0.0130 - val_loss: 0.0110\n",
      "Epoch 255/300\n",
      "\u001b[1m17/17\u001b[0m \u001b[32m━━━━━━━━━━━━━━━━━━━━\u001b[0m\u001b[37m\u001b[0m \u001b[1m2s\u001b[0m 96ms/step - loss: 0.0122 - val_loss: 0.0104\n",
      "Epoch 256/300\n",
      "\u001b[1m17/17\u001b[0m \u001b[32m━━━━━━━━━━━━━━━━━━━━\u001b[0m\u001b[37m\u001b[0m \u001b[1m2s\u001b[0m 97ms/step - loss: 0.0123 - val_loss: 0.0101\n",
      "Epoch 257/300\n",
      "\u001b[1m17/17\u001b[0m \u001b[32m━━━━━━━━━━━━━━━━━━━━\u001b[0m\u001b[37m\u001b[0m \u001b[1m2s\u001b[0m 93ms/step - loss: 0.0122 - val_loss: 0.0114\n",
      "Epoch 258/300\n",
      "\u001b[1m17/17\u001b[0m \u001b[32m━━━━━━━━━━━━━━━━━━━━\u001b[0m\u001b[37m\u001b[0m \u001b[1m2s\u001b[0m 94ms/step - loss: 0.0120 - val_loss: 0.0102\n",
      "Epoch 259/300\n",
      "\u001b[1m11/17\u001b[0m \u001b[32m━━━━━━━━━━━━\u001b[0m\u001b[37m━━━━━━━━\u001b[0m \u001b[1m0s\u001b[0m 85ms/step - loss: 0.0127 "
     ]
    },
    {
     "name": "stderr",
     "output_type": "stream",
     "text": [
      "[codecarbon INFO @ 17:03:52] Energy consumed for RAM : 0.000682 kWh. RAM Power : 5.732982158660889 W\n",
      "[codecarbon INFO @ 17:03:52] Energy consumed for all CPUs : 0.005079 kWh. Total CPU Power : 42.5 W\n"
     ]
    },
    {
     "name": "stdout",
     "output_type": "stream",
     "text": [
      "\u001b[1m12/17\u001b[0m \u001b[32m━━━━━━━━━━━━━━\u001b[0m\u001b[37m━━━━━━\u001b[0m \u001b[1m0s\u001b[0m 86ms/step - loss: 0.0127"
     ]
    },
    {
     "name": "stderr",
     "output_type": "stream",
     "text": [
      "[codecarbon INFO @ 17:03:52] Energy consumed for all GPUs : 0.000685 kWh. Total GPU Power : 5.489641187689002 W\n",
      "[codecarbon INFO @ 17:03:52] 0.006446 kWh of electricity used since the beginning.\n"
     ]
    },
    {
     "name": "stdout",
     "output_type": "stream",
     "text": [
      "\u001b[1m17/17\u001b[0m \u001b[32m━━━━━━━━━━━━━━━━━━━━\u001b[0m\u001b[37m\u001b[0m \u001b[1m2s\u001b[0m 96ms/step - loss: 0.0128 - val_loss: 0.0104\n",
      "Epoch 260/300\n",
      "\u001b[1m17/17\u001b[0m \u001b[32m━━━━━━━━━━━━━━━━━━━━\u001b[0m\u001b[37m\u001b[0m \u001b[1m2s\u001b[0m 98ms/step - loss: 0.0123 - val_loss: 0.0143\n",
      "Epoch 261/300\n",
      "\u001b[1m17/17\u001b[0m \u001b[32m━━━━━━━━━━━━━━━━━━━━\u001b[0m\u001b[37m\u001b[0m \u001b[1m2s\u001b[0m 94ms/step - loss: 0.0145 - val_loss: 0.0108\n",
      "Epoch 262/300\n",
      "\u001b[1m17/17\u001b[0m \u001b[32m━━━━━━━━━━━━━━━━━━━━\u001b[0m\u001b[37m\u001b[0m \u001b[1m2s\u001b[0m 92ms/step - loss: 0.0135 - val_loss: 0.0104\n",
      "Epoch 263/300\n",
      "\u001b[1m17/17\u001b[0m \u001b[32m━━━━━━━━━━━━━━━━━━━━\u001b[0m\u001b[37m\u001b[0m \u001b[1m2s\u001b[0m 93ms/step - loss: 0.0132 - val_loss: 0.0105\n",
      "Epoch 264/300\n",
      "\u001b[1m17/17\u001b[0m \u001b[32m━━━━━━━━━━━━━━━━━━━━\u001b[0m\u001b[37m\u001b[0m \u001b[1m2s\u001b[0m 95ms/step - loss: 0.0133 - val_loss: 0.0110\n",
      "Epoch 265/300\n",
      "\u001b[1m13/17\u001b[0m \u001b[32m━━━━━━━━━━━━━━━\u001b[0m\u001b[37m━━━━━\u001b[0m \u001b[1m0s\u001b[0m 90ms/step - loss: 0.0133 "
     ]
    },
    {
     "name": "stderr",
     "output_type": "stream",
     "text": [
      "[codecarbon INFO @ 17:04:02] Energy consumed for RAM : 0.000698 kWh. RAM Power : 5.732982158660889 W\n",
      "[codecarbon INFO @ 17:04:02] Energy consumed for all CPUs : 0.005197 kWh. Total CPU Power : 42.5 W\n"
     ]
    },
    {
     "name": "stdout",
     "output_type": "stream",
     "text": [
      "\u001b[1m14/17\u001b[0m \u001b[32m━━━━━━━━━━━━━━━━\u001b[0m\u001b[37m━━━━\u001b[0m \u001b[1m0s\u001b[0m 91ms/step - loss: 0.0133"
     ]
    },
    {
     "name": "stderr",
     "output_type": "stream",
     "text": [
      "[codecarbon INFO @ 17:04:02] Energy consumed for all GPUs : 0.000697 kWh. Total GPU Power : 4.29273760944625 W\n",
      "[codecarbon INFO @ 17:04:02] 0.006592 kWh of electricity used since the beginning.\n"
     ]
    },
    {
     "name": "stdout",
     "output_type": "stream",
     "text": [
      "\u001b[1m17/17\u001b[0m \u001b[32m━━━━━━━━━━━━━━━━━━━━\u001b[0m\u001b[37m\u001b[0m \u001b[1m2s\u001b[0m 98ms/step - loss: 0.0133 - val_loss: 0.0116\n",
      "Epoch 266/300\n",
      "\u001b[1m17/17\u001b[0m \u001b[32m━━━━━━━━━━━━━━━━━━━━\u001b[0m\u001b[37m\u001b[0m \u001b[1m2s\u001b[0m 94ms/step - loss: 0.0129 - val_loss: 0.0106\n",
      "Epoch 267/300\n",
      "\u001b[1m17/17\u001b[0m \u001b[32m━━━━━━━━━━━━━━━━━━━━\u001b[0m\u001b[37m\u001b[0m \u001b[1m2s\u001b[0m 92ms/step - loss: 0.0123 - val_loss: 0.0104\n",
      "Epoch 268/300\n",
      "\u001b[1m17/17\u001b[0m \u001b[32m━━━━━━━━━━━━━━━━━━━━\u001b[0m\u001b[37m\u001b[0m \u001b[1m2s\u001b[0m 93ms/step - loss: 0.0121 - val_loss: 0.0101\n",
      "Epoch 269/300\n",
      "\u001b[1m17/17\u001b[0m \u001b[32m━━━━━━━━━━━━━━━━━━━━\u001b[0m\u001b[37m\u001b[0m \u001b[1m2s\u001b[0m 94ms/step - loss: 0.0118 - val_loss: 0.0099\n",
      "Epoch 270/300\n",
      "\u001b[1m17/17\u001b[0m \u001b[32m━━━━━━━━━━━━━━━━━━━━\u001b[0m\u001b[37m\u001b[0m \u001b[1m2s\u001b[0m 95ms/step - loss: 0.0117 - val_loss: 0.0100\n",
      "Epoch 271/300\n",
      "\u001b[1m17/17\u001b[0m \u001b[32m━━━━━━━━━━━━━━━━━━━━\u001b[0m\u001b[37m\u001b[0m \u001b[1m0s\u001b[0m 86ms/step - loss: 0.0118 "
     ]
    },
    {
     "name": "stderr",
     "output_type": "stream",
     "text": [
      "[codecarbon INFO @ 17:04:12] Energy consumed for RAM : 0.000714 kWh. RAM Power : 5.732982158660889 W\n",
      "[codecarbon INFO @ 17:04:12] Energy consumed for all CPUs : 0.005315 kWh. Total CPU Power : 42.5 W\n",
      "[codecarbon INFO @ 17:04:12] Energy consumed for all GPUs : 0.000711 kWh. Total GPU Power : 4.9142839658200765 W\n",
      "[codecarbon INFO @ 17:04:12] 0.006740 kWh of electricity used since the beginning.\n"
     ]
    },
    {
     "name": "stdout",
     "output_type": "stream",
     "text": [
      "\u001b[1m17/17\u001b[0m \u001b[32m━━━━━━━━━━━━━━━━━━━━\u001b[0m\u001b[37m\u001b[0m \u001b[1m2s\u001b[0m 95ms/step - loss: 0.0119 - val_loss: 0.0101\n",
      "Epoch 272/300\n",
      "\u001b[1m17/17\u001b[0m \u001b[32m━━━━━━━━━━━━━━━━━━━━\u001b[0m\u001b[37m\u001b[0m \u001b[1m2s\u001b[0m 94ms/step - loss: 0.0117 - val_loss: 0.0103\n",
      "Epoch 273/300\n",
      "\u001b[1m17/17\u001b[0m \u001b[32m━━━━━━━━━━━━━━━━━━━━\u001b[0m\u001b[37m\u001b[0m \u001b[1m2s\u001b[0m 94ms/step - loss: 0.0123 - val_loss: 0.0103\n",
      "Epoch 274/300\n",
      "\u001b[1m17/17\u001b[0m \u001b[32m━━━━━━━━━━━━━━━━━━━━\u001b[0m\u001b[37m\u001b[0m \u001b[1m2s\u001b[0m 94ms/step - loss: 0.0126 - val_loss: 0.0099\n",
      "Epoch 275/300\n",
      "\u001b[1m17/17\u001b[0m \u001b[32m━━━━━━━━━━━━━━━━━━━━\u001b[0m\u001b[37m\u001b[0m \u001b[1m2s\u001b[0m 97ms/step - loss: 0.0124 - val_loss: 0.0116\n",
      "Epoch 276/300\n",
      "\u001b[1m17/17\u001b[0m \u001b[32m━━━━━━━━━━━━━━━━━━━━\u001b[0m\u001b[37m\u001b[0m \u001b[1m2s\u001b[0m 97ms/step - loss: 0.0118 - val_loss: 0.0097\n",
      "Epoch 277/300\n",
      "\u001b[1m17/17\u001b[0m \u001b[32m━━━━━━━━━━━━━━━━━━━━\u001b[0m\u001b[37m\u001b[0m \u001b[1m2s\u001b[0m 97ms/step - loss: 0.0114 - val_loss: 0.0103\n",
      "Epoch 278/300\n"
     ]
    },
    {
     "name": "stderr",
     "output_type": "stream",
     "text": [
      "[codecarbon INFO @ 17:04:22] Energy consumed for RAM : 0.000730 kWh. RAM Power : 5.732982158660889 W\n",
      "[codecarbon INFO @ 17:04:22] Energy consumed for all CPUs : 0.005434 kWh. Total CPU Power : 42.5 W\n"
     ]
    },
    {
     "name": "stdout",
     "output_type": "stream",
     "text": [
      "\u001b[1m 1/17\u001b[0m \u001b[32m━\u001b[0m\u001b[37m━━━━━━━━━━━━━━━━━━━\u001b[0m \u001b[1m2s\u001b[0m 127ms/step - loss: 0.0126"
     ]
    },
    {
     "name": "stderr",
     "output_type": "stream",
     "text": [
      "[codecarbon INFO @ 17:04:22] Energy consumed for all GPUs : 0.000727 kWh. Total GPU Power : 5.796029559794504 W\n",
      "[codecarbon INFO @ 17:04:22] 0.006890 kWh of electricity used since the beginning.\n"
     ]
    },
    {
     "name": "stdout",
     "output_type": "stream",
     "text": [
      "\u001b[1m17/17\u001b[0m \u001b[32m━━━━━━━━━━━━━━━━━━━━\u001b[0m\u001b[37m\u001b[0m \u001b[1m2s\u001b[0m 99ms/step - loss: 0.0121 - val_loss: 0.0094\n",
      "Epoch 279/300\n",
      "\u001b[1m17/17\u001b[0m \u001b[32m━━━━━━━━━━━━━━━━━━━━\u001b[0m\u001b[37m\u001b[0m \u001b[1m2s\u001b[0m 95ms/step - loss: 0.0115 - val_loss: 0.0096\n",
      "Epoch 280/300\n",
      "\u001b[1m17/17\u001b[0m \u001b[32m━━━━━━━━━━━━━━━━━━━━\u001b[0m\u001b[37m\u001b[0m \u001b[1m2s\u001b[0m 97ms/step - loss: 0.0110 - val_loss: 0.0095\n",
      "Epoch 281/300\n",
      "\u001b[1m17/17\u001b[0m \u001b[32m━━━━━━━━━━━━━━━━━━━━\u001b[0m\u001b[37m\u001b[0m \u001b[1m2s\u001b[0m 94ms/step - loss: 0.0112 - val_loss: 0.0103\n",
      "Epoch 282/300\n",
      "\u001b[1m17/17\u001b[0m \u001b[32m━━━━━━━━━━━━━━━━━━━━\u001b[0m\u001b[37m\u001b[0m \u001b[1m2s\u001b[0m 93ms/step - loss: 0.0117 - val_loss: 0.0100\n",
      "Epoch 283/300\n",
      "\u001b[1m17/17\u001b[0m \u001b[32m━━━━━━━━━━━━━━━━━━━━\u001b[0m\u001b[37m\u001b[0m \u001b[1m2s\u001b[0m 95ms/step - loss: 0.0118 - val_loss: 0.0117\n",
      "Epoch 284/300\n",
      "\u001b[1m 2/17\u001b[0m \u001b[32m━━\u001b[0m\u001b[37m━━━━━━━━━━━━━━━━━━\u001b[0m \u001b[1m1s\u001b[0m 89ms/step - loss: 0.0129 "
     ]
    },
    {
     "name": "stderr",
     "output_type": "stream",
     "text": [
      "[codecarbon INFO @ 17:04:32] Energy consumed for RAM : 0.000746 kWh. RAM Power : 5.732982158660889 W\n",
      "[codecarbon INFO @ 17:04:32] Energy consumed for all CPUs : 0.005552 kWh. Total CPU Power : 42.5 W\n",
      "[codecarbon INFO @ 17:04:32] Energy consumed for all GPUs : 0.000749 kWh. Total GPU Power : 8.11479415329756 W\n",
      "[codecarbon INFO @ 17:04:32] 0.007047 kWh of electricity used since the beginning.\n"
     ]
    },
    {
     "name": "stdout",
     "output_type": "stream",
     "text": [
      "\u001b[1m17/17\u001b[0m \u001b[32m━━━━━━━━━━━━━━━━━━━━\u001b[0m\u001b[37m\u001b[0m \u001b[1m2s\u001b[0m 93ms/step - loss: 0.0121 - val_loss: 0.0110\n",
      "Epoch 285/300\n",
      "\u001b[1m17/17\u001b[0m \u001b[32m━━━━━━━━━━━━━━━━━━━━\u001b[0m\u001b[37m\u001b[0m \u001b[1m2s\u001b[0m 93ms/step - loss: 0.0116 - val_loss: 0.0108\n",
      "Epoch 286/300\n",
      "\u001b[1m17/17\u001b[0m \u001b[32m━━━━━━━━━━━━━━━━━━━━\u001b[0m\u001b[37m\u001b[0m \u001b[1m2s\u001b[0m 94ms/step - loss: 0.0114 - val_loss: 0.0104\n",
      "Epoch 287/300\n",
      "\u001b[1m17/17\u001b[0m \u001b[32m━━━━━━━━━━━━━━━━━━━━\u001b[0m\u001b[37m\u001b[0m \u001b[1m2s\u001b[0m 101ms/step - loss: 0.0110 - val_loss: 0.0089\n",
      "Epoch 288/300\n",
      "\u001b[1m17/17\u001b[0m \u001b[32m━━━━━━━━━━━━━━━━━━━━\u001b[0m\u001b[37m\u001b[0m \u001b[1m2s\u001b[0m 94ms/step - loss: 0.0104 - val_loss: 0.0094\n",
      "Epoch 289/300\n",
      "\u001b[1m17/17\u001b[0m \u001b[32m━━━━━━━━━━━━━━━━━━━━\u001b[0m\u001b[37m\u001b[0m \u001b[1m2s\u001b[0m 94ms/step - loss: 0.0107 - val_loss: 0.0095\n",
      "Epoch 290/300\n",
      "\u001b[1m 4/17\u001b[0m \u001b[32m━━━━\u001b[0m\u001b[37m━━━━━━━━━━━━━━━━\u001b[0m \u001b[1m1s\u001b[0m 84ms/step - loss: 0.0104 "
     ]
    },
    {
     "name": "stderr",
     "output_type": "stream",
     "text": [
      "[codecarbon INFO @ 17:04:42] Energy consumed for RAM : 0.000761 kWh. RAM Power : 5.732982158660889 W\n",
      "[codecarbon INFO @ 17:04:42] Energy consumed for all CPUs : 0.005670 kWh. Total CPU Power : 42.5 W\n"
     ]
    },
    {
     "name": "stdout",
     "output_type": "stream",
     "text": [
      "\u001b[1m 5/17\u001b[0m \u001b[32m━━━━━\u001b[0m\u001b[37m━━━━━━━━━━━━━━━\u001b[0m \u001b[1m1s\u001b[0m 87ms/step - loss: 0.0104"
     ]
    },
    {
     "name": "stderr",
     "output_type": "stream",
     "text": [
      "[codecarbon INFO @ 17:04:42] Energy consumed for all GPUs : 0.000758 kWh. Total GPU Power : 3.217831879078188 W\n",
      "[codecarbon INFO @ 17:04:42] 0.007190 kWh of electricity used since the beginning.\n"
     ]
    },
    {
     "name": "stdout",
     "output_type": "stream",
     "text": [
      "\u001b[1m 7/17\u001b[0m \u001b[32m━━━━━━━━\u001b[0m\u001b[37m━━━━━━━━━━━━\u001b[0m \u001b[1m0s\u001b[0m 87ms/step - loss: 0.0105"
     ]
    },
    {
     "name": "stderr",
     "output_type": "stream",
     "text": [
      "[codecarbon INFO @ 17:04:42] 0.000324 g.CO2eq/s mean an estimation of 10.232845577690911 kg.CO2eq/year\n"
     ]
    },
    {
     "name": "stdout",
     "output_type": "stream",
     "text": [
      "\u001b[1m17/17\u001b[0m \u001b[32m━━━━━━━━━━━━━━━━━━━━\u001b[0m\u001b[37m\u001b[0m \u001b[1m2s\u001b[0m 94ms/step - loss: 0.0105 - val_loss: 0.0093\n",
      "Epoch 291/300\n",
      "\u001b[1m17/17\u001b[0m \u001b[32m━━━━━━━━━━━━━━━━━━━━\u001b[0m\u001b[37m\u001b[0m \u001b[1m2s\u001b[0m 93ms/step - loss: 0.0100 - val_loss: 0.0092\n",
      "Epoch 292/300\n",
      "\u001b[1m17/17\u001b[0m \u001b[32m━━━━━━━━━━━━━━━━━━━━\u001b[0m\u001b[37m\u001b[0m \u001b[1m2s\u001b[0m 94ms/step - loss: 0.0099 - val_loss: 0.0092\n",
      "Epoch 293/300\n",
      "\u001b[1m17/17\u001b[0m \u001b[32m━━━━━━━━━━━━━━━━━━━━\u001b[0m\u001b[37m\u001b[0m \u001b[1m2s\u001b[0m 94ms/step - loss: 0.0098 - val_loss: 0.0090\n",
      "Epoch 294/300\n",
      "\u001b[1m17/17\u001b[0m \u001b[32m━━━━━━━━━━━━━━━━━━━━\u001b[0m\u001b[37m\u001b[0m \u001b[1m2s\u001b[0m 96ms/step - loss: 0.0097 - val_loss: 0.0088\n",
      "Epoch 295/300\n",
      "\u001b[1m17/17\u001b[0m \u001b[32m━━━━━━━━━━━━━━━━━━━━\u001b[0m\u001b[37m\u001b[0m \u001b[1m2s\u001b[0m 95ms/step - loss: 0.0096 - val_loss: 0.0093\n",
      "Epoch 296/300\n",
      "\u001b[1m 7/17\u001b[0m \u001b[32m━━━━━━━━\u001b[0m\u001b[37m━━━━━━━━━━━━\u001b[0m \u001b[1m0s\u001b[0m 84ms/step - loss: 0.0096 "
     ]
    },
    {
     "name": "stderr",
     "output_type": "stream",
     "text": [
      "[codecarbon INFO @ 17:04:52] Energy consumed for RAM : 0.000777 kWh. RAM Power : 5.732982158660889 W\n"
     ]
    },
    {
     "name": "stdout",
     "output_type": "stream",
     "text": [
      "\u001b[1m 8/17\u001b[0m \u001b[32m━━━━━━━━━\u001b[0m\u001b[37m━━━━━━━━━━━\u001b[0m \u001b[1m0s\u001b[0m 86ms/step - loss: 0.0096"
     ]
    },
    {
     "name": "stderr",
     "output_type": "stream",
     "text": [
      "[codecarbon INFO @ 17:04:52] Energy consumed for all CPUs : 0.005788 kWh. Total CPU Power : 42.5 W\n",
      "[codecarbon INFO @ 17:04:52] Energy consumed for all GPUs : 0.000768 kWh. Total GPU Power : 3.4290127233169754 W\n",
      "[codecarbon INFO @ 17:04:52] 0.007333 kWh of electricity used since the beginning.\n"
     ]
    },
    {
     "name": "stdout",
     "output_type": "stream",
     "text": [
      "\u001b[1m17/17\u001b[0m \u001b[32m━━━━━━━━━━━━━━━━━━━━\u001b[0m\u001b[37m\u001b[0m \u001b[1m2s\u001b[0m 94ms/step - loss: 0.0097 - val_loss: 0.0091\n",
      "Epoch 297/300\n",
      "\u001b[1m17/17\u001b[0m \u001b[32m━━━━━━━━━━━━━━━━━━━━\u001b[0m\u001b[37m\u001b[0m \u001b[1m2s\u001b[0m 94ms/step - loss: 0.0099 - val_loss: 0.0089\n",
      "Epoch 298/300\n",
      "\u001b[1m17/17\u001b[0m \u001b[32m━━━━━━━━━━━━━━━━━━━━\u001b[0m\u001b[37m\u001b[0m \u001b[1m2s\u001b[0m 100ms/step - loss: 0.0097 - val_loss: 0.0093\n",
      "Epoch 299/300\n",
      "\u001b[1m17/17\u001b[0m \u001b[32m━━━━━━━━━━━━━━━━━━━━\u001b[0m\u001b[37m\u001b[0m \u001b[1m2s\u001b[0m 95ms/step - loss: 0.0103 - val_loss: 0.0087\n",
      "Epoch 300/300\n",
      "\u001b[1m17/17\u001b[0m \u001b[32m━━━━━━━━━━━━━━━━━━━━\u001b[0m\u001b[37m\u001b[0m \u001b[1m2s\u001b[0m 99ms/step - loss: 0.0106 - val_loss: 0.0106\n"
     ]
    },
    {
     "name": "stderr",
     "output_type": "stream",
     "text": [
      "[codecarbon INFO @ 17:04:59] Energy consumed for RAM : 0.000789 kWh. RAM Power : 5.732982158660889 W\n",
      "[codecarbon INFO @ 17:04:59] Energy consumed for all CPUs : 0.005877 kWh. Total CPU Power : 42.5 W\n",
      "[codecarbon INFO @ 17:04:59] Energy consumed for all GPUs : 0.000789 kWh. Total GPU Power : 10.196999724278902 W\n",
      "[codecarbon INFO @ 17:04:59] 0.007455 kWh of electricity used since the beginning.\n"
     ]
    }
   ],
   "source": [
    "tracker_conv_lstm.start()\n",
    "try:\n",
    "    history_conv_lstm, training_duration_conv_lstm = start_training_conv_lstm()\n",
    "finally:\n",
    "    tracker_conv_lstm.stop()"
   ]
  },
  {
   "cell_type": "markdown",
   "id": "2cc986f0-59cb-406e-bf20-620c9356725c",
   "metadata": {},
   "source": [
    "#### Ploting the loss"
   ]
  },
  {
   "cell_type": "code",
   "execution_count": 21,
   "id": "5e629435-8092-46ec-9073-2c952de29b36",
   "metadata": {},
   "outputs": [
    {
     "data": {
      "image/png": "[encoded data removed]",
      "text/plain": [
       "<Figure size 2000x800 with 1 Axes>"
      ]
     },
     "metadata": {},
     "output_type": "display_data"
    }
   ],
   "source": [
    "plot_loss(history_conv_lstm)"
   ]
  },
  {
   "cell_type": "code",
   "execution_count": 22,
   "id": "5b30f12f-7690-4d97-bb47-2d4ab15f7b61",
   "metadata": {},
   "outputs": [
    {
     "name": "stdout",
     "output_type": "stream",
     "text": [
      "\u001b[1m34/34\u001b[0m \u001b[32m━━━━━━━━━━━━━━━━━━━━\u001b[0m\u001b[37m\u001b[0m \u001b[1m1s\u001b[0m 24ms/step  \n"
     ]
    },
    {
     "data": {
      "text/plain": [
       "{'mae': np.float32(0.0070321863),\n",
       " 'mse': np.float32(0.00011390366),\n",
       " 'r2': 0.898215115070343}"
      ]
     },
     "execution_count": 22,
     "metadata": {},
     "output_type": "execute_result"
    }
   ],
   "source": [
    "conv_lstm_model = tf.keras.models.load_model(\n",
    "    \"model_experiments/model_conv_lstm.keras\")\n",
    "\n",
    "model_preds = make_preds(conv_lstm_model, x_test_conv_lstm)\n",
    "model_results = evaluate_preds(y_true=tf.squeeze(y_test),\n",
    "                               y_pred=model_preds)\n",
    "\n",
    "model_results"
   ]
  },
  {
   "cell_type": "markdown",
   "id": "49564177-2a5b-4e3e-9e4d-cdfea775bb62",
   "metadata": {},
   "source": [
    "#### Plot predictions"
   ]
  },
  {
   "cell_type": "code",
   "execution_count": 23,
   "id": "252095b0-23c1-4b8d-9f9f-38fbc0e32ce3",
   "metadata": {},
   "outputs": [
    {
     "data": {
      "image/png": "[encoded data removed]",
      "text/plain": [
       "<Figure size 2000x1600 with 1 Axes>"
      ]
     },
     "metadata": {},
     "output_type": "display_data"
    }
   ],
   "source": [
    "import numpy as np\n",
    "\n",
    "start_offset = 1\n",
    "end_offset = 30\n",
    "plt.figure(figsize=(20, 16))\n",
    "\n",
    "\n",
    "plot_time_series(\n",
    "    timesteps=np.arange(x_test.shape[0]),\n",
    "    values=y_test,\n",
    "    start=start_offset,\n",
    "    end=end_offset,\n",
    "    format='-*',\n",
    "    label=\"Test data\"\n",
    ")\n",
    "\n",
    "plot_time_series(\n",
    "    timesteps=np.arange(x_test.shape[0]),\n",
    "    values=model_preds,\n",
    "    start=start_offset,\n",
    "    end=end_offset,\n",
    "    format=\"-\",\n",
    "    label=\"ConvLSTM predictions\"\n",
    ")"
   ]
  },
  {
   "cell_type": "code",
   "execution_count": null,
   "id": "5558a212-28bc-4211-b068-ceeba7d7b8b2",
   "metadata": {},
   "outputs": [],
   "source": []
  }
 ],
 "metadata": {
  "kernelspec": {
   "display_name": "Python 3 (ipykernel)",
   "language": "python",
   "name": "python3"
  },
  "language_info": {
   "codemirror_mode": {
    "name": "ipython",
    "version": 3
   },
   "file_extension": ".py",
   "mimetype": "text/x-python",
   "name": "python",
   "nbconvert_exporter": "python",
   "pygments_lexer": "ipython3",
   "version": "3.12.3"
  }
 },
 "nbformat": 4,
 "nbformat_minor": 5
}
